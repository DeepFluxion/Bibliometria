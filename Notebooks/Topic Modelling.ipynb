{
 "cells": [
  {
   "cell_type": "markdown",
   "metadata": {
    "slideshow": {
     "slide_type": "slide"
    }
   },
   "source": [
    "# Modelagem de Tópicos\n",
    "\n",
    "Traduzido de Intuitive Guide to Latent Dirichlet Allocation Thushan Ganegedara (2018) disponível [nete link ](https://towardsdatascience.com/light-on-math-machine-learning-intuitive-guide-to-latent-dirichlet-allocation-437c81220158)\n"
   ]
  },
  {
   "cell_type": "markdown",
   "metadata": {
    "slideshow": {
     "slide_type": "slide"
    }
   },
   "source": [
    "# A intuição por trás da Alocação de Dirichlet Latente (LDA)\n",
    "\n",
    "A modelagem de tópicos refere-se à tarefa de identificar os tópicos que melhor descrevem um conjunto de documentos. \n",
    "Esses tópicos só surgirão durante o processo de modelagem de tópicos (portanto, chamados de latentes). \n",
    "E uma técnica popular de modelagem de tópicos é conhecida como Latent Dirichlet Allocation (LDA). Embora o nome seja um bocado complicado, o conceito por trás disso é muito simples.\n",
    "Para falar brevemente, LDA imagine um conjunto fixo de tópicos. \n",
    "Cada tópico representa um conjunto de palavras. \n",
    "E o objetivo do LDA é mapear todos os documentos para os tópicos de forma que as palavras em cada documento sejam capturadas principalmente por esses tópicos imaginários.\n",
    "Iremos sistematicamente passar por esse método no final, de forma que você se sinta confortável o suficiente para usá-lo por conta própria."
   ]
  },
  {
   "cell_type": "markdown",
   "metadata": {
    "slideshow": {
     "slide_type": "slide"
    }
   },
   "source": [
    "# Por que modelagem de tópicos?\n",
    "Quais são alguns dos usos do mundo real que a modelagem de tópicos tem?   \n",
    "Os historiadores podem usar o LDA para identificar eventos importantes na história, analisando o texto com base no ano.  \n",
    "Bibliotecas baseadas na web podem usar LDA para recomendar livros com base em suas leituras anteriores.   \n",
    "Os provedores de notícias podem usar a modelagem de tópicos para entender artigos rapidamente ou agrupar artigos semelhantes.   \n",
    "Outra aplicação interessante é o agrupamento não supervisionado de imagens, em que cada imagem é tratada como um documento.   "
   ]
  },
  {
   "cell_type": "markdown",
   "metadata": {
    "slideshow": {
     "slide_type": "slide"
    }
   },
   "source": [
    "# Qual é a grande ideia por trás do LDA?\n",
    "Depois de entender a grande ideia, acho que ajuda a entender por que a mecânica em LDA é do jeito que é. Então aqui vai;\n",
    "\n",
    "> **Cada documento pode ser descrito por uma distribuição de tópicos e cada tópico pode ser descrito por uma distribuição de palavras**\n",
    "\n",
    "Mas por que usamos essa ideia? Vamos imaginar isso por meio de um exemplo."
   ]
  },
  {
   "cell_type": "markdown",
   "metadata": {
    "slideshow": {
     "slide_type": "slide"
    }
   },
   "source": [
    "# LDA em termos leigos\n",
    "Digamos que você tenha um conjunto de 1000 palavras (ou seja, as 1000 palavras mais comuns encontradas em todos os documentos) e 1000 documentos.   \n",
    "Suponha que cada documento tenha, em média, 500 dessas palavras aparecendo em cada um.   \n",
    "Como você pode entender a qual categoria cada documento pertence?   \n",
    "Uma maneira é conectar cada documento a cada palavra por um fio com base em sua aparência no documento. Algo como abaixo.\n",
    "![](https://miro.medium.com/max/875/1*QQTk2TGyzhakGh0lZ9P03w.jpeg)\n",
    "E então quando você vê que alguns documentos estão conectados ao mesmo conjunto de palavras.   \n",
    "Você sabe que eles discutem o mesmo assunto.   \n",
    "Então você pode ler um desses documentos e saber do que falam todos esses documentos.   \n",
    "Mas para fazer isso você não tem fios suficientes.   \n",
    "Você vai precisar de cerca de 500 * 1000 = 500.000 fios para isso.   \n",
    "Mas estamos vivendo em 2100 e exaurimos todos os recursos para a fabricação de fios, então eles são tão caros e você só pode pagar 10.000 fios. Como você pode resolver esse problema?"
   ]
  },
  {
   "cell_type": "markdown",
   "metadata": {
    "slideshow": {
     "slide_type": "slide"
    }
   },
   "source": [
    "# Vamos mais fundo para reduzir os tópicos!\n",
    "Podemos resolver esse problema, introduzindo uma camada latente (ou seja, oculta). Digamos que saibamos 10 tópicos / temas que ocorrem ao longo dos documentos.   \n",
    "Mas esses tópicos não são observados, nós apenas observamos palavras e documentos, portanto, os tópicos estão latentes.   \n",
    "E queremos utilizar essas informações para reduzir o número de fios.   \n",
    "Então o que você pode fazer é conectar as palavras aos tópicos dependendo de quão bem aquela palavra se enquadra naquele tópico e então conectar os tópicos aos documentos com base em quais tópicos cada documento aborda.\n",
    "Agora, digamos que você tenha cada documento com cerca de 5 tópicos e cada tópico relacionado a 500 palavras. Ou seja, precisamos de 1000 * 5 fios para conectar documentos a tópicos e 10 * 500 fios para conectar tópicos a palavras, totalizando 10.000.\n",
    "![](https://miro.medium.com/max/875/1*2uj6t3gNv76SpHrWf5-z-A.jpeg)\n",
    "\n",
    "Nota: Os tópicos que utilizamos aqui (“Animais”, “Esportes”, “Tecnologia”) são imaginários.   \n",
    "Na solução real, você não terá esses tópicos, mas algo como (0,3 * Gatos, 0,4 * Cães, 0,2 * Leal, 0,1 * Mal) representando o tópico “Animais”.   \n",
    "Ou seja, como mencionado antes, cada documento é uma distribuição de palavras."
   ]
  },
  {
   "cell_type": "markdown",
   "metadata": {
    "slideshow": {
     "slide_type": "slide"
    }
   },
   "source": [
    "# Uma visão diferente: como os documentos são gerados de acordo com a LDA ?\n",
    "\n",
    "Para dar mais contexto ao que está acontecendo, o LDA assume que o seguinte processo gerador está por trás de qualquer documento que você vê. Para simplificar, vamos supor que estamos gerando um único documento com 5 palavras.   \n",
    "\n",
    "Mas o mesmo processo pode ser generalizado para M documentos com N palavras em cada um. Como um documento é gerado?\n",
    "> Primeiro $\\alpha$ (alfa) organize a base $\\theta$ (theta) e então você vai e pega uma bola de $\\theta$. \n",
    "Com base no que você escolhe, você é enviado a uma base  $\\beta$ (beta). $\\beta$ é organizado por $\\eta$ (Eta). \n",
    "Agora você escolhe uma palavra de $\\beta$ e a coloca no documento. \n",
    "Você itera este processo 5 vezes para obter 5 palavras.\n",
    "\n",
    "![](https://miro.medium.com/max/875/1*fCc0JT3W-1ViYyw0hJ7rdA.jpeg)\n",
    "\n",
    "Esta imagem é uma representação da aparência de um sistema LDA já aprendido. Mas, para chegar a esse estágio, você precisa responder a várias perguntas, como:  \n",
    "- Como sabemos quantos tópicos existem nos documentos?\n",
    "- Vejam que já temos uma bela estrutura no terreno que nos ajuda a gerar documentos sensíveis, pois os organizadores têm garantido o correto desenho do terreno. Como encontramos organizadores tão bons?\n",
    "Isso será respondido mais a frente.   \n",
    "Além disso, vamos ficar um pouco mais técnicos deste ponto em diante. Então aperte o cinto!\n",
    "Nota: LDA não se importa com a ordem das palavras no documento. Normalmente, o LDA usa a representação de recurso de [Bag of Words](https://en.wikipedia.org/wiki/Bag-of-words_model)  para representar um documento.  \n",
    "Faz sentido, porque, se eu pegar um documento, misturar as palavras e entregá-lo a você, você ainda pode adivinhar que tipo de tópicos são discutidos no documento."
   ]
  },
  {
   "cell_type": "markdown",
   "metadata": {
    "slideshow": {
     "slide_type": "slide"
    }
   },
   "source": [
    "# Ficando um pouco matemático ...\n",
    "Antes de mergulhar nos detalhes. Vamos esclarecer algumas coisas, como notações e definições.\n",
    "## Definições e notações\n",
    "- k - Número de tópicos aos quais um documento pertence (um número fixo)\n",
    "- V - Tamanho do vocabulário\n",
    "- M - Número de documentos\n",
    "- N - Número de palavras em cada documento\n",
    "- w - Uma palavra em um documento. Isso é representado como um vetor codificado a quente de tamanho V (ou seja, V - tamanho do vocabulário)\n",
    "- w (negrito w): representa um documento (ou seja, vetor de \"w\" s) de N palavras\n",
    "- D - Corpus, uma coleção de documentos M\n",
    "- z - Um tópico de um conjunto de k tópicos. Um tópico é uma distribuição de palavras. Por exemplo, pode ser Animal = (0,3 gatos, 0,4 cães, 0 AI, 0,2 Loyal, 0,1 Evil)\n",
    "\n",
    "## Definindo a geração de documentos de maneira mais matemática\n",
    "Primeiro, vamos colocar o exemplo baseado na intuição sobre a geração de documentos acima, para um desenho matemático adequado.\n",
    "\n",
    "![Modelo gráfico do LDA.](https://miro.medium.com/max/875/1*WGsNq9tjIwhGMCEthvAmVw.jpeg)\n",
    "\n",
    "Aqui são marcadas as formas de todas as variáveis possíveis (tanto observadas como ocultas). Mas lembre-se de que , z e $\\beta$ são distribuições, não valores determinísticos\n",
    "\n",
    "Vamos decifrar o que isso está dizendo. Temos um único valor $\\alpha$ (ou seja, organizador $\\theta$) que define $\\theta$; a distribuição de tópicos para documentos será parecida. Temos documentos M e alguma distribuição θ para cada um desses documentos. \n",
    "\n",
    "Agora, para entender as coisas com mais clareza, aperte os olhos e faça aquela placa M desaparecer (supondo que haja apenas um único documento), woosh!\n",
    "\n",
    "Agora esse único documento tem N palavras e cada palavra é gerada por um tópico. Você gera N tópicos para serem preenchidos com palavras. Essas N palavras ainda são espaços reservados.\n",
    "\n",
    "Com base em $\\eta$, $\\beta$ tem alguma distribuição (ou seja, uma distribuição de Dirichlet para ser mais preciso - discutida em breve) e de acordo com essa distribuição, $\\beta$ gera k palavras individuais para cada tópico. \n",
    "\n",
    "Agora você preenche uma palavra para cada espaço reservado (no conjunto de N espaços reservados), condicionado ao tópico que ele representa.\n",
    "Ao final, você tem um documento com N palavras agora!\n",
    "## Por que $\\alpha$ e $\\eta$ são constantes?\n",
    "$\\alpha$ e $\\eta$ são mostrados como constantes na imagem acima. \n",
    "Mas na verdade é mais complexo do que isso. Por exemplo, α tem uma distribuição de tópicos para cada documento ($\\theta$ base para cada documento). \n",
    "Idealmente, uma matriz de forma (M x K). E $\\eta$ tem um vetor de parâmetros para cada tópico. $\\eta$ terá forma (k x V). \n",
    "\n",
    "No desenho acima, as constantes representam realmente matrizes e são formadas pela replicação do valor único na matriz para cada célula.\n",
    "\n",
    "## Vamos entender $\\theta$ e $\\beta$ em mais detalhes\n",
    "$\\theta$ é uma matriz aleatória, onde $\\theta_{i, j}$ representa a probabilidade do $i$-ésimo documento conter palavras pertencentes ao $j$-ésimo tópico.   \n",
    "Se você der uma olhada na aparência de $\\theta\\ no exemplo acima, verá que as bolas estão bem dispostas nos cantos, não muito no meio.   \n",
    "A vantagem de ter essa propriedade é que as palavras que produzimos provavelmente pertencem a um único tópico, como normalmente acontece com documentos do mundo real.   \n",
    "Esta é uma propriedade que surge modelando $\\theta$ como uma distribuição de Dirichlet. \n",
    "\n",
    "Similarmente, $\\beta_{i, j}$ representa a probabilidade do $i$-ésimo tópico conter a $j$-ésima palavra. E $\\beta$ também é uma distribuição de Dirichlet. Abaixo, estou fornecendo um rápido desvio para entender a distribuição de Dirichlet.\n",
    "Desvio rápido: Compreendendo a distribuição de Dirichlet\n",
    "\n",
    "A distribuição de Dirichlet é a generalização multivariada da distribuição Beta. \n",
    "\n",
    "Aqui, discutimos um exemplo de um problema tridimensional, onde temos 3 parâmetros em α que afetam a forma de $\\theta$ (ou seja, distribuição). \n",
    "\n",
    "Para uma distribuição de Dirichlet N-dimensional, você tem um vetor de comprimento N como $\\alpha$. \n",
    "\n",
    "Você pode ver como a forma de $\\theta$ muda com diferentes valores de α. Por exemplo, você pode ver como o gráfico superior central mostra uma forma semelhante $\\theta$.\n",
    "A lição principal é a seguinte:\n",
    "\n",
    ">Valores de $\\alpha$ grandes empurram a distribuição para o meio do triângulo, onde valores de α menores empurram a distribuição para os cantos.\n",
    "\n",
    "![](https://miro.medium.com/max/875/1*3oOHy1tUfUT9Z379Alb9nA.png)"
   ]
  },
  {
   "cell_type": "markdown",
   "metadata": {
    "slideshow": {
     "slide_type": "slide"
    }
   },
   "source": [
    "# Como aprendemos o LDA?\n",
    "Ainda não respondemos. O problema real é: como sabemos os valores exatos de α e η? Antes disso, deixe-me listar a variável latente (oculta) que precisamos encontrar.\n",
    "- α - Parâmetro relacionado à distribuição que rege como é a distribuição de tópicos para todos os documentos do corpus\n",
    "- θ - Matriz aleatória onde θ (i, j) representa a probabilidade do iº documento conter o j ésimo tópico\n",
    "- η - Parâmetro relacionado à distribuição que governa a aparência da distribuição de palavras em cada tópico\n",
    "- β - Uma matriz aleatória onde β (i, j) representa a probabilidade do i ésimo tópico conter a j ésima palavra.\n",
    "# Formulando o que precisamos aprender\n",
    "Se devo declarar matematicamente o que estou interessado em descobrir, é o seguinte:\n",
    "$$\n",
    "P(\\theta_{1:M},z_{1:M},\\beta_{1:k}\\mid \\mathcal{D}; \\alpha_{1:M}, \\eta_{1:k}\n",
    "$$\n",
    "Parece assustador, mas contém uma mensagem simples. Isso basicamente quer dizer,\n",
    "Eu tenho um conjunto de M documentos, cada documento tendo N palavras, onde cada palavra é gerada por um único tópico de um conjunto de K tópicos. Estou procurando a probabilidade posterior conjunta de:\n",
    "- $\\theta$ - Uma distribuição de tópicos, um para cada documento,\n",
    "- $z$ - N tópicos para cada documento,\n",
    "- $\\theta$ - Uma distribuição de palavras, uma para cada tópico,\n",
    "dado,\n",
    "- $\\mathcal{D}$ - Todos os dados que temos (ou seja, os corups), e usando parâmetros,\n",
    "- $\\alpha$ - Um vetor de parâmetro para cada documento (documento - Distribuição de tópicos)\n",
    "- $\\eta$ - Um vetor de parâmetro para cada tópico (tópico - distribuição de palavras)\n",
    "Mas não podemos calcular isso muito bem, pois essa entidade é intratável. Sow como vamos resolver isso?"
   ]
  },
  {
   "cell_type": "markdown",
   "metadata": {},
   "source": [
    "$$\n",
    "P(\\theta_{1:M},z_{1:M},\\beta_{1:k}\\mid \\mathcal{D}; \\alpha_{1:M}, \\eta_{1:k}\n",
    "$$"
   ]
  },
  {
   "cell_type": "markdown",
   "metadata": {},
   "source": [
    "![](https://miro.medium.com/max/875/1*llcMrijX1Ln3-B3_rK4gDA.png)"
   ]
  },
  {
   "cell_type": "markdown",
   "metadata": {},
   "source": []
  },
  {
   "cell_type": "markdown",
   "metadata": {},
   "source": [
    "\n",
    "# Como faço para resolver isso? Inferência variacional para o resgate\n",
    "\n",
    "Existem muitas maneiras de resolver isso. Mas vomos nos concentrar na inferência variacional. \n",
    "\n",
    "A probabilidade que discutimos acima é um posterior intratável muito confuso (o que significa que não podemos calcular isso no papel e ter boas equações).  \n",
    "\n",
    "Então, vamos aproximar isso com alguma distribuição de probabilidade conhecida que se aproxima muito do posterior verdadeiro. Essa é a ideia por trás da inferência variacional.\n",
    "\n",
    "A maneira de fazer isso é minimizar a divergência KL entre a aproximação e a posterior verdadeira como um problema de otimização. Mais uma vez, não vou entrar em detalhes, pois isso está fora do escopo.\n",
    "Mas vamos dar uma olhada rápida no problema de otimização\n",
    "$$\n",
    "\\gamma^{*},\\phi^{*},\\lambda^{*}= argmin_{\\gamma, \\phi, \\lambda}\\mathcal{D}(\\theta,z,\\beta\\mid\\gamma,\\phi,\\lambda)\\mid\\mid p(\\mathcal{D}\\alpha,\\eta)\n",
    "$$\n",
    "$\\gamma, \\phi, \\lambda$ representam os parâmetros variacionais livres com os quais aproximamos $\\theta,z e\\beta$, respectivamente. Aqui, D (q || p) representa a divergência KL entre q e p. \n",
    "\n",
    "E mudando γ, ϕ e λ, obtemos diferentes distribuições de q com diferentes distâncias do verdadeiro p posterior. Nosso objetivo é encontrar os γ *, ϕ * e λ * que minimizam a divergência KL entre a aproximação q e o verdadeiro p posterior.\n",
    "\n",
    "Com tudo bem definido, é apenas uma questão de resolver iterativamente o problema de otimização acima até que a solução convirja. Depois de ter γ *, ϕ * e λ *, você terá tudo o que precisa no modelo LDA final."
   ]
  },
  {
   "cell_type": "markdown",
   "metadata": {},
   "source": [
    "Discutimos sobre a Alocação de Dirichlet latente (LDA). LDA é um método poderoso que permite identificar tópicos dentro dos documentos e mapear documentos para esses tópicos. \n",
    "\n",
    "O LDA tem muitos usos, como recomendar livros aos clientes.\n",
    "\n",
    "Vimos como o LDA funciona com um exemplo de fios de conexão. \n",
    "\n",
    "Então vimos uma perspectiva diferente com base em como o LDA imagina que um documento é gerado.  \n",
    "\n",
    "Finalmente, entramos no treinamento do modelo. Neste, discutimos uma quantidade significativa de matemática por trás do LDA, mantendo a matemática leve. \n",
    "\n",
    "Vimos como é uma distribuição de Dirichlet, qual é a distribuição de probabilidade que estamos interessados ​​em encontrar (ou seja, posterior) e como resolvemos isso usando inferência variacional.\n",
    "\n",
    "##  Referências\n",
    "Aqui estão algumas referências úteis para entender o LDA se algo não estava claro.\n",
    "[Artigo original do Prof. David Blei](http://www.jmlr.org/papers/volume3/blei03a/blei03a.pdf)\n",
    "[Um vídeo intuitivo que explica a ideia básica por trás da LDA](https://www.youtube.com/watch?v=3mHy4OSyRf0&t=1058s)\n",
    "[Palestra do Prof. David Blei](https://www.youtube.com/watch?v=FkckgwMHP2s&t=1086s)"
   ]
  },
  {
   "cell_type": "markdown",
   "metadata": {
    "slideshow": {
     "slide_type": "slide"
    }
   },
   "source": [
    "# Modelagem de tópico nos R\n",
    "\n",
    "Traduzido do Cápitulo 5 de Text Mining with R! de Silge e Robinson (2020) disponívek [neste link](https://www.tidytextmining.com/topicmodeling.html)\n",
    "\n",
    "Na mineração de texto, geralmente temos coleções de documentos, como postagens de blogs ou artigos de notícias, que gostaríamos de dividir em grupos naturais para que possamos entendê-los separadamente. \n",
    "\n",
    "A modelagem de tópicos é um método para classificação não supervisionada de tais documentos, semelhante ao agrupamento em dados numéricos, que encontra grupos naturais de itens mesmo quando não temos certeza do que estamos procurando.\n",
    "\n",
    "A Alocação de Dirichlet Latente (LDA) é um método particularmente popular para ajustar um modelo de tópico. \n",
    "\n",
    "Ele trata cada documento como uma mistura de tópicos e cada tópico como uma mistura de palavras. Isso permite que os documentos se \"sobreponham\" em termos de conteúdo, em vez de serem separados em grupos distintos, de uma forma que espelha o uso típico da linguagem natural."
   ]
  },
  {
   "cell_type": "markdown",
   "metadata": {
    "slideshow": {
     "slide_type": "slide"
    }
   },
   "source": [
    "Como mostra a Figura abaixo, podemos usar princípios de texto organizados para abordar a modelagem de tópicos com o mesmo conjunto de ferramentas organizadas que usamos ao longo deste livro. \n",
    "\n",
    "![](https://www.tidytextmining.com/images/tmwr_0601.png)\n",
    "\n",
    "Aprenderemos a trabalhar com objetos `LDA` do [pacote topicmodels] (https://cran.r-project.org/package=topicmodels), especialmente organizando tais modelos para que possam ser manipulados com ggplot2 e dplyr. \n",
    "\n",
    "Também exploraremos um exemplo de agrupamento de capítulos de vários livros, onde podemos ver que um modelo de tópico \"aprende\" a dizer a diferença entre os quatro livros com base no conteúdo do texto."
   ]
  },
  {
   "cell_type": "markdown",
   "metadata": {
    "slideshow": {
     "slide_type": "slide"
    }
   },
   "source": [
    "## Alocação de Dirichlet Latente\n",
    "\n",
    "A Alocação Latente de Dirichlet é um dos algoritmos mais comuns para modelagem de tópicos. Sem mergulhar na matemática por trás do modelo, podemos entendê-lo como sendo guiado por dois princípios.\n",
    "\n",
    "* ** Cada documento é uma mistura de tópicos. ** Imaginamos que cada documento pode conter palavras de vários tópicos em proporções particulares. Por exemplo, em um modelo de dois tópicos, poderíamos dizer \"Documento 1 é 90% tópico A e 10% tópico B, enquanto o Documento 2 é 30% tópico A e 70% tópico B.\"\n",
    "\n",
    "* ** Cada tópico é uma mistura de palavras. ** Por exemplo, poderíamos imaginar um modelo de dois tópicos de notícias americanas, com um tópico para \"política\" e outro para \"entretenimento\". As palavras mais comuns no tópico de política podem ser \"Presidente\", \"Congresso\" e \"governo\", enquanto o tópico de entretenimento pode ser composto por palavras como \"filmes\", \"televisão\" e \"ator\". É importante ressaltar que as palavras podem ser compartilhadas entre os tópicos; uma palavra como \"orçamento\" pode aparecer em ambos igualmente.\n",
    "\n",
    "LDA é um método matemático para estimar ambos ao mesmo tempo: encontrar a mistura de palavras que está associada a cada tópico, enquanto também determina a mistura de tópicos que descreve cada documento. Existem várias implementações desse algoritmo e vamos explorar uma delas em profundidade.\n",
    "\n",
    "Vamos usar o conjunto de dados `AssociatedPress` fornecido pelo pacote topicmodels, como um exemplo de DocumentTermMatrix. Esta é uma coleção de 2.246 artigos de notícias de uma agência de notícias americana, a maioria publicada por volta de 1988."
   ]
  },
  {
   "cell_type": "code",
   "execution_count": 2,
   "metadata": {
    "slideshow": {
     "slide_type": "slide"
    }
   },
   "outputs": [
    {
     "name": "stderr",
     "output_type": "stream",
     "text": [
      "Installing package into 'C:/Users/domin/OneDrive/Documentos/R/win-library/4.0'\n",
      "(as 'lib' is unspecified)\n",
      "\n"
     ]
    },
    {
     "name": "stdout",
     "output_type": "stream",
     "text": [
      "package 'topicmodels' successfully unpacked and MD5 sums checked\n",
      "\n",
      "The downloaded binary packages are in\n",
      "\tC:\\Users\\domin\\AppData\\Local\\Temp\\Rtmpe8LEYh\\downloaded_packages\n"
     ]
    }
   ],
   "source": [
    "install.packages(\"topicmodels\")"
   ]
  },
  {
   "cell_type": "code",
   "execution_count": 5,
   "metadata": {
    "slideshow": {
     "slide_type": "slide"
    }
   },
   "outputs": [
    {
     "data": {
      "text/plain": [
       "<<DocumentTermMatrix (documents: 2246, terms: 10473)>>\n",
       "Non-/sparse entries: 302031/23220327\n",
       "Sparsity           : 99%\n",
       "Maximal term length: 18\n",
       "Weighting          : term frequency (tf)"
      ]
     },
     "metadata": {},
     "output_type": "display_data"
    }
   ],
   "source": [
    "library(topicmodels)\n",
    "data(\"AssociatedPress\")\n",
    "AssociatedPress"
   ]
  },
  {
   "cell_type": "markdown",
   "metadata": {
    "slideshow": {
     "slide_type": "slide"
    }
   },
   "source": [
    "Podemos usar a função `LDA ()` do pacote topicmodels, definindo `k = 2`, para criar um modelo LDA de dois tópicos.\n",
    "\n",
    "> Quase qualquer modelo de tópico na prática usará um `k` maior, mas logo veremos que esta abordagem de análise se estende a um número maior de tópicos.\n",
    "\n",
    "Esta função retorna um objeto contendo todos os detalhes do ajuste do modelo, como como as palavras são associadas aos tópicos e como os tópicos são associados aos documentos."
   ]
  },
  {
   "cell_type": "code",
   "execution_count": 6,
   "metadata": {
    "slideshow": {
     "slide_type": "slide"
    }
   },
   "outputs": [
    {
     "data": {
      "text/plain": [
       "A LDA_VEM topic model with 2 topics."
      ]
     },
     "metadata": {},
     "output_type": "display_data"
    }
   ],
   "source": [
    "# set a seed so that the output of the model is predictable\n",
    "ap_lda <- LDA(AssociatedPress, k = 2, control = list(seed = 1234))\n",
    "ap_lda"
   ]
  },
  {
   "cell_type": "markdown",
   "metadata": {
    "slideshow": {
     "slide_type": "fragment"
    }
   },
   "source": [
    "Ajustar o modelo foi a \"parte fácil\": o resto da análise envolverá explorar e interpretar o modelo usando funções de arrumação do pacote tidytext."
   ]
  },
  {
   "cell_type": "markdown",
   "metadata": {
    "slideshow": {
     "slide_type": "slide"
    }
   },
   "source": [
    "### Probabilidades de tópico-palavra\n",
    "\n",
    "O método `tidy()`, originalmente do pacote broom [@ R-broom], para organizar objetos de modelo. \n",
    "\n",
    "O pacote tidytext fornece este método para extrair as probabilidades por tópico por palavra, chamadas $\\beta$ (\"beta\"), do modelo."
   ]
  },
  {
   "cell_type": "code",
   "execution_count": 7,
   "metadata": {
    "slideshow": {
     "slide_type": "fragment"
    }
   },
   "outputs": [
    {
     "name": "stderr",
     "output_type": "stream",
     "text": [
      "Warning message:\n",
      "\"package 'tidytext' was built under R version 4.0.3\"\n"
     ]
    },
    {
     "data": {
      "text/html": [
       "<table>\n",
       "<caption>A tibble: 6 × 3</caption>\n",
       "<thead>\n",
       "\t<tr><th scope=col>topic</th><th scope=col>term</th><th scope=col>beta</th></tr>\n",
       "\t<tr><th scope=col>&lt;int&gt;</th><th scope=col>&lt;chr&gt;</th><th scope=col>&lt;dbl&gt;</th></tr>\n",
       "</thead>\n",
       "<tbody>\n",
       "\t<tr><td>1</td><td>aaron    </td><td>1.686917e-12</td></tr>\n",
       "\t<tr><td>2</td><td>aaron    </td><td>3.895941e-05</td></tr>\n",
       "\t<tr><td>1</td><td>abandon  </td><td>2.654910e-05</td></tr>\n",
       "\t<tr><td>2</td><td>abandon  </td><td>3.990786e-05</td></tr>\n",
       "\t<tr><td>1</td><td>abandoned</td><td>1.390663e-04</td></tr>\n",
       "\t<tr><td>2</td><td>abandoned</td><td>5.876946e-05</td></tr>\n",
       "</tbody>\n",
       "</table>\n"
      ],
      "text/latex": [
       "A tibble: 6 × 3\n",
       "\\begin{tabular}{lll}\n",
       " topic & term & beta\\\\\n",
       " <int> & <chr> & <dbl>\\\\\n",
       "\\hline\n",
       "\t 1 & aaron     & 1.686917e-12\\\\\n",
       "\t 2 & aaron     & 3.895941e-05\\\\\n",
       "\t 1 & abandon   & 2.654910e-05\\\\\n",
       "\t 2 & abandon   & 3.990786e-05\\\\\n",
       "\t 1 & abandoned & 1.390663e-04\\\\\n",
       "\t 2 & abandoned & 5.876946e-05\\\\\n",
       "\\end{tabular}\n"
      ],
      "text/markdown": [
       "\n",
       "A tibble: 6 × 3\n",
       "\n",
       "| topic &lt;int&gt; | term &lt;chr&gt; | beta &lt;dbl&gt; |\n",
       "|---|---|---|\n",
       "| 1 | aaron     | 1.686917e-12 |\n",
       "| 2 | aaron     | 3.895941e-05 |\n",
       "| 1 | abandon   | 2.654910e-05 |\n",
       "| 2 | abandon   | 3.990786e-05 |\n",
       "| 1 | abandoned | 1.390663e-04 |\n",
       "| 2 | abandoned | 5.876946e-05 |\n",
       "\n"
      ],
      "text/plain": [
       "  topic term      beta        \n",
       "1 1     aaron     1.686917e-12\n",
       "2 2     aaron     3.895941e-05\n",
       "3 1     abandon   2.654910e-05\n",
       "4 2     abandon   3.990786e-05\n",
       "5 1     abandoned 1.390663e-04\n",
       "6 2     abandoned 5.876946e-05"
      ]
     },
     "metadata": {},
     "output_type": "display_data"
    }
   ],
   "source": [
    "library(tidytext)\n",
    "\n",
    "ap_topics <- tidy(ap_lda, matrix = \"beta\")\n",
    "head(ap_topics)"
   ]
  },
  {
   "cell_type": "markdown",
   "metadata": {
    "slideshow": {
     "slide_type": "slide"
    }
   },
   "source": [
    "Observe que isso transformou o modelo em um formato de um tópico por termo por linha. Para cada combinação, o modelo calcula a probabilidade desse termo ser gerado a partir desse tópico. Por exemplo, o termo \"aaron\" tem uma probabilidade $  \n",
    "1.686917 \\times 10^{-12}$ de ser gerado a partir do tópico 1, mas uma probabilidade $ 3.8959408 \\times 10^{-5}$ de ser gerado a partir do tópico 2.\n",
    "\n",
    "Poderíamos usar `top_n ()` do dplyr para encontrar os 10 termos mais comuns em cada tópico. Como um quadro de dados organizado, ele se presta bem à visualização do ggplot2."
   ]
  },
  {
   "cell_type": "code",
   "execution_count": 9,
   "metadata": {},
   "outputs": [
    {
     "data": {
      "image/png": "[encoded data removed]",
      "text/plain": [
       "plot without title"
      ]
     },
     "metadata": {
      "image/png": {
       "height": 420,
       "width": 900
      }
     },
     "output_type": "display_data"
    }
   ],
   "source": [
    "library(ggplot2)\n",
    "library(dplyr)\n",
    "library(repr)\n",
    "options(repr.plot.width=15,repr.plot.heigth=10)\n",
    "ap_top_terms <- ap_topics %>%\n",
    "  group_by(topic) %>%\n",
    "  top_n(10, beta) %>%\n",
    "  ungroup() %>%\n",
    "  arrange(topic, -beta)\n",
    "\n",
    "ap_top_terms %>%\n",
    "  mutate(term = reorder_within(term, beta, topic)) %>%\n",
    "  ggplot(aes(beta, term, fill = factor(topic))) +\n",
    "  geom_col(show.legend = FALSE) +\n",
    "  facet_wrap(~ topic, scales = \"free\") +\n",
    "  theme_minimal()+\n",
    "  theme(text = element_text(size = 20))+\n",
    "  scale_y_reordered()"
   ]
  },
  {
   "cell_type": "markdown",
   "metadata": {
    "slideshow": {
     "slide_type": "slide"
    }
   },
   "source": [
    "Esta visualização permite compreender os dois tópicos extraídos dos artigos. As palavras mais comuns no tópico 1 incluem \"por cento\", \"milhão\", \"bilhão\" e \"empresa\", o que sugere que pode representar notícias de negócios ou financeiras. \n",
    "\n",
    "Os mais comuns no tópico 2 incluem \"presidente\", \"governo\" e \"soviete\", sugerindo que esse tópico representa notícias políticas. Uma observação importante sobre as palavras em cada tópico é que algumas palavras, como \"novo\" e \"pessoas\", são comuns em ambos os tópicos. \n",
    "\n",
    "Esta é uma vantagem da modelagem de tópicos em oposição aos métodos de \"agrupamento rígido\": tópicos usados ​​em linguagem natural podem ter alguma sobreposição em termos de palavras."
   ]
  },
  {
   "cell_type": "markdown",
   "metadata": {
    "slideshow": {
     "slide_type": "slide"
    }
   },
   "source": [
    "Como alternativa, podemos considerar os termos que tiveram a *maior diferença* em $\\beta$ entre o tópico 1 e o tópico 2. \n",
    "\n",
    "Isso pode ser estimado com base na razão de log dos dois: $\\log_2(\\frac{\\beta_2}{\\beta_1})$ (uma proporção de log é útil porque faz a diferença simétrica: $\\beta_2$ sendo duas vezes maior leva a uma proporção de log de 1, enquanto $\\beta_1$ sendo duas vezes maior resulta em -1) . \n",
    "\n",
    "Para restringi-lo a um conjunto de palavras especialmente relevantes, podemos filtrar por palavras relativamente comuns, como aquelas que têm $\\beta$ maior que 1/1000 em pelo menos um tópico."
   ]
  },
  {
   "cell_type": "code",
   "execution_count": 11,
   "metadata": {},
   "outputs": [
    {
     "data": {
      "text/html": [
       "<table>\n",
       "<caption>A tibble: 6 × 4</caption>\n",
       "<thead>\n",
       "\t<tr><th scope=col>term</th><th scope=col>topic1</th><th scope=col>topic2</th><th scope=col>log_ratio</th></tr>\n",
       "\t<tr><th scope=col>&lt;chr&gt;</th><th scope=col>&lt;dbl&gt;</th><th scope=col>&lt;dbl&gt;</th><th scope=col>&lt;dbl&gt;</th></tr>\n",
       "</thead>\n",
       "<tbody>\n",
       "\t<tr><td>administration</td><td>4.309502e-04</td><td>0.0013822436</td><td> 1.6814189</td></tr>\n",
       "\t<tr><td>ago           </td><td>1.065216e-03</td><td>0.0008421279</td><td>-0.3390353</td></tr>\n",
       "\t<tr><td>agreement     </td><td>6.714984e-04</td><td>0.0010390238</td><td> 0.6297728</td></tr>\n",
       "\t<tr><td>aid           </td><td>4.759043e-05</td><td>0.0010459576</td><td> 4.4580091</td></tr>\n",
       "\t<tr><td>air           </td><td>2.136933e-03</td><td>0.0002966593</td><td>-2.8486628</td></tr>\n",
       "\t<tr><td>american      </td><td>2.030497e-03</td><td>0.0016838838</td><td>-0.2700405</td></tr>\n",
       "</tbody>\n",
       "</table>\n"
      ],
      "text/latex": [
       "A tibble: 6 × 4\n",
       "\\begin{tabular}{llll}\n",
       " term & topic1 & topic2 & log\\_ratio\\\\\n",
       " <chr> & <dbl> & <dbl> & <dbl>\\\\\n",
       "\\hline\n",
       "\t administration & 4.309502e-04 & 0.0013822436 &  1.6814189\\\\\n",
       "\t ago            & 1.065216e-03 & 0.0008421279 & -0.3390353\\\\\n",
       "\t agreement      & 6.714984e-04 & 0.0010390238 &  0.6297728\\\\\n",
       "\t aid            & 4.759043e-05 & 0.0010459576 &  4.4580091\\\\\n",
       "\t air            & 2.136933e-03 & 0.0002966593 & -2.8486628\\\\\n",
       "\t american       & 2.030497e-03 & 0.0016838838 & -0.2700405\\\\\n",
       "\\end{tabular}\n"
      ],
      "text/markdown": [
       "\n",
       "A tibble: 6 × 4\n",
       "\n",
       "| term &lt;chr&gt; | topic1 &lt;dbl&gt; | topic2 &lt;dbl&gt; | log_ratio &lt;dbl&gt; |\n",
       "|---|---|---|---|\n",
       "| administration | 4.309502e-04 | 0.0013822436 |  1.6814189 |\n",
       "| ago            | 1.065216e-03 | 0.0008421279 | -0.3390353 |\n",
       "| agreement      | 6.714984e-04 | 0.0010390238 |  0.6297728 |\n",
       "| aid            | 4.759043e-05 | 0.0010459576 |  4.4580091 |\n",
       "| air            | 2.136933e-03 | 0.0002966593 | -2.8486628 |\n",
       "| american       | 2.030497e-03 | 0.0016838838 | -0.2700405 |\n",
       "\n"
      ],
      "text/plain": [
       "  term           topic1       topic2       log_ratio \n",
       "1 administration 4.309502e-04 0.0013822436  1.6814189\n",
       "2 ago            1.065216e-03 0.0008421279 -0.3390353\n",
       "3 agreement      6.714984e-04 0.0010390238  0.6297728\n",
       "4 aid            4.759043e-05 0.0010459576  4.4580091\n",
       "5 air            2.136933e-03 0.0002966593 -2.8486628\n",
       "6 american       2.030497e-03 0.0016838838 -0.2700405"
      ]
     },
     "metadata": {},
     "output_type": "display_data"
    }
   ],
   "source": [
    "library(tidyr)\n",
    "\n",
    "beta_spread <- ap_topics %>%\n",
    "  mutate(topic = paste0(\"topic\", topic)) %>%\n",
    "  spread(topic, beta) %>%\n",
    "  filter(topic1 > .001 | topic2 > .001) %>%\n",
    "  mutate(log_ratio = log2(topic2 / topic1))\n",
    "\n",
    "head(beta_spread)"
   ]
  },
  {
   "cell_type": "code",
   "execution_count": 12,
   "metadata": {
    "slideshow": {
     "slide_type": "slide"
    }
   },
   "outputs": [],
   "source": [
    "beta_spread_ordered <- beta_spread %>% arrange(desc(log_ratio))"
   ]
  },
  {
   "cell_type": "markdown",
   "metadata": {
    "slideshow": {
     "slide_type": "slide"
    }
   },
   "source": [
    "As palavras com maiores diferenças entre os dois tópicos são visualizadas na Figura a seguir Palavras com maior diferença em $\\ beta$ entre o tópico 2 e o tópico 1"
   ]
  },
  {
   "cell_type": "code",
   "execution_count": 13,
   "metadata": {
    "slideshow": {
     "slide_type": "slide"
    }
   },
   "outputs": [
    {
     "data": {
      "image/png": "[encoded data removed]",
      "text/plain": [
       "plot without title"
      ]
     },
     "metadata": {
      "image/png": {
       "height": 420,
       "width": 900
      }
     },
     "output_type": "display_data"
    }
   ],
   "source": [
    "beta_spread %>%\n",
    "  group_by(direction = log_ratio > 0) %>%\n",
    "  top_n(10, abs(log_ratio)) %>%\n",
    "  ungroup() %>%\n",
    "  mutate(term = reorder(term, log_ratio)) %>%\n",
    "  ggplot(aes(log_ratio, term)) +\n",
    "  geom_col() +\n",
    "  theme_minimal()+\n",
    "  theme(text = element_text(size = 20))+\n",
    "  labs(x = \"Ratio Log2 ratio entre beta do topico 2 e topico 1\", y = NULL)"
   ]
  },
  {
   "cell_type": "markdown",
   "metadata": {
    "slideshow": {
     "slide_type": "slide"
    }
   },
   "source": [
    "Podemos ver que as palavras mais comuns no tópico 2 incluem partidos políticos como \"democrático\" e \"republicano\", bem como nomes de políticos como \"dukakis\" e \"gorbachev\".\n",
    "\n",
    "O tópico 1 foi mais caracterizado por moedas como \"iene\" e \"dólar\", bem como termos financeiros como \"índice\", \"preços\" e \"taxas\". Isso ajuda a confirmar que os dois tópicos identificados pelo algoritmo eram notícias políticas e financeiras."
   ]
  },
  {
   "cell_type": "markdown",
   "metadata": {
    "slideshow": {
     "slide_type": "slide"
    }
   },
   "source": [
    "### Probabilidades de tópico de documento\n",
    "\n",
    "Além de estimar cada tópico como uma mistura de palavras, \n",
    "\n",
    "o LDA também modela cada documento como uma mistura de tópicos. Podemos examinar as probabilidades por documento por tópico, chamadas $\\gamma$ (\"gamma\"), com o argumento `matrix =\" gamma \"` para `tidy()`."
   ]
  },
  {
   "cell_type": "code",
   "execution_count": 14,
   "metadata": {},
   "outputs": [
    {
     "data": {
      "text/html": [
       "<table>\n",
       "<caption>A tibble: 6 × 3</caption>\n",
       "<thead>\n",
       "\t<tr><th scope=col>document</th><th scope=col>topic</th><th scope=col>gamma</th></tr>\n",
       "\t<tr><th scope=col>&lt;int&gt;</th><th scope=col>&lt;int&gt;</th><th scope=col>&lt;dbl&gt;</th></tr>\n",
       "</thead>\n",
       "<tbody>\n",
       "\t<tr><td>1</td><td>1</td><td>0.2480616686</td></tr>\n",
       "\t<tr><td>2</td><td>1</td><td>0.3615485445</td></tr>\n",
       "\t<tr><td>3</td><td>1</td><td>0.5265844180</td></tr>\n",
       "\t<tr><td>4</td><td>1</td><td>0.3566530023</td></tr>\n",
       "\t<tr><td>5</td><td>1</td><td>0.1812766762</td></tr>\n",
       "\t<tr><td>6</td><td>1</td><td>0.0005883388</td></tr>\n",
       "</tbody>\n",
       "</table>\n"
      ],
      "text/latex": [
       "A tibble: 6 × 3\n",
       "\\begin{tabular}{lll}\n",
       " document & topic & gamma\\\\\n",
       " <int> & <int> & <dbl>\\\\\n",
       "\\hline\n",
       "\t 1 & 1 & 0.2480616686\\\\\n",
       "\t 2 & 1 & 0.3615485445\\\\\n",
       "\t 3 & 1 & 0.5265844180\\\\\n",
       "\t 4 & 1 & 0.3566530023\\\\\n",
       "\t 5 & 1 & 0.1812766762\\\\\n",
       "\t 6 & 1 & 0.0005883388\\\\\n",
       "\\end{tabular}\n"
      ],
      "text/markdown": [
       "\n",
       "A tibble: 6 × 3\n",
       "\n",
       "| document &lt;int&gt; | topic &lt;int&gt; | gamma &lt;dbl&gt; |\n",
       "|---|---|---|\n",
       "| 1 | 1 | 0.2480616686 |\n",
       "| 2 | 1 | 0.3615485445 |\n",
       "| 3 | 1 | 0.5265844180 |\n",
       "| 4 | 1 | 0.3566530023 |\n",
       "| 5 | 1 | 0.1812766762 |\n",
       "| 6 | 1 | 0.0005883388 |\n",
       "\n"
      ],
      "text/plain": [
       "  document topic gamma       \n",
       "1 1        1     0.2480616686\n",
       "2 2        1     0.3615485445\n",
       "3 3        1     0.5265844180\n",
       "4 4        1     0.3566530023\n",
       "5 5        1     0.1812766762\n",
       "6 6        1     0.0005883388"
      ]
     },
     "metadata": {},
     "output_type": "display_data"
    }
   ],
   "source": [
    "ap_documents <- tidy(ap_lda, matrix = \"gamma\")\n",
    "head(ap_documents)"
   ]
  },
  {
   "cell_type": "markdown",
   "metadata": {
    "slideshow": {
     "slide_type": "slide"
    }
   },
   "source": [
    "Cada um desses valores é uma proporção estimada de palavras desse documento geradas a partir desse tópico. Por exemplo, o modelo estima que apenas cerca de $25%$ das palavras no documento 1 foram geradas a partir do tópico 1.\n",
    "\n",
    "Podemos ver que muitos desses documentos foram extraídos de uma mistura dos dois tópicos, mas esse documento 6 foi extraído quase inteiramente do tópico 2, tendo $\\gamma$ do tópico 1 próximo de zero. Para verificar esta resposta, podemos aplicar `tidy()` para obter aa matriz documento-termo e verificar quais são as palavras mais comuns naquele documento."
   ]
  },
  {
   "cell_type": "code",
   "execution_count": 15,
   "metadata": {
    "slideshow": {
     "slide_type": "slide"
    }
   },
   "outputs": [
    {
     "data": {
      "text/html": [
       "<table>\n",
       "<caption>A tibble: 287 × 3</caption>\n",
       "<thead>\n",
       "\t<tr><th scope=col>document</th><th scope=col>term</th><th scope=col>count</th></tr>\n",
       "\t<tr><th scope=col>&lt;int&gt;</th><th scope=col>&lt;chr&gt;</th><th scope=col>&lt;dbl&gt;</th></tr>\n",
       "</thead>\n",
       "<tbody>\n",
       "\t<tr><td>6</td><td>noriega       </td><td>16</td></tr>\n",
       "\t<tr><td>6</td><td>panama        </td><td>12</td></tr>\n",
       "\t<tr><td>6</td><td>jackson       </td><td> 6</td></tr>\n",
       "\t<tr><td>6</td><td>powell        </td><td> 6</td></tr>\n",
       "\t<tr><td>6</td><td>administration</td><td> 5</td></tr>\n",
       "\t<tr><td>6</td><td>economic      </td><td> 5</td></tr>\n",
       "\t<tr><td>6</td><td>general       </td><td> 5</td></tr>\n",
       "\t<tr><td>6</td><td>i             </td><td> 5</td></tr>\n",
       "\t<tr><td>6</td><td>panamanian    </td><td> 5</td></tr>\n",
       "\t<tr><td>6</td><td>american      </td><td> 4</td></tr>\n",
       "\t<tr><td>6</td><td>letter        </td><td> 4</td></tr>\n",
       "\t<tr><td>6</td><td>official      </td><td> 4</td></tr>\n",
       "\t<tr><td>6</td><td>officials     </td><td> 4</td></tr>\n",
       "\t<tr><td>6</td><td>president     </td><td> 4</td></tr>\n",
       "\t<tr><td>6</td><td>reagan        </td><td> 4</td></tr>\n",
       "\t<tr><td>6</td><td>channels      </td><td> 3</td></tr>\n",
       "\t<tr><td>6</td><td>defense       </td><td> 3</td></tr>\n",
       "\t<tr><td>6</td><td>examining     </td><td> 3</td></tr>\n",
       "\t<tr><td>6</td><td>forces        </td><td> 3</td></tr>\n",
       "\t<tr><td>6</td><td>house         </td><td> 3</td></tr>\n",
       "\t<tr><td>6</td><td>jacksons      </td><td> 3</td></tr>\n",
       "\t<tr><td>6</td><td>monday        </td><td> 3</td></tr>\n",
       "\t<tr><td>6</td><td>payments      </td><td> 3</td></tr>\n",
       "\t<tr><td>6</td><td>pressure      </td><td> 3</td></tr>\n",
       "\t<tr><td>6</td><td>security      </td><td> 3</td></tr>\n",
       "\t<tr><td>6</td><td>sent          </td><td> 3</td></tr>\n",
       "\t<tr><td>6</td><td>think         </td><td> 3</td></tr>\n",
       "\t<tr><td>6</td><td>today         </td><td> 3</td></tr>\n",
       "\t<tr><td>6</td><td>white         </td><td> 3</td></tr>\n",
       "\t<tr><td>6</td><td>act           </td><td> 2</td></tr>\n",
       "\t<tr><td>...</td><td>...</td><td>...</td></tr>\n",
       "\t<tr><td>6</td><td>supported  </td><td>1</td></tr>\n",
       "\t<tr><td>6</td><td>tactic     </td><td>1</td></tr>\n",
       "\t<tr><td>6</td><td>talks      </td><td>1</td></tr>\n",
       "\t<tr><td>6</td><td>thats      </td><td>1</td></tr>\n",
       "\t<tr><td>6</td><td>thing      </td><td>1</td></tr>\n",
       "\t<tr><td>6</td><td>time       </td><td>1</td></tr>\n",
       "\t<tr><td>6</td><td>told       </td><td>1</td></tr>\n",
       "\t<tr><td>6</td><td>tool       </td><td>1</td></tr>\n",
       "\t<tr><td>6</td><td>trafficking</td><td>1</td></tr>\n",
       "\t<tr><td>6</td><td>travel     </td><td>1</td></tr>\n",
       "\t<tr><td>6</td><td>traveled   </td><td>1</td></tr>\n",
       "\t<tr><td>6</td><td>traveling  </td><td>1</td></tr>\n",
       "\t<tr><td>6</td><td>try        </td><td>1</td></tr>\n",
       "\t<tr><td>6</td><td>trying     </td><td>1</td></tr>\n",
       "\t<tr><td>6</td><td>two        </td><td>1</td></tr>\n",
       "\t<tr><td>6</td><td>united     </td><td>1</td></tr>\n",
       "\t<tr><td>6</td><td>useful     </td><td>1</td></tr>\n",
       "\t<tr><td>6</td><td>uses       </td><td>1</td></tr>\n",
       "\t<tr><td>6</td><td>vacationing</td><td>1</td></tr>\n",
       "\t<tr><td>6</td><td>view       </td><td>1</td></tr>\n",
       "\t<tr><td>6</td><td>visits     </td><td>1</td></tr>\n",
       "\t<tr><td>6</td><td>week       </td><td>1</td></tr>\n",
       "\t<tr><td>6</td><td>weekold    </td><td>1</td></tr>\n",
       "\t<tr><td>6</td><td>weeks      </td><td>1</td></tr>\n",
       "\t<tr><td>6</td><td>weighing   </td><td>1</td></tr>\n",
       "\t<tr><td>6</td><td>welcome    </td><td>1</td></tr>\n",
       "\t<tr><td>6</td><td>went       </td><td>1</td></tr>\n",
       "\t<tr><td>6</td><td>won        </td><td>1</td></tr>\n",
       "\t<tr><td>6</td><td>working    </td><td>1</td></tr>\n",
       "\t<tr><td>6</td><td>year       </td><td>1</td></tr>\n",
       "</tbody>\n",
       "</table>\n"
      ],
      "text/latex": [
       "A tibble: 287 × 3\n",
       "\\begin{tabular}{lll}\n",
       " document & term & count\\\\\n",
       " <int> & <chr> & <dbl>\\\\\n",
       "\\hline\n",
       "\t 6 & noriega        & 16\\\\\n",
       "\t 6 & panama         & 12\\\\\n",
       "\t 6 & jackson        &  6\\\\\n",
       "\t 6 & powell         &  6\\\\\n",
       "\t 6 & administration &  5\\\\\n",
       "\t 6 & economic       &  5\\\\\n",
       "\t 6 & general        &  5\\\\\n",
       "\t 6 & i              &  5\\\\\n",
       "\t 6 & panamanian     &  5\\\\\n",
       "\t 6 & american       &  4\\\\\n",
       "\t 6 & letter         &  4\\\\\n",
       "\t 6 & official       &  4\\\\\n",
       "\t 6 & officials      &  4\\\\\n",
       "\t 6 & president      &  4\\\\\n",
       "\t 6 & reagan         &  4\\\\\n",
       "\t 6 & channels       &  3\\\\\n",
       "\t 6 & defense        &  3\\\\\n",
       "\t 6 & examining      &  3\\\\\n",
       "\t 6 & forces         &  3\\\\\n",
       "\t 6 & house          &  3\\\\\n",
       "\t 6 & jacksons       &  3\\\\\n",
       "\t 6 & monday         &  3\\\\\n",
       "\t 6 & payments       &  3\\\\\n",
       "\t 6 & pressure       &  3\\\\\n",
       "\t 6 & security       &  3\\\\\n",
       "\t 6 & sent           &  3\\\\\n",
       "\t 6 & think          &  3\\\\\n",
       "\t 6 & today          &  3\\\\\n",
       "\t 6 & white          &  3\\\\\n",
       "\t 6 & act            &  2\\\\\n",
       "\t ... & ... & ...\\\\\n",
       "\t 6 & supported   & 1\\\\\n",
       "\t 6 & tactic      & 1\\\\\n",
       "\t 6 & talks       & 1\\\\\n",
       "\t 6 & thats       & 1\\\\\n",
       "\t 6 & thing       & 1\\\\\n",
       "\t 6 & time        & 1\\\\\n",
       "\t 6 & told        & 1\\\\\n",
       "\t 6 & tool        & 1\\\\\n",
       "\t 6 & trafficking & 1\\\\\n",
       "\t 6 & travel      & 1\\\\\n",
       "\t 6 & traveled    & 1\\\\\n",
       "\t 6 & traveling   & 1\\\\\n",
       "\t 6 & try         & 1\\\\\n",
       "\t 6 & trying      & 1\\\\\n",
       "\t 6 & two         & 1\\\\\n",
       "\t 6 & united      & 1\\\\\n",
       "\t 6 & useful      & 1\\\\\n",
       "\t 6 & uses        & 1\\\\\n",
       "\t 6 & vacationing & 1\\\\\n",
       "\t 6 & view        & 1\\\\\n",
       "\t 6 & visits      & 1\\\\\n",
       "\t 6 & week        & 1\\\\\n",
       "\t 6 & weekold     & 1\\\\\n",
       "\t 6 & weeks       & 1\\\\\n",
       "\t 6 & weighing    & 1\\\\\n",
       "\t 6 & welcome     & 1\\\\\n",
       "\t 6 & went        & 1\\\\\n",
       "\t 6 & won         & 1\\\\\n",
       "\t 6 & working     & 1\\\\\n",
       "\t 6 & year        & 1\\\\\n",
       "\\end{tabular}\n"
      ],
      "text/markdown": [
       "\n",
       "A tibble: 287 × 3\n",
       "\n",
       "| document &lt;int&gt; | term &lt;chr&gt; | count &lt;dbl&gt; |\n",
       "|---|---|---|\n",
       "| 6 | noriega        | 16 |\n",
       "| 6 | panama         | 12 |\n",
       "| 6 | jackson        |  6 |\n",
       "| 6 | powell         |  6 |\n",
       "| 6 | administration |  5 |\n",
       "| 6 | economic       |  5 |\n",
       "| 6 | general        |  5 |\n",
       "| 6 | i              |  5 |\n",
       "| 6 | panamanian     |  5 |\n",
       "| 6 | american       |  4 |\n",
       "| 6 | letter         |  4 |\n",
       "| 6 | official       |  4 |\n",
       "| 6 | officials      |  4 |\n",
       "| 6 | president      |  4 |\n",
       "| 6 | reagan         |  4 |\n",
       "| 6 | channels       |  3 |\n",
       "| 6 | defense        |  3 |\n",
       "| 6 | examining      |  3 |\n",
       "| 6 | forces         |  3 |\n",
       "| 6 | house          |  3 |\n",
       "| 6 | jacksons       |  3 |\n",
       "| 6 | monday         |  3 |\n",
       "| 6 | payments       |  3 |\n",
       "| 6 | pressure       |  3 |\n",
       "| 6 | security       |  3 |\n",
       "| 6 | sent           |  3 |\n",
       "| 6 | think          |  3 |\n",
       "| 6 | today          |  3 |\n",
       "| 6 | white          |  3 |\n",
       "| 6 | act            |  2 |\n",
       "| ... | ... | ... |\n",
       "| 6 | supported   | 1 |\n",
       "| 6 | tactic      | 1 |\n",
       "| 6 | talks       | 1 |\n",
       "| 6 | thats       | 1 |\n",
       "| 6 | thing       | 1 |\n",
       "| 6 | time        | 1 |\n",
       "| 6 | told        | 1 |\n",
       "| 6 | tool        | 1 |\n",
       "| 6 | trafficking | 1 |\n",
       "| 6 | travel      | 1 |\n",
       "| 6 | traveled    | 1 |\n",
       "| 6 | traveling   | 1 |\n",
       "| 6 | try         | 1 |\n",
       "| 6 | trying      | 1 |\n",
       "| 6 | two         | 1 |\n",
       "| 6 | united      | 1 |\n",
       "| 6 | useful      | 1 |\n",
       "| 6 | uses        | 1 |\n",
       "| 6 | vacationing | 1 |\n",
       "| 6 | view        | 1 |\n",
       "| 6 | visits      | 1 |\n",
       "| 6 | week        | 1 |\n",
       "| 6 | weekold     | 1 |\n",
       "| 6 | weeks       | 1 |\n",
       "| 6 | weighing    | 1 |\n",
       "| 6 | welcome     | 1 |\n",
       "| 6 | went        | 1 |\n",
       "| 6 | won         | 1 |\n",
       "| 6 | working     | 1 |\n",
       "| 6 | year        | 1 |\n",
       "\n"
      ],
      "text/plain": [
       "    document term           count\n",
       "1   6        noriega        16   \n",
       "2   6        panama         12   \n",
       "3   6        jackson         6   \n",
       "4   6        powell          6   \n",
       "5   6        administration  5   \n",
       "6   6        economic        5   \n",
       "7   6        general         5   \n",
       "8   6        i               5   \n",
       "9   6        panamanian      5   \n",
       "10  6        american        4   \n",
       "11  6        letter          4   \n",
       "12  6        official        4   \n",
       "13  6        officials       4   \n",
       "14  6        president       4   \n",
       "15  6        reagan          4   \n",
       "16  6        channels        3   \n",
       "17  6        defense         3   \n",
       "18  6        examining       3   \n",
       "19  6        forces          3   \n",
       "20  6        house           3   \n",
       "21  6        jacksons        3   \n",
       "22  6        monday          3   \n",
       "23  6        payments        3   \n",
       "24  6        pressure        3   \n",
       "25  6        security        3   \n",
       "26  6        sent            3   \n",
       "27  6        think           3   \n",
       "28  6        today           3   \n",
       "29  6        white           3   \n",
       "30  6        act             2   \n",
       "... ...      ...            ...  \n",
       "258 6        supported      1    \n",
       "259 6        tactic         1    \n",
       "260 6        talks          1    \n",
       "261 6        thats          1    \n",
       "262 6        thing          1    \n",
       "263 6        time           1    \n",
       "264 6        told           1    \n",
       "265 6        tool           1    \n",
       "266 6        trafficking    1    \n",
       "267 6        travel         1    \n",
       "268 6        traveled       1    \n",
       "269 6        traveling      1    \n",
       "270 6        try            1    \n",
       "271 6        trying         1    \n",
       "272 6        two            1    \n",
       "273 6        united         1    \n",
       "274 6        useful         1    \n",
       "275 6        uses           1    \n",
       "276 6        vacationing    1    \n",
       "277 6        view           1    \n",
       "278 6        visits         1    \n",
       "279 6        week           1    \n",
       "280 6        weekold        1    \n",
       "281 6        weeks          1    \n",
       "282 6        weighing       1    \n",
       "283 6        welcome        1    \n",
       "284 6        went           1    \n",
       "285 6        won            1    \n",
       "286 6        working        1    \n",
       "287 6        year           1    "
      ]
     },
     "metadata": {},
     "output_type": "display_data"
    }
   ],
   "source": [
    "tidy(AssociatedPress) %>%\n",
    "  filter(document == 6) %>%\n",
    "  arrange(desc(count))"
   ]
  },
  {
   "cell_type": "markdown",
   "metadata": {
    "slideshow": {
     "slide_type": "slide"
    }
   },
   "source": [
    "Com base nas palavras mais comuns, este parece ser um artigo sobre a relação entre o governo americano e o ditador panamenho Manuel Noriega, o que significa que o algoritmo acertou em colocá-lo no tópico 2 (como notícias políticas / nacionais)."
   ]
  },
  {
   "cell_type": "markdown",
   "metadata": {
    "slideshow": {
     "slide_type": "slide"
    }
   },
   "source": [
    "## Exemplo: o grande assalto à biblioteca\n",
    "\n",
    "Ao examinar um método estatístico, pode ser útil experimentá-lo em um caso muito simples em que você sabe a \"resposta certa\". Por exemplo, podemos coletar um conjunto de documentos que definitivamente se relacionam a quatro tópicos separados e, em seguida, realizar a modelagem de tópicos para ver se o algoritmo pode distinguir corretamente os quatro grupos. \n",
    "\n",
    "Isso nos permite verificar se o método é útil e ter uma noção de como e quando pode dar errado. Vamos tentar isso com alguns dados da literatura clássica.\n",
    "\n",
    "Suponha que um vândalo tenha invadido seu escritório e destruído quatro de seus livros:\n",
    "\n",
    "* * Grandes expectativas * por Charles Dickens\n",
    "* * A Guerra dos Mundos * por H.G. Wells\n",
    "* * Vinte Mil Léguas Submarinas * por Júlio Verne\n",
    "* * Orgulho e Preconceito * por Jane Austen\n",
    "\n",
    "Títulos originais\n",
    "\n",
    "* *Great Expectations* by Charles Dickens\n",
    "* *The War of the Worlds* by H.G. Wells\n",
    "* *Twenty Thousand Leagues Under the Sea* by Jules Verne\n",
    "* *Pride and Prejudice* by Jane Austen\n",
    "\n",
    "Este vândalo rasgou os livros em capítulos individuais e os deixou em uma grande pilha. Como podemos restaurar esses capítulos desorganizados aos seus livros originais? Este é um problema desafiador, pois os capítulos individuais são ** sem rótulos **: não sabemos quais palavras podem distingui-los em grupos. Portanto, usaremos a modelagem de tópicos para descobrir como os capítulos se agrupam em tópicos distintos, cada um deles (presumivelmente) representando um dos livros.\n",
    "\n",
    "Recuperaremos o texto desses quatro livros usando o pacote gutenbergr."
   ]
  },
  {
   "cell_type": "code",
   "execution_count": 16,
   "metadata": {
    "slideshow": {
     "slide_type": "slide"
    }
   },
   "outputs": [],
   "source": [
    "titles <- c(\"Twenty Thousand Leagues under the Sea\", \n",
    "            \"The War of the Worlds\",\n",
    "            \"Pride and Prejudice\", \n",
    "            \"Great Expectations\")"
   ]
  },
  {
   "cell_type": "code",
   "execution_count": 18,
   "metadata": {
    "slideshow": {
     "slide_type": "slide"
    }
   },
   "outputs": [],
   "source": [
    "library(gutenbergr)\n",
    "\n",
    "books <- gutenberg_works(title %in% titles) %>%\n",
    "  gutenberg_download(meta_fields = \"title\")"
   ]
  },
  {
   "cell_type": "markdown",
   "metadata": {
    "slideshow": {
     "slide_type": "slide"
    }
   },
   "source": [
    "Como pré-processamento, nós os dividimos em capítulos, usamos `unnest_tokens ()` do tidytext para separá-los em palavras e, em seguida, removemos `stop_words`. \n",
    "\n",
    "Estamos tratando cada capítulo como um \"documento\" separado, cada um com um nome como `Grandes expectativas_1` ou` Orgulho e preconceito_11`. (Em outros aplicativos, cada documento pode ser um artigo de jornal ou uma postagem de blog)."
   ]
  },
  {
   "cell_type": "code",
   "execution_count": 20,
   "metadata": {},
   "outputs": [
    {
     "name": "stderr",
     "output_type": "stream",
     "text": [
      "Joining, by = \"word\"\n",
      "\n"
     ]
    },
    {
     "data": {
      "text/html": [
       "<table>\n",
       "<caption>A tibble: 6 × 3</caption>\n",
       "<thead>\n",
       "\t<tr><th scope=col>document</th><th scope=col>word</th><th scope=col>n</th></tr>\n",
       "\t<tr><th scope=col>&lt;chr&gt;</th><th scope=col>&lt;chr&gt;</th><th scope=col>&lt;int&gt;</th></tr>\n",
       "</thead>\n",
       "<tbody>\n",
       "\t<tr><td>Great Expectations_57</td><td>joe    </td><td>88</td></tr>\n",
       "\t<tr><td>Great Expectations_7 </td><td>joe    </td><td>70</td></tr>\n",
       "\t<tr><td>Great Expectations_17</td><td>biddy  </td><td>63</td></tr>\n",
       "\t<tr><td>Great Expectations_27</td><td>joe    </td><td>58</td></tr>\n",
       "\t<tr><td>Great Expectations_38</td><td>estella</td><td>58</td></tr>\n",
       "\t<tr><td>Great Expectations_2 </td><td>joe    </td><td>56</td></tr>\n",
       "</tbody>\n",
       "</table>\n"
      ],
      "text/latex": [
       "A tibble: 6 × 3\n",
       "\\begin{tabular}{lll}\n",
       " document & word & n\\\\\n",
       " <chr> & <chr> & <int>\\\\\n",
       "\\hline\n",
       "\t Great Expectations\\_57 & joe     & 88\\\\\n",
       "\t Great Expectations\\_7  & joe     & 70\\\\\n",
       "\t Great Expectations\\_17 & biddy   & 63\\\\\n",
       "\t Great Expectations\\_27 & joe     & 58\\\\\n",
       "\t Great Expectations\\_38 & estella & 58\\\\\n",
       "\t Great Expectations\\_2  & joe     & 56\\\\\n",
       "\\end{tabular}\n"
      ],
      "text/markdown": [
       "\n",
       "A tibble: 6 × 3\n",
       "\n",
       "| document &lt;chr&gt; | word &lt;chr&gt; | n &lt;int&gt; |\n",
       "|---|---|---|\n",
       "| Great Expectations_57 | joe     | 88 |\n",
       "| Great Expectations_7  | joe     | 70 |\n",
       "| Great Expectations_17 | biddy   | 63 |\n",
       "| Great Expectations_27 | joe     | 58 |\n",
       "| Great Expectations_38 | estella | 58 |\n",
       "| Great Expectations_2  | joe     | 56 |\n",
       "\n"
      ],
      "text/plain": [
       "  document              word    n \n",
       "1 Great Expectations_57 joe     88\n",
       "2 Great Expectations_7  joe     70\n",
       "3 Great Expectations_17 biddy   63\n",
       "4 Great Expectations_27 joe     58\n",
       "5 Great Expectations_38 estella 58\n",
       "6 Great Expectations_2  joe     56"
      ]
     },
     "metadata": {},
     "output_type": "display_data"
    }
   ],
   "source": [
    "library(stringr)\n",
    "\n",
    "# divide into documents, each representing one chapter\n",
    "by_chapter <- books %>%\n",
    "  group_by(title) %>%\n",
    "  mutate(chapter = cumsum(str_detect(\n",
    "    text, regex(\"^chapter \", ignore_case = TRUE)\n",
    "  ))) %>%\n",
    "  ungroup() %>%\n",
    "  filter(chapter > 0) %>%\n",
    "  unite(document, title, chapter)\n",
    "\n",
    "# split into words\n",
    "by_chapter_word <- by_chapter %>%\n",
    "  unnest_tokens(word, text)\n",
    "\n",
    "# find document-word counts\n",
    "word_counts <- by_chapter_word %>%\n",
    "  anti_join(stop_words) %>%\n",
    "  count(document, word, sort = TRUE) %>%\n",
    "  ungroup()\n",
    "\n",
    "head(word_counts)"
   ]
  },
  {
   "cell_type": "markdown",
   "metadata": {
    "slideshow": {
     "slide_type": "slide"
    }
   },
   "source": [
    "### LDA nos capítulos\n",
    "\n",
    "No momento, nosso quadro de dados `word_counts` está em uma forma organizada, com um termo por documento por linha, mas o pacote topicmodels requer um` DocumentTermMatrix`. \n",
    "\n",
    "Podemos lançar uma tabela de um token por linha em um `DocumentTermMatrix` com` cast_dtm() `do tidytext."
   ]
  },
  {
   "cell_type": "code",
   "execution_count": 21,
   "metadata": {
    "slideshow": {
     "slide_type": "slide"
    }
   },
   "outputs": [
    {
     "data": {
      "text/plain": [
       "<<DocumentTermMatrix (documents: 193, terms: 18215)>>\n",
       "Non-/sparse entries: 104722/3410773\n",
       "Sparsity           : 97%\n",
       "Maximal term length: 19\n",
       "Weighting          : term frequency (tf)"
      ]
     },
     "metadata": {},
     "output_type": "display_data"
    }
   ],
   "source": [
    "chapters_dtm <- word_counts %>%\n",
    "  cast_dtm(document, word, n)\n",
    "\n",
    "chapters_dtm"
   ]
  },
  {
   "cell_type": "markdown",
   "metadata": {
    "slideshow": {
     "slide_type": "slide"
    }
   },
   "source": [
    "Podemos então usar a função `LDA()` para criar um modelo de quatro tópicos. \n",
    "\n",
    "Nesse caso, sabemos que estamos procurando quatro tópicos porque há quatro livros; em outros problemas, podemos precisar tentar alguns valores diferentes de `k`."
   ]
  },
  {
   "cell_type": "code",
   "execution_count": 22,
   "metadata": {
    "slideshow": {
     "slide_type": "slide"
    }
   },
   "outputs": [
    {
     "data": {
      "text/plain": [
       "A LDA_VEM topic model with 4 topics."
      ]
     },
     "metadata": {},
     "output_type": "display_data"
    }
   ],
   "source": [
    "chapters_lda <- LDA(chapters_dtm, k = 4, control = list(seed = 1234))\n",
    "chapters_lda\n",
    "#> A LDA_VEM topic model with 4 topics."
   ]
  },
  {
   "cell_type": "markdown",
   "metadata": {
    "slideshow": {
     "slide_type": "fragment"
    }
   },
   "source": [
    "Assim como fizemos com os dados da Associated Press, podemos examinar as probabilidades por tópico por palavra."
   ]
  },
  {
   "cell_type": "code",
   "execution_count": 23,
   "metadata": {
    "slideshow": {
     "slide_type": "slide"
    }
   },
   "outputs": [
    {
     "data": {
      "text/html": [
       "<table>\n",
       "<caption>A tibble: 6 × 3</caption>\n",
       "<thead>\n",
       "\t<tr><th scope=col>topic</th><th scope=col>term</th><th scope=col>beta</th></tr>\n",
       "\t<tr><th scope=col>&lt;int&gt;</th><th scope=col>&lt;chr&gt;</th><th scope=col>&lt;dbl&gt;</th></tr>\n",
       "</thead>\n",
       "<tbody>\n",
       "\t<tr><td>1</td><td>joe  </td><td>1.436612e-17</td></tr>\n",
       "\t<tr><td>2</td><td>joe  </td><td>5.962111e-61</td></tr>\n",
       "\t<tr><td>3</td><td>joe  </td><td>9.881855e-25</td></tr>\n",
       "\t<tr><td>4</td><td>joe  </td><td>1.447329e-02</td></tr>\n",
       "\t<tr><td>1</td><td>biddy</td><td>5.139275e-28</td></tr>\n",
       "\t<tr><td>2</td><td>biddy</td><td>5.022015e-73</td></tr>\n",
       "</tbody>\n",
       "</table>\n"
      ],
      "text/latex": [
       "A tibble: 6 × 3\n",
       "\\begin{tabular}{lll}\n",
       " topic & term & beta\\\\\n",
       " <int> & <chr> & <dbl>\\\\\n",
       "\\hline\n",
       "\t 1 & joe   & 1.436612e-17\\\\\n",
       "\t 2 & joe   & 5.962111e-61\\\\\n",
       "\t 3 & joe   & 9.881855e-25\\\\\n",
       "\t 4 & joe   & 1.447329e-02\\\\\n",
       "\t 1 & biddy & 5.139275e-28\\\\\n",
       "\t 2 & biddy & 5.022015e-73\\\\\n",
       "\\end{tabular}\n"
      ],
      "text/markdown": [
       "\n",
       "A tibble: 6 × 3\n",
       "\n",
       "| topic &lt;int&gt; | term &lt;chr&gt; | beta &lt;dbl&gt; |\n",
       "|---|---|---|\n",
       "| 1 | joe   | 1.436612e-17 |\n",
       "| 2 | joe   | 5.962111e-61 |\n",
       "| 3 | joe   | 9.881855e-25 |\n",
       "| 4 | joe   | 1.447329e-02 |\n",
       "| 1 | biddy | 5.139275e-28 |\n",
       "| 2 | biddy | 5.022015e-73 |\n",
       "\n"
      ],
      "text/plain": [
       "  topic term  beta        \n",
       "1 1     joe   1.436612e-17\n",
       "2 2     joe   5.962111e-61\n",
       "3 3     joe   9.881855e-25\n",
       "4 4     joe   1.447329e-02\n",
       "5 1     biddy 5.139275e-28\n",
       "6 2     biddy 5.022015e-73"
      ]
     },
     "metadata": {},
     "output_type": "display_data"
    }
   ],
   "source": [
    "chapter_topics <- tidy(chapters_lda, matrix = \"beta\")\n",
    "head(chapter_topics)\n",
    "#> # A tibble: 72,860 x 3\n",
    "#>    topic term        beta\n",
    "#>    <int> <chr>      <dbl>\n",
    "#>  1     1 joe     5.83e-17\n",
    "#>  2     2 joe     3.19e-57\n",
    "#>  3     3 joe     4.16e-24\n",
    "#>  4     4 joe     1.45e- 2\n",
    "#>  5     1 biddy   7.85e-27\n",
    "#>  6     2 biddy   4.67e-69\n",
    "#>  7     3 biddy   2.26e-46\n",
    "#>  8     4 biddy   4.77e- 3\n",
    "#>  9     1 estella 3.83e- 6\n",
    "#> 10     2 estella 5.32e-65\n",
    "#> # … with 72,850 more rows"
   ]
  },
  {
   "cell_type": "markdown",
   "metadata": {
    "slideshow": {
     "slide_type": "slide"
    }
   },
   "source": [
    "Observe que isso transformou o modelo em um formato de um tópico por termo por linha. Para cada combinação, o modelo calcula a probabilidade desse termo ser gerado a partir desse tópico. Por exemplo, o termo \"joe\" tem uma probabilidade quase zero de ser gerado a partir dos tópicos 1, 2 ou 3, mas representa $1%$ do tópico 4.\n",
    "\n",
    "Poderíamos usar `top_n()` do dplyr para encontrar os 5 principais termos em cada tópico."
   ]
  },
  {
   "cell_type": "code",
   "execution_count": 24,
   "metadata": {},
   "outputs": [
    {
     "data": {
      "text/html": [
       "<table>\n",
       "<caption>A tibble: 6 × 3</caption>\n",
       "<thead>\n",
       "\t<tr><th scope=col>topic</th><th scope=col>term</th><th scope=col>beta</th></tr>\n",
       "\t<tr><th scope=col>&lt;int&gt;</th><th scope=col>&lt;chr&gt;</th><th scope=col>&lt;dbl&gt;</th></tr>\n",
       "</thead>\n",
       "<tbody>\n",
       "\t<tr><td>1</td><td>elizabeth</td><td>0.014101270</td></tr>\n",
       "\t<tr><td>1</td><td>darcy    </td><td>0.008810341</td></tr>\n",
       "\t<tr><td>1</td><td>miss     </td><td>0.008708777</td></tr>\n",
       "\t<tr><td>1</td><td>bennet   </td><td>0.006944344</td></tr>\n",
       "\t<tr><td>1</td><td>jane     </td><td>0.006494613</td></tr>\n",
       "\t<tr><td>2</td><td>captain  </td><td>0.015510635</td></tr>\n",
       "</tbody>\n",
       "</table>\n"
      ],
      "text/latex": [
       "A tibble: 6 × 3\n",
       "\\begin{tabular}{lll}\n",
       " topic & term & beta\\\\\n",
       " <int> & <chr> & <dbl>\\\\\n",
       "\\hline\n",
       "\t 1 & elizabeth & 0.014101270\\\\\n",
       "\t 1 & darcy     & 0.008810341\\\\\n",
       "\t 1 & miss      & 0.008708777\\\\\n",
       "\t 1 & bennet    & 0.006944344\\\\\n",
       "\t 1 & jane      & 0.006494613\\\\\n",
       "\t 2 & captain   & 0.015510635\\\\\n",
       "\\end{tabular}\n"
      ],
      "text/markdown": [
       "\n",
       "A tibble: 6 × 3\n",
       "\n",
       "| topic &lt;int&gt; | term &lt;chr&gt; | beta &lt;dbl&gt; |\n",
       "|---|---|---|\n",
       "| 1 | elizabeth | 0.014101270 |\n",
       "| 1 | darcy     | 0.008810341 |\n",
       "| 1 | miss      | 0.008708777 |\n",
       "| 1 | bennet    | 0.006944344 |\n",
       "| 1 | jane      | 0.006494613 |\n",
       "| 2 | captain   | 0.015510635 |\n",
       "\n"
      ],
      "text/plain": [
       "  topic term      beta       \n",
       "1 1     elizabeth 0.014101270\n",
       "2 1     darcy     0.008810341\n",
       "3 1     miss      0.008708777\n",
       "4 1     bennet    0.006944344\n",
       "5 1     jane      0.006494613\n",
       "6 2     captain   0.015510635"
      ]
     },
     "metadata": {},
     "output_type": "display_data"
    }
   ],
   "source": [
    "top_terms <- chapter_topics %>%\n",
    "  group_by(topic) %>%\n",
    "  top_n(5, beta) %>%\n",
    "  ungroup() %>%\n",
    "  arrange(topic, -beta)\n",
    "\n",
    "head(top_terms)"
   ]
  },
  {
   "cell_type": "code",
   "execution_count": 25,
   "metadata": {
    "slideshow": {
     "slide_type": "slide"
    }
   },
   "outputs": [
    {
     "data": {
      "image/png": "[encoded data removed]",
      "text/plain": [
       "plot without title"
      ]
     },
     "metadata": {
      "image/png": {
       "height": 420,
       "width": 900
      }
     },
     "output_type": "display_data"
    }
   ],
   "source": [
    "#Esta saída organizada (tidy) serve bem para uma visualização ggplot2\n",
    "\n",
    "top_terms %>%\n",
    "  mutate(term = reorder_within(term, beta, topic)) %>%\n",
    "  ggplot(aes(beta, term, fill = factor(topic))) +\n",
    "  geom_col(show.legend = FALSE) +\n",
    "  theme_minimal()+\n",
    "  theme(text = element_text(size = 20))+\n",
    "  facet_wrap(~ topic, scales = \"free\") +\n",
    "  scale_y_reordered()"
   ]
  },
  {
   "cell_type": "markdown",
   "metadata": {
    "slideshow": {
     "slide_type": "slide"
    }
   },
   "source": [
    "Esses tópicos estão claramente associados aos quatro livros!\n",
    "\n",
    "Não há dúvida de que o tópico \"capitão\", \"nautilus\", \"mar\" e \"nemo\" pertence a * Vinte Mil Léguas Submarinas *, e que \"jane\", \"darcy\" e \"Elizabeth\" pertencem a *Orgulho e Preconceito*. Vemos \"pip\" e \"joe\" de * Great Expectations * e \"martians\", \"black\" e \"night\" de * The War of the Worlds *.\n",
    "\n",
    "Notamos também que, em linha com o LDA sendo um método de \"agrupamento fuzzy\", pode haver palavras em comum entre vários tópicos, como \"falta\" nos tópicos 1 e 4, e \"tempo\" nos tópicos 3 e 4."
   ]
  },
  {
   "cell_type": "markdown",
   "metadata": {
    "slideshow": {
     "slide_type": "slide"
    }
   },
   "source": [
    "### Classificação por documento {# por documento}\n",
    "\n",
    "Cada documento nesta análise representou um único capítulo. Assim, podemos querer saber quais tópicos estão associados a cada documento. Podemos colocar os capítulos de volta nos livros corretos? \n",
    "\n",
    "Podemos descobrir isso examinando as probabilidades por documento por tópico, $\\gamma$ (\"gamma\")."
   ]
  },
  {
   "cell_type": "code",
   "execution_count": 26,
   "metadata": {},
   "outputs": [
    {
     "data": {
      "text/html": [
       "<table>\n",
       "<caption>A tibble: 6 × 3</caption>\n",
       "<thead>\n",
       "\t<tr><th scope=col>document</th><th scope=col>topic</th><th scope=col>gamma</th></tr>\n",
       "\t<tr><th scope=col>&lt;chr&gt;</th><th scope=col>&lt;int&gt;</th><th scope=col>&lt;dbl&gt;</th></tr>\n",
       "</thead>\n",
       "<tbody>\n",
       "\t<tr><td>Great Expectations_57</td><td>1</td><td>1.338547e-05</td></tr>\n",
       "\t<tr><td>Great Expectations_7 </td><td>1</td><td>1.456215e-05</td></tr>\n",
       "\t<tr><td>Great Expectations_17</td><td>1</td><td>2.096237e-05</td></tr>\n",
       "\t<tr><td>Great Expectations_27</td><td>1</td><td>1.900804e-05</td></tr>\n",
       "\t<tr><td>Great Expectations_38</td><td>1</td><td>3.552749e-01</td></tr>\n",
       "\t<tr><td>Great Expectations_2 </td><td>1</td><td>1.706715e-05</td></tr>\n",
       "</tbody>\n",
       "</table>\n"
      ],
      "text/latex": [
       "A tibble: 6 × 3\n",
       "\\begin{tabular}{lll}\n",
       " document & topic & gamma\\\\\n",
       " <chr> & <int> & <dbl>\\\\\n",
       "\\hline\n",
       "\t Great Expectations\\_57 & 1 & 1.338547e-05\\\\\n",
       "\t Great Expectations\\_7  & 1 & 1.456215e-05\\\\\n",
       "\t Great Expectations\\_17 & 1 & 2.096237e-05\\\\\n",
       "\t Great Expectations\\_27 & 1 & 1.900804e-05\\\\\n",
       "\t Great Expectations\\_38 & 1 & 3.552749e-01\\\\\n",
       "\t Great Expectations\\_2  & 1 & 1.706715e-05\\\\\n",
       "\\end{tabular}\n"
      ],
      "text/markdown": [
       "\n",
       "A tibble: 6 × 3\n",
       "\n",
       "| document &lt;chr&gt; | topic &lt;int&gt; | gamma &lt;dbl&gt; |\n",
       "|---|---|---|\n",
       "| Great Expectations_57 | 1 | 1.338547e-05 |\n",
       "| Great Expectations_7  | 1 | 1.456215e-05 |\n",
       "| Great Expectations_17 | 1 | 2.096237e-05 |\n",
       "| Great Expectations_27 | 1 | 1.900804e-05 |\n",
       "| Great Expectations_38 | 1 | 3.552749e-01 |\n",
       "| Great Expectations_2  | 1 | 1.706715e-05 |\n",
       "\n"
      ],
      "text/plain": [
       "  document              topic gamma       \n",
       "1 Great Expectations_57 1     1.338547e-05\n",
       "2 Great Expectations_7  1     1.456215e-05\n",
       "3 Great Expectations_17 1     2.096237e-05\n",
       "4 Great Expectations_27 1     1.900804e-05\n",
       "5 Great Expectations_38 1     3.552749e-01\n",
       "6 Great Expectations_2  1     1.706715e-05"
      ]
     },
     "metadata": {},
     "output_type": "display_data"
    }
   ],
   "source": [
    "chapters_gamma <- tidy(chapters_lda, matrix = \"gamma\")\n",
    "head(chapters_gamma)"
   ]
  },
  {
   "cell_type": "markdown",
   "metadata": {
    "slideshow": {
     "slide_type": "slide"
    }
   },
   "source": [
    "Cada um desses valores é uma proporção estimada de palavras desse documento geradas a partir desse tópico. Por exemplo, o modelo estima que cada palavra no documento `r chapters_gamma $ document [1]` tem apenas uma probabilidade de $0%$ de vir do tópico 1 (Orgulho e Preconceito).\n",
    "\n",
    "Agora que temos essas probabilidades de tópico, podemos ver como nosso aprendizado não supervisionado se saiu ao distinguir os quatro livros. Esperamos que os capítulos de um livro sejam, em sua maioria (ou inteiramente), gerados a partir do tópico correspondente.\n",
    "\n",
    "Primeiro, separamos novamente o nome do documento em título e capítulo, após o que podemos visualizar a probabilidade por documento por tópico para cada um que pode ser visto na Figura a seguir."
   ]
  },
  {
   "cell_type": "code",
   "execution_count": 27,
   "metadata": {
    "slideshow": {
     "slide_type": "slide"
    }
   },
   "outputs": [
    {
     "data": {
      "text/html": [
       "<table>\n",
       "<caption>A tibble: 6 × 4</caption>\n",
       "<thead>\n",
       "\t<tr><th scope=col>title</th><th scope=col>chapter</th><th scope=col>topic</th><th scope=col>gamma</th></tr>\n",
       "\t<tr><th scope=col>&lt;chr&gt;</th><th scope=col>&lt;int&gt;</th><th scope=col>&lt;int&gt;</th><th scope=col>&lt;dbl&gt;</th></tr>\n",
       "</thead>\n",
       "<tbody>\n",
       "\t<tr><td>Great Expectations</td><td>57</td><td>1</td><td>1.338547e-05</td></tr>\n",
       "\t<tr><td>Great Expectations</td><td> 7</td><td>1</td><td>1.456215e-05</td></tr>\n",
       "\t<tr><td>Great Expectations</td><td>17</td><td>1</td><td>2.096237e-05</td></tr>\n",
       "\t<tr><td>Great Expectations</td><td>27</td><td>1</td><td>1.900804e-05</td></tr>\n",
       "\t<tr><td>Great Expectations</td><td>38</td><td>1</td><td>3.552749e-01</td></tr>\n",
       "\t<tr><td>Great Expectations</td><td> 2</td><td>1</td><td>1.706715e-05</td></tr>\n",
       "</tbody>\n",
       "</table>\n"
      ],
      "text/latex": [
       "A tibble: 6 × 4\n",
       "\\begin{tabular}{llll}\n",
       " title & chapter & topic & gamma\\\\\n",
       " <chr> & <int> & <int> & <dbl>\\\\\n",
       "\\hline\n",
       "\t Great Expectations & 57 & 1 & 1.338547e-05\\\\\n",
       "\t Great Expectations &  7 & 1 & 1.456215e-05\\\\\n",
       "\t Great Expectations & 17 & 1 & 2.096237e-05\\\\\n",
       "\t Great Expectations & 27 & 1 & 1.900804e-05\\\\\n",
       "\t Great Expectations & 38 & 1 & 3.552749e-01\\\\\n",
       "\t Great Expectations &  2 & 1 & 1.706715e-05\\\\\n",
       "\\end{tabular}\n"
      ],
      "text/markdown": [
       "\n",
       "A tibble: 6 × 4\n",
       "\n",
       "| title &lt;chr&gt; | chapter &lt;int&gt; | topic &lt;int&gt; | gamma &lt;dbl&gt; |\n",
       "|---|---|---|---|\n",
       "| Great Expectations | 57 | 1 | 1.338547e-05 |\n",
       "| Great Expectations |  7 | 1 | 1.456215e-05 |\n",
       "| Great Expectations | 17 | 1 | 2.096237e-05 |\n",
       "| Great Expectations | 27 | 1 | 1.900804e-05 |\n",
       "| Great Expectations | 38 | 1 | 3.552749e-01 |\n",
       "| Great Expectations |  2 | 1 | 1.706715e-05 |\n",
       "\n"
      ],
      "text/plain": [
       "  title              chapter topic gamma       \n",
       "1 Great Expectations 57      1     1.338547e-05\n",
       "2 Great Expectations  7      1     1.456215e-05\n",
       "3 Great Expectations 17      1     2.096237e-05\n",
       "4 Great Expectations 27      1     1.900804e-05\n",
       "5 Great Expectations 38      1     3.552749e-01\n",
       "6 Great Expectations  2      1     1.706715e-05"
      ]
     },
     "metadata": {},
     "output_type": "display_data"
    }
   ],
   "source": [
    "chapters_gamma <- chapters_gamma %>%\n",
    "  separate(document, c(\"title\", \"chapter\"), sep = \"_\", convert = TRUE)\n",
    "\n",
    "head(chapters_gamma)"
   ]
  },
  {
   "cell_type": "code",
   "execution_count": 28,
   "metadata": {
    "slideshow": {
     "slide_type": "slide"
    }
   },
   "outputs": [
    {
     "data": {
      "image/png": "[encoded data removed]",
      "text/plain": [
       "plot without title"
      ]
     },
     "metadata": {
      "image/png": {
       "height": 420,
       "width": 900
      }
     },
     "output_type": "display_data"
    }
   ],
   "source": [
    "chapters_gamma %>%\n",
    "  mutate(title = reorder(title, gamma * topic)) %>%\n",
    "  ggplot(aes(factor(topic), gamma)) +\n",
    "  geom_boxplot() +\n",
    "  facet_wrap(~ title) +\n",
    "  theme_minimal()+\n",
    "  theme(text = element_text(size = 20))+\n",
    "  labs(x = \"topic\", y = expression(gamma))"
   ]
  },
  {
   "cell_type": "markdown",
   "metadata": {
    "slideshow": {
     "slide_type": "slide"
    }
   },
   "source": [
    "Notamos que quase todos os capítulos de *Orgulho e preconceito*, *Guerra dos Mundos* e *Vinte Mil Léguas Submarinas* foram identificados exclusivamente como um único tópico cada.\n",
    "\n",
    "Parece que alguns capítulos de Grandes esperanças (que deveria ser o tópico 4) foram de alguma forma associados a outros tópicos. Há algum caso em que o tópico mais associado a um capítulo pertence a outro livro? \n",
    "\n",
    "Primeiro encontraríamos o tópico que estava mais associado a cada capítulo usando `top_n()`, que é efetivamente a \"classificação\" desse capítulo."
   ]
  },
  {
   "cell_type": "code",
   "execution_count": 29,
   "metadata": {},
   "outputs": [
    {
     "data": {
      "text/html": [
       "<table>\n",
       "<caption>A tibble: 6 × 4</caption>\n",
       "<thead>\n",
       "\t<tr><th scope=col>title</th><th scope=col>chapter</th><th scope=col>topic</th><th scope=col>gamma</th></tr>\n",
       "\t<tr><th scope=col>&lt;chr&gt;</th><th scope=col>&lt;int&gt;</th><th scope=col>&lt;int&gt;</th><th scope=col>&lt;dbl&gt;</th></tr>\n",
       "</thead>\n",
       "<tbody>\n",
       "\t<tr><td>Great Expectations</td><td>1</td><td>4</td><td>0.8114472</td></tr>\n",
       "\t<tr><td>Great Expectations</td><td>2</td><td>4</td><td>0.9999488</td></tr>\n",
       "\t<tr><td>Great Expectations</td><td>3</td><td>4</td><td>0.6602340</td></tr>\n",
       "\t<tr><td>Great Expectations</td><td>4</td><td>4</td><td>0.9999503</td></tr>\n",
       "\t<tr><td>Great Expectations</td><td>5</td><td>4</td><td>0.7144905</td></tr>\n",
       "\t<tr><td>Great Expectations</td><td>6</td><td>4</td><td>0.9997701</td></tr>\n",
       "</tbody>\n",
       "</table>\n"
      ],
      "text/latex": [
       "A tibble: 6 × 4\n",
       "\\begin{tabular}{llll}\n",
       " title & chapter & topic & gamma\\\\\n",
       " <chr> & <int> & <int> & <dbl>\\\\\n",
       "\\hline\n",
       "\t Great Expectations & 1 & 4 & 0.8114472\\\\\n",
       "\t Great Expectations & 2 & 4 & 0.9999488\\\\\n",
       "\t Great Expectations & 3 & 4 & 0.6602340\\\\\n",
       "\t Great Expectations & 4 & 4 & 0.9999503\\\\\n",
       "\t Great Expectations & 5 & 4 & 0.7144905\\\\\n",
       "\t Great Expectations & 6 & 4 & 0.9997701\\\\\n",
       "\\end{tabular}\n"
      ],
      "text/markdown": [
       "\n",
       "A tibble: 6 × 4\n",
       "\n",
       "| title &lt;chr&gt; | chapter &lt;int&gt; | topic &lt;int&gt; | gamma &lt;dbl&gt; |\n",
       "|---|---|---|---|\n",
       "| Great Expectations | 1 | 4 | 0.8114472 |\n",
       "| Great Expectations | 2 | 4 | 0.9999488 |\n",
       "| Great Expectations | 3 | 4 | 0.6602340 |\n",
       "| Great Expectations | 4 | 4 | 0.9999503 |\n",
       "| Great Expectations | 5 | 4 | 0.7144905 |\n",
       "| Great Expectations | 6 | 4 | 0.9997701 |\n",
       "\n"
      ],
      "text/plain": [
       "  title              chapter topic gamma    \n",
       "1 Great Expectations 1       4     0.8114472\n",
       "2 Great Expectations 2       4     0.9999488\n",
       "3 Great Expectations 3       4     0.6602340\n",
       "4 Great Expectations 4       4     0.9999503\n",
       "5 Great Expectations 5       4     0.7144905\n",
       "6 Great Expectations 6       4     0.9997701"
      ]
     },
     "metadata": {},
     "output_type": "display_data"
    }
   ],
   "source": [
    "chapter_classifications <- chapters_gamma %>%\n",
    "  group_by(title, chapter) %>%\n",
    "  slice_max(gamma) %>%\n",
    "  ungroup()\n",
    "\n",
    "head(chapter_classifications)"
   ]
  },
  {
   "cell_type": "markdown",
   "metadata": {
    "slideshow": {
     "slide_type": "slide"
    }
   },
   "source": [
    "Podemos então comparar cada um com o tópico de \"consenso\" de cada livro (o tópico mais comum entre seus capítulos) e ver quais foram identificados erroneamente."
   ]
  },
  {
   "cell_type": "code",
   "execution_count": 30,
   "metadata": {
    "slideshow": {
     "slide_type": "slide"
    }
   },
   "outputs": [
    {
     "data": {
      "text/html": [
       "<table>\n",
       "<caption>A tibble: 2 × 5</caption>\n",
       "<thead>\n",
       "\t<tr><th scope=col>title</th><th scope=col>chapter</th><th scope=col>topic</th><th scope=col>gamma</th><th scope=col>consensus</th></tr>\n",
       "\t<tr><th scope=col>&lt;chr&gt;</th><th scope=col>&lt;int&gt;</th><th scope=col>&lt;int&gt;</th><th scope=col>&lt;dbl&gt;</th><th scope=col>&lt;chr&gt;</th></tr>\n",
       "</thead>\n",
       "<tbody>\n",
       "\t<tr><td>Great Expectations</td><td>23</td><td>1</td><td>0.5470853</td><td>Pride and Prejudice  </td></tr>\n",
       "\t<tr><td>Great Expectations</td><td>54</td><td>3</td><td>0.4812041</td><td>The War of the Worlds</td></tr>\n",
       "</tbody>\n",
       "</table>\n"
      ],
      "text/latex": [
       "A tibble: 2 × 5\n",
       "\\begin{tabular}{lllll}\n",
       " title & chapter & topic & gamma & consensus\\\\\n",
       " <chr> & <int> & <int> & <dbl> & <chr>\\\\\n",
       "\\hline\n",
       "\t Great Expectations & 23 & 1 & 0.5470853 & Pride and Prejudice  \\\\\n",
       "\t Great Expectations & 54 & 3 & 0.4812041 & The War of the Worlds\\\\\n",
       "\\end{tabular}\n"
      ],
      "text/markdown": [
       "\n",
       "A tibble: 2 × 5\n",
       "\n",
       "| title &lt;chr&gt; | chapter &lt;int&gt; | topic &lt;int&gt; | gamma &lt;dbl&gt; | consensus &lt;chr&gt; |\n",
       "|---|---|---|---|---|\n",
       "| Great Expectations | 23 | 1 | 0.5470853 | Pride and Prejudice   |\n",
       "| Great Expectations | 54 | 3 | 0.4812041 | The War of the Worlds |\n",
       "\n"
      ],
      "text/plain": [
       "  title              chapter topic gamma     consensus            \n",
       "1 Great Expectations 23      1     0.5470853 Pride and Prejudice  \n",
       "2 Great Expectations 54      3     0.4812041 The War of the Worlds"
      ]
     },
     "metadata": {},
     "output_type": "display_data"
    }
   ],
   "source": [
    "book_topics <- chapter_classifications %>%\n",
    "  count(title, topic) %>%\n",
    "  group_by(title) %>%\n",
    "  top_n(1, n) %>%\n",
    "  ungroup() %>%\n",
    "  transmute(consensus = title, topic)\n",
    "\n",
    "chapter_classifications %>%\n",
    "  inner_join(book_topics, by = \"topic\") %>%\n",
    "  filter(title != consensus)"
   ]
  },
  {
   "cell_type": "markdown",
   "metadata": {
    "slideshow": {
     "slide_type": "slide"
    }
   },
   "source": [
    "Vemos que apenas dois capítulos de *Grandes expectativas* foram classificados incorretamente, pois LDA descreveu um como proveniente do tópico \"Orgulho e Preconceito\" (tópico 1) e um de A Guerra dos Mundos (tópico 3). Isso não é ruim para agrupamento não supervisionado!"
   ]
  },
  {
   "cell_type": "markdown",
   "metadata": {
    "slideshow": {
     "slide_type": "slide"
    }
   },
   "source": [
    "### Por atribuições de palavras:\n",
    "\n",
    "Uma etapa do algoritmo LDA é atribuir cada palavra em cada documento a um tópico. \n",
    "\n",
    "Quanto mais palavras em um documento forem atribuídas a esse tópico, geralmente, mais peso (`gama`) terá na classificação do documento-tópico.\n",
    "\n",
    "Podemos querer pegar os pares documento-palavra original e descobrir quais palavras em cada documento foram atribuídas a cada tópico. \n",
    "\n",
    "Este é o trabalho da função `augment ()`, que também se originou no pacote da bloor como uma forma de organizar a saída do modelo. \n",
    "\n",
    "Enquanto `tidy()` recupera os componentes estatísticos do modelo, `augment()` usa um modelo para adicionar informações a cada observação nos dados originais."
   ]
  },
  {
   "cell_type": "code",
   "execution_count": 31,
   "metadata": {
    "slideshow": {
     "slide_type": "slide"
    }
   },
   "outputs": [
    {
     "data": {
      "text/html": [
       "<table>\n",
       "<caption>A tibble: 6 × 4</caption>\n",
       "<thead>\n",
       "\t<tr><th scope=col>document</th><th scope=col>term</th><th scope=col>count</th><th scope=col>.topic</th></tr>\n",
       "\t<tr><th scope=col>&lt;chr&gt;</th><th scope=col>&lt;chr&gt;</th><th scope=col>&lt;dbl&gt;</th><th scope=col>&lt;dbl&gt;</th></tr>\n",
       "</thead>\n",
       "<tbody>\n",
       "\t<tr><td>Great Expectations_57</td><td>joe</td><td>88</td><td>4</td></tr>\n",
       "\t<tr><td>Great Expectations_7 </td><td>joe</td><td>70</td><td>4</td></tr>\n",
       "\t<tr><td>Great Expectations_17</td><td>joe</td><td> 5</td><td>4</td></tr>\n",
       "\t<tr><td>Great Expectations_27</td><td>joe</td><td>58</td><td>4</td></tr>\n",
       "\t<tr><td>Great Expectations_2 </td><td>joe</td><td>56</td><td>4</td></tr>\n",
       "\t<tr><td>Great Expectations_23</td><td>joe</td><td> 1</td><td>4</td></tr>\n",
       "</tbody>\n",
       "</table>\n"
      ],
      "text/latex": [
       "A tibble: 6 × 4\n",
       "\\begin{tabular}{llll}\n",
       " document & term & count & .topic\\\\\n",
       " <chr> & <chr> & <dbl> & <dbl>\\\\\n",
       "\\hline\n",
       "\t Great Expectations\\_57 & joe & 88 & 4\\\\\n",
       "\t Great Expectations\\_7  & joe & 70 & 4\\\\\n",
       "\t Great Expectations\\_17 & joe &  5 & 4\\\\\n",
       "\t Great Expectations\\_27 & joe & 58 & 4\\\\\n",
       "\t Great Expectations\\_2  & joe & 56 & 4\\\\\n",
       "\t Great Expectations\\_23 & joe &  1 & 4\\\\\n",
       "\\end{tabular}\n"
      ],
      "text/markdown": [
       "\n",
       "A tibble: 6 × 4\n",
       "\n",
       "| document &lt;chr&gt; | term &lt;chr&gt; | count &lt;dbl&gt; | .topic &lt;dbl&gt; |\n",
       "|---|---|---|---|\n",
       "| Great Expectations_57 | joe | 88 | 4 |\n",
       "| Great Expectations_7  | joe | 70 | 4 |\n",
       "| Great Expectations_17 | joe |  5 | 4 |\n",
       "| Great Expectations_27 | joe | 58 | 4 |\n",
       "| Great Expectations_2  | joe | 56 | 4 |\n",
       "| Great Expectations_23 | joe |  1 | 4 |\n",
       "\n"
      ],
      "text/plain": [
       "  document              term count .topic\n",
       "1 Great Expectations_57 joe  88    4     \n",
       "2 Great Expectations_7  joe  70    4     \n",
       "3 Great Expectations_17 joe   5    4     \n",
       "4 Great Expectations_27 joe  58    4     \n",
       "5 Great Expectations_2  joe  56    4     \n",
       "6 Great Expectations_23 joe   1    4     "
      ]
     },
     "metadata": {},
     "output_type": "display_data"
    }
   ],
   "source": [
    "assignments <- augment(chapters_lda, data = chapters_dtm)\n",
    "head(assignments)"
   ]
  },
  {
   "cell_type": "markdown",
   "metadata": {
    "slideshow": {
     "slide_type": "slide"
    }
   },
   "source": [
    "Isso retorna um tidy data frame de contagens de termos do livro, mas adiciona uma coluna extra: `.topic`, com o tópico ao qual cada termo foi atribuído em cada documento. (\n",
    "\n",
    "Colunas extras adicionadas por `augment` sempre começam com` .`, para evitar sobrescrever colunas existentes). \n",
    "\n",
    "Podemos combinar esta tabela de `assignments` com os títulos dos livros de consenso para descobrir quais palavras foram classificadas incorretamente."
   ]
  },
  {
   "cell_type": "code",
   "execution_count": 32,
   "metadata": {
    "slideshow": {
     "slide_type": "slide"
    }
   },
   "outputs": [
    {
     "data": {
      "text/html": [
       "<table>\n",
       "<caption>A tibble: 6 × 6</caption>\n",
       "<thead>\n",
       "\t<tr><th scope=col>title</th><th scope=col>chapter</th><th scope=col>term</th><th scope=col>count</th><th scope=col>.topic</th><th scope=col>consensus</th></tr>\n",
       "\t<tr><th scope=col>&lt;chr&gt;</th><th scope=col>&lt;int&gt;</th><th scope=col>&lt;chr&gt;</th><th scope=col>&lt;dbl&gt;</th><th scope=col>&lt;dbl&gt;</th><th scope=col>&lt;chr&gt;</th></tr>\n",
       "</thead>\n",
       "<tbody>\n",
       "\t<tr><td>Great Expectations</td><td>57</td><td>joe</td><td>88</td><td>4</td><td>Great Expectations</td></tr>\n",
       "\t<tr><td>Great Expectations</td><td> 7</td><td>joe</td><td>70</td><td>4</td><td>Great Expectations</td></tr>\n",
       "\t<tr><td>Great Expectations</td><td>17</td><td>joe</td><td> 5</td><td>4</td><td>Great Expectations</td></tr>\n",
       "\t<tr><td>Great Expectations</td><td>27</td><td>joe</td><td>58</td><td>4</td><td>Great Expectations</td></tr>\n",
       "\t<tr><td>Great Expectations</td><td> 2</td><td>joe</td><td>56</td><td>4</td><td>Great Expectations</td></tr>\n",
       "\t<tr><td>Great Expectations</td><td>23</td><td>joe</td><td> 1</td><td>4</td><td>Great Expectations</td></tr>\n",
       "</tbody>\n",
       "</table>\n"
      ],
      "text/latex": [
       "A tibble: 6 × 6\n",
       "\\begin{tabular}{llllll}\n",
       " title & chapter & term & count & .topic & consensus\\\\\n",
       " <chr> & <int> & <chr> & <dbl> & <dbl> & <chr>\\\\\n",
       "\\hline\n",
       "\t Great Expectations & 57 & joe & 88 & 4 & Great Expectations\\\\\n",
       "\t Great Expectations &  7 & joe & 70 & 4 & Great Expectations\\\\\n",
       "\t Great Expectations & 17 & joe &  5 & 4 & Great Expectations\\\\\n",
       "\t Great Expectations & 27 & joe & 58 & 4 & Great Expectations\\\\\n",
       "\t Great Expectations &  2 & joe & 56 & 4 & Great Expectations\\\\\n",
       "\t Great Expectations & 23 & joe &  1 & 4 & Great Expectations\\\\\n",
       "\\end{tabular}\n"
      ],
      "text/markdown": [
       "\n",
       "A tibble: 6 × 6\n",
       "\n",
       "| title &lt;chr&gt; | chapter &lt;int&gt; | term &lt;chr&gt; | count &lt;dbl&gt; | .topic &lt;dbl&gt; | consensus &lt;chr&gt; |\n",
       "|---|---|---|---|---|---|\n",
       "| Great Expectations | 57 | joe | 88 | 4 | Great Expectations |\n",
       "| Great Expectations |  7 | joe | 70 | 4 | Great Expectations |\n",
       "| Great Expectations | 17 | joe |  5 | 4 | Great Expectations |\n",
       "| Great Expectations | 27 | joe | 58 | 4 | Great Expectations |\n",
       "| Great Expectations |  2 | joe | 56 | 4 | Great Expectations |\n",
       "| Great Expectations | 23 | joe |  1 | 4 | Great Expectations |\n",
       "\n"
      ],
      "text/plain": [
       "  title              chapter term count .topic consensus         \n",
       "1 Great Expectations 57      joe  88    4      Great Expectations\n",
       "2 Great Expectations  7      joe  70    4      Great Expectations\n",
       "3 Great Expectations 17      joe   5    4      Great Expectations\n",
       "4 Great Expectations 27      joe  58    4      Great Expectations\n",
       "5 Great Expectations  2      joe  56    4      Great Expectations\n",
       "6 Great Expectations 23      joe   1    4      Great Expectations"
      ]
     },
     "metadata": {},
     "output_type": "display_data"
    }
   ],
   "source": [
    "assignments <- assignments %>%\n",
    "  separate(document, c(\"title\", \"chapter\"), \n",
    "           sep = \"_\", convert = TRUE) %>%\n",
    "  inner_join(book_topics, by = c(\".topic\" = \"topic\"))\n",
    "\n",
    "head(assignments)\n"
   ]
  },
  {
   "cell_type": "markdown",
   "metadata": {
    "slideshow": {
     "slide_type": "slide"
    }
   },
   "source": [
    "Esta combinação do livro verdadeiro (`title`) e o livro atribuído a ele (`consensus`) é útil para uma exploração posterior. Podemos, por exemplo, visualizar uma **matriz de confusão**, mostrando a frequência com que palavras de um livro foram atribuídas a outro, usando `count()` de dplyr e `geom_tile` de ggplot2."
   ]
  },
  {
   "cell_type": "code",
   "execution_count": 33,
   "metadata": {},
   "outputs": [
    {
     "data": {
      "image/png": "[encoded data removed]",
      "text/plain": [
       "plot without title"
      ]
     },
     "metadata": {
      "image/png": {
       "height": 420,
       "width": 900
      }
     },
     "output_type": "display_data"
    }
   ],
   "source": [
    "library(scales)\n",
    "\n",
    "assignments %>%\n",
    "  count(title, consensus, wt = count) %>%\n",
    "  mutate(across(c(title, consensus), ~str_wrap(., 20))) %>%\n",
    "  group_by(title) %>%\n",
    "  mutate(percent = n / sum(n)) %>%\n",
    "  ggplot(aes(consensus, title, fill = percent)) +\n",
    "  geom_tile() +\n",
    "  scale_fill_gradient2(high = \"darkred\", label = percent_format()) +\n",
    "  theme_minimal()+\n",
    "  theme(text = element_text(size = 20))+\n",
    "  theme(axis.text.x = element_text(angle = 90, hjust = 1),\n",
    "        panel.grid = element_blank()) +\n",
    "  labs(x = \"Book words were assigned to\",\n",
    "       y = \"Book words came from\",\n",
    "       fill = \"% of assignments\")"
   ]
  },
  {
   "cell_type": "markdown",
   "metadata": {
    "slideshow": {
     "slide_type": "slide"
    }
   },
   "source": [
    "Notamos que quase todas as palavras para *Orgulho e Preconceito*, *Vinte Mil Léguas Submarinas* e *Guerra dos Mundos* foram atribuídas corretamente, enquanto *Grandes Expectativas* tinham um bom número de palavras mal atribuídas (que, como como vimos acima, levou à classificação incorreta de dois capítulos).\n",
    "\n",
    "Quais foram as palavras erradas mais comumente?"
   ]
  },
  {
   "cell_type": "code",
   "execution_count": 34,
   "metadata": {
    "slideshow": {
     "slide_type": "slide"
    }
   },
   "outputs": [
    {
     "data": {
      "text/html": [
       "<table>\n",
       "<caption>A tibble: 4617 × 6</caption>\n",
       "<thead>\n",
       "\t<tr><th scope=col>title</th><th scope=col>chapter</th><th scope=col>term</th><th scope=col>count</th><th scope=col>.topic</th><th scope=col>consensus</th></tr>\n",
       "\t<tr><th scope=col>&lt;chr&gt;</th><th scope=col>&lt;int&gt;</th><th scope=col>&lt;chr&gt;</th><th scope=col>&lt;dbl&gt;</th><th scope=col>&lt;dbl&gt;</th><th scope=col>&lt;chr&gt;</th></tr>\n",
       "</thead>\n",
       "<tbody>\n",
       "\t<tr><td>Great Expectations                   </td><td>38</td><td>brother </td><td> 2</td><td>1</td><td>Pride and Prejudice                  </td></tr>\n",
       "\t<tr><td>Great Expectations                   </td><td>22</td><td>brother </td><td> 4</td><td>1</td><td>Pride and Prejudice                  </td></tr>\n",
       "\t<tr><td>Great Expectations                   </td><td>23</td><td>miss    </td><td> 2</td><td>1</td><td>Pride and Prejudice                  </td></tr>\n",
       "\t<tr><td>Great Expectations                   </td><td>22</td><td>miss    </td><td>23</td><td>1</td><td>Pride and Prejudice                  </td></tr>\n",
       "\t<tr><td>Twenty Thousand Leagues under the Sea</td><td> 8</td><td>miss    </td><td> 1</td><td>1</td><td>Pride and Prejudice                  </td></tr>\n",
       "\t<tr><td>Great Expectations                   </td><td>31</td><td>miss    </td><td> 1</td><td>1</td><td>Pride and Prejudice                  </td></tr>\n",
       "\t<tr><td>Great Expectations                   </td><td> 5</td><td>sergeant</td><td>37</td><td>1</td><td>Pride and Prejudice                  </td></tr>\n",
       "\t<tr><td>Great Expectations                   </td><td>46</td><td>captain </td><td> 1</td><td>2</td><td>Twenty Thousand Leagues under the Sea</td></tr>\n",
       "\t<tr><td>Great Expectations                   </td><td>32</td><td>captain </td><td> 1</td><td>2</td><td>Twenty Thousand Leagues under the Sea</td></tr>\n",
       "\t<tr><td>The War of the Worlds                </td><td>17</td><td>captain </td><td> 5</td><td>2</td><td>Twenty Thousand Leagues under the Sea</td></tr>\n",
       "\t<tr><td>Pride and Prejudice                  </td><td> 7</td><td>captain </td><td> 3</td><td>2</td><td>Twenty Thousand Leagues under the Sea</td></tr>\n",
       "\t<tr><td>Pride and Prejudice                  </td><td> 9</td><td>captain </td><td> 1</td><td>2</td><td>Twenty Thousand Leagues under the Sea</td></tr>\n",
       "\t<tr><td>Great Expectations                   </td><td>54</td><td>sea     </td><td> 2</td><td>2</td><td>Twenty Thousand Leagues under the Sea</td></tr>\n",
       "\t<tr><td>Great Expectations                   </td><td>15</td><td>water   </td><td> 3</td><td>3</td><td>The War of the Worlds                </td></tr>\n",
       "\t<tr><td>Great Expectations                   </td><td>54</td><td>water   </td><td>15</td><td>3</td><td>The War of the Worlds                </td></tr>\n",
       "\t<tr><td>Great Expectations                   </td><td>33</td><td>water   </td><td> 1</td><td>3</td><td>The War of the Worlds                </td></tr>\n",
       "\t<tr><td>Great Expectations                   </td><td> 1</td><td>water   </td><td> 1</td><td>3</td><td>The War of the Worlds                </td></tr>\n",
       "\t<tr><td>Great Expectations                   </td><td>54</td><td>boat    </td><td>25</td><td>3</td><td>The War of the Worlds                </td></tr>\n",
       "\t<tr><td>Great Expectations                   </td><td>15</td><td>road    </td><td> 3</td><td>3</td><td>The War of the Worlds                </td></tr>\n",
       "\t<tr><td>Great Expectations                   </td><td>11</td><td>road    </td><td> 1</td><td>3</td><td>The War of the Worlds                </td></tr>\n",
       "\t<tr><td>Great Expectations                   </td><td>54</td><td>road    </td><td> 1</td><td>3</td><td>The War of the Worlds                </td></tr>\n",
       "\t<tr><td>Great Expectations                   </td><td>15</td><td>people  </td><td> 1</td><td>3</td><td>The War of the Worlds                </td></tr>\n",
       "\t<tr><td>Great Expectations                   </td><td> 5</td><td>people  </td><td> 1</td><td>3</td><td>The War of the Worlds                </td></tr>\n",
       "\t<tr><td>Great Expectations                   </td><td>54</td><td>people  </td><td> 1</td><td>3</td><td>The War of the Worlds                </td></tr>\n",
       "\t<tr><td>Great Expectations                   </td><td>22</td><td>people  </td><td> 3</td><td>1</td><td>Pride and Prejudice                  </td></tr>\n",
       "\t<tr><td>Great Expectations                   </td><td>33</td><td>people  </td><td> 7</td><td>3</td><td>The War of the Worlds                </td></tr>\n",
       "\t<tr><td>Great Expectations                   </td><td> 1</td><td>people  </td><td> 1</td><td>3</td><td>The War of the Worlds                </td></tr>\n",
       "\t<tr><td>Great Expectations                   </td><td>31</td><td>people  </td><td> 2</td><td>1</td><td>Pride and Prejudice                  </td></tr>\n",
       "\t<tr><td>Great Expectations                   </td><td> 3</td><td>people  </td><td> 1</td><td>3</td><td>The War of the Worlds                </td></tr>\n",
       "\t<tr><td>Great Expectations                   </td><td>56</td><td>people  </td><td> 2</td><td>3</td><td>The War of the Worlds                </td></tr>\n",
       "\t<tr><td>...</td><td>...</td><td>...</td><td>...</td><td>...</td><td>...</td></tr>\n",
       "\t<tr><td>Great Expectations </td><td> 8</td><td>shy          </td><td>1</td><td>1</td><td>Pride and Prejudice  </td></tr>\n",
       "\t<tr><td>Great Expectations </td><td> 8</td><td>shyness      </td><td>1</td><td>1</td><td>Pride and Prejudice  </td></tr>\n",
       "\t<tr><td>Great Expectations </td><td> 8</td><td>sloping      </td><td>1</td><td>1</td><td>Pride and Prejudice  </td></tr>\n",
       "\t<tr><td>Great Expectations </td><td> 8</td><td>smells       </td><td>1</td><td>1</td><td>Pride and Prejudice  </td></tr>\n",
       "\t<tr><td>Great Expectations </td><td> 8</td><td>smock        </td><td>1</td><td>1</td><td>Pride and Prejudice  </td></tr>\n",
       "\t<tr><td>Great Expectations </td><td> 8</td><td>sparkled     </td><td>1</td><td>1</td><td>Pride and Prejudice  </td></tr>\n",
       "\t<tr><td>Great Expectations </td><td> 8</td><td>sparkling    </td><td>1</td><td>1</td><td>Pride and Prejudice  </td></tr>\n",
       "\t<tr><td>Great Expectations </td><td> 8</td><td>storehouse   </td><td>1</td><td>1</td><td>Pride and Prejudice  </td></tr>\n",
       "\t<tr><td>Great Expectations </td><td> 8</td><td>sty          </td><td>1</td><td>1</td><td>Pride and Prejudice  </td></tr>\n",
       "\t<tr><td>Great Expectations </td><td> 8</td><td>sullen       </td><td>1</td><td>3</td><td>The War of the Worlds</td></tr>\n",
       "\t<tr><td>Great Expectations </td><td> 8</td><td>surrounding  </td><td>1</td><td>1</td><td>Pride and Prejudice  </td></tr>\n",
       "\t<tr><td>Great Expectations </td><td> 8</td><td>tangled      </td><td>1</td><td>3</td><td>The War of the Worlds</td></tr>\n",
       "\t<tr><td>Great Expectations </td><td> 8</td><td>tiles        </td><td>1</td><td>3</td><td>The War of the Worlds</td></tr>\n",
       "\t<tr><td>Great Expectations </td><td> 8</td><td>trinkets     </td><td>1</td><td>1</td><td>Pride and Prejudice  </td></tr>\n",
       "\t<tr><td>Great Expectations </td><td> 8</td><td>triumphant   </td><td>1</td><td>1</td><td>Pride and Prejudice  </td></tr>\n",
       "\t<tr><td>Great Expectations </td><td> 8</td><td>trunks       </td><td>1</td><td>1</td><td>Pride and Prejudice  </td></tr>\n",
       "\t<tr><td>Great Expectations </td><td> 8</td><td>undiscussible</td><td>1</td><td>1</td><td>Pride and Prejudice  </td></tr>\n",
       "\t<tr><td>Great Expectations </td><td> 8</td><td>unprotected  </td><td>1</td><td>1</td><td>Pride and Prejudice  </td></tr>\n",
       "\t<tr><td>Great Expectations </td><td> 8</td><td>utensils     </td><td>1</td><td>1</td><td>Pride and Prejudice  </td></tr>\n",
       "\t<tr><td>Great Expectations </td><td> 8</td><td>vat          </td><td>1</td><td>1</td><td>Pride and Prejudice  </td></tr>\n",
       "\t<tr><td>Great Expectations </td><td> 8</td><td>vigils       </td><td>1</td><td>1</td><td>Pride and Prejudice  </td></tr>\n",
       "\t<tr><td>Great Expectations </td><td> 8</td><td>viii         </td><td>1</td><td>1</td><td>Pride and Prejudice  </td></tr>\n",
       "\t<tr><td>Great Expectations </td><td> 8</td><td>vulgar       </td><td>1</td><td>1</td><td>Pride and Prejudice  </td></tr>\n",
       "\t<tr><td>Great Expectations </td><td> 8</td><td>watchmaker   </td><td>1</td><td>1</td><td>Pride and Prejudice  </td></tr>\n",
       "\t<tr><td>Great Expectations </td><td> 8</td><td>weeds        </td><td>1</td><td>1</td><td>Pride and Prejudice  </td></tr>\n",
       "\t<tr><td>Great Expectations </td><td> 8</td><td>whosoever    </td><td>1</td><td>1</td><td>Pride and Prejudice  </td></tr>\n",
       "\t<tr><td>Great Expectations </td><td> 8</td><td>yawned       </td><td>1</td><td>1</td><td>Pride and Prejudice  </td></tr>\n",
       "\t<tr><td>Great Expectations </td><td> 9</td><td>applying     </td><td>1</td><td>1</td><td>Pride and Prejudice  </td></tr>\n",
       "\t<tr><td>Pride and Prejudice</td><td>39</td><td>escaping     </td><td>1</td><td>3</td><td>The War of the Worlds</td></tr>\n",
       "\t<tr><td>Pride and Prejudice</td><td>39</td><td>sentinel     </td><td>1</td><td>3</td><td>The War of the Worlds</td></tr>\n",
       "</tbody>\n",
       "</table>\n"
      ],
      "text/latex": [
       "A tibble: 4617 × 6\n",
       "\\begin{tabular}{llllll}\n",
       " title & chapter & term & count & .topic & consensus\\\\\n",
       " <chr> & <int> & <chr> & <dbl> & <dbl> & <chr>\\\\\n",
       "\\hline\n",
       "\t Great Expectations                    & 38 & brother  &  2 & 1 & Pride and Prejudice                  \\\\\n",
       "\t Great Expectations                    & 22 & brother  &  4 & 1 & Pride and Prejudice                  \\\\\n",
       "\t Great Expectations                    & 23 & miss     &  2 & 1 & Pride and Prejudice                  \\\\\n",
       "\t Great Expectations                    & 22 & miss     & 23 & 1 & Pride and Prejudice                  \\\\\n",
       "\t Twenty Thousand Leagues under the Sea &  8 & miss     &  1 & 1 & Pride and Prejudice                  \\\\\n",
       "\t Great Expectations                    & 31 & miss     &  1 & 1 & Pride and Prejudice                  \\\\\n",
       "\t Great Expectations                    &  5 & sergeant & 37 & 1 & Pride and Prejudice                  \\\\\n",
       "\t Great Expectations                    & 46 & captain  &  1 & 2 & Twenty Thousand Leagues under the Sea\\\\\n",
       "\t Great Expectations                    & 32 & captain  &  1 & 2 & Twenty Thousand Leagues under the Sea\\\\\n",
       "\t The War of the Worlds                 & 17 & captain  &  5 & 2 & Twenty Thousand Leagues under the Sea\\\\\n",
       "\t Pride and Prejudice                   &  7 & captain  &  3 & 2 & Twenty Thousand Leagues under the Sea\\\\\n",
       "\t Pride and Prejudice                   &  9 & captain  &  1 & 2 & Twenty Thousand Leagues under the Sea\\\\\n",
       "\t Great Expectations                    & 54 & sea      &  2 & 2 & Twenty Thousand Leagues under the Sea\\\\\n",
       "\t Great Expectations                    & 15 & water    &  3 & 3 & The War of the Worlds                \\\\\n",
       "\t Great Expectations                    & 54 & water    & 15 & 3 & The War of the Worlds                \\\\\n",
       "\t Great Expectations                    & 33 & water    &  1 & 3 & The War of the Worlds                \\\\\n",
       "\t Great Expectations                    &  1 & water    &  1 & 3 & The War of the Worlds                \\\\\n",
       "\t Great Expectations                    & 54 & boat     & 25 & 3 & The War of the Worlds                \\\\\n",
       "\t Great Expectations                    & 15 & road     &  3 & 3 & The War of the Worlds                \\\\\n",
       "\t Great Expectations                    & 11 & road     &  1 & 3 & The War of the Worlds                \\\\\n",
       "\t Great Expectations                    & 54 & road     &  1 & 3 & The War of the Worlds                \\\\\n",
       "\t Great Expectations                    & 15 & people   &  1 & 3 & The War of the Worlds                \\\\\n",
       "\t Great Expectations                    &  5 & people   &  1 & 3 & The War of the Worlds                \\\\\n",
       "\t Great Expectations                    & 54 & people   &  1 & 3 & The War of the Worlds                \\\\\n",
       "\t Great Expectations                    & 22 & people   &  3 & 1 & Pride and Prejudice                  \\\\\n",
       "\t Great Expectations                    & 33 & people   &  7 & 3 & The War of the Worlds                \\\\\n",
       "\t Great Expectations                    &  1 & people   &  1 & 3 & The War of the Worlds                \\\\\n",
       "\t Great Expectations                    & 31 & people   &  2 & 1 & Pride and Prejudice                  \\\\\n",
       "\t Great Expectations                    &  3 & people   &  1 & 3 & The War of the Worlds                \\\\\n",
       "\t Great Expectations                    & 56 & people   &  2 & 3 & The War of the Worlds                \\\\\n",
       "\t ... & ... & ... & ... & ... & ...\\\\\n",
       "\t Great Expectations  &  8 & shy           & 1 & 1 & Pride and Prejudice  \\\\\n",
       "\t Great Expectations  &  8 & shyness       & 1 & 1 & Pride and Prejudice  \\\\\n",
       "\t Great Expectations  &  8 & sloping       & 1 & 1 & Pride and Prejudice  \\\\\n",
       "\t Great Expectations  &  8 & smells        & 1 & 1 & Pride and Prejudice  \\\\\n",
       "\t Great Expectations  &  8 & smock         & 1 & 1 & Pride and Prejudice  \\\\\n",
       "\t Great Expectations  &  8 & sparkled      & 1 & 1 & Pride and Prejudice  \\\\\n",
       "\t Great Expectations  &  8 & sparkling     & 1 & 1 & Pride and Prejudice  \\\\\n",
       "\t Great Expectations  &  8 & storehouse    & 1 & 1 & Pride and Prejudice  \\\\\n",
       "\t Great Expectations  &  8 & sty           & 1 & 1 & Pride and Prejudice  \\\\\n",
       "\t Great Expectations  &  8 & sullen        & 1 & 3 & The War of the Worlds\\\\\n",
       "\t Great Expectations  &  8 & surrounding   & 1 & 1 & Pride and Prejudice  \\\\\n",
       "\t Great Expectations  &  8 & tangled       & 1 & 3 & The War of the Worlds\\\\\n",
       "\t Great Expectations  &  8 & tiles         & 1 & 3 & The War of the Worlds\\\\\n",
       "\t Great Expectations  &  8 & trinkets      & 1 & 1 & Pride and Prejudice  \\\\\n",
       "\t Great Expectations  &  8 & triumphant    & 1 & 1 & Pride and Prejudice  \\\\\n",
       "\t Great Expectations  &  8 & trunks        & 1 & 1 & Pride and Prejudice  \\\\\n",
       "\t Great Expectations  &  8 & undiscussible & 1 & 1 & Pride and Prejudice  \\\\\n",
       "\t Great Expectations  &  8 & unprotected   & 1 & 1 & Pride and Prejudice  \\\\\n",
       "\t Great Expectations  &  8 & utensils      & 1 & 1 & Pride and Prejudice  \\\\\n",
       "\t Great Expectations  &  8 & vat           & 1 & 1 & Pride and Prejudice  \\\\\n",
       "\t Great Expectations  &  8 & vigils        & 1 & 1 & Pride and Prejudice  \\\\\n",
       "\t Great Expectations  &  8 & viii          & 1 & 1 & Pride and Prejudice  \\\\\n",
       "\t Great Expectations  &  8 & vulgar        & 1 & 1 & Pride and Prejudice  \\\\\n",
       "\t Great Expectations  &  8 & watchmaker    & 1 & 1 & Pride and Prejudice  \\\\\n",
       "\t Great Expectations  &  8 & weeds         & 1 & 1 & Pride and Prejudice  \\\\\n",
       "\t Great Expectations  &  8 & whosoever     & 1 & 1 & Pride and Prejudice  \\\\\n",
       "\t Great Expectations  &  8 & yawned        & 1 & 1 & Pride and Prejudice  \\\\\n",
       "\t Great Expectations  &  9 & applying      & 1 & 1 & Pride and Prejudice  \\\\\n",
       "\t Pride and Prejudice & 39 & escaping      & 1 & 3 & The War of the Worlds\\\\\n",
       "\t Pride and Prejudice & 39 & sentinel      & 1 & 3 & The War of the Worlds\\\\\n",
       "\\end{tabular}\n"
      ],
      "text/markdown": [
       "\n",
       "A tibble: 4617 × 6\n",
       "\n",
       "| title &lt;chr&gt; | chapter &lt;int&gt; | term &lt;chr&gt; | count &lt;dbl&gt; | .topic &lt;dbl&gt; | consensus &lt;chr&gt; |\n",
       "|---|---|---|---|---|---|\n",
       "| Great Expectations                    | 38 | brother  |  2 | 1 | Pride and Prejudice                   |\n",
       "| Great Expectations                    | 22 | brother  |  4 | 1 | Pride and Prejudice                   |\n",
       "| Great Expectations                    | 23 | miss     |  2 | 1 | Pride and Prejudice                   |\n",
       "| Great Expectations                    | 22 | miss     | 23 | 1 | Pride and Prejudice                   |\n",
       "| Twenty Thousand Leagues under the Sea |  8 | miss     |  1 | 1 | Pride and Prejudice                   |\n",
       "| Great Expectations                    | 31 | miss     |  1 | 1 | Pride and Prejudice                   |\n",
       "| Great Expectations                    |  5 | sergeant | 37 | 1 | Pride and Prejudice                   |\n",
       "| Great Expectations                    | 46 | captain  |  1 | 2 | Twenty Thousand Leagues under the Sea |\n",
       "| Great Expectations                    | 32 | captain  |  1 | 2 | Twenty Thousand Leagues under the Sea |\n",
       "| The War of the Worlds                 | 17 | captain  |  5 | 2 | Twenty Thousand Leagues under the Sea |\n",
       "| Pride and Prejudice                   |  7 | captain  |  3 | 2 | Twenty Thousand Leagues under the Sea |\n",
       "| Pride and Prejudice                   |  9 | captain  |  1 | 2 | Twenty Thousand Leagues under the Sea |\n",
       "| Great Expectations                    | 54 | sea      |  2 | 2 | Twenty Thousand Leagues under the Sea |\n",
       "| Great Expectations                    | 15 | water    |  3 | 3 | The War of the Worlds                 |\n",
       "| Great Expectations                    | 54 | water    | 15 | 3 | The War of the Worlds                 |\n",
       "| Great Expectations                    | 33 | water    |  1 | 3 | The War of the Worlds                 |\n",
       "| Great Expectations                    |  1 | water    |  1 | 3 | The War of the Worlds                 |\n",
       "| Great Expectations                    | 54 | boat     | 25 | 3 | The War of the Worlds                 |\n",
       "| Great Expectations                    | 15 | road     |  3 | 3 | The War of the Worlds                 |\n",
       "| Great Expectations                    | 11 | road     |  1 | 3 | The War of the Worlds                 |\n",
       "| Great Expectations                    | 54 | road     |  1 | 3 | The War of the Worlds                 |\n",
       "| Great Expectations                    | 15 | people   |  1 | 3 | The War of the Worlds                 |\n",
       "| Great Expectations                    |  5 | people   |  1 | 3 | The War of the Worlds                 |\n",
       "| Great Expectations                    | 54 | people   |  1 | 3 | The War of the Worlds                 |\n",
       "| Great Expectations                    | 22 | people   |  3 | 1 | Pride and Prejudice                   |\n",
       "| Great Expectations                    | 33 | people   |  7 | 3 | The War of the Worlds                 |\n",
       "| Great Expectations                    |  1 | people   |  1 | 3 | The War of the Worlds                 |\n",
       "| Great Expectations                    | 31 | people   |  2 | 1 | Pride and Prejudice                   |\n",
       "| Great Expectations                    |  3 | people   |  1 | 3 | The War of the Worlds                 |\n",
       "| Great Expectations                    | 56 | people   |  2 | 3 | The War of the Worlds                 |\n",
       "| ... | ... | ... | ... | ... | ... |\n",
       "| Great Expectations  |  8 | shy           | 1 | 1 | Pride and Prejudice   |\n",
       "| Great Expectations  |  8 | shyness       | 1 | 1 | Pride and Prejudice   |\n",
       "| Great Expectations  |  8 | sloping       | 1 | 1 | Pride and Prejudice   |\n",
       "| Great Expectations  |  8 | smells        | 1 | 1 | Pride and Prejudice   |\n",
       "| Great Expectations  |  8 | smock         | 1 | 1 | Pride and Prejudice   |\n",
       "| Great Expectations  |  8 | sparkled      | 1 | 1 | Pride and Prejudice   |\n",
       "| Great Expectations  |  8 | sparkling     | 1 | 1 | Pride and Prejudice   |\n",
       "| Great Expectations  |  8 | storehouse    | 1 | 1 | Pride and Prejudice   |\n",
       "| Great Expectations  |  8 | sty           | 1 | 1 | Pride and Prejudice   |\n",
       "| Great Expectations  |  8 | sullen        | 1 | 3 | The War of the Worlds |\n",
       "| Great Expectations  |  8 | surrounding   | 1 | 1 | Pride and Prejudice   |\n",
       "| Great Expectations  |  8 | tangled       | 1 | 3 | The War of the Worlds |\n",
       "| Great Expectations  |  8 | tiles         | 1 | 3 | The War of the Worlds |\n",
       "| Great Expectations  |  8 | trinkets      | 1 | 1 | Pride and Prejudice   |\n",
       "| Great Expectations  |  8 | triumphant    | 1 | 1 | Pride and Prejudice   |\n",
       "| Great Expectations  |  8 | trunks        | 1 | 1 | Pride and Prejudice   |\n",
       "| Great Expectations  |  8 | undiscussible | 1 | 1 | Pride and Prejudice   |\n",
       "| Great Expectations  |  8 | unprotected   | 1 | 1 | Pride and Prejudice   |\n",
       "| Great Expectations  |  8 | utensils      | 1 | 1 | Pride and Prejudice   |\n",
       "| Great Expectations  |  8 | vat           | 1 | 1 | Pride and Prejudice   |\n",
       "| Great Expectations  |  8 | vigils        | 1 | 1 | Pride and Prejudice   |\n",
       "| Great Expectations  |  8 | viii          | 1 | 1 | Pride and Prejudice   |\n",
       "| Great Expectations  |  8 | vulgar        | 1 | 1 | Pride and Prejudice   |\n",
       "| Great Expectations  |  8 | watchmaker    | 1 | 1 | Pride and Prejudice   |\n",
       "| Great Expectations  |  8 | weeds         | 1 | 1 | Pride and Prejudice   |\n",
       "| Great Expectations  |  8 | whosoever     | 1 | 1 | Pride and Prejudice   |\n",
       "| Great Expectations  |  8 | yawned        | 1 | 1 | Pride and Prejudice   |\n",
       "| Great Expectations  |  9 | applying      | 1 | 1 | Pride and Prejudice   |\n",
       "| Pride and Prejudice | 39 | escaping      | 1 | 3 | The War of the Worlds |\n",
       "| Pride and Prejudice | 39 | sentinel      | 1 | 3 | The War of the Worlds |\n",
       "\n"
      ],
      "text/plain": [
       "     title                                 chapter term          count .topic\n",
       "1    Great Expectations                    38      brother        2    1     \n",
       "2    Great Expectations                    22      brother        4    1     \n",
       "3    Great Expectations                    23      miss           2    1     \n",
       "4    Great Expectations                    22      miss          23    1     \n",
       "5    Twenty Thousand Leagues under the Sea  8      miss           1    1     \n",
       "6    Great Expectations                    31      miss           1    1     \n",
       "7    Great Expectations                     5      sergeant      37    1     \n",
       "8    Great Expectations                    46      captain        1    2     \n",
       "9    Great Expectations                    32      captain        1    2     \n",
       "10   The War of the Worlds                 17      captain        5    2     \n",
       "11   Pride and Prejudice                    7      captain        3    2     \n",
       "12   Pride and Prejudice                    9      captain        1    2     \n",
       "13   Great Expectations                    54      sea            2    2     \n",
       "14   Great Expectations                    15      water          3    3     \n",
       "15   Great Expectations                    54      water         15    3     \n",
       "16   Great Expectations                    33      water          1    3     \n",
       "17   Great Expectations                     1      water          1    3     \n",
       "18   Great Expectations                    54      boat          25    3     \n",
       "19   Great Expectations                    15      road           3    3     \n",
       "20   Great Expectations                    11      road           1    3     \n",
       "21   Great Expectations                    54      road           1    3     \n",
       "22   Great Expectations                    15      people         1    3     \n",
       "23   Great Expectations                     5      people         1    3     \n",
       "24   Great Expectations                    54      people         1    3     \n",
       "25   Great Expectations                    22      people         3    1     \n",
       "26   Great Expectations                    33      people         7    3     \n",
       "27   Great Expectations                     1      people         1    3     \n",
       "28   Great Expectations                    31      people         2    1     \n",
       "29   Great Expectations                     3      people         1    3     \n",
       "30   Great Expectations                    56      people         2    3     \n",
       "...  ...                                   ...     ...           ...   ...   \n",
       "4588 Great Expectations                     8      shy           1     1     \n",
       "4589 Great Expectations                     8      shyness       1     1     \n",
       "4590 Great Expectations                     8      sloping       1     1     \n",
       "4591 Great Expectations                     8      smells        1     1     \n",
       "4592 Great Expectations                     8      smock         1     1     \n",
       "4593 Great Expectations                     8      sparkled      1     1     \n",
       "4594 Great Expectations                     8      sparkling     1     1     \n",
       "4595 Great Expectations                     8      storehouse    1     1     \n",
       "4596 Great Expectations                     8      sty           1     1     \n",
       "4597 Great Expectations                     8      sullen        1     3     \n",
       "4598 Great Expectations                     8      surrounding   1     1     \n",
       "4599 Great Expectations                     8      tangled       1     3     \n",
       "4600 Great Expectations                     8      tiles         1     3     \n",
       "4601 Great Expectations                     8      trinkets      1     1     \n",
       "4602 Great Expectations                     8      triumphant    1     1     \n",
       "4603 Great Expectations                     8      trunks        1     1     \n",
       "4604 Great Expectations                     8      undiscussible 1     1     \n",
       "4605 Great Expectations                     8      unprotected   1     1     \n",
       "4606 Great Expectations                     8      utensils      1     1     \n",
       "4607 Great Expectations                     8      vat           1     1     \n",
       "4608 Great Expectations                     8      vigils        1     1     \n",
       "4609 Great Expectations                     8      viii          1     1     \n",
       "4610 Great Expectations                     8      vulgar        1     1     \n",
       "4611 Great Expectations                     8      watchmaker    1     1     \n",
       "4612 Great Expectations                     8      weeds         1     1     \n",
       "4613 Great Expectations                     8      whosoever     1     1     \n",
       "4614 Great Expectations                     8      yawned        1     1     \n",
       "4615 Great Expectations                     9      applying      1     1     \n",
       "4616 Pride and Prejudice                   39      escaping      1     3     \n",
       "4617 Pride and Prejudice                   39      sentinel      1     3     \n",
       "     consensus                            \n",
       "1    Pride and Prejudice                  \n",
       "2    Pride and Prejudice                  \n",
       "3    Pride and Prejudice                  \n",
       "4    Pride and Prejudice                  \n",
       "5    Pride and Prejudice                  \n",
       "6    Pride and Prejudice                  \n",
       "7    Pride and Prejudice                  \n",
       "8    Twenty Thousand Leagues under the Sea\n",
       "9    Twenty Thousand Leagues under the Sea\n",
       "10   Twenty Thousand Leagues under the Sea\n",
       "11   Twenty Thousand Leagues under the Sea\n",
       "12   Twenty Thousand Leagues under the Sea\n",
       "13   Twenty Thousand Leagues under the Sea\n",
       "14   The War of the Worlds                \n",
       "15   The War of the Worlds                \n",
       "16   The War of the Worlds                \n",
       "17   The War of the Worlds                \n",
       "18   The War of the Worlds                \n",
       "19   The War of the Worlds                \n",
       "20   The War of the Worlds                \n",
       "21   The War of the Worlds                \n",
       "22   The War of the Worlds                \n",
       "23   The War of the Worlds                \n",
       "24   The War of the Worlds                \n",
       "25   Pride and Prejudice                  \n",
       "26   The War of the Worlds                \n",
       "27   The War of the Worlds                \n",
       "28   Pride and Prejudice                  \n",
       "29   The War of the Worlds                \n",
       "30   The War of the Worlds                \n",
       "...  ...                                  \n",
       "4588 Pride and Prejudice                  \n",
       "4589 Pride and Prejudice                  \n",
       "4590 Pride and Prejudice                  \n",
       "4591 Pride and Prejudice                  \n",
       "4592 Pride and Prejudice                  \n",
       "4593 Pride and Prejudice                  \n",
       "4594 Pride and Prejudice                  \n",
       "4595 Pride and Prejudice                  \n",
       "4596 Pride and Prejudice                  \n",
       "4597 The War of the Worlds                \n",
       "4598 Pride and Prejudice                  \n",
       "4599 The War of the Worlds                \n",
       "4600 The War of the Worlds                \n",
       "4601 Pride and Prejudice                  \n",
       "4602 Pride and Prejudice                  \n",
       "4603 Pride and Prejudice                  \n",
       "4604 Pride and Prejudice                  \n",
       "4605 Pride and Prejudice                  \n",
       "4606 Pride and Prejudice                  \n",
       "4607 Pride and Prejudice                  \n",
       "4608 Pride and Prejudice                  \n",
       "4609 Pride and Prejudice                  \n",
       "4610 Pride and Prejudice                  \n",
       "4611 Pride and Prejudice                  \n",
       "4612 Pride and Prejudice                  \n",
       "4613 Pride and Prejudice                  \n",
       "4614 Pride and Prejudice                  \n",
       "4615 Pride and Prejudice                  \n",
       "4616 The War of the Worlds                \n",
       "4617 The War of the Worlds                "
      ]
     },
     "metadata": {},
     "output_type": "display_data"
    },
    {
     "data": {
      "text/html": [
       "<table>\n",
       "<caption>A tibble: 3551 × 4</caption>\n",
       "<thead>\n",
       "\t<tr><th scope=col>title</th><th scope=col>consensus</th><th scope=col>term</th><th scope=col>n</th></tr>\n",
       "\t<tr><th scope=col>&lt;chr&gt;</th><th scope=col>&lt;chr&gt;</th><th scope=col>&lt;chr&gt;</th><th scope=col>&lt;dbl&gt;</th></tr>\n",
       "</thead>\n",
       "<tbody>\n",
       "\t<tr><td>Great Expectations</td><td>Pride and Prejudice  </td><td>love        </td><td>44</td></tr>\n",
       "\t<tr><td>Great Expectations</td><td>Pride and Prejudice  </td><td>sergeant    </td><td>37</td></tr>\n",
       "\t<tr><td>Great Expectations</td><td>Pride and Prejudice  </td><td>lady        </td><td>32</td></tr>\n",
       "\t<tr><td>Great Expectations</td><td>Pride and Prejudice  </td><td>miss        </td><td>26</td></tr>\n",
       "\t<tr><td>Great Expectations</td><td>The War of the Worlds</td><td>boat        </td><td>25</td></tr>\n",
       "\t<tr><td>Great Expectations</td><td>The War of the Worlds</td><td>tide        </td><td>20</td></tr>\n",
       "\t<tr><td>Great Expectations</td><td>The War of the Worlds</td><td>water       </td><td>20</td></tr>\n",
       "\t<tr><td>Great Expectations</td><td>Pride and Prejudice  </td><td>father      </td><td>19</td></tr>\n",
       "\t<tr><td>Great Expectations</td><td>Pride and Prejudice  </td><td>baby        </td><td>18</td></tr>\n",
       "\t<tr><td>Great Expectations</td><td>Pride and Prejudice  </td><td>flopson     </td><td>18</td></tr>\n",
       "\t<tr><td>Great Expectations</td><td>Pride and Prejudice  </td><td>family      </td><td>16</td></tr>\n",
       "\t<tr><td>Great Expectations</td><td>Pride and Prejudice  </td><td>replied     </td><td>16</td></tr>\n",
       "\t<tr><td>Great Expectations</td><td>The War of the Worlds</td><td>galley      </td><td>16</td></tr>\n",
       "\t<tr><td>Great Expectations</td><td>Pride and Prejudice  </td><td>attention   </td><td>14</td></tr>\n",
       "\t<tr><td>Great Expectations</td><td>Pride and Prejudice  </td><td>speak       </td><td>14</td></tr>\n",
       "\t<tr><td>Great Expectations</td><td>The War of the Worlds</td><td>people      </td><td>14</td></tr>\n",
       "\t<tr><td>Great Expectations</td><td>Pride and Prejudice  </td><td>believed    </td><td>13</td></tr>\n",
       "\t<tr><td>Great Expectations</td><td>Pride and Prejudice  </td><td>children    </td><td>13</td></tr>\n",
       "\t<tr><td>Great Expectations</td><td>Pride and Prejudice  </td><td>conversation</td><td>12</td></tr>\n",
       "\t<tr><td>Great Expectations</td><td>Pride and Prejudice  </td><td>hope        </td><td>12</td></tr>\n",
       "\t<tr><td>Great Expectations</td><td>Pride and Prejudice  </td><td>jane        </td><td>12</td></tr>\n",
       "\t<tr><td>Great Expectations</td><td>Pride and Prejudice  </td><td>till        </td><td>12</td></tr>\n",
       "\t<tr><td>Great Expectations</td><td>The War of the Worlds</td><td>house       </td><td>12</td></tr>\n",
       "\t<tr><td>Great Expectations</td><td>The War of the Worlds</td><td>river       </td><td>12</td></tr>\n",
       "\t<tr><td>Great Expectations</td><td>The War of the Worlds</td><td>smoke       </td><td>12</td></tr>\n",
       "\t<tr><td>Great Expectations</td><td>The War of the Worlds</td><td>steamer     </td><td>12</td></tr>\n",
       "\t<tr><td>Great Expectations</td><td>Pride and Prejudice  </td><td>added       </td><td>11</td></tr>\n",
       "\t<tr><td>Great Expectations</td><td>Pride and Prejudice  </td><td>character   </td><td>11</td></tr>\n",
       "\t<tr><td>Great Expectations</td><td>Pride and Prejudice  </td><td>married     </td><td>11</td></tr>\n",
       "\t<tr><td>Great Expectations</td><td>Pride and Prejudice  </td><td>object      </td><td>11</td></tr>\n",
       "\t<tr><td>...</td><td>...</td><td>...</td><td>...</td></tr>\n",
       "\t<tr><td>Great Expectations                   </td><td>Twenty Thousand Leagues under the Sea</td><td>permission</td><td>1</td></tr>\n",
       "\t<tr><td>Great Expectations                   </td><td>Twenty Thousand Leagues under the Sea</td><td>pilot     </td><td>1</td></tr>\n",
       "\t<tr><td>Great Expectations                   </td><td>Twenty Thousand Leagues under the Sea</td><td>plots     </td><td>1</td></tr>\n",
       "\t<tr><td>Great Expectations                   </td><td>Twenty Thousand Leagues under the Sea</td><td>pole      </td><td>1</td></tr>\n",
       "\t<tr><td>Great Expectations                   </td><td>Twenty Thousand Leagues under the Sea</td><td>precisely </td><td>1</td></tr>\n",
       "\t<tr><td>Great Expectations                   </td><td>Twenty Thousand Leagues under the Sea</td><td>pumps     </td><td>1</td></tr>\n",
       "\t<tr><td>Great Expectations                   </td><td>Twenty Thousand Leagues under the Sea</td><td>rabbits   </td><td>1</td></tr>\n",
       "\t<tr><td>Great Expectations                   </td><td>Twenty Thousand Leagues under the Sea</td><td>retreat   </td><td>1</td></tr>\n",
       "\t<tr><td>Great Expectations                   </td><td>Twenty Thousand Leagues under the Sea</td><td>saloon    </td><td>1</td></tr>\n",
       "\t<tr><td>Great Expectations                   </td><td>Twenty Thousand Leagues under the Sea</td><td>specimens </td><td>1</td></tr>\n",
       "\t<tr><td>Great Expectations                   </td><td>Twenty Thousand Leagues under the Sea</td><td>stream    </td><td>1</td></tr>\n",
       "\t<tr><td>Great Expectations                   </td><td>Twenty Thousand Leagues under the Sea</td><td>strokes   </td><td>1</td></tr>\n",
       "\t<tr><td>Great Expectations                   </td><td>Twenty Thousand Leagues under the Sea</td><td>tipped    </td><td>1</td></tr>\n",
       "\t<tr><td>Great Expectations                   </td><td>Twenty Thousand Leagues under the Sea</td><td>trifles   </td><td>1</td></tr>\n",
       "\t<tr><td>Great Expectations                   </td><td>Twenty Thousand Leagues under the Sea</td><td>waves     </td><td>1</td></tr>\n",
       "\t<tr><td>Great Expectations                   </td><td>Twenty Thousand Leagues under the Sea</td><td>yards     </td><td>1</td></tr>\n",
       "\t<tr><td>Pride and Prejudice                  </td><td>Great Expectations                   </td><td>notes     </td><td>1</td></tr>\n",
       "\t<tr><td>Pride and Prejudice                  </td><td>The War of the Worlds                </td><td>escaping  </td><td>1</td></tr>\n",
       "\t<tr><td>Pride and Prejudice                  </td><td>The War of the Worlds                </td><td>faint     </td><td>1</td></tr>\n",
       "\t<tr><td>Pride and Prejudice                  </td><td>The War of the Worlds                </td><td>hedge     </td><td>1</td></tr>\n",
       "\t<tr><td>Pride and Prejudice                  </td><td>The War of the Worlds                </td><td>meadows   </td><td>1</td></tr>\n",
       "\t<tr><td>Pride and Prejudice                  </td><td>The War of the Worlds                </td><td>sentinel  </td><td>1</td></tr>\n",
       "\t<tr><td>Pride and Prejudice                  </td><td>The War of the Worlds                </td><td>white     </td><td>1</td></tr>\n",
       "\t<tr><td>The War of the Worlds                </td><td>Twenty Thousand Leagues under the Sea</td><td>ocean     </td><td>1</td></tr>\n",
       "\t<tr><td>The War of the Worlds                </td><td>Twenty Thousand Leagues under the Sea</td><td>vessel    </td><td>1</td></tr>\n",
       "\t<tr><td>Twenty Thousand Leagues under the Sea</td><td>Pride and Prejudice                  </td><td>assurance </td><td>1</td></tr>\n",
       "\t<tr><td>Twenty Thousand Leagues under the Sea</td><td>Pride and Prejudice                  </td><td>likewise  </td><td>1</td></tr>\n",
       "\t<tr><td>Twenty Thousand Leagues under the Sea</td><td>Pride and Prejudice                  </td><td>miss      </td><td>1</td></tr>\n",
       "\t<tr><td>Twenty Thousand Leagues under the Sea</td><td>Pride and Prejudice                  </td><td>shame     </td><td>1</td></tr>\n",
       "\t<tr><td>Twenty Thousand Leagues under the Sea</td><td>Pride and Prejudice                  </td><td>visitors  </td><td>1</td></tr>\n",
       "</tbody>\n",
       "</table>\n"
      ],
      "text/latex": [
       "A tibble: 3551 × 4\n",
       "\\begin{tabular}{llll}\n",
       " title & consensus & term & n\\\\\n",
       " <chr> & <chr> & <chr> & <dbl>\\\\\n",
       "\\hline\n",
       "\t Great Expectations & Pride and Prejudice   & love         & 44\\\\\n",
       "\t Great Expectations & Pride and Prejudice   & sergeant     & 37\\\\\n",
       "\t Great Expectations & Pride and Prejudice   & lady         & 32\\\\\n",
       "\t Great Expectations & Pride and Prejudice   & miss         & 26\\\\\n",
       "\t Great Expectations & The War of the Worlds & boat         & 25\\\\\n",
       "\t Great Expectations & The War of the Worlds & tide         & 20\\\\\n",
       "\t Great Expectations & The War of the Worlds & water        & 20\\\\\n",
       "\t Great Expectations & Pride and Prejudice   & father       & 19\\\\\n",
       "\t Great Expectations & Pride and Prejudice   & baby         & 18\\\\\n",
       "\t Great Expectations & Pride and Prejudice   & flopson      & 18\\\\\n",
       "\t Great Expectations & Pride and Prejudice   & family       & 16\\\\\n",
       "\t Great Expectations & Pride and Prejudice   & replied      & 16\\\\\n",
       "\t Great Expectations & The War of the Worlds & galley       & 16\\\\\n",
       "\t Great Expectations & Pride and Prejudice   & attention    & 14\\\\\n",
       "\t Great Expectations & Pride and Prejudice   & speak        & 14\\\\\n",
       "\t Great Expectations & The War of the Worlds & people       & 14\\\\\n",
       "\t Great Expectations & Pride and Prejudice   & believed     & 13\\\\\n",
       "\t Great Expectations & Pride and Prejudice   & children     & 13\\\\\n",
       "\t Great Expectations & Pride and Prejudice   & conversation & 12\\\\\n",
       "\t Great Expectations & Pride and Prejudice   & hope         & 12\\\\\n",
       "\t Great Expectations & Pride and Prejudice   & jane         & 12\\\\\n",
       "\t Great Expectations & Pride and Prejudice   & till         & 12\\\\\n",
       "\t Great Expectations & The War of the Worlds & house        & 12\\\\\n",
       "\t Great Expectations & The War of the Worlds & river        & 12\\\\\n",
       "\t Great Expectations & The War of the Worlds & smoke        & 12\\\\\n",
       "\t Great Expectations & The War of the Worlds & steamer      & 12\\\\\n",
       "\t Great Expectations & Pride and Prejudice   & added        & 11\\\\\n",
       "\t Great Expectations & Pride and Prejudice   & character    & 11\\\\\n",
       "\t Great Expectations & Pride and Prejudice   & married      & 11\\\\\n",
       "\t Great Expectations & Pride and Prejudice   & object       & 11\\\\\n",
       "\t ... & ... & ... & ...\\\\\n",
       "\t Great Expectations                    & Twenty Thousand Leagues under the Sea & permission & 1\\\\\n",
       "\t Great Expectations                    & Twenty Thousand Leagues under the Sea & pilot      & 1\\\\\n",
       "\t Great Expectations                    & Twenty Thousand Leagues under the Sea & plots      & 1\\\\\n",
       "\t Great Expectations                    & Twenty Thousand Leagues under the Sea & pole       & 1\\\\\n",
       "\t Great Expectations                    & Twenty Thousand Leagues under the Sea & precisely  & 1\\\\\n",
       "\t Great Expectations                    & Twenty Thousand Leagues under the Sea & pumps      & 1\\\\\n",
       "\t Great Expectations                    & Twenty Thousand Leagues under the Sea & rabbits    & 1\\\\\n",
       "\t Great Expectations                    & Twenty Thousand Leagues under the Sea & retreat    & 1\\\\\n",
       "\t Great Expectations                    & Twenty Thousand Leagues under the Sea & saloon     & 1\\\\\n",
       "\t Great Expectations                    & Twenty Thousand Leagues under the Sea & specimens  & 1\\\\\n",
       "\t Great Expectations                    & Twenty Thousand Leagues under the Sea & stream     & 1\\\\\n",
       "\t Great Expectations                    & Twenty Thousand Leagues under the Sea & strokes    & 1\\\\\n",
       "\t Great Expectations                    & Twenty Thousand Leagues under the Sea & tipped     & 1\\\\\n",
       "\t Great Expectations                    & Twenty Thousand Leagues under the Sea & trifles    & 1\\\\\n",
       "\t Great Expectations                    & Twenty Thousand Leagues under the Sea & waves      & 1\\\\\n",
       "\t Great Expectations                    & Twenty Thousand Leagues under the Sea & yards      & 1\\\\\n",
       "\t Pride and Prejudice                   & Great Expectations                    & notes      & 1\\\\\n",
       "\t Pride and Prejudice                   & The War of the Worlds                 & escaping   & 1\\\\\n",
       "\t Pride and Prejudice                   & The War of the Worlds                 & faint      & 1\\\\\n",
       "\t Pride and Prejudice                   & The War of the Worlds                 & hedge      & 1\\\\\n",
       "\t Pride and Prejudice                   & The War of the Worlds                 & meadows    & 1\\\\\n",
       "\t Pride and Prejudice                   & The War of the Worlds                 & sentinel   & 1\\\\\n",
       "\t Pride and Prejudice                   & The War of the Worlds                 & white      & 1\\\\\n",
       "\t The War of the Worlds                 & Twenty Thousand Leagues under the Sea & ocean      & 1\\\\\n",
       "\t The War of the Worlds                 & Twenty Thousand Leagues under the Sea & vessel     & 1\\\\\n",
       "\t Twenty Thousand Leagues under the Sea & Pride and Prejudice                   & assurance  & 1\\\\\n",
       "\t Twenty Thousand Leagues under the Sea & Pride and Prejudice                   & likewise   & 1\\\\\n",
       "\t Twenty Thousand Leagues under the Sea & Pride and Prejudice                   & miss       & 1\\\\\n",
       "\t Twenty Thousand Leagues under the Sea & Pride and Prejudice                   & shame      & 1\\\\\n",
       "\t Twenty Thousand Leagues under the Sea & Pride and Prejudice                   & visitors   & 1\\\\\n",
       "\\end{tabular}\n"
      ],
      "text/markdown": [
       "\n",
       "A tibble: 3551 × 4\n",
       "\n",
       "| title &lt;chr&gt; | consensus &lt;chr&gt; | term &lt;chr&gt; | n &lt;dbl&gt; |\n",
       "|---|---|---|---|\n",
       "| Great Expectations | Pride and Prejudice   | love         | 44 |\n",
       "| Great Expectations | Pride and Prejudice   | sergeant     | 37 |\n",
       "| Great Expectations | Pride and Prejudice   | lady         | 32 |\n",
       "| Great Expectations | Pride and Prejudice   | miss         | 26 |\n",
       "| Great Expectations | The War of the Worlds | boat         | 25 |\n",
       "| Great Expectations | The War of the Worlds | tide         | 20 |\n",
       "| Great Expectations | The War of the Worlds | water        | 20 |\n",
       "| Great Expectations | Pride and Prejudice   | father       | 19 |\n",
       "| Great Expectations | Pride and Prejudice   | baby         | 18 |\n",
       "| Great Expectations | Pride and Prejudice   | flopson      | 18 |\n",
       "| Great Expectations | Pride and Prejudice   | family       | 16 |\n",
       "| Great Expectations | Pride and Prejudice   | replied      | 16 |\n",
       "| Great Expectations | The War of the Worlds | galley       | 16 |\n",
       "| Great Expectations | Pride and Prejudice   | attention    | 14 |\n",
       "| Great Expectations | Pride and Prejudice   | speak        | 14 |\n",
       "| Great Expectations | The War of the Worlds | people       | 14 |\n",
       "| Great Expectations | Pride and Prejudice   | believed     | 13 |\n",
       "| Great Expectations | Pride and Prejudice   | children     | 13 |\n",
       "| Great Expectations | Pride and Prejudice   | conversation | 12 |\n",
       "| Great Expectations | Pride and Prejudice   | hope         | 12 |\n",
       "| Great Expectations | Pride and Prejudice   | jane         | 12 |\n",
       "| Great Expectations | Pride and Prejudice   | till         | 12 |\n",
       "| Great Expectations | The War of the Worlds | house        | 12 |\n",
       "| Great Expectations | The War of the Worlds | river        | 12 |\n",
       "| Great Expectations | The War of the Worlds | smoke        | 12 |\n",
       "| Great Expectations | The War of the Worlds | steamer      | 12 |\n",
       "| Great Expectations | Pride and Prejudice   | added        | 11 |\n",
       "| Great Expectations | Pride and Prejudice   | character    | 11 |\n",
       "| Great Expectations | Pride and Prejudice   | married      | 11 |\n",
       "| Great Expectations | Pride and Prejudice   | object       | 11 |\n",
       "| ... | ... | ... | ... |\n",
       "| Great Expectations                    | Twenty Thousand Leagues under the Sea | permission | 1 |\n",
       "| Great Expectations                    | Twenty Thousand Leagues under the Sea | pilot      | 1 |\n",
       "| Great Expectations                    | Twenty Thousand Leagues under the Sea | plots      | 1 |\n",
       "| Great Expectations                    | Twenty Thousand Leagues under the Sea | pole       | 1 |\n",
       "| Great Expectations                    | Twenty Thousand Leagues under the Sea | precisely  | 1 |\n",
       "| Great Expectations                    | Twenty Thousand Leagues under the Sea | pumps      | 1 |\n",
       "| Great Expectations                    | Twenty Thousand Leagues under the Sea | rabbits    | 1 |\n",
       "| Great Expectations                    | Twenty Thousand Leagues under the Sea | retreat    | 1 |\n",
       "| Great Expectations                    | Twenty Thousand Leagues under the Sea | saloon     | 1 |\n",
       "| Great Expectations                    | Twenty Thousand Leagues under the Sea | specimens  | 1 |\n",
       "| Great Expectations                    | Twenty Thousand Leagues under the Sea | stream     | 1 |\n",
       "| Great Expectations                    | Twenty Thousand Leagues under the Sea | strokes    | 1 |\n",
       "| Great Expectations                    | Twenty Thousand Leagues under the Sea | tipped     | 1 |\n",
       "| Great Expectations                    | Twenty Thousand Leagues under the Sea | trifles    | 1 |\n",
       "| Great Expectations                    | Twenty Thousand Leagues under the Sea | waves      | 1 |\n",
       "| Great Expectations                    | Twenty Thousand Leagues under the Sea | yards      | 1 |\n",
       "| Pride and Prejudice                   | Great Expectations                    | notes      | 1 |\n",
       "| Pride and Prejudice                   | The War of the Worlds                 | escaping   | 1 |\n",
       "| Pride and Prejudice                   | The War of the Worlds                 | faint      | 1 |\n",
       "| Pride and Prejudice                   | The War of the Worlds                 | hedge      | 1 |\n",
       "| Pride and Prejudice                   | The War of the Worlds                 | meadows    | 1 |\n",
       "| Pride and Prejudice                   | The War of the Worlds                 | sentinel   | 1 |\n",
       "| Pride and Prejudice                   | The War of the Worlds                 | white      | 1 |\n",
       "| The War of the Worlds                 | Twenty Thousand Leagues under the Sea | ocean      | 1 |\n",
       "| The War of the Worlds                 | Twenty Thousand Leagues under the Sea | vessel     | 1 |\n",
       "| Twenty Thousand Leagues under the Sea | Pride and Prejudice                   | assurance  | 1 |\n",
       "| Twenty Thousand Leagues under the Sea | Pride and Prejudice                   | likewise   | 1 |\n",
       "| Twenty Thousand Leagues under the Sea | Pride and Prejudice                   | miss       | 1 |\n",
       "| Twenty Thousand Leagues under the Sea | Pride and Prejudice                   | shame      | 1 |\n",
       "| Twenty Thousand Leagues under the Sea | Pride and Prejudice                   | visitors   | 1 |\n",
       "\n"
      ],
      "text/plain": [
       "     title                                \n",
       "1    Great Expectations                   \n",
       "2    Great Expectations                   \n",
       "3    Great Expectations                   \n",
       "4    Great Expectations                   \n",
       "5    Great Expectations                   \n",
       "6    Great Expectations                   \n",
       "7    Great Expectations                   \n",
       "8    Great Expectations                   \n",
       "9    Great Expectations                   \n",
       "10   Great Expectations                   \n",
       "11   Great Expectations                   \n",
       "12   Great Expectations                   \n",
       "13   Great Expectations                   \n",
       "14   Great Expectations                   \n",
       "15   Great Expectations                   \n",
       "16   Great Expectations                   \n",
       "17   Great Expectations                   \n",
       "18   Great Expectations                   \n",
       "19   Great Expectations                   \n",
       "20   Great Expectations                   \n",
       "21   Great Expectations                   \n",
       "22   Great Expectations                   \n",
       "23   Great Expectations                   \n",
       "24   Great Expectations                   \n",
       "25   Great Expectations                   \n",
       "26   Great Expectations                   \n",
       "27   Great Expectations                   \n",
       "28   Great Expectations                   \n",
       "29   Great Expectations                   \n",
       "30   Great Expectations                   \n",
       "...  ...                                  \n",
       "3522 Great Expectations                   \n",
       "3523 Great Expectations                   \n",
       "3524 Great Expectations                   \n",
       "3525 Great Expectations                   \n",
       "3526 Great Expectations                   \n",
       "3527 Great Expectations                   \n",
       "3528 Great Expectations                   \n",
       "3529 Great Expectations                   \n",
       "3530 Great Expectations                   \n",
       "3531 Great Expectations                   \n",
       "3532 Great Expectations                   \n",
       "3533 Great Expectations                   \n",
       "3534 Great Expectations                   \n",
       "3535 Great Expectations                   \n",
       "3536 Great Expectations                   \n",
       "3537 Great Expectations                   \n",
       "3538 Pride and Prejudice                  \n",
       "3539 Pride and Prejudice                  \n",
       "3540 Pride and Prejudice                  \n",
       "3541 Pride and Prejudice                  \n",
       "3542 Pride and Prejudice                  \n",
       "3543 Pride and Prejudice                  \n",
       "3544 Pride and Prejudice                  \n",
       "3545 The War of the Worlds                \n",
       "3546 The War of the Worlds                \n",
       "3547 Twenty Thousand Leagues under the Sea\n",
       "3548 Twenty Thousand Leagues under the Sea\n",
       "3549 Twenty Thousand Leagues under the Sea\n",
       "3550 Twenty Thousand Leagues under the Sea\n",
       "3551 Twenty Thousand Leagues under the Sea\n",
       "     consensus                             term         n  \n",
       "1    Pride and Prejudice                   love         44 \n",
       "2    Pride and Prejudice                   sergeant     37 \n",
       "3    Pride and Prejudice                   lady         32 \n",
       "4    Pride and Prejudice                   miss         26 \n",
       "5    The War of the Worlds                 boat         25 \n",
       "6    The War of the Worlds                 tide         20 \n",
       "7    The War of the Worlds                 water        20 \n",
       "8    Pride and Prejudice                   father       19 \n",
       "9    Pride and Prejudice                   baby         18 \n",
       "10   Pride and Prejudice                   flopson      18 \n",
       "11   Pride and Prejudice                   family       16 \n",
       "12   Pride and Prejudice                   replied      16 \n",
       "13   The War of the Worlds                 galley       16 \n",
       "14   Pride and Prejudice                   attention    14 \n",
       "15   Pride and Prejudice                   speak        14 \n",
       "16   The War of the Worlds                 people       14 \n",
       "17   Pride and Prejudice                   believed     13 \n",
       "18   Pride and Prejudice                   children     13 \n",
       "19   Pride and Prejudice                   conversation 12 \n",
       "20   Pride and Prejudice                   hope         12 \n",
       "21   Pride and Prejudice                   jane         12 \n",
       "22   Pride and Prejudice                   till         12 \n",
       "23   The War of the Worlds                 house        12 \n",
       "24   The War of the Worlds                 river        12 \n",
       "25   The War of the Worlds                 smoke        12 \n",
       "26   The War of the Worlds                 steamer      12 \n",
       "27   Pride and Prejudice                   added        11 \n",
       "28   Pride and Prejudice                   character    11 \n",
       "29   Pride and Prejudice                   married      11 \n",
       "30   Pride and Prejudice                   object       11 \n",
       "...  ...                                   ...          ...\n",
       "3522 Twenty Thousand Leagues under the Sea permission   1  \n",
       "3523 Twenty Thousand Leagues under the Sea pilot        1  \n",
       "3524 Twenty Thousand Leagues under the Sea plots        1  \n",
       "3525 Twenty Thousand Leagues under the Sea pole         1  \n",
       "3526 Twenty Thousand Leagues under the Sea precisely    1  \n",
       "3527 Twenty Thousand Leagues under the Sea pumps        1  \n",
       "3528 Twenty Thousand Leagues under the Sea rabbits      1  \n",
       "3529 Twenty Thousand Leagues under the Sea retreat      1  \n",
       "3530 Twenty Thousand Leagues under the Sea saloon       1  \n",
       "3531 Twenty Thousand Leagues under the Sea specimens    1  \n",
       "3532 Twenty Thousand Leagues under the Sea stream       1  \n",
       "3533 Twenty Thousand Leagues under the Sea strokes      1  \n",
       "3534 Twenty Thousand Leagues under the Sea tipped       1  \n",
       "3535 Twenty Thousand Leagues under the Sea trifles      1  \n",
       "3536 Twenty Thousand Leagues under the Sea waves        1  \n",
       "3537 Twenty Thousand Leagues under the Sea yards        1  \n",
       "3538 Great Expectations                    notes        1  \n",
       "3539 The War of the Worlds                 escaping     1  \n",
       "3540 The War of the Worlds                 faint        1  \n",
       "3541 The War of the Worlds                 hedge        1  \n",
       "3542 The War of the Worlds                 meadows      1  \n",
       "3543 The War of the Worlds                 sentinel     1  \n",
       "3544 The War of the Worlds                 white        1  \n",
       "3545 Twenty Thousand Leagues under the Sea ocean        1  \n",
       "3546 Twenty Thousand Leagues under the Sea vessel       1  \n",
       "3547 Pride and Prejudice                   assurance    1  \n",
       "3548 Pride and Prejudice                   likewise     1  \n",
       "3549 Pride and Prejudice                   miss         1  \n",
       "3550 Pride and Prejudice                   shame        1  \n",
       "3551 Pride and Prejudice                   visitors     1  "
      ]
     },
     "metadata": {},
     "output_type": "display_data"
    }
   ],
   "source": [
    "wrong_words <- assignments %>%\n",
    "  filter(title != consensus)\n",
    "\n",
    "wrong_words\n",
    "\n",
    "wrong_words %>%\n",
    "  count(title, consensus, term, wt = count) %>%\n",
    "  ungroup() %>%\n",
    "  arrange(desc(n))"
   ]
  },
  {
   "cell_type": "markdown",
   "metadata": {
    "slideshow": {
     "slide_type": "slide"
    }
   },
   "source": [
    "Podemos ver que várias palavras eram frequentemente atribuídas ao agrupamento Orgulho e Preconceito ou Guerra dos Mundos, mesmo quando apareciam em Grandes Esperanças. \n",
    "\n",
    "Para algumas dessas palavras, como \"amor\" e \"senhora\", é porque são mais comuns em Orgulho e preconceito (poderíamos confirmar isso examinando as contagens).\n",
    "\n",
    "Por outro lado, existem algumas palavras classificadas incorretamente que nunca apareceram no romance a que foram atribuídas. Por exemplo, podemos confirmar que \"flopson\" aparece apenas em * Grandes Esperanças *, embora esteja atribuído ao grupo \"Orgulho e Preconceito\"."
   ]
  },
  {
   "cell_type": "code",
   "execution_count": 35,
   "metadata": {
    "slideshow": {
     "slide_type": "slide"
    }
   },
   "outputs": [
    {
     "data": {
      "text/html": [
       "<table>\n",
       "<caption>A tibble: 3 × 3</caption>\n",
       "<thead>\n",
       "\t<tr><th scope=col>document</th><th scope=col>word</th><th scope=col>n</th></tr>\n",
       "\t<tr><th scope=col>&lt;chr&gt;</th><th scope=col>&lt;chr&gt;</th><th scope=col>&lt;int&gt;</th></tr>\n",
       "</thead>\n",
       "<tbody>\n",
       "\t<tr><td>Great Expectations_22</td><td>flopson</td><td>10</td></tr>\n",
       "\t<tr><td>Great Expectations_23</td><td>flopson</td><td> 7</td></tr>\n",
       "\t<tr><td>Great Expectations_33</td><td>flopson</td><td> 1</td></tr>\n",
       "</tbody>\n",
       "</table>\n"
      ],
      "text/latex": [
       "A tibble: 3 × 3\n",
       "\\begin{tabular}{lll}\n",
       " document & word & n\\\\\n",
       " <chr> & <chr> & <int>\\\\\n",
       "\\hline\n",
       "\t Great Expectations\\_22 & flopson & 10\\\\\n",
       "\t Great Expectations\\_23 & flopson &  7\\\\\n",
       "\t Great Expectations\\_33 & flopson &  1\\\\\n",
       "\\end{tabular}\n"
      ],
      "text/markdown": [
       "\n",
       "A tibble: 3 × 3\n",
       "\n",
       "| document &lt;chr&gt; | word &lt;chr&gt; | n &lt;int&gt; |\n",
       "|---|---|---|\n",
       "| Great Expectations_22 | flopson | 10 |\n",
       "| Great Expectations_23 | flopson |  7 |\n",
       "| Great Expectations_33 | flopson |  1 |\n",
       "\n"
      ],
      "text/plain": [
       "  document              word    n \n",
       "1 Great Expectations_22 flopson 10\n",
       "2 Great Expectations_23 flopson  7\n",
       "3 Great Expectations_33 flopson  1"
      ]
     },
     "metadata": {},
     "output_type": "display_data"
    }
   ],
   "source": [
    "word_counts %>%\n",
    "  filter(word == \"flopson\")"
   ]
  },
  {
   "cell_type": "markdown",
   "metadata": {
    "slideshow": {
     "slide_type": "slide"
    }
   },
   "source": [
    "O algoritmo LDA é estocástico e pode acidentalmente pousar em um tópico que abrange vários livros."
   ]
  },
  {
   "cell_type": "markdown",
   "metadata": {
    "slideshow": {
     "slide_type": "slide"
    }
   },
   "source": [
    "## Implementações alternativas de LDA\n",
    "\n",
    "A função `LDA ()` no pacote topicmodels é apenas uma implementação do algoritmo de alocação de Dirichlet latente. Por exemplo, o pacote [mallet] (https://cran.r-project.org/package=mallet) [@ R-mallet] implementa um invólucro em torno do [MALLET] (http: //mallet.cs.umass. edu /) pacote Java para ferramentas de classificação de texto, e o pacote tidytext fornece tidiers para a saída deste modelo também.\n",
    "\n",
    "O pacote do mallet tem uma abordagem um pouco diferente para o formato de entrada. \n",
    "\n",
    "Por exemplo, ele pega documentos não tokenizados e realiza a própria tokenização, e requer um arquivo separado de palavras irrelevantes. \n",
    "\n",
    "Isso significa que temos que recolher o texto em uma string para cada documento antes de executar o LDA."
   ]
  },
  {
   "cell_type": "code",
   "execution_count": 36,
   "metadata": {
    "slideshow": {
     "slide_type": "slide"
    }
   },
   "outputs": [],
   "source": [
    "library(dplyr)\n",
    "library(tidytext)\n",
    "library(stringr)\n",
    "\n",
    "library(ggplot2)\n",
    "theme_set(theme_light())"
   ]
  },
  {
   "cell_type": "code",
   "execution_count": 37,
   "metadata": {
    "slideshow": {
     "slide_type": "slide"
    }
   },
   "outputs": [
    {
     "name": "stderr",
     "output_type": "stream",
     "text": [
      "Installing package into 'C:/Users/domin/OneDrive/Documentos/R/win-library/4.0'\n",
      "(as 'lib' is unspecified)\n",
      "\n"
     ]
    },
    {
     "name": "stdout",
     "output_type": "stream",
     "text": [
      "package 'mallet' successfully unpacked and MD5 sums checked\n",
      "\n",
      "The downloaded binary packages are in\n",
      "\tC:\\Users\\domin\\AppData\\Local\\Temp\\Rtmpe8LEYh\\downloaded_packages\n"
     ]
    }
   ],
   "source": [
    "install.packages(\"mallet\")"
   ]
  },
  {
   "cell_type": "code",
   "execution_count": 38,
   "metadata": {
    "slideshow": {
     "slide_type": "slide"
    }
   },
   "outputs": [
    {
     "name": "stderr",
     "output_type": "stream",
     "text": [
      "Warning message:\n",
      "\"package 'mallet' was built under R version 4.0.3\"\n",
      "Loading required package: rJava\n",
      "\n",
      "Warning message:\n",
      "\"package 'rJava' was built under R version 4.0.3\"\n",
      "`summarise()` ungrouping output (override with `.groups` argument)\n",
      "\n"
     ]
    },
    {
     "data": {
      "text/html": [
       "TRUE"
      ],
      "text/latex": [
       "TRUE"
      ],
      "text/markdown": [
       "TRUE"
      ],
      "text/plain": [
       "[1] TRUE"
      ]
     },
     "metadata": {},
     "output_type": "display_data"
    }
   ],
   "source": [
    "library(mallet)\n",
    "# create a vector with one string per chapter\n",
    "collapsed <- by_chapter_word %>%\n",
    "  anti_join(stop_words, by = \"word\") %>%\n",
    "  mutate(word = str_replace(word, \"'\", \"\")) %>%\n",
    "  group_by(document) %>%\n",
    "  summarize(text = paste(word, collapse = \" \"))\n",
    "\n",
    "# create an empty file of \"stopwords\"\n",
    "file.create(empty_file <- tempfile())\n",
    "docs <- mallet.import(collapsed$document, collapsed$text, empty_file)\n",
    "\n",
    "mallet_model <- MalletLDA(num.topics = 4)\n",
    "mallet_model$loadDocuments(docs)\n",
    "mallet_model$train(100)"
   ]
  },
  {
   "cell_type": "markdown",
   "metadata": {
    "slideshow": {
     "slide_type": "slide"
    }
   },
   "source": [
    "Uma vez que o modelo é criado, no entanto, podemos usar as funções `tidy ()` e `augment ()` descritas no resto do capítulo de uma maneira quase idêntica. Isso inclui extrair as probabilidades de palavras em cada tópico ou tópicos em cada documento."
   ]
  },
  {
   "cell_type": "code",
   "execution_count": 39,
   "metadata": {
    "slideshow": {
     "slide_type": "slide"
    }
   },
   "outputs": [
    {
     "name": "stderr",
     "output_type": "stream",
     "text": [
      "Warning message:\n",
      "\"`tbl_df()` is deprecated as of dplyr 1.0.0.\n",
      "Please use `tibble::as_tibble()` instead.\n",
      "\u001b[90mThis warning is displayed once every 8 hours.\u001b[39m\n",
      "\u001b[90mCall `lifecycle::last_warnings()` to see where this warning was generated.\u001b[39m\"\n"
     ]
    },
    {
     "data": {
      "text/html": [
       "<table>\n",
       "<caption>A tibble: 71064 × 3</caption>\n",
       "<thead>\n",
       "\t<tr><th scope=col>topic</th><th scope=col>term</th><th scope=col>beta</th></tr>\n",
       "\t<tr><th scope=col>&lt;int&gt;</th><th scope=col>&lt;chr&gt;</th><th scope=col>&lt;dbl&gt;</th></tr>\n",
       "</thead>\n",
       "<tbody>\n",
       "\t<tr><td>1</td><td>chapter  </td><td>2.388764e-07</td></tr>\n",
       "\t<tr><td>2</td><td>chapter  </td><td>9.869617e-04</td></tr>\n",
       "\t<tr><td>3</td><td>chapter  </td><td>2.568594e-03</td></tr>\n",
       "\t<tr><td>4</td><td>chapter  </td><td>1.721584e-03</td></tr>\n",
       "\t<tr><td>1</td><td>fathers  </td><td>2.388764e-07</td></tr>\n",
       "\t<tr><td>2</td><td>fathers  </td><td>3.182721e-07</td></tr>\n",
       "\t<tr><td>3</td><td>fathers  </td><td>3.170712e-07</td></tr>\n",
       "\t<tr><td>4</td><td>fathers  </td><td>6.729235e-04</td></tr>\n",
       "\t<tr><td>1</td><td>family   </td><td>2.388764e-07</td></tr>\n",
       "\t<tr><td>2</td><td>family   </td><td>3.182721e-07</td></tr>\n",
       "\t<tr><td>3</td><td>family   </td><td>3.170712e-07</td></tr>\n",
       "\t<tr><td>4</td><td>family   </td><td>3.917836e-03</td></tr>\n",
       "\t<tr><td>1</td><td>pirrip   </td><td>9.578942e-05</td></tr>\n",
       "\t<tr><td>2</td><td>pirrip   </td><td>3.182721e-07</td></tr>\n",
       "\t<tr><td>3</td><td>pirrip   </td><td>3.170712e-07</td></tr>\n",
       "\t<tr><td>4</td><td>pirrip   </td><td>1.998391e-05</td></tr>\n",
       "\t<tr><td>1</td><td>christian</td><td>2.630029e-04</td></tr>\n",
       "\t<tr><td>2</td><td>christian</td><td>3.182721e-07</td></tr>\n",
       "\t<tr><td>3</td><td>christian</td><td>3.170712e-07</td></tr>\n",
       "\t<tr><td>4</td><td>christian</td><td>1.978605e-07</td></tr>\n",
       "\t<tr><td>1</td><td>philip   </td><td>2.630029e-04</td></tr>\n",
       "\t<tr><td>2</td><td>philip   </td><td>3.182721e-07</td></tr>\n",
       "\t<tr><td>3</td><td>philip   </td><td>3.170712e-07</td></tr>\n",
       "\t<tr><td>4</td><td>philip   </td><td>1.978605e-07</td></tr>\n",
       "\t<tr><td>1</td><td>infant   </td><td>1.913400e-04</td></tr>\n",
       "\t<tr><td>2</td><td>infant   </td><td>3.182721e-07</td></tr>\n",
       "\t<tr><td>3</td><td>infant   </td><td>3.170712e-07</td></tr>\n",
       "\t<tr><td>4</td><td>infant   </td><td>1.978605e-07</td></tr>\n",
       "\t<tr><td>1</td><td>tongue   </td><td>2.388764e-07</td></tr>\n",
       "\t<tr><td>2</td><td>tongue   </td><td>3.182721e-07</td></tr>\n",
       "\t<tr><td>...</td><td>...</td><td>...</td></tr>\n",
       "\t<tr><td>3</td><td>iodine     </td><td>3.202419e-05</td></tr>\n",
       "\t<tr><td>4</td><td>iodine     </td><td>1.978605e-07</td></tr>\n",
       "\t<tr><td>1</td><td>ventilating</td><td>2.388764e-07</td></tr>\n",
       "\t<tr><td>2</td><td>ventilating</td><td>3.214548e-05</td></tr>\n",
       "\t<tr><td>3</td><td>ventilating</td><td>3.170712e-07</td></tr>\n",
       "\t<tr><td>4</td><td>ventilating</td><td>1.978605e-07</td></tr>\n",
       "\t<tr><td>1</td><td>conduit    </td><td>2.388764e-07</td></tr>\n",
       "\t<tr><td>2</td><td>conduit    </td><td>3.182721e-07</td></tr>\n",
       "\t<tr><td>3</td><td>conduit    </td><td>3.202419e-05</td></tr>\n",
       "\t<tr><td>4</td><td>conduit    </td><td>1.978605e-07</td></tr>\n",
       "\t<tr><td>1</td><td>whiff      </td><td>2.388764e-07</td></tr>\n",
       "\t<tr><td>2</td><td>whiff      </td><td>3.214548e-05</td></tr>\n",
       "\t<tr><td>3</td><td>whiff      </td><td>3.170712e-07</td></tr>\n",
       "\t<tr><td>4</td><td>whiff      </td><td>1.978605e-07</td></tr>\n",
       "\t<tr><td>1</td><td>ventilator </td><td>2.412651e-05</td></tr>\n",
       "\t<tr><td>2</td><td>ventilator </td><td>3.182721e-07</td></tr>\n",
       "\t<tr><td>3</td><td>ventilator </td><td>3.170712e-07</td></tr>\n",
       "\t<tr><td>4</td><td>ventilator </td><td>1.978605e-07</td></tr>\n",
       "\t<tr><td>1</td><td>conform    </td><td>2.388764e-07</td></tr>\n",
       "\t<tr><td>2</td><td>conform    </td><td>3.214548e-05</td></tr>\n",
       "\t<tr><td>3</td><td>conform    </td><td>3.170712e-07</td></tr>\n",
       "\t<tr><td>4</td><td>conform    </td><td>1.978605e-07</td></tr>\n",
       "\t<tr><td>1</td><td>cravings   </td><td>2.388764e-07</td></tr>\n",
       "\t<tr><td>2</td><td>cravings   </td><td>3.182721e-07</td></tr>\n",
       "\t<tr><td>3</td><td>cravings   </td><td>3.202419e-05</td></tr>\n",
       "\t<tr><td>4</td><td>cravings   </td><td>1.978605e-07</td></tr>\n",
       "\t<tr><td>1</td><td>unclasp    </td><td>2.388764e-07</td></tr>\n",
       "\t<tr><td>2</td><td>unclasp    </td><td>3.214548e-05</td></tr>\n",
       "\t<tr><td>3</td><td>unclasp    </td><td>3.170712e-07</td></tr>\n",
       "\t<tr><td>4</td><td>unclasp    </td><td>1.978605e-07</td></tr>\n",
       "</tbody>\n",
       "</table>\n"
      ],
      "text/latex": [
       "A tibble: 71064 × 3\n",
       "\\begin{tabular}{lll}\n",
       " topic & term & beta\\\\\n",
       " <int> & <chr> & <dbl>\\\\\n",
       "\\hline\n",
       "\t 1 & chapter   & 2.388764e-07\\\\\n",
       "\t 2 & chapter   & 9.869617e-04\\\\\n",
       "\t 3 & chapter   & 2.568594e-03\\\\\n",
       "\t 4 & chapter   & 1.721584e-03\\\\\n",
       "\t 1 & fathers   & 2.388764e-07\\\\\n",
       "\t 2 & fathers   & 3.182721e-07\\\\\n",
       "\t 3 & fathers   & 3.170712e-07\\\\\n",
       "\t 4 & fathers   & 6.729235e-04\\\\\n",
       "\t 1 & family    & 2.388764e-07\\\\\n",
       "\t 2 & family    & 3.182721e-07\\\\\n",
       "\t 3 & family    & 3.170712e-07\\\\\n",
       "\t 4 & family    & 3.917836e-03\\\\\n",
       "\t 1 & pirrip    & 9.578942e-05\\\\\n",
       "\t 2 & pirrip    & 3.182721e-07\\\\\n",
       "\t 3 & pirrip    & 3.170712e-07\\\\\n",
       "\t 4 & pirrip    & 1.998391e-05\\\\\n",
       "\t 1 & christian & 2.630029e-04\\\\\n",
       "\t 2 & christian & 3.182721e-07\\\\\n",
       "\t 3 & christian & 3.170712e-07\\\\\n",
       "\t 4 & christian & 1.978605e-07\\\\\n",
       "\t 1 & philip    & 2.630029e-04\\\\\n",
       "\t 2 & philip    & 3.182721e-07\\\\\n",
       "\t 3 & philip    & 3.170712e-07\\\\\n",
       "\t 4 & philip    & 1.978605e-07\\\\\n",
       "\t 1 & infant    & 1.913400e-04\\\\\n",
       "\t 2 & infant    & 3.182721e-07\\\\\n",
       "\t 3 & infant    & 3.170712e-07\\\\\n",
       "\t 4 & infant    & 1.978605e-07\\\\\n",
       "\t 1 & tongue    & 2.388764e-07\\\\\n",
       "\t 2 & tongue    & 3.182721e-07\\\\\n",
       "\t ... & ... & ...\\\\\n",
       "\t 3 & iodine      & 3.202419e-05\\\\\n",
       "\t 4 & iodine      & 1.978605e-07\\\\\n",
       "\t 1 & ventilating & 2.388764e-07\\\\\n",
       "\t 2 & ventilating & 3.214548e-05\\\\\n",
       "\t 3 & ventilating & 3.170712e-07\\\\\n",
       "\t 4 & ventilating & 1.978605e-07\\\\\n",
       "\t 1 & conduit     & 2.388764e-07\\\\\n",
       "\t 2 & conduit     & 3.182721e-07\\\\\n",
       "\t 3 & conduit     & 3.202419e-05\\\\\n",
       "\t 4 & conduit     & 1.978605e-07\\\\\n",
       "\t 1 & whiff       & 2.388764e-07\\\\\n",
       "\t 2 & whiff       & 3.214548e-05\\\\\n",
       "\t 3 & whiff       & 3.170712e-07\\\\\n",
       "\t 4 & whiff       & 1.978605e-07\\\\\n",
       "\t 1 & ventilator  & 2.412651e-05\\\\\n",
       "\t 2 & ventilator  & 3.182721e-07\\\\\n",
       "\t 3 & ventilator  & 3.170712e-07\\\\\n",
       "\t 4 & ventilator  & 1.978605e-07\\\\\n",
       "\t 1 & conform     & 2.388764e-07\\\\\n",
       "\t 2 & conform     & 3.214548e-05\\\\\n",
       "\t 3 & conform     & 3.170712e-07\\\\\n",
       "\t 4 & conform     & 1.978605e-07\\\\\n",
       "\t 1 & cravings    & 2.388764e-07\\\\\n",
       "\t 2 & cravings    & 3.182721e-07\\\\\n",
       "\t 3 & cravings    & 3.202419e-05\\\\\n",
       "\t 4 & cravings    & 1.978605e-07\\\\\n",
       "\t 1 & unclasp     & 2.388764e-07\\\\\n",
       "\t 2 & unclasp     & 3.214548e-05\\\\\n",
       "\t 3 & unclasp     & 3.170712e-07\\\\\n",
       "\t 4 & unclasp     & 1.978605e-07\\\\\n",
       "\\end{tabular}\n"
      ],
      "text/markdown": [
       "\n",
       "A tibble: 71064 × 3\n",
       "\n",
       "| topic &lt;int&gt; | term &lt;chr&gt; | beta &lt;dbl&gt; |\n",
       "|---|---|---|\n",
       "| 1 | chapter   | 2.388764e-07 |\n",
       "| 2 | chapter   | 9.869617e-04 |\n",
       "| 3 | chapter   | 2.568594e-03 |\n",
       "| 4 | chapter   | 1.721584e-03 |\n",
       "| 1 | fathers   | 2.388764e-07 |\n",
       "| 2 | fathers   | 3.182721e-07 |\n",
       "| 3 | fathers   | 3.170712e-07 |\n",
       "| 4 | fathers   | 6.729235e-04 |\n",
       "| 1 | family    | 2.388764e-07 |\n",
       "| 2 | family    | 3.182721e-07 |\n",
       "| 3 | family    | 3.170712e-07 |\n",
       "| 4 | family    | 3.917836e-03 |\n",
       "| 1 | pirrip    | 9.578942e-05 |\n",
       "| 2 | pirrip    | 3.182721e-07 |\n",
       "| 3 | pirrip    | 3.170712e-07 |\n",
       "| 4 | pirrip    | 1.998391e-05 |\n",
       "| 1 | christian | 2.630029e-04 |\n",
       "| 2 | christian | 3.182721e-07 |\n",
       "| 3 | christian | 3.170712e-07 |\n",
       "| 4 | christian | 1.978605e-07 |\n",
       "| 1 | philip    | 2.630029e-04 |\n",
       "| 2 | philip    | 3.182721e-07 |\n",
       "| 3 | philip    | 3.170712e-07 |\n",
       "| 4 | philip    | 1.978605e-07 |\n",
       "| 1 | infant    | 1.913400e-04 |\n",
       "| 2 | infant    | 3.182721e-07 |\n",
       "| 3 | infant    | 3.170712e-07 |\n",
       "| 4 | infant    | 1.978605e-07 |\n",
       "| 1 | tongue    | 2.388764e-07 |\n",
       "| 2 | tongue    | 3.182721e-07 |\n",
       "| ... | ... | ... |\n",
       "| 3 | iodine      | 3.202419e-05 |\n",
       "| 4 | iodine      | 1.978605e-07 |\n",
       "| 1 | ventilating | 2.388764e-07 |\n",
       "| 2 | ventilating | 3.214548e-05 |\n",
       "| 3 | ventilating | 3.170712e-07 |\n",
       "| 4 | ventilating | 1.978605e-07 |\n",
       "| 1 | conduit     | 2.388764e-07 |\n",
       "| 2 | conduit     | 3.182721e-07 |\n",
       "| 3 | conduit     | 3.202419e-05 |\n",
       "| 4 | conduit     | 1.978605e-07 |\n",
       "| 1 | whiff       | 2.388764e-07 |\n",
       "| 2 | whiff       | 3.214548e-05 |\n",
       "| 3 | whiff       | 3.170712e-07 |\n",
       "| 4 | whiff       | 1.978605e-07 |\n",
       "| 1 | ventilator  | 2.412651e-05 |\n",
       "| 2 | ventilator  | 3.182721e-07 |\n",
       "| 3 | ventilator  | 3.170712e-07 |\n",
       "| 4 | ventilator  | 1.978605e-07 |\n",
       "| 1 | conform     | 2.388764e-07 |\n",
       "| 2 | conform     | 3.214548e-05 |\n",
       "| 3 | conform     | 3.170712e-07 |\n",
       "| 4 | conform     | 1.978605e-07 |\n",
       "| 1 | cravings    | 2.388764e-07 |\n",
       "| 2 | cravings    | 3.182721e-07 |\n",
       "| 3 | cravings    | 3.202419e-05 |\n",
       "| 4 | cravings    | 1.978605e-07 |\n",
       "| 1 | unclasp     | 2.388764e-07 |\n",
       "| 2 | unclasp     | 3.214548e-05 |\n",
       "| 3 | unclasp     | 3.170712e-07 |\n",
       "| 4 | unclasp     | 1.978605e-07 |\n",
       "\n"
      ],
      "text/plain": [
       "      topic term        beta        \n",
       "1     1     chapter     2.388764e-07\n",
       "2     2     chapter     9.869617e-04\n",
       "3     3     chapter     2.568594e-03\n",
       "4     4     chapter     1.721584e-03\n",
       "5     1     fathers     2.388764e-07\n",
       "6     2     fathers     3.182721e-07\n",
       "7     3     fathers     3.170712e-07\n",
       "8     4     fathers     6.729235e-04\n",
       "9     1     family      2.388764e-07\n",
       "10    2     family      3.182721e-07\n",
       "11    3     family      3.170712e-07\n",
       "12    4     family      3.917836e-03\n",
       "13    1     pirrip      9.578942e-05\n",
       "14    2     pirrip      3.182721e-07\n",
       "15    3     pirrip      3.170712e-07\n",
       "16    4     pirrip      1.998391e-05\n",
       "17    1     christian   2.630029e-04\n",
       "18    2     christian   3.182721e-07\n",
       "19    3     christian   3.170712e-07\n",
       "20    4     christian   1.978605e-07\n",
       "21    1     philip      2.630029e-04\n",
       "22    2     philip      3.182721e-07\n",
       "23    3     philip      3.170712e-07\n",
       "24    4     philip      1.978605e-07\n",
       "25    1     infant      1.913400e-04\n",
       "26    2     infant      3.182721e-07\n",
       "27    3     infant      3.170712e-07\n",
       "28    4     infant      1.978605e-07\n",
       "29    1     tongue      2.388764e-07\n",
       "30    2     tongue      3.182721e-07\n",
       "...   ...   ...         ...         \n",
       "71035 3     iodine      3.202419e-05\n",
       "71036 4     iodine      1.978605e-07\n",
       "71037 1     ventilating 2.388764e-07\n",
       "71038 2     ventilating 3.214548e-05\n",
       "71039 3     ventilating 3.170712e-07\n",
       "71040 4     ventilating 1.978605e-07\n",
       "71041 1     conduit     2.388764e-07\n",
       "71042 2     conduit     3.182721e-07\n",
       "71043 3     conduit     3.202419e-05\n",
       "71044 4     conduit     1.978605e-07\n",
       "71045 1     whiff       2.388764e-07\n",
       "71046 2     whiff       3.214548e-05\n",
       "71047 3     whiff       3.170712e-07\n",
       "71048 4     whiff       1.978605e-07\n",
       "71049 1     ventilator  2.412651e-05\n",
       "71050 2     ventilator  3.182721e-07\n",
       "71051 3     ventilator  3.170712e-07\n",
       "71052 4     ventilator  1.978605e-07\n",
       "71053 1     conform     2.388764e-07\n",
       "71054 2     conform     3.214548e-05\n",
       "71055 3     conform     3.170712e-07\n",
       "71056 4     conform     1.978605e-07\n",
       "71057 1     cravings    2.388764e-07\n",
       "71058 2     cravings    3.182721e-07\n",
       "71059 3     cravings    3.202419e-05\n",
       "71060 4     cravings    1.978605e-07\n",
       "71061 1     unclasp     2.388764e-07\n",
       "71062 2     unclasp     3.214548e-05\n",
       "71063 3     unclasp     3.170712e-07\n",
       "71064 4     unclasp     1.978605e-07"
      ]
     },
     "metadata": {},
     "output_type": "display_data"
    },
    {
     "data": {
      "text/html": [
       "<table>\n",
       "<caption>A tibble: 772 × 3</caption>\n",
       "<thead>\n",
       "\t<tr><th scope=col>document</th><th scope=col>topic</th><th scope=col>gamma</th></tr>\n",
       "\t<tr><th scope=col>&lt;chr&gt;</th><th scope=col>&lt;int&gt;</th><th scope=col>&lt;dbl&gt;</th></tr>\n",
       "</thead>\n",
       "<tbody>\n",
       "\t<tr><td>Great Expectations_1 </td><td>1</td><td>0.5289292</td></tr>\n",
       "\t<tr><td>Great Expectations_10</td><td>1</td><td>0.5058570</td></tr>\n",
       "\t<tr><td>Great Expectations_11</td><td>1</td><td>0.3817485</td></tr>\n",
       "\t<tr><td>Great Expectations_12</td><td>1</td><td>0.4157183</td></tr>\n",
       "\t<tr><td>Great Expectations_13</td><td>1</td><td>0.4351124</td></tr>\n",
       "\t<tr><td>Great Expectations_14</td><td>1</td><td>0.4272541</td></tr>\n",
       "\t<tr><td>Great Expectations_15</td><td>1</td><td>0.4310542</td></tr>\n",
       "\t<tr><td>Great Expectations_16</td><td>1</td><td>0.4589679</td></tr>\n",
       "\t<tr><td>Great Expectations_17</td><td>1</td><td>0.3755618</td></tr>\n",
       "\t<tr><td>Great Expectations_18</td><td>1</td><td>0.5062585</td></tr>\n",
       "\t<tr><td>Great Expectations_19</td><td>1</td><td>0.4278732</td></tr>\n",
       "\t<tr><td>Great Expectations_2 </td><td>1</td><td>0.5570055</td></tr>\n",
       "\t<tr><td>Great Expectations_20</td><td>1</td><td>0.6091692</td></tr>\n",
       "\t<tr><td>Great Expectations_21</td><td>1</td><td>0.4334239</td></tr>\n",
       "\t<tr><td>Great Expectations_22</td><td>1</td><td>0.4109235</td></tr>\n",
       "\t<tr><td>Great Expectations_23</td><td>1</td><td>0.3550195</td></tr>\n",
       "\t<tr><td>Great Expectations_24</td><td>1</td><td>0.4481343</td></tr>\n",
       "\t<tr><td>Great Expectations_25</td><td>1</td><td>0.4953855</td></tr>\n",
       "\t<tr><td>Great Expectations_26</td><td>1</td><td>0.5263006</td></tr>\n",
       "\t<tr><td>Great Expectations_27</td><td>1</td><td>0.5002546</td></tr>\n",
       "\t<tr><td>Great Expectations_28</td><td>1</td><td>0.5196929</td></tr>\n",
       "\t<tr><td>Great Expectations_29</td><td>1</td><td>0.3982377</td></tr>\n",
       "\t<tr><td>Great Expectations_3 </td><td>1</td><td>0.4763746</td></tr>\n",
       "\t<tr><td>Great Expectations_30</td><td>1</td><td>0.4914216</td></tr>\n",
       "\t<tr><td>Great Expectations_31</td><td>1</td><td>0.4969136</td></tr>\n",
       "\t<tr><td>Great Expectations_32</td><td>1</td><td>0.4880952</td></tr>\n",
       "\t<tr><td>Great Expectations_33</td><td>1</td><td>0.3054172</td></tr>\n",
       "\t<tr><td>Great Expectations_34</td><td>1</td><td>0.4547587</td></tr>\n",
       "\t<tr><td>Great Expectations_35</td><td>1</td><td>0.3985066</td></tr>\n",
       "\t<tr><td>Great Expectations_36</td><td>1</td><td>0.5269441</td></tr>\n",
       "\t<tr><td>...</td><td>...</td><td>...</td></tr>\n",
       "\t<tr><td>Twenty Thousand Leagues under the Sea_24</td><td>4</td><td>0.04847441</td></tr>\n",
       "\t<tr><td>Twenty Thousand Leagues under the Sea_25</td><td>4</td><td>0.08242259</td></tr>\n",
       "\t<tr><td>Twenty Thousand Leagues under the Sea_26</td><td>4</td><td>0.02222659</td></tr>\n",
       "\t<tr><td>Twenty Thousand Leagues under the Sea_27</td><td>4</td><td>0.06782265</td></tr>\n",
       "\t<tr><td>Twenty Thousand Leagues under the Sea_28</td><td>4</td><td>0.02012128</td></tr>\n",
       "\t<tr><td>Twenty Thousand Leagues under the Sea_29</td><td>4</td><td>0.07536008</td></tr>\n",
       "\t<tr><td>Twenty Thousand Leagues under the Sea_3 </td><td>4</td><td>0.14655172</td></tr>\n",
       "\t<tr><td>Twenty Thousand Leagues under the Sea_30</td><td>4</td><td>0.03409091</td></tr>\n",
       "\t<tr><td>Twenty Thousand Leagues under the Sea_31</td><td>4</td><td>0.08502969</td></tr>\n",
       "\t<tr><td>Twenty Thousand Leagues under the Sea_32</td><td>4</td><td>0.04502688</td></tr>\n",
       "\t<tr><td>Twenty Thousand Leagues under the Sea_33</td><td>4</td><td>0.03886139</td></tr>\n",
       "\t<tr><td>Twenty Thousand Leagues under the Sea_34</td><td>4</td><td>0.06278539</td></tr>\n",
       "\t<tr><td>Twenty Thousand Leagues under the Sea_35</td><td>4</td><td>0.05831693</td></tr>\n",
       "\t<tr><td>Twenty Thousand Leagues under the Sea_36</td><td>4</td><td>0.05499117</td></tr>\n",
       "\t<tr><td>Twenty Thousand Leagues under the Sea_37</td><td>4</td><td>0.03821775</td></tr>\n",
       "\t<tr><td>Twenty Thousand Leagues under the Sea_38</td><td>4</td><td>0.05054274</td></tr>\n",
       "\t<tr><td>Twenty Thousand Leagues under the Sea_39</td><td>4</td><td>0.04790795</td></tr>\n",
       "\t<tr><td>Twenty Thousand Leagues under the Sea_4 </td><td>4</td><td>0.13705036</td></tr>\n",
       "\t<tr><td>Twenty Thousand Leagues under the Sea_40</td><td>4</td><td>0.04440452</td></tr>\n",
       "\t<tr><td>Twenty Thousand Leagues under the Sea_41</td><td>4</td><td>0.05161830</td></tr>\n",
       "\t<tr><td>Twenty Thousand Leagues under the Sea_42</td><td>4</td><td>0.09586466</td></tr>\n",
       "\t<tr><td>Twenty Thousand Leagues under the Sea_43</td><td>4</td><td>0.04678962</td></tr>\n",
       "\t<tr><td>Twenty Thousand Leagues under the Sea_44</td><td>4</td><td>0.04525862</td></tr>\n",
       "\t<tr><td>Twenty Thousand Leagues under the Sea_45</td><td>4</td><td>0.03637951</td></tr>\n",
       "\t<tr><td>Twenty Thousand Leagues under the Sea_46</td><td>4</td><td>0.12656250</td></tr>\n",
       "\t<tr><td>Twenty Thousand Leagues under the Sea_5 </td><td>4</td><td>0.10491420</td></tr>\n",
       "\t<tr><td>Twenty Thousand Leagues under the Sea_6 </td><td>4</td><td>0.03698846</td></tr>\n",
       "\t<tr><td>Twenty Thousand Leagues under the Sea_7 </td><td>4</td><td>0.04592541</td></tr>\n",
       "\t<tr><td>Twenty Thousand Leagues under the Sea_8 </td><td>4</td><td>0.15591755</td></tr>\n",
       "\t<tr><td>Twenty Thousand Leagues under the Sea_9 </td><td>4</td><td>0.09446023</td></tr>\n",
       "</tbody>\n",
       "</table>\n"
      ],
      "text/latex": [
       "A tibble: 772 × 3\n",
       "\\begin{tabular}{lll}\n",
       " document & topic & gamma\\\\\n",
       " <chr> & <int> & <dbl>\\\\\n",
       "\\hline\n",
       "\t Great Expectations\\_1  & 1 & 0.5289292\\\\\n",
       "\t Great Expectations\\_10 & 1 & 0.5058570\\\\\n",
       "\t Great Expectations\\_11 & 1 & 0.3817485\\\\\n",
       "\t Great Expectations\\_12 & 1 & 0.4157183\\\\\n",
       "\t Great Expectations\\_13 & 1 & 0.4351124\\\\\n",
       "\t Great Expectations\\_14 & 1 & 0.4272541\\\\\n",
       "\t Great Expectations\\_15 & 1 & 0.4310542\\\\\n",
       "\t Great Expectations\\_16 & 1 & 0.4589679\\\\\n",
       "\t Great Expectations\\_17 & 1 & 0.3755618\\\\\n",
       "\t Great Expectations\\_18 & 1 & 0.5062585\\\\\n",
       "\t Great Expectations\\_19 & 1 & 0.4278732\\\\\n",
       "\t Great Expectations\\_2  & 1 & 0.5570055\\\\\n",
       "\t Great Expectations\\_20 & 1 & 0.6091692\\\\\n",
       "\t Great Expectations\\_21 & 1 & 0.4334239\\\\\n",
       "\t Great Expectations\\_22 & 1 & 0.4109235\\\\\n",
       "\t Great Expectations\\_23 & 1 & 0.3550195\\\\\n",
       "\t Great Expectations\\_24 & 1 & 0.4481343\\\\\n",
       "\t Great Expectations\\_25 & 1 & 0.4953855\\\\\n",
       "\t Great Expectations\\_26 & 1 & 0.5263006\\\\\n",
       "\t Great Expectations\\_27 & 1 & 0.5002546\\\\\n",
       "\t Great Expectations\\_28 & 1 & 0.5196929\\\\\n",
       "\t Great Expectations\\_29 & 1 & 0.3982377\\\\\n",
       "\t Great Expectations\\_3  & 1 & 0.4763746\\\\\n",
       "\t Great Expectations\\_30 & 1 & 0.4914216\\\\\n",
       "\t Great Expectations\\_31 & 1 & 0.4969136\\\\\n",
       "\t Great Expectations\\_32 & 1 & 0.4880952\\\\\n",
       "\t Great Expectations\\_33 & 1 & 0.3054172\\\\\n",
       "\t Great Expectations\\_34 & 1 & 0.4547587\\\\\n",
       "\t Great Expectations\\_35 & 1 & 0.3985066\\\\\n",
       "\t Great Expectations\\_36 & 1 & 0.5269441\\\\\n",
       "\t ... & ... & ...\\\\\n",
       "\t Twenty Thousand Leagues under the Sea\\_24 & 4 & 0.04847441\\\\\n",
       "\t Twenty Thousand Leagues under the Sea\\_25 & 4 & 0.08242259\\\\\n",
       "\t Twenty Thousand Leagues under the Sea\\_26 & 4 & 0.02222659\\\\\n",
       "\t Twenty Thousand Leagues under the Sea\\_27 & 4 & 0.06782265\\\\\n",
       "\t Twenty Thousand Leagues under the Sea\\_28 & 4 & 0.02012128\\\\\n",
       "\t Twenty Thousand Leagues under the Sea\\_29 & 4 & 0.07536008\\\\\n",
       "\t Twenty Thousand Leagues under the Sea\\_3  & 4 & 0.14655172\\\\\n",
       "\t Twenty Thousand Leagues under the Sea\\_30 & 4 & 0.03409091\\\\\n",
       "\t Twenty Thousand Leagues under the Sea\\_31 & 4 & 0.08502969\\\\\n",
       "\t Twenty Thousand Leagues under the Sea\\_32 & 4 & 0.04502688\\\\\n",
       "\t Twenty Thousand Leagues under the Sea\\_33 & 4 & 0.03886139\\\\\n",
       "\t Twenty Thousand Leagues under the Sea\\_34 & 4 & 0.06278539\\\\\n",
       "\t Twenty Thousand Leagues under the Sea\\_35 & 4 & 0.05831693\\\\\n",
       "\t Twenty Thousand Leagues under the Sea\\_36 & 4 & 0.05499117\\\\\n",
       "\t Twenty Thousand Leagues under the Sea\\_37 & 4 & 0.03821775\\\\\n",
       "\t Twenty Thousand Leagues under the Sea\\_38 & 4 & 0.05054274\\\\\n",
       "\t Twenty Thousand Leagues under the Sea\\_39 & 4 & 0.04790795\\\\\n",
       "\t Twenty Thousand Leagues under the Sea\\_4  & 4 & 0.13705036\\\\\n",
       "\t Twenty Thousand Leagues under the Sea\\_40 & 4 & 0.04440452\\\\\n",
       "\t Twenty Thousand Leagues under the Sea\\_41 & 4 & 0.05161830\\\\\n",
       "\t Twenty Thousand Leagues under the Sea\\_42 & 4 & 0.09586466\\\\\n",
       "\t Twenty Thousand Leagues under the Sea\\_43 & 4 & 0.04678962\\\\\n",
       "\t Twenty Thousand Leagues under the Sea\\_44 & 4 & 0.04525862\\\\\n",
       "\t Twenty Thousand Leagues under the Sea\\_45 & 4 & 0.03637951\\\\\n",
       "\t Twenty Thousand Leagues under the Sea\\_46 & 4 & 0.12656250\\\\\n",
       "\t Twenty Thousand Leagues under the Sea\\_5  & 4 & 0.10491420\\\\\n",
       "\t Twenty Thousand Leagues under the Sea\\_6  & 4 & 0.03698846\\\\\n",
       "\t Twenty Thousand Leagues under the Sea\\_7  & 4 & 0.04592541\\\\\n",
       "\t Twenty Thousand Leagues under the Sea\\_8  & 4 & 0.15591755\\\\\n",
       "\t Twenty Thousand Leagues under the Sea\\_9  & 4 & 0.09446023\\\\\n",
       "\\end{tabular}\n"
      ],
      "text/markdown": [
       "\n",
       "A tibble: 772 × 3\n",
       "\n",
       "| document &lt;chr&gt; | topic &lt;int&gt; | gamma &lt;dbl&gt; |\n",
       "|---|---|---|\n",
       "| Great Expectations_1  | 1 | 0.5289292 |\n",
       "| Great Expectations_10 | 1 | 0.5058570 |\n",
       "| Great Expectations_11 | 1 | 0.3817485 |\n",
       "| Great Expectations_12 | 1 | 0.4157183 |\n",
       "| Great Expectations_13 | 1 | 0.4351124 |\n",
       "| Great Expectations_14 | 1 | 0.4272541 |\n",
       "| Great Expectations_15 | 1 | 0.4310542 |\n",
       "| Great Expectations_16 | 1 | 0.4589679 |\n",
       "| Great Expectations_17 | 1 | 0.3755618 |\n",
       "| Great Expectations_18 | 1 | 0.5062585 |\n",
       "| Great Expectations_19 | 1 | 0.4278732 |\n",
       "| Great Expectations_2  | 1 | 0.5570055 |\n",
       "| Great Expectations_20 | 1 | 0.6091692 |\n",
       "| Great Expectations_21 | 1 | 0.4334239 |\n",
       "| Great Expectations_22 | 1 | 0.4109235 |\n",
       "| Great Expectations_23 | 1 | 0.3550195 |\n",
       "| Great Expectations_24 | 1 | 0.4481343 |\n",
       "| Great Expectations_25 | 1 | 0.4953855 |\n",
       "| Great Expectations_26 | 1 | 0.5263006 |\n",
       "| Great Expectations_27 | 1 | 0.5002546 |\n",
       "| Great Expectations_28 | 1 | 0.5196929 |\n",
       "| Great Expectations_29 | 1 | 0.3982377 |\n",
       "| Great Expectations_3  | 1 | 0.4763746 |\n",
       "| Great Expectations_30 | 1 | 0.4914216 |\n",
       "| Great Expectations_31 | 1 | 0.4969136 |\n",
       "| Great Expectations_32 | 1 | 0.4880952 |\n",
       "| Great Expectations_33 | 1 | 0.3054172 |\n",
       "| Great Expectations_34 | 1 | 0.4547587 |\n",
       "| Great Expectations_35 | 1 | 0.3985066 |\n",
       "| Great Expectations_36 | 1 | 0.5269441 |\n",
       "| ... | ... | ... |\n",
       "| Twenty Thousand Leagues under the Sea_24 | 4 | 0.04847441 |\n",
       "| Twenty Thousand Leagues under the Sea_25 | 4 | 0.08242259 |\n",
       "| Twenty Thousand Leagues under the Sea_26 | 4 | 0.02222659 |\n",
       "| Twenty Thousand Leagues under the Sea_27 | 4 | 0.06782265 |\n",
       "| Twenty Thousand Leagues under the Sea_28 | 4 | 0.02012128 |\n",
       "| Twenty Thousand Leagues under the Sea_29 | 4 | 0.07536008 |\n",
       "| Twenty Thousand Leagues under the Sea_3  | 4 | 0.14655172 |\n",
       "| Twenty Thousand Leagues under the Sea_30 | 4 | 0.03409091 |\n",
       "| Twenty Thousand Leagues under the Sea_31 | 4 | 0.08502969 |\n",
       "| Twenty Thousand Leagues under the Sea_32 | 4 | 0.04502688 |\n",
       "| Twenty Thousand Leagues under the Sea_33 | 4 | 0.03886139 |\n",
       "| Twenty Thousand Leagues under the Sea_34 | 4 | 0.06278539 |\n",
       "| Twenty Thousand Leagues under the Sea_35 | 4 | 0.05831693 |\n",
       "| Twenty Thousand Leagues under the Sea_36 | 4 | 0.05499117 |\n",
       "| Twenty Thousand Leagues under the Sea_37 | 4 | 0.03821775 |\n",
       "| Twenty Thousand Leagues under the Sea_38 | 4 | 0.05054274 |\n",
       "| Twenty Thousand Leagues under the Sea_39 | 4 | 0.04790795 |\n",
       "| Twenty Thousand Leagues under the Sea_4  | 4 | 0.13705036 |\n",
       "| Twenty Thousand Leagues under the Sea_40 | 4 | 0.04440452 |\n",
       "| Twenty Thousand Leagues under the Sea_41 | 4 | 0.05161830 |\n",
       "| Twenty Thousand Leagues under the Sea_42 | 4 | 0.09586466 |\n",
       "| Twenty Thousand Leagues under the Sea_43 | 4 | 0.04678962 |\n",
       "| Twenty Thousand Leagues under the Sea_44 | 4 | 0.04525862 |\n",
       "| Twenty Thousand Leagues under the Sea_45 | 4 | 0.03637951 |\n",
       "| Twenty Thousand Leagues under the Sea_46 | 4 | 0.12656250 |\n",
       "| Twenty Thousand Leagues under the Sea_5  | 4 | 0.10491420 |\n",
       "| Twenty Thousand Leagues under the Sea_6  | 4 | 0.03698846 |\n",
       "| Twenty Thousand Leagues under the Sea_7  | 4 | 0.04592541 |\n",
       "| Twenty Thousand Leagues under the Sea_8  | 4 | 0.15591755 |\n",
       "| Twenty Thousand Leagues under the Sea_9  | 4 | 0.09446023 |\n",
       "\n"
      ],
      "text/plain": [
       "    document                                 topic gamma     \n",
       "1   Great Expectations_1                     1     0.5289292 \n",
       "2   Great Expectations_10                    1     0.5058570 \n",
       "3   Great Expectations_11                    1     0.3817485 \n",
       "4   Great Expectations_12                    1     0.4157183 \n",
       "5   Great Expectations_13                    1     0.4351124 \n",
       "6   Great Expectations_14                    1     0.4272541 \n",
       "7   Great Expectations_15                    1     0.4310542 \n",
       "8   Great Expectations_16                    1     0.4589679 \n",
       "9   Great Expectations_17                    1     0.3755618 \n",
       "10  Great Expectations_18                    1     0.5062585 \n",
       "11  Great Expectations_19                    1     0.4278732 \n",
       "12  Great Expectations_2                     1     0.5570055 \n",
       "13  Great Expectations_20                    1     0.6091692 \n",
       "14  Great Expectations_21                    1     0.4334239 \n",
       "15  Great Expectations_22                    1     0.4109235 \n",
       "16  Great Expectations_23                    1     0.3550195 \n",
       "17  Great Expectations_24                    1     0.4481343 \n",
       "18  Great Expectations_25                    1     0.4953855 \n",
       "19  Great Expectations_26                    1     0.5263006 \n",
       "20  Great Expectations_27                    1     0.5002546 \n",
       "21  Great Expectations_28                    1     0.5196929 \n",
       "22  Great Expectations_29                    1     0.3982377 \n",
       "23  Great Expectations_3                     1     0.4763746 \n",
       "24  Great Expectations_30                    1     0.4914216 \n",
       "25  Great Expectations_31                    1     0.4969136 \n",
       "26  Great Expectations_32                    1     0.4880952 \n",
       "27  Great Expectations_33                    1     0.3054172 \n",
       "28  Great Expectations_34                    1     0.4547587 \n",
       "29  Great Expectations_35                    1     0.3985066 \n",
       "30  Great Expectations_36                    1     0.5269441 \n",
       "... ...                                      ...   ...       \n",
       "743 Twenty Thousand Leagues under the Sea_24 4     0.04847441\n",
       "744 Twenty Thousand Leagues under the Sea_25 4     0.08242259\n",
       "745 Twenty Thousand Leagues under the Sea_26 4     0.02222659\n",
       "746 Twenty Thousand Leagues under the Sea_27 4     0.06782265\n",
       "747 Twenty Thousand Leagues under the Sea_28 4     0.02012128\n",
       "748 Twenty Thousand Leagues under the Sea_29 4     0.07536008\n",
       "749 Twenty Thousand Leagues under the Sea_3  4     0.14655172\n",
       "750 Twenty Thousand Leagues under the Sea_30 4     0.03409091\n",
       "751 Twenty Thousand Leagues under the Sea_31 4     0.08502969\n",
       "752 Twenty Thousand Leagues under the Sea_32 4     0.04502688\n",
       "753 Twenty Thousand Leagues under the Sea_33 4     0.03886139\n",
       "754 Twenty Thousand Leagues under the Sea_34 4     0.06278539\n",
       "755 Twenty Thousand Leagues under the Sea_35 4     0.05831693\n",
       "756 Twenty Thousand Leagues under the Sea_36 4     0.05499117\n",
       "757 Twenty Thousand Leagues under the Sea_37 4     0.03821775\n",
       "758 Twenty Thousand Leagues under the Sea_38 4     0.05054274\n",
       "759 Twenty Thousand Leagues under the Sea_39 4     0.04790795\n",
       "760 Twenty Thousand Leagues under the Sea_4  4     0.13705036\n",
       "761 Twenty Thousand Leagues under the Sea_40 4     0.04440452\n",
       "762 Twenty Thousand Leagues under the Sea_41 4     0.05161830\n",
       "763 Twenty Thousand Leagues under the Sea_42 4     0.09586466\n",
       "764 Twenty Thousand Leagues under the Sea_43 4     0.04678962\n",
       "765 Twenty Thousand Leagues under the Sea_44 4     0.04525862\n",
       "766 Twenty Thousand Leagues under the Sea_45 4     0.03637951\n",
       "767 Twenty Thousand Leagues under the Sea_46 4     0.12656250\n",
       "768 Twenty Thousand Leagues under the Sea_5  4     0.10491420\n",
       "769 Twenty Thousand Leagues under the Sea_6  4     0.03698846\n",
       "770 Twenty Thousand Leagues under the Sea_7  4     0.04592541\n",
       "771 Twenty Thousand Leagues under the Sea_8  4     0.15591755\n",
       "772 Twenty Thousand Leagues under the Sea_9  4     0.09446023"
      ]
     },
     "metadata": {},
     "output_type": "display_data"
    },
    {
     "data": {
      "text/html": [
       "<table>\n",
       "<caption>A tibble: 104722 × 4</caption>\n",
       "<thead>\n",
       "\t<tr><th scope=col>document</th><th scope=col>term</th><th scope=col>n</th><th scope=col>.topic</th></tr>\n",
       "\t<tr><th scope=col>&lt;chr&gt;</th><th scope=col>&lt;chr&gt;</th><th scope=col>&lt;int&gt;</th><th scope=col>&lt;int&gt;</th></tr>\n",
       "</thead>\n",
       "<tbody>\n",
       "\t<tr><td>Great Expectations_57                   </td><td>joe      </td><td>88</td><td>1</td></tr>\n",
       "\t<tr><td>Great Expectations_7                    </td><td>joe      </td><td>70</td><td>1</td></tr>\n",
       "\t<tr><td>Great Expectations_17                   </td><td>biddy    </td><td>63</td><td>4</td></tr>\n",
       "\t<tr><td>Great Expectations_27                   </td><td>joe      </td><td>58</td><td>1</td></tr>\n",
       "\t<tr><td>Great Expectations_38                   </td><td>estella  </td><td>58</td><td>4</td></tr>\n",
       "\t<tr><td>Great Expectations_2                    </td><td>joe      </td><td>56</td><td>1</td></tr>\n",
       "\t<tr><td>Great Expectations_23                   </td><td>pocket   </td><td>53</td><td>4</td></tr>\n",
       "\t<tr><td>Great Expectations_15                   </td><td>joe      </td><td>50</td><td>1</td></tr>\n",
       "\t<tr><td>Great Expectations_18                   </td><td>joe      </td><td>50</td><td>1</td></tr>\n",
       "\t<tr><td>The War of the Worlds_16                </td><td>brother  </td><td>50</td><td>3</td></tr>\n",
       "\t<tr><td>Great Expectations_9                    </td><td>joe      </td><td>44</td><td>1</td></tr>\n",
       "\t<tr><td>Great Expectations_13                   </td><td>joe      </td><td>40</td><td>1</td></tr>\n",
       "\t<tr><td>Great Expectations_35                   </td><td>biddy    </td><td>40</td><td>4</td></tr>\n",
       "\t<tr><td>Great Expectations_11                   </td><td>miss     </td><td>37</td><td>4</td></tr>\n",
       "\t<tr><td>Great Expectations_5                    </td><td>sergeant </td><td>37</td><td>1</td></tr>\n",
       "\t<tr><td>Great Expectations_42                   </td><td>compeyson</td><td>36</td><td>3</td></tr>\n",
       "\t<tr><td>Pride and Prejudice_43                  </td><td>elizabeth</td><td>36</td><td>4</td></tr>\n",
       "\t<tr><td>Great Expectations_51                   </td><td>wemmick  </td><td>35</td><td>1</td></tr>\n",
       "\t<tr><td>Great Expectations_10                   </td><td>joe      </td><td>34</td><td>1</td></tr>\n",
       "\t<tr><td>Great Expectations_29                   </td><td>miss     </td><td>34</td><td>4</td></tr>\n",
       "\t<tr><td>Great Expectations_51                   </td><td>jaggers  </td><td>34</td><td>1</td></tr>\n",
       "\t<tr><td>Twenty Thousand Leagues under the Sea_26</td><td>captain  </td><td>34</td><td>2</td></tr>\n",
       "\t<tr><td>Twenty Thousand Leagues under the Sea_36</td><td>nautilus </td><td>34</td><td>2</td></tr>\n",
       "\t<tr><td>Pride and Prejudice_18                  </td><td>darcy    </td><td>33</td><td>4</td></tr>\n",
       "\t<tr><td>Twenty Thousand Leagues under the Sea_27</td><td>sea      </td><td>33</td><td>2</td></tr>\n",
       "\t<tr><td>Great Expectations_46                   </td><td>herbert  </td><td>32</td><td>1</td></tr>\n",
       "\t<tr><td>Twenty Thousand Leagues under the Sea_21</td><td>captain  </td><td>32</td><td>2</td></tr>\n",
       "\t<tr><td>Twenty Thousand Leagues under the Sea_29</td><td>captain  </td><td>32</td><td>2</td></tr>\n",
       "\t<tr><td>Great Expectations_19                   </td><td>biddy    </td><td>31</td><td>4</td></tr>\n",
       "\t<tr><td>Great Expectations_30                   </td><td>herbert  </td><td>31</td><td>1</td></tr>\n",
       "\t<tr><td>...</td><td>...</td><td>...</td><td>...</td></tr>\n",
       "\t<tr><td>Twenty Thousand Leagues under the Sea_9</td><td>suffocated  </td><td>1</td><td>2</td></tr>\n",
       "\t<tr><td>Twenty Thousand Leagues under the Sea_9</td><td>suppose     </td><td>1</td><td>1</td></tr>\n",
       "\t<tr><td>Twenty Thousand Leagues under the Sea_9</td><td>supposed    </td><td>1</td><td>4</td></tr>\n",
       "\t<tr><td>Twenty Thousand Leagues under the Sea_9</td><td>table       </td><td>1</td><td>4</td></tr>\n",
       "\t<tr><td>Twenty Thousand Leagues under the Sea_9</td><td>taking      </td><td>1</td><td>1</td></tr>\n",
       "\t<tr><td>Twenty Thousand Leagues under the Sea_9</td><td>tempers     </td><td>1</td><td>1</td></tr>\n",
       "\t<tr><td>Twenty Thousand Leagues under the Sea_9</td><td>terrified   </td><td>1</td><td>1</td></tr>\n",
       "\t<tr><td>Twenty Thousand Leagues under the Sea_9</td><td>throat      </td><td>1</td><td>1</td></tr>\n",
       "\t<tr><td>Twenty Thousand Leagues under the Sea_9</td><td>thrown      </td><td>1</td><td>2</td></tr>\n",
       "\t<tr><td>Twenty Thousand Leagues under the Sea_9</td><td>told        </td><td>1</td><td>1</td></tr>\n",
       "\t<tr><td>Twenty Thousand Leagues under the Sea_9</td><td>tormented   </td><td>1</td><td>1</td></tr>\n",
       "\t<tr><td>Twenty Thousand Leagues under the Sea_9</td><td>trembling   </td><td>1</td><td>1</td></tr>\n",
       "\t<tr><td>Twenty Thousand Leagues under the Sea_9</td><td>unbreathable</td><td>1</td><td>3</td></tr>\n",
       "\t<tr><td>Twenty Thousand Leagues under the Sea_9</td><td>unclasp     </td><td>1</td><td>2</td></tr>\n",
       "\t<tr><td>Twenty Thousand Leagues under the Sea_9</td><td>usual       </td><td>1</td><td>4</td></tr>\n",
       "\t<tr><td>Twenty Thousand Leagues under the Sea_9</td><td>vain        </td><td>1</td><td>4</td></tr>\n",
       "\t<tr><td>Twenty Thousand Leagues under the Sea_9</td><td>ventilating </td><td>1</td><td>2</td></tr>\n",
       "\t<tr><td>Twenty Thousand Leagues under the Sea_9</td><td>ventilator  </td><td>1</td><td>1</td></tr>\n",
       "\t<tr><td>Twenty Thousand Leagues under the Sea_9</td><td>victim      </td><td>1</td><td>2</td></tr>\n",
       "\t<tr><td>Twenty Thousand Leagues under the Sea_9</td><td>volumes     </td><td>1</td><td>2</td></tr>\n",
       "\t<tr><td>Twenty Thousand Leagues under the Sea_9</td><td>walls       </td><td>1</td><td>2</td></tr>\n",
       "\t<tr><td>Twenty Thousand Leagues under the Sea_9</td><td>water       </td><td>1</td><td>2</td></tr>\n",
       "\t<tr><td>Twenty Thousand Leagues under the Sea_9</td><td>waters      </td><td>1</td><td>2</td></tr>\n",
       "\t<tr><td>Twenty Thousand Leagues under the Sea_9</td><td>whale       </td><td>1</td><td>2</td></tr>\n",
       "\t<tr><td>Twenty Thousand Leagues under the Sea_9</td><td>whales      </td><td>1</td><td>2</td></tr>\n",
       "\t<tr><td>Twenty Thousand Leagues under the Sea_9</td><td>whichever   </td><td>1</td><td>4</td></tr>\n",
       "\t<tr><td>Twenty Thousand Leagues under the Sea_9</td><td>whiff       </td><td>1</td><td>2</td></tr>\n",
       "\t<tr><td>Twenty Thousand Leagues under the Sea_9</td><td>wide        </td><td>1</td><td>3</td></tr>\n",
       "\t<tr><td>Twenty Thousand Leagues under the Sea_9</td><td>woke        </td><td>1</td><td>2</td></tr>\n",
       "\t<tr><td>Twenty Thousand Leagues under the Sea_9</td><td>words       </td><td>1</td><td>1</td></tr>\n",
       "</tbody>\n",
       "</table>\n"
      ],
      "text/latex": [
       "A tibble: 104722 × 4\n",
       "\\begin{tabular}{llll}\n",
       " document & term & n & .topic\\\\\n",
       " <chr> & <chr> & <int> & <int>\\\\\n",
       "\\hline\n",
       "\t Great Expectations\\_57                    & joe       & 88 & 1\\\\\n",
       "\t Great Expectations\\_7                     & joe       & 70 & 1\\\\\n",
       "\t Great Expectations\\_17                    & biddy     & 63 & 4\\\\\n",
       "\t Great Expectations\\_27                    & joe       & 58 & 1\\\\\n",
       "\t Great Expectations\\_38                    & estella   & 58 & 4\\\\\n",
       "\t Great Expectations\\_2                     & joe       & 56 & 1\\\\\n",
       "\t Great Expectations\\_23                    & pocket    & 53 & 4\\\\\n",
       "\t Great Expectations\\_15                    & joe       & 50 & 1\\\\\n",
       "\t Great Expectations\\_18                    & joe       & 50 & 1\\\\\n",
       "\t The War of the Worlds\\_16                 & brother   & 50 & 3\\\\\n",
       "\t Great Expectations\\_9                     & joe       & 44 & 1\\\\\n",
       "\t Great Expectations\\_13                    & joe       & 40 & 1\\\\\n",
       "\t Great Expectations\\_35                    & biddy     & 40 & 4\\\\\n",
       "\t Great Expectations\\_11                    & miss      & 37 & 4\\\\\n",
       "\t Great Expectations\\_5                     & sergeant  & 37 & 1\\\\\n",
       "\t Great Expectations\\_42                    & compeyson & 36 & 3\\\\\n",
       "\t Pride and Prejudice\\_43                   & elizabeth & 36 & 4\\\\\n",
       "\t Great Expectations\\_51                    & wemmick   & 35 & 1\\\\\n",
       "\t Great Expectations\\_10                    & joe       & 34 & 1\\\\\n",
       "\t Great Expectations\\_29                    & miss      & 34 & 4\\\\\n",
       "\t Great Expectations\\_51                    & jaggers   & 34 & 1\\\\\n",
       "\t Twenty Thousand Leagues under the Sea\\_26 & captain   & 34 & 2\\\\\n",
       "\t Twenty Thousand Leagues under the Sea\\_36 & nautilus  & 34 & 2\\\\\n",
       "\t Pride and Prejudice\\_18                   & darcy     & 33 & 4\\\\\n",
       "\t Twenty Thousand Leagues under the Sea\\_27 & sea       & 33 & 2\\\\\n",
       "\t Great Expectations\\_46                    & herbert   & 32 & 1\\\\\n",
       "\t Twenty Thousand Leagues under the Sea\\_21 & captain   & 32 & 2\\\\\n",
       "\t Twenty Thousand Leagues under the Sea\\_29 & captain   & 32 & 2\\\\\n",
       "\t Great Expectations\\_19                    & biddy     & 31 & 4\\\\\n",
       "\t Great Expectations\\_30                    & herbert   & 31 & 1\\\\\n",
       "\t ... & ... & ... & ...\\\\\n",
       "\t Twenty Thousand Leagues under the Sea\\_9 & suffocated   & 1 & 2\\\\\n",
       "\t Twenty Thousand Leagues under the Sea\\_9 & suppose      & 1 & 1\\\\\n",
       "\t Twenty Thousand Leagues under the Sea\\_9 & supposed     & 1 & 4\\\\\n",
       "\t Twenty Thousand Leagues under the Sea\\_9 & table        & 1 & 4\\\\\n",
       "\t Twenty Thousand Leagues under the Sea\\_9 & taking       & 1 & 1\\\\\n",
       "\t Twenty Thousand Leagues under the Sea\\_9 & tempers      & 1 & 1\\\\\n",
       "\t Twenty Thousand Leagues under the Sea\\_9 & terrified    & 1 & 1\\\\\n",
       "\t Twenty Thousand Leagues under the Sea\\_9 & throat       & 1 & 1\\\\\n",
       "\t Twenty Thousand Leagues under the Sea\\_9 & thrown       & 1 & 2\\\\\n",
       "\t Twenty Thousand Leagues under the Sea\\_9 & told         & 1 & 1\\\\\n",
       "\t Twenty Thousand Leagues under the Sea\\_9 & tormented    & 1 & 1\\\\\n",
       "\t Twenty Thousand Leagues under the Sea\\_9 & trembling    & 1 & 1\\\\\n",
       "\t Twenty Thousand Leagues under the Sea\\_9 & unbreathable & 1 & 3\\\\\n",
       "\t Twenty Thousand Leagues under the Sea\\_9 & unclasp      & 1 & 2\\\\\n",
       "\t Twenty Thousand Leagues under the Sea\\_9 & usual        & 1 & 4\\\\\n",
       "\t Twenty Thousand Leagues under the Sea\\_9 & vain         & 1 & 4\\\\\n",
       "\t Twenty Thousand Leagues under the Sea\\_9 & ventilating  & 1 & 2\\\\\n",
       "\t Twenty Thousand Leagues under the Sea\\_9 & ventilator   & 1 & 1\\\\\n",
       "\t Twenty Thousand Leagues under the Sea\\_9 & victim       & 1 & 2\\\\\n",
       "\t Twenty Thousand Leagues under the Sea\\_9 & volumes      & 1 & 2\\\\\n",
       "\t Twenty Thousand Leagues under the Sea\\_9 & walls        & 1 & 2\\\\\n",
       "\t Twenty Thousand Leagues under the Sea\\_9 & water        & 1 & 2\\\\\n",
       "\t Twenty Thousand Leagues under the Sea\\_9 & waters       & 1 & 2\\\\\n",
       "\t Twenty Thousand Leagues under the Sea\\_9 & whale        & 1 & 2\\\\\n",
       "\t Twenty Thousand Leagues under the Sea\\_9 & whales       & 1 & 2\\\\\n",
       "\t Twenty Thousand Leagues under the Sea\\_9 & whichever    & 1 & 4\\\\\n",
       "\t Twenty Thousand Leagues under the Sea\\_9 & whiff        & 1 & 2\\\\\n",
       "\t Twenty Thousand Leagues under the Sea\\_9 & wide         & 1 & 3\\\\\n",
       "\t Twenty Thousand Leagues under the Sea\\_9 & woke         & 1 & 2\\\\\n",
       "\t Twenty Thousand Leagues under the Sea\\_9 & words        & 1 & 1\\\\\n",
       "\\end{tabular}\n"
      ],
      "text/markdown": [
       "\n",
       "A tibble: 104722 × 4\n",
       "\n",
       "| document &lt;chr&gt; | term &lt;chr&gt; | n &lt;int&gt; | .topic &lt;int&gt; |\n",
       "|---|---|---|---|\n",
       "| Great Expectations_57                    | joe       | 88 | 1 |\n",
       "| Great Expectations_7                     | joe       | 70 | 1 |\n",
       "| Great Expectations_17                    | biddy     | 63 | 4 |\n",
       "| Great Expectations_27                    | joe       | 58 | 1 |\n",
       "| Great Expectations_38                    | estella   | 58 | 4 |\n",
       "| Great Expectations_2                     | joe       | 56 | 1 |\n",
       "| Great Expectations_23                    | pocket    | 53 | 4 |\n",
       "| Great Expectations_15                    | joe       | 50 | 1 |\n",
       "| Great Expectations_18                    | joe       | 50 | 1 |\n",
       "| The War of the Worlds_16                 | brother   | 50 | 3 |\n",
       "| Great Expectations_9                     | joe       | 44 | 1 |\n",
       "| Great Expectations_13                    | joe       | 40 | 1 |\n",
       "| Great Expectations_35                    | biddy     | 40 | 4 |\n",
       "| Great Expectations_11                    | miss      | 37 | 4 |\n",
       "| Great Expectations_5                     | sergeant  | 37 | 1 |\n",
       "| Great Expectations_42                    | compeyson | 36 | 3 |\n",
       "| Pride and Prejudice_43                   | elizabeth | 36 | 4 |\n",
       "| Great Expectations_51                    | wemmick   | 35 | 1 |\n",
       "| Great Expectations_10                    | joe       | 34 | 1 |\n",
       "| Great Expectations_29                    | miss      | 34 | 4 |\n",
       "| Great Expectations_51                    | jaggers   | 34 | 1 |\n",
       "| Twenty Thousand Leagues under the Sea_26 | captain   | 34 | 2 |\n",
       "| Twenty Thousand Leagues under the Sea_36 | nautilus  | 34 | 2 |\n",
       "| Pride and Prejudice_18                   | darcy     | 33 | 4 |\n",
       "| Twenty Thousand Leagues under the Sea_27 | sea       | 33 | 2 |\n",
       "| Great Expectations_46                    | herbert   | 32 | 1 |\n",
       "| Twenty Thousand Leagues under the Sea_21 | captain   | 32 | 2 |\n",
       "| Twenty Thousand Leagues under the Sea_29 | captain   | 32 | 2 |\n",
       "| Great Expectations_19                    | biddy     | 31 | 4 |\n",
       "| Great Expectations_30                    | herbert   | 31 | 1 |\n",
       "| ... | ... | ... | ... |\n",
       "| Twenty Thousand Leagues under the Sea_9 | suffocated   | 1 | 2 |\n",
       "| Twenty Thousand Leagues under the Sea_9 | suppose      | 1 | 1 |\n",
       "| Twenty Thousand Leagues under the Sea_9 | supposed     | 1 | 4 |\n",
       "| Twenty Thousand Leagues under the Sea_9 | table        | 1 | 4 |\n",
       "| Twenty Thousand Leagues under the Sea_9 | taking       | 1 | 1 |\n",
       "| Twenty Thousand Leagues under the Sea_9 | tempers      | 1 | 1 |\n",
       "| Twenty Thousand Leagues under the Sea_9 | terrified    | 1 | 1 |\n",
       "| Twenty Thousand Leagues under the Sea_9 | throat       | 1 | 1 |\n",
       "| Twenty Thousand Leagues under the Sea_9 | thrown       | 1 | 2 |\n",
       "| Twenty Thousand Leagues under the Sea_9 | told         | 1 | 1 |\n",
       "| Twenty Thousand Leagues under the Sea_9 | tormented    | 1 | 1 |\n",
       "| Twenty Thousand Leagues under the Sea_9 | trembling    | 1 | 1 |\n",
       "| Twenty Thousand Leagues under the Sea_9 | unbreathable | 1 | 3 |\n",
       "| Twenty Thousand Leagues under the Sea_9 | unclasp      | 1 | 2 |\n",
       "| Twenty Thousand Leagues under the Sea_9 | usual        | 1 | 4 |\n",
       "| Twenty Thousand Leagues under the Sea_9 | vain         | 1 | 4 |\n",
       "| Twenty Thousand Leagues under the Sea_9 | ventilating  | 1 | 2 |\n",
       "| Twenty Thousand Leagues under the Sea_9 | ventilator   | 1 | 1 |\n",
       "| Twenty Thousand Leagues under the Sea_9 | victim       | 1 | 2 |\n",
       "| Twenty Thousand Leagues under the Sea_9 | volumes      | 1 | 2 |\n",
       "| Twenty Thousand Leagues under the Sea_9 | walls        | 1 | 2 |\n",
       "| Twenty Thousand Leagues under the Sea_9 | water        | 1 | 2 |\n",
       "| Twenty Thousand Leagues under the Sea_9 | waters       | 1 | 2 |\n",
       "| Twenty Thousand Leagues under the Sea_9 | whale        | 1 | 2 |\n",
       "| Twenty Thousand Leagues under the Sea_9 | whales       | 1 | 2 |\n",
       "| Twenty Thousand Leagues under the Sea_9 | whichever    | 1 | 4 |\n",
       "| Twenty Thousand Leagues under the Sea_9 | whiff        | 1 | 2 |\n",
       "| Twenty Thousand Leagues under the Sea_9 | wide         | 1 | 3 |\n",
       "| Twenty Thousand Leagues under the Sea_9 | woke         | 1 | 2 |\n",
       "| Twenty Thousand Leagues under the Sea_9 | words        | 1 | 1 |\n",
       "\n"
      ],
      "text/plain": [
       "       document                                 term         n   .topic\n",
       "1      Great Expectations_57                    joe          88  1     \n",
       "2      Great Expectations_7                     joe          70  1     \n",
       "3      Great Expectations_17                    biddy        63  4     \n",
       "4      Great Expectations_27                    joe          58  1     \n",
       "5      Great Expectations_38                    estella      58  4     \n",
       "6      Great Expectations_2                     joe          56  1     \n",
       "7      Great Expectations_23                    pocket       53  4     \n",
       "8      Great Expectations_15                    joe          50  1     \n",
       "9      Great Expectations_18                    joe          50  1     \n",
       "10     The War of the Worlds_16                 brother      50  3     \n",
       "11     Great Expectations_9                     joe          44  1     \n",
       "12     Great Expectations_13                    joe          40  1     \n",
       "13     Great Expectations_35                    biddy        40  4     \n",
       "14     Great Expectations_11                    miss         37  4     \n",
       "15     Great Expectations_5                     sergeant     37  1     \n",
       "16     Great Expectations_42                    compeyson    36  3     \n",
       "17     Pride and Prejudice_43                   elizabeth    36  4     \n",
       "18     Great Expectations_51                    wemmick      35  1     \n",
       "19     Great Expectations_10                    joe          34  1     \n",
       "20     Great Expectations_29                    miss         34  4     \n",
       "21     Great Expectations_51                    jaggers      34  1     \n",
       "22     Twenty Thousand Leagues under the Sea_26 captain      34  2     \n",
       "23     Twenty Thousand Leagues under the Sea_36 nautilus     34  2     \n",
       "24     Pride and Prejudice_18                   darcy        33  4     \n",
       "25     Twenty Thousand Leagues under the Sea_27 sea          33  2     \n",
       "26     Great Expectations_46                    herbert      32  1     \n",
       "27     Twenty Thousand Leagues under the Sea_21 captain      32  2     \n",
       "28     Twenty Thousand Leagues under the Sea_29 captain      32  2     \n",
       "29     Great Expectations_19                    biddy        31  4     \n",
       "30     Great Expectations_30                    herbert      31  1     \n",
       "...    ...                                      ...          ... ...   \n",
       "104693 Twenty Thousand Leagues under the Sea_9  suffocated   1   2     \n",
       "104694 Twenty Thousand Leagues under the Sea_9  suppose      1   1     \n",
       "104695 Twenty Thousand Leagues under the Sea_9  supposed     1   4     \n",
       "104696 Twenty Thousand Leagues under the Sea_9  table        1   4     \n",
       "104697 Twenty Thousand Leagues under the Sea_9  taking       1   1     \n",
       "104698 Twenty Thousand Leagues under the Sea_9  tempers      1   1     \n",
       "104699 Twenty Thousand Leagues under the Sea_9  terrified    1   1     \n",
       "104700 Twenty Thousand Leagues under the Sea_9  throat       1   1     \n",
       "104701 Twenty Thousand Leagues under the Sea_9  thrown       1   2     \n",
       "104702 Twenty Thousand Leagues under the Sea_9  told         1   1     \n",
       "104703 Twenty Thousand Leagues under the Sea_9  tormented    1   1     \n",
       "104704 Twenty Thousand Leagues under the Sea_9  trembling    1   1     \n",
       "104705 Twenty Thousand Leagues under the Sea_9  unbreathable 1   3     \n",
       "104706 Twenty Thousand Leagues under the Sea_9  unclasp      1   2     \n",
       "104707 Twenty Thousand Leagues under the Sea_9  usual        1   4     \n",
       "104708 Twenty Thousand Leagues under the Sea_9  vain         1   4     \n",
       "104709 Twenty Thousand Leagues under the Sea_9  ventilating  1   2     \n",
       "104710 Twenty Thousand Leagues under the Sea_9  ventilator   1   1     \n",
       "104711 Twenty Thousand Leagues under the Sea_9  victim       1   2     \n",
       "104712 Twenty Thousand Leagues under the Sea_9  volumes      1   2     \n",
       "104713 Twenty Thousand Leagues under the Sea_9  walls        1   2     \n",
       "104714 Twenty Thousand Leagues under the Sea_9  water        1   2     \n",
       "104715 Twenty Thousand Leagues under the Sea_9  waters       1   2     \n",
       "104716 Twenty Thousand Leagues under the Sea_9  whale        1   2     \n",
       "104717 Twenty Thousand Leagues under the Sea_9  whales       1   2     \n",
       "104718 Twenty Thousand Leagues under the Sea_9  whichever    1   4     \n",
       "104719 Twenty Thousand Leagues under the Sea_9  whiff        1   2     \n",
       "104720 Twenty Thousand Leagues under the Sea_9  wide         1   3     \n",
       "104721 Twenty Thousand Leagues under the Sea_9  woke         1   2     \n",
       "104722 Twenty Thousand Leagues under the Sea_9  words        1   1     "
      ]
     },
     "metadata": {},
     "output_type": "display_data"
    }
   ],
   "source": [
    "# word-topic pairs\n",
    "tidy(mallet_model)\n",
    "\n",
    "# document-topic pairs\n",
    "tidy(mallet_model, matrix = \"gamma\")\n",
    "\n",
    "# column needs to be named \"term\" for \"augment\"\n",
    "term_counts <- rename(word_counts, term = word)\n",
    "augment(mallet_model, term_counts)"
   ]
  }
 ],
 "metadata": {
  "celltoolbar": "Slideshow",
  "kernelspec": {
   "display_name": "R",
   "language": "R",
   "name": "ir"
  },
  "language_info": {
   "codemirror_mode": "r",
   "file_extension": ".r",
   "mimetype": "text/x-r-source",
   "name": "R",
   "pygments_lexer": "r",
   "version": "4.0.2"
  }
 },
 "nbformat": 4,
 "nbformat_minor": 4
}
