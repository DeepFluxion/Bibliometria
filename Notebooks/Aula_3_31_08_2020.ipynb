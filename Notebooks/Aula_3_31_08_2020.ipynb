{
 "cells": [
  {
   "cell_type": "markdown",
   "metadata": {
    "slideshow": {
     "slide_type": "slide"
    }
   },
   "source": [
    "![Linguagem R Básico](https://www.andersonmedeiros.com/wp-content/uploads/2014/02/Livro-Estatistica-R.png)"
   ]
  },
  {
   "cell_type": "markdown",
   "metadata": {
    "slideshow": {
     "slide_type": "slide"
    }
   },
   "source": [
    "# 🧮 R como calculadora (Revisão)\n",
    "A linguagem do R é um tanto quanto intuitiva, muita coisa sai do jeito certo no chute! Para ver um exemplo disso, é interessante começar fazendo do R uma grande calculadora. Tente jogar no console 2*2 - (4 + 4)/2. Pronto. Com essa simples expressão você já é capaz de imaginar (e certeiramente) como pedir ao R para fazer qualquer tipo de operação aritmética. Lição aprendida!\n",
    "\n",
    "Além do mais, as operações e suas precedências são mantidas como na matemática, ou seja, divisão e multiplicação são calculadas antes da adição e subtração. E os parênteses nunca são demais!\n",
    "\n",
    "Falando em matemática, o π já vem definido!"
   ]
  },
  {
   "cell_type": "markdown",
   "metadata": {
    "slideshow": {
     "slide_type": "slide"
    }
   },
   "source": [
    "![R Console](https://rafalab.github.io/dsbook/R/img/R_console.png)"
   ]
  },
  {
   "cell_type": "markdown",
   "metadata": {
    "slideshow": {
     "slide_type": "slide"
    }
   },
   "source": [
    "[https://rdrr.io/snippets/](https://rdrr.io/snippets/)"
   ]
  },
  {
   "cell_type": "code",
   "execution_count": 1,
   "metadata": {
    "slideshow": {
     "slide_type": "subslide"
    }
   },
   "outputs": [
    {
     "data": {
      "text/html": [
       "3.14159265358979"
      ],
      "text/latex": [
       "3.14159265358979"
      ],
      "text/markdown": [
       "3.14159265358979"
      ],
      "text/plain": [
       "[1] 3.141593"
      ]
     },
     "metadata": {},
     "output_type": "display_data"
    }
   ],
   "source": [
    "pi"
   ]
  },
  {
   "cell_type": "code",
   "execution_count": 2,
   "metadata": {
    "slideshow": {
     "slide_type": "fragment"
    }
   },
   "outputs": [
    {
     "data": {
      "text/html": [
       "0.5"
      ],
      "text/latex": [
       "0.5"
      ],
      "text/markdown": [
       "0.5"
      ],
      "text/plain": [
       "[1] 0.5"
      ]
     },
     "metadata": {},
     "output_type": "display_data"
    }
   ],
   "source": [
    "sin(pi/6)"
   ]
  },
  {
   "cell_type": "code",
   "execution_count": 3,
   "metadata": {
    "slideshow": {
     "slide_type": "fragment"
    }
   },
   "outputs": [
    {
     "data": {
      "text/html": [
       "9"
      ],
      "text/latex": [
       "9"
      ],
      "text/markdown": [
       "9"
      ],
      "text/plain": [
       "[1] 9"
      ]
     },
     "metadata": {},
     "output_type": "display_data"
    }
   ],
   "source": [
    "(sin(pi/2) + 2)*3"
   ]
  },
  {
   "cell_type": "markdown",
   "metadata": {
    "slideshow": {
     "slide_type": "subslide"
    }
   },
   "source": [
    "Veja que apareceu a função `sin()`, o famoso seno. Tente outras funções trigonométricas para ver se acerta de prima! ⚠️\n",
    "\n",
    "Mas a ideia é essa. Ser intuitivo. A dica aqui é tentar! No R, um erro não é nenhuma dor de cabeça, é rápido consertar e testar (debugar, para os mais íntimos)."
   ]
  },
  {
   "cell_type": "markdown",
   "metadata": {
    "slideshow": {
     "slide_type": "slide"
    }
   },
   "source": [
    "## Objetos atômicos ⚛️\n",
    "Existem cinco classes básicas ou “atômicas” no R:\n",
    "\n",
    "- character\n",
    "- numeric\n",
    "- integer\n",
    "- logical"
   ]
  },
  {
   "cell_type": "markdown",
   "metadata": {
    "slideshow": {
     "slide_type": "subslide"
    }
   },
   "source": [
    "# characters ➿"
   ]
  },
  {
   "cell_type": "code",
   "execution_count": 4,
   "metadata": {
    "slideshow": {
     "slide_type": "fragment"
    }
   },
   "outputs": [
    {
     "data": {
      "text/html": [
       "'a'"
      ],
      "text/latex": [
       "'a'"
      ],
      "text/markdown": [
       "'a'"
      ],
      "text/plain": [
       "[1] \"a\""
      ]
     },
     "metadata": {},
     "output_type": "display_data"
    }
   ],
   "source": [
    "\"a\""
   ]
  },
  {
   "cell_type": "code",
   "execution_count": 5,
   "metadata": {
    "slideshow": {
     "slide_type": "fragment"
    }
   },
   "outputs": [
    {
     "data": {
      "text/html": [
       "'1'"
      ],
      "text/latex": [
       "'1'"
      ],
      "text/markdown": [
       "'1'"
      ],
      "text/plain": [
       "[1] \"1\""
      ]
     },
     "metadata": {},
     "output_type": "display_data"
    }
   ],
   "source": [
    "\"1\""
   ]
  },
  {
   "cell_type": "code",
   "execution_count": 6,
   "metadata": {
    "slideshow": {
     "slide_type": "fragment"
    }
   },
   "outputs": [
    {
     "data": {
      "text/html": [
       "'positivo'"
      ],
      "text/latex": [
       "'positivo'"
      ],
      "text/markdown": [
       "'positivo'"
      ],
      "text/plain": [
       "[1] \"positivo\""
      ]
     },
     "metadata": {},
     "output_type": "display_data"
    }
   ],
   "source": [
    "\"positivo\""
   ]
  },
  {
   "cell_type": "code",
   "execution_count": 7,
   "metadata": {
    "slideshow": {
     "slide_type": "fragment"
    }
   },
   "outputs": [
    {
     "data": {
      "text/html": [
       "'Error 1: objeto x não encontrado '"
      ],
      "text/latex": [
       "'Error 1: objeto x não encontrado '"
      ],
      "text/markdown": [
       "'Error 1: objeto x não encontrado '"
      ],
      "text/plain": [
       "[1] \"Error 1: objeto x não encontrado \""
      ]
     },
     "metadata": {},
     "output_type": "display_data"
    }
   ],
   "source": [
    "\"Error 1: objeto x não encontrado \""
   ]
  },
  {
   "cell_type": "markdown",
   "metadata": {
    "slideshow": {
     "slide_type": "subslide"
    }
   },
   "source": [
    "# numeric ➿"
   ]
  },
  {
   "cell_type": "code",
   "execution_count": 8,
   "metadata": {
    "slideshow": {
     "slide_type": "fragment"
    }
   },
   "outputs": [
    {
     "data": {
      "text/html": [
       "1"
      ],
      "text/latex": [
       "1"
      ],
      "text/markdown": [
       "1"
      ],
      "text/plain": [
       "[1] 1"
      ]
     },
     "metadata": {},
     "output_type": "display_data"
    }
   ],
   "source": [
    "1"
   ]
  },
  {
   "cell_type": "code",
   "execution_count": 9,
   "metadata": {
    "slideshow": {
     "slide_type": "fragment"
    }
   },
   "outputs": [
    {
     "data": {
      "text/html": [
       "0.1"
      ],
      "text/latex": [
       "0.1"
      ],
      "text/markdown": [
       "0.1"
      ],
      "text/plain": [
       "[1] 0.1"
      ]
     },
     "metadata": {},
     "output_type": "display_data"
    }
   ],
   "source": [
    "0.10"
   ]
  },
  {
   "cell_type": "code",
   "execution_count": 10,
   "metadata": {
    "slideshow": {
     "slide_type": "fragment"
    }
   },
   "outputs": [
    {
     "data": {
      "text/html": [
       "0.95"
      ],
      "text/latex": [
       "0.95"
      ],
      "text/markdown": [
       "0.95"
      ],
      "text/plain": [
       "[1] 0.95"
      ]
     },
     "metadata": {},
     "output_type": "display_data"
    }
   ],
   "source": [
    "0.95"
   ]
  },
  {
   "cell_type": "code",
   "execution_count": 11,
   "metadata": {
    "slideshow": {
     "slide_type": "fragment"
    }
   },
   "outputs": [
    {
     "data": {
      "text/html": [
       "3.14159265358979"
      ],
      "text/latex": [
       "3.14159265358979"
      ],
      "text/markdown": [
       "3.14159265358979"
      ],
      "text/plain": [
       "[1] 3.141593"
      ]
     },
     "metadata": {},
     "output_type": "display_data"
    }
   ],
   "source": [
    "pi"
   ]
  },
  {
   "cell_type": "markdown",
   "metadata": {
    "slideshow": {
     "slide_type": "subslide"
    }
   },
   "source": [
    "# integer ➿"
   ]
  },
  {
   "cell_type": "code",
   "execution_count": 12,
   "metadata": {
    "slideshow": {
     "slide_type": "fragment"
    }
   },
   "outputs": [
    {
     "data": {
      "text/html": [
       "1"
      ],
      "text/latex": [
       "1"
      ],
      "text/markdown": [
       "1"
      ],
      "text/plain": [
       "[1] 1"
      ]
     },
     "metadata": {},
     "output_type": "display_data"
    }
   ],
   "source": [
    "1L"
   ]
  },
  {
   "cell_type": "code",
   "execution_count": 13,
   "metadata": {
    "slideshow": {
     "slide_type": "fragment"
    }
   },
   "outputs": [
    {
     "data": {
      "text/html": [
       "5"
      ],
      "text/latex": [
       "5"
      ],
      "text/markdown": [
       "5"
      ],
      "text/plain": [
       "[1] 5"
      ]
     },
     "metadata": {},
     "output_type": "display_data"
    }
   ],
   "source": [
    "5L"
   ]
  },
  {
   "cell_type": "code",
   "execution_count": 14,
   "metadata": {
    "slideshow": {
     "slide_type": "fragment"
    }
   },
   "outputs": [
    {
     "data": {
      "text/html": [
       "10"
      ],
      "text/latex": [
       "10"
      ],
      "text/markdown": [
       "10"
      ],
      "text/plain": [
       "[1] 10"
      ]
     },
     "metadata": {},
     "output_type": "display_data"
    }
   ],
   "source": [
    "10L"
   ]
  },
  {
   "cell_type": "markdown",
   "metadata": {
    "slideshow": {
     "slide_type": "subslide"
    }
   },
   "source": [
    "# logical ➿"
   ]
  },
  {
   "cell_type": "code",
   "execution_count": 15,
   "metadata": {
    "slideshow": {
     "slide_type": "fragment"
    }
   },
   "outputs": [
    {
     "data": {
      "text/html": [
       "TRUE"
      ],
      "text/latex": [
       "TRUE"
      ],
      "text/markdown": [
       "TRUE"
      ],
      "text/plain": [
       "[1] TRUE"
      ]
     },
     "metadata": {},
     "output_type": "display_data"
    }
   ],
   "source": [
    "TRUE"
   ]
  },
  {
   "cell_type": "code",
   "execution_count": 16,
   "metadata": {
    "slideshow": {
     "slide_type": "fragment"
    }
   },
   "outputs": [
    {
     "data": {
      "text/html": [
       "FALSE"
      ],
      "text/latex": [
       "FALSE"
      ],
      "text/markdown": [
       "FALSE"
      ],
      "text/plain": [
       "[1] FALSE"
      ]
     },
     "metadata": {},
     "output_type": "display_data"
    }
   ],
   "source": [
    "FALSE"
   ]
  },
  {
   "cell_type": "markdown",
   "metadata": {
    "slideshow": {
     "slide_type": "slide"
    }
   },
   "source": [
    "Para saber a classe de um objetivo, você pode usar a função `class()`."
   ]
  },
  {
   "cell_type": "code",
   "execution_count": 17,
   "metadata": {
    "slideshow": {
     "slide_type": "fragment"
    }
   },
   "outputs": [
    {
     "data": {
      "text/html": [
       "'numeric'"
      ],
      "text/latex": [
       "'numeric'"
      ],
      "text/markdown": [
       "'numeric'"
      ],
      "text/plain": [
       "[1] \"numeric\""
      ]
     },
     "metadata": {},
     "output_type": "display_data"
    }
   ],
   "source": [
    "x <- 1\n",
    "class(x)"
   ]
  },
  {
   "cell_type": "code",
   "execution_count": 18,
   "metadata": {
    "slideshow": {
     "slide_type": "fragment"
    }
   },
   "outputs": [
    {
     "data": {
      "text/html": [
       "'character'"
      ],
      "text/latex": [
       "'character'"
      ],
      "text/markdown": [
       "'character'"
      ],
      "text/plain": [
       "[1] \"character\""
      ]
     },
     "metadata": {},
     "output_type": "display_data"
    }
   ],
   "source": [
    "y <- \"a\"\n",
    "class(y)"
   ]
  },
  {
   "cell_type": "code",
   "execution_count": 19,
   "metadata": {
    "slideshow": {
     "slide_type": "fragment"
    }
   },
   "outputs": [
    {
     "data": {
      "text/html": [
       "'logical'"
      ],
      "text/latex": [
       "'logical'"
      ],
      "text/markdown": [
       "'logical'"
      ],
      "text/plain": [
       "[1] \"logical\""
      ]
     },
     "metadata": {},
     "output_type": "display_data"
    }
   ],
   "source": [
    "z <- TRUE\n",
    "class(z)"
   ]
  },
  {
   "cell_type": "markdown",
   "metadata": {
    "slideshow": {
     "slide_type": "slide"
    }
   },
   "source": [
    "## Operadores aritméticos ➕➗➖✖️\n",
    "Os bons e conhecidos operadores aritméticos. Com números reais eles funcionam como na matemática, mas ao saírmos da reta, eles podem fazer muito mais!"
   ]
  },
  {
   "cell_type": "markdown",
   "metadata": {
    "slideshow": {
     "slide_type": "subslide"
    }
   },
   "source": [
    "| Operador   | Descrição                              |\n",
    "|------------|----------------------------------------|\n",
    "| x + y      | Adição de x com y                      |\n",
    "| x - y      | Subtração de y em x                    |\n",
    "| x * y      | Multiplicação de x e y                 |\n",
    "| x / y      | Divisão de x por y                     |\n",
    "| x^y ou x**y | x elevado a y-ésima potência           |\n",
    "| x%%y       | Resto da divisão de x por y   (módulo) |\n",
    "| x%/%y      | Parte inteira da divisão de x por   y  |"
   ]
  },
  {
   "cell_type": "markdown",
   "metadata": {
    "slideshow": {
     "slide_type": "subslide"
    }
   },
   "source": [
    "Exemplos:"
   ]
  },
  {
   "cell_type": "code",
   "execution_count": 20,
   "metadata": {
    "slideshow": {
     "slide_type": "fragment"
    }
   },
   "outputs": [
    {
     "data": {
      "text/html": [
       "2"
      ],
      "text/latex": [
       "2"
      ],
      "text/markdown": [
       "2"
      ],
      "text/plain": [
       "[1] 2"
      ]
     },
     "metadata": {},
     "output_type": "display_data"
    }
   ],
   "source": [
    "1 + 1"
   ]
  },
  {
   "cell_type": "code",
   "execution_count": 21,
   "metadata": {
    "slideshow": {
     "slide_type": "fragment"
    }
   },
   "outputs": [
    {
     "data": {
      "text/html": [
       "2"
      ],
      "text/latex": [
       "2"
      ],
      "text/markdown": [
       "2"
      ],
      "text/plain": [
       "[1] 2"
      ]
     },
     "metadata": {},
     "output_type": "display_data"
    }
   ],
   "source": [
    "10-8"
   ]
  },
  {
   "cell_type": "code",
   "execution_count": 22,
   "metadata": {
    "slideshow": {
     "slide_type": "fragment"
    }
   },
   "outputs": [
    {
     "data": {
      "text/html": [
       "20"
      ],
      "text/latex": [
       "20"
      ],
      "text/markdown": [
       "20"
      ],
      "text/plain": [
       "[1] 20"
      ]
     },
     "metadata": {},
     "output_type": "display_data"
    }
   ],
   "source": [
    "2*10"
   ]
  },
  {
   "cell_type": "code",
   "execution_count": 23,
   "metadata": {
    "slideshow": {
     "slide_type": "subslide"
    }
   },
   "outputs": [
    {
     "data": {
      "text/html": [
       "6"
      ],
      "text/latex": [
       "6"
      ],
      "text/markdown": [
       "6"
      ],
      "text/plain": [
       "[1] 6"
      ]
     },
     "metadata": {},
     "output_type": "display_data"
    }
   ],
   "source": [
    "18/3"
   ]
  },
  {
   "cell_type": "code",
   "execution_count": 24,
   "metadata": {
    "slideshow": {
     "slide_type": "fragment"
    }
   },
   "outputs": [
    {
     "data": {
      "text/html": [
       "16"
      ],
      "text/latex": [
       "16"
      ],
      "text/markdown": [
       "16"
      ],
      "text/plain": [
       "[1] 16"
      ]
     },
     "metadata": {},
     "output_type": "display_data"
    }
   ],
   "source": [
    "2^4"
   ]
  },
  {
   "cell_type": "code",
   "execution_count": 25,
   "metadata": {
    "slideshow": {
     "slide_type": "fragment"
    }
   },
   "outputs": [
    {
     "data": {
      "text/html": [
       "16"
      ],
      "text/latex": [
       "16"
      ],
      "text/markdown": [
       "16"
      ],
      "text/plain": [
       "[1] 16"
      ]
     },
     "metadata": {},
     "output_type": "display_data"
    }
   ],
   "source": [
    "2**4"
   ]
  },
  {
   "cell_type": "code",
   "execution_count": 26,
   "metadata": {
    "slideshow": {
     "slide_type": "fragment"
    }
   },
   "outputs": [
    {
     "data": {
      "text/html": [
       "20"
      ],
      "text/latex": [
       "20"
      ],
      "text/markdown": [
       "20"
      ],
      "text/plain": [
       "[1] 20"
      ]
     },
     "metadata": {},
     "output_type": "display_data"
    }
   ],
   "source": [
    "(513%%29)"
   ]
  },
  {
   "cell_type": "code",
   "execution_count": 27,
   "metadata": {
    "slideshow": {
     "slide_type": "fragment"
    }
   },
   "outputs": [
    {
     "data": {
      "text/html": [
       "4"
      ],
      "text/latex": [
       "4"
      ],
      "text/markdown": [
       "4"
      ],
      "text/plain": [
       "[1] 4"
      ]
     },
     "metadata": {},
     "output_type": "display_data"
    }
   ],
   "source": [
    "9%/%2"
   ]
  },
  {
   "cell_type": "markdown",
   "metadata": {
    "slideshow": {
     "slide_type": "slide"
    }
   },
   "source": [
    "## Operadores lógicos\n",
    "Operadores lógicos retornarão sempre ou TRUE ou FALSE. Eles definem perguntas que aceitam apenas verdadeiro e falso como resposta, como sugere o quadro abaixo."
   ]
  },
  {
   "cell_type": "markdown",
   "metadata": {
    "slideshow": {
     "slide_type": "subslide"
    }
   },
   "source": [
    "| operador  | descricao                                 |\n",
    "|-----------|-------------------------------------------|\n",
    "| x < y     | x menor que y?                            |\n",
    "| x <= y    | x menor ou igual a y?                     |\n",
    "| x > y     | x maior que y?                            |\n",
    "| x >= y    | x maior ou igual a y?                     |\n",
    "| x == y    | x igual a y?                              |\n",
    "| x != y    | x diferente de y?                         |\n",
    "| !x        | Negativa de x                             |\n",
    "| x         | y                                         |\n",
    "| x & y     | x e y são verdadeiros?                    |\n",
    "| xor(x, y) | x ou y são verdadeiros (apenas um deles)? |"
   ]
  },
  {
   "cell_type": "code",
   "execution_count": 28,
   "metadata": {
    "slideshow": {
     "slide_type": "subslide"
    }
   },
   "outputs": [
    {
     "data": {
      "text/html": [
       "FALSE"
      ],
      "text/latex": [
       "FALSE"
      ],
      "text/markdown": [
       "FALSE"
      ],
      "text/plain": [
       "[1] FALSE"
      ]
     },
     "metadata": {},
     "output_type": "display_data"
    }
   ],
   "source": [
    "1 < 1"
   ]
  },
  {
   "cell_type": "code",
   "execution_count": 29,
   "metadata": {
    "slideshow": {
     "slide_type": "fragment"
    }
   },
   "outputs": [
    {
     "data": {
      "text/html": [
       "TRUE"
      ],
      "text/latex": [
       "TRUE"
      ],
      "text/markdown": [
       "TRUE"
      ],
      "text/plain": [
       "[1] TRUE"
      ]
     },
     "metadata": {},
     "output_type": "display_data"
    }
   ],
   "source": [
    "1 <= 1"
   ]
  },
  {
   "cell_type": "code",
   "execution_count": 30,
   "metadata": {
    "slideshow": {
     "slide_type": "fragment"
    }
   },
   "outputs": [
    {
     "data": {
      "text/html": [
       "FALSE"
      ],
      "text/latex": [
       "FALSE"
      ],
      "text/markdown": [
       "FALSE"
      ],
      "text/plain": [
       "[1] FALSE"
      ]
     },
     "metadata": {},
     "output_type": "display_data"
    }
   ],
   "source": [
    "1 == 0.99"
   ]
  },
  {
   "cell_type": "code",
   "execution_count": 31,
   "metadata": {
    "slideshow": {
     "slide_type": "fragment"
    }
   },
   "outputs": [
    {
     "data": {
      "text/html": [
       "TRUE"
      ],
      "text/latex": [
       "TRUE"
      ],
      "text/markdown": [
       "TRUE"
      ],
      "text/plain": [
       "[1] TRUE"
      ]
     },
     "metadata": {},
     "output_type": "display_data"
    }
   ],
   "source": [
    "1 == 0.99999999999999999"
   ]
  },
  {
   "cell_type": "code",
   "execution_count": 32,
   "metadata": {
    "slideshow": {
     "slide_type": "subslide"
    }
   },
   "outputs": [
    {
     "data": {
      "text/html": [
       "FALSE"
      ],
      "text/latex": [
       "FALSE"
      ],
      "text/markdown": [
       "FALSE"
      ],
      "text/plain": [
       "[1] FALSE"
      ]
     },
     "metadata": {},
     "output_type": "display_data"
    }
   ],
   "source": [
    "13.5 != 13.5"
   ]
  },
  {
   "cell_type": "code",
   "execution_count": 33,
   "metadata": {
    "slideshow": {
     "slide_type": "fragment"
    }
   },
   "outputs": [
    {
     "data": {
      "text/html": [
       "TRUE"
      ],
      "text/latex": [
       "TRUE"
      ],
      "text/markdown": [
       "TRUE"
      ],
      "text/plain": [
       "[1] TRUE"
      ]
     },
     "metadata": {},
     "output_type": "display_data"
    }
   ],
   "source": [
    "!FALSE"
   ]
  },
  {
   "cell_type": "code",
   "execution_count": 34,
   "metadata": {
    "slideshow": {
     "slide_type": "fragment"
    }
   },
   "outputs": [
    {
     "data": {
      "text/html": [
       "TRUE"
      ],
      "text/latex": [
       "TRUE"
      ],
      "text/markdown": [
       "TRUE"
      ],
      "text/plain": [
       "[1] TRUE"
      ]
     },
     "metadata": {},
     "output_type": "display_data"
    }
   ],
   "source": [
    "TRUE & TRUE"
   ]
  },
  {
   "cell_type": "code",
   "execution_count": 35,
   "metadata": {
    "slideshow": {
     "slide_type": "fragment"
    }
   },
   "outputs": [
    {
     "data": {
      "text/html": [
       "TRUE"
      ],
      "text/latex": [
       "TRUE"
      ],
      "text/markdown": [
       "TRUE"
      ],
      "text/plain": [
       "[1] TRUE"
      ]
     },
     "metadata": {},
     "output_type": "display_data"
    }
   ],
   "source": [
    "TRUE & TRUE"
   ]
  },
  {
   "cell_type": "code",
   "execution_count": 36,
   "metadata": {
    "slideshow": {
     "slide_type": "subslide"
    }
   },
   "outputs": [
    {
     "data": {
      "text/html": [
       "FALSE"
      ],
      "text/latex": [
       "FALSE"
      ],
      "text/markdown": [
       "FALSE"
      ],
      "text/plain": [
       "[1] FALSE"
      ]
     },
     "metadata": {},
     "output_type": "display_data"
    }
   ],
   "source": [
    "xor(TRUE, TRUE)"
   ]
  },
  {
   "cell_type": "code",
   "execution_count": 37,
   "metadata": {
    "slideshow": {
     "slide_type": "fragment"
    }
   },
   "outputs": [
    {
     "data": {
      "text/html": [
       "TRUE"
      ],
      "text/latex": [
       "TRUE"
      ],
      "text/markdown": [
       "TRUE"
      ],
      "text/plain": [
       "[1] TRUE"
      ]
     },
     "metadata": {},
     "output_type": "display_data"
    }
   ],
   "source": [
    "xor(TRUE, FALSE)"
   ]
  },
  {
   "cell_type": "markdown",
   "metadata": {
    "slideshow": {
     "slide_type": "subslide"
    }
   },
   "source": [
    "Não se preocupe se você não entendeu muito bem o operador $xor$ ele não será empregado neste curso, mas é importante em alguams áreas como Lógiva e Inteligência artificial.😌"
   ]
  },
  {
   "cell_type": "markdown",
   "metadata": {
    "slideshow": {
     "slide_type": "subslide"
    }
   },
   "source": [
    "💡Agora um conceito importante da equivalência númerica de objetos lógicos em lógica e eme computação `TRUE` e `1` são equivalentes assim como `FALSE` e `0`."
   ]
  },
  {
   "cell_type": "code",
   "execution_count": 38,
   "metadata": {
    "slideshow": {
     "slide_type": "fragment"
    }
   },
   "outputs": [
    {
     "data": {
      "text/html": [
       "TRUE"
      ],
      "text/latex": [
       "TRUE"
      ],
      "text/markdown": [
       "TRUE"
      ],
      "text/plain": [
       "[1] TRUE"
      ]
     },
     "metadata": {},
     "output_type": "display_data"
    }
   ],
   "source": [
    "TRUE == 1"
   ]
  },
  {
   "cell_type": "code",
   "execution_count": 39,
   "metadata": {
    "slideshow": {
     "slide_type": "fragment"
    }
   },
   "outputs": [
    {
     "data": {
      "text/html": [
       "FALSE"
      ],
      "text/latex": [
       "FALSE"
      ],
      "text/markdown": [
       "FALSE"
      ],
      "text/plain": [
       "[1] FALSE"
      ]
     },
     "metadata": {},
     "output_type": "display_data"
    }
   ],
   "source": [
    "TRUE == 2"
   ]
  },
  {
   "cell_type": "code",
   "execution_count": 40,
   "metadata": {
    "slideshow": {
     "slide_type": "fragment"
    }
   },
   "outputs": [
    {
     "data": {
      "text/html": [
       "TRUE"
      ],
      "text/latex": [
       "TRUE"
      ],
      "text/markdown": [
       "TRUE"
      ],
      "text/plain": [
       "[1] TRUE"
      ]
     },
     "metadata": {},
     "output_type": "display_data"
    }
   ],
   "source": [
    "FALSE == 0"
   ]
  },
  {
   "cell_type": "markdown",
   "metadata": {
    "slideshow": {
     "slide_type": "slide"
    }
   },
   "source": [
    "## 🚩 VETORES\n",
    "Vetores no R são os objetos mais simples que podem guardar objetos atômicos."
   ]
  },
  {
   "cell_type": "code",
   "execution_count": 41,
   "metadata": {
    "slideshow": {
     "slide_type": "fragment"
    }
   },
   "outputs": [],
   "source": [
    "vetor1 <- c(1, 2, 3, 4)\n",
    "vetor2 <- c(\"a\", \"b\", \"c\")"
   ]
  },
  {
   "cell_type": "code",
   "execution_count": 42,
   "metadata": {
    "slideshow": {
     "slide_type": "fragment"
    }
   },
   "outputs": [
    {
     "data": {
      "text/html": [
       "<style>\n",
       ".list-inline {list-style: none; margin:0; padding: 0}\n",
       ".list-inline>li {display: inline-block}\n",
       ".list-inline>li:not(:last-child)::after {content: \"\\00b7\"; padding: 0 .5ex}\n",
       "</style>\n",
       "<ol class=list-inline><li>1</li><li>2</li><li>3</li><li>4</li></ol>\n"
      ],
      "text/latex": [
       "\\begin{enumerate*}\n",
       "\\item 1\n",
       "\\item 2\n",
       "\\item 3\n",
       "\\item 4\n",
       "\\end{enumerate*}\n"
      ],
      "text/markdown": [
       "1. 1\n",
       "2. 2\n",
       "3. 3\n",
       "4. 4\n",
       "\n",
       "\n"
      ],
      "text/plain": [
       "[1] 1 2 3 4"
      ]
     },
     "metadata": {},
     "output_type": "display_data"
    }
   ],
   "source": [
    "vetor1"
   ]
  },
  {
   "cell_type": "code",
   "execution_count": 43,
   "metadata": {
    "slideshow": {
     "slide_type": "fragment"
    }
   },
   "outputs": [
    {
     "data": {
      "text/html": [
       "<style>\n",
       ".list-inline {list-style: none; margin:0; padding: 0}\n",
       ".list-inline>li {display: inline-block}\n",
       ".list-inline>li:not(:last-child)::after {content: \"\\00b7\"; padding: 0 .5ex}\n",
       "</style>\n",
       "<ol class=list-inline><li>'a'</li><li>'b'</li><li>'c'</li></ol>\n"
      ],
      "text/latex": [
       "\\begin{enumerate*}\n",
       "\\item 'a'\n",
       "\\item 'b'\n",
       "\\item 'c'\n",
       "\\end{enumerate*}\n"
      ],
      "text/markdown": [
       "1. 'a'\n",
       "2. 'b'\n",
       "3. 'c'\n",
       "\n",
       "\n"
      ],
      "text/plain": [
       "[1] \"a\" \"b\" \"c\""
      ]
     },
     "metadata": {},
     "output_type": "display_data"
    }
   ],
   "source": [
    "vetor2"
   ]
  },
  {
   "cell_type": "markdown",
   "metadata": {
    "slideshow": {
     "slide_type": "subslide"
    }
   },
   "source": [
    "Um vetor tem sempre a mesma classe dos objetos que guarda."
   ]
  },
  {
   "cell_type": "code",
   "execution_count": 44,
   "metadata": {
    "slideshow": {
     "slide_type": "fragment"
    }
   },
   "outputs": [
    {
     "data": {
      "text/html": [
       "'numeric'"
      ],
      "text/latex": [
       "'numeric'"
      ],
      "text/markdown": [
       "'numeric'"
      ],
      "text/plain": [
       "[1] \"numeric\""
      ]
     },
     "metadata": {},
     "output_type": "display_data"
    }
   ],
   "source": [
    "class(vetor1)"
   ]
  },
  {
   "cell_type": "code",
   "execution_count": 45,
   "metadata": {
    "slideshow": {
     "slide_type": "fragment"
    }
   },
   "outputs": [
    {
     "data": {
      "text/html": [
       "'character'"
      ],
      "text/latex": [
       "'character'"
      ],
      "text/markdown": [
       "'character'"
      ],
      "text/plain": [
       "[1] \"character\""
      ]
     },
     "metadata": {},
     "output_type": "display_data"
    }
   ],
   "source": [
    "class(vetor2)"
   ]
  },
  {
   "cell_type": "markdown",
   "metadata": {
    "slideshow": {
     "slide_type": "subslide"
    }
   },
   "source": [
    "De forma bastante intuitiva, você pode fazer operações com vetores."
   ]
  },
  {
   "cell_type": "code",
   "execution_count": 46,
   "metadata": {
    "slideshow": {
     "slide_type": "fragment"
    }
   },
   "outputs": [
    {
     "data": {
      "text/html": [
       "<style>\n",
       ".list-inline {list-style: none; margin:0; padding: 0}\n",
       ".list-inline>li {display: inline-block}\n",
       ".list-inline>li:not(:last-child)::after {content: \"\\00b7\"; padding: 0 .5ex}\n",
       "</style>\n",
       "<ol class=list-inline><li>0</li><li>1</li><li>2</li><li>3</li></ol>\n"
      ],
      "text/latex": [
       "\\begin{enumerate*}\n",
       "\\item 0\n",
       "\\item 1\n",
       "\\item 2\n",
       "\\item 3\n",
       "\\end{enumerate*}\n"
      ],
      "text/markdown": [
       "1. 0\n",
       "2. 1\n",
       "3. 2\n",
       "4. 3\n",
       "\n",
       "\n"
      ],
      "text/plain": [
       "[1] 0 1 2 3"
      ]
     },
     "metadata": {},
     "output_type": "display_data"
    }
   ],
   "source": [
    "vetor1-1"
   ]
  },
  {
   "cell_type": "markdown",
   "metadata": {
    "slideshow": {
     "slide_type": "fragment"
    }
   },
   "source": [
    "Lembrando do `vetor1`"
   ]
  },
  {
   "cell_type": "code",
   "execution_count": 47,
   "metadata": {
    "slideshow": {
     "slide_type": "fragment"
    }
   },
   "outputs": [
    {
     "data": {
      "text/html": [
       "<style>\n",
       ".list-inline {list-style: none; margin:0; padding: 0}\n",
       ".list-inline>li {display: inline-block}\n",
       ".list-inline>li:not(:last-child)::after {content: \"\\00b7\"; padding: 0 .5ex}\n",
       "</style>\n",
       "<ol class=list-inline><li>1</li><li>2</li><li>3</li><li>4</li></ol>\n"
      ],
      "text/latex": [
       "\\begin{enumerate*}\n",
       "\\item 1\n",
       "\\item 2\n",
       "\\item 3\n",
       "\\item 4\n",
       "\\end{enumerate*}\n"
      ],
      "text/markdown": [
       "1. 1\n",
       "2. 2\n",
       "3. 3\n",
       "4. 4\n",
       "\n",
       "\n"
      ],
      "text/plain": [
       "[1] 1 2 3 4"
      ]
     },
     "metadata": {},
     "output_type": "display_data"
    }
   ],
   "source": [
    "vetor1"
   ]
  },
  {
   "cell_type": "markdown",
   "metadata": {
    "slideshow": {
     "slide_type": "subslide"
    }
   },
   "source": [
    "Quando você faz vetor1 - 1, o R subtrai 1 de cada um dos elementos do vetor. O mesmo acontece quando você faz qualquer operação aritmética com vetores no R. Vamos ver outros exemplos"
   ]
  },
  {
   "cell_type": "code",
   "execution_count": 48,
   "metadata": {
    "slideshow": {
     "slide_type": "fragment"
    }
   },
   "outputs": [
    {
     "data": {
      "text/html": [
       "<style>\n",
       ".list-inline {list-style: none; margin:0; padding: 0}\n",
       ".list-inline>li {display: inline-block}\n",
       ".list-inline>li:not(:last-child)::after {content: \"\\00b7\"; padding: 0 .5ex}\n",
       "</style>\n",
       "<ol class=list-inline><li>0.5</li><li>1</li><li>1.5</li><li>2</li></ol>\n"
      ],
      "text/latex": [
       "\\begin{enumerate*}\n",
       "\\item 0.5\n",
       "\\item 1\n",
       "\\item 1.5\n",
       "\\item 2\n",
       "\\end{enumerate*}\n"
      ],
      "text/markdown": [
       "1. 0.5\n",
       "2. 1\n",
       "3. 1.5\n",
       "4. 2\n",
       "\n",
       "\n"
      ],
      "text/plain": [
       "[1] 0.5 1.0 1.5 2.0"
      ]
     },
     "metadata": {},
     "output_type": "display_data"
    }
   ],
   "source": [
    "vetor1 / 2"
   ]
  },
  {
   "cell_type": "code",
   "execution_count": 49,
   "metadata": {
    "slideshow": {
     "slide_type": "fragment"
    }
   },
   "outputs": [
    {
     "data": {
      "text/html": [
       "<style>\n",
       ".list-inline {list-style: none; margin:0; padding: 0}\n",
       ".list-inline>li {display: inline-block}\n",
       ".list-inline>li:not(:last-child)::after {content: \"\\00b7\"; padding: 0 .5ex}\n",
       "</style>\n",
       "<ol class=list-inline><li>10</li><li>20</li><li>30</li><li>40</li></ol>\n"
      ],
      "text/latex": [
       "\\begin{enumerate*}\n",
       "\\item 10\n",
       "\\item 20\n",
       "\\item 30\n",
       "\\item 40\n",
       "\\end{enumerate*}\n"
      ],
      "text/markdown": [
       "1. 10\n",
       "2. 20\n",
       "3. 30\n",
       "4. 40\n",
       "\n",
       "\n"
      ],
      "text/plain": [
       "[1] 10 20 30 40"
      ]
     },
     "metadata": {},
     "output_type": "display_data"
    }
   ],
   "source": [
    "vetor1 * 10"
   ]
  },
  {
   "cell_type": "markdown",
   "metadata": {
    "slideshow": {
     "slide_type": "subslide"
    }
   },
   "source": [
    "Você também pode fazer operações que envolvem mais de um vetor:"
   ]
  },
  {
   "cell_type": "code",
   "execution_count": 50,
   "metadata": {
    "slideshow": {
     "slide_type": "fragment"
    }
   },
   "outputs": [
    {
     "ename": "ERROR",
     "evalue": "Error in eval(expr, envir, enclos): objeto 'vetor3' não encontrado\n",
     "output_type": "error",
     "traceback": [
      "Error in eval(expr, envir, enclos): objeto 'vetor3' não encontrado\nTraceback:\n"
     ]
    }
   ],
   "source": [
    "vetor3"
   ]
  },
  {
   "cell_type": "markdown",
   "metadata": {
    "slideshow": {
     "slide_type": "subslide"
    }
   },
   "source": [
    "## MISTURANDO OBJETOS\n",
    "> Vetores são homogêneos. Os elementos de um vetor são sempre da mesma classe. Ou todos são numéricos, ou são todos character, ou todos são lógicos etc. Não dá para ter um número e um character no mesmo vetor, por exemplo.\n",
    "\n",
    "Se colocarmos duas ou mais classes diferentes dentro de um mesmo vetor, o R vai forçar que todos os elementos passem a pertencer à mesma classe. O número 1.7 viraria \"1.7\" se fosse colocado ao lado de um \"a\"."
   ]
  },
  {
   "cell_type": "code",
   "execution_count": 51,
   "metadata": {
    "slideshow": {
     "slide_type": "subslide"
    }
   },
   "outputs": [
    {
     "data": {
      "text/html": [
       "'character'"
      ],
      "text/latex": [
       "'character'"
      ],
      "text/markdown": [
       "'character'"
      ],
      "text/plain": [
       "[1] \"character\""
      ]
     },
     "metadata": {},
     "output_type": "display_data"
    }
   ],
   "source": [
    "y <- c(1.7, \"a\")  # character\n",
    "class(y)"
   ]
  },
  {
   "cell_type": "code",
   "execution_count": 52,
   "metadata": {
    "slideshow": {
     "slide_type": "fragment"
    }
   },
   "outputs": [
    {
     "data": {
      "text/html": [
       "'numeric'"
      ],
      "text/latex": [
       "'numeric'"
      ],
      "text/markdown": [
       "'numeric'"
      ],
      "text/plain": [
       "[1] \"numeric\""
      ]
     },
     "metadata": {},
     "output_type": "display_data"
    }
   ],
   "source": [
    "y <- c(TRUE, 2)   # numeric\n",
    "class(y)"
   ]
  },
  {
   "cell_type": "code",
   "execution_count": 53,
   "metadata": {
    "slideshow": {
     "slide_type": "fragment"
    }
   },
   "outputs": [
    {
     "data": {
      "text/html": [
       "'character'"
      ],
      "text/latex": [
       "'character'"
      ],
      "text/markdown": [
       "'character'"
      ],
      "text/plain": [
       "[1] \"character\""
      ]
     },
     "metadata": {},
     "output_type": "display_data"
    }
   ],
   "source": [
    "y <- c(TRUE, 'a')   # numeric\n",
    "class(y)"
   ]
  },
  {
   "cell_type": "markdown",
   "metadata": {
    "slideshow": {
     "slide_type": "subslide"
    }
   },
   "source": [
    "A ordem de precedência é:\n",
    "\n",
    "**DOMINANTE** — *character* > *complex* > *numeric* > *integer* > *logical* — **RECESSIVO**"
   ]
  },
  {
   "cell_type": "markdown",
   "metadata": {
    "slideshow": {
     "slide_type": "slide"
    }
   },
   "source": [
    "# 🚩 Matrizes\n",
    "Matrizes são vetores com duas dimensões (e por isso só possuem elementos de uma mesma classe)."
   ]
  },
  {
   "cell_type": "code",
   "execution_count": 54,
   "metadata": {
    "slideshow": {
     "slide_type": "fragment"
    }
   },
   "outputs": [],
   "source": [
    "m <- matrix(1:6, nrow = 2, ncol = 3)"
   ]
  },
  {
   "cell_type": "code",
   "execution_count": 55,
   "metadata": {
    "slideshow": {
     "slide_type": "fragment"
    }
   },
   "outputs": [
    {
     "data": {
      "text/html": [
       "<table>\n",
       "<caption>A matrix: 2 × 3 of type int</caption>\n",
       "<tbody>\n",
       "\t<tr><td>1</td><td>3</td><td>5</td></tr>\n",
       "\t<tr><td>2</td><td>4</td><td>6</td></tr>\n",
       "</tbody>\n",
       "</table>\n"
      ],
      "text/latex": [
       "A matrix: 2 × 3 of type int\n",
       "\\begin{tabular}{lll}\n",
       "\t 1 & 3 & 5\\\\\n",
       "\t 2 & 4 & 6\\\\\n",
       "\\end{tabular}\n"
      ],
      "text/markdown": [
       "\n",
       "A matrix: 2 × 3 of type int\n",
       "\n",
       "| 1 | 3 | 5 |\n",
       "| 2 | 4 | 6 |\n",
       "\n"
      ],
      "text/plain": [
       "     [,1] [,2] [,3]\n",
       "[1,] 1    3    5   \n",
       "[2,] 2    4    6   "
      ]
     },
     "metadata": {},
     "output_type": "display_data"
    }
   ],
   "source": [
    "m"
   ]
  },
  {
   "cell_type": "markdown",
   "metadata": {
    "slideshow": {
     "slide_type": "subslide"
    }
   },
   "source": [
    "Observe que uma matriz é uma tabela neste caso temos:\n",
    " - nrow = número de linhas\n",
    " - ncol = número de colunas "
   ]
  },
  {
   "cell_type": "markdown",
   "metadata": {
    "slideshow": {
     "slide_type": "fragment"
    }
   },
   "source": [
    "Ou seja nossa matriz (tabela) tem seis posições duas linhas e três colunas   "
   ]
  },
  {
   "cell_type": "markdown",
   "metadata": {
    "slideshow": {
     "slide_type": "fragment"
    }
   },
   "source": [
    "| 1 | 2 | 3 | \n",
    "|---|---|---| \n",
    "| 4 | 4 | 6 |"
   ]
  },
  {
   "cell_type": "code",
   "execution_count": 56,
   "metadata": {
    "slideshow": {
     "slide_type": "fragment"
    }
   },
   "outputs": [
    {
     "data": {
      "text/html": [
       "<style>\n",
       ".list-inline {list-style: none; margin:0; padding: 0}\n",
       ".list-inline>li {display: inline-block}\n",
       ".list-inline>li:not(:last-child)::after {content: \"\\00b7\"; padding: 0 .5ex}\n",
       "</style>\n",
       "<ol class=list-inline><li>1</li><li>2</li><li>3</li><li>4</li><li>5</li><li>6</li></ol>\n"
      ],
      "text/latex": [
       "\\begin{enumerate*}\n",
       "\\item 1\n",
       "\\item 2\n",
       "\\item 3\n",
       "\\item 4\n",
       "\\item 5\n",
       "\\item 6\n",
       "\\end{enumerate*}\n"
      ],
      "text/markdown": [
       "1. 1\n",
       "2. 2\n",
       "3. 3\n",
       "4. 4\n",
       "5. 5\n",
       "6. 6\n",
       "\n",
       "\n"
      ],
      "text/plain": [
       "[1] 1 2 3 4 5 6"
      ]
     },
     "metadata": {},
     "output_type": "display_data"
    }
   ],
   "source": [
    "# Observe o que o 1:6 faz\n",
    "1:6"
   ]
  },
  {
   "cell_type": "markdown",
   "metadata": {
    "slideshow": {
     "slide_type": "subslide"
    }
   },
   "source": [
    "E como seria o código se quiséssemos que a matriz fosse assim"
   ]
  },
  {
   "cell_type": "markdown",
   "metadata": {
    "slideshow": {
     "slide_type": "fragment"
    }
   },
   "source": [
    "| 1 \t| 2 \t|\n",
    "|---\t|---\t|\n",
    "| 3 \t| 4 \t|\n",
    "| 5 \t| 6 \t| "
   ]
  },
  {
   "cell_type": "markdown",
   "metadata": {
    "slideshow": {
     "slide_type": "fragment"
    }
   },
   "source": [
    "Nese caso quantas colunas tem a matriz"
   ]
  },
  {
   "cell_type": "markdown",
   "metadata": {
    "slideshow": {
     "slide_type": "fragment"
    }
   },
   "source": [
    "ncols = 2"
   ]
  },
  {
   "cell_type": "markdown",
   "metadata": {
    "slideshow": {
     "slide_type": "fragment"
    }
   },
   "source": [
    "E quantas linhas"
   ]
  },
  {
   "cell_type": "markdown",
   "metadata": {
    "slideshow": {
     "slide_type": "fragment"
    }
   },
   "source": [
    "nrow=3"
   ]
  },
  {
   "cell_type": "code",
   "execution_count": 57,
   "metadata": {
    "slideshow": {
     "slide_type": "subslide"
    }
   },
   "outputs": [
    {
     "data": {
      "text/html": [
       "<table>\n",
       "<caption>A matrix: 2 × 3 of type int</caption>\n",
       "<tbody>\n",
       "\t<tr><td>1</td><td>3</td><td>5</td></tr>\n",
       "\t<tr><td>2</td><td>4</td><td>6</td></tr>\n",
       "</tbody>\n",
       "</table>\n"
      ],
      "text/latex": [
       "A matrix: 2 × 3 of type int\n",
       "\\begin{tabular}{lll}\n",
       "\t 1 & 3 & 5\\\\\n",
       "\t 2 & 4 & 6\\\\\n",
       "\\end{tabular}\n"
      ],
      "text/markdown": [
       "\n",
       "A matrix: 2 × 3 of type int\n",
       "\n",
       "| 1 | 3 | 5 |\n",
       "| 2 | 4 | 6 |\n",
       "\n"
      ],
      "text/plain": [
       "     [,1] [,2] [,3]\n",
       "[1,] 1    3    5   \n",
       "[2,] 2    4    6   "
      ]
     },
     "metadata": {},
     "output_type": "display_data"
    }
   ],
   "source": [
    "m = matrix(1:6, nrow = 2, ncol = 3)\n",
    "m"
   ]
  },
  {
   "cell_type": "markdown",
   "metadata": {
    "slideshow": {
     "slide_type": "slide"
    }
   },
   "source": [
    "# 🚩 Listas\n",
    "Listas são um tipo especial de vetor que aceita elementos de classes diferentes."
   ]
  },
  {
   "cell_type": "code",
   "execution_count": 58,
   "metadata": {
    "slideshow": {
     "slide_type": "subslide"
    }
   },
   "outputs": [
    {
     "data": {
      "text/html": [
       "<ol>\n",
       "\t<li><style>\n",
       ".list-inline {list-style: none; margin:0; padding: 0}\n",
       ".list-inline>li {display: inline-block}\n",
       ".list-inline>li:not(:last-child)::after {content: \"\\00b7\"; padding: 0 .5ex}\n",
       "</style>\n",
       "<ol class=list-inline><li>1</li><li>2</li><li>3</li><li>4</li><li>5</li></ol>\n",
       "</li>\n",
       "\t<li>'Z'</li>\n",
       "\t<li>TRUE</li>\n",
       "\t<li><style>\n",
       ".list-inline {list-style: none; margin:0; padding: 0}\n",
       ".list-inline>li {display: inline-block}\n",
       ".list-inline>li:not(:last-child)::after {content: \"\\00b7\"; padding: 0 .5ex}\n",
       "</style>\n",
       "<ol class=list-inline><li>'a'</li><li>'b'</li></ol>\n",
       "</li>\n",
       "</ol>\n"
      ],
      "text/latex": [
       "\\begin{enumerate}\n",
       "\\item \\begin{enumerate*}\n",
       "\\item 1\n",
       "\\item 2\n",
       "\\item 3\n",
       "\\item 4\n",
       "\\item 5\n",
       "\\end{enumerate*}\n",
       "\n",
       "\\item 'Z'\n",
       "\\item TRUE\n",
       "\\item \\begin{enumerate*}\n",
       "\\item 'a'\n",
       "\\item 'b'\n",
       "\\end{enumerate*}\n",
       "\n",
       "\\end{enumerate}\n"
      ],
      "text/markdown": [
       "1. 1. 1\n",
       "2. 2\n",
       "3. 3\n",
       "4. 4\n",
       "5. 5\n",
       "\n",
       "\n",
       "\n",
       "2. 'Z'\n",
       "3. TRUE\n",
       "4. 1. 'a'\n",
       "2. 'b'\n",
       "\n",
       "\n",
       "\n",
       "\n",
       "\n"
      ],
      "text/plain": [
       "[[1]]\n",
       "[1] 1 2 3 4 5\n",
       "\n",
       "[[2]]\n",
       "[1] \"Z\"\n",
       "\n",
       "[[3]]\n",
       "[1] TRUE\n",
       "\n",
       "[[4]]\n",
       "[1] \"a\" \"b\"\n"
      ]
     },
     "metadata": {},
     "output_type": "display_data"
    }
   ],
   "source": [
    "x <- list(1:5, \"Z\", TRUE, c(\"a\", \"b\"))\n",
    "x"
   ]
  },
  {
   "cell_type": "markdown",
   "metadata": {
    "slideshow": {
     "slide_type": "fragment"
    }
   },
   "source": [
    "É um dos objetos mais importantes para armazenar dados e vale a pena saber manuseá-los bem. Existem muitas funções que fazem das listas objetos incrivelmente úteis."
   ]
  },
  {
   "cell_type": "markdown",
   "metadata": {
    "slideshow": {
     "slide_type": "slide"
    }
   },
   "source": [
    "# Criando uma Lista\n",
    "\n",
    "Criamos uma lista com a função list(), que aceita um número arbitrário de elementos. Listas aceitam QUALQUER tipo de objeto. Podemos ter listas dentro de listas, por exemplo. Como para quase todas as classes de objetos no R, as funções `is.list()` e `as.list()` também existem."
   ]
  },
  {
   "cell_type": "markdown",
   "metadata": {
    "slideshow": {
     "slide_type": "fragment"
    }
   },
   "source": [
    "Na lista pedido abaixo, temos `numeric`, `Date`, `character`, `vetor de character` e `list` contida em uma lista:"
   ]
  },
  {
   "cell_type": "code",
   "execution_count": 59,
   "metadata": {
    "slideshow": {
     "slide_type": "subslide"
    }
   },
   "outputs": [],
   "source": [
    "pedido <- list(pedido_id = 8001406,\n",
    "               pedido_registro = as.Date(\"2017-05-25\"),\n",
    "               nome = \"Athos\", \n",
    "               sobrenome = \"Petri Damiani\", \n",
    "               cpf = \"12345678900\", \n",
    "               email = \"athos.damiani@gmail.com\", \n",
    "               qualidades = c(\"incrível\", \"impressionante\"),\n",
    "               itens = list(\n",
    "                 list(descricao = \"Ferrari\", \n",
    "                      frete = 0, \n",
    "                      valor = 500000),\n",
    "                 list(descricao = \"Dolly\", \n",
    "                      frete = 1.5, \n",
    "                      valor = 3.90)\n",
    "               ), \n",
    "               endereco = list(entrega = list(logradouro = \"Rua da Glória\", \n",
    "                                              numero = \"123\",\n",
    "                                              complemento = \"apto 71\"),\n",
    "                               cobranca = list(logradouro = \"Rua Jose de Oliveira Coutinho\",\n",
    "                                               numero = \"151\",\n",
    "                                               complemento = \"5o andar\")\n",
    "               )\n",
    ")"
   ]
  },
  {
   "cell_type": "markdown",
   "metadata": {
    "slideshow": {
     "slide_type": "subslide"
    }
   },
   "source": [
    "Calma vamos estudar isso com bastante calma mais a frente agora a idéia é que você conheça todos os tipos de coleções de dadso como vetores, matrizes e listas 😬"
   ]
  },
  {
   "cell_type": "markdown",
   "metadata": {
    "slideshow": {
     "slide_type": "slide"
    }
   },
   "source": [
    "# ⚠️Operações úteis"
   ]
  },
  {
   "cell_type": "code",
   "execution_count": 60,
   "metadata": {
    "slideshow": {
     "slide_type": "fragment"
    }
   },
   "outputs": [
    {
     "data": {
      "text/html": [
       "<style>\n",
       ".list-inline {list-style: none; margin:0; padding: 0}\n",
       ".list-inline>li {display: inline-block}\n",
       ".list-inline>li:not(:last-child)::after {content: \"\\00b7\"; padding: 0 .5ex}\n",
       "</style>\n",
       "<ol class=list-inline><li>'incrível'</li><li>'impressionante'</li></ol>\n"
      ],
      "text/latex": [
       "\\begin{enumerate*}\n",
       "\\item 'incrível'\n",
       "\\item 'impressionante'\n",
       "\\end{enumerate*}\n"
      ],
      "text/markdown": [
       "1. 'incrível'\n",
       "2. 'impressionante'\n",
       "\n",
       "\n"
      ],
      "text/plain": [
       "[1] \"incrível\"       \"impressionante\""
      ]
     },
     "metadata": {},
     "output_type": "display_data"
    }
   ],
   "source": [
    "pedido$qualidades    # elemento chamado 'cpf'"
   ]
  },
  {
   "cell_type": "code",
   "execution_count": 61,
   "metadata": {
    "slideshow": {
     "slide_type": "fragment"
    }
   },
   "outputs": [
    {
     "data": {
      "text/html": [
       "<dl>\n",
       "\t<dt>$pedido_id</dt>\n",
       "\t\t<dd>8001406</dd>\n",
       "\t<dt>$pedido_registro</dt>\n",
       "\t\t<dd><time datetime=\"2017-05-25\">2017-05-25</time></dd>\n",
       "\t<dt>$nome</dt>\n",
       "\t\t<dd>'Athos'</dd>\n",
       "\t<dt>$sobrenome</dt>\n",
       "\t\t<dd>'Petri Damiani'</dd>\n",
       "\t<dt>$cpf</dt>\n",
       "\t\t<dd>'12345678900'</dd>\n",
       "\t<dt>$email</dt>\n",
       "\t\t<dd>'athos.damiani@gmail.com'</dd>\n",
       "\t<dt>$qualidades</dt>\n",
       "\t\t<dd><style>\n",
       ".list-inline {list-style: none; margin:0; padding: 0}\n",
       ".list-inline>li {display: inline-block}\n",
       ".list-inline>li:not(:last-child)::after {content: \"\\00b7\"; padding: 0 .5ex}\n",
       "</style>\n",
       "<ol class=list-inline><li>'incrível'</li><li>'impressionante'</li></ol>\n",
       "</dd>\n",
       "\t<dt>$itens</dt>\n",
       "\t\t<dd><ol>\n",
       "\t<li><dl>\n",
       "\t<dt>$descricao</dt>\n",
       "\t\t<dd>'Ferrari'</dd>\n",
       "\t<dt>$frete</dt>\n",
       "\t\t<dd>0</dd>\n",
       "\t<dt>$valor</dt>\n",
       "\t\t<dd>5e+05</dd>\n",
       "</dl>\n",
       "</li>\n",
       "\t<li><dl>\n",
       "\t<dt>$descricao</dt>\n",
       "\t\t<dd>'Dolly'</dd>\n",
       "\t<dt>$frete</dt>\n",
       "\t\t<dd>1.5</dd>\n",
       "\t<dt>$valor</dt>\n",
       "\t\t<dd>3.9</dd>\n",
       "</dl>\n",
       "</li>\n",
       "</ol>\n",
       "</dd>\n",
       "\t<dt>$endereco</dt>\n",
       "\t\t<dd><dl>\n",
       "\t<dt>$entrega</dt>\n",
       "\t\t<dd><dl>\n",
       "\t<dt>$logradouro</dt>\n",
       "\t\t<dd>'Rua da Glória'</dd>\n",
       "\t<dt>$numero</dt>\n",
       "\t\t<dd>'123'</dd>\n",
       "\t<dt>$complemento</dt>\n",
       "\t\t<dd>'apto 71'</dd>\n",
       "</dl>\n",
       "</dd>\n",
       "\t<dt>$cobranca</dt>\n",
       "\t\t<dd><dl>\n",
       "\t<dt>$logradouro</dt>\n",
       "\t\t<dd>'Rua Jose de Oliveira Coutinho'</dd>\n",
       "\t<dt>$numero</dt>\n",
       "\t\t<dd>'151'</dd>\n",
       "\t<dt>$complemento</dt>\n",
       "\t\t<dd>'5o andar'</dd>\n",
       "</dl>\n",
       "</dd>\n",
       "</dl>\n",
       "</dd>\n",
       "</dl>\n"
      ],
      "text/latex": [
       "\\begin{description}\n",
       "\\item[\\$pedido\\_id] 8001406\n",
       "\\item[\\$pedido\\_registro] 2017-05-25\n",
       "\\item[\\$nome] 'Athos'\n",
       "\\item[\\$sobrenome] 'Petri Damiani'\n",
       "\\item[\\$cpf] '12345678900'\n",
       "\\item[\\$email] 'athos.damiani@gmail.com'\n",
       "\\item[\\$qualidades] \\begin{enumerate*}\n",
       "\\item 'incrível'\n",
       "\\item 'impressionante'\n",
       "\\end{enumerate*}\n",
       "\n",
       "\\item[\\$itens] \\begin{enumerate}\n",
       "\\item \\begin{description}\n",
       "\\item[\\$descricao] 'Ferrari'\n",
       "\\item[\\$frete] 0\n",
       "\\item[\\$valor] 5e+05\n",
       "\\end{description}\n",
       "\n",
       "\\item \\begin{description}\n",
       "\\item[\\$descricao] 'Dolly'\n",
       "\\item[\\$frete] 1.5\n",
       "\\item[\\$valor] 3.9\n",
       "\\end{description}\n",
       "\n",
       "\\end{enumerate}\n",
       "\n",
       "\\item[\\$endereco] \\begin{description}\n",
       "\\item[\\$entrega] \\begin{description}\n",
       "\\item[\\$logradouro] 'Rua da Glória'\n",
       "\\item[\\$numero] '123'\n",
       "\\item[\\$complemento] 'apto 71'\n",
       "\\end{description}\n",
       "\n",
       "\\item[\\$cobranca] \\begin{description}\n",
       "\\item[\\$logradouro] 'Rua Jose de Oliveira Coutinho'\n",
       "\\item[\\$numero] '151'\n",
       "\\item[\\$complemento] '5o andar'\n",
       "\\end{description}\n",
       "\n",
       "\\end{description}\n",
       "\n",
       "\\end{description}\n"
      ],
      "text/markdown": [
       "$pedido_id\n",
       ":   8001406\n",
       "$pedido_registro\n",
       ":   2017-05-25\n",
       "$nome\n",
       ":   'Athos'\n",
       "$sobrenome\n",
       ":   'Petri Damiani'\n",
       "$cpf\n",
       ":   '12345678900'\n",
       "$email\n",
       ":   'athos.damiani@gmail.com'\n",
       "$qualidades\n",
       ":   1. 'incrível'\n",
       "2. 'impressionante'\n",
       "\n",
       "\n",
       "\n",
       "$itens\n",
       ":   1. $descricao\n",
       ":   'Ferrari'\n",
       "$frete\n",
       ":   0\n",
       "$valor\n",
       ":   5e+05\n",
       "\n",
       "\n",
       "\n",
       "2. $descricao\n",
       ":   'Dolly'\n",
       "$frete\n",
       ":   1.5\n",
       "$valor\n",
       ":   3.9\n",
       "\n",
       "\n",
       "\n",
       "\n",
       "\n",
       "\n",
       "$endereco\n",
       ":   $entrega\n",
       ":   $logradouro\n",
       ":   'Rua da Glória'\n",
       "$numero\n",
       ":   '123'\n",
       "$complemento\n",
       ":   'apto 71'\n",
       "\n",
       "\n",
       "\n",
       "$cobranca\n",
       ":   $logradouro\n",
       ":   'Rua Jose de Oliveira Coutinho'\n",
       "$numero\n",
       ":   '151'\n",
       "$complemento\n",
       ":   '5o andar'\n",
       "\n",
       "\n",
       "\n",
       "\n",
       "\n",
       "\n",
       "\n",
       "\n"
      ],
      "text/plain": [
       "$pedido_id\n",
       "[1] 8001406\n",
       "\n",
       "$pedido_registro\n",
       "[1] \"2017-05-25\"\n",
       "\n",
       "$nome\n",
       "[1] \"Athos\"\n",
       "\n",
       "$sobrenome\n",
       "[1] \"Petri Damiani\"\n",
       "\n",
       "$cpf\n",
       "[1] \"12345678900\"\n",
       "\n",
       "$email\n",
       "[1] \"athos.damiani@gmail.com\"\n",
       "\n",
       "$qualidades\n",
       "[1] \"incrível\"       \"impressionante\"\n",
       "\n",
       "$itens\n",
       "$itens[[1]]\n",
       "$itens[[1]]$descricao\n",
       "[1] \"Ferrari\"\n",
       "\n",
       "$itens[[1]]$frete\n",
       "[1] 0\n",
       "\n",
       "$itens[[1]]$valor\n",
       "[1] 5e+05\n",
       "\n",
       "\n",
       "$itens[[2]]\n",
       "$itens[[2]]$descricao\n",
       "[1] \"Dolly\"\n",
       "\n",
       "$itens[[2]]$frete\n",
       "[1] 1.5\n",
       "\n",
       "$itens[[2]]$valor\n",
       "[1] 3.9\n",
       "\n",
       "\n",
       "\n",
       "$endereco\n",
       "$endereco$entrega\n",
       "$endereco$entrega$logradouro\n",
       "[1] \"Rua da Glória\"\n",
       "\n",
       "$endereco$entrega$numero\n",
       "[1] \"123\"\n",
       "\n",
       "$endereco$entrega$complemento\n",
       "[1] \"apto 71\"\n",
       "\n",
       "\n",
       "$endereco$cobranca\n",
       "$endereco$cobranca$logradouro\n",
       "[1] \"Rua Jose de Oliveira Coutinho\"\n",
       "\n",
       "$endereco$cobranca$numero\n",
       "[1] \"151\"\n",
       "\n",
       "$endereco$cobranca$complemento\n",
       "[1] \"5o andar\"\n",
       "\n",
       "\n"
      ]
     },
     "metadata": {},
     "output_type": "display_data"
    }
   ],
   "source": [
    "pedido      # nova lista com apenas o primeiro elemento"
   ]
  },
  {
   "cell_type": "code",
   "execution_count": 62,
   "metadata": {
    "slideshow": {
     "slide_type": "fragment"
    }
   },
   "outputs": [
    {
     "data": {
      "text/html": [
       "<time datetime=\"2017-05-25\">2017-05-25</time>"
      ],
      "text/latex": [
       "2017-05-25"
      ],
      "text/markdown": [
       "2017-05-25"
      ],
      "text/plain": [
       "[1] \"2017-05-25\""
      ]
     },
     "metadata": {},
     "output_type": "display_data"
    }
   ],
   "source": [
    "pedido[[2]]    # segundo elemento"
   ]
  },
  {
   "cell_type": "code",
   "execution_count": 63,
   "metadata": {
    "slideshow": {
     "slide_type": "fragment"
    }
   },
   "outputs": [
    {
     "data": {
      "text/html": [
       "<strong>$nome</strong> = 'Athos'"
      ],
      "text/latex": [
       "\\textbf{\\$nome} = 'Athos'"
      ],
      "text/markdown": [
       "**$nome** = 'Athos'"
      ],
      "text/plain": [
       "$nome\n",
       "[1] \"Athos\"\n"
      ]
     },
     "metadata": {},
     "output_type": "display_data"
    }
   ],
   "source": [
    "pedido[\"nome\"] # nova lista com apenas o elemento chamado 'nome'"
   ]
  },
  {
   "cell_type": "markdown",
   "metadata": {
    "slideshow": {
     "slide_type": "subslide"
    }
   },
   "source": [
    "Certamente você se deparará com listas quando for fazer análise de dados com o R. Nos tópicos mais aplicados, iremos aprofundar sobre o tema. O pacote `purrr` contribui com funcionalidades incríveis para listas."
   ]
  },
  {
   "cell_type": "markdown",
   "metadata": {
    "slideshow": {
     "slide_type": "slide"
    }
   },
   "source": [
    "# ⚠️ data.frame\n",
    "\n",
    "Um data.frame é o mesmo que uma tabela do SQL ou um spreadsheet do Excel, por isso são objetos muito importantes.\n",
    "\n",
    "Usualmente, seus dados serão importados para um objeto data.frame. Em grande parte do curso, eles serão o principal objeto de estudo.\n",
    "\n",
    "Os `data.frame’s` são listas especiais em que todos os elementos possuem o mesmo comprimento. Cada elemento dessa lista pode ser pensado como uma coluna da tabela. Seu comprimento representa o número de linhas."
   ]
  },
  {
   "cell_type": "markdown",
   "metadata": {
    "slideshow": {
     "slide_type": "subslide"
    }
   },
   "source": [
    "Já que são listas, essas colunas podem ser de classes diferentes. Essa é a grande diferença entre data.frame’s e matrizes. Algumas funções úteis:\n",
    "\n",
    "`head()` - Mostra as primeiras 6 linhas.  \n",
    "`tail()` - Mostra as últimas 6 linhas.   \n",
    "`dim()` - Número de linhas e de colunas.   \n",
    "`names()` - Os nomes das colunas (variáveis).   \n",
    "`str()` - Estrutura do data.frame. Mostra, entre outras coisas, as classes de cada coluna.   \n",
    "`cbind()` - Acopla duas tabelas lado a lado.   \n",
    "`rbind()` - Empilha duas tabelas.   "
   ]
  },
  {
   "cell_type": "markdown",
   "metadata": {
    "slideshow": {
     "slide_type": "subslide"
    }
   },
   "source": [
    "O exemplo abaixo mostra que uma lista pode virar data.frame se todos os elementos tiverem o mesmo comprimento. 👎"
   ]
  },
  {
   "cell_type": "code",
   "execution_count": 64,
   "metadata": {
    "slideshow": {
     "slide_type": "subslide"
    }
   },
   "outputs": [
    {
     "ename": "ERROR",
     "evalue": "Error in (function (..., row.names = NULL, check.rows = FALSE, check.names = TRUE, : arguments imply differing number of rows: 3, 2\n",
     "output_type": "error",
     "traceback": [
      "Error in (function (..., row.names = NULL, check.rows = FALSE, check.names = TRUE, : arguments imply differing number of rows: 3, 2\nTraceback:\n",
      "1. as.data.frame(minha_lista)",
      "2. as.data.frame.list(minha_lista)",
      "3. do.call(data.frame, c(x, alis))",
      "4. (function (..., row.names = NULL, check.rows = FALSE, check.names = TRUE, \n .     fix.empty.names = TRUE, stringsAsFactors = default.stringsAsFactors()) \n . {\n .     data.row.names <- if (check.rows && is.null(row.names)) \n .         function(current, new, i) {\n .             if (is.character(current)) \n .                 new <- as.character(new)\n .             if (is.character(new)) \n .                 current <- as.character(current)\n .             if (anyDuplicated(new)) \n .                 return(current)\n .             if (is.null(current)) \n .                 return(new)\n .             if (all(current == new) || all(current == \"\")) \n .                 return(new)\n .             stop(gettextf(\"mismatch of row names in arguments of 'data.frame', item %d\", \n .                 i), domain = NA)\n .         }\n .     else function(current, new, i) {\n .         if (is.null(current)) {\n .             if (anyDuplicated(new)) {\n .                 warning(gettextf(\"some row.names duplicated: %s --> row.names NOT used\", \n .                   paste(which(duplicated(new)), collapse = \",\")), \n .                   domain = NA)\n .                 current\n .             }\n .             else new\n .         }\n .         else current\n .     }\n .     object <- as.list(substitute(list(...)))[-1L]\n .     mirn <- missing(row.names)\n .     mrn <- is.null(row.names)\n .     x <- list(...)\n .     n <- length(x)\n .     if (n < 1L) {\n .         if (!mrn) {\n .             if (is.object(row.names) || !is.integer(row.names)) \n .                 row.names <- as.character(row.names)\n .             if (anyNA(row.names)) \n .                 stop(\"row names contain missing values\")\n .             if (anyDuplicated(row.names)) \n .                 stop(gettextf(\"duplicate row.names: %s\", paste(unique(row.names[duplicated(row.names)]), \n .                   collapse = \", \")), domain = NA)\n .         }\n .         else row.names <- integer()\n .         return(structure(list(), names = character(), row.names = row.names, \n .             class = \"data.frame\"))\n .     }\n .     vnames <- names(x)\n .     if (length(vnames) != n) \n .         vnames <- character(n)\n .     no.vn <- !nzchar(vnames)\n .     vlist <- vnames <- as.list(vnames)\n .     nrows <- ncols <- integer(n)\n .     for (i in seq_len(n)) {\n .         xi <- if (is.character(x[[i]]) || is.list(x[[i]])) \n .             as.data.frame(x[[i]], optional = TRUE, stringsAsFactors = stringsAsFactors)\n .         else as.data.frame(x[[i]], optional = TRUE)\n .         nrows[i] <- .row_names_info(xi)\n .         ncols[i] <- length(xi)\n .         namesi <- names(xi)\n .         if (ncols[i] > 1L) {\n .             if (length(namesi) == 0L) \n .                 namesi <- seq_len(ncols[i])\n .             vnames[[i]] <- if (no.vn[i]) \n .                 namesi\n .             else paste(vnames[[i]], namesi, sep = \".\")\n .         }\n .         else if (length(namesi)) {\n .             vnames[[i]] <- namesi\n .         }\n .         else if (fix.empty.names && no.vn[[i]]) {\n .             tmpname <- deparse(object[[i]], nlines = 1L)[1L]\n .             if (startsWith(tmpname, \"I(\") && endsWith(tmpname, \n .                 \")\")) {\n .                 ntmpn <- nchar(tmpname, \"c\")\n .                 tmpname <- substr(tmpname, 3L, ntmpn - 1L)\n .             }\n .             vnames[[i]] <- tmpname\n .         }\n .         if (mirn && nrows[i] > 0L) {\n .             rowsi <- attr(xi, \"row.names\")\n .             if (any(nzchar(rowsi))) \n .                 row.names <- data.row.names(row.names, rowsi, \n .                   i)\n .         }\n .         nrows[i] <- abs(nrows[i])\n .         vlist[[i]] <- xi\n .     }\n .     nr <- max(nrows)\n .     for (i in seq_len(n)[nrows < nr]) {\n .         xi <- vlist[[i]]\n .         if (nrows[i] > 0L && (nr%%nrows[i] == 0L)) {\n .             xi <- unclass(xi)\n .             fixed <- TRUE\n .             for (j in seq_along(xi)) {\n .                 xi1 <- xi[[j]]\n .                 if (is.vector(xi1) || is.factor(xi1)) \n .                   xi[[j]] <- rep(xi1, length.out = nr)\n .                 else if (is.character(xi1) && inherits(xi1, \"AsIs\")) \n .                   xi[[j]] <- structure(rep(xi1, length.out = nr), \n .                     class = class(xi1))\n .                 else if (inherits(xi1, \"Date\") || inherits(xi1, \n .                   \"POSIXct\")) \n .                   xi[[j]] <- rep(xi1, length.out = nr)\n .                 else {\n .                   fixed <- FALSE\n .                   break\n .                 }\n .             }\n .             if (fixed) {\n .                 vlist[[i]] <- xi\n .                 next\n .             }\n .         }\n .         stop(gettextf(\"arguments imply differing number of rows: %s\", \n .             paste(unique(nrows), collapse = \", \")), domain = NA)\n .     }\n .     value <- unlist(vlist, recursive = FALSE, use.names = FALSE)\n .     vnames <- as.character(unlist(vnames[ncols > 0L]))\n .     if (fix.empty.names && any(noname <- !nzchar(vnames))) \n .         vnames[noname] <- paste0(\"Var.\", seq_along(vnames))[noname]\n .     if (check.names) {\n .         if (fix.empty.names) \n .             vnames <- make.names(vnames, unique = TRUE)\n .         else {\n .             nz <- nzchar(vnames)\n .             vnames[nz] <- make.names(vnames[nz], unique = TRUE)\n .         }\n .     }\n .     names(value) <- vnames\n .     if (!mrn) {\n .         if (length(row.names) == 1L && nr != 1L) {\n .             if (is.character(row.names)) \n .                 row.names <- match(row.names, vnames, 0L)\n .             if (length(row.names) != 1L || row.names < 1L || \n .                 row.names > length(vnames)) \n .                 stop(\"'row.names' should specify one of the variables\")\n .             i <- row.names\n .             row.names <- value[[i]]\n .             value <- value[-i]\n .         }\n .         else if (!is.null(row.names) && length(row.names) != \n .             nr) \n .             stop(\"row names supplied are of the wrong length\")\n .     }\n .     else if (!is.null(row.names) && length(row.names) != nr) {\n .         warning(\"row names were found from a short variable and have been discarded\")\n .         row.names <- NULL\n .     }\n .     class(value) <- \"data.frame\"\n .     if (is.null(row.names)) \n .         attr(value, \"row.names\") <- .set_row_names(nr)\n .     else {\n .         if (is.object(row.names) || !is.integer(row.names)) \n .             row.names <- as.character(row.names)\n .         if (anyNA(row.names)) \n .             stop(\"row names contain missing values\")\n .         if (anyDuplicated(row.names)) \n .             stop(gettextf(\"duplicate row.names: %s\", paste(unique(row.names[duplicated(row.names)]), \n .                 collapse = \", \")), domain = NA)\n .         row.names(value) <- row.names\n .     }\n .     value\n . })(x = c(1, 2, 3), y = c(\"a\", \"b\"), check.names = TRUE, fix.empty.names = TRUE, \n .     stringsAsFactors = FALSE)",
      "5. stop(gettextf(\"arguments imply differing number of rows: %s\", \n .     paste(unique(nrows), collapse = \", \")), domain = NA)"
     ]
    }
   ],
   "source": [
    "minha_lista <- list(x = c(1, 2, 3), y = c(\"a\", \"b\"))\n",
    "as.data.frame(minha_lista)"
   ]
  },
  {
   "cell_type": "markdown",
   "metadata": {
    "slideshow": {
     "slide_type": "subslide"
    }
   },
   "source": [
    "# Fazendo do Jeito Certo 👍"
   ]
  },
  {
   "cell_type": "code",
   "execution_count": 65,
   "metadata": {
    "slideshow": {
     "slide_type": "fragment"
    }
   },
   "outputs": [
    {
     "data": {
      "text/html": [
       "<table>\n",
       "<caption>A data.frame: 3 × 3</caption>\n",
       "<thead>\n",
       "\t<tr><th scope=col>produto</th><th scope=col>preco_1</th><th scope=col>preco_2</th></tr>\n",
       "\t<tr><th scope=col>&lt;chr&gt;</th><th scope=col>&lt;dbl&gt;</th><th scope=col>&lt;dbl&gt;</th></tr>\n",
       "</thead>\n",
       "<tbody>\n",
       "\t<tr><td>abacate</td><td> 4</td><td> 5</td></tr>\n",
       "\t<tr><td>queijo </td><td>10</td><td> 9</td></tr>\n",
       "\t<tr><td>massa  </td><td>21</td><td>22</td></tr>\n",
       "</tbody>\n",
       "</table>\n"
      ],
      "text/latex": [
       "A data.frame: 3 × 3\n",
       "\\begin{tabular}{lll}\n",
       " produto & preco\\_1 & preco\\_2\\\\\n",
       " <chr> & <dbl> & <dbl>\\\\\n",
       "\\hline\n",
       "\t abacate &  4 &  5\\\\\n",
       "\t queijo  & 10 &  9\\\\\n",
       "\t massa   & 21 & 22\\\\\n",
       "\\end{tabular}\n"
      ],
      "text/markdown": [
       "\n",
       "A data.frame: 3 × 3\n",
       "\n",
       "| produto &lt;chr&gt; | preco_1 &lt;dbl&gt; | preco_2 &lt;dbl&gt; |\n",
       "|---|---|---|\n",
       "| abacate |  4 |  5 |\n",
       "| queijo  | 10 |  9 |\n",
       "| massa   | 21 | 22 |\n",
       "\n"
      ],
      "text/plain": [
       "  produto preco_1 preco_2\n",
       "1 abacate  4       5     \n",
       "2 queijo  10       9     \n",
       "3 massa   21      22     "
      ]
     },
     "metadata": {},
     "output_type": "display_data"
    }
   ],
   "source": [
    "minha_lista <- list(produto = c(\"abacate\", \"queijo\",'massa'), preco_1=c(4.0,10.0,21.0), preco_2=c(5.0,9.0,22.0))\n",
    "as.data.frame(minha_lista)"
   ]
  },
  {
   "cell_type": "code",
   "execution_count": 66,
   "metadata": {},
   "outputs": [
    {
     "data": {
      "text/html": [
       "<style>\n",
       ".list-inline {list-style: none; margin:0; padding: 0}\n",
       ".list-inline>li {display: inline-block}\n",
       ".list-inline>li:not(:last-child)::after {content: \"\\00b7\"; padding: 0 .5ex}\n",
       "</style>\n",
       "<ol class=list-inline><li>'abacate'</li><li>'queijo'</li><li>'massa'</li></ol>\n"
      ],
      "text/latex": [
       "\\begin{enumerate*}\n",
       "\\item 'abacate'\n",
       "\\item 'queijo'\n",
       "\\item 'massa'\n",
       "\\end{enumerate*}\n"
      ],
      "text/markdown": [
       "1. 'abacate'\n",
       "2. 'queijo'\n",
       "3. 'massa'\n",
       "\n",
       "\n"
      ],
      "text/plain": [
       "[1] \"abacate\" \"queijo\"  \"massa\"  "
      ]
     },
     "metadata": {},
     "output_type": "display_data"
    }
   ],
   "source": [
    "minha_lista$produto"
   ]
  },
  {
   "cell_type": "code",
   "execution_count": 68,
   "metadata": {},
   "outputs": [],
   "source": [
    "library(\"shiny\")"
   ]
  },
  {
   "cell_type": "code",
   "execution_count": null,
   "metadata": {},
   "outputs": [
    {
     "name": "stderr",
     "output_type": "stream",
     "text": [
      "\n",
      "Listening on http://127.0.0.1:5281\n",
      "\n"
     ]
    }
   ],
   "source": [
    "# Load R packages\n",
    "library(shiny)\n",
    "library(shinythemes)\n",
    "\n",
    "  # Define UI\n",
    "  ui <- fluidPage(theme = shinytheme(\"cerulean\"),\n",
    "    navbarPage(\n",
    "\n",
    "      \"My first app\",\n",
    "      tabPanel(\"Navbar 1\",\n",
    "               sidebarPanel(\n",
    "                 tags$h3(\"Input:\"),\n",
    "                 textInput(\"txt1\", \"Given Name:\", \"\"),\n",
    "                 textInput(\"txt2\", \"Surname:\", \"\"),\n",
    "                 \n",
    "               ), # sidebarPanel\n",
    "               mainPanel(\n",
    "                            h1(\"Header 1\"),\n",
    "                            \n",
    "                            h4(\"Output 1\"),\n",
    "                            verbatimTextOutput(\"txtout\"),\n",
    "               ) # mainPanel\n",
    "               \n",
    "      ), # Navbar 1, tabPanel\n",
    "      tabPanel(\"Navbar 2\", \"This panel is intentionally left blank\"),\n",
    "      tabPanel(\"Navbar 3\", \"This panel is intentionally left blank\")\n",
    "  \n",
    "    ) # navbarPage\n",
    "  ) # fluidPage\n",
    "\n",
    "  # Define server function  \n",
    "  server <- function(input, output) {\n",
    "    \n",
    "    output$txtout <- renderText({\n",
    "      paste( input$txt1, input$txt2, sep = \" \" )\n",
    "    })\n",
    "  }\n",
    "  \n",
    "  # Create Shiny object\n",
    "  shinyApp(ui = ui, server = server)"
   ]
  },
  {
   "cell_type": "code",
   "execution_count": null,
   "metadata": {},
   "outputs": [],
   "source": []
  }
 ],
 "metadata": {
  "kernelspec": {
   "display_name": "R",
   "language": "R",
   "name": "ir"
  },
  "language_info": {
   "codemirror_mode": "r",
   "file_extension": ".r",
   "mimetype": "text/x-r-source",
   "name": "R",
   "pygments_lexer": "r",
   "version": "4.0.2"
  }
 },
 "nbformat": 4,
 "nbformat_minor": 4
}
