{
 "cells": [
  {
   "cell_type": "markdown",
   "metadata": {
    "slideshow": {
     "slide_type": "slide"
    }
   },
   "source": [
    "![Linguagem R Básico](https://www.andersonmedeiros.com/wp-content/uploads/2014/02/Livro-Estatistica-R.png)"
   ]
  },
  {
   "cell_type": "markdown",
   "metadata": {
    "slideshow": {
     "slide_type": "slide"
    }
   },
   "source": [
    "## 🧮 Trabalhando com Coleções de Dados no R Vetores, Matrizes, Listas, Factors e Dataframes\n",
    "\n",
    "Já vimos como trabalhar com diversos tipos de variáveis, characters, numeric, logical. Na maioria das vezes trabalhamos com apenas um valor.\n",
    "\n",
    "Mas na análise de dados é necessário trabalhar com conjuntos de vários valores, que podemos cahamr de coleções. Essas coleções podem ser organizadas em estruturas diferentes que são os Vetores, Matrizes, Listas, Factors e Dataframes.\n",
    "\n",
    "Nesta aula vamos estudar a fundo cada uma dessas estruturas."
   ]
  },
  {
   "cell_type": "markdown",
   "metadata": {
    "slideshow": {
     "slide_type": "subslide"
    }
   },
   "source": [
    "A coleção de dados mais simples é o vetor que possui a caracteristica de ser uma sequencia unidemnsional de dados veja a seguinte figura\n",
    "![Figura 1](https://escolakids.uol.com.br/upload/image/estrutura-da-tabela.jpg)\n",
    "\n",
    "Nesta figura vemos que se trata de uma **tabela**, podemos observar que esta tabela possui **10 Linhas** e **3 Colunas**\n",
    "-  🚩 Cada linha é um vetor com 3 elementos e \n",
    "-  🚩 Cada coluna é um vetor com 10 elemntos"
   ]
  },
  {
   "cell_type": "markdown",
   "metadata": {
    "slideshow": {
     "slide_type": "subslide"
    }
   },
   "source": [
    "|         |  🚩Colunas     |           |           |\n",
    "|---------|-------------|-----------|-----------|\n",
    "|🚩Linhas| L 1 - C1    | L 1 - C2  | L 1 - C3  |\n",
    "|        | L 2 - C1    | L 2 - C2  | L 2 - C3  |\n",
    "|        | L 3 - C1    | L 3 - C2  | L 3 - C3  |\n",
    "|        | L 4    - C1 | L 4  - C2 | L 4  - C3 |\n",
    "|        | L 5    - C1 | L 5  - C2 | L 5  - C3 |\n",
    "|        | L 6    - C1 | L 6  - C2 | L 6  - C3 |\n",
    "|        | L 7    - C1 | L 7  - C2 | L 7  - C3 |\n",
    "|        | L 8 - C1    | L 8 - C2  | L 8 - C3  |\n",
    "|        | L 9    - C1 | L 9  - C2 | L 9  - C3 |\n",
    "|        | L 10 - C1   | L 10 - C2 | L 10 - C3 |"
   ]
  },
  {
   "cell_type": "markdown",
   "metadata": {
    "slideshow": {
     "slide_type": "subslide"
    }
   },
   "source": [
    " 🚩Portando podemos tirar das linhas os seguintes vetores\n",
    "\n",
    "|        |             |           |           |\n",
    "|--------|-------------|-----------|-----------|\n",
    "|        | L 2 - C1    | L 2 - C2  | L 2 - C3  |\n",
    "\n",
    "|        |             |           |           |\n",
    "|--------|-------------|-----------|-----------|\n",
    "|        | L 3 - C1    | L 3 - C2  | L 3 - C3  |\n",
    "\n",
    "|        |             |           |           |\n",
    "|--------|-------------|-----------|-----------|\n",
    "|        | L 4    - C1 | L 4  - C2 | L 4  - C3 |\n",
    "\n",
    "|        |             |           |           |\n",
    "|--------|-------------|-----------|-----------|\n",
    "|        | L 5    - C1 | L 5  - C2 | L 5  - C3 |\n",
    "\n",
    "|        |             |           |           |\n",
    "|--------|-------------|-----------|-----------|\n",
    "|        | L 6    - C1 | L 6  - C2 | L 6  - C3 |\n",
    "\n",
    "|        |             |           |           |\n",
    "|--------|-------------|-----------|-----------|\n",
    "|        | L 7    - C1 | L 7  - C2 | L 7  - C3 |\n",
    "\n",
    "|        |             |           |           |\n",
    "|--------|-------------|-----------|-----------|\n",
    "|        | L 8 - C1    | L 8 - C2  | L 8 - C3  |\n",
    "\n",
    "|        |             |           |           |\n",
    "|--------|-------------|-----------|-----------|\n",
    "|        | L 9    - C1 | L 9  - C2 | L 9  - C3 |\n",
    "\n",
    "|        |             |           |           |\n",
    "|--------|-------------|-----------|-----------|\n",
    "|        | L 10 - C1   | L 10 - C2 | L 10 - C3 |"
   ]
  },
  {
   "cell_type": "markdown",
   "metadata": {
    "slideshow": {
     "slide_type": "subslide"
    }
   },
   "source": [
    " 🚩 E das colunas saem os seguintes vetores\n",
    "\n",
    "|   | Colunas     |   |   |\n",
    "|---|-------------|---|---|\n",
    "|   | L 1 - C1    |   |   |\n",
    "|   | L 2 - C1    |   |   |\n",
    "|   | L 3 - C1    |   |   |\n",
    "|   | L 4    - C1 |   |   |\n",
    "|   | L 5    - C1 |   |   |\n",
    "|   | L 6    - C1 |   |   |\n",
    "|   | L 7    - C1 |   |   |\n",
    "|   | L 8 - C1    |   |   |\n",
    "|   | L 9    - C1 |   |   |\n",
    "|   | L 10 - C1   |   |   |"
   ]
  },
  {
   "cell_type": "markdown",
   "metadata": {
    "slideshow": {
     "slide_type": "subslide"
    }
   },
   "source": [
    "E das colunas saem os seguintes vetores\n",
    "\n",
    "|             |\n",
    "|-------------|\n",
    "| | L 1 - C2  |\n",
    "| L 2 - C2    |\n",
    "| L 3 - C2    |\n",
    "| L 4    - C2 |\n",
    "| L 5    - C2 |\n",
    "| L 6    - C2 |\n",
    "| L 7    - C2 |\n",
    "| L 8 - C2    |\n",
    "| L 9    - C2 |\n",
    "| L 10 - C2   |"
   ]
  },
  {
   "cell_type": "markdown",
   "metadata": {
    "slideshow": {
     "slide_type": "subslide"
    }
   },
   "source": [
    " 🚩 E das colunas saem os seguintes vetores\n",
    "\n",
    "|             |\n",
    "|-------------|\n",
    "| | L 1 - C3  |\n",
    "| L 2 - C3    |\n",
    "| L 3 - C3    |\n",
    "| L 4    - C3 |\n",
    "| L 5    - C3 |\n",
    "| L 6    - C3 |\n",
    "| L 7    - C3 |\n",
    "| L 8 - C3    |\n",
    "| L 9    - C3 |\n",
    "| L 10 - C3   |"
   ]
  },
  {
   "cell_type": "markdown",
   "metadata": {
    "slideshow": {
     "slide_type": "slide"
    }
   },
   "source": [
    "Criação de vetores\n",
    "---\n",
    "***\n",
    "O elemento mais básico em R é o vetor. Veremos agora como criá-los e acessar seus elementos (ou seja, subconjuntos). Aqui estão três maneiras de criar o mesmo vetor arbitrário 💡:"
   ]
  },
  {
   "cell_type": "markdown",
   "metadata": {
    "slideshow": {
     "slide_type": "subslide"
    }
   },
   "source": [
    "### Criar um vetor manualmente"
   ]
  },
  {
   "cell_type": "code",
   "execution_count": 87,
   "metadata": {
    "slideshow": {
     "slide_type": "fragment"
    }
   },
   "outputs": [
    {
     "data": {
      "text/html": [
       "<style>\n",
       ".list-inline {list-style: none; margin:0; padding: 0}\n",
       ".list-inline>li {display: inline-block}\n",
       ".list-inline>li:not(:last-child)::after {content: \"\\00b7\"; padding: 0 .5ex}\n",
       "</style>\n",
       "<ol class=list-inline><li>10</li><li>11</li><li>12</li><li>13</li><li>14</li><li>15</li><li>16</li><li>17</li><li>18</li><li>19</li><li>20</li><li>21</li></ol>\n"
      ],
      "text/latex": [
       "\\begin{enumerate*}\n",
       "\\item 10\n",
       "\\item 11\n",
       "\\item 12\n",
       "\\item 13\n",
       "\\item 14\n",
       "\\item 15\n",
       "\\item 16\n",
       "\\item 17\n",
       "\\item 18\n",
       "\\item 19\n",
       "\\item 20\n",
       "\\item 21\n",
       "\\end{enumerate*}\n"
      ],
      "text/markdown": [
       "1. 10\n",
       "2. 11\n",
       "3. 12\n",
       "4. 13\n",
       "5. 14\n",
       "6. 15\n",
       "7. 16\n",
       "8. 17\n",
       "9. 18\n",
       "10. 19\n",
       "11. 20\n",
       "12. 21\n",
       "\n",
       "\n"
      ],
      "text/plain": [
       " [1] 10 11 12 13 14 15 16 17 18 19 20 21"
      ]
     },
     "metadata": {},
     "output_type": "display_data"
    }
   ],
   "source": [
    "c(10,11,12,13,14,15,16,17,18,19,20,21) # create a vector manually"
   ]
  },
  {
   "cell_type": "markdown",
   "metadata": {
    "slideshow": {
     "slide_type": "subslide"
    }
   },
   "source": [
    "### Criar um vetor usando o operador `:` 💡"
   ]
  },
  {
   "cell_type": "code",
   "execution_count": 88,
   "metadata": {
    "slideshow": {
     "slide_type": "fragment"
    }
   },
   "outputs": [
    {
     "data": {
      "text/html": [
       "<style>\n",
       ".list-inline {list-style: none; margin:0; padding: 0}\n",
       ".list-inline>li {display: inline-block}\n",
       ".list-inline>li:not(:last-child)::after {content: \"\\00b7\"; padding: 0 .5ex}\n",
       "</style>\n",
       "<ol class=list-inline><li>10</li><li>11</li><li>12</li><li>13</li><li>14</li><li>15</li><li>16</li><li>17</li><li>18</li><li>19</li><li>20</li><li>21</li></ol>\n"
      ],
      "text/latex": [
       "\\begin{enumerate*}\n",
       "\\item 10\n",
       "\\item 11\n",
       "\\item 12\n",
       "\\item 13\n",
       "\\item 14\n",
       "\\item 15\n",
       "\\item 16\n",
       "\\item 17\n",
       "\\item 18\n",
       "\\item 19\n",
       "\\item 20\n",
       "\\item 21\n",
       "\\end{enumerate*}\n"
      ],
      "text/markdown": [
       "1. 10\n",
       "2. 11\n",
       "3. 12\n",
       "4. 13\n",
       "5. 14\n",
       "6. 15\n",
       "7. 16\n",
       "8. 17\n",
       "9. 18\n",
       "10. 19\n",
       "11. 20\n",
       "12. 21\n",
       "\n",
       "\n"
      ],
      "text/plain": [
       " [1] 10 11 12 13 14 15 16 17 18 19 20 21"
      ]
     },
     "metadata": {},
     "output_type": "display_data"
    }
   ],
   "source": [
    "10:21"
   ]
  },
  {
   "cell_type": "markdown",
   "metadata": {
    "slideshow": {
     "slide_type": "subslide"
    }
   },
   "source": [
    "### Criar um vetor com a  função seq() usando \"by\""
   ]
  },
  {
   "cell_type": "code",
   "execution_count": 89,
   "metadata": {
    "slideshow": {
     "slide_type": "fragment"
    }
   },
   "outputs": [
    {
     "data": {
      "text/html": [
       "<style>\n",
       ".list-inline {list-style: none; margin:0; padding: 0}\n",
       ".list-inline>li {display: inline-block}\n",
       ".list-inline>li:not(:last-child)::after {content: \"\\00b7\"; padding: 0 .5ex}\n",
       "</style>\n",
       "<ol class=list-inline><li>10</li><li>11</li><li>12</li><li>13</li><li>14</li><li>15</li><li>16</li><li>17</li><li>18</li><li>19</li><li>20</li><li>21</li></ol>\n"
      ],
      "text/latex": [
       "\\begin{enumerate*}\n",
       "\\item 10\n",
       "\\item 11\n",
       "\\item 12\n",
       "\\item 13\n",
       "\\item 14\n",
       "\\item 15\n",
       "\\item 16\n",
       "\\item 17\n",
       "\\item 18\n",
       "\\item 19\n",
       "\\item 20\n",
       "\\item 21\n",
       "\\end{enumerate*}\n"
      ],
      "text/markdown": [
       "1. 10\n",
       "2. 11\n",
       "3. 12\n",
       "4. 13\n",
       "5. 14\n",
       "6. 15\n",
       "7. 16\n",
       "8. 17\n",
       "9. 18\n",
       "10. 19\n",
       "11. 20\n",
       "12. 21\n",
       "\n",
       "\n"
      ],
      "text/plain": [
       " [1] 10 11 12 13 14 15 16 17 18 19 20 21"
      ]
     },
     "metadata": {},
     "output_type": "display_data"
    }
   ],
   "source": [
    "seq(from=10, to=21, by=1)              "
   ]
  },
  {
   "cell_type": "code",
   "execution_count": 95,
   "metadata": {
    "slideshow": {
     "slide_type": "fragment"
    }
   },
   "outputs": [
    {
     "data": {
      "text/html": [
       "<style>\n",
       ".list-inline {list-style: none; margin:0; padding: 0}\n",
       ".list-inline>li {display: inline-block}\n",
       ".list-inline>li:not(:last-child)::after {content: \"\\00b7\"; padding: 0 .5ex}\n",
       "</style>\n",
       "<ol class=list-inline><li>10</li><li>13</li><li>16</li><li>19</li></ol>\n"
      ],
      "text/latex": [
       "\\begin{enumerate*}\n",
       "\\item 10\n",
       "\\item 13\n",
       "\\item 16\n",
       "\\item 19\n",
       "\\end{enumerate*}\n"
      ],
      "text/markdown": [
       "1. 10\n",
       "2. 13\n",
       "3. 16\n",
       "4. 19\n",
       "\n",
       "\n"
      ],
      "text/plain": [
       "[1] 10 13 16 19"
      ]
     },
     "metadata": {},
     "output_type": "display_data"
    }
   ],
   "source": [
    "seq(from=10, to=21, by=3)              "
   ]
  },
  {
   "cell_type": "code",
   "execution_count": 96,
   "metadata": {
    "slideshow": {
     "slide_type": "fragment"
    }
   },
   "outputs": [
    {
     "data": {
      "text/html": [
       "<style>\n",
       ".list-inline {list-style: none; margin:0; padding: 0}\n",
       ".list-inline>li {display: inline-block}\n",
       ".list-inline>li:not(:last-child)::after {content: \"\\00b7\"; padding: 0 .5ex}\n",
       "</style>\n",
       "<ol class=list-inline><li>10</li><li>20</li></ol>\n"
      ],
      "text/latex": [
       "\\begin{enumerate*}\n",
       "\\item 10\n",
       "\\item 20\n",
       "\\end{enumerate*}\n"
      ],
      "text/markdown": [
       "1. 10\n",
       "2. 20\n",
       "\n",
       "\n"
      ],
      "text/plain": [
       "[1] 10 20"
      ]
     },
     "metadata": {},
     "output_type": "display_data"
    }
   ],
   "source": [
    "seq(from=10, to=21, by=10)              "
   ]
  },
  {
   "cell_type": "markdown",
   "metadata": {
    "slideshow": {
     "slide_type": "subslide"
    }
   },
   "source": [
    "### Criar um vetor com a  função seq() usando \"len\" (comprimento - length)"
   ]
  },
  {
   "cell_type": "code",
   "execution_count": 99,
   "metadata": {
    "slideshow": {
     "slide_type": "fragment"
    }
   },
   "outputs": [
    {
     "data": {
      "text/html": [
       "<style>\n",
       ".list-inline {list-style: none; margin:0; padding: 0}\n",
       ".list-inline>li {display: inline-block}\n",
       ".list-inline>li:not(:last-child)::after {content: \"\\00b7\"; padding: 0 .5ex}\n",
       "</style>\n",
       "<ol class=list-inline><li>10</li><li>11</li><li>12</li><li>13</li><li>14</li><li>15</li><li>16</li><li>17</li><li>18</li><li>19</li><li>20</li><li>21</li></ol>\n"
      ],
      "text/latex": [
       "\\begin{enumerate*}\n",
       "\\item 10\n",
       "\\item 11\n",
       "\\item 12\n",
       "\\item 13\n",
       "\\item 14\n",
       "\\item 15\n",
       "\\item 16\n",
       "\\item 17\n",
       "\\item 18\n",
       "\\item 19\n",
       "\\item 20\n",
       "\\item 21\n",
       "\\end{enumerate*}\n"
      ],
      "text/markdown": [
       "1. 10\n",
       "2. 11\n",
       "3. 12\n",
       "4. 13\n",
       "5. 14\n",
       "6. 15\n",
       "7. 16\n",
       "8. 17\n",
       "9. 18\n",
       "10. 19\n",
       "11. 20\n",
       "12. 21\n",
       "\n",
       "\n"
      ],
      "text/plain": [
       " [1] 10 11 12 13 14 15 16 17 18 19 20 21"
      ]
     },
     "metadata": {},
     "output_type": "display_data"
    }
   ],
   "source": [
    "seq(from=10, to=21, len=12)"
   ]
  },
  {
   "cell_type": "code",
   "execution_count": 100,
   "metadata": {
    "slideshow": {
     "slide_type": "fragment"
    }
   },
   "outputs": [
    {
     "data": {
      "text/html": [
       "<style>\n",
       ".list-inline {list-style: none; margin:0; padding: 0}\n",
       ".list-inline>li {display: inline-block}\n",
       ".list-inline>li:not(:last-child)::after {content: \"\\00b7\"; padding: 0 .5ex}\n",
       "</style>\n",
       "<ol class=list-inline><li>10</li><li>15.5</li><li>21</li></ol>\n"
      ],
      "text/latex": [
       "\\begin{enumerate*}\n",
       "\\item 10\n",
       "\\item 15.5\n",
       "\\item 21\n",
       "\\end{enumerate*}\n"
      ],
      "text/markdown": [
       "1. 10\n",
       "2. 15.5\n",
       "3. 21\n",
       "\n",
       "\n"
      ],
      "text/plain": [
       "[1] 10.0 15.5 21.0"
      ]
     },
     "metadata": {},
     "output_type": "display_data"
    }
   ],
   "source": [
    "seq(from=10, to=21, len=3)"
   ]
  },
  {
   "cell_type": "code",
   "execution_count": 101,
   "metadata": {
    "slideshow": {
     "slide_type": "fragment"
    }
   },
   "outputs": [
    {
     "data": {
      "text/html": [
       "<style>\n",
       ".list-inline {list-style: none; margin:0; padding: 0}\n",
       ".list-inline>li {display: inline-block}\n",
       ".list-inline>li:not(:last-child)::after {content: \"\\00b7\"; padding: 0 .5ex}\n",
       "</style>\n",
       "<ol class=list-inline><li>10</li><li>21</li></ol>\n"
      ],
      "text/latex": [
       "\\begin{enumerate*}\n",
       "\\item 10\n",
       "\\item 21\n",
       "\\end{enumerate*}\n"
      ],
      "text/markdown": [
       "1. 10\n",
       "2. 21\n",
       "\n",
       "\n"
      ],
      "text/plain": [
       "[1] 10 21"
      ]
     },
     "metadata": {},
     "output_type": "display_data"
    }
   ],
   "source": [
    "seq(from=10, to=21, len=2)"
   ]
  },
  {
   "cell_type": "markdown",
   "metadata": {
    "slideshow": {
     "slide_type": "subslide"
    }
   },
   "source": [
    "### Atribuindo um vetor a uma varaível `x`"
   ]
  },
  {
   "cell_type": "code",
   "execution_count": 104,
   "metadata": {
    "slideshow": {
     "slide_type": "fragment"
    }
   },
   "outputs": [
    {
     "data": {
      "text/html": [
       "<style>\n",
       ".list-inline {list-style: none; margin:0; padding: 0}\n",
       ".list-inline>li {display: inline-block}\n",
       ".list-inline>li:not(:last-child)::after {content: \"\\00b7\"; padding: 0 .5ex}\n",
       "</style>\n",
       "<ol class=list-inline><li>10</li><li>11</li><li>12</li><li>13</li><li>14</li><li>15</li><li>16</li><li>17</li><li>18</li><li>19</li><li>20</li><li>21</li></ol>\n"
      ],
      "text/latex": [
       "\\begin{enumerate*}\n",
       "\\item 10\n",
       "\\item 11\n",
       "\\item 12\n",
       "\\item 13\n",
       "\\item 14\n",
       "\\item 15\n",
       "\\item 16\n",
       "\\item 17\n",
       "\\item 18\n",
       "\\item 19\n",
       "\\item 20\n",
       "\\item 21\n",
       "\\end{enumerate*}\n"
      ],
      "text/markdown": [
       "1. 10\n",
       "2. 11\n",
       "3. 12\n",
       "4. 13\n",
       "5. 14\n",
       "6. 15\n",
       "7. 16\n",
       "8. 17\n",
       "9. 18\n",
       "10. 19\n",
       "11. 20\n",
       "12. 21\n",
       "\n",
       "\n"
      ],
      "text/plain": [
       " [1] 10 11 12 13 14 15 16 17 18 19 20 21"
      ]
     },
     "metadata": {},
     "output_type": "display_data"
    }
   ],
   "source": [
    "x <- 10:21\n",
    "x"
   ]
  },
  {
   "cell_type": "markdown",
   "metadata": {
    "slideshow": {
     "slide_type": "subslide"
    }
   },
   "source": [
    "### Operações com vetores, normalmente trabalhando com cada um dos elementos"
   ]
  },
  {
   "cell_type": "code",
   "execution_count": 107,
   "metadata": {
    "slideshow": {
     "slide_type": "fragment"
    }
   },
   "outputs": [
    {
     "data": {
      "text/html": [
       "<style>\n",
       ".list-inline {list-style: none; margin:0; padding: 0}\n",
       ".list-inline>li {display: inline-block}\n",
       ".list-inline>li:not(:last-child)::after {content: \"\\00b7\"; padding: 0 .5ex}\n",
       "</style>\n",
       "<ol class=list-inline><li>12</li><li>13</li><li>14</li><li>15</li><li>16</li><li>17</li><li>18</li><li>19</li><li>20</li><li>21</li><li>22</li><li>23</li></ol>\n"
      ],
      "text/latex": [
       "\\begin{enumerate*}\n",
       "\\item 12\n",
       "\\item 13\n",
       "\\item 14\n",
       "\\item 15\n",
       "\\item 16\n",
       "\\item 17\n",
       "\\item 18\n",
       "\\item 19\n",
       "\\item 20\n",
       "\\item 21\n",
       "\\item 22\n",
       "\\item 23\n",
       "\\end{enumerate*}\n"
      ],
      "text/markdown": [
       "1. 12\n",
       "2. 13\n",
       "3. 14\n",
       "4. 15\n",
       "5. 16\n",
       "6. 17\n",
       "7. 18\n",
       "8. 19\n",
       "9. 20\n",
       "10. 21\n",
       "11. 22\n",
       "12. 23\n",
       "\n",
       "\n"
      ],
      "text/plain": [
       " [1] 12 13 14 15 16 17 18 19 20 21 22 23"
      ]
     },
     "metadata": {},
     "output_type": "display_data"
    }
   ],
   "source": [
    "x+2                                    # somar 2 a cada um dos elementos de x"
   ]
  },
  {
   "cell_type": "code",
   "execution_count": 109,
   "metadata": {
    "slideshow": {
     "slide_type": "fragment"
    }
   },
   "outputs": [
    {
     "data": {
      "text/html": [
       "<style>\n",
       ".list-inline {list-style: none; margin:0; padding: 0}\n",
       ".list-inline>li {display: inline-block}\n",
       ".list-inline>li:not(:last-child)::after {content: \"\\00b7\"; padding: 0 .5ex}\n",
       "</style>\n",
       "<ol class=list-inline><li>20</li><li>22</li><li>24</li><li>26</li><li>28</li><li>30</li><li>32</li><li>34</li><li>36</li><li>38</li><li>40</li><li>42</li></ol>\n"
      ],
      "text/latex": [
       "\\begin{enumerate*}\n",
       "\\item 20\n",
       "\\item 22\n",
       "\\item 24\n",
       "\\item 26\n",
       "\\item 28\n",
       "\\item 30\n",
       "\\item 32\n",
       "\\item 34\n",
       "\\item 36\n",
       "\\item 38\n",
       "\\item 40\n",
       "\\item 42\n",
       "\\end{enumerate*}\n"
      ],
      "text/markdown": [
       "1. 20\n",
       "2. 22\n",
       "3. 24\n",
       "4. 26\n",
       "5. 28\n",
       "6. 30\n",
       "7. 32\n",
       "8. 34\n",
       "9. 36\n",
       "10. 38\n",
       "11. 40\n",
       "12. 42\n",
       "\n",
       "\n"
      ],
      "text/plain": [
       " [1] 20 22 24 26 28 30 32 34 36 38 40 42"
      ]
     },
     "metadata": {},
     "output_type": "display_data"
    }
   ],
   "source": [
    "x*2                                    # multiplicando cada um dos elementos de `x`\n"
   ]
  },
  {
   "cell_type": "code",
   "execution_count": 110,
   "metadata": {
    "slideshow": {
     "slide_type": "fragment"
    }
   },
   "outputs": [
    {
     "data": {
      "text/html": [
       "<style>\n",
       ".list-inline {list-style: none; margin:0; padding: 0}\n",
       ".list-inline>li {display: inline-block}\n",
       ".list-inline>li:not(:last-child)::after {content: \"\\00b7\"; padding: 0 .5ex}\n",
       "</style>\n",
       "<ol class=list-inline><li>100</li><li>121</li><li>144</li><li>169</li><li>196</li><li>225</li><li>256</li><li>289</li><li>324</li><li>361</li><li>400</li><li>441</li></ol>\n"
      ],
      "text/latex": [
       "\\begin{enumerate*}\n",
       "\\item 100\n",
       "\\item 121\n",
       "\\item 144\n",
       "\\item 169\n",
       "\\item 196\n",
       "\\item 225\n",
       "\\item 256\n",
       "\\item 289\n",
       "\\item 324\n",
       "\\item 361\n",
       "\\item 400\n",
       "\\item 441\n",
       "\\end{enumerate*}\n"
      ],
      "text/markdown": [
       "1. 100\n",
       "2. 121\n",
       "3. 144\n",
       "4. 169\n",
       "5. 196\n",
       "6. 225\n",
       "7. 256\n",
       "8. 289\n",
       "9. 324\n",
       "10. 361\n",
       "11. 400\n",
       "12. 441\n",
       "\n",
       "\n"
      ],
      "text/plain": [
       " [1] 100 121 144 169 196 225 256 289 324 361 400 441"
      ]
     },
     "metadata": {},
     "output_type": "display_data"
    },
    {
     "data": {
      "text/html": [
       "<style>\n",
       ".list-inline {list-style: none; margin:0; padding: 0}\n",
       ".list-inline>li {display: inline-block}\n",
       ".list-inline>li:not(:last-child)::after {content: \"\\00b7\"; padding: 0 .5ex}\n",
       "</style>\n",
       "<ol class=list-inline><li>10</li><li>11</li><li>12</li><li>13</li><li>14</li><li>15</li><li>16</li><li>17</li><li>18</li><li>19</li><li>20</li><li>21</li></ol>\n"
      ],
      "text/latex": [
       "\\begin{enumerate*}\n",
       "\\item 10\n",
       "\\item 11\n",
       "\\item 12\n",
       "\\item 13\n",
       "\\item 14\n",
       "\\item 15\n",
       "\\item 16\n",
       "\\item 17\n",
       "\\item 18\n",
       "\\item 19\n",
       "\\item 20\n",
       "\\item 21\n",
       "\\end{enumerate*}\n"
      ],
      "text/markdown": [
       "1. 10\n",
       "2. 11\n",
       "3. 12\n",
       "4. 13\n",
       "5. 14\n",
       "6. 15\n",
       "7. 16\n",
       "8. 17\n",
       "9. 18\n",
       "10. 19\n",
       "11. 20\n",
       "12. 21\n",
       "\n",
       "\n"
      ],
      "text/plain": [
       " [1] 10 11 12 13 14 15 16 17 18 19 20 21"
      ]
     },
     "metadata": {},
     "output_type": "display_data"
    }
   ],
   "source": [
    "x^2                                    #elevando ao quadrado cada elemento de `x` \n",
    "x"
   ]
  },
  {
   "cell_type": "code",
   "execution_count": 111,
   "metadata": {
    "slideshow": {
     "slide_type": "subslide"
    }
   },
   "outputs": [
    {
     "data": {
      "text/html": [
       "<style>\n",
       ".list-inline {list-style: none; margin:0; padding: 0}\n",
       ".list-inline>li {display: inline-block}\n",
       ".list-inline>li:not(:last-child)::after {content: \"\\00b7\"; padding: 0 .5ex}\n",
       "</style>\n",
       "<ol class=list-inline><li>3.16227766016838</li><li>3.3166247903554</li><li>3.46410161513775</li><li>3.60555127546399</li><li>3.74165738677394</li><li>3.87298334620742</li><li>4</li><li>4.12310562561766</li><li>4.24264068711928</li><li>4.35889894354067</li><li>4.47213595499958</li><li>4.58257569495584</li></ol>\n"
      ],
      "text/latex": [
       "\\begin{enumerate*}\n",
       "\\item 3.16227766016838\n",
       "\\item 3.3166247903554\n",
       "\\item 3.46410161513775\n",
       "\\item 3.60555127546399\n",
       "\\item 3.74165738677394\n",
       "\\item 3.87298334620742\n",
       "\\item 4\n",
       "\\item 4.12310562561766\n",
       "\\item 4.24264068711928\n",
       "\\item 4.35889894354067\n",
       "\\item 4.47213595499958\n",
       "\\item 4.58257569495584\n",
       "\\end{enumerate*}\n"
      ],
      "text/markdown": [
       "1. 3.16227766016838\n",
       "2. 3.3166247903554\n",
       "3. 3.46410161513775\n",
       "4. 3.60555127546399\n",
       "5. 3.74165738677394\n",
       "6. 3.87298334620742\n",
       "7. 4\n",
       "8. 4.12310562561766\n",
       "9. 4.24264068711928\n",
       "10. 4.35889894354067\n",
       "11. 4.47213595499958\n",
       "12. 4.58257569495584\n",
       "\n",
       "\n"
      ],
      "text/plain": [
       " [1] 3.162278 3.316625 3.464102 3.605551 3.741657 3.872983 4.000000 4.123106\n",
       " [9] 4.242641 4.358899 4.472136 4.582576"
      ]
     },
     "metadata": {},
     "output_type": "display_data"
    },
    {
     "data": {
      "text/html": [
       "<style>\n",
       ".list-inline {list-style: none; margin:0; padding: 0}\n",
       ".list-inline>li {display: inline-block}\n",
       ".list-inline>li:not(:last-child)::after {content: \"\\00b7\"; padding: 0 .5ex}\n",
       "</style>\n",
       "<ol class=list-inline><li>10</li><li>11</li><li>12</li><li>13</li><li>14</li><li>15</li><li>16</li><li>17</li><li>18</li><li>19</li><li>20</li><li>21</li></ol>\n"
      ],
      "text/latex": [
       "\\begin{enumerate*}\n",
       "\\item 10\n",
       "\\item 11\n",
       "\\item 12\n",
       "\\item 13\n",
       "\\item 14\n",
       "\\item 15\n",
       "\\item 16\n",
       "\\item 17\n",
       "\\item 18\n",
       "\\item 19\n",
       "\\item 20\n",
       "\\item 21\n",
       "\\end{enumerate*}\n"
      ],
      "text/markdown": [
       "1. 10\n",
       "2. 11\n",
       "3. 12\n",
       "4. 13\n",
       "5. 14\n",
       "6. 15\n",
       "7. 16\n",
       "8. 17\n",
       "9. 18\n",
       "10. 19\n",
       "11. 20\n",
       "12. 21\n",
       "\n",
       "\n"
      ],
      "text/plain": [
       " [1] 10 11 12 13 14 15 16 17 18 19 20 21"
      ]
     },
     "metadata": {},
     "output_type": "display_data"
    }
   ],
   "source": [
    "sqrt(x)                                # raiz quadrada de cada elemento de `x`\n",
    "x"
   ]
  },
  {
   "cell_type": "code",
   "execution_count": 112,
   "metadata": {
    "slideshow": {
     "slide_type": "subslide"
    }
   },
   "outputs": [
    {
     "data": {
      "text/html": [
       "<style>\n",
       ".list-inline {list-style: none; margin:0; padding: 0}\n",
       ".list-inline>li {display: inline-block}\n",
       ".list-inline>li:not(:last-child)::after {content: \"\\00b7\"; padding: 0 .5ex}\n",
       "</style>\n",
       "<ol class=list-inline><li>2.30258509299405</li><li>2.39789527279837</li><li>2.484906649788</li><li>2.56494935746154</li><li>2.63905732961526</li><li>2.70805020110221</li><li>2.77258872223978</li><li>2.83321334405622</li><li>2.89037175789616</li><li>2.94443897916644</li><li>2.99573227355399</li><li>3.04452243772342</li></ol>\n"
      ],
      "text/latex": [
       "\\begin{enumerate*}\n",
       "\\item 2.30258509299405\n",
       "\\item 2.39789527279837\n",
       "\\item 2.484906649788\n",
       "\\item 2.56494935746154\n",
       "\\item 2.63905732961526\n",
       "\\item 2.70805020110221\n",
       "\\item 2.77258872223978\n",
       "\\item 2.83321334405622\n",
       "\\item 2.89037175789616\n",
       "\\item 2.94443897916644\n",
       "\\item 2.99573227355399\n",
       "\\item 3.04452243772342\n",
       "\\end{enumerate*}\n"
      ],
      "text/markdown": [
       "1. 2.30258509299405\n",
       "2. 2.39789527279837\n",
       "3. 2.484906649788\n",
       "4. 2.56494935746154\n",
       "5. 2.63905732961526\n",
       "6. 2.70805020110221\n",
       "7. 2.77258872223978\n",
       "8. 2.83321334405622\n",
       "9. 2.89037175789616\n",
       "10. 2.94443897916644\n",
       "11. 2.99573227355399\n",
       "12. 3.04452243772342\n",
       "\n",
       "\n"
      ],
      "text/plain": [
       " [1] 2.302585 2.397895 2.484907 2.564949 2.639057 2.708050 2.772589 2.833213\n",
       " [9] 2.890372 2.944439 2.995732 3.044522"
      ]
     },
     "metadata": {},
     "output_type": "display_data"
    },
    {
     "data": {
      "text/html": [
       "<style>\n",
       ".list-inline {list-style: none; margin:0; padding: 0}\n",
       ".list-inline>li {display: inline-block}\n",
       ".list-inline>li:not(:last-child)::after {content: \"\\00b7\"; padding: 0 .5ex}\n",
       "</style>\n",
       "<ol class=list-inline><li>10</li><li>11</li><li>12</li><li>13</li><li>14</li><li>15</li><li>16</li><li>17</li><li>18</li><li>19</li><li>20</li><li>21</li></ol>\n"
      ],
      "text/latex": [
       "\\begin{enumerate*}\n",
       "\\item 10\n",
       "\\item 11\n",
       "\\item 12\n",
       "\\item 13\n",
       "\\item 14\n",
       "\\item 15\n",
       "\\item 16\n",
       "\\item 17\n",
       "\\item 18\n",
       "\\item 19\n",
       "\\item 20\n",
       "\\item 21\n",
       "\\end{enumerate*}\n"
      ],
      "text/markdown": [
       "1. 10\n",
       "2. 11\n",
       "3. 12\n",
       "4. 13\n",
       "5. 14\n",
       "6. 15\n",
       "7. 16\n",
       "8. 17\n",
       "9. 18\n",
       "10. 19\n",
       "11. 20\n",
       "12. 21\n",
       "\n",
       "\n"
      ],
      "text/plain": [
       " [1] 10 11 12 13 14 15 16 17 18 19 20 21"
      ]
     },
     "metadata": {},
     "output_type": "display_data"
    }
   ],
   "source": [
    "log(x)                                 # log cada elemento de `x` \n",
    "x"
   ]
  },
  {
   "cell_type": "markdown",
   "metadata": {
    "slideshow": {
     "slide_type": "subslide"
    }
   },
   "source": [
    "### Tipos de vetores"
   ]
  },
  {
   "cell_type": "code",
   "execution_count": 139,
   "metadata": {
    "slideshow": {
     "slide_type": "subslide"
    }
   },
   "outputs": [
    {
     "data": {
      "text/html": [
       "<style>\n",
       ".list-inline {list-style: none; margin:0; padding: 0}\n",
       ".list-inline>li {display: inline-block}\n",
       ".list-inline>li:not(:last-child)::after {content: \"\\00b7\"; padding: 0 .5ex}\n",
       "</style>\n",
       "<ol class=list-inline><li>0.5</li><li>0.6</li></ol>\n"
      ],
      "text/latex": [
       "\\begin{enumerate*}\n",
       "\\item 0.5\n",
       "\\item 0.6\n",
       "\\end{enumerate*}\n"
      ],
      "text/markdown": [
       "1. 0.5\n",
       "2. 0.6\n",
       "\n",
       "\n"
      ],
      "text/plain": [
       "[1] 0.5 0.6"
      ]
     },
     "metadata": {},
     "output_type": "display_data"
    }
   ],
   "source": [
    "x <- c(0.5, 0.6)                       # numeric\n",
    "x"
   ]
  },
  {
   "cell_type": "code",
   "execution_count": 140,
   "metadata": {
    "slideshow": {
     "slide_type": "fragment"
    }
   },
   "outputs": [
    {
     "data": {
      "text/html": [
       "<style>\n",
       ".list-inline {list-style: none; margin:0; padding: 0}\n",
       ".list-inline>li {display: inline-block}\n",
       ".list-inline>li:not(:last-child)::after {content: \"\\00b7\"; padding: 0 .5ex}\n",
       "</style>\n",
       "<ol class=list-inline><li>TRUE</li><li>FALSE</li></ol>\n"
      ],
      "text/latex": [
       "\\begin{enumerate*}\n",
       "\\item TRUE\n",
       "\\item FALSE\n",
       "\\end{enumerate*}\n"
      ],
      "text/markdown": [
       "1. TRUE\n",
       "2. FALSE\n",
       "\n",
       "\n"
      ],
      "text/plain": [
       "[1]  TRUE FALSE"
      ]
     },
     "metadata": {},
     "output_type": "display_data"
    }
   ],
   "source": [
    "x <- c(TRUE, FALSE)                    # logical\n",
    "x"
   ]
  },
  {
   "cell_type": "code",
   "execution_count": 141,
   "metadata": {
    "slideshow": {
     "slide_type": "fragment"
    }
   },
   "outputs": [
    {
     "data": {
      "text/html": [
       "<style>\n",
       ".list-inline {list-style: none; margin:0; padding: 0}\n",
       ".list-inline>li {display: inline-block}\n",
       ".list-inline>li:not(:last-child)::after {content: \"\\00b7\"; padding: 0 .5ex}\n",
       "</style>\n",
       "<ol class=list-inline><li>TRUE</li><li>FALSE</li></ol>\n"
      ],
      "text/latex": [
       "\\begin{enumerate*}\n",
       "\\item TRUE\n",
       "\\item FALSE\n",
       "\\end{enumerate*}\n"
      ],
      "text/markdown": [
       "1. TRUE\n",
       "2. FALSE\n",
       "\n",
       "\n"
      ],
      "text/plain": [
       "[1]  TRUE FALSE"
      ]
     },
     "metadata": {},
     "output_type": "display_data"
    }
   ],
   "source": [
    "x <- c(T, F)                           # logical\n",
    "x"
   ]
  },
  {
   "cell_type": "code",
   "execution_count": 116,
   "metadata": {
    "slideshow": {
     "slide_type": "fragment"
    }
   },
   "outputs": [
    {
     "data": {
      "text/html": [
       "<style>\n",
       ".list-inline {list-style: none; margin:0; padding: 0}\n",
       ".list-inline>li {display: inline-block}\n",
       ".list-inline>li:not(:last-child)::after {content: \"\\00b7\"; padding: 0 .5ex}\n",
       "</style>\n",
       "<ol class=list-inline><li>'a'</li><li>'b'</li><li>'c'</li></ol>\n"
      ],
      "text/latex": [
       "\\begin{enumerate*}\n",
       "\\item 'a'\n",
       "\\item 'b'\n",
       "\\item 'c'\n",
       "\\end{enumerate*}\n"
      ],
      "text/markdown": [
       "1. 'a'\n",
       "2. 'b'\n",
       "3. 'c'\n",
       "\n",
       "\n"
      ],
      "text/plain": [
       "[1] \"a\" \"b\" \"c\""
      ]
     },
     "metadata": {},
     "output_type": "display_data"
    }
   ],
   "source": [
    "x <- c(\"a\", \"b\", \"c\")                  # character\n",
    "x"
   ]
  },
  {
   "cell_type": "code",
   "execution_count": 117,
   "metadata": {
    "slideshow": {
     "slide_type": "fragment"
    }
   },
   "outputs": [
    {
     "data": {
      "text/html": [
       "<style>\n",
       ".list-inline {list-style: none; margin:0; padding: 0}\n",
       ".list-inline>li {display: inline-block}\n",
       ".list-inline>li:not(:last-child)::after {content: \"\\00b7\"; padding: 0 .5ex}\n",
       "</style>\n",
       "<ol class=list-inline><li>9</li><li>10</li><li>11</li><li>12</li><li>13</li><li>14</li><li>15</li><li>16</li><li>17</li><li>18</li><li>19</li><li>20</li><li>21</li><li>22</li><li>23</li><li>24</li><li>25</li><li>26</li><li>27</li><li>28</li><li>29</li></ol>\n"
      ],
      "text/latex": [
       "\\begin{enumerate*}\n",
       "\\item 9\n",
       "\\item 10\n",
       "\\item 11\n",
       "\\item 12\n",
       "\\item 13\n",
       "\\item 14\n",
       "\\item 15\n",
       "\\item 16\n",
       "\\item 17\n",
       "\\item 18\n",
       "\\item 19\n",
       "\\item 20\n",
       "\\item 21\n",
       "\\item 22\n",
       "\\item 23\n",
       "\\item 24\n",
       "\\item 25\n",
       "\\item 26\n",
       "\\item 27\n",
       "\\item 28\n",
       "\\item 29\n",
       "\\end{enumerate*}\n"
      ],
      "text/markdown": [
       "1. 9\n",
       "2. 10\n",
       "3. 11\n",
       "4. 12\n",
       "5. 13\n",
       "6. 14\n",
       "7. 15\n",
       "8. 16\n",
       "9. 17\n",
       "10. 18\n",
       "11. 19\n",
       "12. 20\n",
       "13. 21\n",
       "14. 22\n",
       "15. 23\n",
       "16. 24\n",
       "17. 25\n",
       "18. 26\n",
       "19. 27\n",
       "20. 28\n",
       "21. 29\n",
       "\n",
       "\n"
      ],
      "text/plain": [
       " [1]  9 10 11 12 13 14 15 16 17 18 19 20 21 22 23 24 25 26 27 28 29"
      ]
     },
     "metadata": {},
     "output_type": "display_data"
    }
   ],
   "source": [
    "x <- 9:29                              # integer\n",
    "x"
   ]
  },
  {
   "cell_type": "code",
   "execution_count": 118,
   "metadata": {
    "slideshow": {
     "slide_type": "subslide"
    }
   },
   "outputs": [
    {
     "data": {
      "text/html": [
       "<style>\n",
       ".list-inline {list-style: none; margin:0; padding: 0}\n",
       ".list-inline>li {display: inline-block}\n",
       ".list-inline>li:not(:last-child)::after {content: \"\\00b7\"; padding: 0 .5ex}\n",
       "</style>\n",
       "<ol class=list-inline><li>0</li><li>0</li><li>0</li><li>0</li><li>0</li><li>0</li><li>0</li><li>0</li><li>0</li><li>0</li></ol>\n"
      ],
      "text/latex": [
       "\\begin{enumerate*}\n",
       "\\item 0\n",
       "\\item 0\n",
       "\\item 0\n",
       "\\item 0\n",
       "\\item 0\n",
       "\\item 0\n",
       "\\item 0\n",
       "\\item 0\n",
       "\\item 0\n",
       "\\item 0\n",
       "\\end{enumerate*}\n"
      ],
      "text/markdown": [
       "1. 0\n",
       "2. 0\n",
       "3. 0\n",
       "4. 0\n",
       "5. 0\n",
       "6. 0\n",
       "7. 0\n",
       "8. 0\n",
       "9. 0\n",
       "10. 0\n",
       "\n",
       "\n"
      ],
      "text/plain": [
       " [1] 0 0 0 0 0 0 0 0 0 0"
      ]
     },
     "metadata": {},
     "output_type": "display_data"
    }
   ],
   "source": [
    "x <- vector(\"numeric\", length = 10)    # usando a função `vector()` para incializar vetores.\n",
    "x"
   ]
  },
  {
   "cell_type": "markdown",
   "metadata": {
    "slideshow": {
     "slide_type": "subslide"
    }
   },
   "source": [
    "### A Função typeof()\n",
    "Se você precisar saber qual o typ de dados de um vetor use a função `typeof()'. Vamos ver como ela funciona, primeiro vamos criar três vetores, y1, y2 e y3"
   ]
  },
  {
   "cell_type": "code",
   "execution_count": 119,
   "metadata": {
    "slideshow": {
     "slide_type": "subslide"
    }
   },
   "outputs": [],
   "source": [
    "y1 <- c(1.7, \"a\")                       # character\n",
    "y2 <- c(TRUE, 2)                        # numeric\n",
    "y3 <- c(\"a\", TRUE)                      # character"
   ]
  },
  {
   "cell_type": "code",
   "execution_count": 142,
   "metadata": {
    "slideshow": {
     "slide_type": "subslide"
    }
   },
   "outputs": [
    {
     "data": {
      "text/html": [
       "'character'"
      ],
      "text/latex": [
       "'character'"
      ],
      "text/markdown": [
       "'character'"
      ],
      "text/plain": [
       "[1] \"character\""
      ]
     },
     "metadata": {},
     "output_type": "display_data"
    }
   ],
   "source": [
    "typeof(y1)                              # função para checar qualquer vetor ou variável"
   ]
  },
  {
   "cell_type": "code",
   "execution_count": 143,
   "metadata": {
    "slideshow": {
     "slide_type": "fragment"
    }
   },
   "outputs": [
    {
     "data": {
      "text/html": [
       "'double'"
      ],
      "text/latex": [
       "'double'"
      ],
      "text/markdown": [
       "'double'"
      ],
      "text/plain": [
       "[1] \"double\""
      ]
     },
     "metadata": {},
     "output_type": "display_data"
    }
   ],
   "source": [
    "typeof(y2)                              # função para checar qualquer vetor ou variável"
   ]
  },
  {
   "cell_type": "code",
   "execution_count": 144,
   "metadata": {
    "slideshow": {
     "slide_type": "fragment"
    }
   },
   "outputs": [
    {
     "data": {
      "text/html": [
       "'character'"
      ],
      "text/latex": [
       "'character'"
      ],
      "text/markdown": [
       "'character'"
      ],
      "text/plain": [
       "[1] \"character\""
      ]
     },
     "metadata": {},
     "output_type": "display_data"
    }
   ],
   "source": [
    "typeof(y3)                              # função para checar qualquer vetor ou variável"
   ]
  },
  {
   "cell_type": "markdown",
   "metadata": {
    "slideshow": {
     "slide_type": "subslide"
    }
   },
   "source": [
    "Você também pode usar a função `class()"
   ]
  },
  {
   "cell_type": "code",
   "execution_count": 145,
   "metadata": {
    "slideshow": {
     "slide_type": "fragment"
    }
   },
   "outputs": [
    {
     "data": {
      "text/html": [
       "'character'"
      ],
      "text/latex": [
       "'character'"
      ],
      "text/markdown": [
       "'character'"
      ],
      "text/plain": [
       "[1] \"character\""
      ]
     },
     "metadata": {},
     "output_type": "display_data"
    }
   ],
   "source": [
    "class(y1)                               # função para checar qualquer vetor ou variável"
   ]
  },
  {
   "cell_type": "code",
   "execution_count": 146,
   "metadata": {
    "slideshow": {
     "slide_type": "fragment"
    }
   },
   "outputs": [
    {
     "data": {
      "text/html": [
       "'numeric'"
      ],
      "text/latex": [
       "'numeric'"
      ],
      "text/markdown": [
       "'numeric'"
      ],
      "text/plain": [
       "[1] \"numeric\""
      ]
     },
     "metadata": {},
     "output_type": "display_data"
    }
   ],
   "source": [
    "class(y2)                               # função para checar qualquer vetor ou variável"
   ]
  },
  {
   "cell_type": "code",
   "execution_count": 147,
   "metadata": {
    "slideshow": {
     "slide_type": "fragment"
    }
   },
   "outputs": [
    {
     "data": {
      "text/html": [
       "'character'"
      ],
      "text/latex": [
       "'character'"
      ],
      "text/markdown": [
       "'character'"
      ],
      "text/plain": [
       "[1] \"character\""
      ]
     },
     "metadata": {},
     "output_type": "display_data"
    }
   ],
   "source": [
    "class(y3)                               # função para checar qualquer vetor ou variável"
   ]
  },
  {
   "cell_type": "markdown",
   "metadata": {
    "slideshow": {
     "slide_type": "slide"
    }
   },
   "source": [
    "### Convertendo os tipo de um vetor\n",
    "\n",
    "x <- c(\"a\", \"b\", \"c\",\"1\")              atribui valore a  `x`   \n",
    "as.numeric(x)                          converte `x` como _numeric_   \n",
    "as.logical(x)                          converte `x` como _logical_    \n",
    "as.complex(x)                          converte `x `como _character_    "
   ]
  },
  {
   "cell_type": "code",
   "execution_count": 149,
   "metadata": {
    "slideshow": {
     "slide_type": "slide"
    }
   },
   "outputs": [
    {
     "data": {
      "text/html": [
       "<style>\n",
       ".list-inline {list-style: none; margin:0; padding: 0}\n",
       ".list-inline>li {display: inline-block}\n",
       ".list-inline>li:not(:last-child)::after {content: \"\\00b7\"; padding: 0 .5ex}\n",
       "</style>\n",
       "<ol class=list-inline><li>'a'</li><li>'b'</li><li>'c'</li><li>'1'</li></ol>\n"
      ],
      "text/latex": [
       "\\begin{enumerate*}\n",
       "\\item 'a'\n",
       "\\item 'b'\n",
       "\\item 'c'\n",
       "\\item '1'\n",
       "\\end{enumerate*}\n"
      ],
      "text/markdown": [
       "1. 'a'\n",
       "2. 'b'\n",
       "3. 'c'\n",
       "4. '1'\n",
       "\n",
       "\n"
      ],
      "text/plain": [
       "[1] \"a\" \"b\" \"c\" \"1\""
      ]
     },
     "metadata": {},
     "output_type": "display_data"
    }
   ],
   "source": [
    "x <- c(\"a\", \"b\", \"c\",\"1\")\n",
    "x"
   ]
  },
  {
   "cell_type": "code",
   "execution_count": 127,
   "metadata": {
    "slideshow": {
     "slide_type": "slide"
    }
   },
   "outputs": [
    {
     "name": "stderr",
     "output_type": "stream",
     "text": [
      "Warning message in eval(expr, envir, enclos):\n",
      "\"NAs introduzidos por coerção\"\n"
     ]
    },
    {
     "data": {
      "text/html": [
       "<style>\n",
       ".list-inline {list-style: none; margin:0; padding: 0}\n",
       ".list-inline>li {display: inline-block}\n",
       ".list-inline>li:not(:last-child)::after {content: \"\\00b7\"; padding: 0 .5ex}\n",
       "</style>\n",
       "<ol class=list-inline><li>&lt;NA&gt;</li><li>&lt;NA&gt;</li><li>&lt;NA&gt;</li><li>1</li></ol>\n"
      ],
      "text/latex": [
       "\\begin{enumerate*}\n",
       "\\item <NA>\n",
       "\\item <NA>\n",
       "\\item <NA>\n",
       "\\item 1\n",
       "\\end{enumerate*}\n"
      ],
      "text/markdown": [
       "1. &lt;NA&gt;\n",
       "2. &lt;NA&gt;\n",
       "3. &lt;NA&gt;\n",
       "4. 1\n",
       "\n",
       "\n"
      ],
      "text/plain": [
       "[1] NA NA NA  1"
      ]
     },
     "metadata": {},
     "output_type": "display_data"
    },
    {
     "data": {
      "text/html": [
       "<style>\n",
       ".list-inline {list-style: none; margin:0; padding: 0}\n",
       ".list-inline>li {display: inline-block}\n",
       ".list-inline>li:not(:last-child)::after {content: \"\\00b7\"; padding: 0 .5ex}\n",
       "</style>\n",
       "<ol class=list-inline><li>'a'</li><li>'b'</li><li>'c'</li><li>'1'</li></ol>\n"
      ],
      "text/latex": [
       "\\begin{enumerate*}\n",
       "\\item 'a'\n",
       "\\item 'b'\n",
       "\\item 'c'\n",
       "\\item '1'\n",
       "\\end{enumerate*}\n"
      ],
      "text/markdown": [
       "1. 'a'\n",
       "2. 'b'\n",
       "3. 'c'\n",
       "4. '1'\n",
       "\n",
       "\n"
      ],
      "text/plain": [
       "[1] \"a\" \"b\" \"c\" \"1\""
      ]
     },
     "metadata": {},
     "output_type": "display_data"
    }
   ],
   "source": [
    "as.numeric(x)\n",
    "x"
   ]
  },
  {
   "cell_type": "code",
   "execution_count": 128,
   "metadata": {
    "slideshow": {
     "slide_type": "slide"
    }
   },
   "outputs": [
    {
     "data": {
      "text/html": [
       "<style>\n",
       ".list-inline {list-style: none; margin:0; padding: 0}\n",
       ".list-inline>li {display: inline-block}\n",
       ".list-inline>li:not(:last-child)::after {content: \"\\00b7\"; padding: 0 .5ex}\n",
       "</style>\n",
       "<ol class=list-inline><li>&lt;NA&gt;</li><li>&lt;NA&gt;</li><li>&lt;NA&gt;</li><li>&lt;NA&gt;</li></ol>\n"
      ],
      "text/latex": [
       "\\begin{enumerate*}\n",
       "\\item <NA>\n",
       "\\item <NA>\n",
       "\\item <NA>\n",
       "\\item <NA>\n",
       "\\end{enumerate*}\n"
      ],
      "text/markdown": [
       "1. &lt;NA&gt;\n",
       "2. &lt;NA&gt;\n",
       "3. &lt;NA&gt;\n",
       "4. &lt;NA&gt;\n",
       "\n",
       "\n"
      ],
      "text/plain": [
       "[1] NA NA NA NA"
      ]
     },
     "metadata": {},
     "output_type": "display_data"
    },
    {
     "data": {
      "text/html": [
       "<style>\n",
       ".list-inline {list-style: none; margin:0; padding: 0}\n",
       ".list-inline>li {display: inline-block}\n",
       ".list-inline>li:not(:last-child)::after {content: \"\\00b7\"; padding: 0 .5ex}\n",
       "</style>\n",
       "<ol class=list-inline><li>'a'</li><li>'b'</li><li>'c'</li><li>'1'</li></ol>\n"
      ],
      "text/latex": [
       "\\begin{enumerate*}\n",
       "\\item 'a'\n",
       "\\item 'b'\n",
       "\\item 'c'\n",
       "\\item '1'\n",
       "\\end{enumerate*}\n"
      ],
      "text/markdown": [
       "1. 'a'\n",
       "2. 'b'\n",
       "3. 'c'\n",
       "4. '1'\n",
       "\n",
       "\n"
      ],
      "text/plain": [
       "[1] \"a\" \"b\" \"c\" \"1\""
      ]
     },
     "metadata": {},
     "output_type": "display_data"
    }
   ],
   "source": [
    "as.logical(x)                          \n",
    "x"
   ]
  },
  {
   "cell_type": "code",
   "execution_count": 129,
   "metadata": {
    "slideshow": {
     "slide_type": "slide"
    }
   },
   "outputs": [
    {
     "data": {
      "text/html": [
       "<style>\n",
       ".list-inline {list-style: none; margin:0; padding: 0}\n",
       ".list-inline>li {display: inline-block}\n",
       ".list-inline>li:not(:last-child)::after {content: \"\\00b7\"; padding: 0 .5ex}\n",
       "</style>\n",
       "<ol class=list-inline><li>'a'</li><li>'b'</li><li>'c'</li><li>'1'</li></ol>\n"
      ],
      "text/latex": [
       "\\begin{enumerate*}\n",
       "\\item 'a'\n",
       "\\item 'b'\n",
       "\\item 'c'\n",
       "\\item '1'\n",
       "\\end{enumerate*}\n"
      ],
      "text/markdown": [
       "1. 'a'\n",
       "2. 'b'\n",
       "3. 'c'\n",
       "4. '1'\n",
       "\n",
       "\n"
      ],
      "text/plain": [
       "[1] \"a\" \"b\" \"c\" \"1\""
      ]
     },
     "metadata": {},
     "output_type": "display_data"
    },
    {
     "data": {
      "text/html": [
       "<style>\n",
       ".list-inline {list-style: none; margin:0; padding: 0}\n",
       ".list-inline>li {display: inline-block}\n",
       ".list-inline>li:not(:last-child)::after {content: \"\\00b7\"; padding: 0 .5ex}\n",
       "</style>\n",
       "<ol class=list-inline><li>'a'</li><li>'b'</li><li>'c'</li><li>'1'</li></ol>\n"
      ],
      "text/latex": [
       "\\begin{enumerate*}\n",
       "\\item 'a'\n",
       "\\item 'b'\n",
       "\\item 'c'\n",
       "\\item '1'\n",
       "\\end{enumerate*}\n"
      ],
      "text/markdown": [
       "1. 'a'\n",
       "2. 'b'\n",
       "3. 'c'\n",
       "4. '1'\n",
       "\n",
       "\n"
      ],
      "text/plain": [
       "[1] \"a\" \"b\" \"c\" \"1\""
      ]
     },
     "metadata": {},
     "output_type": "display_data"
    }
   ],
   "source": [
    "as.character(x)\n",
    "x"
   ]
  },
  {
   "cell_type": "code",
   "execution_count": 130,
   "metadata": {
    "slideshow": {
     "slide_type": "slide"
    }
   },
   "outputs": [
    {
     "data": {
      "text/html": [
       "<style>\n",
       ".list-inline {list-style: none; margin:0; padding: 0}\n",
       ".list-inline>li {display: inline-block}\n",
       ".list-inline>li:not(:last-child)::after {content: \"\\00b7\"; padding: 0 .5ex}\n",
       "</style>\n",
       "<ol class=list-inline><li>'1'</li><li>'2'</li><li>'3'</li><li>'4'</li><li>'5'</li><li>'6'</li><li>'7'</li><li>'8'</li><li>'9'</li><li>'10'</li></ol>\n"
      ],
      "text/latex": [
       "\\begin{enumerate*}\n",
       "\\item '1'\n",
       "\\item '2'\n",
       "\\item '3'\n",
       "\\item '4'\n",
       "\\item '5'\n",
       "\\item '6'\n",
       "\\item '7'\n",
       "\\item '8'\n",
       "\\item '9'\n",
       "\\item '10'\n",
       "\\end{enumerate*}\n"
      ],
      "text/markdown": [
       "1. '1'\n",
       "2. '2'\n",
       "3. '3'\n",
       "4. '4'\n",
       "5. '5'\n",
       "6. '6'\n",
       "7. '7'\n",
       "8. '8'\n",
       "9. '9'\n",
       "10. '10'\n",
       "\n",
       "\n"
      ],
      "text/plain": [
       " [1] \"1\"  \"2\"  \"3\"  \"4\"  \"5\"  \"6\"  \"7\"  \"8\"  \"9\"  \"10\""
      ]
     },
     "metadata": {},
     "output_type": "display_data"
    }
   ],
   "source": [
    "as.character(1:10)"
   ]
  },
  {
   "cell_type": "markdown",
   "metadata": {
    "slideshow": {
     "slide_type": "slide"
    }
   },
   "source": [
    "### Acesso aos elemento de um vetor usando indices"
   ]
  },
  {
   "cell_type": "code",
   "execution_count": 150,
   "metadata": {
    "slideshow": {
     "slide_type": "subslide"
    }
   },
   "outputs": [
    {
     "data": {
      "text/html": [
       "<style>\n",
       ".list-inline {list-style: none; margin:0; padding: 0}\n",
       ".list-inline>li {display: inline-block}\n",
       ".list-inline>li:not(:last-child)::after {content: \"\\00b7\"; padding: 0 .5ex}\n",
       "</style>\n",
       "<ol class=list-inline><li>'a'</li><li>'b'</li><li>'c'</li><li>'1'</li></ol>\n"
      ],
      "text/latex": [
       "\\begin{enumerate*}\n",
       "\\item 'a'\n",
       "\\item 'b'\n",
       "\\item 'c'\n",
       "\\item '1'\n",
       "\\end{enumerate*}\n"
      ],
      "text/markdown": [
       "1. 'a'\n",
       "2. 'b'\n",
       "3. 'c'\n",
       "4. '1'\n",
       "\n",
       "\n"
      ],
      "text/plain": [
       "[1] \"a\" \"b\" \"c\" \"1\""
      ]
     },
     "metadata": {},
     "output_type": "display_data"
    }
   ],
   "source": [
    "x"
   ]
  },
  {
   "cell_type": "code",
   "execution_count": 151,
   "metadata": {
    "slideshow": {
     "slide_type": "subslide"
    }
   },
   "outputs": [
    {
     "data": {
      "text/html": [
       "'a'"
      ],
      "text/latex": [
       "'a'"
      ],
      "text/markdown": [
       "'a'"
      ],
      "text/plain": [
       "[1] \"a\""
      ]
     },
     "metadata": {},
     "output_type": "display_data"
    }
   ],
   "source": [
    "x[1] # acessa o primeiro elemneto do vetor x"
   ]
  },
  {
   "cell_type": "code",
   "execution_count": 152,
   "metadata": {
    "slideshow": {
     "slide_type": "subslide"
    }
   },
   "outputs": [
    {
     "data": {
      "text/html": [
       "'b'"
      ],
      "text/latex": [
       "'b'"
      ],
      "text/markdown": [
       "'b'"
      ],
      "text/plain": [
       "[1] \"b\""
      ]
     },
     "metadata": {},
     "output_type": "display_data"
    }
   ],
   "source": [
    "x[2] # acessa o segundo elemneto do vetor x"
   ]
  },
  {
   "cell_type": "code",
   "execution_count": 153,
   "metadata": {
    "slideshow": {
     "slide_type": "subslide"
    }
   },
   "outputs": [
    {
     "data": {
      "text/html": [
       "'c'"
      ],
      "text/latex": [
       "'c'"
      ],
      "text/markdown": [
       "'c'"
      ],
      "text/plain": [
       "[1] \"c\""
      ]
     },
     "metadata": {},
     "output_type": "display_data"
    }
   ],
   "source": [
    "x[3] # acessa o terceiro elemneto do vetor x"
   ]
  },
  {
   "cell_type": "code",
   "execution_count": 154,
   "metadata": {
    "slideshow": {
     "slide_type": "subslide"
    }
   },
   "outputs": [
    {
     "data": {
      "text/html": [
       "'1'"
      ],
      "text/latex": [
       "'1'"
      ],
      "text/markdown": [
       "'1'"
      ],
      "text/plain": [
       "[1] \"1\""
      ]
     },
     "metadata": {},
     "output_type": "display_data"
    }
   ],
   "source": [
    "x[4]# acessa o quarto elemneto do vetor x"
   ]
  },
  {
   "cell_type": "markdown",
   "metadata": {
    "slideshow": {
     "slide_type": "slide"
    }
   },
   "source": [
    "### Funções para sumarizar dados\n",
    "\n",
    "Temos várias funções para sumarizar os dados de um vetor que são :\n",
    "\n",
    "- length(vector)\n",
    "- sum(vector)\n",
    "- mean(vector)\n",
    "- max(vector)\n",
    "- min(vector)\n",
    "- median(vector)\n",
    "- summary(vector)"
   ]
  },
  {
   "cell_type": "code",
   "execution_count": 157,
   "metadata": {
    "slideshow": {
     "slide_type": "subslide"
    }
   },
   "outputs": [],
   "source": [
    "x<-1:2100"
   ]
  },
  {
   "cell_type": "code",
   "execution_count": 158,
   "metadata": {
    "slideshow": {
     "slide_type": "subslide"
    }
   },
   "outputs": [
    {
     "data": {
      "text/html": [
       "2100"
      ],
      "text/latex": [
       "2100"
      ],
      "text/markdown": [
       "2100"
      ],
      "text/plain": [
       "[1] 2100"
      ]
     },
     "metadata": {},
     "output_type": "display_data"
    }
   ],
   "source": [
    "length(x) # retorna a quantidade de elementos (comprimento)"
   ]
  },
  {
   "cell_type": "code",
   "execution_count": 159,
   "metadata": {
    "slideshow": {
     "slide_type": "subslide"
    }
   },
   "outputs": [
    {
     "data": {
      "text/html": [
       "2206050"
      ],
      "text/latex": [
       "2206050"
      ],
      "text/markdown": [
       "2206050"
      ],
      "text/plain": [
       "[1] 2206050"
      ]
     },
     "metadata": {},
     "output_type": "display_data"
    }
   ],
   "source": [
    "sum(x) # retorna a soma dos elementos"
   ]
  },
  {
   "cell_type": "code",
   "execution_count": 160,
   "metadata": {
    "slideshow": {
     "slide_type": "subslide"
    }
   },
   "outputs": [
    {
     "data": {
      "text/html": [
       "2100"
      ],
      "text/latex": [
       "2100"
      ],
      "text/markdown": [
       "2100"
      ],
      "text/plain": [
       "[1] 2100"
      ]
     },
     "metadata": {},
     "output_type": "display_data"
    }
   ],
   "source": [
    "max(x) # retorna o máximo dos elementos"
   ]
  },
  {
   "cell_type": "code",
   "execution_count": 161,
   "metadata": {
    "slideshow": {
     "slide_type": "subslide"
    }
   },
   "outputs": [
    {
     "data": {
      "text/html": [
       "1"
      ],
      "text/latex": [
       "1"
      ],
      "text/markdown": [
       "1"
      ],
      "text/plain": [
       "[1] 1"
      ]
     },
     "metadata": {},
     "output_type": "display_data"
    }
   ],
   "source": [
    "min(x) # retorna o mínimo dos elementos"
   ]
  },
  {
   "cell_type": "code",
   "execution_count": 162,
   "metadata": {
    "slideshow": {
     "slide_type": "subslide"
    }
   },
   "outputs": [
    {
     "data": {
      "text/html": [
       "1050.5"
      ],
      "text/latex": [
       "1050.5"
      ],
      "text/markdown": [
       "1050.5"
      ],
      "text/plain": [
       "[1] 1050.5"
      ]
     },
     "metadata": {},
     "output_type": "display_data"
    }
   ],
   "source": [
    "mean(x) # retorna a média dos elementos"
   ]
  },
  {
   "cell_type": "code",
   "execution_count": 163,
   "metadata": {
    "slideshow": {
     "slide_type": "subslide"
    }
   },
   "outputs": [
    {
     "data": {
      "text/html": [
       "1050.5"
      ],
      "text/latex": [
       "1050.5"
      ],
      "text/markdown": [
       "1050.5"
      ],
      "text/plain": [
       "[1] 1050.5"
      ]
     },
     "metadata": {},
     "output_type": "display_data"
    }
   ],
   "source": [
    "median(x) # retorna a mediana dos elementos"
   ]
  },
  {
   "cell_type": "code",
   "execution_count": 164,
   "metadata": {
    "slideshow": {
     "slide_type": "subslide"
    }
   },
   "outputs": [
    {
     "data": {
      "text/plain": [
       "   Min. 1st Qu.  Median    Mean 3rd Qu.    Max. \n",
       "    1.0   525.8  1050.5  1050.5  1575.2  2100.0 "
      ]
     },
     "metadata": {},
     "output_type": "display_data"
    }
   ],
   "source": [
    "summary(x) # retorna um sumário dos elementos"
   ]
  },
  {
   "cell_type": "markdown",
   "metadata": {
    "slideshow": {
     "slide_type": "slide"
    }
   },
   "source": [
    "### Exemplo\n",
    "\n",
    "Imagine que você fez uma compra e deseja armazenar na memória dado sobre esta compra a primeira cosia a fazer é a atribuição:"
   ]
  },
  {
   "cell_type": "code",
   "execution_count": 174,
   "metadata": {
    "slideshow": {
     "slide_type": "fragment"
    }
   },
   "outputs": [],
   "source": [
    "ShampooMarca <- 'Lavebem'\n",
    "ShampooPreco <- 20.0\n",
    "ShampooQtde <- 2.0\n",
    "ShampooTotal <- ShampooPreco*ShampooQtde"
   ]
  },
  {
   "cell_type": "markdown",
   "metadata": {
    "slideshow": {
     "slide_type": "fragment"
    }
   },
   "source": [
    "É interessante guardar todos estes dados em um vetor, assim podemos consultar tudo em um só lugar "
   ]
  },
  {
   "cell_type": "code",
   "execution_count": 175,
   "metadata": {
    "slideshow": {
     "slide_type": "fragment"
    }
   },
   "outputs": [
    {
     "data": {
      "text/html": [
       "<style>\n",
       ".list-inline {list-style: none; margin:0; padding: 0}\n",
       ".list-inline>li {display: inline-block}\n",
       ".list-inline>li:not(:last-child)::after {content: \"\\00b7\"; padding: 0 .5ex}\n",
       "</style>\n",
       "<ol class=list-inline><li>'Lavebem'</li><li>'20'</li><li>'2'</li><li>'40'</li></ol>\n"
      ],
      "text/latex": [
       "\\begin{enumerate*}\n",
       "\\item 'Lavebem'\n",
       "\\item '20'\n",
       "\\item '2'\n",
       "\\item '40'\n",
       "\\end{enumerate*}\n"
      ],
      "text/markdown": [
       "1. 'Lavebem'\n",
       "2. '20'\n",
       "3. '2'\n",
       "4. '40'\n",
       "\n",
       "\n"
      ],
      "text/plain": [
       "[1] \"Lavebem\" \"20\"      \"2\"       \"40\"     "
      ]
     },
     "metadata": {},
     "output_type": "display_data"
    }
   ],
   "source": [
    "Shampoo <- c(ShampooMarca,ShampooPreco,ShampooQtde,ShampooTotal)\n",
    "Shampoo"
   ]
  },
  {
   "cell_type": "code",
   "execution_count": 176,
   "metadata": {
    "slideshow": {
     "slide_type": "subslide"
    }
   },
   "outputs": [
    {
     "data": {
      "text/html": [
       "'Lavebem'"
      ],
      "text/latex": [
       "'Lavebem'"
      ],
      "text/markdown": [
       "'Lavebem'"
      ],
      "text/plain": [
       "[1] \"Lavebem\""
      ]
     },
     "metadata": {},
     "output_type": "display_data"
    }
   ],
   "source": [
    "Shampoo[1]"
   ]
  },
  {
   "cell_type": "code",
   "execution_count": 177,
   "metadata": {
    "slideshow": {
     "slide_type": "fragment"
    }
   },
   "outputs": [
    {
     "data": {
      "text/html": [
       "'20'"
      ],
      "text/latex": [
       "'20'"
      ],
      "text/markdown": [
       "'20'"
      ],
      "text/plain": [
       "[1] \"20\""
      ]
     },
     "metadata": {},
     "output_type": "display_data"
    }
   ],
   "source": [
    "Shampoo[2]"
   ]
  },
  {
   "cell_type": "code",
   "execution_count": 178,
   "metadata": {
    "slideshow": {
     "slide_type": "fragment"
    }
   },
   "outputs": [
    {
     "data": {
      "text/html": [
       "'2'"
      ],
      "text/latex": [
       "'2'"
      ],
      "text/markdown": [
       "'2'"
      ],
      "text/plain": [
       "[1] \"2\""
      ]
     },
     "metadata": {},
     "output_type": "display_data"
    }
   ],
   "source": [
    "Shampoo[3]"
   ]
  },
  {
   "cell_type": "code",
   "execution_count": 179,
   "metadata": {
    "slideshow": {
     "slide_type": "fragment"
    }
   },
   "outputs": [
    {
     "data": {
      "text/html": [
       "'40'"
      ],
      "text/latex": [
       "'40'"
      ],
      "text/markdown": [
       "'40'"
      ],
      "text/plain": [
       "[1] \"40\""
      ]
     },
     "metadata": {},
     "output_type": "display_data"
    }
   ],
   "source": [
    "Shampoo[4]"
   ]
  },
  {
   "cell_type": "markdown",
   "metadata": {
    "slideshow": {
     "slide_type": "slide"
    }
   },
   "source": [
    "E se você precisar trabalhar com vários vetores ?\n",
    "___"
   ]
  },
  {
   "cell_type": "code",
   "execution_count": 180,
   "metadata": {
    "slideshow": {
     "slide_type": "fragment"
    }
   },
   "outputs": [],
   "source": [
    "id     <- c(\"N198\",\"N805\",\"N333\",\"N117\",\"N195\",\"N298\")\n",
    "genero <- c(1, 0, 1, 1, 0, 1)  # 0 significa masculino, 1 significa feminino\n",
    "idade    <- c(30, 60, 26, 75, 19, 60)\n",
    "sangue  <- c(0.4, 0.2, 0.6, 0.2, 0.8, 0.1)"
   ]
  },
  {
   "cell_type": "markdown",
   "metadata": {
    "slideshow": {
     "slide_type": "subslide"
    }
   },
   "source": [
    "Os vetores podem ser organizados em linhas ou colunas para formar uma estrutura semelhante a uma matriz (um retângulo de dados).   \n",
    "Podemos combiná-los usando as funções `cbind` ou `rbind` que se traduzem em ligar os vetores juntos como colunas ou linhas, respectivamente.   \n",
    "Podemos atribuir as colunas ou linhas combinadas a um novo objeto:\n",
    "\n",
    "`health_data <- cbind (id, genero, idade, sangue)   \n",
    "health_data`\n",
    "\n",
    "- Quando o R leu esses códigos primeiro executa a função `cbind` para ligar vetores juntos em seguida, ele atribui o resultado a um novo objeto `health_data`\n",
    "\n",
    "- Pense em \"cbind\" como uma abreviação de 'vinculação de coluna', isto é, combinando os objetos como colunas\n",
    "\n"
   ]
  },
  {
   "cell_type": "code",
   "execution_count": 172,
   "metadata": {
    "slideshow": {
     "slide_type": "subslide"
    }
   },
   "outputs": [
    {
     "data": {
      "text/html": [
       "<table>\n",
       "<caption>A matrix: 6 × 4 of type chr</caption>\n",
       "<thead>\n",
       "\t<tr><th scope=col>id</th><th scope=col>genero</th><th scope=col>idade</th><th scope=col>sangue</th></tr>\n",
       "</thead>\n",
       "<tbody>\n",
       "\t<tr><td>N198</td><td>1</td><td>30</td><td>0.4</td></tr>\n",
       "\t<tr><td>N805</td><td>0</td><td>60</td><td>0.2</td></tr>\n",
       "\t<tr><td>N333</td><td>1</td><td>26</td><td>0.6</td></tr>\n",
       "\t<tr><td>N117</td><td>1</td><td>75</td><td>0.2</td></tr>\n",
       "\t<tr><td>N195</td><td>0</td><td>19</td><td>0.8</td></tr>\n",
       "\t<tr><td>N298</td><td>1</td><td>60</td><td>0.1</td></tr>\n",
       "</tbody>\n",
       "</table>\n"
      ],
      "text/latex": [
       "A matrix: 6 × 4 of type chr\n",
       "\\begin{tabular}{llll}\n",
       " id & genero & idade & sangue\\\\\n",
       "\\hline\n",
       "\t N198 & 1 & 30 & 0.4\\\\\n",
       "\t N805 & 0 & 60 & 0.2\\\\\n",
       "\t N333 & 1 & 26 & 0.6\\\\\n",
       "\t N117 & 1 & 75 & 0.2\\\\\n",
       "\t N195 & 0 & 19 & 0.8\\\\\n",
       "\t N298 & 1 & 60 & 0.1\\\\\n",
       "\\end{tabular}\n"
      ],
      "text/markdown": [
       "\n",
       "A matrix: 6 × 4 of type chr\n",
       "\n",
       "| id | genero | idade | sangue |\n",
       "|---|---|---|---|\n",
       "| N198 | 1 | 30 | 0.4 |\n",
       "| N805 | 0 | 60 | 0.2 |\n",
       "| N333 | 1 | 26 | 0.6 |\n",
       "| N117 | 1 | 75 | 0.2 |\n",
       "| N195 | 0 | 19 | 0.8 |\n",
       "| N298 | 1 | 60 | 0.1 |\n",
       "\n"
      ],
      "text/plain": [
       "     id   genero idade sangue\n",
       "[1,] N198 1      30    0.4   \n",
       "[2,] N805 0      60    0.2   \n",
       "[3,] N333 1      26    0.6   \n",
       "[4,] N117 1      75    0.2   \n",
       "[5,] N195 0      19    0.8   \n",
       "[6,] N298 1      60    0.1   "
      ]
     },
     "metadata": {},
     "output_type": "display_data"
    }
   ],
   "source": [
    "health_data <- cbind(id, genero, idade, sangue)\n",
    "health_data"
   ]
  },
  {
   "cell_type": "markdown",
   "metadata": {
    "slideshow": {
     "slide_type": "subslide"
    }
   },
   "source": [
    "Agora pense em `rbind` como um encurtamento de 'vinculação de linha', ou seja, combinar os objetos como linhas\n",
    "\n",
    "health_data_rbind <-rbind (id, genero, idade, sangue)   \n",
    "health_data_rbind"
   ]
  },
  {
   "cell_type": "code",
   "execution_count": 181,
   "metadata": {
    "slideshow": {
     "slide_type": "subslide"
    }
   },
   "outputs": [
    {
     "data": {
      "text/html": [
       "<table>\n",
       "<caption>A matrix: 4 × 6 of type chr</caption>\n",
       "<tbody>\n",
       "\t<tr><th scope=row>id</th><td>N198</td><td>N805</td><td>N333</td><td>N117</td><td>N195</td><td>N298</td></tr>\n",
       "\t<tr><th scope=row>genero</th><td>1   </td><td>0   </td><td>1   </td><td>1   </td><td>0   </td><td>1   </td></tr>\n",
       "\t<tr><th scope=row>idade</th><td>30  </td><td>60  </td><td>26  </td><td>75  </td><td>19  </td><td>60  </td></tr>\n",
       "\t<tr><th scope=row>sangue</th><td>0.4 </td><td>0.2 </td><td>0.6 </td><td>0.2 </td><td>0.8 </td><td>0.1 </td></tr>\n",
       "</tbody>\n",
       "</table>\n"
      ],
      "text/latex": [
       "A matrix: 4 × 6 of type chr\n",
       "\\begin{tabular}{r|llllll}\n",
       "\tid & N198 & N805 & N333 & N117 & N195 & N298\\\\\n",
       "\tgenero & 1    & 0    & 1    & 1    & 0    & 1   \\\\\n",
       "\tidade & 30   & 60   & 26   & 75   & 19   & 60  \\\\\n",
       "\tsangue & 0.4  & 0.2  & 0.6  & 0.2  & 0.8  & 0.1 \\\\\n",
       "\\end{tabular}\n"
      ],
      "text/markdown": [
       "\n",
       "A matrix: 4 × 6 of type chr\n",
       "\n",
       "| id | N198 | N805 | N333 | N117 | N195 | N298 |\n",
       "| genero | 1    | 0    | 1    | 1    | 0    | 1    |\n",
       "| idade | 30   | 60   | 26   | 75   | 19   | 60   |\n",
       "| sangue | 0.4  | 0.2  | 0.6  | 0.2  | 0.8  | 0.1  |\n",
       "\n"
      ],
      "text/plain": [
       "       [,1] [,2] [,3] [,4] [,5] [,6]\n",
       "id     N198 N805 N333 N117 N195 N298\n",
       "genero 1    0    1    1    0    1   \n",
       "idade  30   60   26   75   19   60  \n",
       "sangue 0.4  0.2  0.6  0.2  0.8  0.1 "
      ]
     },
     "metadata": {},
     "output_type": "display_data"
    }
   ],
   "source": [
    "health_data_rbind <-rbind (id, genero, idade, sangue)\n",
    "health_data_rbind"
   ]
  },
  {
   "cell_type": "markdown",
   "metadata": {
    "slideshow": {
     "slide_type": "subslide"
    }
   },
   "source": [
    "- Combinar os vetores dessa maneira fornece uma matriz de informações.    \n",
    "- A classe de um objeto pode ser encontrada usando a função `class`.   \n",
    "- Observe que se tentarmos isso em um vetor, a classe depende do tipo de componentes, por exemplo, temos “numeric” para um vetor de números e “character” para um vetor de nomes.   \n",
    "- Da mesma forma que um vetor, as entradas de uma matriz devem ser da mesma classe, portanto, mais uma vez, vemos que os números foram alterados para ficarem entre aspas, pois agora são tratados como texto."
   ]
  },
  {
   "cell_type": "markdown",
   "metadata": {
    "slideshow": {
     "slide_type": "subslide"
    }
   },
   "source": [
    "### Portanto agora nossos dados de compras podem ser tratados de uma forma diferente"
   ]
  },
  {
   "cell_type": "code",
   "execution_count": 56,
   "metadata": {
    "slideshow": {
     "slide_type": "fragment"
    }
   },
   "outputs": [],
   "source": [
    "items <- c(1,2,3,4,5,6)\n",
    "ItemNome <-c('Shampoo','Sabonete','Pasta','Escova','Fio Dental','Água')\n",
    "ItemPreco <-c(20.5,5.5,3.52,7.34,5.23,5.02)\n",
    "ItemQtde <- c(2,3,4,1,1,3)\n",
    "ItemTotal <- ItemPreco*ItemQtde"
   ]
  },
  {
   "cell_type": "code",
   "execution_count": 182,
   "metadata": {
    "slideshow": {
     "slide_type": "subslide"
    }
   },
   "outputs": [
    {
     "data": {
      "text/html": [
       "<style>\n",
       ".list-inline {list-style: none; margin:0; padding: 0}\n",
       ".list-inline>li {display: inline-block}\n",
       ".list-inline>li:not(:last-child)::after {content: \"\\00b7\"; padding: 0 .5ex}\n",
       "</style>\n",
       "<ol class=list-inline><li>'Shampoo'</li><li>'Sabonete'</li><li>'Pasta'</li><li>'Escova'</li><li>'Fio Dental'</li><li>'Água'</li></ol>\n"
      ],
      "text/latex": [
       "\\begin{enumerate*}\n",
       "\\item 'Shampoo'\n",
       "\\item 'Sabonete'\n",
       "\\item 'Pasta'\n",
       "\\item 'Escova'\n",
       "\\item 'Fio Dental'\n",
       "\\item 'Água'\n",
       "\\end{enumerate*}\n"
      ],
      "text/markdown": [
       "1. 'Shampoo'\n",
       "2. 'Sabonete'\n",
       "3. 'Pasta'\n",
       "4. 'Escova'\n",
       "5. 'Fio Dental'\n",
       "6. 'Água'\n",
       "\n",
       "\n"
      ],
      "text/plain": [
       "[1] \"Shampoo\"    \"Sabonete\"   \"Pasta\"      \"Escova\"     \"Fio Dental\"\n",
       "[6] \"Água\"      "
      ]
     },
     "metadata": {},
     "output_type": "display_data"
    }
   ],
   "source": [
    "ItemNome"
   ]
  },
  {
   "cell_type": "code",
   "execution_count": 183,
   "metadata": {
    "slideshow": {
     "slide_type": "fragment"
    }
   },
   "outputs": [
    {
     "data": {
      "text/html": [
       "<style>\n",
       ".list-inline {list-style: none; margin:0; padding: 0}\n",
       ".list-inline>li {display: inline-block}\n",
       ".list-inline>li:not(:last-child)::after {content: \"\\00b7\"; padding: 0 .5ex}\n",
       "</style>\n",
       "<ol class=list-inline><li>20.5</li><li>5.5</li><li>3.52</li><li>7.34</li><li>5.23</li><li>5.02</li></ol>\n"
      ],
      "text/latex": [
       "\\begin{enumerate*}\n",
       "\\item 20.5\n",
       "\\item 5.5\n",
       "\\item 3.52\n",
       "\\item 7.34\n",
       "\\item 5.23\n",
       "\\item 5.02\n",
       "\\end{enumerate*}\n"
      ],
      "text/markdown": [
       "1. 20.5\n",
       "2. 5.5\n",
       "3. 3.52\n",
       "4. 7.34\n",
       "5. 5.23\n",
       "6. 5.02\n",
       "\n",
       "\n"
      ],
      "text/plain": [
       "[1] 20.50  5.50  3.52  7.34  5.23  5.02"
      ]
     },
     "metadata": {},
     "output_type": "display_data"
    }
   ],
   "source": [
    "ItemPreco"
   ]
  },
  {
   "cell_type": "code",
   "execution_count": 184,
   "metadata": {
    "slideshow": {
     "slide_type": "fragment"
    }
   },
   "outputs": [
    {
     "data": {
      "text/html": [
       "<style>\n",
       ".list-inline {list-style: none; margin:0; padding: 0}\n",
       ".list-inline>li {display: inline-block}\n",
       ".list-inline>li:not(:last-child)::after {content: \"\\00b7\"; padding: 0 .5ex}\n",
       "</style>\n",
       "<ol class=list-inline><li>2</li><li>3</li><li>4</li><li>1</li><li>1</li><li>3</li></ol>\n"
      ],
      "text/latex": [
       "\\begin{enumerate*}\n",
       "\\item 2\n",
       "\\item 3\n",
       "\\item 4\n",
       "\\item 1\n",
       "\\item 1\n",
       "\\item 3\n",
       "\\end{enumerate*}\n"
      ],
      "text/markdown": [
       "1. 2\n",
       "2. 3\n",
       "3. 4\n",
       "4. 1\n",
       "5. 1\n",
       "6. 3\n",
       "\n",
       "\n"
      ],
      "text/plain": [
       "[1] 2 3 4 1 1 3"
      ]
     },
     "metadata": {},
     "output_type": "display_data"
    }
   ],
   "source": [
    "ItemQtde"
   ]
  },
  {
   "cell_type": "code",
   "execution_count": 185,
   "metadata": {
    "slideshow": {
     "slide_type": "fragment"
    }
   },
   "outputs": [
    {
     "data": {
      "text/html": [
       "<style>\n",
       ".list-inline {list-style: none; margin:0; padding: 0}\n",
       ".list-inline>li {display: inline-block}\n",
       ".list-inline>li:not(:last-child)::after {content: \"\\00b7\"; padding: 0 .5ex}\n",
       "</style>\n",
       "<ol class=list-inline><li>41</li><li>16.5</li><li>14.08</li><li>7.34</li><li>5.23</li><li>15.06</li></ol>\n"
      ],
      "text/latex": [
       "\\begin{enumerate*}\n",
       "\\item 41\n",
       "\\item 16.5\n",
       "\\item 14.08\n",
       "\\item 7.34\n",
       "\\item 5.23\n",
       "\\item 15.06\n",
       "\\end{enumerate*}\n"
      ],
      "text/markdown": [
       "1. 41\n",
       "2. 16.5\n",
       "3. 14.08\n",
       "4. 7.34\n",
       "5. 5.23\n",
       "6. 15.06\n",
       "\n",
       "\n"
      ],
      "text/plain": [
       "[1] 41.00 16.50 14.08  7.34  5.23 15.06"
      ]
     },
     "metadata": {},
     "output_type": "display_data"
    }
   ],
   "source": [
    "ItemTotal"
   ]
  },
  {
   "cell_type": "markdown",
   "metadata": {
    "slideshow": {
     "slide_type": "subslide"
    }
   },
   "source": [
    "### Agora podemos juntar tudo com `cbind`"
   ]
  },
  {
   "cell_type": "code",
   "execution_count": 186,
   "metadata": {
    "slideshow": {
     "slide_type": "fragment"
    }
   },
   "outputs": [],
   "source": [
    "Compra <-cbind(ItemNome,ItemPreco,ItemQtde,ItemTotal)"
   ]
  },
  {
   "cell_type": "code",
   "execution_count": 187,
   "metadata": {
    "slideshow": {
     "slide_type": "fragment"
    }
   },
   "outputs": [
    {
     "data": {
      "text/html": [
       "<table>\n",
       "<caption>A matrix: 6 × 4 of type chr</caption>\n",
       "<thead>\n",
       "\t<tr><th scope=col>ItemNome</th><th scope=col>ItemPreco</th><th scope=col>ItemQtde</th><th scope=col>ItemTotal</th></tr>\n",
       "</thead>\n",
       "<tbody>\n",
       "\t<tr><td>Shampoo   </td><td>20.5</td><td>2</td><td>41   </td></tr>\n",
       "\t<tr><td>Sabonete  </td><td>5.5 </td><td>3</td><td>16.5 </td></tr>\n",
       "\t<tr><td>Pasta     </td><td>3.52</td><td>4</td><td>14.08</td></tr>\n",
       "\t<tr><td>Escova    </td><td>7.34</td><td>1</td><td>7.34 </td></tr>\n",
       "\t<tr><td>Fio Dental</td><td>5.23</td><td>1</td><td>5.23 </td></tr>\n",
       "\t<tr><td>Água      </td><td>5.02</td><td>3</td><td>15.06</td></tr>\n",
       "</tbody>\n",
       "</table>\n"
      ],
      "text/latex": [
       "A matrix: 6 × 4 of type chr\n",
       "\\begin{tabular}{llll}\n",
       " ItemNome & ItemPreco & ItemQtde & ItemTotal\\\\\n",
       "\\hline\n",
       "\t Shampoo    & 20.5 & 2 & 41   \\\\\n",
       "\t Sabonete   & 5.5  & 3 & 16.5 \\\\\n",
       "\t Pasta      & 3.52 & 4 & 14.08\\\\\n",
       "\t Escova     & 7.34 & 1 & 7.34 \\\\\n",
       "\t Fio Dental & 5.23 & 1 & 5.23 \\\\\n",
       "\t Água       & 5.02 & 3 & 15.06\\\\\n",
       "\\end{tabular}\n"
      ],
      "text/markdown": [
       "\n",
       "A matrix: 6 × 4 of type chr\n",
       "\n",
       "| ItemNome | ItemPreco | ItemQtde | ItemTotal |\n",
       "|---|---|---|---|\n",
       "| Shampoo    | 20.5 | 2 | 41    |\n",
       "| Sabonete   | 5.5  | 3 | 16.5  |\n",
       "| Pasta      | 3.52 | 4 | 14.08 |\n",
       "| Escova     | 7.34 | 1 | 7.34  |\n",
       "| Fio Dental | 5.23 | 1 | 5.23  |\n",
       "| Água       | 5.02 | 3 | 15.06 |\n",
       "\n"
      ],
      "text/plain": [
       "     ItemNome   ItemPreco ItemQtde ItemTotal\n",
       "[1,] Shampoo    20.5      2        41       \n",
       "[2,] Sabonete   5.5       3        16.5     \n",
       "[3,] Pasta      3.52      4        14.08    \n",
       "[4,] Escova     7.34      1        7.34     \n",
       "[5,] Fio Dental 5.23      1        5.23     \n",
       "[6,] Água       5.02      3        15.06    "
      ]
     },
     "metadata": {},
     "output_type": "display_data"
    }
   ],
   "source": [
    "Compra"
   ]
  },
  {
   "cell_type": "markdown",
   "metadata": {
    "slideshow": {
     "slide_type": "subslide"
    }
   },
   "source": [
    "### Agora também podemos juntar tudo com `rbind`"
   ]
  },
  {
   "cell_type": "code",
   "execution_count": 188,
   "metadata": {
    "slideshow": {
     "slide_type": "fragment"
    }
   },
   "outputs": [],
   "source": [
    "Compra_rbind <-rbind(ItemNome,ItemPreco,ItemQtde,ItemTotal)"
   ]
  },
  {
   "cell_type": "code",
   "execution_count": 190,
   "metadata": {
    "slideshow": {
     "slide_type": "fragment"
    }
   },
   "outputs": [
    {
     "data": {
      "text/html": [
       "<table>\n",
       "<caption>A matrix: 4 × 6 of type chr</caption>\n",
       "<tbody>\n",
       "\t<tr><th scope=row>ItemNome</th><td>Shampoo</td><td>Sabonete</td><td>Pasta</td><td>Escova</td><td>Fio Dental</td><td>Água </td></tr>\n",
       "\t<tr><th scope=row>ItemPreco</th><td>20.5   </td><td>5.5     </td><td>3.52 </td><td>7.34  </td><td>5.23      </td><td>5.02 </td></tr>\n",
       "\t<tr><th scope=row>ItemQtde</th><td>2      </td><td>3       </td><td>4    </td><td>1     </td><td>1         </td><td>3    </td></tr>\n",
       "\t<tr><th scope=row>ItemTotal</th><td>41     </td><td>16.5    </td><td>14.08</td><td>7.34  </td><td>5.23      </td><td>15.06</td></tr>\n",
       "</tbody>\n",
       "</table>\n"
      ],
      "text/latex": [
       "A matrix: 4 × 6 of type chr\n",
       "\\begin{tabular}{r|llllll}\n",
       "\tItemNome & Shampoo & Sabonete & Pasta & Escova & Fio Dental & Água \\\\\n",
       "\tItemPreco & 20.5    & 5.5      & 3.52  & 7.34   & 5.23       & 5.02 \\\\\n",
       "\tItemQtde & 2       & 3        & 4     & 1      & 1          & 3    \\\\\n",
       "\tItemTotal & 41      & 16.5     & 14.08 & 7.34   & 5.23       & 15.06\\\\\n",
       "\\end{tabular}\n"
      ],
      "text/markdown": [
       "\n",
       "A matrix: 4 × 6 of type chr\n",
       "\n",
       "| ItemNome | Shampoo | Sabonete | Pasta | Escova | Fio Dental | Água  |\n",
       "| ItemPreco | 20.5    | 5.5      | 3.52  | 7.34   | 5.23       | 5.02  |\n",
       "| ItemQtde | 2       | 3        | 4     | 1      | 1          | 3     |\n",
       "| ItemTotal | 41      | 16.5     | 14.08 | 7.34   | 5.23       | 15.06 |\n",
       "\n"
      ],
      "text/plain": [
       "          [,1]    [,2]     [,3]  [,4]   [,5]       [,6] \n",
       "ItemNome  Shampoo Sabonete Pasta Escova Fio Dental Água \n",
       "ItemPreco 20.5    5.5      3.52  7.34   5.23       5.02 \n",
       "ItemQtde  2       3        4     1      1          3    \n",
       "ItemTotal 41      16.5     14.08 7.34   5.23       15.06"
      ]
     },
     "metadata": {},
     "output_type": "display_data"
    }
   ],
   "source": [
    "Compra_rbind"
   ]
  },
  {
   "cell_type": "markdown",
   "metadata": {
    "slideshow": {
     "slide_type": "slide"
    }
   },
   "source": [
    "## Matrizes\n",
    "\n",
    "Matrizes são vetores com um atributo de dimensão.  \n",
    "O atributo de dimensão é em si um vetor inteiro de comprimento 2 (número de linhas, número de colunas)"
   ]
  },
  {
   "cell_type": "code",
   "execution_count": 192,
   "metadata": {
    "slideshow": {
     "slide_type": "subslide"
    }
   },
   "outputs": [],
   "source": [
    "m <- matrix(nrow = 2, ncol = 3)        # cria uma `NA` matriz bde 2x3"
   ]
  },
  {
   "cell_type": "code",
   "execution_count": 193,
   "metadata": {
    "slideshow": {
     "slide_type": "subslide"
    }
   },
   "outputs": [
    {
     "data": {
      "text/html": [
       "<table>\n",
       "<caption>A matrix: 2 × 3 of type lgl</caption>\n",
       "<tbody>\n",
       "\t<tr><td>NA</td><td>NA</td><td>NA</td></tr>\n",
       "\t<tr><td>NA</td><td>NA</td><td>NA</td></tr>\n",
       "</tbody>\n",
       "</table>\n"
      ],
      "text/latex": [
       "A matrix: 2 × 3 of type lgl\n",
       "\\begin{tabular}{lll}\n",
       "\t NA & NA & NA\\\\\n",
       "\t NA & NA & NA\\\\\n",
       "\\end{tabular}\n"
      ],
      "text/markdown": [
       "\n",
       "A matrix: 2 × 3 of type lgl\n",
       "\n",
       "| NA | NA | NA |\n",
       "| NA | NA | NA |\n",
       "\n"
      ],
      "text/plain": [
       "     [,1] [,2] [,3]\n",
       "[1,] NA   NA   NA  \n",
       "[2,] NA   NA   NA  "
      ]
     },
     "metadata": {},
     "output_type": "display_data"
    }
   ],
   "source": [
    "m                                      # print m"
   ]
  },
  {
   "cell_type": "code",
   "execution_count": 194,
   "metadata": {
    "slideshow": {
     "slide_type": "subslide"
    }
   },
   "outputs": [
    {
     "data": {
      "text/html": [
       "<style>\n",
       ".list-inline {list-style: none; margin:0; padding: 0}\n",
       ".list-inline>li {display: inline-block}\n",
       ".list-inline>li:not(:last-child)::after {content: \"\\00b7\"; padding: 0 .5ex}\n",
       "</style>\n",
       "<ol class=list-inline><li>2</li><li>3</li></ol>\n"
      ],
      "text/latex": [
       "\\begin{enumerate*}\n",
       "\\item 2\n",
       "\\item 3\n",
       "\\end{enumerate*}\n"
      ],
      "text/markdown": [
       "1. 2\n",
       "2. 3\n",
       "\n",
       "\n"
      ],
      "text/plain": [
       "[1] 2 3"
      ]
     },
     "metadata": {},
     "output_type": "display_data"
    }
   ],
   "source": [
    "dim(m)                                 # check dimensiões "
   ]
  },
  {
   "cell_type": "code",
   "execution_count": 195,
   "metadata": {
    "slideshow": {
     "slide_type": "subslide"
    }
   },
   "outputs": [
    {
     "data": {
      "text/html": [
       "<strong>$dim</strong> = <style>\n",
       ".list-inline {list-style: none; margin:0; padding: 0}\n",
       ".list-inline>li {display: inline-block}\n",
       ".list-inline>li:not(:last-child)::after {content: \"\\00b7\"; padding: 0 .5ex}\n",
       "</style>\n",
       "<ol class=list-inline><li>2</li><li>3</li></ol>\n"
      ],
      "text/latex": [
       "\\textbf{\\$dim} = \\begin{enumerate*}\n",
       "\\item 2\n",
       "\\item 3\n",
       "\\end{enumerate*}\n"
      ],
      "text/markdown": [
       "**$dim** = 1. 2\n",
       "2. 3\n",
       "\n",
       "\n"
      ],
      "text/plain": [
       "$dim\n",
       "[1] 2 3\n"
      ]
     },
     "metadata": {},
     "output_type": "display_data"
    }
   ],
   "source": [
    "attributes(m)                          # check dimension "
   ]
  },
  {
   "cell_type": "markdown",
   "metadata": {
    "slideshow": {
     "slide_type": "fragment"
    }
   },
   "source": [
    "Matrizes também podem ser criadas diretamente de vetores, adicionando um atributo de dimensão."
   ]
  },
  {
   "cell_type": "code",
   "execution_count": 196,
   "metadata": {
    "slideshow": {
     "slide_type": "subslide"
    }
   },
   "outputs": [
    {
     "data": {
      "text/html": [
       "<style>\n",
       ".list-inline {list-style: none; margin:0; padding: 0}\n",
       ".list-inline>li {display: inline-block}\n",
       ".list-inline>li:not(:last-child)::after {content: \"\\00b7\"; padding: 0 .5ex}\n",
       "</style>\n",
       "<ol class=list-inline><li>1</li><li>2</li><li>3</li><li>4</li><li>5</li><li>6</li><li>7</li><li>8</li><li>9</li><li>10</li></ol>\n"
      ],
      "text/latex": [
       "\\begin{enumerate*}\n",
       "\\item 1\n",
       "\\item 2\n",
       "\\item 3\n",
       "\\item 4\n",
       "\\item 5\n",
       "\\item 6\n",
       "\\item 7\n",
       "\\item 8\n",
       "\\item 9\n",
       "\\item 10\n",
       "\\end{enumerate*}\n"
      ],
      "text/markdown": [
       "1. 1\n",
       "2. 2\n",
       "3. 3\n",
       "4. 4\n",
       "5. 5\n",
       "6. 6\n",
       "7. 7\n",
       "8. 8\n",
       "9. 9\n",
       "10. 10\n",
       "\n",
       "\n"
      ],
      "text/plain": [
       " [1]  1  2  3  4  5  6  7  8  9 10"
      ]
     },
     "metadata": {},
     "output_type": "display_data"
    }
   ],
   "source": [
    "m <- 1:10                              # cria um vetor `m`\n",
    "m"
   ]
  },
  {
   "cell_type": "code",
   "execution_count": 199,
   "metadata": {
    "slideshow": {
     "slide_type": "subslide"
    }
   },
   "outputs": [],
   "source": [
    "dim(m) <- c(2, 5)                      # transforma vctor `m` em uma matriz de 2x5"
   ]
  },
  {
   "cell_type": "code",
   "execution_count": 200,
   "metadata": {
    "slideshow": {
     "slide_type": "subslide"
    }
   },
   "outputs": [
    {
     "data": {
      "text/html": [
       "<table>\n",
       "<caption>A matrix: 2 × 5 of type int</caption>\n",
       "<tbody>\n",
       "\t<tr><td>1</td><td>3</td><td>5</td><td>7</td><td> 9</td></tr>\n",
       "\t<tr><td>2</td><td>4</td><td>6</td><td>8</td><td>10</td></tr>\n",
       "</tbody>\n",
       "</table>\n"
      ],
      "text/latex": [
       "A matrix: 2 × 5 of type int\n",
       "\\begin{tabular}{lllll}\n",
       "\t 1 & 3 & 5 & 7 &  9\\\\\n",
       "\t 2 & 4 & 6 & 8 & 10\\\\\n",
       "\\end{tabular}\n"
      ],
      "text/markdown": [
       "\n",
       "A matrix: 2 × 5 of type int\n",
       "\n",
       "| 1 | 3 | 5 | 7 |  9 |\n",
       "| 2 | 4 | 6 | 8 | 10 |\n",
       "\n"
      ],
      "text/plain": [
       "     [,1] [,2] [,3] [,4] [,5]\n",
       "[1,] 1    3    5    7     9  \n",
       "[2,] 2    4    6    8    10  "
      ]
     },
     "metadata": {},
     "output_type": "display_data"
    }
   ],
   "source": [
    "m"
   ]
  },
  {
   "cell_type": "markdown",
   "metadata": {
    "slideshow": {
     "slide_type": "subslide"
    }
   },
   "source": [
    "Matrizes podem ser criadas por ligação de coluna ou ligação de linha com as funções cbind () e rbind ()."
   ]
  },
  {
   "cell_type": "code",
   "execution_count": 201,
   "metadata": {
    "slideshow": {
     "slide_type": "slide"
    }
   },
   "outputs": [],
   "source": [
    "x <- 1:3                               # cria um vetor `x`\n",
    "y <- 10:12                             # cria um vector `y`"
   ]
  },
  {
   "cell_type": "code",
   "execution_count": 73,
   "metadata": {
    "slideshow": {
     "slide_type": "slide"
    }
   },
   "outputs": [
    {
     "data": {
      "text/html": [
       "<table>\n",
       "<caption>A matrix: 3 × 2 of type int</caption>\n",
       "<thead>\n",
       "\t<tr><th scope=col>x</th><th scope=col>y</th></tr>\n",
       "</thead>\n",
       "<tbody>\n",
       "\t<tr><td>1</td><td>10</td></tr>\n",
       "\t<tr><td>2</td><td>11</td></tr>\n",
       "\t<tr><td>3</td><td>12</td></tr>\n",
       "</tbody>\n",
       "</table>\n"
      ],
      "text/latex": [
       "A matrix: 3 × 2 of type int\n",
       "\\begin{tabular}{ll}\n",
       " x & y\\\\\n",
       "\\hline\n",
       "\t 1 & 10\\\\\n",
       "\t 2 & 11\\\\\n",
       "\t 3 & 12\\\\\n",
       "\\end{tabular}\n"
      ],
      "text/markdown": [
       "\n",
       "A matrix: 3 × 2 of type int\n",
       "\n",
       "| x | y |\n",
       "|---|---|\n",
       "| 1 | 10 |\n",
       "| 2 | 11 |\n",
       "| 3 | 12 |\n",
       "\n"
      ],
      "text/plain": [
       "     x y \n",
       "[1,] 1 10\n",
       "[2,] 2 11\n",
       "[3,] 3 12"
      ]
     },
     "metadata": {},
     "output_type": "display_data"
    }
   ],
   "source": [
    "cbind(x, y)                            # combina vetor `x` e `y` por colunas"
   ]
  },
  {
   "cell_type": "code",
   "execution_count": 204,
   "metadata": {
    "slideshow": {
     "slide_type": "slide"
    }
   },
   "outputs": [
    {
     "data": {
      "text/html": [
       "<table>\n",
       "<caption>A matrix: 3 × 3 of type int</caption>\n",
       "<tbody>\n",
       "\t<tr><th scope=row>y</th><td>10</td><td>11</td><td>12</td></tr>\n",
       "\t<tr><th scope=row>x</th><td> 1</td><td> 2</td><td> 3</td></tr>\n",
       "\t<tr><th scope=row>y</th><td>10</td><td>11</td><td>12</td></tr>\n",
       "</tbody>\n",
       "</table>\n"
      ],
      "text/latex": [
       "A matrix: 3 × 3 of type int\n",
       "\\begin{tabular}{r|lll}\n",
       "\ty & 10 & 11 & 12\\\\\n",
       "\tx &  1 &  2 &  3\\\\\n",
       "\ty & 10 & 11 & 12\\\\\n",
       "\\end{tabular}\n"
      ],
      "text/markdown": [
       "\n",
       "A matrix: 3 × 3 of type int\n",
       "\n",
       "| y | 10 | 11 | 12 |\n",
       "| x |  1 |  2 |  3 |\n",
       "| y | 10 | 11 | 12 |\n",
       "\n"
      ],
      "text/plain": [
       "  [,1] [,2] [,3]\n",
       "y 10   11   12  \n",
       "x  1    2    3  \n",
       "y 10   11   12  "
      ]
     },
     "metadata": {},
     "output_type": "display_data"
    }
   ],
   "source": [
    "rbind(y, x,y)                            # combina vetor `x` e `y` por linha"
   ]
  },
  {
   "cell_type": "markdown",
   "metadata": {
    "slideshow": {
     "slide_type": "slide"
    }
   },
   "source": [
    "Listas\n",
    "---\n",
    "As listas são um tipo especial de vetor que pode conter elementos de diferentes classes. \n",
    "\n",
    "As listas são um tipo de dados muito importante em R e você deve conhecê-las bem. \n",
    "\n",
    "Listas, em combinação com as várias funções de “aplicar” discutidas posteriormente, formam uma combinação poderosa. As listas podem ser criadas explicitamente usando a função list (), que recebe um número arbitrário de argumentos.\n",
    "\n",
    "Em geral, você usa duas operações de indexação diferentes em listas:\n",
    "\n",
    "- Colchetes simples para retornar uma lista de elementos selecionados ([])\n",
    "- Colchetes duplos para retornar um único elemento ([[]])"
   ]
  },
  {
   "cell_type": "code",
   "execution_count": 207,
   "metadata": {
    "slideshow": {
     "slide_type": "slide"
    }
   },
   "outputs": [
    {
     "data": {
      "text/html": [
       "<ol>\n",
       "\t<li><style>\n",
       ".list-inline {list-style: none; margin:0; padding: 0}\n",
       ".list-inline>li {display: inline-block}\n",
       ".list-inline>li:not(:last-child)::after {content: \"\\00b7\"; padding: 0 .5ex}\n",
       "</style>\n",
       "<ol class=list-inline><li>1</li><li>2</li><li>3</li><li>4</li><li>5</li></ol>\n",
       "</li>\n",
       "\t<li><style>\n",
       ".list-inline {list-style: none; margin:0; padding: 0}\n",
       ".list-inline>li {display: inline-block}\n",
       ".list-inline>li:not(:last-child)::after {content: \"\\00b7\"; padding: 0 .5ex}\n",
       "</style>\n",
       "<ol class=list-inline><li>'a'</li><li>'b'</li><li>'c'</li></ol>\n",
       "</li>\n",
       "\t<li>TRUE</li>\n",
       "\t<li>7</li>\n",
       "\t<li>5</li>\n",
       "</ol>\n"
      ],
      "text/latex": [
       "\\begin{enumerate}\n",
       "\\item \\begin{enumerate*}\n",
       "\\item 1\n",
       "\\item 2\n",
       "\\item 3\n",
       "\\item 4\n",
       "\\item 5\n",
       "\\end{enumerate*}\n",
       "\n",
       "\\item \\begin{enumerate*}\n",
       "\\item 'a'\n",
       "\\item 'b'\n",
       "\\item 'c'\n",
       "\\end{enumerate*}\n",
       "\n",
       "\\item TRUE\n",
       "\\item 7\n",
       "\\item 5\n",
       "\\end{enumerate}\n"
      ],
      "text/markdown": [
       "1. 1. 1\n",
       "2. 2\n",
       "3. 3\n",
       "4. 4\n",
       "5. 5\n",
       "\n",
       "\n",
       "\n",
       "2. 1. 'a'\n",
       "2. 'b'\n",
       "3. 'c'\n",
       "\n",
       "\n",
       "\n",
       "3. TRUE\n",
       "4. 7\n",
       "5. 5\n",
       "\n",
       "\n"
      ],
      "text/plain": [
       "[[1]]\n",
       "[1] 1 2 3 4 5\n",
       "\n",
       "[[2]]\n",
       "[1] \"a\" \"b\" \"c\"\n",
       "\n",
       "[[3]]\n",
       "[1] TRUE\n",
       "\n",
       "[[4]]\n",
       "[1] 7\n",
       "\n",
       "[[5]]\n",
       "[1] 5\n"
      ]
     },
     "metadata": {},
     "output_type": "display_data"
    }
   ],
   "source": [
    "x <- list(1:5, c(\"a\", \"b\", \"c\"), TRUE, 7,5) # cria uma lista do vetor `x`\n",
    "x"
   ]
  },
  {
   "cell_type": "code",
   "execution_count": 213,
   "metadata": {
    "slideshow": {
     "slide_type": "slide"
    }
   },
   "outputs": [
    {
     "data": {
      "text/html": [
       "<ol>\n",
       "\t<li><style>\n",
       ".list-inline {list-style: none; margin:0; padding: 0}\n",
       ".list-inline>li {display: inline-block}\n",
       ".list-inline>li:not(:last-child)::after {content: \"\\00b7\"; padding: 0 .5ex}\n",
       "</style>\n",
       "<ol class=list-inline><li>1</li><li>2</li><li>3</li><li>4</li><li>5</li></ol>\n",
       "</li>\n",
       "</ol>\n"
      ],
      "text/latex": [
       "\\begin{enumerate}\n",
       "\\item \\begin{enumerate*}\n",
       "\\item 1\n",
       "\\item 2\n",
       "\\item 3\n",
       "\\item 4\n",
       "\\item 5\n",
       "\\end{enumerate*}\n",
       "\n",
       "\\end{enumerate}\n"
      ],
      "text/markdown": [
       "1. 1. 1\n",
       "2. 2\n",
       "3. 3\n",
       "4. 4\n",
       "5. 5\n",
       "\n",
       "\n",
       "\n",
       "\n",
       "\n"
      ],
      "text/plain": [
       "[[1]]\n",
       "[1] 1 2 3 4 5\n"
      ]
     },
     "metadata": {},
     "output_type": "display_data"
    }
   ],
   "source": [
    "x[1] # colchetes simples"
   ]
  },
  {
   "cell_type": "code",
   "execution_count": 216,
   "metadata": {
    "slideshow": {
     "slide_type": "slide"
    }
   },
   "outputs": [
    {
     "data": {
      "text/html": [
       "<style>\n",
       ".list-inline {list-style: none; margin:0; padding: 0}\n",
       ".list-inline>li {display: inline-block}\n",
       ".list-inline>li:not(:last-child)::after {content: \"\\00b7\"; padding: 0 .5ex}\n",
       "</style>\n",
       "<ol class=list-inline><li>1</li><li>2</li><li>3</li><li>4</li><li>5</li></ol>\n"
      ],
      "text/latex": [
       "\\begin{enumerate*}\n",
       "\\item 1\n",
       "\\item 2\n",
       "\\item 3\n",
       "\\item 4\n",
       "\\item 5\n",
       "\\end{enumerate*}\n"
      ],
      "text/markdown": [
       "1. 1\n",
       "2. 2\n",
       "3. 3\n",
       "4. 4\n",
       "5. 5\n",
       "\n",
       "\n"
      ],
      "text/plain": [
       "[1] 1 2 3 4 5"
      ]
     },
     "metadata": {},
     "output_type": "display_data"
    }
   ],
   "source": [
    "x[[1]] # colchetes duplos"
   ]
  },
  {
   "cell_type": "code",
   "execution_count": 217,
   "metadata": {
    "slideshow": {
     "slide_type": "slide"
    }
   },
   "outputs": [
    {
     "data": {
      "text/html": [
       "'list'"
      ],
      "text/latex": [
       "'list'"
      ],
      "text/markdown": [
       "'list'"
      ],
      "text/plain": [
       "[1] \"list\""
      ]
     },
     "metadata": {},
     "output_type": "display_data"
    }
   ],
   "source": [
    "typeof(x[2]) # verifique o tipo do objeto usando []"
   ]
  },
  {
   "cell_type": "code",
   "execution_count": 218,
   "metadata": {},
   "outputs": [
    {
     "data": {
      "text/html": [
       "'double'"
      ],
      "text/latex": [
       "'double'"
      ],
      "text/markdown": [
       "'double'"
      ],
      "text/plain": [
       "[1] \"double\""
      ]
     },
     "metadata": {},
     "output_type": "display_data"
    },
    {
     "data": {
      "text/html": [
       "7"
      ],
      "text/latex": [
       "7"
      ],
      "text/markdown": [
       "7"
      ],
      "text/plain": [
       "[1] 7"
      ]
     },
     "metadata": {},
     "output_type": "display_data"
    }
   ],
   "source": [
    "typeof(x[[4]]) # verifique o tipo do objeto usando [[]]\n",
    "x[[4]]"
   ]
  },
  {
   "cell_type": "code",
   "execution_count": 80,
   "metadata": {},
   "outputs": [
    {
     "data": {
      "text/html": [
       "<ol>\n",
       "\t<li><style>\n",
       ".list-inline {list-style: none; margin:0; padding: 0}\n",
       ".list-inline>li {display: inline-block}\n",
       ".list-inline>li:not(:last-child)::after {content: \"\\00b7\"; padding: 0 .5ex}\n",
       "</style>\n",
       "<ol class=list-inline><li>'a'</li><li>'b'</li><li>'c'</li></ol>\n",
       "</li>\n",
       "\t<li>TRUE</li>\n",
       "\t<li>7</li>\n",
       "</ol>\n"
      ],
      "text/latex": [
       "\\begin{enumerate}\n",
       "\\item \\begin{enumerate*}\n",
       "\\item 'a'\n",
       "\\item 'b'\n",
       "\\item 'c'\n",
       "\\end{enumerate*}\n",
       "\n",
       "\\item TRUE\n",
       "\\item 7\n",
       "\\end{enumerate}\n"
      ],
      "text/markdown": [
       "1. 1. 'a'\n",
       "2. 'b'\n",
       "3. 'c'\n",
       "\n",
       "\n",
       "\n",
       "2. TRUE\n",
       "3. 7\n",
       "\n",
       "\n"
      ],
      "text/plain": [
       "[[1]]\n",
       "[1] \"a\" \"b\" \"c\"\n",
       "\n",
       "[[2]]\n",
       "[1] TRUE\n",
       "\n",
       "[[3]]\n",
       "[1] 7\n"
      ]
     },
     "metadata": {},
     "output_type": "display_data"
    }
   ],
   "source": [
    "x[c(2,3,4)] # lista do primeiro e segundo vetores"
   ]
  },
  {
   "cell_type": "markdown",
   "metadata": {
    "slideshow": {
     "slide_type": "slide"
    }
   },
   "source": [
    "Também podemos criar uma lista substituindo um objeto vazio existente, como você pode ver no código a seguir:"
   ]
  },
  {
   "cell_type": "code",
   "execution_count": 219,
   "metadata": {
    "slideshow": {
     "slide_type": "slide"
    }
   },
   "outputs": [
    {
     "data": {
      "text/html": [
       "<ol>\n",
       "\t<li>NULL</li>\n",
       "\t<li>NULL</li>\n",
       "\t<li>NULL</li>\n",
       "</ol>\n"
      ],
      "text/latex": [
       "\\begin{enumerate}\n",
       "\\item NULL\n",
       "\\item NULL\n",
       "\\item NULL\n",
       "\\end{enumerate}\n"
      ],
      "text/markdown": [
       "1. NULL\n",
       "2. NULL\n",
       "3. NULL\n",
       "\n",
       "\n"
      ],
      "text/plain": [
       "[[1]]\n",
       "NULL\n",
       "\n",
       "[[2]]\n",
       "NULL\n",
       "\n",
       "[[3]]\n",
       "NULL\n"
      ]
     },
     "metadata": {},
     "output_type": "display_data"
    }
   ],
   "source": [
    "x <- vector(\"list\", length = 3) # cria uma lista vazia de um comprimento pré-especificado\n",
    "x"
   ]
  },
  {
   "cell_type": "code",
   "execution_count": 225,
   "metadata": {
    "slideshow": {
     "slide_type": "subslide"
    }
   },
   "outputs": [
    {
     "data": {
      "text/html": [
       "<ol>\n",
       "\t<li>10</li>\n",
       "\t<li>'segundo'</li>\n",
       "\t<li>TRUE</li>\n",
       "</ol>\n"
      ],
      "text/latex": [
       "\\begin{enumerate}\n",
       "\\item 10\n",
       "\\item 'segundo'\n",
       "\\item TRUE\n",
       "\\end{enumerate}\n"
      ],
      "text/markdown": [
       "1. 10\n",
       "2. 'segundo'\n",
       "3. TRUE\n",
       "\n",
       "\n"
      ],
      "text/plain": [
       "[[1]]\n",
       "[1] 10\n",
       "\n",
       "[[2]]\n",
       "[1] \"segundo\"\n",
       "\n",
       "[[3]]\n",
       "[1] TRUE\n"
      ]
     },
     "metadata": {},
     "output_type": "display_data"
    }
   ],
   "source": [
    "x[1]<- 10  # atribui o valor 10 ao primeiro elemnto da lista\n",
    "x"
   ]
  },
  {
   "cell_type": "code",
   "execution_count": 226,
   "metadata": {
    "slideshow": {
     "slide_type": "fragment"
    }
   },
   "outputs": [
    {
     "data": {
      "text/html": [
       "<ol>\n",
       "\t<li>10</li>\n",
       "\t<li>'segundo'</li>\n",
       "\t<li>TRUE</li>\n",
       "</ol>\n"
      ],
      "text/latex": [
       "\\begin{enumerate}\n",
       "\\item 10\n",
       "\\item 'segundo'\n",
       "\\item TRUE\n",
       "\\end{enumerate}\n"
      ],
      "text/markdown": [
       "1. 10\n",
       "2. 'segundo'\n",
       "3. TRUE\n",
       "\n",
       "\n"
      ],
      "text/plain": [
       "[[1]]\n",
       "[1] 10\n",
       "\n",
       "[[2]]\n",
       "[1] \"segundo\"\n",
       "\n",
       "[[3]]\n",
       "[1] TRUE\n"
      ]
     },
     "metadata": {},
     "output_type": "display_data"
    }
   ],
   "source": [
    "x[2]<- 'segundo'  # atribui o valor 'segundo' ao segundo elemnto da lista\n",
    "x"
   ]
  },
  {
   "cell_type": "code",
   "execution_count": 227,
   "metadata": {
    "slideshow": {
     "slide_type": "fragment"
    }
   },
   "outputs": [
    {
     "data": {
      "text/html": [
       "<ol>\n",
       "\t<li>10</li>\n",
       "\t<li>'segundo'</li>\n",
       "\t<li>TRUE</li>\n",
       "</ol>\n"
      ],
      "text/latex": [
       "\\begin{enumerate}\n",
       "\\item 10\n",
       "\\item 'segundo'\n",
       "\\item TRUE\n",
       "\\end{enumerate}\n"
      ],
      "text/markdown": [
       "1. 10\n",
       "2. 'segundo'\n",
       "3. TRUE\n",
       "\n",
       "\n"
      ],
      "text/plain": [
       "[[1]]\n",
       "[1] 10\n",
       "\n",
       "[[2]]\n",
       "[1] \"segundo\"\n",
       "\n",
       "[[3]]\n",
       "[1] TRUE\n"
      ]
     },
     "metadata": {},
     "output_type": "display_data"
    }
   ],
   "source": [
    "x[3]<- TRUE   # atribui o valor TRUE ao terceiro elemento da lista\n",
    "x"
   ]
  },
  {
   "cell_type": "code",
   "execution_count": 228,
   "metadata": {
    "slideshow": {
     "slide_type": "slide"
    }
   },
   "outputs": [],
   "source": [
    "nome <- c (\"a\", \"b\", \"c\", \"d\") # cria um objeto como uma variável `nome`"
   ]
  },
  {
   "cell_type": "code",
   "execution_count": 229,
   "metadata": {
    "slideshow": {
     "slide_type": "slide"
    }
   },
   "outputs": [],
   "source": [
    "idade <- c (18, 19, 20, 21) # cria um objeto como uma variável `idade`\n"
   ]
  },
  {
   "cell_type": "code",
   "execution_count": 230,
   "metadata": {
    "slideshow": {
     "slide_type": "slide"
    }
   },
   "outputs": [],
   "source": [
    "gênero <- c (1, 0, 0, 1) # cria um objeto como uma variável `gênero`\n"
   ]
  },
  {
   "cell_type": "code",
   "execution_count": 231,
   "metadata": {
    "slideshow": {
     "slide_type": "slide"
    }
   },
   "outputs": [],
   "source": [
    "x [[1]] <- nome # adiciona / substitui objeto à lista `x`\n"
   ]
  },
  {
   "cell_type": "code",
   "execution_count": 232,
   "metadata": {
    "slideshow": {
     "slide_type": "slide"
    }
   },
   "outputs": [],
   "source": [
    "x [[2]] <- idade # adiciona / substitui objeto à lista `x`\n"
   ]
  },
  {
   "cell_type": "code",
   "execution_count": 233,
   "metadata": {
    "slideshow": {
     "slide_type": "slide"
    }
   },
   "outputs": [],
   "source": [
    "x [[3]] <- genero # adiciona / substitui objeto à lista `x`\n"
   ]
  },
  {
   "cell_type": "code",
   "execution_count": 234,
   "metadata": {
    "slideshow": {
     "slide_type": "slide"
    }
   },
   "outputs": [
    {
     "data": {
      "text/html": [
       "<ol>\n",
       "\t<li><style>\n",
       ".list-inline {list-style: none; margin:0; padding: 0}\n",
       ".list-inline>li {display: inline-block}\n",
       ".list-inline>li:not(:last-child)::after {content: \"\\00b7\"; padding: 0 .5ex}\n",
       "</style>\n",
       "<ol class=list-inline><li>'a'</li><li>'b'</li><li>'c'</li><li>'d'</li></ol>\n",
       "</li>\n",
       "\t<li><style>\n",
       ".list-inline {list-style: none; margin:0; padding: 0}\n",
       ".list-inline>li {display: inline-block}\n",
       ".list-inline>li:not(:last-child)::after {content: \"\\00b7\"; padding: 0 .5ex}\n",
       "</style>\n",
       "<ol class=list-inline><li>18</li><li>19</li><li>20</li><li>21</li></ol>\n",
       "</li>\n",
       "\t<li><style>\n",
       ".list-inline {list-style: none; margin:0; padding: 0}\n",
       ".list-inline>li {display: inline-block}\n",
       ".list-inline>li:not(:last-child)::after {content: \"\\00b7\"; padding: 0 .5ex}\n",
       "</style>\n",
       "<ol class=list-inline><li>1</li><li>0</li><li>1</li><li>1</li><li>0</li><li>1</li></ol>\n",
       "</li>\n",
       "</ol>\n"
      ],
      "text/latex": [
       "\\begin{enumerate}\n",
       "\\item \\begin{enumerate*}\n",
       "\\item 'a'\n",
       "\\item 'b'\n",
       "\\item 'c'\n",
       "\\item 'd'\n",
       "\\end{enumerate*}\n",
       "\n",
       "\\item \\begin{enumerate*}\n",
       "\\item 18\n",
       "\\item 19\n",
       "\\item 20\n",
       "\\item 21\n",
       "\\end{enumerate*}\n",
       "\n",
       "\\item \\begin{enumerate*}\n",
       "\\item 1\n",
       "\\item 0\n",
       "\\item 1\n",
       "\\item 1\n",
       "\\item 0\n",
       "\\item 1\n",
       "\\end{enumerate*}\n",
       "\n",
       "\\end{enumerate}\n"
      ],
      "text/markdown": [
       "1. 1. 'a'\n",
       "2. 'b'\n",
       "3. 'c'\n",
       "4. 'd'\n",
       "\n",
       "\n",
       "\n",
       "2. 1. 18\n",
       "2. 19\n",
       "3. 20\n",
       "4. 21\n",
       "\n",
       "\n",
       "\n",
       "3. 1. 1\n",
       "2. 0\n",
       "3. 1\n",
       "4. 1\n",
       "5. 0\n",
       "6. 1\n",
       "\n",
       "\n",
       "\n",
       "\n",
       "\n"
      ],
      "text/plain": [
       "[[1]]\n",
       "[1] \"a\" \"b\" \"c\" \"d\"\n",
       "\n",
       "[[2]]\n",
       "[1] 18 19 20 21\n",
       "\n",
       "[[3]]\n",
       "[1] 1 0 1 1 0 1\n"
      ]
     },
     "metadata": {},
     "output_type": "display_data"
    }
   ],
   "source": [
    "x # imprimir o resultado final"
   ]
  },
  {
   "cell_type": "markdown",
   "metadata": {
    "slideshow": {
     "slide_type": "slide"
    }
   },
   "source": [
    "Fatores (Factors)\n",
    "---\n",
    "Os fatores são usados para representar dados categóricos e podem ser desordenados ou ordenados. \n",
    "\n",
    "Pode-se pensar em um fator como um vetor de inteiros em que cada inteiro tem um rótulo. \n",
    "\n",
    "Fatores são importantes na modelagem estatística e são tratados especialmente por funções de modelagem como `lm()` e `glm ()`.\n",
    "\n",
    "Usar fatores com rótulos é melhor do que usar números inteiros porque os fatores são autodescritivos. \n",
    "\n",
    "Ter uma variável com os valores “Masculino” e “Feminino” é melhor do que uma variável com os valores 1 e 2. \n",
    "\n",
    "Objetos fatoriais podem ser criados com a função `factor()`."
   ]
  },
  {
   "cell_type": "code",
   "execution_count": 241,
   "metadata": {
    "slideshow": {
     "slide_type": "slide"
    }
   },
   "outputs": [
    {
     "data": {
      "text/html": [
       "<style>\n",
       ".list-inline {list-style: none; margin:0; padding: 0}\n",
       ".list-inline>li {display: inline-block}\n",
       ".list-inline>li:not(:last-child)::after {content: \"\\00b7\"; padding: 0 .5ex}\n",
       "</style>\n",
       "<ol class=list-inline><li>yes</li><li>no</li><li>yes</li><li>no</li></ol>\n",
       "\n",
       "<details>\n",
       "\t<summary style=display:list-item;cursor:pointer>\n",
       "\t\t<strong>Levels</strong>:\n",
       "\t</summary>\n",
       "\t<style>\n",
       "\t.list-inline {list-style: none; margin:0; padding: 0}\n",
       "\t.list-inline>li {display: inline-block}\n",
       "\t.list-inline>li:not(:last-child)::after {content: \"\\00b7\"; padding: 0 .5ex}\n",
       "\t</style>\n",
       "\t<ol class=list-inline><li>'no'</li><li>'yes'</li></ol>\n",
       "</details>"
      ],
      "text/latex": [
       "\\begin{enumerate*}\n",
       "\\item yes\n",
       "\\item no\n",
       "\\item yes\n",
       "\\item no\n",
       "\\end{enumerate*}\n",
       "\n",
       "\\emph{Levels}: \\begin{enumerate*}\n",
       "\\item 'no'\n",
       "\\item 'yes'\n",
       "\\end{enumerate*}\n"
      ],
      "text/markdown": [
       "1. yes\n",
       "2. no\n",
       "3. yes\n",
       "4. no\n",
       "\n",
       "\n",
       "\n",
       "**Levels**: 1. 'no'\n",
       "2. 'yes'\n",
       "\n",
       "\n"
      ],
      "text/plain": [
       "[1] yes no  yes no \n",
       "Levels: no yes"
      ]
     },
     "metadata": {},
     "output_type": "display_data"
    }
   ],
   "source": [
    "x <- factor(c(\"yes\",\"no\",\"yes\",\"no\"))  # cria objetos factor\n",
    "x"
   ]
  },
  {
   "cell_type": "code",
   "execution_count": 242,
   "metadata": {
    "slideshow": {
     "slide_type": "slide"
    }
   },
   "outputs": [
    {
     "data": {
      "text/plain": [
       "x\n",
       " no yes \n",
       "  2   2 "
      ]
     },
     "metadata": {},
     "output_type": "display_data"
    }
   ],
   "source": [
    "table(x)                               # tabela of `x`"
   ]
  },
  {
   "cell_type": "code",
   "execution_count": 244,
   "metadata": {
    "slideshow": {
     "slide_type": "slide"
    }
   },
   "outputs": [
    {
     "data": {
      "text/html": [
       "<style>\n",
       ".list-inline {list-style: none; margin:0; padding: 0}\n",
       ".list-inline>li {display: inline-block}\n",
       ".list-inline>li:not(:last-child)::after {content: \"\\00b7\"; padding: 0 .5ex}\n",
       "</style>\n",
       "<ol class=list-inline><li>2</li><li>1</li><li>2</li><li>1</li></ol>\n"
      ],
      "text/latex": [
       "\\begin{enumerate*}\n",
       "\\item 2\n",
       "\\item 1\n",
       "\\item 2\n",
       "\\item 1\n",
       "\\end{enumerate*}\n"
      ],
      "text/markdown": [
       "1. 2\n",
       "2. 1\n",
       "3. 2\n",
       "4. 1\n",
       "\n",
       "\n"
      ],
      "text/plain": [
       "[1] 2 1 2 1\n",
       "attr(,\"levels\")\n",
       "[1] \"no\"  \"yes\""
      ]
     },
     "metadata": {},
     "output_type": "display_data"
    }
   ],
   "source": [
    "unclass(x)                             # veja a representação subjacente do fat"
   ]
  },
  {
   "cell_type": "code",
   "execution_count": 245,
   "metadata": {
    "slideshow": {
     "slide_type": "slide"
    }
   },
   "outputs": [
    {
     "data": {
      "text/html": [
       "<style>\n",
       ".list-inline {list-style: none; margin:0; padding: 0}\n",
       ".list-inline>li {display: inline-block}\n",
       ".list-inline>li:not(:last-child)::after {content: \"\\00b7\"; padding: 0 .5ex}\n",
       "</style>\n",
       "<ol class=list-inline><li>'no'</li><li>'yes'</li></ol>\n"
      ],
      "text/latex": [
       "\\begin{enumerate*}\n",
       "\\item 'no'\n",
       "\\item 'yes'\n",
       "\\end{enumerate*}\n"
      ],
      "text/markdown": [
       "1. 'no'\n",
       "2. 'yes'\n",
       "\n",
       "\n"
      ],
      "text/plain": [
       "[1] \"no\"  \"yes\""
      ]
     },
     "metadata": {},
     "output_type": "display_data"
    }
   ],
   "source": [
    "attr(x,\"levels\")                       # veja a representação subjacente do fator"
   ]
  },
  {
   "cell_type": "markdown",
   "metadata": {
    "slideshow": {
     "slide_type": "slide"
    }
   },
   "source": [
    "Data Frames (Frames de dados)\n",
    "---\n",
    "Um Data Frame é uma tabela ou uma estrutura semelhante a uma matriz bidimensional em que cada coluna contém valores de uma variável e cada linha contém um conjunto de valores de cada coluna.\n",
    "\n",
    "A seguir estão as características de um Data Frame.\n",
    "\n",
    "- Os nomes das colunas não devem estar vazios.\n",
    "- Os nomes das linhas devem ser exclusivos.\n",
    "- Os dados armazenados em um quadro de dados podem ser numéricos, fator ou tipo de caractere.\n",
    "- Cada coluna deve conter o mesmo número de itens de dados."
   ]
  },
  {
   "cell_type": "code",
   "execution_count": 247,
   "metadata": {
    "slideshow": {
     "slide_type": "slide"
    }
   },
   "outputs": [
    {
     "data": {
      "text/html": [
       "<table>\n",
       "<caption>A data.frame: 5 × 5</caption>\n",
       "<thead>\n",
       "\t<tr><th scope=col>id</th><th scope=col>name</th><th scope=col>salary</th><th scope=col>start_date</th><th scope=col>dept</th></tr>\n",
       "\t<tr><th scope=col>&lt;int&gt;</th><th scope=col>&lt;chr&gt;</th><th scope=col>&lt;dbl&gt;</th><th scope=col>&lt;date&gt;</th><th scope=col>&lt;chr&gt;</th></tr>\n",
       "</thead>\n",
       "<tbody>\n",
       "\t<tr><td>1</td><td>Julian </td><td>623.30</td><td>2022-01-01</td><td>DS</td></tr>\n",
       "\t<tr><td>2</td><td>Vanessa</td><td>515.20</td><td>2022-09-23</td><td>DS</td></tr>\n",
       "\t<tr><td>3</td><td>Jeffry </td><td>611.00</td><td>2022-11-15</td><td>BA</td></tr>\n",
       "\t<tr><td>4</td><td>Angel  </td><td>729.00</td><td>2022-05-11</td><td>DA</td></tr>\n",
       "\t<tr><td>5</td><td>Nikki  </td><td>843.25</td><td>2022-03-27</td><td>DS</td></tr>\n",
       "</tbody>\n",
       "</table>\n"
      ],
      "text/latex": [
       "A data.frame: 5 × 5\n",
       "\\begin{tabular}{lllll}\n",
       " id & name & salary & start\\_date & dept\\\\\n",
       " <int> & <chr> & <dbl> & <date> & <chr>\\\\\n",
       "\\hline\n",
       "\t 1 & Julian  & 623.30 & 2022-01-01 & DS\\\\\n",
       "\t 2 & Vanessa & 515.20 & 2022-09-23 & DS\\\\\n",
       "\t 3 & Jeffry  & 611.00 & 2022-11-15 & BA\\\\\n",
       "\t 4 & Angel   & 729.00 & 2022-05-11 & DA\\\\\n",
       "\t 5 & Nikki   & 843.25 & 2022-03-27 & DS\\\\\n",
       "\\end{tabular}\n"
      ],
      "text/markdown": [
       "\n",
       "A data.frame: 5 × 5\n",
       "\n",
       "| id &lt;int&gt; | name &lt;chr&gt; | salary &lt;dbl&gt; | start_date &lt;date&gt; | dept &lt;chr&gt; |\n",
       "|---|---|---|---|---|\n",
       "| 1 | Julian  | 623.30 | 2022-01-01 | DS |\n",
       "| 2 | Vanessa | 515.20 | 2022-09-23 | DS |\n",
       "| 3 | Jeffry  | 611.00 | 2022-11-15 | BA |\n",
       "| 4 | Angel   | 729.00 | 2022-05-11 | DA |\n",
       "| 5 | Nikki   | 843.25 | 2022-03-27 | DS |\n",
       "\n"
      ],
      "text/plain": [
       "  id name    salary start_date dept\n",
       "1 1  Julian  623.30 2022-01-01 DS  \n",
       "2 2  Vanessa 515.20 2022-09-23 DS  \n",
       "3 3  Jeffry  611.00 2022-11-15 BA  \n",
       "4 4  Angel   729.00 2022-05-11 DA  \n",
       "5 5  Nikki   843.25 2022-03-27 DS  "
      ]
     },
     "metadata": {},
     "output_type": "display_data"
    }
   ],
   "source": [
    "# Criação do primeiro data frame.\n",
    "df1 <- data.frame(id = c (1:5), \n",
    "                name = c(\"Julian\",\"Vanessa\",\"Jeffry\",\"Angel\",\"Nikki\"),\n",
    "              salary = c(623.3,515.2,611.0,729.0,843.25), \n",
    "          start_date = as.Date(c(\"2022-01-01\", \"2022-09-23\", \"2022-11-15\",\n",
    "                                 \"2022-05-11\", \"2022-03-27\")),\n",
    "                dept = c(\"DS\",\"DS\",\"BA\",\"DA\",\"DS\"), stringsAsFactors = F)\n",
    "df1"
   ]
  },
  {
   "cell_type": "code",
   "execution_count": 248,
   "metadata": {
    "slideshow": {
     "slide_type": "slide"
    }
   },
   "outputs": [
    {
     "data": {
      "text/html": [
       "<table>\n",
       "<caption>A data.frame: 5 × 5</caption>\n",
       "<thead>\n",
       "\t<tr><th scope=col>id</th><th scope=col>name</th><th scope=col>salary</th><th scope=col>start_date</th><th scope=col>dept</th></tr>\n",
       "\t<tr><th scope=col>&lt;int&gt;</th><th scope=col>&lt;chr&gt;</th><th scope=col>&lt;dbl&gt;</th><th scope=col>&lt;date&gt;</th><th scope=col>&lt;chr&gt;</th></tr>\n",
       "</thead>\n",
       "<tbody>\n",
       "\t<tr><td> 6</td><td>Ardifo</td><td>578.0</td><td>2022-05-21</td><td>Actuaries</td></tr>\n",
       "\t<tr><td> 7</td><td>Irene </td><td>722.5</td><td>2022-07-30</td><td>Actuaries</td></tr>\n",
       "\t<tr><td> 8</td><td>Kefas </td><td>632.8</td><td>2022-06-17</td><td>CA       </td></tr>\n",
       "\t<tr><td> 9</td><td>Sherly</td><td>632.8</td><td>2022-07-30</td><td>DE       </td></tr>\n",
       "\t<tr><td>10</td><td>Bakti </td><td>   NA</td><td>2018-09-03</td><td>Lecturer </td></tr>\n",
       "</tbody>\n",
       "</table>\n"
      ],
      "text/latex": [
       "A data.frame: 5 × 5\n",
       "\\begin{tabular}{lllll}\n",
       " id & name & salary & start\\_date & dept\\\\\n",
       " <int> & <chr> & <dbl> & <date> & <chr>\\\\\n",
       "\\hline\n",
       "\t  6 & Ardifo & 578.0 & 2022-05-21 & Actuaries\\\\\n",
       "\t  7 & Irene  & 722.5 & 2022-07-30 & Actuaries\\\\\n",
       "\t  8 & Kefas  & 632.8 & 2022-06-17 & CA       \\\\\n",
       "\t  9 & Sherly & 632.8 & 2022-07-30 & DE       \\\\\n",
       "\t 10 & Bakti  &    NA & 2018-09-03 & Lecturer \\\\\n",
       "\\end{tabular}\n"
      ],
      "text/markdown": [
       "\n",
       "A data.frame: 5 × 5\n",
       "\n",
       "| id &lt;int&gt; | name &lt;chr&gt; | salary &lt;dbl&gt; | start_date &lt;date&gt; | dept &lt;chr&gt; |\n",
       "|---|---|---|---|---|\n",
       "|  6 | Ardifo | 578.0 | 2022-05-21 | Actuaries |\n",
       "|  7 | Irene  | 722.5 | 2022-07-30 | Actuaries |\n",
       "|  8 | Kefas  | 632.8 | 2022-06-17 | CA        |\n",
       "|  9 | Sherly | 632.8 | 2022-07-30 | DE        |\n",
       "| 10 | Bakti  |    NA | 2018-09-03 | Lecturer  |\n",
       "\n"
      ],
      "text/plain": [
       "  id name   salary start_date dept     \n",
       "1  6 Ardifo 578.0  2022-05-21 Actuaries\n",
       "2  7 Irene  722.5  2022-07-30 Actuaries\n",
       "3  8 Kefas  632.8  2022-06-17 CA       \n",
       "4  9 Sherly 632.8  2022-07-30 DE       \n",
       "5 10 Bakti     NA  2018-09-03 Lecturer "
      ]
     },
     "metadata": {},
     "output_type": "display_data"
    }
   ],
   "source": [
    "# Criação do segundo data frame.\n",
    "df2 <-data.frame(id = c (6:10), \n",
    "               name = c(\"Ardifo\",\"Irene\",\"Kefas\",\"Sherly\",\"Bakti\"),\n",
    "             salary = c(578.0,722.5,632.8,632.8,NA), \n",
    "         start_date = as.Date(c(\"2022-05-21\",\"2022-07-30\",\"2022-06-17\",\n",
    "                                \"2022-07-30\",\"2018-09-03\")),\n",
    "               dept = c(\"Actuaries\",\"Actuaries\",\"CA\",\"DE\",\"Lecturer\"),stringsAsFactors = F)\n",
    "df2"
   ]
  },
  {
   "cell_type": "code",
   "execution_count": 249,
   "metadata": {
    "slideshow": {
     "slide_type": "slide"
    }
   },
   "outputs": [
    {
     "data": {
      "text/html": [
       "<table>\n",
       "<caption>A data.frame: 10 × 5</caption>\n",
       "<thead>\n",
       "\t<tr><th scope=col>id</th><th scope=col>name</th><th scope=col>salary</th><th scope=col>start_date</th><th scope=col>dept</th></tr>\n",
       "\t<tr><th scope=col>&lt;int&gt;</th><th scope=col>&lt;chr&gt;</th><th scope=col>&lt;dbl&gt;</th><th scope=col>&lt;date&gt;</th><th scope=col>&lt;chr&gt;</th></tr>\n",
       "</thead>\n",
       "<tbody>\n",
       "\t<tr><td> 1</td><td>Julian </td><td>623.30</td><td>2022-01-01</td><td>DS       </td></tr>\n",
       "\t<tr><td> 2</td><td>Vanessa</td><td>515.20</td><td>2022-09-23</td><td>DS       </td></tr>\n",
       "\t<tr><td> 3</td><td>Jeffry </td><td>611.00</td><td>2022-11-15</td><td>BA       </td></tr>\n",
       "\t<tr><td> 4</td><td>Angel  </td><td>729.00</td><td>2022-05-11</td><td>DA       </td></tr>\n",
       "\t<tr><td> 5</td><td>Nikki  </td><td>843.25</td><td>2022-03-27</td><td>DS       </td></tr>\n",
       "\t<tr><td> 6</td><td>Ardifo </td><td>578.00</td><td>2022-05-21</td><td>Actuaries</td></tr>\n",
       "\t<tr><td> 7</td><td>Irene  </td><td>722.50</td><td>2022-07-30</td><td>Actuaries</td></tr>\n",
       "\t<tr><td> 8</td><td>Kefas  </td><td>632.80</td><td>2022-06-17</td><td>CA       </td></tr>\n",
       "\t<tr><td> 9</td><td>Sherly </td><td>632.80</td><td>2022-07-30</td><td>DE       </td></tr>\n",
       "\t<tr><td>10</td><td>Bakti  </td><td>    NA</td><td>2018-09-03</td><td>Lecturer </td></tr>\n",
       "</tbody>\n",
       "</table>\n"
      ],
      "text/latex": [
       "A data.frame: 10 × 5\n",
       "\\begin{tabular}{lllll}\n",
       " id & name & salary & start\\_date & dept\\\\\n",
       " <int> & <chr> & <dbl> & <date> & <chr>\\\\\n",
       "\\hline\n",
       "\t  1 & Julian  & 623.30 & 2022-01-01 & DS       \\\\\n",
       "\t  2 & Vanessa & 515.20 & 2022-09-23 & DS       \\\\\n",
       "\t  3 & Jeffry  & 611.00 & 2022-11-15 & BA       \\\\\n",
       "\t  4 & Angel   & 729.00 & 2022-05-11 & DA       \\\\\n",
       "\t  5 & Nikki   & 843.25 & 2022-03-27 & DS       \\\\\n",
       "\t  6 & Ardifo  & 578.00 & 2022-05-21 & Actuaries\\\\\n",
       "\t  7 & Irene   & 722.50 & 2022-07-30 & Actuaries\\\\\n",
       "\t  8 & Kefas   & 632.80 & 2022-06-17 & CA       \\\\\n",
       "\t  9 & Sherly  & 632.80 & 2022-07-30 & DE       \\\\\n",
       "\t 10 & Bakti   &     NA & 2018-09-03 & Lecturer \\\\\n",
       "\\end{tabular}\n"
      ],
      "text/markdown": [
       "\n",
       "A data.frame: 10 × 5\n",
       "\n",
       "| id &lt;int&gt; | name &lt;chr&gt; | salary &lt;dbl&gt; | start_date &lt;date&gt; | dept &lt;chr&gt; |\n",
       "|---|---|---|---|---|\n",
       "|  1 | Julian  | 623.30 | 2022-01-01 | DS        |\n",
       "|  2 | Vanessa | 515.20 | 2022-09-23 | DS        |\n",
       "|  3 | Jeffry  | 611.00 | 2022-11-15 | BA        |\n",
       "|  4 | Angel   | 729.00 | 2022-05-11 | DA        |\n",
       "|  5 | Nikki   | 843.25 | 2022-03-27 | DS        |\n",
       "|  6 | Ardifo  | 578.00 | 2022-05-21 | Actuaries |\n",
       "|  7 | Irene   | 722.50 | 2022-07-30 | Actuaries |\n",
       "|  8 | Kefas   | 632.80 | 2022-06-17 | CA        |\n",
       "|  9 | Sherly  | 632.80 | 2022-07-30 | DE        |\n",
       "| 10 | Bakti   |     NA | 2018-09-03 | Lecturer  |\n",
       "\n"
      ],
      "text/plain": [
       "   id name    salary start_date dept     \n",
       "1   1 Julian  623.30 2022-01-01 DS       \n",
       "2   2 Vanessa 515.20 2022-09-23 DS       \n",
       "3   3 Jeffry  611.00 2022-11-15 BA       \n",
       "4   4 Angel   729.00 2022-05-11 DA       \n",
       "5   5 Nikki   843.25 2022-03-27 DS       \n",
       "6   6 Ardifo  578.00 2022-05-21 Actuaries\n",
       "7   7 Irene   722.50 2022-07-30 Actuaries\n",
       "8   8 Kefas   632.80 2022-06-17 CA       \n",
       "9   9 Sherly  632.80 2022-07-30 DE       \n",
       "10 10 Bakti       NA 2018-09-03 Lecturer "
      ]
     },
     "metadata": {},
     "output_type": "display_data"
    }
   ],
   "source": [
    "df3 <- rbind(df1,df2)                  # Combinando os dois data frames\n",
    "df3"
   ]
  },
  {
   "cell_type": "code",
   "execution_count": 250,
   "metadata": {
    "slideshow": {
     "slide_type": "slide"
    }
   },
   "outputs": [
    {
     "data": {
      "text/html": [
       "<table>\n",
       "<caption>A data.frame: 6 × 5</caption>\n",
       "<thead>\n",
       "\t<tr><th></th><th scope=col>id</th><th scope=col>name</th><th scope=col>salary</th><th scope=col>start_date</th><th scope=col>dept</th></tr>\n",
       "\t<tr><th></th><th scope=col>&lt;int&gt;</th><th scope=col>&lt;chr&gt;</th><th scope=col>&lt;dbl&gt;</th><th scope=col>&lt;date&gt;</th><th scope=col>&lt;chr&gt;</th></tr>\n",
       "</thead>\n",
       "<tbody>\n",
       "\t<tr><th scope=row>1</th><td>1</td><td>Julian </td><td>623.30</td><td>2022-01-01</td><td>DS       </td></tr>\n",
       "\t<tr><th scope=row>2</th><td>2</td><td>Vanessa</td><td>515.20</td><td>2022-09-23</td><td>DS       </td></tr>\n",
       "\t<tr><th scope=row>3</th><td>3</td><td>Jeffry </td><td>611.00</td><td>2022-11-15</td><td>BA       </td></tr>\n",
       "\t<tr><th scope=row>4</th><td>4</td><td>Angel  </td><td>729.00</td><td>2022-05-11</td><td>DA       </td></tr>\n",
       "\t<tr><th scope=row>5</th><td>5</td><td>Nikki  </td><td>843.25</td><td>2022-03-27</td><td>DS       </td></tr>\n",
       "\t<tr><th scope=row>6</th><td>6</td><td>Ardifo </td><td>578.00</td><td>2022-05-21</td><td>Actuaries</td></tr>\n",
       "</tbody>\n",
       "</table>\n"
      ],
      "text/latex": [
       "A data.frame: 6 × 5\n",
       "\\begin{tabular}{r|lllll}\n",
       "  & id & name & salary & start\\_date & dept\\\\\n",
       "  & <int> & <chr> & <dbl> & <date> & <chr>\\\\\n",
       "\\hline\n",
       "\t1 & 1 & Julian  & 623.30 & 2022-01-01 & DS       \\\\\n",
       "\t2 & 2 & Vanessa & 515.20 & 2022-09-23 & DS       \\\\\n",
       "\t3 & 3 & Jeffry  & 611.00 & 2022-11-15 & BA       \\\\\n",
       "\t4 & 4 & Angel   & 729.00 & 2022-05-11 & DA       \\\\\n",
       "\t5 & 5 & Nikki   & 843.25 & 2022-03-27 & DS       \\\\\n",
       "\t6 & 6 & Ardifo  & 578.00 & 2022-05-21 & Actuaries\\\\\n",
       "\\end{tabular}\n"
      ],
      "text/markdown": [
       "\n",
       "A data.frame: 6 × 5\n",
       "\n",
       "| <!--/--> | id &lt;int&gt; | name &lt;chr&gt; | salary &lt;dbl&gt; | start_date &lt;date&gt; | dept &lt;chr&gt; |\n",
       "|---|---|---|---|---|---|\n",
       "| 1 | 1 | Julian  | 623.30 | 2022-01-01 | DS        |\n",
       "| 2 | 2 | Vanessa | 515.20 | 2022-09-23 | DS        |\n",
       "| 3 | 3 | Jeffry  | 611.00 | 2022-11-15 | BA        |\n",
       "| 4 | 4 | Angel   | 729.00 | 2022-05-11 | DA        |\n",
       "| 5 | 5 | Nikki   | 843.25 | 2022-03-27 | DS        |\n",
       "| 6 | 6 | Ardifo  | 578.00 | 2022-05-21 | Actuaries |\n",
       "\n"
      ],
      "text/plain": [
       "  id name    salary start_date dept     \n",
       "1 1  Julian  623.30 2022-01-01 DS       \n",
       "2 2  Vanessa 515.20 2022-09-23 DS       \n",
       "3 3  Jeffry  611.00 2022-11-15 BA       \n",
       "4 4  Angel   729.00 2022-05-11 DA       \n",
       "5 5  Nikki   843.25 2022-03-27 DS       \n",
       "6 6  Ardifo  578.00 2022-05-21 Actuaries"
      ]
     },
     "metadata": {},
     "output_type": "display_data"
    }
   ],
   "source": [
    "head(df3)                              # print as prieiras seis linhas"
   ]
  },
  {
   "cell_type": "code",
   "execution_count": 251,
   "metadata": {
    "slideshow": {
     "slide_type": "slide"
    }
   },
   "outputs": [
    {
     "data": {
      "text/html": [
       "<table>\n",
       "<caption>A data.frame: 4 × 5</caption>\n",
       "<thead>\n",
       "\t<tr><th></th><th scope=col>id</th><th scope=col>name</th><th scope=col>salary</th><th scope=col>start_date</th><th scope=col>dept</th></tr>\n",
       "\t<tr><th></th><th scope=col>&lt;int&gt;</th><th scope=col>&lt;chr&gt;</th><th scope=col>&lt;dbl&gt;</th><th scope=col>&lt;date&gt;</th><th scope=col>&lt;chr&gt;</th></tr>\n",
       "</thead>\n",
       "<tbody>\n",
       "\t<tr><th scope=row>1</th><td>1</td><td>Julian </td><td>623.3</td><td>2022-01-01</td><td>DS</td></tr>\n",
       "\t<tr><th scope=row>2</th><td>2</td><td>Vanessa</td><td>515.2</td><td>2022-09-23</td><td>DS</td></tr>\n",
       "\t<tr><th scope=row>3</th><td>3</td><td>Jeffry </td><td>611.0</td><td>2022-11-15</td><td>BA</td></tr>\n",
       "\t<tr><th scope=row>4</th><td>4</td><td>Angel  </td><td>729.0</td><td>2022-05-11</td><td>DA</td></tr>\n",
       "</tbody>\n",
       "</table>\n"
      ],
      "text/latex": [
       "A data.frame: 4 × 5\n",
       "\\begin{tabular}{r|lllll}\n",
       "  & id & name & salary & start\\_date & dept\\\\\n",
       "  & <int> & <chr> & <dbl> & <date> & <chr>\\\\\n",
       "\\hline\n",
       "\t1 & 1 & Julian  & 623.3 & 2022-01-01 & DS\\\\\n",
       "\t2 & 2 & Vanessa & 515.2 & 2022-09-23 & DS\\\\\n",
       "\t3 & 3 & Jeffry  & 611.0 & 2022-11-15 & BA\\\\\n",
       "\t4 & 4 & Angel   & 729.0 & 2022-05-11 & DA\\\\\n",
       "\\end{tabular}\n"
      ],
      "text/markdown": [
       "\n",
       "A data.frame: 4 × 5\n",
       "\n",
       "| <!--/--> | id &lt;int&gt; | name &lt;chr&gt; | salary &lt;dbl&gt; | start_date &lt;date&gt; | dept &lt;chr&gt; |\n",
       "|---|---|---|---|---|---|\n",
       "| 1 | 1 | Julian  | 623.3 | 2022-01-01 | DS |\n",
       "| 2 | 2 | Vanessa | 515.2 | 2022-09-23 | DS |\n",
       "| 3 | 3 | Jeffry  | 611.0 | 2022-11-15 | BA |\n",
       "| 4 | 4 | Angel   | 729.0 | 2022-05-11 | DA |\n",
       "\n"
      ],
      "text/plain": [
       "  id name    salary start_date dept\n",
       "1 1  Julian  623.3  2022-01-01 DS  \n",
       "2 2  Vanessa 515.2  2022-09-23 DS  \n",
       "3 3  Jeffry  611.0  2022-11-15 BA  \n",
       "4 4  Angel   729.0  2022-05-11 DA  "
      ]
     },
     "metadata": {},
     "output_type": "display_data"
    }
   ],
   "source": [
    "head(df3,4)                               # print as prieiras quatro linhas"
   ]
  },
  {
   "cell_type": "code",
   "execution_count": 252,
   "metadata": {
    "slideshow": {
     "slide_type": "slide"
    }
   },
   "outputs": [
    {
     "data": {
      "text/html": [
       "'data.frame'"
      ],
      "text/latex": [
       "'data.frame'"
      ],
      "text/markdown": [
       "'data.frame'"
      ],
      "text/plain": [
       "[1] \"data.frame\""
      ]
     },
     "metadata": {},
     "output_type": "display_data"
    }
   ],
   "source": [
    "class(df3)                             # o typo do data frame"
   ]
  },
  {
   "cell_type": "code",
   "execution_count": 253,
   "metadata": {
    "slideshow": {
     "slide_type": "slide"
    }
   },
   "outputs": [
    {
     "name": "stdout",
     "output_type": "stream",
     "text": [
      "'data.frame':\t10 obs. of  5 variables:\n",
      " $ id        : int  1 2 3 4 5 6 7 8 9 10\n",
      " $ name      : chr  \"Julian\" \"Vanessa\" \"Jeffry\" \"Angel\" ...\n",
      " $ salary    : num  623 515 611 729 843 ...\n",
      " $ start_date: Date, format: \"2022-01-01\" \"2022-09-23\" ...\n",
      " $ dept      : chr  \"DS\" \"DS\" \"BA\" \"DA\" ...\n"
     ]
    }
   ],
   "source": [
    "str(df3)                               # Estrutura do data frame"
   ]
  },
  {
   "cell_type": "code",
   "execution_count": 254,
   "metadata": {
    "slideshow": {
     "slide_type": "slide"
    }
   },
   "outputs": [
    {
     "data": {
      "text/html": [
       "<style>\n",
       ".list-inline {list-style: none; margin:0; padding: 0}\n",
       ".list-inline>li {display: inline-block}\n",
       ".list-inline>li:not(:last-child)::after {content: \"\\00b7\"; padding: 0 .5ex}\n",
       "</style>\n",
       "<ol class=list-inline><li>10</li><li>5</li></ol>\n"
      ],
      "text/latex": [
       "\\begin{enumerate*}\n",
       "\\item 10\n",
       "\\item 5\n",
       "\\end{enumerate*}\n"
      ],
      "text/markdown": [
       "1. 10\n",
       "2. 5\n",
       "\n",
       "\n"
      ],
      "text/plain": [
       "[1] 10  5"
      ]
     },
     "metadata": {},
     "output_type": "display_data"
    }
   ],
   "source": [
    "dim(df3)                               # Dimensões do data frame"
   ]
  },
  {
   "cell_type": "markdown",
   "metadata": {
    "slideshow": {
     "slide_type": "slide"
    }
   },
   "source": [
    "Os dataframes geralmente são criados pela leitura em um conjunto de dados usando `read.table()` ou `read.csv()`.   \n",
    "\n",
    "No entanto, os dataframes também podem ser criados explicitamente com a função `dataframe()` ou podem ser obtidos de outros tipos de objetos, como listas."
   ]
  },
  {
   "cell_type": "markdown",
   "metadata": {
    "slideshow": {
     "slide_type": "slide"
    }
   },
   "source": [
    "Extração\n",
    "---\n",
    "R fornece muitas maneiras de subconjunto e extrair elementos de vetores e outros objetos.   \n",
    "\n",
    "O básico é bastante simples, mas não prestar atenção à “personalidade” de cada mecanismo de extração pode causar muita dor de cabeça.  \n",
    "Para começar, a extração é feita com o operador []. \n",
    "\n",
    "O operador pode pegar vetores de vários tipos."
   ]
  },
  {
   "cell_type": "code",
   "execution_count": 255,
   "metadata": {
    "slideshow": {
     "slide_type": "slide"
    }
   },
   "outputs": [
    {
     "data": {
      "text/html": [
       "<table>\n",
       "<caption>A data.frame: 32 × 11</caption>\n",
       "<thead>\n",
       "\t<tr><th></th><th scope=col>mpg</th><th scope=col>cyl</th><th scope=col>disp</th><th scope=col>hp</th><th scope=col>drat</th><th scope=col>wt</th><th scope=col>qsec</th><th scope=col>vs</th><th scope=col>am</th><th scope=col>gear</th><th scope=col>carb</th></tr>\n",
       "\t<tr><th></th><th scope=col>&lt;dbl&gt;</th><th scope=col>&lt;dbl&gt;</th><th scope=col>&lt;dbl&gt;</th><th scope=col>&lt;dbl&gt;</th><th scope=col>&lt;dbl&gt;</th><th scope=col>&lt;dbl&gt;</th><th scope=col>&lt;dbl&gt;</th><th scope=col>&lt;dbl&gt;</th><th scope=col>&lt;dbl&gt;</th><th scope=col>&lt;dbl&gt;</th><th scope=col>&lt;dbl&gt;</th></tr>\n",
       "</thead>\n",
       "<tbody>\n",
       "\t<tr><th scope=row>Mazda RX4</th><td>21.0</td><td>6</td><td>160.0</td><td>110</td><td>3.90</td><td>2.620</td><td>16.46</td><td>0</td><td>1</td><td>4</td><td>4</td></tr>\n",
       "\t<tr><th scope=row>Mazda RX4 Wag</th><td>21.0</td><td>6</td><td>160.0</td><td>110</td><td>3.90</td><td>2.875</td><td>17.02</td><td>0</td><td>1</td><td>4</td><td>4</td></tr>\n",
       "\t<tr><th scope=row>Datsun 710</th><td>22.8</td><td>4</td><td>108.0</td><td> 93</td><td>3.85</td><td>2.320</td><td>18.61</td><td>1</td><td>1</td><td>4</td><td>1</td></tr>\n",
       "\t<tr><th scope=row>Hornet 4 Drive</th><td>21.4</td><td>6</td><td>258.0</td><td>110</td><td>3.08</td><td>3.215</td><td>19.44</td><td>1</td><td>0</td><td>3</td><td>1</td></tr>\n",
       "\t<tr><th scope=row>Hornet Sportabout</th><td>18.7</td><td>8</td><td>360.0</td><td>175</td><td>3.15</td><td>3.440</td><td>17.02</td><td>0</td><td>0</td><td>3</td><td>2</td></tr>\n",
       "\t<tr><th scope=row>Valiant</th><td>18.1</td><td>6</td><td>225.0</td><td>105</td><td>2.76</td><td>3.460</td><td>20.22</td><td>1</td><td>0</td><td>3</td><td>1</td></tr>\n",
       "\t<tr><th scope=row>Duster 360</th><td>14.3</td><td>8</td><td>360.0</td><td>245</td><td>3.21</td><td>3.570</td><td>15.84</td><td>0</td><td>0</td><td>3</td><td>4</td></tr>\n",
       "\t<tr><th scope=row>Merc 240D</th><td>24.4</td><td>4</td><td>146.7</td><td> 62</td><td>3.69</td><td>3.190</td><td>20.00</td><td>1</td><td>0</td><td>4</td><td>2</td></tr>\n",
       "\t<tr><th scope=row>Merc 230</th><td>22.8</td><td>4</td><td>140.8</td><td> 95</td><td>3.92</td><td>3.150</td><td>22.90</td><td>1</td><td>0</td><td>4</td><td>2</td></tr>\n",
       "\t<tr><th scope=row>Merc 280</th><td>19.2</td><td>6</td><td>167.6</td><td>123</td><td>3.92</td><td>3.440</td><td>18.30</td><td>1</td><td>0</td><td>4</td><td>4</td></tr>\n",
       "\t<tr><th scope=row>Merc 280C</th><td>17.8</td><td>6</td><td>167.6</td><td>123</td><td>3.92</td><td>3.440</td><td>18.90</td><td>1</td><td>0</td><td>4</td><td>4</td></tr>\n",
       "\t<tr><th scope=row>Merc 450SE</th><td>16.4</td><td>8</td><td>275.8</td><td>180</td><td>3.07</td><td>4.070</td><td>17.40</td><td>0</td><td>0</td><td>3</td><td>3</td></tr>\n",
       "\t<tr><th scope=row>Merc 450SL</th><td>17.3</td><td>8</td><td>275.8</td><td>180</td><td>3.07</td><td>3.730</td><td>17.60</td><td>0</td><td>0</td><td>3</td><td>3</td></tr>\n",
       "\t<tr><th scope=row>Merc 450SLC</th><td>15.2</td><td>8</td><td>275.8</td><td>180</td><td>3.07</td><td>3.780</td><td>18.00</td><td>0</td><td>0</td><td>3</td><td>3</td></tr>\n",
       "\t<tr><th scope=row>Cadillac Fleetwood</th><td>10.4</td><td>8</td><td>472.0</td><td>205</td><td>2.93</td><td>5.250</td><td>17.98</td><td>0</td><td>0</td><td>3</td><td>4</td></tr>\n",
       "\t<tr><th scope=row>Lincoln Continental</th><td>10.4</td><td>8</td><td>460.0</td><td>215</td><td>3.00</td><td>5.424</td><td>17.82</td><td>0</td><td>0</td><td>3</td><td>4</td></tr>\n",
       "\t<tr><th scope=row>Chrysler Imperial</th><td>14.7</td><td>8</td><td>440.0</td><td>230</td><td>3.23</td><td>5.345</td><td>17.42</td><td>0</td><td>0</td><td>3</td><td>4</td></tr>\n",
       "\t<tr><th scope=row>Fiat 128</th><td>32.4</td><td>4</td><td> 78.7</td><td> 66</td><td>4.08</td><td>2.200</td><td>19.47</td><td>1</td><td>1</td><td>4</td><td>1</td></tr>\n",
       "\t<tr><th scope=row>Honda Civic</th><td>30.4</td><td>4</td><td> 75.7</td><td> 52</td><td>4.93</td><td>1.615</td><td>18.52</td><td>1</td><td>1</td><td>4</td><td>2</td></tr>\n",
       "\t<tr><th scope=row>Toyota Corolla</th><td>33.9</td><td>4</td><td> 71.1</td><td> 65</td><td>4.22</td><td>1.835</td><td>19.90</td><td>1</td><td>1</td><td>4</td><td>1</td></tr>\n",
       "\t<tr><th scope=row>Toyota Corona</th><td>21.5</td><td>4</td><td>120.1</td><td> 97</td><td>3.70</td><td>2.465</td><td>20.01</td><td>1</td><td>0</td><td>3</td><td>1</td></tr>\n",
       "\t<tr><th scope=row>Dodge Challenger</th><td>15.5</td><td>8</td><td>318.0</td><td>150</td><td>2.76</td><td>3.520</td><td>16.87</td><td>0</td><td>0</td><td>3</td><td>2</td></tr>\n",
       "\t<tr><th scope=row>AMC Javelin</th><td>15.2</td><td>8</td><td>304.0</td><td>150</td><td>3.15</td><td>3.435</td><td>17.30</td><td>0</td><td>0</td><td>3</td><td>2</td></tr>\n",
       "\t<tr><th scope=row>Camaro Z28</th><td>13.3</td><td>8</td><td>350.0</td><td>245</td><td>3.73</td><td>3.840</td><td>15.41</td><td>0</td><td>0</td><td>3</td><td>4</td></tr>\n",
       "\t<tr><th scope=row>Pontiac Firebird</th><td>19.2</td><td>8</td><td>400.0</td><td>175</td><td>3.08</td><td>3.845</td><td>17.05</td><td>0</td><td>0</td><td>3</td><td>2</td></tr>\n",
       "\t<tr><th scope=row>Fiat X1-9</th><td>27.3</td><td>4</td><td> 79.0</td><td> 66</td><td>4.08</td><td>1.935</td><td>18.90</td><td>1</td><td>1</td><td>4</td><td>1</td></tr>\n",
       "\t<tr><th scope=row>Porsche 914-2</th><td>26.0</td><td>4</td><td>120.3</td><td> 91</td><td>4.43</td><td>2.140</td><td>16.70</td><td>0</td><td>1</td><td>5</td><td>2</td></tr>\n",
       "\t<tr><th scope=row>Lotus Europa</th><td>30.4</td><td>4</td><td> 95.1</td><td>113</td><td>3.77</td><td>1.513</td><td>16.90</td><td>1</td><td>1</td><td>5</td><td>2</td></tr>\n",
       "\t<tr><th scope=row>Ford Pantera L</th><td>15.8</td><td>8</td><td>351.0</td><td>264</td><td>4.22</td><td>3.170</td><td>14.50</td><td>0</td><td>1</td><td>5</td><td>4</td></tr>\n",
       "\t<tr><th scope=row>Ferrari Dino</th><td>19.7</td><td>6</td><td>145.0</td><td>175</td><td>3.62</td><td>2.770</td><td>15.50</td><td>0</td><td>1</td><td>5</td><td>6</td></tr>\n",
       "\t<tr><th scope=row>Maserati Bora</th><td>15.0</td><td>8</td><td>301.0</td><td>335</td><td>3.54</td><td>3.570</td><td>14.60</td><td>0</td><td>1</td><td>5</td><td>8</td></tr>\n",
       "\t<tr><th scope=row>Volvo 142E</th><td>21.4</td><td>4</td><td>121.0</td><td>109</td><td>4.11</td><td>2.780</td><td>18.60</td><td>1</td><td>1</td><td>4</td><td>2</td></tr>\n",
       "</tbody>\n",
       "</table>\n"
      ],
      "text/latex": [
       "A data.frame: 32 × 11\n",
       "\\begin{tabular}{r|lllllllllll}\n",
       "  & mpg & cyl & disp & hp & drat & wt & qsec & vs & am & gear & carb\\\\\n",
       "  & <dbl> & <dbl> & <dbl> & <dbl> & <dbl> & <dbl> & <dbl> & <dbl> & <dbl> & <dbl> & <dbl>\\\\\n",
       "\\hline\n",
       "\tMazda RX4 & 21.0 & 6 & 160.0 & 110 & 3.90 & 2.620 & 16.46 & 0 & 1 & 4 & 4\\\\\n",
       "\tMazda RX4 Wag & 21.0 & 6 & 160.0 & 110 & 3.90 & 2.875 & 17.02 & 0 & 1 & 4 & 4\\\\\n",
       "\tDatsun 710 & 22.8 & 4 & 108.0 &  93 & 3.85 & 2.320 & 18.61 & 1 & 1 & 4 & 1\\\\\n",
       "\tHornet 4 Drive & 21.4 & 6 & 258.0 & 110 & 3.08 & 3.215 & 19.44 & 1 & 0 & 3 & 1\\\\\n",
       "\tHornet Sportabout & 18.7 & 8 & 360.0 & 175 & 3.15 & 3.440 & 17.02 & 0 & 0 & 3 & 2\\\\\n",
       "\tValiant & 18.1 & 6 & 225.0 & 105 & 2.76 & 3.460 & 20.22 & 1 & 0 & 3 & 1\\\\\n",
       "\tDuster 360 & 14.3 & 8 & 360.0 & 245 & 3.21 & 3.570 & 15.84 & 0 & 0 & 3 & 4\\\\\n",
       "\tMerc 240D & 24.4 & 4 & 146.7 &  62 & 3.69 & 3.190 & 20.00 & 1 & 0 & 4 & 2\\\\\n",
       "\tMerc 230 & 22.8 & 4 & 140.8 &  95 & 3.92 & 3.150 & 22.90 & 1 & 0 & 4 & 2\\\\\n",
       "\tMerc 280 & 19.2 & 6 & 167.6 & 123 & 3.92 & 3.440 & 18.30 & 1 & 0 & 4 & 4\\\\\n",
       "\tMerc 280C & 17.8 & 6 & 167.6 & 123 & 3.92 & 3.440 & 18.90 & 1 & 0 & 4 & 4\\\\\n",
       "\tMerc 450SE & 16.4 & 8 & 275.8 & 180 & 3.07 & 4.070 & 17.40 & 0 & 0 & 3 & 3\\\\\n",
       "\tMerc 450SL & 17.3 & 8 & 275.8 & 180 & 3.07 & 3.730 & 17.60 & 0 & 0 & 3 & 3\\\\\n",
       "\tMerc 450SLC & 15.2 & 8 & 275.8 & 180 & 3.07 & 3.780 & 18.00 & 0 & 0 & 3 & 3\\\\\n",
       "\tCadillac Fleetwood & 10.4 & 8 & 472.0 & 205 & 2.93 & 5.250 & 17.98 & 0 & 0 & 3 & 4\\\\\n",
       "\tLincoln Continental & 10.4 & 8 & 460.0 & 215 & 3.00 & 5.424 & 17.82 & 0 & 0 & 3 & 4\\\\\n",
       "\tChrysler Imperial & 14.7 & 8 & 440.0 & 230 & 3.23 & 5.345 & 17.42 & 0 & 0 & 3 & 4\\\\\n",
       "\tFiat 128 & 32.4 & 4 &  78.7 &  66 & 4.08 & 2.200 & 19.47 & 1 & 1 & 4 & 1\\\\\n",
       "\tHonda Civic & 30.4 & 4 &  75.7 &  52 & 4.93 & 1.615 & 18.52 & 1 & 1 & 4 & 2\\\\\n",
       "\tToyota Corolla & 33.9 & 4 &  71.1 &  65 & 4.22 & 1.835 & 19.90 & 1 & 1 & 4 & 1\\\\\n",
       "\tToyota Corona & 21.5 & 4 & 120.1 &  97 & 3.70 & 2.465 & 20.01 & 1 & 0 & 3 & 1\\\\\n",
       "\tDodge Challenger & 15.5 & 8 & 318.0 & 150 & 2.76 & 3.520 & 16.87 & 0 & 0 & 3 & 2\\\\\n",
       "\tAMC Javelin & 15.2 & 8 & 304.0 & 150 & 3.15 & 3.435 & 17.30 & 0 & 0 & 3 & 2\\\\\n",
       "\tCamaro Z28 & 13.3 & 8 & 350.0 & 245 & 3.73 & 3.840 & 15.41 & 0 & 0 & 3 & 4\\\\\n",
       "\tPontiac Firebird & 19.2 & 8 & 400.0 & 175 & 3.08 & 3.845 & 17.05 & 0 & 0 & 3 & 2\\\\\n",
       "\tFiat X1-9 & 27.3 & 4 &  79.0 &  66 & 4.08 & 1.935 & 18.90 & 1 & 1 & 4 & 1\\\\\n",
       "\tPorsche 914-2 & 26.0 & 4 & 120.3 &  91 & 4.43 & 2.140 & 16.70 & 0 & 1 & 5 & 2\\\\\n",
       "\tLotus Europa & 30.4 & 4 &  95.1 & 113 & 3.77 & 1.513 & 16.90 & 1 & 1 & 5 & 2\\\\\n",
       "\tFord Pantera L & 15.8 & 8 & 351.0 & 264 & 4.22 & 3.170 & 14.50 & 0 & 1 & 5 & 4\\\\\n",
       "\tFerrari Dino & 19.7 & 6 & 145.0 & 175 & 3.62 & 2.770 & 15.50 & 0 & 1 & 5 & 6\\\\\n",
       "\tMaserati Bora & 15.0 & 8 & 301.0 & 335 & 3.54 & 3.570 & 14.60 & 0 & 1 & 5 & 8\\\\\n",
       "\tVolvo 142E & 21.4 & 4 & 121.0 & 109 & 4.11 & 2.780 & 18.60 & 1 & 1 & 4 & 2\\\\\n",
       "\\end{tabular}\n"
      ],
      "text/markdown": [
       "\n",
       "A data.frame: 32 × 11\n",
       "\n",
       "| <!--/--> | mpg &lt;dbl&gt; | cyl &lt;dbl&gt; | disp &lt;dbl&gt; | hp &lt;dbl&gt; | drat &lt;dbl&gt; | wt &lt;dbl&gt; | qsec &lt;dbl&gt; | vs &lt;dbl&gt; | am &lt;dbl&gt; | gear &lt;dbl&gt; | carb &lt;dbl&gt; |\n",
       "|---|---|---|---|---|---|---|---|---|---|---|---|\n",
       "| Mazda RX4 | 21.0 | 6 | 160.0 | 110 | 3.90 | 2.620 | 16.46 | 0 | 1 | 4 | 4 |\n",
       "| Mazda RX4 Wag | 21.0 | 6 | 160.0 | 110 | 3.90 | 2.875 | 17.02 | 0 | 1 | 4 | 4 |\n",
       "| Datsun 710 | 22.8 | 4 | 108.0 |  93 | 3.85 | 2.320 | 18.61 | 1 | 1 | 4 | 1 |\n",
       "| Hornet 4 Drive | 21.4 | 6 | 258.0 | 110 | 3.08 | 3.215 | 19.44 | 1 | 0 | 3 | 1 |\n",
       "| Hornet Sportabout | 18.7 | 8 | 360.0 | 175 | 3.15 | 3.440 | 17.02 | 0 | 0 | 3 | 2 |\n",
       "| Valiant | 18.1 | 6 | 225.0 | 105 | 2.76 | 3.460 | 20.22 | 1 | 0 | 3 | 1 |\n",
       "| Duster 360 | 14.3 | 8 | 360.0 | 245 | 3.21 | 3.570 | 15.84 | 0 | 0 | 3 | 4 |\n",
       "| Merc 240D | 24.4 | 4 | 146.7 |  62 | 3.69 | 3.190 | 20.00 | 1 | 0 | 4 | 2 |\n",
       "| Merc 230 | 22.8 | 4 | 140.8 |  95 | 3.92 | 3.150 | 22.90 | 1 | 0 | 4 | 2 |\n",
       "| Merc 280 | 19.2 | 6 | 167.6 | 123 | 3.92 | 3.440 | 18.30 | 1 | 0 | 4 | 4 |\n",
       "| Merc 280C | 17.8 | 6 | 167.6 | 123 | 3.92 | 3.440 | 18.90 | 1 | 0 | 4 | 4 |\n",
       "| Merc 450SE | 16.4 | 8 | 275.8 | 180 | 3.07 | 4.070 | 17.40 | 0 | 0 | 3 | 3 |\n",
       "| Merc 450SL | 17.3 | 8 | 275.8 | 180 | 3.07 | 3.730 | 17.60 | 0 | 0 | 3 | 3 |\n",
       "| Merc 450SLC | 15.2 | 8 | 275.8 | 180 | 3.07 | 3.780 | 18.00 | 0 | 0 | 3 | 3 |\n",
       "| Cadillac Fleetwood | 10.4 | 8 | 472.0 | 205 | 2.93 | 5.250 | 17.98 | 0 | 0 | 3 | 4 |\n",
       "| Lincoln Continental | 10.4 | 8 | 460.0 | 215 | 3.00 | 5.424 | 17.82 | 0 | 0 | 3 | 4 |\n",
       "| Chrysler Imperial | 14.7 | 8 | 440.0 | 230 | 3.23 | 5.345 | 17.42 | 0 | 0 | 3 | 4 |\n",
       "| Fiat 128 | 32.4 | 4 |  78.7 |  66 | 4.08 | 2.200 | 19.47 | 1 | 1 | 4 | 1 |\n",
       "| Honda Civic | 30.4 | 4 |  75.7 |  52 | 4.93 | 1.615 | 18.52 | 1 | 1 | 4 | 2 |\n",
       "| Toyota Corolla | 33.9 | 4 |  71.1 |  65 | 4.22 | 1.835 | 19.90 | 1 | 1 | 4 | 1 |\n",
       "| Toyota Corona | 21.5 | 4 | 120.1 |  97 | 3.70 | 2.465 | 20.01 | 1 | 0 | 3 | 1 |\n",
       "| Dodge Challenger | 15.5 | 8 | 318.0 | 150 | 2.76 | 3.520 | 16.87 | 0 | 0 | 3 | 2 |\n",
       "| AMC Javelin | 15.2 | 8 | 304.0 | 150 | 3.15 | 3.435 | 17.30 | 0 | 0 | 3 | 2 |\n",
       "| Camaro Z28 | 13.3 | 8 | 350.0 | 245 | 3.73 | 3.840 | 15.41 | 0 | 0 | 3 | 4 |\n",
       "| Pontiac Firebird | 19.2 | 8 | 400.0 | 175 | 3.08 | 3.845 | 17.05 | 0 | 0 | 3 | 2 |\n",
       "| Fiat X1-9 | 27.3 | 4 |  79.0 |  66 | 4.08 | 1.935 | 18.90 | 1 | 1 | 4 | 1 |\n",
       "| Porsche 914-2 | 26.0 | 4 | 120.3 |  91 | 4.43 | 2.140 | 16.70 | 0 | 1 | 5 | 2 |\n",
       "| Lotus Europa | 30.4 | 4 |  95.1 | 113 | 3.77 | 1.513 | 16.90 | 1 | 1 | 5 | 2 |\n",
       "| Ford Pantera L | 15.8 | 8 | 351.0 | 264 | 4.22 | 3.170 | 14.50 | 0 | 1 | 5 | 4 |\n",
       "| Ferrari Dino | 19.7 | 6 | 145.0 | 175 | 3.62 | 2.770 | 15.50 | 0 | 1 | 5 | 6 |\n",
       "| Maserati Bora | 15.0 | 8 | 301.0 | 335 | 3.54 | 3.570 | 14.60 | 0 | 1 | 5 | 8 |\n",
       "| Volvo 142E | 21.4 | 4 | 121.0 | 109 | 4.11 | 2.780 | 18.60 | 1 | 1 | 4 | 2 |\n",
       "\n"
      ],
      "text/plain": [
       "                    mpg  cyl disp  hp  drat wt    qsec  vs am gear carb\n",
       "Mazda RX4           21.0 6   160.0 110 3.90 2.620 16.46 0  1  4    4   \n",
       "Mazda RX4 Wag       21.0 6   160.0 110 3.90 2.875 17.02 0  1  4    4   \n",
       "Datsun 710          22.8 4   108.0  93 3.85 2.320 18.61 1  1  4    1   \n",
       "Hornet 4 Drive      21.4 6   258.0 110 3.08 3.215 19.44 1  0  3    1   \n",
       "Hornet Sportabout   18.7 8   360.0 175 3.15 3.440 17.02 0  0  3    2   \n",
       "Valiant             18.1 6   225.0 105 2.76 3.460 20.22 1  0  3    1   \n",
       "Duster 360          14.3 8   360.0 245 3.21 3.570 15.84 0  0  3    4   \n",
       "Merc 240D           24.4 4   146.7  62 3.69 3.190 20.00 1  0  4    2   \n",
       "Merc 230            22.8 4   140.8  95 3.92 3.150 22.90 1  0  4    2   \n",
       "Merc 280            19.2 6   167.6 123 3.92 3.440 18.30 1  0  4    4   \n",
       "Merc 280C           17.8 6   167.6 123 3.92 3.440 18.90 1  0  4    4   \n",
       "Merc 450SE          16.4 8   275.8 180 3.07 4.070 17.40 0  0  3    3   \n",
       "Merc 450SL          17.3 8   275.8 180 3.07 3.730 17.60 0  0  3    3   \n",
       "Merc 450SLC         15.2 8   275.8 180 3.07 3.780 18.00 0  0  3    3   \n",
       "Cadillac Fleetwood  10.4 8   472.0 205 2.93 5.250 17.98 0  0  3    4   \n",
       "Lincoln Continental 10.4 8   460.0 215 3.00 5.424 17.82 0  0  3    4   \n",
       "Chrysler Imperial   14.7 8   440.0 230 3.23 5.345 17.42 0  0  3    4   \n",
       "Fiat 128            32.4 4    78.7  66 4.08 2.200 19.47 1  1  4    1   \n",
       "Honda Civic         30.4 4    75.7  52 4.93 1.615 18.52 1  1  4    2   \n",
       "Toyota Corolla      33.9 4    71.1  65 4.22 1.835 19.90 1  1  4    1   \n",
       "Toyota Corona       21.5 4   120.1  97 3.70 2.465 20.01 1  0  3    1   \n",
       "Dodge Challenger    15.5 8   318.0 150 2.76 3.520 16.87 0  0  3    2   \n",
       "AMC Javelin         15.2 8   304.0 150 3.15 3.435 17.30 0  0  3    2   \n",
       "Camaro Z28          13.3 8   350.0 245 3.73 3.840 15.41 0  0  3    4   \n",
       "Pontiac Firebird    19.2 8   400.0 175 3.08 3.845 17.05 0  0  3    2   \n",
       "Fiat X1-9           27.3 4    79.0  66 4.08 1.935 18.90 1  1  4    1   \n",
       "Porsche 914-2       26.0 4   120.3  91 4.43 2.140 16.70 0  1  5    2   \n",
       "Lotus Europa        30.4 4    95.1 113 3.77 1.513 16.90 1  1  5    2   \n",
       "Ford Pantera L      15.8 8   351.0 264 4.22 3.170 14.50 0  1  5    4   \n",
       "Ferrari Dino        19.7 6   145.0 175 3.62 2.770 15.50 0  1  5    6   \n",
       "Maserati Bora       15.0 8   301.0 335 3.54 3.570 14.60 0  1  5    8   \n",
       "Volvo 142E          21.4 4   121.0 109 4.11 2.780 18.60 1  1  4    2   "
      ]
     },
     "metadata": {},
     "output_type": "display_data"
    }
   ],
   "source": [
    "mtcars"
   ]
  },
  {
   "cell_type": "code",
   "execution_count": 256,
   "metadata": {
    "slideshow": {
     "slide_type": "slide"
    }
   },
   "outputs": [
    {
     "data": {
      "text/html": [
       "3.9"
      ],
      "text/latex": [
       "3.9"
      ],
      "text/markdown": [
       "3.9"
      ],
      "text/plain": [
       "[1] 3.9"
      ]
     },
     "metadata": {},
     "output_type": "display_data"
    }
   ],
   "source": [
    "mtcars [1,5] # extrai o elemento da 1ª linha e 5ª coluna."
   ]
  },
  {
   "cell_type": "code",
   "execution_count": 257,
   "metadata": {
    "slideshow": {
     "slide_type": "slide"
    }
   },
   "outputs": [
    {
     "data": {
      "text/html": [
       "<table>\n",
       "<caption>A data.frame: 5 × 11</caption>\n",
       "<thead>\n",
       "\t<tr><th></th><th scope=col>mpg</th><th scope=col>cyl</th><th scope=col>disp</th><th scope=col>hp</th><th scope=col>drat</th><th scope=col>wt</th><th scope=col>qsec</th><th scope=col>vs</th><th scope=col>am</th><th scope=col>gear</th><th scope=col>carb</th></tr>\n",
       "\t<tr><th></th><th scope=col>&lt;dbl&gt;</th><th scope=col>&lt;dbl&gt;</th><th scope=col>&lt;dbl&gt;</th><th scope=col>&lt;dbl&gt;</th><th scope=col>&lt;dbl&gt;</th><th scope=col>&lt;dbl&gt;</th><th scope=col>&lt;dbl&gt;</th><th scope=col>&lt;dbl&gt;</th><th scope=col>&lt;dbl&gt;</th><th scope=col>&lt;dbl&gt;</th><th scope=col>&lt;dbl&gt;</th></tr>\n",
       "</thead>\n",
       "<tbody>\n",
       "\t<tr><th scope=row>Mazda RX4</th><td>21.0</td><td>6</td><td>160</td><td>110</td><td>3.90</td><td>2.620</td><td>16.46</td><td>0</td><td>1</td><td>4</td><td>4</td></tr>\n",
       "\t<tr><th scope=row>Mazda RX4 Wag</th><td>21.0</td><td>6</td><td>160</td><td>110</td><td>3.90</td><td>2.875</td><td>17.02</td><td>0</td><td>1</td><td>4</td><td>4</td></tr>\n",
       "\t<tr><th scope=row>Datsun 710</th><td>22.8</td><td>4</td><td>108</td><td> 93</td><td>3.85</td><td>2.320</td><td>18.61</td><td>1</td><td>1</td><td>4</td><td>1</td></tr>\n",
       "\t<tr><th scope=row>Hornet 4 Drive</th><td>21.4</td><td>6</td><td>258</td><td>110</td><td>3.08</td><td>3.215</td><td>19.44</td><td>1</td><td>0</td><td>3</td><td>1</td></tr>\n",
       "\t<tr><th scope=row>Hornet Sportabout</th><td>18.7</td><td>8</td><td>360</td><td>175</td><td>3.15</td><td>3.440</td><td>17.02</td><td>0</td><td>0</td><td>3</td><td>2</td></tr>\n",
       "</tbody>\n",
       "</table>\n"
      ],
      "text/latex": [
       "A data.frame: 5 × 11\n",
       "\\begin{tabular}{r|lllllllllll}\n",
       "  & mpg & cyl & disp & hp & drat & wt & qsec & vs & am & gear & carb\\\\\n",
       "  & <dbl> & <dbl> & <dbl> & <dbl> & <dbl> & <dbl> & <dbl> & <dbl> & <dbl> & <dbl> & <dbl>\\\\\n",
       "\\hline\n",
       "\tMazda RX4 & 21.0 & 6 & 160 & 110 & 3.90 & 2.620 & 16.46 & 0 & 1 & 4 & 4\\\\\n",
       "\tMazda RX4 Wag & 21.0 & 6 & 160 & 110 & 3.90 & 2.875 & 17.02 & 0 & 1 & 4 & 4\\\\\n",
       "\tDatsun 710 & 22.8 & 4 & 108 &  93 & 3.85 & 2.320 & 18.61 & 1 & 1 & 4 & 1\\\\\n",
       "\tHornet 4 Drive & 21.4 & 6 & 258 & 110 & 3.08 & 3.215 & 19.44 & 1 & 0 & 3 & 1\\\\\n",
       "\tHornet Sportabout & 18.7 & 8 & 360 & 175 & 3.15 & 3.440 & 17.02 & 0 & 0 & 3 & 2\\\\\n",
       "\\end{tabular}\n"
      ],
      "text/markdown": [
       "\n",
       "A data.frame: 5 × 11\n",
       "\n",
       "| <!--/--> | mpg &lt;dbl&gt; | cyl &lt;dbl&gt; | disp &lt;dbl&gt; | hp &lt;dbl&gt; | drat &lt;dbl&gt; | wt &lt;dbl&gt; | qsec &lt;dbl&gt; | vs &lt;dbl&gt; | am &lt;dbl&gt; | gear &lt;dbl&gt; | carb &lt;dbl&gt; |\n",
       "|---|---|---|---|---|---|---|---|---|---|---|---|\n",
       "| Mazda RX4 | 21.0 | 6 | 160 | 110 | 3.90 | 2.620 | 16.46 | 0 | 1 | 4 | 4 |\n",
       "| Mazda RX4 Wag | 21.0 | 6 | 160 | 110 | 3.90 | 2.875 | 17.02 | 0 | 1 | 4 | 4 |\n",
       "| Datsun 710 | 22.8 | 4 | 108 |  93 | 3.85 | 2.320 | 18.61 | 1 | 1 | 4 | 1 |\n",
       "| Hornet 4 Drive | 21.4 | 6 | 258 | 110 | 3.08 | 3.215 | 19.44 | 1 | 0 | 3 | 1 |\n",
       "| Hornet Sportabout | 18.7 | 8 | 360 | 175 | 3.15 | 3.440 | 17.02 | 0 | 0 | 3 | 2 |\n",
       "\n"
      ],
      "text/plain": [
       "                  mpg  cyl disp hp  drat wt    qsec  vs am gear carb\n",
       "Mazda RX4         21.0 6   160  110 3.90 2.620 16.46 0  1  4    4   \n",
       "Mazda RX4 Wag     21.0 6   160  110 3.90 2.875 17.02 0  1  4    4   \n",
       "Datsun 710        22.8 4   108   93 3.85 2.320 18.61 1  1  4    1   \n",
       "Hornet 4 Drive    21.4 6   258  110 3.08 3.215 19.44 1  0  3    1   \n",
       "Hornet Sportabout 18.7 8   360  175 3.15 3.440 17.02 0  0  3    2   "
      ]
     },
     "metadata": {},
     "output_type": "display_data"
    }
   ],
   "source": [
    "mtcars [1: 5,] # extrai as primeiras seis linhas de mtcars\n"
   ]
  },
  {
   "cell_type": "code",
   "execution_count": 259,
   "metadata": {
    "slideshow": {
     "slide_type": "slide"
    }
   },
   "outputs": [
    {
     "data": {
      "text/html": [
       "<table>\n",
       "<caption>A data.frame: 32 × 3</caption>\n",
       "<thead>\n",
       "\t<tr><th></th><th scope=col>mpg</th><th scope=col>cyl</th><th scope=col>disp</th></tr>\n",
       "\t<tr><th></th><th scope=col>&lt;dbl&gt;</th><th scope=col>&lt;dbl&gt;</th><th scope=col>&lt;dbl&gt;</th></tr>\n",
       "</thead>\n",
       "<tbody>\n",
       "\t<tr><th scope=row>Mazda RX4</th><td>21.0</td><td>6</td><td>160.0</td></tr>\n",
       "\t<tr><th scope=row>Mazda RX4 Wag</th><td>21.0</td><td>6</td><td>160.0</td></tr>\n",
       "\t<tr><th scope=row>Datsun 710</th><td>22.8</td><td>4</td><td>108.0</td></tr>\n",
       "\t<tr><th scope=row>Hornet 4 Drive</th><td>21.4</td><td>6</td><td>258.0</td></tr>\n",
       "\t<tr><th scope=row>Hornet Sportabout</th><td>18.7</td><td>8</td><td>360.0</td></tr>\n",
       "\t<tr><th scope=row>Valiant</th><td>18.1</td><td>6</td><td>225.0</td></tr>\n",
       "\t<tr><th scope=row>Duster 360</th><td>14.3</td><td>8</td><td>360.0</td></tr>\n",
       "\t<tr><th scope=row>Merc 240D</th><td>24.4</td><td>4</td><td>146.7</td></tr>\n",
       "\t<tr><th scope=row>Merc 230</th><td>22.8</td><td>4</td><td>140.8</td></tr>\n",
       "\t<tr><th scope=row>Merc 280</th><td>19.2</td><td>6</td><td>167.6</td></tr>\n",
       "\t<tr><th scope=row>Merc 280C</th><td>17.8</td><td>6</td><td>167.6</td></tr>\n",
       "\t<tr><th scope=row>Merc 450SE</th><td>16.4</td><td>8</td><td>275.8</td></tr>\n",
       "\t<tr><th scope=row>Merc 450SL</th><td>17.3</td><td>8</td><td>275.8</td></tr>\n",
       "\t<tr><th scope=row>Merc 450SLC</th><td>15.2</td><td>8</td><td>275.8</td></tr>\n",
       "\t<tr><th scope=row>Cadillac Fleetwood</th><td>10.4</td><td>8</td><td>472.0</td></tr>\n",
       "\t<tr><th scope=row>Lincoln Continental</th><td>10.4</td><td>8</td><td>460.0</td></tr>\n",
       "\t<tr><th scope=row>Chrysler Imperial</th><td>14.7</td><td>8</td><td>440.0</td></tr>\n",
       "\t<tr><th scope=row>Fiat 128</th><td>32.4</td><td>4</td><td> 78.7</td></tr>\n",
       "\t<tr><th scope=row>Honda Civic</th><td>30.4</td><td>4</td><td> 75.7</td></tr>\n",
       "\t<tr><th scope=row>Toyota Corolla</th><td>33.9</td><td>4</td><td> 71.1</td></tr>\n",
       "\t<tr><th scope=row>Toyota Corona</th><td>21.5</td><td>4</td><td>120.1</td></tr>\n",
       "\t<tr><th scope=row>Dodge Challenger</th><td>15.5</td><td>8</td><td>318.0</td></tr>\n",
       "\t<tr><th scope=row>AMC Javelin</th><td>15.2</td><td>8</td><td>304.0</td></tr>\n",
       "\t<tr><th scope=row>Camaro Z28</th><td>13.3</td><td>8</td><td>350.0</td></tr>\n",
       "\t<tr><th scope=row>Pontiac Firebird</th><td>19.2</td><td>8</td><td>400.0</td></tr>\n",
       "\t<tr><th scope=row>Fiat X1-9</th><td>27.3</td><td>4</td><td> 79.0</td></tr>\n",
       "\t<tr><th scope=row>Porsche 914-2</th><td>26.0</td><td>4</td><td>120.3</td></tr>\n",
       "\t<tr><th scope=row>Lotus Europa</th><td>30.4</td><td>4</td><td> 95.1</td></tr>\n",
       "\t<tr><th scope=row>Ford Pantera L</th><td>15.8</td><td>8</td><td>351.0</td></tr>\n",
       "\t<tr><th scope=row>Ferrari Dino</th><td>19.7</td><td>6</td><td>145.0</td></tr>\n",
       "\t<tr><th scope=row>Maserati Bora</th><td>15.0</td><td>8</td><td>301.0</td></tr>\n",
       "\t<tr><th scope=row>Volvo 142E</th><td>21.4</td><td>4</td><td>121.0</td></tr>\n",
       "</tbody>\n",
       "</table>\n"
      ],
      "text/latex": [
       "A data.frame: 32 × 3\n",
       "\\begin{tabular}{r|lll}\n",
       "  & mpg & cyl & disp\\\\\n",
       "  & <dbl> & <dbl> & <dbl>\\\\\n",
       "\\hline\n",
       "\tMazda RX4 & 21.0 & 6 & 160.0\\\\\n",
       "\tMazda RX4 Wag & 21.0 & 6 & 160.0\\\\\n",
       "\tDatsun 710 & 22.8 & 4 & 108.0\\\\\n",
       "\tHornet 4 Drive & 21.4 & 6 & 258.0\\\\\n",
       "\tHornet Sportabout & 18.7 & 8 & 360.0\\\\\n",
       "\tValiant & 18.1 & 6 & 225.0\\\\\n",
       "\tDuster 360 & 14.3 & 8 & 360.0\\\\\n",
       "\tMerc 240D & 24.4 & 4 & 146.7\\\\\n",
       "\tMerc 230 & 22.8 & 4 & 140.8\\\\\n",
       "\tMerc 280 & 19.2 & 6 & 167.6\\\\\n",
       "\tMerc 280C & 17.8 & 6 & 167.6\\\\\n",
       "\tMerc 450SE & 16.4 & 8 & 275.8\\\\\n",
       "\tMerc 450SL & 17.3 & 8 & 275.8\\\\\n",
       "\tMerc 450SLC & 15.2 & 8 & 275.8\\\\\n",
       "\tCadillac Fleetwood & 10.4 & 8 & 472.0\\\\\n",
       "\tLincoln Continental & 10.4 & 8 & 460.0\\\\\n",
       "\tChrysler Imperial & 14.7 & 8 & 440.0\\\\\n",
       "\tFiat 128 & 32.4 & 4 &  78.7\\\\\n",
       "\tHonda Civic & 30.4 & 4 &  75.7\\\\\n",
       "\tToyota Corolla & 33.9 & 4 &  71.1\\\\\n",
       "\tToyota Corona & 21.5 & 4 & 120.1\\\\\n",
       "\tDodge Challenger & 15.5 & 8 & 318.0\\\\\n",
       "\tAMC Javelin & 15.2 & 8 & 304.0\\\\\n",
       "\tCamaro Z28 & 13.3 & 8 & 350.0\\\\\n",
       "\tPontiac Firebird & 19.2 & 8 & 400.0\\\\\n",
       "\tFiat X1-9 & 27.3 & 4 &  79.0\\\\\n",
       "\tPorsche 914-2 & 26.0 & 4 & 120.3\\\\\n",
       "\tLotus Europa & 30.4 & 4 &  95.1\\\\\n",
       "\tFord Pantera L & 15.8 & 8 & 351.0\\\\\n",
       "\tFerrari Dino & 19.7 & 6 & 145.0\\\\\n",
       "\tMaserati Bora & 15.0 & 8 & 301.0\\\\\n",
       "\tVolvo 142E & 21.4 & 4 & 121.0\\\\\n",
       "\\end{tabular}\n"
      ],
      "text/markdown": [
       "\n",
       "A data.frame: 32 × 3\n",
       "\n",
       "| <!--/--> | mpg &lt;dbl&gt; | cyl &lt;dbl&gt; | disp &lt;dbl&gt; |\n",
       "|---|---|---|---|\n",
       "| Mazda RX4 | 21.0 | 6 | 160.0 |\n",
       "| Mazda RX4 Wag | 21.0 | 6 | 160.0 |\n",
       "| Datsun 710 | 22.8 | 4 | 108.0 |\n",
       "| Hornet 4 Drive | 21.4 | 6 | 258.0 |\n",
       "| Hornet Sportabout | 18.7 | 8 | 360.0 |\n",
       "| Valiant | 18.1 | 6 | 225.0 |\n",
       "| Duster 360 | 14.3 | 8 | 360.0 |\n",
       "| Merc 240D | 24.4 | 4 | 146.7 |\n",
       "| Merc 230 | 22.8 | 4 | 140.8 |\n",
       "| Merc 280 | 19.2 | 6 | 167.6 |\n",
       "| Merc 280C | 17.8 | 6 | 167.6 |\n",
       "| Merc 450SE | 16.4 | 8 | 275.8 |\n",
       "| Merc 450SL | 17.3 | 8 | 275.8 |\n",
       "| Merc 450SLC | 15.2 | 8 | 275.8 |\n",
       "| Cadillac Fleetwood | 10.4 | 8 | 472.0 |\n",
       "| Lincoln Continental | 10.4 | 8 | 460.0 |\n",
       "| Chrysler Imperial | 14.7 | 8 | 440.0 |\n",
       "| Fiat 128 | 32.4 | 4 |  78.7 |\n",
       "| Honda Civic | 30.4 | 4 |  75.7 |\n",
       "| Toyota Corolla | 33.9 | 4 |  71.1 |\n",
       "| Toyota Corona | 21.5 | 4 | 120.1 |\n",
       "| Dodge Challenger | 15.5 | 8 | 318.0 |\n",
       "| AMC Javelin | 15.2 | 8 | 304.0 |\n",
       "| Camaro Z28 | 13.3 | 8 | 350.0 |\n",
       "| Pontiac Firebird | 19.2 | 8 | 400.0 |\n",
       "| Fiat X1-9 | 27.3 | 4 |  79.0 |\n",
       "| Porsche 914-2 | 26.0 | 4 | 120.3 |\n",
       "| Lotus Europa | 30.4 | 4 |  95.1 |\n",
       "| Ford Pantera L | 15.8 | 8 | 351.0 |\n",
       "| Ferrari Dino | 19.7 | 6 | 145.0 |\n",
       "| Maserati Bora | 15.0 | 8 | 301.0 |\n",
       "| Volvo 142E | 21.4 | 4 | 121.0 |\n",
       "\n"
      ],
      "text/plain": [
       "                    mpg  cyl disp \n",
       "Mazda RX4           21.0 6   160.0\n",
       "Mazda RX4 Wag       21.0 6   160.0\n",
       "Datsun 710          22.8 4   108.0\n",
       "Hornet 4 Drive      21.4 6   258.0\n",
       "Hornet Sportabout   18.7 8   360.0\n",
       "Valiant             18.1 6   225.0\n",
       "Duster 360          14.3 8   360.0\n",
       "Merc 240D           24.4 4   146.7\n",
       "Merc 230            22.8 4   140.8\n",
       "Merc 280            19.2 6   167.6\n",
       "Merc 280C           17.8 6   167.6\n",
       "Merc 450SE          16.4 8   275.8\n",
       "Merc 450SL          17.3 8   275.8\n",
       "Merc 450SLC         15.2 8   275.8\n",
       "Cadillac Fleetwood  10.4 8   472.0\n",
       "Lincoln Continental 10.4 8   460.0\n",
       "Chrysler Imperial   14.7 8   440.0\n",
       "Fiat 128            32.4 4    78.7\n",
       "Honda Civic         30.4 4    75.7\n",
       "Toyota Corolla      33.9 4    71.1\n",
       "Toyota Corona       21.5 4   120.1\n",
       "Dodge Challenger    15.5 8   318.0\n",
       "AMC Javelin         15.2 8   304.0\n",
       "Camaro Z28          13.3 8   350.0\n",
       "Pontiac Firebird    19.2 8   400.0\n",
       "Fiat X1-9           27.3 4    79.0\n",
       "Porsche 914-2       26.0 4   120.3\n",
       "Lotus Europa        30.4 4    95.1\n",
       "Ford Pantera L      15.8 8   351.0\n",
       "Ferrari Dino        19.7 6   145.0\n",
       "Maserati Bora       15.0 8   301.0\n",
       "Volvo 142E          21.4 4   121.0"
      ]
     },
     "metadata": {},
     "output_type": "display_data"
    }
   ],
   "source": [
    "mtcars [, 1: 3] # extrai as primeiras duas colunas de mtcars\n"
   ]
  },
  {
   "cell_type": "code",
   "execution_count": 261,
   "metadata": {
    "slideshow": {
     "slide_type": "slide"
    }
   },
   "outputs": [
    {
     "data": {
      "text/html": [
       "<style>\n",
       ".list-inline {list-style: none; margin:0; padding: 0}\n",
       ".list-inline>li {display: inline-block}\n",
       ".list-inline>li:not(:last-child)::after {content: \"\\00b7\"; padding: 0 .5ex}\n",
       "</style>\n",
       "<ol class=list-inline><li>16.46</li><li>17.02</li><li>18.61</li><li>19.44</li><li>17.02</li><li>20.22</li><li>15.84</li><li>20</li><li>22.9</li><li>18.3</li><li>18.9</li><li>17.4</li><li>17.6</li><li>18</li><li>17.98</li><li>17.82</li><li>17.42</li><li>19.47</li><li>18.52</li><li>19.9</li><li>20.01</li><li>16.87</li><li>17.3</li><li>15.41</li><li>17.05</li><li>18.9</li><li>16.7</li><li>16.9</li><li>14.5</li><li>15.5</li><li>14.6</li><li>18.6</li></ol>\n"
      ],
      "text/latex": [
       "\\begin{enumerate*}\n",
       "\\item 16.46\n",
       "\\item 17.02\n",
       "\\item 18.61\n",
       "\\item 19.44\n",
       "\\item 17.02\n",
       "\\item 20.22\n",
       "\\item 15.84\n",
       "\\item 20\n",
       "\\item 22.9\n",
       "\\item 18.3\n",
       "\\item 18.9\n",
       "\\item 17.4\n",
       "\\item 17.6\n",
       "\\item 18\n",
       "\\item 17.98\n",
       "\\item 17.82\n",
       "\\item 17.42\n",
       "\\item 19.47\n",
       "\\item 18.52\n",
       "\\item 19.9\n",
       "\\item 20.01\n",
       "\\item 16.87\n",
       "\\item 17.3\n",
       "\\item 15.41\n",
       "\\item 17.05\n",
       "\\item 18.9\n",
       "\\item 16.7\n",
       "\\item 16.9\n",
       "\\item 14.5\n",
       "\\item 15.5\n",
       "\\item 14.6\n",
       "\\item 18.6\n",
       "\\end{enumerate*}\n"
      ],
      "text/markdown": [
       "1. 16.46\n",
       "2. 17.02\n",
       "3. 18.61\n",
       "4. 19.44\n",
       "5. 17.02\n",
       "6. 20.22\n",
       "7. 15.84\n",
       "8. 20\n",
       "9. 22.9\n",
       "10. 18.3\n",
       "11. 18.9\n",
       "12. 17.4\n",
       "13. 17.6\n",
       "14. 18\n",
       "15. 17.98\n",
       "16. 17.82\n",
       "17. 17.42\n",
       "18. 19.47\n",
       "19. 18.52\n",
       "20. 19.9\n",
       "21. 20.01\n",
       "22. 16.87\n",
       "23. 17.3\n",
       "24. 15.41\n",
       "25. 17.05\n",
       "26. 18.9\n",
       "27. 16.7\n",
       "28. 16.9\n",
       "29. 14.5\n",
       "30. 15.5\n",
       "31. 14.6\n",
       "32. 18.6\n",
       "\n",
       "\n"
      ],
      "text/plain": [
       " [1] 16.46 17.02 18.61 19.44 17.02 20.22 15.84 20.00 22.90 18.30 18.90 17.40\n",
       "[13] 17.60 18.00 17.98 17.82 17.42 19.47 18.52 19.90 20.01 16.87 17.30 15.41\n",
       "[25] 17.05 18.90 16.70 16.90 14.50 15.50 14.60 18.60"
      ]
     },
     "metadata": {},
     "output_type": "display_data"
    }
   ],
   "source": [
    "mtcars [, 'qsec'] # extrair coluna específica\n"
   ]
  },
  {
   "cell_type": "code",
   "execution_count": 263,
   "metadata": {
    "slideshow": {
     "slide_type": "slide"
    }
   },
   "outputs": [
    {
     "data": {
      "text/html": [
       "<style>\n",
       ".list-inline {list-style: none; margin:0; padding: 0}\n",
       ".list-inline>li {display: inline-block}\n",
       ".list-inline>li:not(:last-child)::after {content: \"\\00b7\"; padding: 0 .5ex}\n",
       "</style>\n",
       "<ol class=list-inline><li>2.62</li><li>2.875</li><li>2.32</li><li>3.215</li><li>3.44</li><li>3.46</li><li>3.57</li><li>3.19</li><li>3.15</li><li>3.44</li><li>3.44</li><li>4.07</li><li>3.73</li><li>3.78</li><li>5.25</li><li>5.424</li><li>5.345</li><li>2.2</li><li>1.615</li><li>1.835</li><li>2.465</li><li>3.52</li><li>3.435</li><li>3.84</li><li>3.845</li><li>1.935</li><li>2.14</li><li>1.513</li><li>3.17</li><li>2.77</li><li>3.57</li><li>2.78</li></ol>\n"
      ],
      "text/latex": [
       "\\begin{enumerate*}\n",
       "\\item 2.62\n",
       "\\item 2.875\n",
       "\\item 2.32\n",
       "\\item 3.215\n",
       "\\item 3.44\n",
       "\\item 3.46\n",
       "\\item 3.57\n",
       "\\item 3.19\n",
       "\\item 3.15\n",
       "\\item 3.44\n",
       "\\item 3.44\n",
       "\\item 4.07\n",
       "\\item 3.73\n",
       "\\item 3.78\n",
       "\\item 5.25\n",
       "\\item 5.424\n",
       "\\item 5.345\n",
       "\\item 2.2\n",
       "\\item 1.615\n",
       "\\item 1.835\n",
       "\\item 2.465\n",
       "\\item 3.52\n",
       "\\item 3.435\n",
       "\\item 3.84\n",
       "\\item 3.845\n",
       "\\item 1.935\n",
       "\\item 2.14\n",
       "\\item 1.513\n",
       "\\item 3.17\n",
       "\\item 2.77\n",
       "\\item 3.57\n",
       "\\item 2.78\n",
       "\\end{enumerate*}\n"
      ],
      "text/markdown": [
       "1. 2.62\n",
       "2. 2.875\n",
       "3. 2.32\n",
       "4. 3.215\n",
       "5. 3.44\n",
       "6. 3.46\n",
       "7. 3.57\n",
       "8. 3.19\n",
       "9. 3.15\n",
       "10. 3.44\n",
       "11. 3.44\n",
       "12. 4.07\n",
       "13. 3.73\n",
       "14. 3.78\n",
       "15. 5.25\n",
       "16. 5.424\n",
       "17. 5.345\n",
       "18. 2.2\n",
       "19. 1.615\n",
       "20. 1.835\n",
       "21. 2.465\n",
       "22. 3.52\n",
       "23. 3.435\n",
       "24. 3.84\n",
       "25. 3.845\n",
       "26. 1.935\n",
       "27. 2.14\n",
       "28. 1.513\n",
       "29. 3.17\n",
       "30. 2.77\n",
       "31. 3.57\n",
       "32. 2.78\n",
       "\n",
       "\n"
      ],
      "text/plain": [
       " [1] 2.620 2.875 2.320 3.215 3.440 3.460 3.570 3.190 3.150 3.440 3.440 4.070\n",
       "[13] 3.730 3.780 5.250 5.424 5.345 2.200 1.615 1.835 2.465 3.520 3.435 3.840\n",
       "[25] 3.845 1.935 2.140 1.513 3.170 2.770 3.570 2.780"
      ]
     },
     "metadata": {},
     "output_type": "display_data"
    }
   ],
   "source": [
    "mtcars$wt # extract Coluna específica\n"
   ]
  },
  {
   "cell_type": "code",
   "execution_count": 265,
   "metadata": {
    "slideshow": {
     "slide_type": "slide"
    }
   },
   "outputs": [
    {
     "data": {
      "text/html": [
       "<table>\n",
       "<caption>A data.frame: 1 × 11</caption>\n",
       "<thead>\n",
       "\t<tr><th></th><th scope=col>mpg</th><th scope=col>cyl</th><th scope=col>disp</th><th scope=col>hp</th><th scope=col>drat</th><th scope=col>wt</th><th scope=col>qsec</th><th scope=col>vs</th><th scope=col>am</th><th scope=col>gear</th><th scope=col>carb</th></tr>\n",
       "\t<tr><th></th><th scope=col>&lt;dbl&gt;</th><th scope=col>&lt;dbl&gt;</th><th scope=col>&lt;dbl&gt;</th><th scope=col>&lt;dbl&gt;</th><th scope=col>&lt;dbl&gt;</th><th scope=col>&lt;dbl&gt;</th><th scope=col>&lt;dbl&gt;</th><th scope=col>&lt;dbl&gt;</th><th scope=col>&lt;dbl&gt;</th><th scope=col>&lt;dbl&gt;</th><th scope=col>&lt;dbl&gt;</th></tr>\n",
       "</thead>\n",
       "<tbody>\n",
       "\t<tr><th scope=row>Mazda RX4</th><td>21</td><td>6</td><td>160</td><td>110</td><td>3.9</td><td>2.62</td><td>16.46</td><td>0</td><td>1</td><td>4</td><td>4</td></tr>\n",
       "</tbody>\n",
       "</table>\n"
      ],
      "text/latex": [
       "A data.frame: 1 × 11\n",
       "\\begin{tabular}{r|lllllllllll}\n",
       "  & mpg & cyl & disp & hp & drat & wt & qsec & vs & am & gear & carb\\\\\n",
       "  & <dbl> & <dbl> & <dbl> & <dbl> & <dbl> & <dbl> & <dbl> & <dbl> & <dbl> & <dbl> & <dbl>\\\\\n",
       "\\hline\n",
       "\tMazda RX4 & 21 & 6 & 160 & 110 & 3.9 & 2.62 & 16.46 & 0 & 1 & 4 & 4\\\\\n",
       "\\end{tabular}\n"
      ],
      "text/markdown": [
       "\n",
       "A data.frame: 1 × 11\n",
       "\n",
       "| <!--/--> | mpg &lt;dbl&gt; | cyl &lt;dbl&gt; | disp &lt;dbl&gt; | hp &lt;dbl&gt; | drat &lt;dbl&gt; | wt &lt;dbl&gt; | qsec &lt;dbl&gt; | vs &lt;dbl&gt; | am &lt;dbl&gt; | gear &lt;dbl&gt; | carb &lt;dbl&gt; |\n",
       "|---|---|---|---|---|---|---|---|---|---|---|---|\n",
       "| Mazda RX4 | 21 | 6 | 160 | 110 | 3.9 | 2.62 | 16.46 | 0 | 1 | 4 | 4 |\n",
       "\n"
      ],
      "text/plain": [
       "          mpg cyl disp hp  drat wt   qsec  vs am gear carb\n",
       "Mazda RX4 21  6   160  110 3.9  2.62 16.46 0  1  4    4   "
      ]
     },
     "metadata": {},
     "output_type": "display_data"
    }
   ],
   "source": [
    "mtcars ['Mazda RX4',] # extrair linha específica"
   ]
  },
  {
   "cell_type": "code",
   "execution_count": 266,
   "metadata": {
    "slideshow": {
     "slide_type": "slide"
    }
   },
   "outputs": [
    {
     "data": {
      "text/html": [
       "<table>\n",
       "<caption>A data.frame: 32 × 1</caption>\n",
       "<thead>\n",
       "\t<tr><th></th><th scope=col>mpg</th></tr>\n",
       "\t<tr><th></th><th scope=col>&lt;dbl&gt;</th></tr>\n",
       "</thead>\n",
       "<tbody>\n",
       "\t<tr><th scope=row>Mazda RX4</th><td>21.0</td></tr>\n",
       "\t<tr><th scope=row>Mazda RX4 Wag</th><td>21.0</td></tr>\n",
       "\t<tr><th scope=row>Datsun 710</th><td>22.8</td></tr>\n",
       "\t<tr><th scope=row>Hornet 4 Drive</th><td>21.4</td></tr>\n",
       "\t<tr><th scope=row>Hornet Sportabout</th><td>18.7</td></tr>\n",
       "\t<tr><th scope=row>Valiant</th><td>18.1</td></tr>\n",
       "\t<tr><th scope=row>Duster 360</th><td>14.3</td></tr>\n",
       "\t<tr><th scope=row>Merc 240D</th><td>24.4</td></tr>\n",
       "\t<tr><th scope=row>Merc 230</th><td>22.8</td></tr>\n",
       "\t<tr><th scope=row>Merc 280</th><td>19.2</td></tr>\n",
       "\t<tr><th scope=row>Merc 280C</th><td>17.8</td></tr>\n",
       "\t<tr><th scope=row>Merc 450SE</th><td>16.4</td></tr>\n",
       "\t<tr><th scope=row>Merc 450SL</th><td>17.3</td></tr>\n",
       "\t<tr><th scope=row>Merc 450SLC</th><td>15.2</td></tr>\n",
       "\t<tr><th scope=row>Cadillac Fleetwood</th><td>10.4</td></tr>\n",
       "\t<tr><th scope=row>Lincoln Continental</th><td>10.4</td></tr>\n",
       "\t<tr><th scope=row>Chrysler Imperial</th><td>14.7</td></tr>\n",
       "\t<tr><th scope=row>Fiat 128</th><td>32.4</td></tr>\n",
       "\t<tr><th scope=row>Honda Civic</th><td>30.4</td></tr>\n",
       "\t<tr><th scope=row>Toyota Corolla</th><td>33.9</td></tr>\n",
       "\t<tr><th scope=row>Toyota Corona</th><td>21.5</td></tr>\n",
       "\t<tr><th scope=row>Dodge Challenger</th><td>15.5</td></tr>\n",
       "\t<tr><th scope=row>AMC Javelin</th><td>15.2</td></tr>\n",
       "\t<tr><th scope=row>Camaro Z28</th><td>13.3</td></tr>\n",
       "\t<tr><th scope=row>Pontiac Firebird</th><td>19.2</td></tr>\n",
       "\t<tr><th scope=row>Fiat X1-9</th><td>27.3</td></tr>\n",
       "\t<tr><th scope=row>Porsche 914-2</th><td>26.0</td></tr>\n",
       "\t<tr><th scope=row>Lotus Europa</th><td>30.4</td></tr>\n",
       "\t<tr><th scope=row>Ford Pantera L</th><td>15.8</td></tr>\n",
       "\t<tr><th scope=row>Ferrari Dino</th><td>19.7</td></tr>\n",
       "\t<tr><th scope=row>Maserati Bora</th><td>15.0</td></tr>\n",
       "\t<tr><th scope=row>Volvo 142E</th><td>21.4</td></tr>\n",
       "</tbody>\n",
       "</table>\n"
      ],
      "text/latex": [
       "A data.frame: 32 × 1\n",
       "\\begin{tabular}{r|l}\n",
       "  & mpg\\\\\n",
       "  & <dbl>\\\\\n",
       "\\hline\n",
       "\tMazda RX4 & 21.0\\\\\n",
       "\tMazda RX4 Wag & 21.0\\\\\n",
       "\tDatsun 710 & 22.8\\\\\n",
       "\tHornet 4 Drive & 21.4\\\\\n",
       "\tHornet Sportabout & 18.7\\\\\n",
       "\tValiant & 18.1\\\\\n",
       "\tDuster 360 & 14.3\\\\\n",
       "\tMerc 240D & 24.4\\\\\n",
       "\tMerc 230 & 22.8\\\\\n",
       "\tMerc 280 & 19.2\\\\\n",
       "\tMerc 280C & 17.8\\\\\n",
       "\tMerc 450SE & 16.4\\\\\n",
       "\tMerc 450SL & 17.3\\\\\n",
       "\tMerc 450SLC & 15.2\\\\\n",
       "\tCadillac Fleetwood & 10.4\\\\\n",
       "\tLincoln Continental & 10.4\\\\\n",
       "\tChrysler Imperial & 14.7\\\\\n",
       "\tFiat 128 & 32.4\\\\\n",
       "\tHonda Civic & 30.4\\\\\n",
       "\tToyota Corolla & 33.9\\\\\n",
       "\tToyota Corona & 21.5\\\\\n",
       "\tDodge Challenger & 15.5\\\\\n",
       "\tAMC Javelin & 15.2\\\\\n",
       "\tCamaro Z28 & 13.3\\\\\n",
       "\tPontiac Firebird & 19.2\\\\\n",
       "\tFiat X1-9 & 27.3\\\\\n",
       "\tPorsche 914-2 & 26.0\\\\\n",
       "\tLotus Europa & 30.4\\\\\n",
       "\tFord Pantera L & 15.8\\\\\n",
       "\tFerrari Dino & 19.7\\\\\n",
       "\tMaserati Bora & 15.0\\\\\n",
       "\tVolvo 142E & 21.4\\\\\n",
       "\\end{tabular}\n"
      ],
      "text/markdown": [
       "\n",
       "A data.frame: 32 × 1\n",
       "\n",
       "| <!--/--> | mpg &lt;dbl&gt; |\n",
       "|---|---|\n",
       "| Mazda RX4 | 21.0 |\n",
       "| Mazda RX4 Wag | 21.0 |\n",
       "| Datsun 710 | 22.8 |\n",
       "| Hornet 4 Drive | 21.4 |\n",
       "| Hornet Sportabout | 18.7 |\n",
       "| Valiant | 18.1 |\n",
       "| Duster 360 | 14.3 |\n",
       "| Merc 240D | 24.4 |\n",
       "| Merc 230 | 22.8 |\n",
       "| Merc 280 | 19.2 |\n",
       "| Merc 280C | 17.8 |\n",
       "| Merc 450SE | 16.4 |\n",
       "| Merc 450SL | 17.3 |\n",
       "| Merc 450SLC | 15.2 |\n",
       "| Cadillac Fleetwood | 10.4 |\n",
       "| Lincoln Continental | 10.4 |\n",
       "| Chrysler Imperial | 14.7 |\n",
       "| Fiat 128 | 32.4 |\n",
       "| Honda Civic | 30.4 |\n",
       "| Toyota Corolla | 33.9 |\n",
       "| Toyota Corona | 21.5 |\n",
       "| Dodge Challenger | 15.5 |\n",
       "| AMC Javelin | 15.2 |\n",
       "| Camaro Z28 | 13.3 |\n",
       "| Pontiac Firebird | 19.2 |\n",
       "| Fiat X1-9 | 27.3 |\n",
       "| Porsche 914-2 | 26.0 |\n",
       "| Lotus Europa | 30.4 |\n",
       "| Ford Pantera L | 15.8 |\n",
       "| Ferrari Dino | 19.7 |\n",
       "| Maserati Bora | 15.0 |\n",
       "| Volvo 142E | 21.4 |\n",
       "\n"
      ],
      "text/plain": [
       "                    mpg \n",
       "Mazda RX4           21.0\n",
       "Mazda RX4 Wag       21.0\n",
       "Datsun 710          22.8\n",
       "Hornet 4 Drive      21.4\n",
       "Hornet Sportabout   18.7\n",
       "Valiant             18.1\n",
       "Duster 360          14.3\n",
       "Merc 240D           24.4\n",
       "Merc 230            22.8\n",
       "Merc 280            19.2\n",
       "Merc 280C           17.8\n",
       "Merc 450SE          16.4\n",
       "Merc 450SL          17.3\n",
       "Merc 450SLC         15.2\n",
       "Cadillac Fleetwood  10.4\n",
       "Lincoln Continental 10.4\n",
       "Chrysler Imperial   14.7\n",
       "Fiat 128            32.4\n",
       "Honda Civic         30.4\n",
       "Toyota Corolla      33.9\n",
       "Toyota Corona       21.5\n",
       "Dodge Challenger    15.5\n",
       "AMC Javelin         15.2\n",
       "Camaro Z28          13.3\n",
       "Pontiac Firebird    19.2\n",
       "Fiat X1-9           27.3\n",
       "Porsche 914-2       26.0\n",
       "Lotus Europa        30.4\n",
       "Ford Pantera L      15.8\n",
       "Ferrari Dino        19.7\n",
       "Maserati Bora       15.0\n",
       "Volvo 142E          21.4"
      ]
     },
     "metadata": {},
     "output_type": "display_data"
    }
   ],
   "source": [
    "subset(mtcars, select = mpg) # extract / subset Coluna específica\n"
   ]
  },
  {
   "cell_type": "code",
   "execution_count": 269,
   "metadata": {
    "slideshow": {
     "slide_type": "slide"
    }
   },
   "outputs": [
    {
     "data": {
      "text/html": [
       "<table>\n",
       "<caption>A data.frame: 32 × 1</caption>\n",
       "<thead>\n",
       "\t<tr><th></th><th scope=col>cyl</th></tr>\n",
       "\t<tr><th></th><th scope=col>&lt;dbl&gt;</th></tr>\n",
       "</thead>\n",
       "<tbody>\n",
       "\t<tr><th scope=row>Mazda RX4</th><td>6</td></tr>\n",
       "\t<tr><th scope=row>Mazda RX4 Wag</th><td>6</td></tr>\n",
       "\t<tr><th scope=row>Datsun 710</th><td>4</td></tr>\n",
       "\t<tr><th scope=row>Hornet 4 Drive</th><td>6</td></tr>\n",
       "\t<tr><th scope=row>Hornet Sportabout</th><td>8</td></tr>\n",
       "\t<tr><th scope=row>Valiant</th><td>6</td></tr>\n",
       "\t<tr><th scope=row>Duster 360</th><td>8</td></tr>\n",
       "\t<tr><th scope=row>Merc 240D</th><td>4</td></tr>\n",
       "\t<tr><th scope=row>Merc 230</th><td>4</td></tr>\n",
       "\t<tr><th scope=row>Merc 280</th><td>6</td></tr>\n",
       "\t<tr><th scope=row>Merc 280C</th><td>6</td></tr>\n",
       "\t<tr><th scope=row>Merc 450SE</th><td>8</td></tr>\n",
       "\t<tr><th scope=row>Merc 450SL</th><td>8</td></tr>\n",
       "\t<tr><th scope=row>Merc 450SLC</th><td>8</td></tr>\n",
       "\t<tr><th scope=row>Cadillac Fleetwood</th><td>8</td></tr>\n",
       "\t<tr><th scope=row>Lincoln Continental</th><td>8</td></tr>\n",
       "\t<tr><th scope=row>Chrysler Imperial</th><td>8</td></tr>\n",
       "\t<tr><th scope=row>Fiat 128</th><td>4</td></tr>\n",
       "\t<tr><th scope=row>Honda Civic</th><td>4</td></tr>\n",
       "\t<tr><th scope=row>Toyota Corolla</th><td>4</td></tr>\n",
       "\t<tr><th scope=row>Toyota Corona</th><td>4</td></tr>\n",
       "\t<tr><th scope=row>Dodge Challenger</th><td>8</td></tr>\n",
       "\t<tr><th scope=row>AMC Javelin</th><td>8</td></tr>\n",
       "\t<tr><th scope=row>Camaro Z28</th><td>8</td></tr>\n",
       "\t<tr><th scope=row>Pontiac Firebird</th><td>8</td></tr>\n",
       "\t<tr><th scope=row>Fiat X1-9</th><td>4</td></tr>\n",
       "\t<tr><th scope=row>Porsche 914-2</th><td>4</td></tr>\n",
       "\t<tr><th scope=row>Lotus Europa</th><td>4</td></tr>\n",
       "\t<tr><th scope=row>Ford Pantera L</th><td>8</td></tr>\n",
       "\t<tr><th scope=row>Ferrari Dino</th><td>6</td></tr>\n",
       "\t<tr><th scope=row>Maserati Bora</th><td>8</td></tr>\n",
       "\t<tr><th scope=row>Volvo 142E</th><td>4</td></tr>\n",
       "</tbody>\n",
       "</table>\n"
      ],
      "text/latex": [
       "A data.frame: 32 × 1\n",
       "\\begin{tabular}{r|l}\n",
       "  & cyl\\\\\n",
       "  & <dbl>\\\\\n",
       "\\hline\n",
       "\tMazda RX4 & 6\\\\\n",
       "\tMazda RX4 Wag & 6\\\\\n",
       "\tDatsun 710 & 4\\\\\n",
       "\tHornet 4 Drive & 6\\\\\n",
       "\tHornet Sportabout & 8\\\\\n",
       "\tValiant & 6\\\\\n",
       "\tDuster 360 & 8\\\\\n",
       "\tMerc 240D & 4\\\\\n",
       "\tMerc 230 & 4\\\\\n",
       "\tMerc 280 & 6\\\\\n",
       "\tMerc 280C & 6\\\\\n",
       "\tMerc 450SE & 8\\\\\n",
       "\tMerc 450SL & 8\\\\\n",
       "\tMerc 450SLC & 8\\\\\n",
       "\tCadillac Fleetwood & 8\\\\\n",
       "\tLincoln Continental & 8\\\\\n",
       "\tChrysler Imperial & 8\\\\\n",
       "\tFiat 128 & 4\\\\\n",
       "\tHonda Civic & 4\\\\\n",
       "\tToyota Corolla & 4\\\\\n",
       "\tToyota Corona & 4\\\\\n",
       "\tDodge Challenger & 8\\\\\n",
       "\tAMC Javelin & 8\\\\\n",
       "\tCamaro Z28 & 8\\\\\n",
       "\tPontiac Firebird & 8\\\\\n",
       "\tFiat X1-9 & 4\\\\\n",
       "\tPorsche 914-2 & 4\\\\\n",
       "\tLotus Europa & 4\\\\\n",
       "\tFord Pantera L & 8\\\\\n",
       "\tFerrari Dino & 6\\\\\n",
       "\tMaserati Bora & 8\\\\\n",
       "\tVolvo 142E & 4\\\\\n",
       "\\end{tabular}\n"
      ],
      "text/markdown": [
       "\n",
       "A data.frame: 32 × 1\n",
       "\n",
       "| <!--/--> | cyl &lt;dbl&gt; |\n",
       "|---|---|\n",
       "| Mazda RX4 | 6 |\n",
       "| Mazda RX4 Wag | 6 |\n",
       "| Datsun 710 | 4 |\n",
       "| Hornet 4 Drive | 6 |\n",
       "| Hornet Sportabout | 8 |\n",
       "| Valiant | 6 |\n",
       "| Duster 360 | 8 |\n",
       "| Merc 240D | 4 |\n",
       "| Merc 230 | 4 |\n",
       "| Merc 280 | 6 |\n",
       "| Merc 280C | 6 |\n",
       "| Merc 450SE | 8 |\n",
       "| Merc 450SL | 8 |\n",
       "| Merc 450SLC | 8 |\n",
       "| Cadillac Fleetwood | 8 |\n",
       "| Lincoln Continental | 8 |\n",
       "| Chrysler Imperial | 8 |\n",
       "| Fiat 128 | 4 |\n",
       "| Honda Civic | 4 |\n",
       "| Toyota Corolla | 4 |\n",
       "| Toyota Corona | 4 |\n",
       "| Dodge Challenger | 8 |\n",
       "| AMC Javelin | 8 |\n",
       "| Camaro Z28 | 8 |\n",
       "| Pontiac Firebird | 8 |\n",
       "| Fiat X1-9 | 4 |\n",
       "| Porsche 914-2 | 4 |\n",
       "| Lotus Europa | 4 |\n",
       "| Ford Pantera L | 8 |\n",
       "| Ferrari Dino | 6 |\n",
       "| Maserati Bora | 8 |\n",
       "| Volvo 142E | 4 |\n",
       "\n"
      ],
      "text/plain": [
       "                    cyl\n",
       "Mazda RX4           6  \n",
       "Mazda RX4 Wag       6  \n",
       "Datsun 710          4  \n",
       "Hornet 4 Drive      6  \n",
       "Hornet Sportabout   8  \n",
       "Valiant             6  \n",
       "Duster 360          8  \n",
       "Merc 240D           4  \n",
       "Merc 230            4  \n",
       "Merc 280            6  \n",
       "Merc 280C           6  \n",
       "Merc 450SE          8  \n",
       "Merc 450SL          8  \n",
       "Merc 450SLC         8  \n",
       "Cadillac Fleetwood  8  \n",
       "Lincoln Continental 8  \n",
       "Chrysler Imperial   8  \n",
       "Fiat 128            4  \n",
       "Honda Civic         4  \n",
       "Toyota Corolla      4  \n",
       "Toyota Corona       4  \n",
       "Dodge Challenger    8  \n",
       "AMC Javelin         8  \n",
       "Camaro Z28          8  \n",
       "Pontiac Firebird    8  \n",
       "Fiat X1-9           4  \n",
       "Porsche 914-2       4  \n",
       "Lotus Europa        4  \n",
       "Ford Pantera L      8  \n",
       "Ferrari Dino        6  \n",
       "Maserati Bora       8  \n",
       "Volvo 142E          4  "
      ]
     },
     "metadata": {},
     "output_type": "display_data"
    }
   ],
   "source": [
    "subset(mtcars, select = 2) # extract / subset Coluna específica"
   ]
  },
  {
   "cell_type": "code",
   "execution_count": 130,
   "metadata": {
    "slideshow": {
     "slide_type": "slide"
    }
   },
   "outputs": [
    {
     "data": {
      "text/html": [
       "<table>\n",
       "<caption>A data.frame: 32 × 3</caption>\n",
       "<thead>\n",
       "\t<tr><th></th><th scope=col>mpg</th><th scope=col>cyl</th><th scope=col>disp</th></tr>\n",
       "\t<tr><th></th><th scope=col>&lt;dbl&gt;</th><th scope=col>&lt;dbl&gt;</th><th scope=col>&lt;dbl&gt;</th></tr>\n",
       "</thead>\n",
       "<tbody>\n",
       "\t<tr><th scope=row>Mazda RX4</th><td>21.0</td><td>6</td><td>160.0</td></tr>\n",
       "\t<tr><th scope=row>Mazda RX4 Wag</th><td>21.0</td><td>6</td><td>160.0</td></tr>\n",
       "\t<tr><th scope=row>Datsun 710</th><td>22.8</td><td>4</td><td>108.0</td></tr>\n",
       "\t<tr><th scope=row>Hornet 4 Drive</th><td>21.4</td><td>6</td><td>258.0</td></tr>\n",
       "\t<tr><th scope=row>Hornet Sportabout</th><td>18.7</td><td>8</td><td>360.0</td></tr>\n",
       "\t<tr><th scope=row>Valiant</th><td>18.1</td><td>6</td><td>225.0</td></tr>\n",
       "\t<tr><th scope=row>Duster 360</th><td>14.3</td><td>8</td><td>360.0</td></tr>\n",
       "\t<tr><th scope=row>Merc 240D</th><td>24.4</td><td>4</td><td>146.7</td></tr>\n",
       "\t<tr><th scope=row>Merc 230</th><td>22.8</td><td>4</td><td>140.8</td></tr>\n",
       "\t<tr><th scope=row>Merc 280</th><td>19.2</td><td>6</td><td>167.6</td></tr>\n",
       "\t<tr><th scope=row>Merc 280C</th><td>17.8</td><td>6</td><td>167.6</td></tr>\n",
       "\t<tr><th scope=row>Merc 450SE</th><td>16.4</td><td>8</td><td>275.8</td></tr>\n",
       "\t<tr><th scope=row>Merc 450SL</th><td>17.3</td><td>8</td><td>275.8</td></tr>\n",
       "\t<tr><th scope=row>Merc 450SLC</th><td>15.2</td><td>8</td><td>275.8</td></tr>\n",
       "\t<tr><th scope=row>Cadillac Fleetwood</th><td>10.4</td><td>8</td><td>472.0</td></tr>\n",
       "\t<tr><th scope=row>Lincoln Continental</th><td>10.4</td><td>8</td><td>460.0</td></tr>\n",
       "\t<tr><th scope=row>Chrysler Imperial</th><td>14.7</td><td>8</td><td>440.0</td></tr>\n",
       "\t<tr><th scope=row>Fiat 128</th><td>32.4</td><td>4</td><td> 78.7</td></tr>\n",
       "\t<tr><th scope=row>Honda Civic</th><td>30.4</td><td>4</td><td> 75.7</td></tr>\n",
       "\t<tr><th scope=row>Toyota Corolla</th><td>33.9</td><td>4</td><td> 71.1</td></tr>\n",
       "\t<tr><th scope=row>Toyota Corona</th><td>21.5</td><td>4</td><td>120.1</td></tr>\n",
       "\t<tr><th scope=row>Dodge Challenger</th><td>15.5</td><td>8</td><td>318.0</td></tr>\n",
       "\t<tr><th scope=row>AMC Javelin</th><td>15.2</td><td>8</td><td>304.0</td></tr>\n",
       "\t<tr><th scope=row>Camaro Z28</th><td>13.3</td><td>8</td><td>350.0</td></tr>\n",
       "\t<tr><th scope=row>Pontiac Firebird</th><td>19.2</td><td>8</td><td>400.0</td></tr>\n",
       "\t<tr><th scope=row>Fiat X1-9</th><td>27.3</td><td>4</td><td> 79.0</td></tr>\n",
       "\t<tr><th scope=row>Porsche 914-2</th><td>26.0</td><td>4</td><td>120.3</td></tr>\n",
       "\t<tr><th scope=row>Lotus Europa</th><td>30.4</td><td>4</td><td> 95.1</td></tr>\n",
       "\t<tr><th scope=row>Ford Pantera L</th><td>15.8</td><td>8</td><td>351.0</td></tr>\n",
       "\t<tr><th scope=row>Ferrari Dino</th><td>19.7</td><td>6</td><td>145.0</td></tr>\n",
       "\t<tr><th scope=row>Maserati Bora</th><td>15.0</td><td>8</td><td>301.0</td></tr>\n",
       "\t<tr><th scope=row>Volvo 142E</th><td>21.4</td><td>4</td><td>121.0</td></tr>\n",
       "</tbody>\n",
       "</table>\n"
      ],
      "text/latex": [
       "A data.frame: 32 × 3\n",
       "\\begin{tabular}{r|lll}\n",
       "  & mpg & cyl & disp\\\\\n",
       "  & <dbl> & <dbl> & <dbl>\\\\\n",
       "\\hline\n",
       "\tMazda RX4 & 21.0 & 6 & 160.0\\\\\n",
       "\tMazda RX4 Wag & 21.0 & 6 & 160.0\\\\\n",
       "\tDatsun 710 & 22.8 & 4 & 108.0\\\\\n",
       "\tHornet 4 Drive & 21.4 & 6 & 258.0\\\\\n",
       "\tHornet Sportabout & 18.7 & 8 & 360.0\\\\\n",
       "\tValiant & 18.1 & 6 & 225.0\\\\\n",
       "\tDuster 360 & 14.3 & 8 & 360.0\\\\\n",
       "\tMerc 240D & 24.4 & 4 & 146.7\\\\\n",
       "\tMerc 230 & 22.8 & 4 & 140.8\\\\\n",
       "\tMerc 280 & 19.2 & 6 & 167.6\\\\\n",
       "\tMerc 280C & 17.8 & 6 & 167.6\\\\\n",
       "\tMerc 450SE & 16.4 & 8 & 275.8\\\\\n",
       "\tMerc 450SL & 17.3 & 8 & 275.8\\\\\n",
       "\tMerc 450SLC & 15.2 & 8 & 275.8\\\\\n",
       "\tCadillac Fleetwood & 10.4 & 8 & 472.0\\\\\n",
       "\tLincoln Continental & 10.4 & 8 & 460.0\\\\\n",
       "\tChrysler Imperial & 14.7 & 8 & 440.0\\\\\n",
       "\tFiat 128 & 32.4 & 4 &  78.7\\\\\n",
       "\tHonda Civic & 30.4 & 4 &  75.7\\\\\n",
       "\tToyota Corolla & 33.9 & 4 &  71.1\\\\\n",
       "\tToyota Corona & 21.5 & 4 & 120.1\\\\\n",
       "\tDodge Challenger & 15.5 & 8 & 318.0\\\\\n",
       "\tAMC Javelin & 15.2 & 8 & 304.0\\\\\n",
       "\tCamaro Z28 & 13.3 & 8 & 350.0\\\\\n",
       "\tPontiac Firebird & 19.2 & 8 & 400.0\\\\\n",
       "\tFiat X1-9 & 27.3 & 4 &  79.0\\\\\n",
       "\tPorsche 914-2 & 26.0 & 4 & 120.3\\\\\n",
       "\tLotus Europa & 30.4 & 4 &  95.1\\\\\n",
       "\tFord Pantera L & 15.8 & 8 & 351.0\\\\\n",
       "\tFerrari Dino & 19.7 & 6 & 145.0\\\\\n",
       "\tMaserati Bora & 15.0 & 8 & 301.0\\\\\n",
       "\tVolvo 142E & 21.4 & 4 & 121.0\\\\\n",
       "\\end{tabular}\n"
      ],
      "text/markdown": [
       "\n",
       "A data.frame: 32 × 3\n",
       "\n",
       "| <!--/--> | mpg &lt;dbl&gt; | cyl &lt;dbl&gt; | disp &lt;dbl&gt; |\n",
       "|---|---|---|---|\n",
       "| Mazda RX4 | 21.0 | 6 | 160.0 |\n",
       "| Mazda RX4 Wag | 21.0 | 6 | 160.0 |\n",
       "| Datsun 710 | 22.8 | 4 | 108.0 |\n",
       "| Hornet 4 Drive | 21.4 | 6 | 258.0 |\n",
       "| Hornet Sportabout | 18.7 | 8 | 360.0 |\n",
       "| Valiant | 18.1 | 6 | 225.0 |\n",
       "| Duster 360 | 14.3 | 8 | 360.0 |\n",
       "| Merc 240D | 24.4 | 4 | 146.7 |\n",
       "| Merc 230 | 22.8 | 4 | 140.8 |\n",
       "| Merc 280 | 19.2 | 6 | 167.6 |\n",
       "| Merc 280C | 17.8 | 6 | 167.6 |\n",
       "| Merc 450SE | 16.4 | 8 | 275.8 |\n",
       "| Merc 450SL | 17.3 | 8 | 275.8 |\n",
       "| Merc 450SLC | 15.2 | 8 | 275.8 |\n",
       "| Cadillac Fleetwood | 10.4 | 8 | 472.0 |\n",
       "| Lincoln Continental | 10.4 | 8 | 460.0 |\n",
       "| Chrysler Imperial | 14.7 | 8 | 440.0 |\n",
       "| Fiat 128 | 32.4 | 4 |  78.7 |\n",
       "| Honda Civic | 30.4 | 4 |  75.7 |\n",
       "| Toyota Corolla | 33.9 | 4 |  71.1 |\n",
       "| Toyota Corona | 21.5 | 4 | 120.1 |\n",
       "| Dodge Challenger | 15.5 | 8 | 318.0 |\n",
       "| AMC Javelin | 15.2 | 8 | 304.0 |\n",
       "| Camaro Z28 | 13.3 | 8 | 350.0 |\n",
       "| Pontiac Firebird | 19.2 | 8 | 400.0 |\n",
       "| Fiat X1-9 | 27.3 | 4 |  79.0 |\n",
       "| Porsche 914-2 | 26.0 | 4 | 120.3 |\n",
       "| Lotus Europa | 30.4 | 4 |  95.1 |\n",
       "| Ford Pantera L | 15.8 | 8 | 351.0 |\n",
       "| Ferrari Dino | 19.7 | 6 | 145.0 |\n",
       "| Maserati Bora | 15.0 | 8 | 301.0 |\n",
       "| Volvo 142E | 21.4 | 4 | 121.0 |\n",
       "\n"
      ],
      "text/plain": [
       "                    mpg  cyl disp \n",
       "Mazda RX4           21.0 6   160.0\n",
       "Mazda RX4 Wag       21.0 6   160.0\n",
       "Datsun 710          22.8 4   108.0\n",
       "Hornet 4 Drive      21.4 6   258.0\n",
       "Hornet Sportabout   18.7 8   360.0\n",
       "Valiant             18.1 6   225.0\n",
       "Duster 360          14.3 8   360.0\n",
       "Merc 240D           24.4 4   146.7\n",
       "Merc 230            22.8 4   140.8\n",
       "Merc 280            19.2 6   167.6\n",
       "Merc 280C           17.8 6   167.6\n",
       "Merc 450SE          16.4 8   275.8\n",
       "Merc 450SL          17.3 8   275.8\n",
       "Merc 450SLC         15.2 8   275.8\n",
       "Cadillac Fleetwood  10.4 8   472.0\n",
       "Lincoln Continental 10.4 8   460.0\n",
       "Chrysler Imperial   14.7 8   440.0\n",
       "Fiat 128            32.4 4    78.7\n",
       "Honda Civic         30.4 4    75.7\n",
       "Toyota Corolla      33.9 4    71.1\n",
       "Toyota Corona       21.5 4   120.1\n",
       "Dodge Challenger    15.5 8   318.0\n",
       "AMC Javelin         15.2 8   304.0\n",
       "Camaro Z28          13.3 8   350.0\n",
       "Pontiac Firebird    19.2 8   400.0\n",
       "Fiat X1-9           27.3 4    79.0\n",
       "Porsche 914-2       26.0 4   120.3\n",
       "Lotus Europa        30.4 4    95.1\n",
       "Ford Pantera L      15.8 8   351.0\n",
       "Ferrari Dino        19.7 6   145.0\n",
       "Maserati Bora       15.0 8   301.0\n",
       "Volvo 142E          21.4 4   121.0"
      ]
     },
     "metadata": {},
     "output_type": "display_data"
    }
   ],
   "source": [
    "subset(mtcars, select = c(1,2,3)) # extrair / subconjunto da primeira e segunda coluna\n"
   ]
  },
  {
   "cell_type": "code",
   "execution_count": 131,
   "metadata": {
    "slideshow": {
     "slide_type": "slide"
    }
   },
   "outputs": [
    {
     "data": {
      "text/html": [
       "<table>\n",
       "<caption>A data.frame: 32 × 5</caption>\n",
       "<thead>\n",
       "\t<tr><th></th><th scope=col>mpg</th><th scope=col>cyl</th><th scope=col>disp</th><th scope=col>hp</th><th scope=col>drat</th></tr>\n",
       "\t<tr><th></th><th scope=col>&lt;dbl&gt;</th><th scope=col>&lt;dbl&gt;</th><th scope=col>&lt;dbl&gt;</th><th scope=col>&lt;dbl&gt;</th><th scope=col>&lt;dbl&gt;</th></tr>\n",
       "</thead>\n",
       "<tbody>\n",
       "\t<tr><th scope=row>Mazda RX4</th><td>21.0</td><td>6</td><td>160.0</td><td>110</td><td>3.90</td></tr>\n",
       "\t<tr><th scope=row>Mazda RX4 Wag</th><td>21.0</td><td>6</td><td>160.0</td><td>110</td><td>3.90</td></tr>\n",
       "\t<tr><th scope=row>Datsun 710</th><td>22.8</td><td>4</td><td>108.0</td><td> 93</td><td>3.85</td></tr>\n",
       "\t<tr><th scope=row>Hornet 4 Drive</th><td>21.4</td><td>6</td><td>258.0</td><td>110</td><td>3.08</td></tr>\n",
       "\t<tr><th scope=row>Hornet Sportabout</th><td>18.7</td><td>8</td><td>360.0</td><td>175</td><td>3.15</td></tr>\n",
       "\t<tr><th scope=row>Valiant</th><td>18.1</td><td>6</td><td>225.0</td><td>105</td><td>2.76</td></tr>\n",
       "\t<tr><th scope=row>Duster 360</th><td>14.3</td><td>8</td><td>360.0</td><td>245</td><td>3.21</td></tr>\n",
       "\t<tr><th scope=row>Merc 240D</th><td>24.4</td><td>4</td><td>146.7</td><td> 62</td><td>3.69</td></tr>\n",
       "\t<tr><th scope=row>Merc 230</th><td>22.8</td><td>4</td><td>140.8</td><td> 95</td><td>3.92</td></tr>\n",
       "\t<tr><th scope=row>Merc 280</th><td>19.2</td><td>6</td><td>167.6</td><td>123</td><td>3.92</td></tr>\n",
       "\t<tr><th scope=row>Merc 280C</th><td>17.8</td><td>6</td><td>167.6</td><td>123</td><td>3.92</td></tr>\n",
       "\t<tr><th scope=row>Merc 450SE</th><td>16.4</td><td>8</td><td>275.8</td><td>180</td><td>3.07</td></tr>\n",
       "\t<tr><th scope=row>Merc 450SL</th><td>17.3</td><td>8</td><td>275.8</td><td>180</td><td>3.07</td></tr>\n",
       "\t<tr><th scope=row>Merc 450SLC</th><td>15.2</td><td>8</td><td>275.8</td><td>180</td><td>3.07</td></tr>\n",
       "\t<tr><th scope=row>Cadillac Fleetwood</th><td>10.4</td><td>8</td><td>472.0</td><td>205</td><td>2.93</td></tr>\n",
       "\t<tr><th scope=row>Lincoln Continental</th><td>10.4</td><td>8</td><td>460.0</td><td>215</td><td>3.00</td></tr>\n",
       "\t<tr><th scope=row>Chrysler Imperial</th><td>14.7</td><td>8</td><td>440.0</td><td>230</td><td>3.23</td></tr>\n",
       "\t<tr><th scope=row>Fiat 128</th><td>32.4</td><td>4</td><td> 78.7</td><td> 66</td><td>4.08</td></tr>\n",
       "\t<tr><th scope=row>Honda Civic</th><td>30.4</td><td>4</td><td> 75.7</td><td> 52</td><td>4.93</td></tr>\n",
       "\t<tr><th scope=row>Toyota Corolla</th><td>33.9</td><td>4</td><td> 71.1</td><td> 65</td><td>4.22</td></tr>\n",
       "\t<tr><th scope=row>Toyota Corona</th><td>21.5</td><td>4</td><td>120.1</td><td> 97</td><td>3.70</td></tr>\n",
       "\t<tr><th scope=row>Dodge Challenger</th><td>15.5</td><td>8</td><td>318.0</td><td>150</td><td>2.76</td></tr>\n",
       "\t<tr><th scope=row>AMC Javelin</th><td>15.2</td><td>8</td><td>304.0</td><td>150</td><td>3.15</td></tr>\n",
       "\t<tr><th scope=row>Camaro Z28</th><td>13.3</td><td>8</td><td>350.0</td><td>245</td><td>3.73</td></tr>\n",
       "\t<tr><th scope=row>Pontiac Firebird</th><td>19.2</td><td>8</td><td>400.0</td><td>175</td><td>3.08</td></tr>\n",
       "\t<tr><th scope=row>Fiat X1-9</th><td>27.3</td><td>4</td><td> 79.0</td><td> 66</td><td>4.08</td></tr>\n",
       "\t<tr><th scope=row>Porsche 914-2</th><td>26.0</td><td>4</td><td>120.3</td><td> 91</td><td>4.43</td></tr>\n",
       "\t<tr><th scope=row>Lotus Europa</th><td>30.4</td><td>4</td><td> 95.1</td><td>113</td><td>3.77</td></tr>\n",
       "\t<tr><th scope=row>Ford Pantera L</th><td>15.8</td><td>8</td><td>351.0</td><td>264</td><td>4.22</td></tr>\n",
       "\t<tr><th scope=row>Ferrari Dino</th><td>19.7</td><td>6</td><td>145.0</td><td>175</td><td>3.62</td></tr>\n",
       "\t<tr><th scope=row>Maserati Bora</th><td>15.0</td><td>8</td><td>301.0</td><td>335</td><td>3.54</td></tr>\n",
       "\t<tr><th scope=row>Volvo 142E</th><td>21.4</td><td>4</td><td>121.0</td><td>109</td><td>4.11</td></tr>\n",
       "</tbody>\n",
       "</table>\n"
      ],
      "text/latex": [
       "A data.frame: 32 × 5\n",
       "\\begin{tabular}{r|lllll}\n",
       "  & mpg & cyl & disp & hp & drat\\\\\n",
       "  & <dbl> & <dbl> & <dbl> & <dbl> & <dbl>\\\\\n",
       "\\hline\n",
       "\tMazda RX4 & 21.0 & 6 & 160.0 & 110 & 3.90\\\\\n",
       "\tMazda RX4 Wag & 21.0 & 6 & 160.0 & 110 & 3.90\\\\\n",
       "\tDatsun 710 & 22.8 & 4 & 108.0 &  93 & 3.85\\\\\n",
       "\tHornet 4 Drive & 21.4 & 6 & 258.0 & 110 & 3.08\\\\\n",
       "\tHornet Sportabout & 18.7 & 8 & 360.0 & 175 & 3.15\\\\\n",
       "\tValiant & 18.1 & 6 & 225.0 & 105 & 2.76\\\\\n",
       "\tDuster 360 & 14.3 & 8 & 360.0 & 245 & 3.21\\\\\n",
       "\tMerc 240D & 24.4 & 4 & 146.7 &  62 & 3.69\\\\\n",
       "\tMerc 230 & 22.8 & 4 & 140.8 &  95 & 3.92\\\\\n",
       "\tMerc 280 & 19.2 & 6 & 167.6 & 123 & 3.92\\\\\n",
       "\tMerc 280C & 17.8 & 6 & 167.6 & 123 & 3.92\\\\\n",
       "\tMerc 450SE & 16.4 & 8 & 275.8 & 180 & 3.07\\\\\n",
       "\tMerc 450SL & 17.3 & 8 & 275.8 & 180 & 3.07\\\\\n",
       "\tMerc 450SLC & 15.2 & 8 & 275.8 & 180 & 3.07\\\\\n",
       "\tCadillac Fleetwood & 10.4 & 8 & 472.0 & 205 & 2.93\\\\\n",
       "\tLincoln Continental & 10.4 & 8 & 460.0 & 215 & 3.00\\\\\n",
       "\tChrysler Imperial & 14.7 & 8 & 440.0 & 230 & 3.23\\\\\n",
       "\tFiat 128 & 32.4 & 4 &  78.7 &  66 & 4.08\\\\\n",
       "\tHonda Civic & 30.4 & 4 &  75.7 &  52 & 4.93\\\\\n",
       "\tToyota Corolla & 33.9 & 4 &  71.1 &  65 & 4.22\\\\\n",
       "\tToyota Corona & 21.5 & 4 & 120.1 &  97 & 3.70\\\\\n",
       "\tDodge Challenger & 15.5 & 8 & 318.0 & 150 & 2.76\\\\\n",
       "\tAMC Javelin & 15.2 & 8 & 304.0 & 150 & 3.15\\\\\n",
       "\tCamaro Z28 & 13.3 & 8 & 350.0 & 245 & 3.73\\\\\n",
       "\tPontiac Firebird & 19.2 & 8 & 400.0 & 175 & 3.08\\\\\n",
       "\tFiat X1-9 & 27.3 & 4 &  79.0 &  66 & 4.08\\\\\n",
       "\tPorsche 914-2 & 26.0 & 4 & 120.3 &  91 & 4.43\\\\\n",
       "\tLotus Europa & 30.4 & 4 &  95.1 & 113 & 3.77\\\\\n",
       "\tFord Pantera L & 15.8 & 8 & 351.0 & 264 & 4.22\\\\\n",
       "\tFerrari Dino & 19.7 & 6 & 145.0 & 175 & 3.62\\\\\n",
       "\tMaserati Bora & 15.0 & 8 & 301.0 & 335 & 3.54\\\\\n",
       "\tVolvo 142E & 21.4 & 4 & 121.0 & 109 & 4.11\\\\\n",
       "\\end{tabular}\n"
      ],
      "text/markdown": [
       "\n",
       "A data.frame: 32 × 5\n",
       "\n",
       "| <!--/--> | mpg &lt;dbl&gt; | cyl &lt;dbl&gt; | disp &lt;dbl&gt; | hp &lt;dbl&gt; | drat &lt;dbl&gt; |\n",
       "|---|---|---|---|---|---|\n",
       "| Mazda RX4 | 21.0 | 6 | 160.0 | 110 | 3.90 |\n",
       "| Mazda RX4 Wag | 21.0 | 6 | 160.0 | 110 | 3.90 |\n",
       "| Datsun 710 | 22.8 | 4 | 108.0 |  93 | 3.85 |\n",
       "| Hornet 4 Drive | 21.4 | 6 | 258.0 | 110 | 3.08 |\n",
       "| Hornet Sportabout | 18.7 | 8 | 360.0 | 175 | 3.15 |\n",
       "| Valiant | 18.1 | 6 | 225.0 | 105 | 2.76 |\n",
       "| Duster 360 | 14.3 | 8 | 360.0 | 245 | 3.21 |\n",
       "| Merc 240D | 24.4 | 4 | 146.7 |  62 | 3.69 |\n",
       "| Merc 230 | 22.8 | 4 | 140.8 |  95 | 3.92 |\n",
       "| Merc 280 | 19.2 | 6 | 167.6 | 123 | 3.92 |\n",
       "| Merc 280C | 17.8 | 6 | 167.6 | 123 | 3.92 |\n",
       "| Merc 450SE | 16.4 | 8 | 275.8 | 180 | 3.07 |\n",
       "| Merc 450SL | 17.3 | 8 | 275.8 | 180 | 3.07 |\n",
       "| Merc 450SLC | 15.2 | 8 | 275.8 | 180 | 3.07 |\n",
       "| Cadillac Fleetwood | 10.4 | 8 | 472.0 | 205 | 2.93 |\n",
       "| Lincoln Continental | 10.4 | 8 | 460.0 | 215 | 3.00 |\n",
       "| Chrysler Imperial | 14.7 | 8 | 440.0 | 230 | 3.23 |\n",
       "| Fiat 128 | 32.4 | 4 |  78.7 |  66 | 4.08 |\n",
       "| Honda Civic | 30.4 | 4 |  75.7 |  52 | 4.93 |\n",
       "| Toyota Corolla | 33.9 | 4 |  71.1 |  65 | 4.22 |\n",
       "| Toyota Corona | 21.5 | 4 | 120.1 |  97 | 3.70 |\n",
       "| Dodge Challenger | 15.5 | 8 | 318.0 | 150 | 2.76 |\n",
       "| AMC Javelin | 15.2 | 8 | 304.0 | 150 | 3.15 |\n",
       "| Camaro Z28 | 13.3 | 8 | 350.0 | 245 | 3.73 |\n",
       "| Pontiac Firebird | 19.2 | 8 | 400.0 | 175 | 3.08 |\n",
       "| Fiat X1-9 | 27.3 | 4 |  79.0 |  66 | 4.08 |\n",
       "| Porsche 914-2 | 26.0 | 4 | 120.3 |  91 | 4.43 |\n",
       "| Lotus Europa | 30.4 | 4 |  95.1 | 113 | 3.77 |\n",
       "| Ford Pantera L | 15.8 | 8 | 351.0 | 264 | 4.22 |\n",
       "| Ferrari Dino | 19.7 | 6 | 145.0 | 175 | 3.62 |\n",
       "| Maserati Bora | 15.0 | 8 | 301.0 | 335 | 3.54 |\n",
       "| Volvo 142E | 21.4 | 4 | 121.0 | 109 | 4.11 |\n",
       "\n"
      ],
      "text/plain": [
       "                    mpg  cyl disp  hp  drat\n",
       "Mazda RX4           21.0 6   160.0 110 3.90\n",
       "Mazda RX4 Wag       21.0 6   160.0 110 3.90\n",
       "Datsun 710          22.8 4   108.0  93 3.85\n",
       "Hornet 4 Drive      21.4 6   258.0 110 3.08\n",
       "Hornet Sportabout   18.7 8   360.0 175 3.15\n",
       "Valiant             18.1 6   225.0 105 2.76\n",
       "Duster 360          14.3 8   360.0 245 3.21\n",
       "Merc 240D           24.4 4   146.7  62 3.69\n",
       "Merc 230            22.8 4   140.8  95 3.92\n",
       "Merc 280            19.2 6   167.6 123 3.92\n",
       "Merc 280C           17.8 6   167.6 123 3.92\n",
       "Merc 450SE          16.4 8   275.8 180 3.07\n",
       "Merc 450SL          17.3 8   275.8 180 3.07\n",
       "Merc 450SLC         15.2 8   275.8 180 3.07\n",
       "Cadillac Fleetwood  10.4 8   472.0 205 2.93\n",
       "Lincoln Continental 10.4 8   460.0 215 3.00\n",
       "Chrysler Imperial   14.7 8   440.0 230 3.23\n",
       "Fiat 128            32.4 4    78.7  66 4.08\n",
       "Honda Civic         30.4 4    75.7  52 4.93\n",
       "Toyota Corolla      33.9 4    71.1  65 4.22\n",
       "Toyota Corona       21.5 4   120.1  97 3.70\n",
       "Dodge Challenger    15.5 8   318.0 150 2.76\n",
       "AMC Javelin         15.2 8   304.0 150 3.15\n",
       "Camaro Z28          13.3 8   350.0 245 3.73\n",
       "Pontiac Firebird    19.2 8   400.0 175 3.08\n",
       "Fiat X1-9           27.3 4    79.0  66 4.08\n",
       "Porsche 914-2       26.0 4   120.3  91 4.43\n",
       "Lotus Europa        30.4 4    95.1 113 3.77\n",
       "Ford Pantera L      15.8 8   351.0 264 4.22\n",
       "Ferrari Dino        19.7 6   145.0 175 3.62\n",
       "Maserati Bora       15.0 8   301.0 335 3.54\n",
       "Volvo 142E          21.4 4   121.0 109 4.11"
      ]
     },
     "metadata": {},
     "output_type": "display_data"
    }
   ],
   "source": [
    "subset(mtcars, select = c(1: 5)) # extract / subset Colunas específicas"
   ]
  },
  {
   "cell_type": "code",
   "execution_count": 270,
   "metadata": {
    "slideshow": {
     "slide_type": "slide"
    }
   },
   "outputs": [
    {
     "data": {
      "text/html": [
       "10.4"
      ],
      "text/latex": [
       "10.4"
      ],
      "text/markdown": [
       "10.4"
      ],
      "text/plain": [
       "[1] 10.4"
      ]
     },
     "metadata": {},
     "output_type": "display_data"
    }
   ],
   "source": [
    "min(mtcars$mpg) # encontre o mínimo de milhas/galão (US)\n"
   ]
  },
  {
   "cell_type": "code",
   "execution_count": 271,
   "metadata": {
    "slideshow": {
     "slide_type": "slide"
    }
   },
   "outputs": [
    {
     "data": {
      "text/html": [
       "33.9"
      ],
      "text/latex": [
       "33.9"
      ],
      "text/markdown": [
       "33.9"
      ],
      "text/plain": [
       "[1] 33.9"
      ]
     },
     "metadata": {},
     "output_type": "display_data"
    }
   ],
   "source": [
    "max(mtcars$mpg) # encontre o máximo de milhas / galão (EUA)\n"
   ]
  },
  {
   "cell_type": "code",
   "execution_count": 272,
   "metadata": {
    "slideshow": {
     "slide_type": "slide"
    }
   },
   "outputs": [
    {
     "data": {
      "text/html": [
       "20.090625"
      ],
      "text/latex": [
       "20.090625"
      ],
      "text/markdown": [
       "20.090625"
      ],
      "text/plain": [
       "[1] 20.09062"
      ]
     },
     "metadata": {},
     "output_type": "display_data"
    }
   ],
   "source": [
    "mean(mtcars$mpg, na.rm = TRUE) # encontre a média de milhas / galão (EUA)\n"
   ]
  },
  {
   "cell_type": "code",
   "execution_count": 273,
   "metadata": {
    "slideshow": {
     "slide_type": "slide"
    }
   },
   "outputs": [
    {
     "data": {
      "text/html": [
       "36.3241028225806"
      ],
      "text/latex": [
       "36.3241028225806"
      ],
      "text/markdown": [
       "36.3241028225806"
      ],
      "text/plain": [
       "[1] 36.3241"
      ]
     },
     "metadata": {},
     "output_type": "display_data"
    }
   ],
   "source": [
    "var(mtcars$mpg, na.rm = TRUE) # encontre a variancia de milhas / galão (EUA)\n"
   ]
  },
  {
   "cell_type": "code",
   "execution_count": 274,
   "metadata": {
    "slideshow": {
     "slide_type": "slide"
    }
   },
   "outputs": [
    {
     "data": {
      "text/plain": [
       "   Min. 1st Qu.  Median    Mean 3rd Qu.    Max. \n",
       "  10.40   15.43   19.20   20.09   22.80   33.90 "
      ]
     },
     "metadata": {},
     "output_type": "display_data"
    }
   ],
   "source": [
    "summary(mtcars$mpg, na.rm = TRUE) # encontre o desvio padrão Milhas / galão (EUA)"
   ]
  },
  {
   "cell_type": "markdown",
   "metadata": {
    "slideshow": {
     "slide_type": "slide"
    }
   },
   "source": [
    "Adicionar variáveis a um `data.frame` pode ser feito atribuindo novos vetores.   \n",
    "\n",
    "O o importante do data.frame é que ele aceita quase todos os tipos de vetores, ou seja, inteiros, numéricos, lógicos, fatores e caracteres."
   ]
  },
  {
   "cell_type": "code",
   "execution_count": 275,
   "metadata": {
    "slideshow": {
     "slide_type": "slide"
    }
   },
   "outputs": [],
   "source": [
    "mtcars$newvar1 <- mtcars$mpg - mtcars$qsec\n"
   ]
  },
  {
   "cell_type": "code",
   "execution_count": 276,
   "metadata": {
    "slideshow": {
     "slide_type": "slide"
    }
   },
   "outputs": [
    {
     "data": {
      "text/html": [
       "<style>\n",
       ".list-inline {list-style: none; margin:0; padding: 0}\n",
       ".list-inline>li {display: inline-block}\n",
       ".list-inline>li:not(:last-child)::after {content: \"\\00b7\"; padding: 0 .5ex}\n",
       "</style>\n",
       "<ol class=list-inline><li>TRUE</li><li>TRUE</li><li>TRUE</li><li>TRUE</li><li>TRUE</li><li>FALSE</li><li>FALSE</li><li>TRUE</li><li>FALSE</li><li>TRUE</li><li>FALSE</li><li>FALSE</li><li>FALSE</li><li>FALSE</li><li>FALSE</li><li>FALSE</li><li>FALSE</li><li>TRUE</li><li>TRUE</li><li>TRUE</li><li>TRUE</li><li>FALSE</li><li>FALSE</li><li>FALSE</li><li>TRUE</li><li>TRUE</li><li>TRUE</li><li>TRUE</li><li>TRUE</li><li>TRUE</li><li>TRUE</li><li>TRUE</li></ol>\n"
      ],
      "text/latex": [
       "\\begin{enumerate*}\n",
       "\\item TRUE\n",
       "\\item TRUE\n",
       "\\item TRUE\n",
       "\\item TRUE\n",
       "\\item TRUE\n",
       "\\item FALSE\n",
       "\\item FALSE\n",
       "\\item TRUE\n",
       "\\item FALSE\n",
       "\\item TRUE\n",
       "\\item FALSE\n",
       "\\item FALSE\n",
       "\\item FALSE\n",
       "\\item FALSE\n",
       "\\item FALSE\n",
       "\\item FALSE\n",
       "\\item FALSE\n",
       "\\item TRUE\n",
       "\\item TRUE\n",
       "\\item TRUE\n",
       "\\item TRUE\n",
       "\\item FALSE\n",
       "\\item FALSE\n",
       "\\item FALSE\n",
       "\\item TRUE\n",
       "\\item TRUE\n",
       "\\item TRUE\n",
       "\\item TRUE\n",
       "\\item TRUE\n",
       "\\item TRUE\n",
       "\\item TRUE\n",
       "\\item TRUE\n",
       "\\end{enumerate*}\n"
      ],
      "text/markdown": [
       "1. TRUE\n",
       "2. TRUE\n",
       "3. TRUE\n",
       "4. TRUE\n",
       "5. TRUE\n",
       "6. FALSE\n",
       "7. FALSE\n",
       "8. TRUE\n",
       "9. FALSE\n",
       "10. TRUE\n",
       "11. FALSE\n",
       "12. FALSE\n",
       "13. FALSE\n",
       "14. FALSE\n",
       "15. FALSE\n",
       "16. FALSE\n",
       "17. FALSE\n",
       "18. TRUE\n",
       "19. TRUE\n",
       "20. TRUE\n",
       "21. TRUE\n",
       "22. FALSE\n",
       "23. FALSE\n",
       "24. FALSE\n",
       "25. TRUE\n",
       "26. TRUE\n",
       "27. TRUE\n",
       "28. TRUE\n",
       "29. TRUE\n",
       "30. TRUE\n",
       "31. TRUE\n",
       "32. TRUE\n",
       "\n",
       "\n"
      ],
      "text/plain": [
       " [1]  TRUE  TRUE  TRUE  TRUE  TRUE FALSE FALSE  TRUE FALSE  TRUE FALSE FALSE\n",
       "[13] FALSE FALSE FALSE FALSE FALSE  TRUE  TRUE  TRUE  TRUE FALSE FALSE FALSE\n",
       "[25]  TRUE  TRUE  TRUE  TRUE  TRUE  TRUE  TRUE  TRUE"
      ]
     },
     "metadata": {},
     "output_type": "display_data"
    }
   ],
   "source": [
    "mtcars$newvar2 <- mtcars$newvar1 > 0\n",
    "mtcars$newvar1>0"
   ]
  },
  {
   "cell_type": "code",
   "execution_count": 278,
   "metadata": {
    "slideshow": {
     "slide_type": "slide"
    }
   },
   "outputs": [
    {
     "data": {
      "text/html": [
       "<style>\n",
       ".list-inline {list-style: none; margin:0; padding: 0}\n",
       ".list-inline>li {display: inline-block}\n",
       ".list-inline>li:not(:last-child)::after {content: \"\\00b7\"; padding: 0 .5ex}\n",
       "</style>\n",
       "<ol class=list-inline><li>'good'</li><li>'good'</li><li>'good'</li><li>'good'</li><li>'good'</li><li>'bad'</li><li>'bad'</li><li>'good'</li><li>'bad'</li><li>'good'</li><li>'bad'</li><li>'bad'</li><li>'bad'</li><li>'bad'</li><li>'bad'</li><li>'bad'</li><li>'bad'</li><li>'good'</li><li>'good'</li><li>'good'</li><li>'good'</li><li>'bad'</li><li>'bad'</li><li>'bad'</li><li>'good'</li><li>'good'</li><li>'good'</li><li>'good'</li><li>'good'</li><li>'good'</li><li>'good'</li><li>'good'</li></ol>\n"
      ],
      "text/latex": [
       "\\begin{enumerate*}\n",
       "\\item 'good'\n",
       "\\item 'good'\n",
       "\\item 'good'\n",
       "\\item 'good'\n",
       "\\item 'good'\n",
       "\\item 'bad'\n",
       "\\item 'bad'\n",
       "\\item 'good'\n",
       "\\item 'bad'\n",
       "\\item 'good'\n",
       "\\item 'bad'\n",
       "\\item 'bad'\n",
       "\\item 'bad'\n",
       "\\item 'bad'\n",
       "\\item 'bad'\n",
       "\\item 'bad'\n",
       "\\item 'bad'\n",
       "\\item 'good'\n",
       "\\item 'good'\n",
       "\\item 'good'\n",
       "\\item 'good'\n",
       "\\item 'bad'\n",
       "\\item 'bad'\n",
       "\\item 'bad'\n",
       "\\item 'good'\n",
       "\\item 'good'\n",
       "\\item 'good'\n",
       "\\item 'good'\n",
       "\\item 'good'\n",
       "\\item 'good'\n",
       "\\item 'good'\n",
       "\\item 'good'\n",
       "\\end{enumerate*}\n"
      ],
      "text/markdown": [
       "1. 'good'\n",
       "2. 'good'\n",
       "3. 'good'\n",
       "4. 'good'\n",
       "5. 'good'\n",
       "6. 'bad'\n",
       "7. 'bad'\n",
       "8. 'good'\n",
       "9. 'bad'\n",
       "10. 'good'\n",
       "11. 'bad'\n",
       "12. 'bad'\n",
       "13. 'bad'\n",
       "14. 'bad'\n",
       "15. 'bad'\n",
       "16. 'bad'\n",
       "17. 'bad'\n",
       "18. 'good'\n",
       "19. 'good'\n",
       "20. 'good'\n",
       "21. 'good'\n",
       "22. 'bad'\n",
       "23. 'bad'\n",
       "24. 'bad'\n",
       "25. 'good'\n",
       "26. 'good'\n",
       "27. 'good'\n",
       "28. 'good'\n",
       "29. 'good'\n",
       "30. 'good'\n",
       "31. 'good'\n",
       "32. 'good'\n",
       "\n",
       "\n"
      ],
      "text/plain": [
       " [1] \"good\" \"good\" \"good\" \"good\" \"good\" \"bad\"  \"bad\"  \"good\" \"bad\"  \"good\"\n",
       "[11] \"bad\"  \"bad\"  \"bad\"  \"bad\"  \"bad\"  \"bad\"  \"bad\"  \"good\" \"good\" \"good\"\n",
       "[21] \"good\" \"bad\"  \"bad\"  \"bad\"  \"good\" \"good\" \"good\" \"good\" \"good\" \"good\"\n",
       "[31] \"good\" \"good\""
      ]
     },
     "metadata": {},
     "output_type": "display_data"
    }
   ],
   "source": [
    "mtcars$newvar3 <- ifelse(mtcars$newvar2, \"good\", \"bad\")\n",
    "ifelse(mtcars$newvar2, \"good\", \"bad\")"
   ]
  },
  {
   "cell_type": "code",
   "execution_count": 279,
   "metadata": {
    "slideshow": {
     "slide_type": "slide"
    }
   },
   "outputs": [],
   "source": [
    "mtcars$newvar4 <- factor(mtcars$newvar1>10 & mtcars$newvar3==\"good\",\n",
    "                         labels = c(\"level1\",\"level2\"))"
   ]
  },
  {
   "cell_type": "code",
   "execution_count": 145,
   "metadata": {
    "slideshow": {
     "slide_type": "slide"
    }
   },
   "outputs": [
    {
     "data": {
      "text/html": [
       "<table>\n",
       "<caption>A data.frame: 32 × 15</caption>\n",
       "<thead>\n",
       "\t<tr><th></th><th scope=col>mpg</th><th scope=col>cyl</th><th scope=col>disp</th><th scope=col>hp</th><th scope=col>drat</th><th scope=col>wt</th><th scope=col>qsec</th><th scope=col>vs</th><th scope=col>am</th><th scope=col>gear</th><th scope=col>carb</th><th scope=col>newvar1</th><th scope=col>newvar2</th><th scope=col>newvar3</th><th scope=col>newvar4</th></tr>\n",
       "\t<tr><th></th><th scope=col>&lt;dbl&gt;</th><th scope=col>&lt;dbl&gt;</th><th scope=col>&lt;dbl&gt;</th><th scope=col>&lt;dbl&gt;</th><th scope=col>&lt;dbl&gt;</th><th scope=col>&lt;dbl&gt;</th><th scope=col>&lt;dbl&gt;</th><th scope=col>&lt;dbl&gt;</th><th scope=col>&lt;dbl&gt;</th><th scope=col>&lt;dbl&gt;</th><th scope=col>&lt;dbl&gt;</th><th scope=col>&lt;dbl&gt;</th><th scope=col>&lt;lgl&gt;</th><th scope=col>&lt;chr&gt;</th><th scope=col>&lt;fct&gt;</th></tr>\n",
       "</thead>\n",
       "<tbody>\n",
       "\t<tr><th scope=row>Mazda RX4</th><td>21.0</td><td>6</td><td>160.0</td><td>110</td><td>3.90</td><td>2.620</td><td>16.46</td><td>0</td><td>1</td><td>4</td><td>4</td><td> 4.54</td><td> TRUE</td><td>good</td><td>level1</td></tr>\n",
       "\t<tr><th scope=row>Mazda RX4 Wag</th><td>21.0</td><td>6</td><td>160.0</td><td>110</td><td>3.90</td><td>2.875</td><td>17.02</td><td>0</td><td>1</td><td>4</td><td>4</td><td> 3.98</td><td> TRUE</td><td>good</td><td>level1</td></tr>\n",
       "\t<tr><th scope=row>Datsun 710</th><td>22.8</td><td>4</td><td>108.0</td><td> 93</td><td>3.85</td><td>2.320</td><td>18.61</td><td>1</td><td>1</td><td>4</td><td>1</td><td> 4.19</td><td> TRUE</td><td>good</td><td>level1</td></tr>\n",
       "\t<tr><th scope=row>Hornet 4 Drive</th><td>21.4</td><td>6</td><td>258.0</td><td>110</td><td>3.08</td><td>3.215</td><td>19.44</td><td>1</td><td>0</td><td>3</td><td>1</td><td> 1.96</td><td> TRUE</td><td>good</td><td>level1</td></tr>\n",
       "\t<tr><th scope=row>Hornet Sportabout</th><td>18.7</td><td>8</td><td>360.0</td><td>175</td><td>3.15</td><td>3.440</td><td>17.02</td><td>0</td><td>0</td><td>3</td><td>2</td><td> 1.68</td><td> TRUE</td><td>good</td><td>level1</td></tr>\n",
       "\t<tr><th scope=row>Valiant</th><td>18.1</td><td>6</td><td>225.0</td><td>105</td><td>2.76</td><td>3.460</td><td>20.22</td><td>1</td><td>0</td><td>3</td><td>1</td><td>-2.12</td><td>FALSE</td><td>bad </td><td>level1</td></tr>\n",
       "\t<tr><th scope=row>Duster 360</th><td>14.3</td><td>8</td><td>360.0</td><td>245</td><td>3.21</td><td>3.570</td><td>15.84</td><td>0</td><td>0</td><td>3</td><td>4</td><td>-1.54</td><td>FALSE</td><td>bad </td><td>level1</td></tr>\n",
       "\t<tr><th scope=row>Merc 240D</th><td>24.4</td><td>4</td><td>146.7</td><td> 62</td><td>3.69</td><td>3.190</td><td>20.00</td><td>1</td><td>0</td><td>4</td><td>2</td><td> 4.40</td><td> TRUE</td><td>good</td><td>level1</td></tr>\n",
       "\t<tr><th scope=row>Merc 230</th><td>22.8</td><td>4</td><td>140.8</td><td> 95</td><td>3.92</td><td>3.150</td><td>22.90</td><td>1</td><td>0</td><td>4</td><td>2</td><td>-0.10</td><td>FALSE</td><td>bad </td><td>level1</td></tr>\n",
       "\t<tr><th scope=row>Merc 280</th><td>19.2</td><td>6</td><td>167.6</td><td>123</td><td>3.92</td><td>3.440</td><td>18.30</td><td>1</td><td>0</td><td>4</td><td>4</td><td> 0.90</td><td> TRUE</td><td>good</td><td>level1</td></tr>\n",
       "\t<tr><th scope=row>Merc 280C</th><td>17.8</td><td>6</td><td>167.6</td><td>123</td><td>3.92</td><td>3.440</td><td>18.90</td><td>1</td><td>0</td><td>4</td><td>4</td><td>-1.10</td><td>FALSE</td><td>bad </td><td>level1</td></tr>\n",
       "\t<tr><th scope=row>Merc 450SE</th><td>16.4</td><td>8</td><td>275.8</td><td>180</td><td>3.07</td><td>4.070</td><td>17.40</td><td>0</td><td>0</td><td>3</td><td>3</td><td>-1.00</td><td>FALSE</td><td>bad </td><td>level1</td></tr>\n",
       "\t<tr><th scope=row>Merc 450SL</th><td>17.3</td><td>8</td><td>275.8</td><td>180</td><td>3.07</td><td>3.730</td><td>17.60</td><td>0</td><td>0</td><td>3</td><td>3</td><td>-0.30</td><td>FALSE</td><td>bad </td><td>level1</td></tr>\n",
       "\t<tr><th scope=row>Merc 450SLC</th><td>15.2</td><td>8</td><td>275.8</td><td>180</td><td>3.07</td><td>3.780</td><td>18.00</td><td>0</td><td>0</td><td>3</td><td>3</td><td>-2.80</td><td>FALSE</td><td>bad </td><td>level1</td></tr>\n",
       "\t<tr><th scope=row>Cadillac Fleetwood</th><td>10.4</td><td>8</td><td>472.0</td><td>205</td><td>2.93</td><td>5.250</td><td>17.98</td><td>0</td><td>0</td><td>3</td><td>4</td><td>-7.58</td><td>FALSE</td><td>bad </td><td>level1</td></tr>\n",
       "\t<tr><th scope=row>Lincoln Continental</th><td>10.4</td><td>8</td><td>460.0</td><td>215</td><td>3.00</td><td>5.424</td><td>17.82</td><td>0</td><td>0</td><td>3</td><td>4</td><td>-7.42</td><td>FALSE</td><td>bad </td><td>level1</td></tr>\n",
       "\t<tr><th scope=row>Chrysler Imperial</th><td>14.7</td><td>8</td><td>440.0</td><td>230</td><td>3.23</td><td>5.345</td><td>17.42</td><td>0</td><td>0</td><td>3</td><td>4</td><td>-2.72</td><td>FALSE</td><td>bad </td><td>level1</td></tr>\n",
       "\t<tr><th scope=row>Fiat 128</th><td>32.4</td><td>4</td><td> 78.7</td><td> 66</td><td>4.08</td><td>2.200</td><td>19.47</td><td>1</td><td>1</td><td>4</td><td>1</td><td>12.93</td><td> TRUE</td><td>good</td><td>level2</td></tr>\n",
       "\t<tr><th scope=row>Honda Civic</th><td>30.4</td><td>4</td><td> 75.7</td><td> 52</td><td>4.93</td><td>1.615</td><td>18.52</td><td>1</td><td>1</td><td>4</td><td>2</td><td>11.88</td><td> TRUE</td><td>good</td><td>level2</td></tr>\n",
       "\t<tr><th scope=row>Toyota Corolla</th><td>33.9</td><td>4</td><td> 71.1</td><td> 65</td><td>4.22</td><td>1.835</td><td>19.90</td><td>1</td><td>1</td><td>4</td><td>1</td><td>14.00</td><td> TRUE</td><td>good</td><td>level2</td></tr>\n",
       "\t<tr><th scope=row>Toyota Corona</th><td>21.5</td><td>4</td><td>120.1</td><td> 97</td><td>3.70</td><td>2.465</td><td>20.01</td><td>1</td><td>0</td><td>3</td><td>1</td><td> 1.49</td><td> TRUE</td><td>good</td><td>level1</td></tr>\n",
       "\t<tr><th scope=row>Dodge Challenger</th><td>15.5</td><td>8</td><td>318.0</td><td>150</td><td>2.76</td><td>3.520</td><td>16.87</td><td>0</td><td>0</td><td>3</td><td>2</td><td>-1.37</td><td>FALSE</td><td>bad </td><td>level1</td></tr>\n",
       "\t<tr><th scope=row>AMC Javelin</th><td>15.2</td><td>8</td><td>304.0</td><td>150</td><td>3.15</td><td>3.435</td><td>17.30</td><td>0</td><td>0</td><td>3</td><td>2</td><td>-2.10</td><td>FALSE</td><td>bad </td><td>level1</td></tr>\n",
       "\t<tr><th scope=row>Camaro Z28</th><td>13.3</td><td>8</td><td>350.0</td><td>245</td><td>3.73</td><td>3.840</td><td>15.41</td><td>0</td><td>0</td><td>3</td><td>4</td><td>-2.11</td><td>FALSE</td><td>bad </td><td>level1</td></tr>\n",
       "\t<tr><th scope=row>Pontiac Firebird</th><td>19.2</td><td>8</td><td>400.0</td><td>175</td><td>3.08</td><td>3.845</td><td>17.05</td><td>0</td><td>0</td><td>3</td><td>2</td><td> 2.15</td><td> TRUE</td><td>good</td><td>level1</td></tr>\n",
       "\t<tr><th scope=row>Fiat X1-9</th><td>27.3</td><td>4</td><td> 79.0</td><td> 66</td><td>4.08</td><td>1.935</td><td>18.90</td><td>1</td><td>1</td><td>4</td><td>1</td><td> 8.40</td><td> TRUE</td><td>good</td><td>level1</td></tr>\n",
       "\t<tr><th scope=row>Porsche 914-2</th><td>26.0</td><td>4</td><td>120.3</td><td> 91</td><td>4.43</td><td>2.140</td><td>16.70</td><td>0</td><td>1</td><td>5</td><td>2</td><td> 9.30</td><td> TRUE</td><td>good</td><td>level1</td></tr>\n",
       "\t<tr><th scope=row>Lotus Europa</th><td>30.4</td><td>4</td><td> 95.1</td><td>113</td><td>3.77</td><td>1.513</td><td>16.90</td><td>1</td><td>1</td><td>5</td><td>2</td><td>13.50</td><td> TRUE</td><td>good</td><td>level2</td></tr>\n",
       "\t<tr><th scope=row>Ford Pantera L</th><td>15.8</td><td>8</td><td>351.0</td><td>264</td><td>4.22</td><td>3.170</td><td>14.50</td><td>0</td><td>1</td><td>5</td><td>4</td><td> 1.30</td><td> TRUE</td><td>good</td><td>level1</td></tr>\n",
       "\t<tr><th scope=row>Ferrari Dino</th><td>19.7</td><td>6</td><td>145.0</td><td>175</td><td>3.62</td><td>2.770</td><td>15.50</td><td>0</td><td>1</td><td>5</td><td>6</td><td> 4.20</td><td> TRUE</td><td>good</td><td>level1</td></tr>\n",
       "\t<tr><th scope=row>Maserati Bora</th><td>15.0</td><td>8</td><td>301.0</td><td>335</td><td>3.54</td><td>3.570</td><td>14.60</td><td>0</td><td>1</td><td>5</td><td>8</td><td> 0.40</td><td> TRUE</td><td>good</td><td>level1</td></tr>\n",
       "\t<tr><th scope=row>Volvo 142E</th><td>21.4</td><td>4</td><td>121.0</td><td>109</td><td>4.11</td><td>2.780</td><td>18.60</td><td>1</td><td>1</td><td>4</td><td>2</td><td> 2.80</td><td> TRUE</td><td>good</td><td>level1</td></tr>\n",
       "</tbody>\n",
       "</table>\n"
      ],
      "text/latex": [
       "A data.frame: 32 × 15\n",
       "\\begin{tabular}{r|lllllllllllllll}\n",
       "  & mpg & cyl & disp & hp & drat & wt & qsec & vs & am & gear & carb & newvar1 & newvar2 & newvar3 & newvar4\\\\\n",
       "  & <dbl> & <dbl> & <dbl> & <dbl> & <dbl> & <dbl> & <dbl> & <dbl> & <dbl> & <dbl> & <dbl> & <dbl> & <lgl> & <chr> & <fct>\\\\\n",
       "\\hline\n",
       "\tMazda RX4 & 21.0 & 6 & 160.0 & 110 & 3.90 & 2.620 & 16.46 & 0 & 1 & 4 & 4 &  4.54 &  TRUE & good & level1\\\\\n",
       "\tMazda RX4 Wag & 21.0 & 6 & 160.0 & 110 & 3.90 & 2.875 & 17.02 & 0 & 1 & 4 & 4 &  3.98 &  TRUE & good & level1\\\\\n",
       "\tDatsun 710 & 22.8 & 4 & 108.0 &  93 & 3.85 & 2.320 & 18.61 & 1 & 1 & 4 & 1 &  4.19 &  TRUE & good & level1\\\\\n",
       "\tHornet 4 Drive & 21.4 & 6 & 258.0 & 110 & 3.08 & 3.215 & 19.44 & 1 & 0 & 3 & 1 &  1.96 &  TRUE & good & level1\\\\\n",
       "\tHornet Sportabout & 18.7 & 8 & 360.0 & 175 & 3.15 & 3.440 & 17.02 & 0 & 0 & 3 & 2 &  1.68 &  TRUE & good & level1\\\\\n",
       "\tValiant & 18.1 & 6 & 225.0 & 105 & 2.76 & 3.460 & 20.22 & 1 & 0 & 3 & 1 & -2.12 & FALSE & bad  & level1\\\\\n",
       "\tDuster 360 & 14.3 & 8 & 360.0 & 245 & 3.21 & 3.570 & 15.84 & 0 & 0 & 3 & 4 & -1.54 & FALSE & bad  & level1\\\\\n",
       "\tMerc 240D & 24.4 & 4 & 146.7 &  62 & 3.69 & 3.190 & 20.00 & 1 & 0 & 4 & 2 &  4.40 &  TRUE & good & level1\\\\\n",
       "\tMerc 230 & 22.8 & 4 & 140.8 &  95 & 3.92 & 3.150 & 22.90 & 1 & 0 & 4 & 2 & -0.10 & FALSE & bad  & level1\\\\\n",
       "\tMerc 280 & 19.2 & 6 & 167.6 & 123 & 3.92 & 3.440 & 18.30 & 1 & 0 & 4 & 4 &  0.90 &  TRUE & good & level1\\\\\n",
       "\tMerc 280C & 17.8 & 6 & 167.6 & 123 & 3.92 & 3.440 & 18.90 & 1 & 0 & 4 & 4 & -1.10 & FALSE & bad  & level1\\\\\n",
       "\tMerc 450SE & 16.4 & 8 & 275.8 & 180 & 3.07 & 4.070 & 17.40 & 0 & 0 & 3 & 3 & -1.00 & FALSE & bad  & level1\\\\\n",
       "\tMerc 450SL & 17.3 & 8 & 275.8 & 180 & 3.07 & 3.730 & 17.60 & 0 & 0 & 3 & 3 & -0.30 & FALSE & bad  & level1\\\\\n",
       "\tMerc 450SLC & 15.2 & 8 & 275.8 & 180 & 3.07 & 3.780 & 18.00 & 0 & 0 & 3 & 3 & -2.80 & FALSE & bad  & level1\\\\\n",
       "\tCadillac Fleetwood & 10.4 & 8 & 472.0 & 205 & 2.93 & 5.250 & 17.98 & 0 & 0 & 3 & 4 & -7.58 & FALSE & bad  & level1\\\\\n",
       "\tLincoln Continental & 10.4 & 8 & 460.0 & 215 & 3.00 & 5.424 & 17.82 & 0 & 0 & 3 & 4 & -7.42 & FALSE & bad  & level1\\\\\n",
       "\tChrysler Imperial & 14.7 & 8 & 440.0 & 230 & 3.23 & 5.345 & 17.42 & 0 & 0 & 3 & 4 & -2.72 & FALSE & bad  & level1\\\\\n",
       "\tFiat 128 & 32.4 & 4 &  78.7 &  66 & 4.08 & 2.200 & 19.47 & 1 & 1 & 4 & 1 & 12.93 &  TRUE & good & level2\\\\\n",
       "\tHonda Civic & 30.4 & 4 &  75.7 &  52 & 4.93 & 1.615 & 18.52 & 1 & 1 & 4 & 2 & 11.88 &  TRUE & good & level2\\\\\n",
       "\tToyota Corolla & 33.9 & 4 &  71.1 &  65 & 4.22 & 1.835 & 19.90 & 1 & 1 & 4 & 1 & 14.00 &  TRUE & good & level2\\\\\n",
       "\tToyota Corona & 21.5 & 4 & 120.1 &  97 & 3.70 & 2.465 & 20.01 & 1 & 0 & 3 & 1 &  1.49 &  TRUE & good & level1\\\\\n",
       "\tDodge Challenger & 15.5 & 8 & 318.0 & 150 & 2.76 & 3.520 & 16.87 & 0 & 0 & 3 & 2 & -1.37 & FALSE & bad  & level1\\\\\n",
       "\tAMC Javelin & 15.2 & 8 & 304.0 & 150 & 3.15 & 3.435 & 17.30 & 0 & 0 & 3 & 2 & -2.10 & FALSE & bad  & level1\\\\\n",
       "\tCamaro Z28 & 13.3 & 8 & 350.0 & 245 & 3.73 & 3.840 & 15.41 & 0 & 0 & 3 & 4 & -2.11 & FALSE & bad  & level1\\\\\n",
       "\tPontiac Firebird & 19.2 & 8 & 400.0 & 175 & 3.08 & 3.845 & 17.05 & 0 & 0 & 3 & 2 &  2.15 &  TRUE & good & level1\\\\\n",
       "\tFiat X1-9 & 27.3 & 4 &  79.0 &  66 & 4.08 & 1.935 & 18.90 & 1 & 1 & 4 & 1 &  8.40 &  TRUE & good & level1\\\\\n",
       "\tPorsche 914-2 & 26.0 & 4 & 120.3 &  91 & 4.43 & 2.140 & 16.70 & 0 & 1 & 5 & 2 &  9.30 &  TRUE & good & level1\\\\\n",
       "\tLotus Europa & 30.4 & 4 &  95.1 & 113 & 3.77 & 1.513 & 16.90 & 1 & 1 & 5 & 2 & 13.50 &  TRUE & good & level2\\\\\n",
       "\tFord Pantera L & 15.8 & 8 & 351.0 & 264 & 4.22 & 3.170 & 14.50 & 0 & 1 & 5 & 4 &  1.30 &  TRUE & good & level1\\\\\n",
       "\tFerrari Dino & 19.7 & 6 & 145.0 & 175 & 3.62 & 2.770 & 15.50 & 0 & 1 & 5 & 6 &  4.20 &  TRUE & good & level1\\\\\n",
       "\tMaserati Bora & 15.0 & 8 & 301.0 & 335 & 3.54 & 3.570 & 14.60 & 0 & 1 & 5 & 8 &  0.40 &  TRUE & good & level1\\\\\n",
       "\tVolvo 142E & 21.4 & 4 & 121.0 & 109 & 4.11 & 2.780 & 18.60 & 1 & 1 & 4 & 2 &  2.80 &  TRUE & good & level1\\\\\n",
       "\\end{tabular}\n"
      ],
      "text/markdown": [
       "\n",
       "A data.frame: 32 × 15\n",
       "\n",
       "| <!--/--> | mpg &lt;dbl&gt; | cyl &lt;dbl&gt; | disp &lt;dbl&gt; | hp &lt;dbl&gt; | drat &lt;dbl&gt; | wt &lt;dbl&gt; | qsec &lt;dbl&gt; | vs &lt;dbl&gt; | am &lt;dbl&gt; | gear &lt;dbl&gt; | carb &lt;dbl&gt; | newvar1 &lt;dbl&gt; | newvar2 &lt;lgl&gt; | newvar3 &lt;chr&gt; | newvar4 &lt;fct&gt; |\n",
       "|---|---|---|---|---|---|---|---|---|---|---|---|---|---|---|---|\n",
       "| Mazda RX4 | 21.0 | 6 | 160.0 | 110 | 3.90 | 2.620 | 16.46 | 0 | 1 | 4 | 4 |  4.54 |  TRUE | good | level1 |\n",
       "| Mazda RX4 Wag | 21.0 | 6 | 160.0 | 110 | 3.90 | 2.875 | 17.02 | 0 | 1 | 4 | 4 |  3.98 |  TRUE | good | level1 |\n",
       "| Datsun 710 | 22.8 | 4 | 108.0 |  93 | 3.85 | 2.320 | 18.61 | 1 | 1 | 4 | 1 |  4.19 |  TRUE | good | level1 |\n",
       "| Hornet 4 Drive | 21.4 | 6 | 258.0 | 110 | 3.08 | 3.215 | 19.44 | 1 | 0 | 3 | 1 |  1.96 |  TRUE | good | level1 |\n",
       "| Hornet Sportabout | 18.7 | 8 | 360.0 | 175 | 3.15 | 3.440 | 17.02 | 0 | 0 | 3 | 2 |  1.68 |  TRUE | good | level1 |\n",
       "| Valiant | 18.1 | 6 | 225.0 | 105 | 2.76 | 3.460 | 20.22 | 1 | 0 | 3 | 1 | -2.12 | FALSE | bad  | level1 |\n",
       "| Duster 360 | 14.3 | 8 | 360.0 | 245 | 3.21 | 3.570 | 15.84 | 0 | 0 | 3 | 4 | -1.54 | FALSE | bad  | level1 |\n",
       "| Merc 240D | 24.4 | 4 | 146.7 |  62 | 3.69 | 3.190 | 20.00 | 1 | 0 | 4 | 2 |  4.40 |  TRUE | good | level1 |\n",
       "| Merc 230 | 22.8 | 4 | 140.8 |  95 | 3.92 | 3.150 | 22.90 | 1 | 0 | 4 | 2 | -0.10 | FALSE | bad  | level1 |\n",
       "| Merc 280 | 19.2 | 6 | 167.6 | 123 | 3.92 | 3.440 | 18.30 | 1 | 0 | 4 | 4 |  0.90 |  TRUE | good | level1 |\n",
       "| Merc 280C | 17.8 | 6 | 167.6 | 123 | 3.92 | 3.440 | 18.90 | 1 | 0 | 4 | 4 | -1.10 | FALSE | bad  | level1 |\n",
       "| Merc 450SE | 16.4 | 8 | 275.8 | 180 | 3.07 | 4.070 | 17.40 | 0 | 0 | 3 | 3 | -1.00 | FALSE | bad  | level1 |\n",
       "| Merc 450SL | 17.3 | 8 | 275.8 | 180 | 3.07 | 3.730 | 17.60 | 0 | 0 | 3 | 3 | -0.30 | FALSE | bad  | level1 |\n",
       "| Merc 450SLC | 15.2 | 8 | 275.8 | 180 | 3.07 | 3.780 | 18.00 | 0 | 0 | 3 | 3 | -2.80 | FALSE | bad  | level1 |\n",
       "| Cadillac Fleetwood | 10.4 | 8 | 472.0 | 205 | 2.93 | 5.250 | 17.98 | 0 | 0 | 3 | 4 | -7.58 | FALSE | bad  | level1 |\n",
       "| Lincoln Continental | 10.4 | 8 | 460.0 | 215 | 3.00 | 5.424 | 17.82 | 0 | 0 | 3 | 4 | -7.42 | FALSE | bad  | level1 |\n",
       "| Chrysler Imperial | 14.7 | 8 | 440.0 | 230 | 3.23 | 5.345 | 17.42 | 0 | 0 | 3 | 4 | -2.72 | FALSE | bad  | level1 |\n",
       "| Fiat 128 | 32.4 | 4 |  78.7 |  66 | 4.08 | 2.200 | 19.47 | 1 | 1 | 4 | 1 | 12.93 |  TRUE | good | level2 |\n",
       "| Honda Civic | 30.4 | 4 |  75.7 |  52 | 4.93 | 1.615 | 18.52 | 1 | 1 | 4 | 2 | 11.88 |  TRUE | good | level2 |\n",
       "| Toyota Corolla | 33.9 | 4 |  71.1 |  65 | 4.22 | 1.835 | 19.90 | 1 | 1 | 4 | 1 | 14.00 |  TRUE | good | level2 |\n",
       "| Toyota Corona | 21.5 | 4 | 120.1 |  97 | 3.70 | 2.465 | 20.01 | 1 | 0 | 3 | 1 |  1.49 |  TRUE | good | level1 |\n",
       "| Dodge Challenger | 15.5 | 8 | 318.0 | 150 | 2.76 | 3.520 | 16.87 | 0 | 0 | 3 | 2 | -1.37 | FALSE | bad  | level1 |\n",
       "| AMC Javelin | 15.2 | 8 | 304.0 | 150 | 3.15 | 3.435 | 17.30 | 0 | 0 | 3 | 2 | -2.10 | FALSE | bad  | level1 |\n",
       "| Camaro Z28 | 13.3 | 8 | 350.0 | 245 | 3.73 | 3.840 | 15.41 | 0 | 0 | 3 | 4 | -2.11 | FALSE | bad  | level1 |\n",
       "| Pontiac Firebird | 19.2 | 8 | 400.0 | 175 | 3.08 | 3.845 | 17.05 | 0 | 0 | 3 | 2 |  2.15 |  TRUE | good | level1 |\n",
       "| Fiat X1-9 | 27.3 | 4 |  79.0 |  66 | 4.08 | 1.935 | 18.90 | 1 | 1 | 4 | 1 |  8.40 |  TRUE | good | level1 |\n",
       "| Porsche 914-2 | 26.0 | 4 | 120.3 |  91 | 4.43 | 2.140 | 16.70 | 0 | 1 | 5 | 2 |  9.30 |  TRUE | good | level1 |\n",
       "| Lotus Europa | 30.4 | 4 |  95.1 | 113 | 3.77 | 1.513 | 16.90 | 1 | 1 | 5 | 2 | 13.50 |  TRUE | good | level2 |\n",
       "| Ford Pantera L | 15.8 | 8 | 351.0 | 264 | 4.22 | 3.170 | 14.50 | 0 | 1 | 5 | 4 |  1.30 |  TRUE | good | level1 |\n",
       "| Ferrari Dino | 19.7 | 6 | 145.0 | 175 | 3.62 | 2.770 | 15.50 | 0 | 1 | 5 | 6 |  4.20 |  TRUE | good | level1 |\n",
       "| Maserati Bora | 15.0 | 8 | 301.0 | 335 | 3.54 | 3.570 | 14.60 | 0 | 1 | 5 | 8 |  0.40 |  TRUE | good | level1 |\n",
       "| Volvo 142E | 21.4 | 4 | 121.0 | 109 | 4.11 | 2.780 | 18.60 | 1 | 1 | 4 | 2 |  2.80 |  TRUE | good | level1 |\n",
       "\n"
      ],
      "text/plain": [
       "                    mpg  cyl disp  hp  drat wt    qsec  vs am gear carb newvar1\n",
       "Mazda RX4           21.0 6   160.0 110 3.90 2.620 16.46 0  1  4    4     4.54  \n",
       "Mazda RX4 Wag       21.0 6   160.0 110 3.90 2.875 17.02 0  1  4    4     3.98  \n",
       "Datsun 710          22.8 4   108.0  93 3.85 2.320 18.61 1  1  4    1     4.19  \n",
       "Hornet 4 Drive      21.4 6   258.0 110 3.08 3.215 19.44 1  0  3    1     1.96  \n",
       "Hornet Sportabout   18.7 8   360.0 175 3.15 3.440 17.02 0  0  3    2     1.68  \n",
       "Valiant             18.1 6   225.0 105 2.76 3.460 20.22 1  0  3    1    -2.12  \n",
       "Duster 360          14.3 8   360.0 245 3.21 3.570 15.84 0  0  3    4    -1.54  \n",
       "Merc 240D           24.4 4   146.7  62 3.69 3.190 20.00 1  0  4    2     4.40  \n",
       "Merc 230            22.8 4   140.8  95 3.92 3.150 22.90 1  0  4    2    -0.10  \n",
       "Merc 280            19.2 6   167.6 123 3.92 3.440 18.30 1  0  4    4     0.90  \n",
       "Merc 280C           17.8 6   167.6 123 3.92 3.440 18.90 1  0  4    4    -1.10  \n",
       "Merc 450SE          16.4 8   275.8 180 3.07 4.070 17.40 0  0  3    3    -1.00  \n",
       "Merc 450SL          17.3 8   275.8 180 3.07 3.730 17.60 0  0  3    3    -0.30  \n",
       "Merc 450SLC         15.2 8   275.8 180 3.07 3.780 18.00 0  0  3    3    -2.80  \n",
       "Cadillac Fleetwood  10.4 8   472.0 205 2.93 5.250 17.98 0  0  3    4    -7.58  \n",
       "Lincoln Continental 10.4 8   460.0 215 3.00 5.424 17.82 0  0  3    4    -7.42  \n",
       "Chrysler Imperial   14.7 8   440.0 230 3.23 5.345 17.42 0  0  3    4    -2.72  \n",
       "Fiat 128            32.4 4    78.7  66 4.08 2.200 19.47 1  1  4    1    12.93  \n",
       "Honda Civic         30.4 4    75.7  52 4.93 1.615 18.52 1  1  4    2    11.88  \n",
       "Toyota Corolla      33.9 4    71.1  65 4.22 1.835 19.90 1  1  4    1    14.00  \n",
       "Toyota Corona       21.5 4   120.1  97 3.70 2.465 20.01 1  0  3    1     1.49  \n",
       "Dodge Challenger    15.5 8   318.0 150 2.76 3.520 16.87 0  0  3    2    -1.37  \n",
       "AMC Javelin         15.2 8   304.0 150 3.15 3.435 17.30 0  0  3    2    -2.10  \n",
       "Camaro Z28          13.3 8   350.0 245 3.73 3.840 15.41 0  0  3    4    -2.11  \n",
       "Pontiac Firebird    19.2 8   400.0 175 3.08 3.845 17.05 0  0  3    2     2.15  \n",
       "Fiat X1-9           27.3 4    79.0  66 4.08 1.935 18.90 1  1  4    1     8.40  \n",
       "Porsche 914-2       26.0 4   120.3  91 4.43 2.140 16.70 0  1  5    2     9.30  \n",
       "Lotus Europa        30.4 4    95.1 113 3.77 1.513 16.90 1  1  5    2    13.50  \n",
       "Ford Pantera L      15.8 8   351.0 264 4.22 3.170 14.50 0  1  5    4     1.30  \n",
       "Ferrari Dino        19.7 6   145.0 175 3.62 2.770 15.50 0  1  5    6     4.20  \n",
       "Maserati Bora       15.0 8   301.0 335 3.54 3.570 14.60 0  1  5    8     0.40  \n",
       "Volvo 142E          21.4 4   121.0 109 4.11 2.780 18.60 1  1  4    2     2.80  \n",
       "                    newvar2 newvar3 newvar4\n",
       "Mazda RX4            TRUE   good    level1 \n",
       "Mazda RX4 Wag        TRUE   good    level1 \n",
       "Datsun 710           TRUE   good    level1 \n",
       "Hornet 4 Drive       TRUE   good    level1 \n",
       "Hornet Sportabout    TRUE   good    level1 \n",
       "Valiant             FALSE   bad     level1 \n",
       "Duster 360          FALSE   bad     level1 \n",
       "Merc 240D            TRUE   good    level1 \n",
       "Merc 230            FALSE   bad     level1 \n",
       "Merc 280             TRUE   good    level1 \n",
       "Merc 280C           FALSE   bad     level1 \n",
       "Merc 450SE          FALSE   bad     level1 \n",
       "Merc 450SL          FALSE   bad     level1 \n",
       "Merc 450SLC         FALSE   bad     level1 \n",
       "Cadillac Fleetwood  FALSE   bad     level1 \n",
       "Lincoln Continental FALSE   bad     level1 \n",
       "Chrysler Imperial   FALSE   bad     level1 \n",
       "Fiat 128             TRUE   good    level2 \n",
       "Honda Civic          TRUE   good    level2 \n",
       "Toyota Corolla       TRUE   good    level2 \n",
       "Toyota Corona        TRUE   good    level1 \n",
       "Dodge Challenger    FALSE   bad     level1 \n",
       "AMC Javelin         FALSE   bad     level1 \n",
       "Camaro Z28          FALSE   bad     level1 \n",
       "Pontiac Firebird     TRUE   good    level1 \n",
       "Fiat X1-9            TRUE   good    level1 \n",
       "Porsche 914-2        TRUE   good    level1 \n",
       "Lotus Europa         TRUE   good    level2 \n",
       "Ford Pantera L       TRUE   good    level1 \n",
       "Ferrari Dino         TRUE   good    level1 \n",
       "Maserati Bora        TRUE   good    level1 \n",
       "Volvo 142E           TRUE   good    level1 "
      ]
     },
     "metadata": {},
     "output_type": "display_data"
    }
   ],
   "source": [
    "mtcars"
   ]
  },
  {
   "cell_type": "markdown",
   "metadata": {
    "slideshow": {
     "slide_type": "slide"
    }
   },
   "source": [
    "IMPORTAÇÃO\n",
    "---\n",
    "***\n",
    "### INTRODUÇÃO\n",
    "\n",
    "Nesta seção, vamos introduzir os principais pacotes para importar dados para o R. Mostraremos como importar dados de arquivos de texto e de planilhas do excel.\n",
    "\n",
    "Antes de começarmos, vale a pena tocarmos num ponto importante. As funções de importação do tidyverse carregam os dados em tibbles, que diferem da classe data.frames usual em dois pontos importantes:\n",
    "\n",
    "imprime os dados na tela de maneira muito mais organizada, resumida e legível; e permite a utilização de list-columns.\n",
    "\n",
    "Se você não estiver familiarizado com o conceito de list-columns, não se preocupe. Trataremos melhor do assunto no tópico sobre funcionais."
   ]
  },
  {
   "cell_type": "markdown",
   "metadata": {
    "slideshow": {
     "slide_type": "slide"
    }
   },
   "source": [
    "### IMPORTANDO ARQUIVOS DE TEXTO\n",
    "Para importar arquivos de texto para R, como .txt ou .csv, utilizaremos o pacote readr.\n",
    "\n",
    "Como exemplo, utilizaremos uma base de filmes do IMDB, gravada em diversos formatos. Os arquivos podem ser encontrados neste [link](https://github.com/curso-r/site-v2/tree/master/content/material/importacao/data)."
   ]
  },
  {
   "cell_type": "code",
   "execution_count": 280,
   "metadata": {
    "slideshow": {
     "slide_type": "slide"
    }
   },
   "outputs": [
    {
     "name": "stderr",
     "output_type": "stream",
     "text": [
      "Parsed with column specification:\n",
      "cols(\n",
      "  titulo = \u001b[31mcol_character()\u001b[39m,\n",
      "  ano = \u001b[32mcol_double()\u001b[39m,\n",
      "  diretor = \u001b[31mcol_character()\u001b[39m,\n",
      "  duracao = \u001b[32mcol_double()\u001b[39m,\n",
      "  cor = \u001b[31mcol_character()\u001b[39m,\n",
      "  generos = \u001b[31mcol_character()\u001b[39m,\n",
      "  pais = \u001b[31mcol_character()\u001b[39m,\n",
      "  classificacao = \u001b[31mcol_character()\u001b[39m,\n",
      "  orcamento = \u001b[32mcol_double()\u001b[39m,\n",
      "  receita = \u001b[32mcol_double()\u001b[39m,\n",
      "  nota_imdb = \u001b[32mcol_double()\u001b[39m,\n",
      "  likes_facebook = \u001b[32mcol_double()\u001b[39m,\n",
      "  ator_1 = \u001b[31mcol_character()\u001b[39m,\n",
      "  ator_2 = \u001b[31mcol_character()\u001b[39m,\n",
      "  ator_3 = \u001b[31mcol_character()\u001b[39m\n",
      ")\n",
      "\n",
      "Parsed with column specification:\n",
      "cols(\n",
      "  titulo = \u001b[31mcol_character()\u001b[39m,\n",
      "  ano = \u001b[32mcol_double()\u001b[39m,\n",
      "  diretor = \u001b[31mcol_character()\u001b[39m,\n",
      "  duracao = \u001b[32mcol_double()\u001b[39m,\n",
      "  cor = \u001b[31mcol_character()\u001b[39m,\n",
      "  generos = \u001b[31mcol_character()\u001b[39m,\n",
      "  pais = \u001b[31mcol_character()\u001b[39m,\n",
      "  classificacao = \u001b[31mcol_character()\u001b[39m,\n",
      "  orcamento = \u001b[32mcol_double()\u001b[39m,\n",
      "  receita = \u001b[32mcol_double()\u001b[39m,\n",
      "  nota_imdb = \u001b[32mcol_double()\u001b[39m,\n",
      "  likes_facebook = \u001b[32mcol_double()\u001b[39m,\n",
      "  ator_1 = \u001b[31mcol_character()\u001b[39m,\n",
      "  ator_2 = \u001b[31mcol_character()\u001b[39m,\n",
      "  ator_3 = \u001b[31mcol_character()\u001b[39m\n",
      ")\n",
      "\n"
     ]
    }
   ],
   "source": [
    "library(readr)\n",
    "\n",
    "imdb_csv <- read_csv(file = \"https://raw.githubusercontent.com/curso-r/site-v2/master/content/material/importacao/data/imdb.csv\")\n",
    "imdb_txt <- read_delim(file = \"https://raw.githubusercontent.com/curso-r/site-v2/master/content/material/importacao/data/imdb.txt\", delim = \" \")"
   ]
  },
  {
   "cell_type": "code",
   "execution_count": 281,
   "metadata": {
    "slideshow": {
     "slide_type": "slide"
    }
   },
   "outputs": [
    {
     "data": {
      "text/html": [
       "<style>\n",
       ".list-inline {list-style: none; margin:0; padding: 0}\n",
       ".list-inline>li {display: inline-block}\n",
       ".list-inline>li:not(:last-child)::after {content: \"\\00b7\"; padding: 0 .5ex}\n",
       "</style>\n",
       "<ol class=list-inline><li>3807</li><li>15</li></ol>\n"
      ],
      "text/latex": [
       "\\begin{enumerate*}\n",
       "\\item 3807\n",
       "\\item 15\n",
       "\\end{enumerate*}\n"
      ],
      "text/markdown": [
       "1. 3807\n",
       "2. 15\n",
       "\n",
       "\n"
      ],
      "text/plain": [
       "[1] 3807   15"
      ]
     },
     "metadata": {},
     "output_type": "display_data"
    }
   ],
   "source": [
    "dim(imdb_csv)"
   ]
  },
  {
   "cell_type": "code",
   "execution_count": 282,
   "metadata": {
    "slideshow": {
     "slide_type": "slide"
    }
   },
   "outputs": [
    {
     "data": {
      "text/html": [
       "<table>\n",
       "<caption>A spec_tbl_df: 3807 × 15</caption>\n",
       "<thead>\n",
       "\t<tr><th scope=col>titulo</th><th scope=col>ano</th><th scope=col>diretor</th><th scope=col>duracao</th><th scope=col>cor</th><th scope=col>generos</th><th scope=col>pais</th><th scope=col>classificacao</th><th scope=col>orcamento</th><th scope=col>receita</th><th scope=col>nota_imdb</th><th scope=col>likes_facebook</th><th scope=col>ator_1</th><th scope=col>ator_2</th><th scope=col>ator_3</th></tr>\n",
       "\t<tr><th scope=col>&lt;chr&gt;</th><th scope=col>&lt;dbl&gt;</th><th scope=col>&lt;chr&gt;</th><th scope=col>&lt;dbl&gt;</th><th scope=col>&lt;chr&gt;</th><th scope=col>&lt;chr&gt;</th><th scope=col>&lt;chr&gt;</th><th scope=col>&lt;chr&gt;</th><th scope=col>&lt;dbl&gt;</th><th scope=col>&lt;dbl&gt;</th><th scope=col>&lt;dbl&gt;</th><th scope=col>&lt;dbl&gt;</th><th scope=col>&lt;chr&gt;</th><th scope=col>&lt;chr&gt;</th><th scope=col>&lt;chr&gt;</th></tr>\n",
       "</thead>\n",
       "<tbody>\n",
       "\t<tr><td>Avatar                                      </td><td>2009</td><td>James Cameron    </td><td>178</td><td>Color</td><td>Action|Adventure|Fantasy|Sci-Fi                          </td><td>USA</td><td>A partir de 13 anos</td><td>237000000</td><td>760505847</td><td>7.9</td><td> 33000</td><td>CCH Pounder        </td><td>Joel David Moore    </td><td>Wes Studi           </td></tr>\n",
       "\t<tr><td>Pirates of the Caribbean: At World's End    </td><td>2007</td><td>Gore Verbinski   </td><td>169</td><td>Color</td><td>Action|Adventure|Fantasy                                 </td><td>USA</td><td>A partir de 13 anos</td><td>300000000</td><td>309404152</td><td>7.1</td><td>     0</td><td>Johnny Depp        </td><td>Orlando Bloom       </td><td>Jack Davenport      </td></tr>\n",
       "\t<tr><td>The Dark Knight Rises                       </td><td>2012</td><td>Christopher Nolan</td><td>164</td><td>Color</td><td>Action|Thriller                                          </td><td>USA</td><td>A partir de 13 anos</td><td>250000000</td><td>448130642</td><td>8.5</td><td>164000</td><td>Tom Hardy          </td><td>Christian Bale      </td><td>Joseph Gordon-Levitt</td></tr>\n",
       "\t<tr><td>John Carter                                 </td><td>2012</td><td>Andrew Stanton   </td><td>132</td><td>Color</td><td>Action|Adventure|Sci-Fi                                  </td><td>USA</td><td>A partir de 13 anos</td><td>263700000</td><td> 73058679</td><td>6.6</td><td> 24000</td><td>Daryl Sabara       </td><td>Samantha Morton     </td><td>Polly Walker        </td></tr>\n",
       "\t<tr><td>Spider-Man 3                                </td><td>2007</td><td>Sam Raimi        </td><td>156</td><td>Color</td><td>Action|Adventure|Romance                                 </td><td>USA</td><td>A partir de 13 anos</td><td>258000000</td><td>336530303</td><td>6.2</td><td>     0</td><td>J.K. Simmons       </td><td>James Franco        </td><td>Kirsten Dunst       </td></tr>\n",
       "\t<tr><td>Tangled                                     </td><td>2010</td><td>Nathan Greno     </td><td>100</td><td>Color</td><td>Adventure|Animation|Comedy|Family|Fantasy|Musical|Romance</td><td>USA</td><td>Livre              </td><td>260000000</td><td>200807262</td><td>7.8</td><td> 29000</td><td>Brad Garrett       </td><td>Donna Murphy        </td><td>M.C. Gainey         </td></tr>\n",
       "\t<tr><td>Avengers: Age of Ultron                     </td><td>2015</td><td>Joss Whedon      </td><td>141</td><td>Color</td><td>Action|Adventure|Sci-Fi                                  </td><td>USA</td><td>A partir de 13 anos</td><td>250000000</td><td>458991599</td><td>7.5</td><td>118000</td><td>Chris Hemsworth    </td><td>Robert Downey Jr.   </td><td>Scarlett Johansson  </td></tr>\n",
       "\t<tr><td>Batman v Superman: Dawn of Justice          </td><td>2016</td><td>Zack Snyder      </td><td>183</td><td>Color</td><td>Action|Adventure|Sci-Fi                                  </td><td>USA</td><td>A partir de 13 anos</td><td>250000000</td><td>330249062</td><td>6.9</td><td>197000</td><td>Henry Cavill       </td><td>Lauren Cohan        </td><td>Alan D. Purwin      </td></tr>\n",
       "\t<tr><td>Superman Returns                            </td><td>2006</td><td>Bryan Singer     </td><td>169</td><td>Color</td><td>Action|Adventure|Sci-Fi                                  </td><td>USA</td><td>A partir de 13 anos</td><td>209000000</td><td>200069408</td><td>6.1</td><td>     0</td><td>Kevin Spacey       </td><td>Marlon Brando       </td><td>Frank Langella      </td></tr>\n",
       "\t<tr><td>Pirates of the Caribbean: Dead Man's Chest  </td><td>2006</td><td>Gore Verbinski   </td><td>151</td><td>Color</td><td>Action|Adventure|Fantasy                                 </td><td>USA</td><td>A partir de 13 anos</td><td>225000000</td><td>423032628</td><td>7.3</td><td>  5000</td><td>Johnny Depp        </td><td>Orlando Bloom       </td><td>Jack Davenport      </td></tr>\n",
       "\t<tr><td>The Lone Ranger                             </td><td>2013</td><td>Gore Verbinski   </td><td>150</td><td>Color</td><td>Action|Adventure|Western                                 </td><td>USA</td><td>A partir de 13 anos</td><td>215000000</td><td> 89289910</td><td>6.5</td><td> 48000</td><td>Johnny Depp        </td><td>Ruth Wilson         </td><td>Tom Wilkinson       </td></tr>\n",
       "\t<tr><td>Man of Steel                                </td><td>2013</td><td>Zack Snyder      </td><td>143</td><td>Color</td><td>Action|Adventure|Fantasy|Sci-Fi                          </td><td>USA</td><td>A partir de 13 anos</td><td>225000000</td><td>291021565</td><td>7.2</td><td>118000</td><td>Henry Cavill       </td><td>Christopher Meloni  </td><td>Harry Lennix        </td></tr>\n",
       "\t<tr><td>The Chronicles of Narnia: Prince Caspian    </td><td>2008</td><td>Andrew Adamson   </td><td>150</td><td>Color</td><td>Action|Adventure|Family|Fantasy                          </td><td>USA</td><td>Livre              </td><td>225000000</td><td>141614023</td><td>6.6</td><td>     0</td><td>Peter Dinklage     </td><td>Pierfrancesco Favino</td><td>Damián Alcázar      </td></tr>\n",
       "\t<tr><td>The Avengers                                </td><td>2012</td><td>Joss Whedon      </td><td>173</td><td>Color</td><td>Action|Adventure|Sci-Fi                                  </td><td>USA</td><td>A partir de 13 anos</td><td>220000000</td><td>623279547</td><td>8.1</td><td>123000</td><td>Chris Hemsworth    </td><td>Robert Downey Jr.   </td><td>Scarlett Johansson  </td></tr>\n",
       "\t<tr><td>Pirates of the Caribbean: On Stranger Tides </td><td>2011</td><td>Rob Marshall     </td><td>136</td><td>Color</td><td>Action|Adventure|Fantasy                                 </td><td>USA</td><td>A partir de 13 anos</td><td>250000000</td><td>241063875</td><td>6.7</td><td> 58000</td><td>Johnny Depp        </td><td>Sam Claflin         </td><td>Stephen Graham      </td></tr>\n",
       "\t<tr><td>Men in Black 3                              </td><td>2012</td><td>Barry Sonnenfeld </td><td>106</td><td>Color</td><td>Action|Adventure|Comedy|Family|Fantasy|Sci-Fi            </td><td>USA</td><td>A partir de 13 anos</td><td>225000000</td><td>179020854</td><td>6.8</td><td> 40000</td><td>Will Smith         </td><td>Michael Stuhlbarg   </td><td>Nicole Scherzinger  </td></tr>\n",
       "\t<tr><td>The Amazing Spider-Man                      </td><td>2012</td><td>Marc Webb        </td><td>153</td><td>Color</td><td>Action|Adventure|Fantasy                                 </td><td>USA</td><td>A partir de 13 anos</td><td>230000000</td><td>262030663</td><td>7.0</td><td> 56000</td><td>Emma Stone         </td><td>Andrew Garfield     </td><td>Chris Zylka         </td></tr>\n",
       "\t<tr><td>Robin Hood                                  </td><td>2010</td><td>Ridley Scott     </td><td>156</td><td>Color</td><td>Action|Adventure|Drama|History                           </td><td>USA</td><td>A partir de 13 anos</td><td>200000000</td><td>105219735</td><td>6.7</td><td> 17000</td><td>Mark Addy          </td><td>William Hurt        </td><td>Scott Grimes        </td></tr>\n",
       "\t<tr><td>The Hobbit: The Desolation of Smaug         </td><td>2013</td><td>Peter Jackson    </td><td>186</td><td>Color</td><td>Adventure|Fantasy                                        </td><td>USA</td><td>A partir de 13 anos</td><td>225000000</td><td>258355354</td><td>7.9</td><td> 83000</td><td>Aidan Turner       </td><td>Adam Brown          </td><td>James Nesbitt       </td></tr>\n",
       "\t<tr><td>The Golden Compass                          </td><td>2007</td><td>Chris Weitz      </td><td>113</td><td>Color</td><td>Adventure|Family|Fantasy                                 </td><td>USA</td><td>A partir de 13 anos</td><td>180000000</td><td> 70083519</td><td>6.1</td><td>     0</td><td>Christopher Lee    </td><td>Eva Green           </td><td>Kristin Scott Thomas</td></tr>\n",
       "\t<tr><td>Titanic                                     </td><td>1997</td><td>James Cameron    </td><td>194</td><td>Color</td><td>Drama|Romance                                            </td><td>USA</td><td>A partir de 13 anos</td><td>200000000</td><td>658672302</td><td>7.7</td><td> 26000</td><td>Leonardo DiCaprio  </td><td>Kate Winslet        </td><td>Gloria Stuart       </td></tr>\n",
       "\t<tr><td>Captain America: Civil War                  </td><td>2016</td><td>Anthony Russo    </td><td>147</td><td>Color</td><td>Action|Adventure|Sci-Fi                                  </td><td>USA</td><td>A partir de 13 anos</td><td>250000000</td><td>407197282</td><td>8.2</td><td> 72000</td><td>Robert Downey Jr.  </td><td>Scarlett Johansson  </td><td>Chris Evans         </td></tr>\n",
       "\t<tr><td>Battleship                                  </td><td>2012</td><td>Peter Berg       </td><td>131</td><td>Color</td><td>Action|Adventure|Sci-Fi|Thriller                         </td><td>USA</td><td>A partir de 13 anos</td><td>209000000</td><td> 65173160</td><td>5.9</td><td> 44000</td><td>Liam Neeson        </td><td>Alexander Skarsgård </td><td>Tadanobu Asano      </td></tr>\n",
       "\t<tr><td>Jurassic World                              </td><td>2015</td><td>Colin Trevorrow  </td><td>124</td><td>Color</td><td>Action|Adventure|Sci-Fi|Thriller                         </td><td>USA</td><td>A partir de 13 anos</td><td>150000000</td><td>652177271</td><td>7.0</td><td>150000</td><td>Bryce Dallas Howard</td><td>Judy Greer          </td><td>Omar Sy             </td></tr>\n",
       "\t<tr><td>Spider-Man 2                                </td><td>2004</td><td>Sam Raimi        </td><td>135</td><td>Color</td><td>Action|Adventure|Fantasy|Romance                         </td><td>USA</td><td>A partir de 13 anos</td><td>200000000</td><td>373377893</td><td>7.3</td><td>     0</td><td>J.K. Simmons       </td><td>James Franco        </td><td>Kirsten Dunst       </td></tr>\n",
       "\t<tr><td>Iron Man 3                                  </td><td>2013</td><td>Shane Black      </td><td>195</td><td>Color</td><td>Action|Adventure|Sci-Fi                                  </td><td>USA</td><td>A partir de 13 anos</td><td>200000000</td><td>408992272</td><td>7.2</td><td> 95000</td><td>Robert Downey Jr.  </td><td>Jon Favreau         </td><td>Don Cheadle         </td></tr>\n",
       "\t<tr><td>Alice in Wonderland                         </td><td>2010</td><td>Tim Burton       </td><td>108</td><td>Color</td><td>Adventure|Family|Fantasy                                 </td><td>USA</td><td>Livre              </td><td>200000000</td><td>334185206</td><td>6.5</td><td> 24000</td><td>Johnny Depp        </td><td>Alan Rickman        </td><td>Anne Hathaway       </td></tr>\n",
       "\t<tr><td>Monsters University                         </td><td>2013</td><td>Dan Scanlon      </td><td>104</td><td>Color</td><td>Adventure|Animation|Comedy|Family|Fantasy                </td><td>USA</td><td>Outros             </td><td>200000000</td><td>268488329</td><td>7.3</td><td> 44000</td><td>Steve Buscemi      </td><td>Tyler Labine        </td><td>Sean Hayes          </td></tr>\n",
       "\t<tr><td>Transformers: Revenge of the Fallen         </td><td>2009</td><td>Michael Bay      </td><td>150</td><td>Color</td><td>Action|Adventure|Sci-Fi                                  </td><td>USA</td><td>A partir de 13 anos</td><td>200000000</td><td>402076689</td><td>6.0</td><td>     0</td><td>Glenn Morshower    </td><td>Kevin Dunn          </td><td>Ramon Rodriguez     </td></tr>\n",
       "\t<tr><td>Transformers: Age of Extinction             </td><td>2014</td><td>Michael Bay      </td><td>165</td><td>Color</td><td>Action|Adventure|Sci-Fi                                  </td><td>USA</td><td>A partir de 13 anos</td><td>210000000</td><td>245428137</td><td>5.7</td><td> 56000</td><td>Bingbing Li        </td><td>Sophia Myles        </td><td>Kelsey Grammer      </td></tr>\n",
       "\t<tr><td>...</td><td>...</td><td>...</td><td>...</td><td>...</td><td>...</td><td>...</td><td>...</td><td>...</td><td>...</td><td>...</td><td>...</td><td>...</td><td>...</td><td>...</td></tr>\n",
       "\t<tr><td>The Exploding Girl                </td><td>2009</td><td>Bradley Rust Gray </td><td> 79</td><td>Color          </td><td>Drama                              </td><td>USA</td><td>Outros             </td><td>      NA</td><td>   24705</td><td>6.3</td><td>  377</td><td>Zoe Kazan          </td><td>Mark Rendall      </td><td>Jordan Scovel     </td></tr>\n",
       "\t<tr><td>The Legend of God's Gun           </td><td>2007</td><td>Mike Bruce        </td><td> 78</td><td>Color          </td><td>Western                            </td><td>USA</td><td>A partir de 18 anos</td><td>   30000</td><td>  243768</td><td>4.1</td><td>   13</td><td>Joseph Campanella  </td><td>Kirpatrick Thomas </td><td>Christian Anderson</td></tr>\n",
       "\t<tr><td>Mutual Appreciation               </td><td>2005</td><td>Andrew Bujalski   </td><td>109</td><td>Black and White</td><td>Comedy                             </td><td>USA</td><td>A partir de 18 anos</td><td>      NA</td><td>      NA</td><td>6.9</td><td>   91</td><td>Andrew Bujalski    </td><td>Kate Dollenmayer  </td><td>Justin Rice       </td></tr>\n",
       "\t<tr><td>Her Cry: La Llorona Investigation </td><td>2013</td><td>Damir Catic       </td><td> 89</td><td>Color          </td><td>Horror                             </td><td>USA</td><td>Outros             </td><td>   60000</td><td>      NA</td><td>5.4</td><td>   48</td><td>Nichole Ceballos   </td><td>Ron Gelner        </td><td>Parker Riggs      </td></tr>\n",
       "\t<tr><td>Clerks                            </td><td>1994</td><td>Kevin Smith       </td><td>102</td><td>Black and White</td><td>Comedy                             </td><td>USA</td><td>A partir de 18 anos</td><td>  230000</td><td> 3151130</td><td>7.8</td><td>    0</td><td>Jason Mewes        </td><td>Brian O'Halloran  </td><td>Jeff Anderson     </td></tr>\n",
       "\t<tr><td>Pink Narcissus                    </td><td>1971</td><td>James Bidgood     </td><td> 65</td><td>Color          </td><td>Drama|Fantasy                      </td><td>USA</td><td>Outros             </td><td>   27000</td><td>    8231</td><td>6.7</td><td>   85</td><td>Don Brooks         </td><td>Bobby Kendall     </td><td>NA                </td></tr>\n",
       "\t<tr><td>Funny Ha Ha                       </td><td>2002</td><td>Andrew Bujalski   </td><td> 85</td><td>Color          </td><td>Comedy|Drama                       </td><td>USA</td><td>Outros             </td><td>      NA</td><td>      NA</td><td>6.4</td><td>  108</td><td>Andrew Bujalski    </td><td>Kate Dollenmayer  </td><td>Justin Rice       </td></tr>\n",
       "\t<tr><td>Sabotage                          </td><td>2014</td><td>David Ayer        </td><td>109</td><td>Color          </td><td>Action|Crime|Drama|Thriller        </td><td>USA</td><td>A partir de 18 anos</td><td>35000000</td><td>10499968</td><td>5.7</td><td>10000</td><td>Mireille Enos      </td><td>Martin Donovan    </td><td>Maurice Compte    </td></tr>\n",
       "\t<tr><td>Manito                            </td><td>2002</td><td>Eric Eason        </td><td> 79</td><td>Color          </td><td>Drama|Family                       </td><td>USA</td><td>Outros             </td><td>   24000</td><td>      NA</td><td>7.0</td><td>   61</td><td>Franky G           </td><td>Panchito Gómez    </td><td>Casper Martinez   </td></tr>\n",
       "\t<tr><td>Slacker                           </td><td>1991</td><td>Richard Linklater </td><td>100</td><td>Black and White</td><td>Comedy|Drama                       </td><td>USA</td><td>A partir de 18 anos</td><td>   23000</td><td> 1227508</td><td>7.1</td><td> 2000</td><td>Tommy Pallotta     </td><td>Richard Linklater </td><td>Jean Caffeine     </td></tr>\n",
       "\t<tr><td>Dutch Kills                       </td><td>2015</td><td>Joseph Mazzella   </td><td> 90</td><td>Color          </td><td>Crime|Drama|Thriller               </td><td>USA</td><td>Outros             </td><td>   25000</td><td>      NA</td><td>4.8</td><td>   33</td><td>Tjasa Ferme        </td><td>Mikaal Bates      </td><td>Damon Owlia       </td></tr>\n",
       "\t<tr><td>Dry Spell                         </td><td>2013</td><td>Travis Legge      </td><td> 90</td><td>Color          </td><td>Comedy|Romance                     </td><td>USA</td><td>Outros             </td><td>   22000</td><td>      NA</td><td>3.3</td><td>  200</td><td>Kristen Seavey     </td><td>Suzi Lorraine     </td><td>Travis Legge      </td></tr>\n",
       "\t<tr><td>Flywheel                          </td><td>2003</td><td>Alex Kendrick     </td><td>120</td><td>Color          </td><td>Drama                              </td><td>USA</td><td>Outros             </td><td>   20000</td><td>      NA</td><td>6.9</td><td>  725</td><td>Shannen Fields     </td><td>Lisa Arnold       </td><td>Janet Lee Dapper  </td></tr>\n",
       "\t<tr><td>Exeter                            </td><td>2015</td><td>Marcus Nispel     </td><td> 91</td><td>Color          </td><td>Horror|Mystery|Thriller            </td><td>USA</td><td>A partir de 18 anos</td><td>      NA</td><td>      NA</td><td>4.6</td><td>    0</td><td>Ashley Tramonte    </td><td>Brittany Curran   </td><td>Lindsay MacDonald </td></tr>\n",
       "\t<tr><td>The Ridges                        </td><td>2011</td><td>Brandon Landers   </td><td>143</td><td>NA             </td><td>Drama|Horror|Thriller              </td><td>USA</td><td>Outros             </td><td>   17350</td><td>      NA</td><td>3.0</td><td>   33</td><td>Robbie Barnes      </td><td>Alana Kaniewski   </td><td>Brandon Landers   </td></tr>\n",
       "\t<tr><td>The Puffy Chair                   </td><td>2005</td><td>Jay Duplass       </td><td> 85</td><td>Color          </td><td>Comedy|Drama|Romance               </td><td>USA</td><td>A partir de 18 anos</td><td>   15000</td><td>  192467</td><td>6.6</td><td>  297</td><td>Mark Duplass       </td><td>Katie Aselton     </td><td>Bari Hyman        </td></tr>\n",
       "\t<tr><td>Breaking Upwards                  </td><td>2009</td><td>Daryl Wein        </td><td> 88</td><td>Color          </td><td>Romance                            </td><td>USA</td><td>Outros             </td><td>   15000</td><td>   76382</td><td>6.2</td><td>  324</td><td>Zoe Lister-Jones   </td><td>Heather Burns     </td><td>Ebon Moss-Bachrach</td></tr>\n",
       "\t<tr><td>All Superheroes Must Die          </td><td>2011</td><td>Jason Trost       </td><td> 78</td><td>Color          </td><td>Sci-Fi|Thriller                    </td><td>USA</td><td>Outros             </td><td>   20000</td><td>      NA</td><td>4.0</td><td>  835</td><td>Sean Whalen        </td><td>Jason Trost       </td><td>Nick Principe     </td></tr>\n",
       "\t<tr><td>Pink Flamingos                    </td><td>1972</td><td>John Waters       </td><td>108</td><td>Color          </td><td>Comedy|Crime|Horror                </td><td>USA</td><td>A partir de 18 anos</td><td>   10000</td><td>  180483</td><td>6.1</td><td>    0</td><td>Divine             </td><td>Mink Stole        </td><td>Edith Massey      </td></tr>\n",
       "\t<tr><td>On the Downlow                    </td><td>2004</td><td>Tadeo Garcia      </td><td> 84</td><td>Color          </td><td>Drama                              </td><td>USA</td><td>Outros             </td><td>      NA</td><td>      NA</td><td>6.1</td><td>   22</td><td>Tatiana Suarez-Pico</td><td>Michael Cortez    </td><td>Eric Ambriz       </td></tr>\n",
       "\t<tr><td>Sanctuary; Quite a Conundrum      </td><td>2012</td><td>Thomas L. Phillips</td><td> 82</td><td>Color          </td><td>Comedy|Horror|Thriller             </td><td>USA</td><td>Outros             </td><td>  200000</td><td>      NA</td><td>5.4</td><td>  424</td><td>Julianna Pitt      </td><td>Joe Coffey        </td><td>John Lucas        </td></tr>\n",
       "\t<tr><td>Bang                              </td><td>1995</td><td>Ash Baron-Cohen   </td><td> 98</td><td>Color          </td><td>Crime|Drama                        </td><td>USA</td><td>Outros             </td><td>      NA</td><td>      NA</td><td>6.4</td><td>   20</td><td>Peter Greene       </td><td>Stanley B. Herman </td><td>James Noble       </td></tr>\n",
       "\t<tr><td>Primer                            </td><td>2004</td><td>Shane Carruth     </td><td> 77</td><td>Color          </td><td>Drama|Sci-Fi|Thriller              </td><td>USA</td><td>A partir de 13 anos</td><td>    7000</td><td>  424760</td><td>7.0</td><td>19000</td><td>Shane Carruth      </td><td>David Sullivan    </td><td>Casey Gooden      </td></tr>\n",
       "\t<tr><td>El Mariachi                       </td><td>1992</td><td>Robert Rodriguez  </td><td> 81</td><td>Color          </td><td>Action|Crime|Drama|Romance|Thriller</td><td>USA</td><td>A partir de 18 anos</td><td>    7000</td><td> 2040920</td><td>6.9</td><td>    0</td><td>Carlos Gallardo    </td><td>Peter Marquardt   </td><td>Consuelo Gómez    </td></tr>\n",
       "\t<tr><td>The Mongol King                   </td><td>2005</td><td>Anthony Vallone   </td><td> 84</td><td>Color          </td><td>Crime|Drama                        </td><td>USA</td><td>A partir de 13 anos</td><td>    3250</td><td>      NA</td><td>7.8</td><td>    4</td><td>Richard Jewell     </td><td>John Considine    </td><td>Sara Stepnicka    </td></tr>\n",
       "\t<tr><td>Newlyweds                         </td><td>2011</td><td>Edward Burns      </td><td> 95</td><td>Color          </td><td>Comedy|Drama                       </td><td>USA</td><td>Outros             </td><td>    9000</td><td>    4584</td><td>6.4</td><td>  413</td><td>Kerry Bishé        </td><td>Caitlin FitzGerald</td><td>Daniella Pineda   </td></tr>\n",
       "\t<tr><td>The Following                     </td><td>  NA</td><td>NA                </td><td> 43</td><td>Color          </td><td>Crime|Drama|Mystery|Thriller       </td><td>USA</td><td>Outros             </td><td>      NA</td><td>      NA</td><td>7.5</td><td>32000</td><td>Natalie Zea        </td><td>Valorie Curry     </td><td>Sam Underwood     </td></tr>\n",
       "\t<tr><td>A Plague So Pleasant              </td><td>2013</td><td>Benjamin Roberds  </td><td> 76</td><td>Color          </td><td>Drama|Horror|Thriller              </td><td>USA</td><td>Outros             </td><td>    1400</td><td>      NA</td><td>6.3</td><td>   16</td><td>Eva Boehnke        </td><td>Maxwell Moody     </td><td>David Chandler    </td></tr>\n",
       "\t<tr><td>Shanghai Calling                  </td><td>2012</td><td>Daniel Hsia       </td><td>100</td><td>Color          </td><td>Comedy|Drama|Romance               </td><td>USA</td><td>A partir de 13 anos</td><td>      NA</td><td>   10443</td><td>6.3</td><td>  660</td><td>Alan Ruck          </td><td>Daniel Henney     </td><td>Eliza Coupe       </td></tr>\n",
       "\t<tr><td>My Date with Drew                 </td><td>2004</td><td>Jon Gunn          </td><td> 90</td><td>Color          </td><td>Documentary                        </td><td>USA</td><td>Livre              </td><td>    1100</td><td>   85222</td><td>6.6</td><td>  456</td><td>John August        </td><td>Brian Herzlinger  </td><td>Jon Gunn          </td></tr>\n",
       "</tbody>\n",
       "</table>\n"
      ],
      "text/latex": [
       "A spec\\_tbl\\_df: 3807 × 15\n",
       "\\begin{tabular}{lllllllllllllll}\n",
       " titulo & ano & diretor & duracao & cor & generos & pais & classificacao & orcamento & receita & nota\\_imdb & likes\\_facebook & ator\\_1 & ator\\_2 & ator\\_3\\\\\n",
       " <chr> & <dbl> & <chr> & <dbl> & <chr> & <chr> & <chr> & <chr> & <dbl> & <dbl> & <dbl> & <dbl> & <chr> & <chr> & <chr>\\\\\n",
       "\\hline\n",
       "\t Avatar                                       & 2009 & James Cameron     & 178 & Color & Action\\textbar{}Adventure\\textbar{}Fantasy\\textbar{}Sci-Fi                           & USA & A partir de 13 anos & 237000000 & 760505847 & 7.9 &  33000 & CCH Pounder         & Joel David Moore     & Wes Studi           \\\\\n",
       "\t Pirates of the Caribbean: At World's End     & 2007 & Gore Verbinski    & 169 & Color & Action\\textbar{}Adventure\\textbar{}Fantasy                                  & USA & A partir de 13 anos & 300000000 & 309404152 & 7.1 &      0 & Johnny Depp         & Orlando Bloom        & Jack Davenport      \\\\\n",
       "\t The Dark Knight Rises                        & 2012 & Christopher Nolan & 164 & Color & Action\\textbar{}Thriller                                           & USA & A partir de 13 anos & 250000000 & 448130642 & 8.5 & 164000 & Tom Hardy           & Christian Bale       & Joseph Gordon-Levitt\\\\\n",
       "\t John Carter                                  & 2012 & Andrew Stanton    & 132 & Color & Action\\textbar{}Adventure\\textbar{}Sci-Fi                                   & USA & A partir de 13 anos & 263700000 &  73058679 & 6.6 &  24000 & Daryl Sabara        & Samantha Morton      & Polly Walker        \\\\\n",
       "\t Spider-Man 3                                 & 2007 & Sam Raimi         & 156 & Color & Action\\textbar{}Adventure\\textbar{}Romance                                  & USA & A partir de 13 anos & 258000000 & 336530303 & 6.2 &      0 & J.K. Simmons        & James Franco         & Kirsten Dunst       \\\\\n",
       "\t Tangled                                      & 2010 & Nathan Greno      & 100 & Color & Adventure\\textbar{}Animation\\textbar{}Comedy\\textbar{}Family\\textbar{}Fantasy\\textbar{}Musical\\textbar{}Romance & USA & Livre               & 260000000 & 200807262 & 7.8 &  29000 & Brad Garrett        & Donna Murphy         & M.C. Gainey         \\\\\n",
       "\t Avengers: Age of Ultron                      & 2015 & Joss Whedon       & 141 & Color & Action\\textbar{}Adventure\\textbar{}Sci-Fi                                   & USA & A partir de 13 anos & 250000000 & 458991599 & 7.5 & 118000 & Chris Hemsworth     & Robert Downey Jr.    & Scarlett Johansson  \\\\\n",
       "\t Batman v Superman: Dawn of Justice           & 2016 & Zack Snyder       & 183 & Color & Action\\textbar{}Adventure\\textbar{}Sci-Fi                                   & USA & A partir de 13 anos & 250000000 & 330249062 & 6.9 & 197000 & Henry Cavill        & Lauren Cohan         & Alan D. Purwin      \\\\\n",
       "\t Superman Returns                             & 2006 & Bryan Singer      & 169 & Color & Action\\textbar{}Adventure\\textbar{}Sci-Fi                                   & USA & A partir de 13 anos & 209000000 & 200069408 & 6.1 &      0 & Kevin Spacey        & Marlon Brando        & Frank Langella      \\\\\n",
       "\t Pirates of the Caribbean: Dead Man's Chest   & 2006 & Gore Verbinski    & 151 & Color & Action\\textbar{}Adventure\\textbar{}Fantasy                                  & USA & A partir de 13 anos & 225000000 & 423032628 & 7.3 &   5000 & Johnny Depp         & Orlando Bloom        & Jack Davenport      \\\\\n",
       "\t The Lone Ranger                              & 2013 & Gore Verbinski    & 150 & Color & Action\\textbar{}Adventure\\textbar{}Western                                  & USA & A partir de 13 anos & 215000000 &  89289910 & 6.5 &  48000 & Johnny Depp         & Ruth Wilson          & Tom Wilkinson       \\\\\n",
       "\t Man of Steel                                 & 2013 & Zack Snyder       & 143 & Color & Action\\textbar{}Adventure\\textbar{}Fantasy\\textbar{}Sci-Fi                           & USA & A partir de 13 anos & 225000000 & 291021565 & 7.2 & 118000 & Henry Cavill        & Christopher Meloni   & Harry Lennix        \\\\\n",
       "\t The Chronicles of Narnia: Prince Caspian     & 2008 & Andrew Adamson    & 150 & Color & Action\\textbar{}Adventure\\textbar{}Family\\textbar{}Fantasy                           & USA & Livre               & 225000000 & 141614023 & 6.6 &      0 & Peter Dinklage      & Pierfrancesco Favino & Damián Alcázar      \\\\\n",
       "\t The Avengers                                 & 2012 & Joss Whedon       & 173 & Color & Action\\textbar{}Adventure\\textbar{}Sci-Fi                                   & USA & A partir de 13 anos & 220000000 & 623279547 & 8.1 & 123000 & Chris Hemsworth     & Robert Downey Jr.    & Scarlett Johansson  \\\\\n",
       "\t Pirates of the Caribbean: On Stranger Tides  & 2011 & Rob Marshall      & 136 & Color & Action\\textbar{}Adventure\\textbar{}Fantasy                                  & USA & A partir de 13 anos & 250000000 & 241063875 & 6.7 &  58000 & Johnny Depp         & Sam Claflin          & Stephen Graham      \\\\\n",
       "\t Men in Black 3                               & 2012 & Barry Sonnenfeld  & 106 & Color & Action\\textbar{}Adventure\\textbar{}Comedy\\textbar{}Family\\textbar{}Fantasy\\textbar{}Sci-Fi             & USA & A partir de 13 anos & 225000000 & 179020854 & 6.8 &  40000 & Will Smith          & Michael Stuhlbarg    & Nicole Scherzinger  \\\\\n",
       "\t The Amazing Spider-Man                       & 2012 & Marc Webb         & 153 & Color & Action\\textbar{}Adventure\\textbar{}Fantasy                                  & USA & A partir de 13 anos & 230000000 & 262030663 & 7.0 &  56000 & Emma Stone          & Andrew Garfield      & Chris Zylka         \\\\\n",
       "\t Robin Hood                                   & 2010 & Ridley Scott      & 156 & Color & Action\\textbar{}Adventure\\textbar{}Drama\\textbar{}History                            & USA & A partir de 13 anos & 200000000 & 105219735 & 6.7 &  17000 & Mark Addy           & William Hurt         & Scott Grimes        \\\\\n",
       "\t The Hobbit: The Desolation of Smaug          & 2013 & Peter Jackson     & 186 & Color & Adventure\\textbar{}Fantasy                                         & USA & A partir de 13 anos & 225000000 & 258355354 & 7.9 &  83000 & Aidan Turner        & Adam Brown           & James Nesbitt       \\\\\n",
       "\t The Golden Compass                           & 2007 & Chris Weitz       & 113 & Color & Adventure\\textbar{}Family\\textbar{}Fantasy                                  & USA & A partir de 13 anos & 180000000 &  70083519 & 6.1 &      0 & Christopher Lee     & Eva Green            & Kristin Scott Thomas\\\\\n",
       "\t Titanic                                      & 1997 & James Cameron     & 194 & Color & Drama\\textbar{}Romance                                             & USA & A partir de 13 anos & 200000000 & 658672302 & 7.7 &  26000 & Leonardo DiCaprio   & Kate Winslet         & Gloria Stuart       \\\\\n",
       "\t Captain America: Civil War                   & 2016 & Anthony Russo     & 147 & Color & Action\\textbar{}Adventure\\textbar{}Sci-Fi                                   & USA & A partir de 13 anos & 250000000 & 407197282 & 8.2 &  72000 & Robert Downey Jr.   & Scarlett Johansson   & Chris Evans         \\\\\n",
       "\t Battleship                                   & 2012 & Peter Berg        & 131 & Color & Action\\textbar{}Adventure\\textbar{}Sci-Fi\\textbar{}Thriller                          & USA & A partir de 13 anos & 209000000 &  65173160 & 5.9 &  44000 & Liam Neeson         & Alexander Skarsgård  & Tadanobu Asano      \\\\\n",
       "\t Jurassic World                               & 2015 & Colin Trevorrow   & 124 & Color & Action\\textbar{}Adventure\\textbar{}Sci-Fi\\textbar{}Thriller                          & USA & A partir de 13 anos & 150000000 & 652177271 & 7.0 & 150000 & Bryce Dallas Howard & Judy Greer           & Omar Sy             \\\\\n",
       "\t Spider-Man 2                                 & 2004 & Sam Raimi         & 135 & Color & Action\\textbar{}Adventure\\textbar{}Fantasy\\textbar{}Romance                          & USA & A partir de 13 anos & 200000000 & 373377893 & 7.3 &      0 & J.K. Simmons        & James Franco         & Kirsten Dunst       \\\\\n",
       "\t Iron Man 3                                   & 2013 & Shane Black       & 195 & Color & Action\\textbar{}Adventure\\textbar{}Sci-Fi                                   & USA & A partir de 13 anos & 200000000 & 408992272 & 7.2 &  95000 & Robert Downey Jr.   & Jon Favreau          & Don Cheadle         \\\\\n",
       "\t Alice in Wonderland                          & 2010 & Tim Burton        & 108 & Color & Adventure\\textbar{}Family\\textbar{}Fantasy                                  & USA & Livre               & 200000000 & 334185206 & 6.5 &  24000 & Johnny Depp         & Alan Rickman         & Anne Hathaway       \\\\\n",
       "\t Monsters University                          & 2013 & Dan Scanlon       & 104 & Color & Adventure\\textbar{}Animation\\textbar{}Comedy\\textbar{}Family\\textbar{}Fantasy                 & USA & Outros              & 200000000 & 268488329 & 7.3 &  44000 & Steve Buscemi       & Tyler Labine         & Sean Hayes          \\\\\n",
       "\t Transformers: Revenge of the Fallen          & 2009 & Michael Bay       & 150 & Color & Action\\textbar{}Adventure\\textbar{}Sci-Fi                                   & USA & A partir de 13 anos & 200000000 & 402076689 & 6.0 &      0 & Glenn Morshower     & Kevin Dunn           & Ramon Rodriguez     \\\\\n",
       "\t Transformers: Age of Extinction              & 2014 & Michael Bay       & 165 & Color & Action\\textbar{}Adventure\\textbar{}Sci-Fi                                   & USA & A partir de 13 anos & 210000000 & 245428137 & 5.7 &  56000 & Bingbing Li         & Sophia Myles         & Kelsey Grammer      \\\\\n",
       "\t ... & ... & ... & ... & ... & ... & ... & ... & ... & ... & ... & ... & ... & ... & ...\\\\\n",
       "\t The Exploding Girl                 & 2009 & Bradley Rust Gray  &  79 & Color           & Drama                               & USA & Outros              &       NA &    24705 & 6.3 &   377 & Zoe Kazan           & Mark Rendall       & Jordan Scovel     \\\\\n",
       "\t The Legend of God's Gun            & 2007 & Mike Bruce         &  78 & Color           & Western                             & USA & A partir de 18 anos &    30000 &   243768 & 4.1 &    13 & Joseph Campanella   & Kirpatrick Thomas  & Christian Anderson\\\\\n",
       "\t Mutual Appreciation                & 2005 & Andrew Bujalski    & 109 & Black and White & Comedy                              & USA & A partir de 18 anos &       NA &       NA & 6.9 &    91 & Andrew Bujalski     & Kate Dollenmayer   & Justin Rice       \\\\\n",
       "\t Her Cry: La Llorona Investigation  & 2013 & Damir Catic        &  89 & Color           & Horror                              & USA & Outros              &    60000 &       NA & 5.4 &    48 & Nichole Ceballos    & Ron Gelner         & Parker Riggs      \\\\\n",
       "\t Clerks                             & 1994 & Kevin Smith        & 102 & Black and White & Comedy                              & USA & A partir de 18 anos &   230000 &  3151130 & 7.8 &     0 & Jason Mewes         & Brian O'Halloran   & Jeff Anderson     \\\\\n",
       "\t Pink Narcissus                     & 1971 & James Bidgood      &  65 & Color           & Drama\\textbar{}Fantasy                       & USA & Outros              &    27000 &     8231 & 6.7 &    85 & Don Brooks          & Bobby Kendall      & NA                \\\\\n",
       "\t Funny Ha Ha                        & 2002 & Andrew Bujalski    &  85 & Color           & Comedy\\textbar{}Drama                        & USA & Outros              &       NA &       NA & 6.4 &   108 & Andrew Bujalski     & Kate Dollenmayer   & Justin Rice       \\\\\n",
       "\t Sabotage                           & 2014 & David Ayer         & 109 & Color           & Action\\textbar{}Crime\\textbar{}Drama\\textbar{}Thriller         & USA & A partir de 18 anos & 35000000 & 10499968 & 5.7 & 10000 & Mireille Enos       & Martin Donovan     & Maurice Compte    \\\\\n",
       "\t Manito                             & 2002 & Eric Eason         &  79 & Color           & Drama\\textbar{}Family                        & USA & Outros              &    24000 &       NA & 7.0 &    61 & Franky G            & Panchito Gómez     & Casper Martinez   \\\\\n",
       "\t Slacker                            & 1991 & Richard Linklater  & 100 & Black and White & Comedy\\textbar{}Drama                        & USA & A partir de 18 anos &    23000 &  1227508 & 7.1 &  2000 & Tommy Pallotta      & Richard Linklater  & Jean Caffeine     \\\\\n",
       "\t Dutch Kills                        & 2015 & Joseph Mazzella    &  90 & Color           & Crime\\textbar{}Drama\\textbar{}Thriller                & USA & Outros              &    25000 &       NA & 4.8 &    33 & Tjasa Ferme         & Mikaal Bates       & Damon Owlia       \\\\\n",
       "\t Dry Spell                          & 2013 & Travis Legge       &  90 & Color           & Comedy\\textbar{}Romance                      & USA & Outros              &    22000 &       NA & 3.3 &   200 & Kristen Seavey      & Suzi Lorraine      & Travis Legge      \\\\\n",
       "\t Flywheel                           & 2003 & Alex Kendrick      & 120 & Color           & Drama                               & USA & Outros              &    20000 &       NA & 6.9 &   725 & Shannen Fields      & Lisa Arnold        & Janet Lee Dapper  \\\\\n",
       "\t Exeter                             & 2015 & Marcus Nispel      &  91 & Color           & Horror\\textbar{}Mystery\\textbar{}Thriller             & USA & A partir de 18 anos &       NA &       NA & 4.6 &     0 & Ashley Tramonte     & Brittany Curran    & Lindsay MacDonald \\\\\n",
       "\t The Ridges                         & 2011 & Brandon Landers    & 143 & NA              & Drama\\textbar{}Horror\\textbar{}Thriller               & USA & Outros              &    17350 &       NA & 3.0 &    33 & Robbie Barnes       & Alana Kaniewski    & Brandon Landers   \\\\\n",
       "\t The Puffy Chair                    & 2005 & Jay Duplass        &  85 & Color           & Comedy\\textbar{}Drama\\textbar{}Romance                & USA & A partir de 18 anos &    15000 &   192467 & 6.6 &   297 & Mark Duplass        & Katie Aselton      & Bari Hyman        \\\\\n",
       "\t Breaking Upwards                   & 2009 & Daryl Wein         &  88 & Color           & Romance                             & USA & Outros              &    15000 &    76382 & 6.2 &   324 & Zoe Lister-Jones    & Heather Burns      & Ebon Moss-Bachrach\\\\\n",
       "\t All Superheroes Must Die           & 2011 & Jason Trost        &  78 & Color           & Sci-Fi\\textbar{}Thriller                     & USA & Outros              &    20000 &       NA & 4.0 &   835 & Sean Whalen         & Jason Trost        & Nick Principe     \\\\\n",
       "\t Pink Flamingos                     & 1972 & John Waters        & 108 & Color           & Comedy\\textbar{}Crime\\textbar{}Horror                 & USA & A partir de 18 anos &    10000 &   180483 & 6.1 &     0 & Divine              & Mink Stole         & Edith Massey      \\\\\n",
       "\t On the Downlow                     & 2004 & Tadeo Garcia       &  84 & Color           & Drama                               & USA & Outros              &       NA &       NA & 6.1 &    22 & Tatiana Suarez-Pico & Michael Cortez     & Eric Ambriz       \\\\\n",
       "\t Sanctuary; Quite a Conundrum       & 2012 & Thomas L. Phillips &  82 & Color           & Comedy\\textbar{}Horror\\textbar{}Thriller              & USA & Outros              &   200000 &       NA & 5.4 &   424 & Julianna Pitt       & Joe Coffey         & John Lucas        \\\\\n",
       "\t Bang                               & 1995 & Ash Baron-Cohen    &  98 & Color           & Crime\\textbar{}Drama                         & USA & Outros              &       NA &       NA & 6.4 &    20 & Peter Greene        & Stanley B. Herman  & James Noble       \\\\\n",
       "\t Primer                             & 2004 & Shane Carruth      &  77 & Color           & Drama\\textbar{}Sci-Fi\\textbar{}Thriller               & USA & A partir de 13 anos &     7000 &   424760 & 7.0 & 19000 & Shane Carruth       & David Sullivan     & Casey Gooden      \\\\\n",
       "\t El Mariachi                        & 1992 & Robert Rodriguez   &  81 & Color           & Action\\textbar{}Crime\\textbar{}Drama\\textbar{}Romance\\textbar{}Thriller & USA & A partir de 18 anos &     7000 &  2040920 & 6.9 &     0 & Carlos Gallardo     & Peter Marquardt    & Consuelo Gómez    \\\\\n",
       "\t The Mongol King                    & 2005 & Anthony Vallone    &  84 & Color           & Crime\\textbar{}Drama                         & USA & A partir de 13 anos &     3250 &       NA & 7.8 &     4 & Richard Jewell      & John Considine     & Sara Stepnicka    \\\\\n",
       "\t Newlyweds                          & 2011 & Edward Burns       &  95 & Color           & Comedy\\textbar{}Drama                        & USA & Outros              &     9000 &     4584 & 6.4 &   413 & Kerry Bishé         & Caitlin FitzGerald & Daniella Pineda   \\\\\n",
       "\t The Following                      &   NA & NA                 &  43 & Color           & Crime\\textbar{}Drama\\textbar{}Mystery\\textbar{}Thriller        & USA & Outros              &       NA &       NA & 7.5 & 32000 & Natalie Zea         & Valorie Curry      & Sam Underwood     \\\\\n",
       "\t A Plague So Pleasant               & 2013 & Benjamin Roberds   &  76 & Color           & Drama\\textbar{}Horror\\textbar{}Thriller               & USA & Outros              &     1400 &       NA & 6.3 &    16 & Eva Boehnke         & Maxwell Moody      & David Chandler    \\\\\n",
       "\t Shanghai Calling                   & 2012 & Daniel Hsia        & 100 & Color           & Comedy\\textbar{}Drama\\textbar{}Romance                & USA & A partir de 13 anos &       NA &    10443 & 6.3 &   660 & Alan Ruck           & Daniel Henney      & Eliza Coupe       \\\\\n",
       "\t My Date with Drew                  & 2004 & Jon Gunn           &  90 & Color           & Documentary                         & USA & Livre               &     1100 &    85222 & 6.6 &   456 & John August         & Brian Herzlinger   & Jon Gunn          \\\\\n",
       "\\end{tabular}\n"
      ],
      "text/markdown": [
       "\n",
       "A spec_tbl_df: 3807 × 15\n",
       "\n",
       "| titulo &lt;chr&gt; | ano &lt;dbl&gt; | diretor &lt;chr&gt; | duracao &lt;dbl&gt; | cor &lt;chr&gt; | generos &lt;chr&gt; | pais &lt;chr&gt; | classificacao &lt;chr&gt; | orcamento &lt;dbl&gt; | receita &lt;dbl&gt; | nota_imdb &lt;dbl&gt; | likes_facebook &lt;dbl&gt; | ator_1 &lt;chr&gt; | ator_2 &lt;chr&gt; | ator_3 &lt;chr&gt; |\n",
       "|---|---|---|---|---|---|---|---|---|---|---|---|---|---|---|\n",
       "| Avatar                                       | 2009 | James Cameron     | 178 | Color | Action|Adventure|Fantasy|Sci-Fi                           | USA | A partir de 13 anos | 237000000 | 760505847 | 7.9 |  33000 | CCH Pounder         | Joel David Moore     | Wes Studi            |\n",
       "| Pirates of the Caribbean: At World's End     | 2007 | Gore Verbinski    | 169 | Color | Action|Adventure|Fantasy                                  | USA | A partir de 13 anos | 300000000 | 309404152 | 7.1 |      0 | Johnny Depp         | Orlando Bloom        | Jack Davenport       |\n",
       "| The Dark Knight Rises                        | 2012 | Christopher Nolan | 164 | Color | Action|Thriller                                           | USA | A partir de 13 anos | 250000000 | 448130642 | 8.5 | 164000 | Tom Hardy           | Christian Bale       | Joseph Gordon-Levitt |\n",
       "| John Carter                                  | 2012 | Andrew Stanton    | 132 | Color | Action|Adventure|Sci-Fi                                   | USA | A partir de 13 anos | 263700000 |  73058679 | 6.6 |  24000 | Daryl Sabara        | Samantha Morton      | Polly Walker         |\n",
       "| Spider-Man 3                                 | 2007 | Sam Raimi         | 156 | Color | Action|Adventure|Romance                                  | USA | A partir de 13 anos | 258000000 | 336530303 | 6.2 |      0 | J.K. Simmons        | James Franco         | Kirsten Dunst        |\n",
       "| Tangled                                      | 2010 | Nathan Greno      | 100 | Color | Adventure|Animation|Comedy|Family|Fantasy|Musical|Romance | USA | Livre               | 260000000 | 200807262 | 7.8 |  29000 | Brad Garrett        | Donna Murphy         | M.C. Gainey          |\n",
       "| Avengers: Age of Ultron                      | 2015 | Joss Whedon       | 141 | Color | Action|Adventure|Sci-Fi                                   | USA | A partir de 13 anos | 250000000 | 458991599 | 7.5 | 118000 | Chris Hemsworth     | Robert Downey Jr.    | Scarlett Johansson   |\n",
       "| Batman v Superman: Dawn of Justice           | 2016 | Zack Snyder       | 183 | Color | Action|Adventure|Sci-Fi                                   | USA | A partir de 13 anos | 250000000 | 330249062 | 6.9 | 197000 | Henry Cavill        | Lauren Cohan         | Alan D. Purwin       |\n",
       "| Superman Returns                             | 2006 | Bryan Singer      | 169 | Color | Action|Adventure|Sci-Fi                                   | USA | A partir de 13 anos | 209000000 | 200069408 | 6.1 |      0 | Kevin Spacey        | Marlon Brando        | Frank Langella       |\n",
       "| Pirates of the Caribbean: Dead Man's Chest   | 2006 | Gore Verbinski    | 151 | Color | Action|Adventure|Fantasy                                  | USA | A partir de 13 anos | 225000000 | 423032628 | 7.3 |   5000 | Johnny Depp         | Orlando Bloom        | Jack Davenport       |\n",
       "| The Lone Ranger                              | 2013 | Gore Verbinski    | 150 | Color | Action|Adventure|Western                                  | USA | A partir de 13 anos | 215000000 |  89289910 | 6.5 |  48000 | Johnny Depp         | Ruth Wilson          | Tom Wilkinson        |\n",
       "| Man of Steel                                 | 2013 | Zack Snyder       | 143 | Color | Action|Adventure|Fantasy|Sci-Fi                           | USA | A partir de 13 anos | 225000000 | 291021565 | 7.2 | 118000 | Henry Cavill        | Christopher Meloni   | Harry Lennix         |\n",
       "| The Chronicles of Narnia: Prince Caspian     | 2008 | Andrew Adamson    | 150 | Color | Action|Adventure|Family|Fantasy                           | USA | Livre               | 225000000 | 141614023 | 6.6 |      0 | Peter Dinklage      | Pierfrancesco Favino | Damián Alcázar       |\n",
       "| The Avengers                                 | 2012 | Joss Whedon       | 173 | Color | Action|Adventure|Sci-Fi                                   | USA | A partir de 13 anos | 220000000 | 623279547 | 8.1 | 123000 | Chris Hemsworth     | Robert Downey Jr.    | Scarlett Johansson   |\n",
       "| Pirates of the Caribbean: On Stranger Tides  | 2011 | Rob Marshall      | 136 | Color | Action|Adventure|Fantasy                                  | USA | A partir de 13 anos | 250000000 | 241063875 | 6.7 |  58000 | Johnny Depp         | Sam Claflin          | Stephen Graham       |\n",
       "| Men in Black 3                               | 2012 | Barry Sonnenfeld  | 106 | Color | Action|Adventure|Comedy|Family|Fantasy|Sci-Fi             | USA | A partir de 13 anos | 225000000 | 179020854 | 6.8 |  40000 | Will Smith          | Michael Stuhlbarg    | Nicole Scherzinger   |\n",
       "| The Amazing Spider-Man                       | 2012 | Marc Webb         | 153 | Color | Action|Adventure|Fantasy                                  | USA | A partir de 13 anos | 230000000 | 262030663 | 7.0 |  56000 | Emma Stone          | Andrew Garfield      | Chris Zylka          |\n",
       "| Robin Hood                                   | 2010 | Ridley Scott      | 156 | Color | Action|Adventure|Drama|History                            | USA | A partir de 13 anos | 200000000 | 105219735 | 6.7 |  17000 | Mark Addy           | William Hurt         | Scott Grimes         |\n",
       "| The Hobbit: The Desolation of Smaug          | 2013 | Peter Jackson     | 186 | Color | Adventure|Fantasy                                         | USA | A partir de 13 anos | 225000000 | 258355354 | 7.9 |  83000 | Aidan Turner        | Adam Brown           | James Nesbitt        |\n",
       "| The Golden Compass                           | 2007 | Chris Weitz       | 113 | Color | Adventure|Family|Fantasy                                  | USA | A partir de 13 anos | 180000000 |  70083519 | 6.1 |      0 | Christopher Lee     | Eva Green            | Kristin Scott Thomas |\n",
       "| Titanic                                      | 1997 | James Cameron     | 194 | Color | Drama|Romance                                             | USA | A partir de 13 anos | 200000000 | 658672302 | 7.7 |  26000 | Leonardo DiCaprio   | Kate Winslet         | Gloria Stuart        |\n",
       "| Captain America: Civil War                   | 2016 | Anthony Russo     | 147 | Color | Action|Adventure|Sci-Fi                                   | USA | A partir de 13 anos | 250000000 | 407197282 | 8.2 |  72000 | Robert Downey Jr.   | Scarlett Johansson   | Chris Evans          |\n",
       "| Battleship                                   | 2012 | Peter Berg        | 131 | Color | Action|Adventure|Sci-Fi|Thriller                          | USA | A partir de 13 anos | 209000000 |  65173160 | 5.9 |  44000 | Liam Neeson         | Alexander Skarsgård  | Tadanobu Asano       |\n",
       "| Jurassic World                               | 2015 | Colin Trevorrow   | 124 | Color | Action|Adventure|Sci-Fi|Thriller                          | USA | A partir de 13 anos | 150000000 | 652177271 | 7.0 | 150000 | Bryce Dallas Howard | Judy Greer           | Omar Sy              |\n",
       "| Spider-Man 2                                 | 2004 | Sam Raimi         | 135 | Color | Action|Adventure|Fantasy|Romance                          | USA | A partir de 13 anos | 200000000 | 373377893 | 7.3 |      0 | J.K. Simmons        | James Franco         | Kirsten Dunst        |\n",
       "| Iron Man 3                                   | 2013 | Shane Black       | 195 | Color | Action|Adventure|Sci-Fi                                   | USA | A partir de 13 anos | 200000000 | 408992272 | 7.2 |  95000 | Robert Downey Jr.   | Jon Favreau          | Don Cheadle          |\n",
       "| Alice in Wonderland                          | 2010 | Tim Burton        | 108 | Color | Adventure|Family|Fantasy                                  | USA | Livre               | 200000000 | 334185206 | 6.5 |  24000 | Johnny Depp         | Alan Rickman         | Anne Hathaway        |\n",
       "| Monsters University                          | 2013 | Dan Scanlon       | 104 | Color | Adventure|Animation|Comedy|Family|Fantasy                 | USA | Outros              | 200000000 | 268488329 | 7.3 |  44000 | Steve Buscemi       | Tyler Labine         | Sean Hayes           |\n",
       "| Transformers: Revenge of the Fallen          | 2009 | Michael Bay       | 150 | Color | Action|Adventure|Sci-Fi                                   | USA | A partir de 13 anos | 200000000 | 402076689 | 6.0 |      0 | Glenn Morshower     | Kevin Dunn           | Ramon Rodriguez      |\n",
       "| Transformers: Age of Extinction              | 2014 | Michael Bay       | 165 | Color | Action|Adventure|Sci-Fi                                   | USA | A partir de 13 anos | 210000000 | 245428137 | 5.7 |  56000 | Bingbing Li         | Sophia Myles         | Kelsey Grammer       |\n",
       "| ... | ... | ... | ... | ... | ... | ... | ... | ... | ... | ... | ... | ... | ... | ... |\n",
       "| The Exploding Girl                 | 2009 | Bradley Rust Gray  |  79 | Color           | Drama                               | USA | Outros              |       NA |    24705 | 6.3 |   377 | Zoe Kazan           | Mark Rendall       | Jordan Scovel      |\n",
       "| The Legend of God's Gun            | 2007 | Mike Bruce         |  78 | Color           | Western                             | USA | A partir de 18 anos |    30000 |   243768 | 4.1 |    13 | Joseph Campanella   | Kirpatrick Thomas  | Christian Anderson |\n",
       "| Mutual Appreciation                | 2005 | Andrew Bujalski    | 109 | Black and White | Comedy                              | USA | A partir de 18 anos |       NA |       NA | 6.9 |    91 | Andrew Bujalski     | Kate Dollenmayer   | Justin Rice        |\n",
       "| Her Cry: La Llorona Investigation  | 2013 | Damir Catic        |  89 | Color           | Horror                              | USA | Outros              |    60000 |       NA | 5.4 |    48 | Nichole Ceballos    | Ron Gelner         | Parker Riggs       |\n",
       "| Clerks                             | 1994 | Kevin Smith        | 102 | Black and White | Comedy                              | USA | A partir de 18 anos |   230000 |  3151130 | 7.8 |     0 | Jason Mewes         | Brian O'Halloran   | Jeff Anderson      |\n",
       "| Pink Narcissus                     | 1971 | James Bidgood      |  65 | Color           | Drama|Fantasy                       | USA | Outros              |    27000 |     8231 | 6.7 |    85 | Don Brooks          | Bobby Kendall      | NA                 |\n",
       "| Funny Ha Ha                        | 2002 | Andrew Bujalski    |  85 | Color           | Comedy|Drama                        | USA | Outros              |       NA |       NA | 6.4 |   108 | Andrew Bujalski     | Kate Dollenmayer   | Justin Rice        |\n",
       "| Sabotage                           | 2014 | David Ayer         | 109 | Color           | Action|Crime|Drama|Thriller         | USA | A partir de 18 anos | 35000000 | 10499968 | 5.7 | 10000 | Mireille Enos       | Martin Donovan     | Maurice Compte     |\n",
       "| Manito                             | 2002 | Eric Eason         |  79 | Color           | Drama|Family                        | USA | Outros              |    24000 |       NA | 7.0 |    61 | Franky G            | Panchito Gómez     | Casper Martinez    |\n",
       "| Slacker                            | 1991 | Richard Linklater  | 100 | Black and White | Comedy|Drama                        | USA | A partir de 18 anos |    23000 |  1227508 | 7.1 |  2000 | Tommy Pallotta      | Richard Linklater  | Jean Caffeine      |\n",
       "| Dutch Kills                        | 2015 | Joseph Mazzella    |  90 | Color           | Crime|Drama|Thriller                | USA | Outros              |    25000 |       NA | 4.8 |    33 | Tjasa Ferme         | Mikaal Bates       | Damon Owlia        |\n",
       "| Dry Spell                          | 2013 | Travis Legge       |  90 | Color           | Comedy|Romance                      | USA | Outros              |    22000 |       NA | 3.3 |   200 | Kristen Seavey      | Suzi Lorraine      | Travis Legge       |\n",
       "| Flywheel                           | 2003 | Alex Kendrick      | 120 | Color           | Drama                               | USA | Outros              |    20000 |       NA | 6.9 |   725 | Shannen Fields      | Lisa Arnold        | Janet Lee Dapper   |\n",
       "| Exeter                             | 2015 | Marcus Nispel      |  91 | Color           | Horror|Mystery|Thriller             | USA | A partir de 18 anos |       NA |       NA | 4.6 |     0 | Ashley Tramonte     | Brittany Curran    | Lindsay MacDonald  |\n",
       "| The Ridges                         | 2011 | Brandon Landers    | 143 | NA              | Drama|Horror|Thriller               | USA | Outros              |    17350 |       NA | 3.0 |    33 | Robbie Barnes       | Alana Kaniewski    | Brandon Landers    |\n",
       "| The Puffy Chair                    | 2005 | Jay Duplass        |  85 | Color           | Comedy|Drama|Romance                | USA | A partir de 18 anos |    15000 |   192467 | 6.6 |   297 | Mark Duplass        | Katie Aselton      | Bari Hyman         |\n",
       "| Breaking Upwards                   | 2009 | Daryl Wein         |  88 | Color           | Romance                             | USA | Outros              |    15000 |    76382 | 6.2 |   324 | Zoe Lister-Jones    | Heather Burns      | Ebon Moss-Bachrach |\n",
       "| All Superheroes Must Die           | 2011 | Jason Trost        |  78 | Color           | Sci-Fi|Thriller                     | USA | Outros              |    20000 |       NA | 4.0 |   835 | Sean Whalen         | Jason Trost        | Nick Principe      |\n",
       "| Pink Flamingos                     | 1972 | John Waters        | 108 | Color           | Comedy|Crime|Horror                 | USA | A partir de 18 anos |    10000 |   180483 | 6.1 |     0 | Divine              | Mink Stole         | Edith Massey       |\n",
       "| On the Downlow                     | 2004 | Tadeo Garcia       |  84 | Color           | Drama                               | USA | Outros              |       NA |       NA | 6.1 |    22 | Tatiana Suarez-Pico | Michael Cortez     | Eric Ambriz        |\n",
       "| Sanctuary; Quite a Conundrum       | 2012 | Thomas L. Phillips |  82 | Color           | Comedy|Horror|Thriller              | USA | Outros              |   200000 |       NA | 5.4 |   424 | Julianna Pitt       | Joe Coffey         | John Lucas         |\n",
       "| Bang                               | 1995 | Ash Baron-Cohen    |  98 | Color           | Crime|Drama                         | USA | Outros              |       NA |       NA | 6.4 |    20 | Peter Greene        | Stanley B. Herman  | James Noble        |\n",
       "| Primer                             | 2004 | Shane Carruth      |  77 | Color           | Drama|Sci-Fi|Thriller               | USA | A partir de 13 anos |     7000 |   424760 | 7.0 | 19000 | Shane Carruth       | David Sullivan     | Casey Gooden       |\n",
       "| El Mariachi                        | 1992 | Robert Rodriguez   |  81 | Color           | Action|Crime|Drama|Romance|Thriller | USA | A partir de 18 anos |     7000 |  2040920 | 6.9 |     0 | Carlos Gallardo     | Peter Marquardt    | Consuelo Gómez     |\n",
       "| The Mongol King                    | 2005 | Anthony Vallone    |  84 | Color           | Crime|Drama                         | USA | A partir de 13 anos |     3250 |       NA | 7.8 |     4 | Richard Jewell      | John Considine     | Sara Stepnicka     |\n",
       "| Newlyweds                          | 2011 | Edward Burns       |  95 | Color           | Comedy|Drama                        | USA | Outros              |     9000 |     4584 | 6.4 |   413 | Kerry Bishé         | Caitlin FitzGerald | Daniella Pineda    |\n",
       "| The Following                      |   NA | NA                 |  43 | Color           | Crime|Drama|Mystery|Thriller        | USA | Outros              |       NA |       NA | 7.5 | 32000 | Natalie Zea         | Valorie Curry      | Sam Underwood      |\n",
       "| A Plague So Pleasant               | 2013 | Benjamin Roberds   |  76 | Color           | Drama|Horror|Thriller               | USA | Outros              |     1400 |       NA | 6.3 |    16 | Eva Boehnke         | Maxwell Moody      | David Chandler     |\n",
       "| Shanghai Calling                   | 2012 | Daniel Hsia        | 100 | Color           | Comedy|Drama|Romance                | USA | A partir de 13 anos |       NA |    10443 | 6.3 |   660 | Alan Ruck           | Daniel Henney      | Eliza Coupe        |\n",
       "| My Date with Drew                  | 2004 | Jon Gunn           |  90 | Color           | Documentary                         | USA | Livre               |     1100 |    85222 | 6.6 |   456 | John August         | Brian Herzlinger   | Jon Gunn           |\n",
       "\n"
      ],
      "text/plain": [
       "     titulo                                       ano  diretor           \n",
       "1    Avatar                                       2009 James Cameron     \n",
       "2    Pirates of the Caribbean: At World's End     2007 Gore Verbinski    \n",
       "3    The Dark Knight Rises                        2012 Christopher Nolan \n",
       "4    John Carter                                  2012 Andrew Stanton    \n",
       "5    Spider-Man 3                                 2007 Sam Raimi         \n",
       "6    Tangled                                      2010 Nathan Greno      \n",
       "7    Avengers: Age of Ultron                      2015 Joss Whedon       \n",
       "8    Batman v Superman: Dawn of Justice           2016 Zack Snyder       \n",
       "9    Superman Returns                             2006 Bryan Singer      \n",
       "10   Pirates of the Caribbean: Dead Man's Chest   2006 Gore Verbinski    \n",
       "11   The Lone Ranger                              2013 Gore Verbinski    \n",
       "12   Man of Steel                                 2013 Zack Snyder       \n",
       "13   The Chronicles of Narnia: Prince Caspian     2008 Andrew Adamson    \n",
       "14   The Avengers                                 2012 Joss Whedon       \n",
       "15   Pirates of the Caribbean: On Stranger Tides  2011 Rob Marshall      \n",
       "16   Men in Black 3                               2012 Barry Sonnenfeld  \n",
       "17   The Amazing Spider-Man                       2012 Marc Webb         \n",
       "18   Robin Hood                                   2010 Ridley Scott      \n",
       "19   The Hobbit: The Desolation of Smaug          2013 Peter Jackson     \n",
       "20   The Golden Compass                           2007 Chris Weitz       \n",
       "21   Titanic                                      1997 James Cameron     \n",
       "22   Captain America: Civil War                   2016 Anthony Russo     \n",
       "23   Battleship                                   2012 Peter Berg        \n",
       "24   Jurassic World                               2015 Colin Trevorrow   \n",
       "25   Spider-Man 2                                 2004 Sam Raimi         \n",
       "26   Iron Man 3                                   2013 Shane Black       \n",
       "27   Alice in Wonderland                          2010 Tim Burton        \n",
       "28   Monsters University                          2013 Dan Scanlon       \n",
       "29   Transformers: Revenge of the Fallen          2009 Michael Bay       \n",
       "30   Transformers: Age of Extinction              2014 Michael Bay       \n",
       "...  ...                                          ...  ...               \n",
       "3778 The Exploding Girl                           2009 Bradley Rust Gray \n",
       "3779 The Legend of God's Gun                      2007 Mike Bruce        \n",
       "3780 Mutual Appreciation                          2005 Andrew Bujalski   \n",
       "3781 Her Cry: La Llorona Investigation            2013 Damir Catic       \n",
       "3782 Clerks                                       1994 Kevin Smith       \n",
       "3783 Pink Narcissus                               1971 James Bidgood     \n",
       "3784 Funny Ha Ha                                  2002 Andrew Bujalski   \n",
       "3785 Sabotage                                     2014 David Ayer        \n",
       "3786 Manito                                       2002 Eric Eason        \n",
       "3787 Slacker                                      1991 Richard Linklater \n",
       "3788 Dutch Kills                                  2015 Joseph Mazzella   \n",
       "3789 Dry Spell                                    2013 Travis Legge      \n",
       "3790 Flywheel                                     2003 Alex Kendrick     \n",
       "3791 Exeter                                       2015 Marcus Nispel     \n",
       "3792 The Ridges                                   2011 Brandon Landers   \n",
       "3793 The Puffy Chair                              2005 Jay Duplass       \n",
       "3794 Breaking Upwards                             2009 Daryl Wein        \n",
       "3795 All Superheroes Must Die                     2011 Jason Trost       \n",
       "3796 Pink Flamingos                               1972 John Waters       \n",
       "3797 On the Downlow                               2004 Tadeo Garcia      \n",
       "3798 Sanctuary; Quite a Conundrum                 2012 Thomas L. Phillips\n",
       "3799 Bang                                         1995 Ash Baron-Cohen   \n",
       "3800 Primer                                       2004 Shane Carruth     \n",
       "3801 El Mariachi                                  1992 Robert Rodriguez  \n",
       "3802 The Mongol King                              2005 Anthony Vallone   \n",
       "3803 Newlyweds                                    2011 Edward Burns      \n",
       "3804 The Following                                  NA NA                \n",
       "3805 A Plague So Pleasant                         2013 Benjamin Roberds  \n",
       "3806 Shanghai Calling                             2012 Daniel Hsia       \n",
       "3807 My Date with Drew                            2004 Jon Gunn          \n",
       "     duracao cor            \n",
       "1    178     Color          \n",
       "2    169     Color          \n",
       "3    164     Color          \n",
       "4    132     Color          \n",
       "5    156     Color          \n",
       "6    100     Color          \n",
       "7    141     Color          \n",
       "8    183     Color          \n",
       "9    169     Color          \n",
       "10   151     Color          \n",
       "11   150     Color          \n",
       "12   143     Color          \n",
       "13   150     Color          \n",
       "14   173     Color          \n",
       "15   136     Color          \n",
       "16   106     Color          \n",
       "17   153     Color          \n",
       "18   156     Color          \n",
       "19   186     Color          \n",
       "20   113     Color          \n",
       "21   194     Color          \n",
       "22   147     Color          \n",
       "23   131     Color          \n",
       "24   124     Color          \n",
       "25   135     Color          \n",
       "26   195     Color          \n",
       "27   108     Color          \n",
       "28   104     Color          \n",
       "29   150     Color          \n",
       "30   165     Color          \n",
       "...  ...     ...            \n",
       "3778  79     Color          \n",
       "3779  78     Color          \n",
       "3780 109     Black and White\n",
       "3781  89     Color          \n",
       "3782 102     Black and White\n",
       "3783  65     Color          \n",
       "3784  85     Color          \n",
       "3785 109     Color          \n",
       "3786  79     Color          \n",
       "3787 100     Black and White\n",
       "3788  90     Color          \n",
       "3789  90     Color          \n",
       "3790 120     Color          \n",
       "3791  91     Color          \n",
       "3792 143     NA             \n",
       "3793  85     Color          \n",
       "3794  88     Color          \n",
       "3795  78     Color          \n",
       "3796 108     Color          \n",
       "3797  84     Color          \n",
       "3798  82     Color          \n",
       "3799  98     Color          \n",
       "3800  77     Color          \n",
       "3801  81     Color          \n",
       "3802  84     Color          \n",
       "3803  95     Color          \n",
       "3804  43     Color          \n",
       "3805  76     Color          \n",
       "3806 100     Color          \n",
       "3807  90     Color          \n",
       "     generos                                                   pais\n",
       "1    Action|Adventure|Fantasy|Sci-Fi                           USA \n",
       "2    Action|Adventure|Fantasy                                  USA \n",
       "3    Action|Thriller                                           USA \n",
       "4    Action|Adventure|Sci-Fi                                   USA \n",
       "5    Action|Adventure|Romance                                  USA \n",
       "6    Adventure|Animation|Comedy|Family|Fantasy|Musical|Romance USA \n",
       "7    Action|Adventure|Sci-Fi                                   USA \n",
       "8    Action|Adventure|Sci-Fi                                   USA \n",
       "9    Action|Adventure|Sci-Fi                                   USA \n",
       "10   Action|Adventure|Fantasy                                  USA \n",
       "11   Action|Adventure|Western                                  USA \n",
       "12   Action|Adventure|Fantasy|Sci-Fi                           USA \n",
       "13   Action|Adventure|Family|Fantasy                           USA \n",
       "14   Action|Adventure|Sci-Fi                                   USA \n",
       "15   Action|Adventure|Fantasy                                  USA \n",
       "16   Action|Adventure|Comedy|Family|Fantasy|Sci-Fi             USA \n",
       "17   Action|Adventure|Fantasy                                  USA \n",
       "18   Action|Adventure|Drama|History                            USA \n",
       "19   Adventure|Fantasy                                         USA \n",
       "20   Adventure|Family|Fantasy                                  USA \n",
       "21   Drama|Romance                                             USA \n",
       "22   Action|Adventure|Sci-Fi                                   USA \n",
       "23   Action|Adventure|Sci-Fi|Thriller                          USA \n",
       "24   Action|Adventure|Sci-Fi|Thriller                          USA \n",
       "25   Action|Adventure|Fantasy|Romance                          USA \n",
       "26   Action|Adventure|Sci-Fi                                   USA \n",
       "27   Adventure|Family|Fantasy                                  USA \n",
       "28   Adventure|Animation|Comedy|Family|Fantasy                 USA \n",
       "29   Action|Adventure|Sci-Fi                                   USA \n",
       "30   Action|Adventure|Sci-Fi                                   USA \n",
       "...  ...                                                       ... \n",
       "3778 Drama                                                     USA \n",
       "3779 Western                                                   USA \n",
       "3780 Comedy                                                    USA \n",
       "3781 Horror                                                    USA \n",
       "3782 Comedy                                                    USA \n",
       "3783 Drama|Fantasy                                             USA \n",
       "3784 Comedy|Drama                                              USA \n",
       "3785 Action|Crime|Drama|Thriller                               USA \n",
       "3786 Drama|Family                                              USA \n",
       "3787 Comedy|Drama                                              USA \n",
       "3788 Crime|Drama|Thriller                                      USA \n",
       "3789 Comedy|Romance                                            USA \n",
       "3790 Drama                                                     USA \n",
       "3791 Horror|Mystery|Thriller                                   USA \n",
       "3792 Drama|Horror|Thriller                                     USA \n",
       "3793 Comedy|Drama|Romance                                      USA \n",
       "3794 Romance                                                   USA \n",
       "3795 Sci-Fi|Thriller                                           USA \n",
       "3796 Comedy|Crime|Horror                                       USA \n",
       "3797 Drama                                                     USA \n",
       "3798 Comedy|Horror|Thriller                                    USA \n",
       "3799 Crime|Drama                                               USA \n",
       "3800 Drama|Sci-Fi|Thriller                                     USA \n",
       "3801 Action|Crime|Drama|Romance|Thriller                       USA \n",
       "3802 Crime|Drama                                               USA \n",
       "3803 Comedy|Drama                                              USA \n",
       "3804 Crime|Drama|Mystery|Thriller                              USA \n",
       "3805 Drama|Horror|Thriller                                     USA \n",
       "3806 Comedy|Drama|Romance                                      USA \n",
       "3807 Documentary                                               USA \n",
       "     classificacao       orcamento receita   nota_imdb likes_facebook\n",
       "1    A partir de 13 anos 237000000 760505847 7.9        33000        \n",
       "2    A partir de 13 anos 300000000 309404152 7.1            0        \n",
       "3    A partir de 13 anos 250000000 448130642 8.5       164000        \n",
       "4    A partir de 13 anos 263700000  73058679 6.6        24000        \n",
       "5    A partir de 13 anos 258000000 336530303 6.2            0        \n",
       "6    Livre               260000000 200807262 7.8        29000        \n",
       "7    A partir de 13 anos 250000000 458991599 7.5       118000        \n",
       "8    A partir de 13 anos 250000000 330249062 6.9       197000        \n",
       "9    A partir de 13 anos 209000000 200069408 6.1            0        \n",
       "10   A partir de 13 anos 225000000 423032628 7.3         5000        \n",
       "11   A partir de 13 anos 215000000  89289910 6.5        48000        \n",
       "12   A partir de 13 anos 225000000 291021565 7.2       118000        \n",
       "13   Livre               225000000 141614023 6.6            0        \n",
       "14   A partir de 13 anos 220000000 623279547 8.1       123000        \n",
       "15   A partir de 13 anos 250000000 241063875 6.7        58000        \n",
       "16   A partir de 13 anos 225000000 179020854 6.8        40000        \n",
       "17   A partir de 13 anos 230000000 262030663 7.0        56000        \n",
       "18   A partir de 13 anos 200000000 105219735 6.7        17000        \n",
       "19   A partir de 13 anos 225000000 258355354 7.9        83000        \n",
       "20   A partir de 13 anos 180000000  70083519 6.1            0        \n",
       "21   A partir de 13 anos 200000000 658672302 7.7        26000        \n",
       "22   A partir de 13 anos 250000000 407197282 8.2        72000        \n",
       "23   A partir de 13 anos 209000000  65173160 5.9        44000        \n",
       "24   A partir de 13 anos 150000000 652177271 7.0       150000        \n",
       "25   A partir de 13 anos 200000000 373377893 7.3            0        \n",
       "26   A partir de 13 anos 200000000 408992272 7.2        95000        \n",
       "27   Livre               200000000 334185206 6.5        24000        \n",
       "28   Outros              200000000 268488329 7.3        44000        \n",
       "29   A partir de 13 anos 200000000 402076689 6.0            0        \n",
       "30   A partir de 13 anos 210000000 245428137 5.7        56000        \n",
       "...  ...                 ...       ...       ...       ...           \n",
       "3778 Outros                    NA     24705  6.3         377         \n",
       "3779 A partir de 18 anos    30000    243768  4.1          13         \n",
       "3780 A partir de 18 anos       NA        NA  6.9          91         \n",
       "3781 Outros                 60000        NA  5.4          48         \n",
       "3782 A partir de 18 anos   230000   3151130  7.8           0         \n",
       "3783 Outros                 27000      8231  6.7          85         \n",
       "3784 Outros                    NA        NA  6.4         108         \n",
       "3785 A partir de 18 anos 35000000  10499968  5.7       10000         \n",
       "3786 Outros                 24000        NA  7.0          61         \n",
       "3787 A partir de 18 anos    23000   1227508  7.1        2000         \n",
       "3788 Outros                 25000        NA  4.8          33         \n",
       "3789 Outros                 22000        NA  3.3         200         \n",
       "3790 Outros                 20000        NA  6.9         725         \n",
       "3791 A partir de 18 anos       NA        NA  4.6           0         \n",
       "3792 Outros                 17350        NA  3.0          33         \n",
       "3793 A partir de 18 anos    15000    192467  6.6         297         \n",
       "3794 Outros                 15000     76382  6.2         324         \n",
       "3795 Outros                 20000        NA  4.0         835         \n",
       "3796 A partir de 18 anos    10000    180483  6.1           0         \n",
       "3797 Outros                    NA        NA  6.1          22         \n",
       "3798 Outros                200000        NA  5.4         424         \n",
       "3799 Outros                    NA        NA  6.4          20         \n",
       "3800 A partir de 13 anos     7000    424760  7.0       19000         \n",
       "3801 A partir de 18 anos     7000   2040920  6.9           0         \n",
       "3802 A partir de 13 anos     3250        NA  7.8           4         \n",
       "3803 Outros                  9000      4584  6.4         413         \n",
       "3804 Outros                    NA        NA  7.5       32000         \n",
       "3805 Outros                  1400        NA  6.3          16         \n",
       "3806 A partir de 13 anos       NA     10443  6.3         660         \n",
       "3807 Livre                   1100     85222  6.6         456         \n",
       "     ator_1              ator_2               ator_3              \n",
       "1    CCH Pounder         Joel David Moore     Wes Studi           \n",
       "2    Johnny Depp         Orlando Bloom        Jack Davenport      \n",
       "3    Tom Hardy           Christian Bale       Joseph Gordon-Levitt\n",
       "4    Daryl Sabara        Samantha Morton      Polly Walker        \n",
       "5    J.K. Simmons        James Franco         Kirsten Dunst       \n",
       "6    Brad Garrett        Donna Murphy         M.C. Gainey         \n",
       "7    Chris Hemsworth     Robert Downey Jr.    Scarlett Johansson  \n",
       "8    Henry Cavill        Lauren Cohan         Alan D. Purwin      \n",
       "9    Kevin Spacey        Marlon Brando        Frank Langella      \n",
       "10   Johnny Depp         Orlando Bloom        Jack Davenport      \n",
       "11   Johnny Depp         Ruth Wilson          Tom Wilkinson       \n",
       "12   Henry Cavill        Christopher Meloni   Harry Lennix        \n",
       "13   Peter Dinklage      Pierfrancesco Favino Damián Alcázar      \n",
       "14   Chris Hemsworth     Robert Downey Jr.    Scarlett Johansson  \n",
       "15   Johnny Depp         Sam Claflin          Stephen Graham      \n",
       "16   Will Smith          Michael Stuhlbarg    Nicole Scherzinger  \n",
       "17   Emma Stone          Andrew Garfield      Chris Zylka         \n",
       "18   Mark Addy           William Hurt         Scott Grimes        \n",
       "19   Aidan Turner        Adam Brown           James Nesbitt       \n",
       "20   Christopher Lee     Eva Green            Kristin Scott Thomas\n",
       "21   Leonardo DiCaprio   Kate Winslet         Gloria Stuart       \n",
       "22   Robert Downey Jr.   Scarlett Johansson   Chris Evans         \n",
       "23   Liam Neeson         Alexander Skarsgård  Tadanobu Asano      \n",
       "24   Bryce Dallas Howard Judy Greer           Omar Sy             \n",
       "25   J.K. Simmons        James Franco         Kirsten Dunst       \n",
       "26   Robert Downey Jr.   Jon Favreau          Don Cheadle         \n",
       "27   Johnny Depp         Alan Rickman         Anne Hathaway       \n",
       "28   Steve Buscemi       Tyler Labine         Sean Hayes          \n",
       "29   Glenn Morshower     Kevin Dunn           Ramon Rodriguez     \n",
       "30   Bingbing Li         Sophia Myles         Kelsey Grammer      \n",
       "...  ...                 ...                  ...                 \n",
       "3778 Zoe Kazan           Mark Rendall         Jordan Scovel       \n",
       "3779 Joseph Campanella   Kirpatrick Thomas    Christian Anderson  \n",
       "3780 Andrew Bujalski     Kate Dollenmayer     Justin Rice         \n",
       "3781 Nichole Ceballos    Ron Gelner           Parker Riggs        \n",
       "3782 Jason Mewes         Brian O'Halloran     Jeff Anderson       \n",
       "3783 Don Brooks          Bobby Kendall        NA                  \n",
       "3784 Andrew Bujalski     Kate Dollenmayer     Justin Rice         \n",
       "3785 Mireille Enos       Martin Donovan       Maurice Compte      \n",
       "3786 Franky G            Panchito Gómez       Casper Martinez     \n",
       "3787 Tommy Pallotta      Richard Linklater    Jean Caffeine       \n",
       "3788 Tjasa Ferme         Mikaal Bates         Damon Owlia         \n",
       "3789 Kristen Seavey      Suzi Lorraine        Travis Legge        \n",
       "3790 Shannen Fields      Lisa Arnold          Janet Lee Dapper    \n",
       "3791 Ashley Tramonte     Brittany Curran      Lindsay MacDonald   \n",
       "3792 Robbie Barnes       Alana Kaniewski      Brandon Landers     \n",
       "3793 Mark Duplass        Katie Aselton        Bari Hyman          \n",
       "3794 Zoe Lister-Jones    Heather Burns        Ebon Moss-Bachrach  \n",
       "3795 Sean Whalen         Jason Trost          Nick Principe       \n",
       "3796 Divine              Mink Stole           Edith Massey        \n",
       "3797 Tatiana Suarez-Pico Michael Cortez       Eric Ambriz         \n",
       "3798 Julianna Pitt       Joe Coffey           John Lucas          \n",
       "3799 Peter Greene        Stanley B. Herman    James Noble         \n",
       "3800 Shane Carruth       David Sullivan       Casey Gooden        \n",
       "3801 Carlos Gallardo     Peter Marquardt      Consuelo Gómez      \n",
       "3802 Richard Jewell      John Considine       Sara Stepnicka      \n",
       "3803 Kerry Bishé         Caitlin FitzGerald   Daniella Pineda     \n",
       "3804 Natalie Zea         Valorie Curry        Sam Underwood       \n",
       "3805 Eva Boehnke         Maxwell Moody        David Chandler      \n",
       "3806 Alan Ruck           Daniel Henney        Eliza Coupe         \n",
       "3807 John August         Brian Herzlinger     Jon Gunn            "
      ]
     },
     "metadata": {},
     "output_type": "display_data"
    }
   ],
   "source": [
    "imdb_txt"
   ]
  },
  {
   "cell_type": "markdown",
   "metadata": {
    "slideshow": {
     "slide_type": "slide"
    }
   },
   "source": [
    "Repare que o argumento `file=` representa o caminho até o arquivo. Se o arquivo a ser lido não estiver no diretório de trabalho da sua sessão, você precisa especificar o caminho até o arquivo. O argumento `delim=` indica qual caracter separa cada coluna no arquivo de texto."
   ]
  },
  {
   "cell_type": "markdown",
   "metadata": {
    "slideshow": {
     "slide_type": "slide"
    }
   },
   "source": [
    "Para a maioria das funções `read_`, existe uma respectiva função `write_`. \n",
    "\n",
    "Essas funções servem para salvar bases em um formato específico de arquivo.   \n",
    "\n",
    "Além do nome do arquivo a ser criado, você também precisa passar o objeto que será gravado. Repare nos exemplos abaixo que você precisa especificar a extensão do arquivo corretamente."
   ]
  },
  {
   "cell_type": "code",
   "execution_count": 283,
   "metadata": {
    "slideshow": {
     "slide_type": "slide"
    }
   },
   "outputs": [],
   "source": [
    "write_csv(x = mtcars, path = \"data\\\\mtcars.csv\")\n",
    "write_delim(x = mtcars, delim = \" \", path = \"data\\\\mtcars.txt\")"
   ]
  },
  {
   "cell_type": "markdown",
   "metadata": {
    "slideshow": {
     "slide_type": "slide"
    }
   },
   "source": [
    "Também é possível salvar objetos, como data.frames em um tipo especial de arquivos, o .rds.  \n",
    "\n",
    "A vantagem dessa extensão é guardar a estrutura dos dados salvos, como a classe das colunas de um data.frame.   \n",
    "\n",
    "Além disso, é uma boa alternativa para lidar com grandes bancos de dados, já que arquivos .rds serão bem mais compactos do que arquivos Excel."
   ]
  },
  {
   "cell_type": "code",
   "execution_count": 151,
   "metadata": {
    "slideshow": {
     "slide_type": "slide"
    }
   },
   "outputs": [],
   "source": [
    "imdb_rds <- read_rds(path = \"imdb.rds\")\n",
    "write_rds(mtcars, path = \"mtcars.rds\")"
   ]
  },
  {
   "cell_type": "markdown",
   "metadata": {
    "slideshow": {
     "slide_type": "slide"
    }
   },
   "source": [
    "### IMPORTANDO ARQUIVOS DO EXCEL\n",
    "\n",
    "O pacote `readxl` contém funções para ler dados de arquivos do Excel, como `.xls` e `xlsx`."
   ]
  },
  {
   "cell_type": "code",
   "execution_count": 286,
   "metadata": {
    "slideshow": {
     "slide_type": "slide"
    }
   },
   "outputs": [
    {
     "data": {
      "image/png": "[encoded data removed]",
      "text/plain": [
       "plot without title"
      ]
     },
     "metadata": {
      "image/png": {
       "height": 420,
       "width": 420
      }
     },
     "output_type": "display_data"
    }
   ],
   "source": [
    "df <- readxl::read_xls(path = \"imdb.xls\")\n",
    "plot(df$likes_facebook)"
   ]
  },
  {
   "cell_type": "code",
   "execution_count": 153,
   "metadata": {
    "slideshow": {
     "slide_type": "slide"
    }
   },
   "outputs": [
    {
     "data": {
      "text/html": [
       "<table>\n",
       "<caption>A tibble: 3807 × 15</caption>\n",
       "<thead>\n",
       "\t<tr><th scope=col>titulo</th><th scope=col>ano</th><th scope=col>diretor</th><th scope=col>duracao</th><th scope=col>cor</th><th scope=col>generos</th><th scope=col>pais</th><th scope=col>classificacao</th><th scope=col>orcamento</th><th scope=col>receita</th><th scope=col>nota_imdb</th><th scope=col>likes_facebook</th><th scope=col>ator_1</th><th scope=col>ator_2</th><th scope=col>ator_3</th></tr>\n",
       "\t<tr><th scope=col>&lt;chr&gt;</th><th scope=col>&lt;dbl&gt;</th><th scope=col>&lt;chr&gt;</th><th scope=col>&lt;dbl&gt;</th><th scope=col>&lt;chr&gt;</th><th scope=col>&lt;chr&gt;</th><th scope=col>&lt;chr&gt;</th><th scope=col>&lt;chr&gt;</th><th scope=col>&lt;dbl&gt;</th><th scope=col>&lt;dbl&gt;</th><th scope=col>&lt;dbl&gt;</th><th scope=col>&lt;dbl&gt;</th><th scope=col>&lt;chr&gt;</th><th scope=col>&lt;chr&gt;</th><th scope=col>&lt;chr&gt;</th></tr>\n",
       "</thead>\n",
       "<tbody>\n",
       "\t<tr><td>Avatar                                      </td><td>2009</td><td>James Cameron    </td><td>178</td><td>Color</td><td>Action|Adventure|Fantasy|Sci-Fi                          </td><td>USA</td><td>A partir de 13 anos</td><td>237000000</td><td>760505847</td><td>7.9</td><td> 33000</td><td>CCH Pounder        </td><td>Joel David Moore    </td><td>Wes Studi           </td></tr>\n",
       "\t<tr><td>Pirates of the Caribbean: At World's End    </td><td>2007</td><td>Gore Verbinski   </td><td>169</td><td>Color</td><td>Action|Adventure|Fantasy                                 </td><td>USA</td><td>A partir de 13 anos</td><td>300000000</td><td>309404152</td><td>7.1</td><td>     0</td><td>Johnny Depp        </td><td>Orlando Bloom       </td><td>Jack Davenport      </td></tr>\n",
       "\t<tr><td>The Dark Knight Rises                       </td><td>2012</td><td>Christopher Nolan</td><td>164</td><td>Color</td><td>Action|Thriller                                          </td><td>USA</td><td>A partir de 13 anos</td><td>250000000</td><td>448130642</td><td>8.5</td><td>164000</td><td>Tom Hardy          </td><td>Christian Bale      </td><td>Joseph Gordon-Levitt</td></tr>\n",
       "\t<tr><td>John Carter                                 </td><td>2012</td><td>Andrew Stanton   </td><td>132</td><td>Color</td><td>Action|Adventure|Sci-Fi                                  </td><td>USA</td><td>A partir de 13 anos</td><td>263700000</td><td> 73058679</td><td>6.6</td><td> 24000</td><td>Daryl Sabara       </td><td>Samantha Morton     </td><td>Polly Walker        </td></tr>\n",
       "\t<tr><td>Spider-Man 3                                </td><td>2007</td><td>Sam Raimi        </td><td>156</td><td>Color</td><td>Action|Adventure|Romance                                 </td><td>USA</td><td>A partir de 13 anos</td><td>258000000</td><td>336530303</td><td>6.2</td><td>     0</td><td>J.K. Simmons       </td><td>James Franco        </td><td>Kirsten Dunst       </td></tr>\n",
       "\t<tr><td>Tangled                                     </td><td>2010</td><td>Nathan Greno     </td><td>100</td><td>Color</td><td>Adventure|Animation|Comedy|Family|Fantasy|Musical|Romance</td><td>USA</td><td>Livre              </td><td>260000000</td><td>200807262</td><td>7.8</td><td> 29000</td><td>Brad Garrett       </td><td>Donna Murphy        </td><td>M.C. Gainey         </td></tr>\n",
       "\t<tr><td>Avengers: Age of Ultron                     </td><td>2015</td><td>Joss Whedon      </td><td>141</td><td>Color</td><td>Action|Adventure|Sci-Fi                                  </td><td>USA</td><td>A partir de 13 anos</td><td>250000000</td><td>458991599</td><td>7.5</td><td>118000</td><td>Chris Hemsworth    </td><td>Robert Downey Jr.   </td><td>Scarlett Johansson  </td></tr>\n",
       "\t<tr><td>Batman v Superman: Dawn of Justice          </td><td>2016</td><td>Zack Snyder      </td><td>183</td><td>Color</td><td>Action|Adventure|Sci-Fi                                  </td><td>USA</td><td>A partir de 13 anos</td><td>250000000</td><td>330249062</td><td>6.9</td><td>197000</td><td>Henry Cavill       </td><td>Lauren Cohan        </td><td>Alan D. Purwin      </td></tr>\n",
       "\t<tr><td>Superman Returns                            </td><td>2006</td><td>Bryan Singer     </td><td>169</td><td>Color</td><td>Action|Adventure|Sci-Fi                                  </td><td>USA</td><td>A partir de 13 anos</td><td>209000000</td><td>200069408</td><td>6.1</td><td>     0</td><td>Kevin Spacey       </td><td>Marlon Brando       </td><td>Frank Langella      </td></tr>\n",
       "\t<tr><td>Pirates of the Caribbean: Dead Man's Chest  </td><td>2006</td><td>Gore Verbinski   </td><td>151</td><td>Color</td><td>Action|Adventure|Fantasy                                 </td><td>USA</td><td>A partir de 13 anos</td><td>225000000</td><td>423032628</td><td>7.3</td><td>  5000</td><td>Johnny Depp        </td><td>Orlando Bloom       </td><td>Jack Davenport      </td></tr>\n",
       "\t<tr><td>The Lone Ranger                             </td><td>2013</td><td>Gore Verbinski   </td><td>150</td><td>Color</td><td>Action|Adventure|Western                                 </td><td>USA</td><td>A partir de 13 anos</td><td>215000000</td><td> 89289910</td><td>6.5</td><td> 48000</td><td>Johnny Depp        </td><td>Ruth Wilson         </td><td>Tom Wilkinson       </td></tr>\n",
       "\t<tr><td>Man of Steel                                </td><td>2013</td><td>Zack Snyder      </td><td>143</td><td>Color</td><td>Action|Adventure|Fantasy|Sci-Fi                          </td><td>USA</td><td>A partir de 13 anos</td><td>225000000</td><td>291021565</td><td>7.2</td><td>118000</td><td>Henry Cavill       </td><td>Christopher Meloni  </td><td>Harry Lennix        </td></tr>\n",
       "\t<tr><td>The Chronicles of Narnia: Prince Caspian    </td><td>2008</td><td>Andrew Adamson   </td><td>150</td><td>Color</td><td>Action|Adventure|Family|Fantasy                          </td><td>USA</td><td>Livre              </td><td>225000000</td><td>141614023</td><td>6.6</td><td>     0</td><td>Peter Dinklage     </td><td>Pierfrancesco Favino</td><td>Damián Alcázar      </td></tr>\n",
       "\t<tr><td>The Avengers                                </td><td>2012</td><td>Joss Whedon      </td><td>173</td><td>Color</td><td>Action|Adventure|Sci-Fi                                  </td><td>USA</td><td>A partir de 13 anos</td><td>220000000</td><td>623279547</td><td>8.1</td><td>123000</td><td>Chris Hemsworth    </td><td>Robert Downey Jr.   </td><td>Scarlett Johansson  </td></tr>\n",
       "\t<tr><td>Pirates of the Caribbean: On Stranger Tides </td><td>2011</td><td>Rob Marshall     </td><td>136</td><td>Color</td><td>Action|Adventure|Fantasy                                 </td><td>USA</td><td>A partir de 13 anos</td><td>250000000</td><td>241063875</td><td>6.7</td><td> 58000</td><td>Johnny Depp        </td><td>Sam Claflin         </td><td>Stephen Graham      </td></tr>\n",
       "\t<tr><td>Men in Black 3                              </td><td>2012</td><td>Barry Sonnenfeld </td><td>106</td><td>Color</td><td>Action|Adventure|Comedy|Family|Fantasy|Sci-Fi            </td><td>USA</td><td>A partir de 13 anos</td><td>225000000</td><td>179020854</td><td>6.8</td><td> 40000</td><td>Will Smith         </td><td>Michael Stuhlbarg   </td><td>Nicole Scherzinger  </td></tr>\n",
       "\t<tr><td>The Amazing Spider-Man                      </td><td>2012</td><td>Marc Webb        </td><td>153</td><td>Color</td><td>Action|Adventure|Fantasy                                 </td><td>USA</td><td>A partir de 13 anos</td><td>230000000</td><td>262030663</td><td>7.0</td><td> 56000</td><td>Emma Stone         </td><td>Andrew Garfield     </td><td>Chris Zylka         </td></tr>\n",
       "\t<tr><td>Robin Hood                                  </td><td>2010</td><td>Ridley Scott     </td><td>156</td><td>Color</td><td>Action|Adventure|Drama|History                           </td><td>USA</td><td>A partir de 13 anos</td><td>200000000</td><td>105219735</td><td>6.7</td><td> 17000</td><td>Mark Addy          </td><td>William Hurt        </td><td>Scott Grimes        </td></tr>\n",
       "\t<tr><td>The Hobbit: The Desolation of Smaug         </td><td>2013</td><td>Peter Jackson    </td><td>186</td><td>Color</td><td>Adventure|Fantasy                                        </td><td>USA</td><td>A partir de 13 anos</td><td>225000000</td><td>258355354</td><td>7.9</td><td> 83000</td><td>Aidan Turner       </td><td>Adam Brown          </td><td>James Nesbitt       </td></tr>\n",
       "\t<tr><td>The Golden Compass                          </td><td>2007</td><td>Chris Weitz      </td><td>113</td><td>Color</td><td>Adventure|Family|Fantasy                                 </td><td>USA</td><td>A partir de 13 anos</td><td>180000000</td><td> 70083519</td><td>6.1</td><td>     0</td><td>Christopher Lee    </td><td>Eva Green           </td><td>Kristin Scott Thomas</td></tr>\n",
       "\t<tr><td>Titanic                                     </td><td>1997</td><td>James Cameron    </td><td>194</td><td>Color</td><td>Drama|Romance                                            </td><td>USA</td><td>A partir de 13 anos</td><td>200000000</td><td>658672302</td><td>7.7</td><td> 26000</td><td>Leonardo DiCaprio  </td><td>Kate Winslet        </td><td>Gloria Stuart       </td></tr>\n",
       "\t<tr><td>Captain America: Civil War                  </td><td>2016</td><td>Anthony Russo    </td><td>147</td><td>Color</td><td>Action|Adventure|Sci-Fi                                  </td><td>USA</td><td>A partir de 13 anos</td><td>250000000</td><td>407197282</td><td>8.2</td><td> 72000</td><td>Robert Downey Jr.  </td><td>Scarlett Johansson  </td><td>Chris Evans         </td></tr>\n",
       "\t<tr><td>Battleship                                  </td><td>2012</td><td>Peter Berg       </td><td>131</td><td>Color</td><td>Action|Adventure|Sci-Fi|Thriller                         </td><td>USA</td><td>A partir de 13 anos</td><td>209000000</td><td> 65173160</td><td>5.9</td><td> 44000</td><td>Liam Neeson        </td><td>Alexander Skarsgård </td><td>Tadanobu Asano      </td></tr>\n",
       "\t<tr><td>Jurassic World                              </td><td>2015</td><td>Colin Trevorrow  </td><td>124</td><td>Color</td><td>Action|Adventure|Sci-Fi|Thriller                         </td><td>USA</td><td>A partir de 13 anos</td><td>150000000</td><td>652177271</td><td>7.0</td><td>150000</td><td>Bryce Dallas Howard</td><td>Judy Greer          </td><td>Omar Sy             </td></tr>\n",
       "\t<tr><td>Spider-Man 2                                </td><td>2004</td><td>Sam Raimi        </td><td>135</td><td>Color</td><td>Action|Adventure|Fantasy|Romance                         </td><td>USA</td><td>A partir de 13 anos</td><td>200000000</td><td>373377893</td><td>7.3</td><td>     0</td><td>J.K. Simmons       </td><td>James Franco        </td><td>Kirsten Dunst       </td></tr>\n",
       "\t<tr><td>Iron Man 3                                  </td><td>2013</td><td>Shane Black      </td><td>195</td><td>Color</td><td>Action|Adventure|Sci-Fi                                  </td><td>USA</td><td>A partir de 13 anos</td><td>200000000</td><td>408992272</td><td>7.2</td><td> 95000</td><td>Robert Downey Jr.  </td><td>Jon Favreau         </td><td>Don Cheadle         </td></tr>\n",
       "\t<tr><td>Alice in Wonderland                         </td><td>2010</td><td>Tim Burton       </td><td>108</td><td>Color</td><td>Adventure|Family|Fantasy                                 </td><td>USA</td><td>Livre              </td><td>200000000</td><td>334185206</td><td>6.5</td><td> 24000</td><td>Johnny Depp        </td><td>Alan Rickman        </td><td>Anne Hathaway       </td></tr>\n",
       "\t<tr><td>Monsters University                         </td><td>2013</td><td>Dan Scanlon      </td><td>104</td><td>Color</td><td>Adventure|Animation|Comedy|Family|Fantasy                </td><td>USA</td><td>Outros             </td><td>200000000</td><td>268488329</td><td>7.3</td><td> 44000</td><td>Steve Buscemi      </td><td>Tyler Labine        </td><td>Sean Hayes          </td></tr>\n",
       "\t<tr><td>Transformers: Revenge of the Fallen         </td><td>2009</td><td>Michael Bay      </td><td>150</td><td>Color</td><td>Action|Adventure|Sci-Fi                                  </td><td>USA</td><td>A partir de 13 anos</td><td>200000000</td><td>402076689</td><td>6.0</td><td>     0</td><td>Glenn Morshower    </td><td>Kevin Dunn          </td><td>Ramon Rodriguez     </td></tr>\n",
       "\t<tr><td>Transformers: Age of Extinction             </td><td>2014</td><td>Michael Bay      </td><td>165</td><td>Color</td><td>Action|Adventure|Sci-Fi                                  </td><td>USA</td><td>A partir de 13 anos</td><td>210000000</td><td>245428137</td><td>5.7</td><td> 56000</td><td>Bingbing Li        </td><td>Sophia Myles        </td><td>Kelsey Grammer      </td></tr>\n",
       "\t<tr><td>...</td><td>...</td><td>...</td><td>...</td><td>...</td><td>...</td><td>...</td><td>...</td><td>...</td><td>...</td><td>...</td><td>...</td><td>...</td><td>...</td><td>...</td></tr>\n",
       "\t<tr><td>The Exploding Girl                </td><td>2009</td><td>Bradley Rust Gray </td><td> 79</td><td>Color          </td><td>Drama                              </td><td>USA</td><td>Outros             </td><td>      NA</td><td>   24705</td><td>6.3</td><td>  377</td><td>Zoe Kazan          </td><td>Mark Rendall      </td><td>Jordan Scovel     </td></tr>\n",
       "\t<tr><td>The Legend of God's Gun           </td><td>2007</td><td>Mike Bruce        </td><td> 78</td><td>Color          </td><td>Western                            </td><td>USA</td><td>A partir de 18 anos</td><td>   30000</td><td>  243768</td><td>4.1</td><td>   13</td><td>Joseph Campanella  </td><td>Kirpatrick Thomas </td><td>Christian Anderson</td></tr>\n",
       "\t<tr><td>Mutual Appreciation               </td><td>2005</td><td>Andrew Bujalski   </td><td>109</td><td>Black and White</td><td>Comedy                             </td><td>USA</td><td>A partir de 18 anos</td><td>      NA</td><td>      NA</td><td>6.9</td><td>   91</td><td>Andrew Bujalski    </td><td>Kate Dollenmayer  </td><td>Justin Rice       </td></tr>\n",
       "\t<tr><td>Her Cry: La Llorona Investigation </td><td>2013</td><td>Damir Catic       </td><td> 89</td><td>Color          </td><td>Horror                             </td><td>USA</td><td>Outros             </td><td>   60000</td><td>      NA</td><td>5.4</td><td>   48</td><td>Nichole Ceballos   </td><td>Ron Gelner        </td><td>Parker Riggs      </td></tr>\n",
       "\t<tr><td>Clerks                            </td><td>1994</td><td>Kevin Smith       </td><td>102</td><td>Black and White</td><td>Comedy                             </td><td>USA</td><td>A partir de 18 anos</td><td>  230000</td><td> 3151130</td><td>7.8</td><td>    0</td><td>Jason Mewes        </td><td>Brian O'Halloran  </td><td>Jeff Anderson     </td></tr>\n",
       "\t<tr><td>Pink Narcissus                    </td><td>1971</td><td>James Bidgood     </td><td> 65</td><td>Color          </td><td>Drama|Fantasy                      </td><td>USA</td><td>Outros             </td><td>   27000</td><td>    8231</td><td>6.7</td><td>   85</td><td>Don Brooks         </td><td>Bobby Kendall     </td><td>NA                </td></tr>\n",
       "\t<tr><td>Funny Ha Ha                       </td><td>2002</td><td>Andrew Bujalski   </td><td> 85</td><td>Color          </td><td>Comedy|Drama                       </td><td>USA</td><td>Outros             </td><td>      NA</td><td>      NA</td><td>6.4</td><td>  108</td><td>Andrew Bujalski    </td><td>Kate Dollenmayer  </td><td>Justin Rice       </td></tr>\n",
       "\t<tr><td>Sabotage                          </td><td>2014</td><td>David Ayer        </td><td>109</td><td>Color          </td><td>Action|Crime|Drama|Thriller        </td><td>USA</td><td>A partir de 18 anos</td><td>35000000</td><td>10499968</td><td>5.7</td><td>10000</td><td>Mireille Enos      </td><td>Martin Donovan    </td><td>Maurice Compte    </td></tr>\n",
       "\t<tr><td>Manito                            </td><td>2002</td><td>Eric Eason        </td><td> 79</td><td>Color          </td><td>Drama|Family                       </td><td>USA</td><td>Outros             </td><td>   24000</td><td>      NA</td><td>7.0</td><td>   61</td><td>Franky G           </td><td>Panchito Gómez    </td><td>Casper Martinez   </td></tr>\n",
       "\t<tr><td>Slacker                           </td><td>1991</td><td>Richard Linklater </td><td>100</td><td>Black and White</td><td>Comedy|Drama                       </td><td>USA</td><td>A partir de 18 anos</td><td>   23000</td><td> 1227508</td><td>7.1</td><td> 2000</td><td>Tommy Pallotta     </td><td>Richard Linklater </td><td>Jean Caffeine     </td></tr>\n",
       "\t<tr><td>Dutch Kills                       </td><td>2015</td><td>Joseph Mazzella   </td><td> 90</td><td>Color          </td><td>Crime|Drama|Thriller               </td><td>USA</td><td>Outros             </td><td>   25000</td><td>      NA</td><td>4.8</td><td>   33</td><td>Tjasa Ferme        </td><td>Mikaal Bates      </td><td>Damon Owlia       </td></tr>\n",
       "\t<tr><td>Dry Spell                         </td><td>2013</td><td>Travis Legge      </td><td> 90</td><td>Color          </td><td>Comedy|Romance                     </td><td>USA</td><td>Outros             </td><td>   22000</td><td>      NA</td><td>3.3</td><td>  200</td><td>Kristen Seavey     </td><td>Suzi Lorraine     </td><td>Travis Legge      </td></tr>\n",
       "\t<tr><td>Flywheel                          </td><td>2003</td><td>Alex Kendrick     </td><td>120</td><td>Color          </td><td>Drama                              </td><td>USA</td><td>Outros             </td><td>   20000</td><td>      NA</td><td>6.9</td><td>  725</td><td>Shannen Fields     </td><td>Lisa Arnold       </td><td>Janet Lee Dapper  </td></tr>\n",
       "\t<tr><td>Exeter                            </td><td>2015</td><td>Marcus Nispel     </td><td> 91</td><td>Color          </td><td>Horror|Mystery|Thriller            </td><td>USA</td><td>A partir de 18 anos</td><td>      NA</td><td>      NA</td><td>4.6</td><td>    0</td><td>Ashley Tramonte    </td><td>Brittany Curran   </td><td>Lindsay MacDonald </td></tr>\n",
       "\t<tr><td>The Ridges                        </td><td>2011</td><td>Brandon Landers   </td><td>143</td><td>NA             </td><td>Drama|Horror|Thriller              </td><td>USA</td><td>Outros             </td><td>   17350</td><td>      NA</td><td>3.0</td><td>   33</td><td>Robbie Barnes      </td><td>Alana Kaniewski   </td><td>Brandon Landers   </td></tr>\n",
       "\t<tr><td>The Puffy Chair                   </td><td>2005</td><td>Jay Duplass       </td><td> 85</td><td>Color          </td><td>Comedy|Drama|Romance               </td><td>USA</td><td>A partir de 18 anos</td><td>   15000</td><td>  192467</td><td>6.6</td><td>  297</td><td>Mark Duplass       </td><td>Katie Aselton     </td><td>Bari Hyman        </td></tr>\n",
       "\t<tr><td>Breaking Upwards                  </td><td>2009</td><td>Daryl Wein        </td><td> 88</td><td>Color          </td><td>Romance                            </td><td>USA</td><td>Outros             </td><td>   15000</td><td>   76382</td><td>6.2</td><td>  324</td><td>Zoe Lister-Jones   </td><td>Heather Burns     </td><td>Ebon Moss-Bachrach</td></tr>\n",
       "\t<tr><td>All Superheroes Must Die          </td><td>2011</td><td>Jason Trost       </td><td> 78</td><td>Color          </td><td>Sci-Fi|Thriller                    </td><td>USA</td><td>Outros             </td><td>   20000</td><td>      NA</td><td>4.0</td><td>  835</td><td>Sean Whalen        </td><td>Jason Trost       </td><td>Nick Principe     </td></tr>\n",
       "\t<tr><td>Pink Flamingos                    </td><td>1972</td><td>John Waters       </td><td>108</td><td>Color          </td><td>Comedy|Crime|Horror                </td><td>USA</td><td>A partir de 18 anos</td><td>   10000</td><td>  180483</td><td>6.1</td><td>    0</td><td>Divine             </td><td>Mink Stole        </td><td>Edith Massey      </td></tr>\n",
       "\t<tr><td>On the Downlow                    </td><td>2004</td><td>Tadeo Garcia      </td><td> 84</td><td>Color          </td><td>Drama                              </td><td>USA</td><td>Outros             </td><td>      NA</td><td>      NA</td><td>6.1</td><td>   22</td><td>Tatiana Suarez-Pico</td><td>Michael Cortez    </td><td>Eric Ambriz       </td></tr>\n",
       "\t<tr><td>Sanctuary; Quite a Conundrum      </td><td>2012</td><td>Thomas L. Phillips</td><td> 82</td><td>Color          </td><td>Comedy|Horror|Thriller             </td><td>USA</td><td>Outros             </td><td>  200000</td><td>      NA</td><td>5.4</td><td>  424</td><td>Julianna Pitt      </td><td>Joe Coffey        </td><td>John Lucas        </td></tr>\n",
       "\t<tr><td>Bang                              </td><td>1995</td><td>Ash Baron-Cohen   </td><td> 98</td><td>Color          </td><td>Crime|Drama                        </td><td>USA</td><td>Outros             </td><td>      NA</td><td>      NA</td><td>6.4</td><td>   20</td><td>Peter Greene       </td><td>Stanley B. Herman </td><td>James Noble       </td></tr>\n",
       "\t<tr><td>Primer                            </td><td>2004</td><td>Shane Carruth     </td><td> 77</td><td>Color          </td><td>Drama|Sci-Fi|Thriller              </td><td>USA</td><td>A partir de 13 anos</td><td>    7000</td><td>  424760</td><td>7.0</td><td>19000</td><td>Shane Carruth      </td><td>David Sullivan    </td><td>Casey Gooden      </td></tr>\n",
       "\t<tr><td>El Mariachi                       </td><td>1992</td><td>Robert Rodriguez  </td><td> 81</td><td>Color          </td><td>Action|Crime|Drama|Romance|Thriller</td><td>USA</td><td>A partir de 18 anos</td><td>    7000</td><td> 2040920</td><td>6.9</td><td>    0</td><td>Carlos Gallardo    </td><td>Peter Marquardt   </td><td>Consuelo Gómez    </td></tr>\n",
       "\t<tr><td>The Mongol King                   </td><td>2005</td><td>Anthony Vallone   </td><td> 84</td><td>Color          </td><td>Crime|Drama                        </td><td>USA</td><td>A partir de 13 anos</td><td>    3250</td><td>      NA</td><td>7.8</td><td>    4</td><td>Richard Jewell     </td><td>John Considine    </td><td>Sara Stepnicka    </td></tr>\n",
       "\t<tr><td>Newlyweds                         </td><td>2011</td><td>Edward Burns      </td><td> 95</td><td>Color          </td><td>Comedy|Drama                       </td><td>USA</td><td>Outros             </td><td>    9000</td><td>    4584</td><td>6.4</td><td>  413</td><td>Kerry Bishé        </td><td>Caitlin FitzGerald</td><td>Daniella Pineda   </td></tr>\n",
       "\t<tr><td>The Following                     </td><td>  NA</td><td>NA                </td><td> 43</td><td>Color          </td><td>Crime|Drama|Mystery|Thriller       </td><td>USA</td><td>Outros             </td><td>      NA</td><td>      NA</td><td>7.5</td><td>32000</td><td>Natalie Zea        </td><td>Valorie Curry     </td><td>Sam Underwood     </td></tr>\n",
       "\t<tr><td>A Plague So Pleasant              </td><td>2013</td><td>Benjamin Roberds  </td><td> 76</td><td>Color          </td><td>Drama|Horror|Thriller              </td><td>USA</td><td>Outros             </td><td>    1400</td><td>      NA</td><td>6.3</td><td>   16</td><td>Eva Boehnke        </td><td>Maxwell Moody     </td><td>David Chandler    </td></tr>\n",
       "\t<tr><td>Shanghai Calling                  </td><td>2012</td><td>Daniel Hsia       </td><td>100</td><td>Color          </td><td>Comedy|Drama|Romance               </td><td>USA</td><td>A partir de 13 anos</td><td>      NA</td><td>   10443</td><td>6.3</td><td>  660</td><td>Alan Ruck          </td><td>Daniel Henney     </td><td>Eliza Coupe       </td></tr>\n",
       "\t<tr><td>My Date with Drew                 </td><td>2004</td><td>Jon Gunn          </td><td> 90</td><td>Color          </td><td>Documentary                        </td><td>USA</td><td>Livre              </td><td>    1100</td><td>   85222</td><td>6.6</td><td>  456</td><td>John August        </td><td>Brian Herzlinger  </td><td>Jon Gunn          </td></tr>\n",
       "</tbody>\n",
       "</table>\n"
      ],
      "text/latex": [
       "A tibble: 3807 × 15\n",
       "\\begin{tabular}{lllllllllllllll}\n",
       " titulo & ano & diretor & duracao & cor & generos & pais & classificacao & orcamento & receita & nota\\_imdb & likes\\_facebook & ator\\_1 & ator\\_2 & ator\\_3\\\\\n",
       " <chr> & <dbl> & <chr> & <dbl> & <chr> & <chr> & <chr> & <chr> & <dbl> & <dbl> & <dbl> & <dbl> & <chr> & <chr> & <chr>\\\\\n",
       "\\hline\n",
       "\t Avatar                                       & 2009 & James Cameron     & 178 & Color & Action\\textbar{}Adventure\\textbar{}Fantasy\\textbar{}Sci-Fi                           & USA & A partir de 13 anos & 237000000 & 760505847 & 7.9 &  33000 & CCH Pounder         & Joel David Moore     & Wes Studi           \\\\\n",
       "\t Pirates of the Caribbean: At World's End     & 2007 & Gore Verbinski    & 169 & Color & Action\\textbar{}Adventure\\textbar{}Fantasy                                  & USA & A partir de 13 anos & 300000000 & 309404152 & 7.1 &      0 & Johnny Depp         & Orlando Bloom        & Jack Davenport      \\\\\n",
       "\t The Dark Knight Rises                        & 2012 & Christopher Nolan & 164 & Color & Action\\textbar{}Thriller                                           & USA & A partir de 13 anos & 250000000 & 448130642 & 8.5 & 164000 & Tom Hardy           & Christian Bale       & Joseph Gordon-Levitt\\\\\n",
       "\t John Carter                                  & 2012 & Andrew Stanton    & 132 & Color & Action\\textbar{}Adventure\\textbar{}Sci-Fi                                   & USA & A partir de 13 anos & 263700000 &  73058679 & 6.6 &  24000 & Daryl Sabara        & Samantha Morton      & Polly Walker        \\\\\n",
       "\t Spider-Man 3                                 & 2007 & Sam Raimi         & 156 & Color & Action\\textbar{}Adventure\\textbar{}Romance                                  & USA & A partir de 13 anos & 258000000 & 336530303 & 6.2 &      0 & J.K. Simmons        & James Franco         & Kirsten Dunst       \\\\\n",
       "\t Tangled                                      & 2010 & Nathan Greno      & 100 & Color & Adventure\\textbar{}Animation\\textbar{}Comedy\\textbar{}Family\\textbar{}Fantasy\\textbar{}Musical\\textbar{}Romance & USA & Livre               & 260000000 & 200807262 & 7.8 &  29000 & Brad Garrett        & Donna Murphy         & M.C. Gainey         \\\\\n",
       "\t Avengers: Age of Ultron                      & 2015 & Joss Whedon       & 141 & Color & Action\\textbar{}Adventure\\textbar{}Sci-Fi                                   & USA & A partir de 13 anos & 250000000 & 458991599 & 7.5 & 118000 & Chris Hemsworth     & Robert Downey Jr.    & Scarlett Johansson  \\\\\n",
       "\t Batman v Superman: Dawn of Justice           & 2016 & Zack Snyder       & 183 & Color & Action\\textbar{}Adventure\\textbar{}Sci-Fi                                   & USA & A partir de 13 anos & 250000000 & 330249062 & 6.9 & 197000 & Henry Cavill        & Lauren Cohan         & Alan D. Purwin      \\\\\n",
       "\t Superman Returns                             & 2006 & Bryan Singer      & 169 & Color & Action\\textbar{}Adventure\\textbar{}Sci-Fi                                   & USA & A partir de 13 anos & 209000000 & 200069408 & 6.1 &      0 & Kevin Spacey        & Marlon Brando        & Frank Langella      \\\\\n",
       "\t Pirates of the Caribbean: Dead Man's Chest   & 2006 & Gore Verbinski    & 151 & Color & Action\\textbar{}Adventure\\textbar{}Fantasy                                  & USA & A partir de 13 anos & 225000000 & 423032628 & 7.3 &   5000 & Johnny Depp         & Orlando Bloom        & Jack Davenport      \\\\\n",
       "\t The Lone Ranger                              & 2013 & Gore Verbinski    & 150 & Color & Action\\textbar{}Adventure\\textbar{}Western                                  & USA & A partir de 13 anos & 215000000 &  89289910 & 6.5 &  48000 & Johnny Depp         & Ruth Wilson          & Tom Wilkinson       \\\\\n",
       "\t Man of Steel                                 & 2013 & Zack Snyder       & 143 & Color & Action\\textbar{}Adventure\\textbar{}Fantasy\\textbar{}Sci-Fi                           & USA & A partir de 13 anos & 225000000 & 291021565 & 7.2 & 118000 & Henry Cavill        & Christopher Meloni   & Harry Lennix        \\\\\n",
       "\t The Chronicles of Narnia: Prince Caspian     & 2008 & Andrew Adamson    & 150 & Color & Action\\textbar{}Adventure\\textbar{}Family\\textbar{}Fantasy                           & USA & Livre               & 225000000 & 141614023 & 6.6 &      0 & Peter Dinklage      & Pierfrancesco Favino & Damián Alcázar      \\\\\n",
       "\t The Avengers                                 & 2012 & Joss Whedon       & 173 & Color & Action\\textbar{}Adventure\\textbar{}Sci-Fi                                   & USA & A partir de 13 anos & 220000000 & 623279547 & 8.1 & 123000 & Chris Hemsworth     & Robert Downey Jr.    & Scarlett Johansson  \\\\\n",
       "\t Pirates of the Caribbean: On Stranger Tides  & 2011 & Rob Marshall      & 136 & Color & Action\\textbar{}Adventure\\textbar{}Fantasy                                  & USA & A partir de 13 anos & 250000000 & 241063875 & 6.7 &  58000 & Johnny Depp         & Sam Claflin          & Stephen Graham      \\\\\n",
       "\t Men in Black 3                               & 2012 & Barry Sonnenfeld  & 106 & Color & Action\\textbar{}Adventure\\textbar{}Comedy\\textbar{}Family\\textbar{}Fantasy\\textbar{}Sci-Fi             & USA & A partir de 13 anos & 225000000 & 179020854 & 6.8 &  40000 & Will Smith          & Michael Stuhlbarg    & Nicole Scherzinger  \\\\\n",
       "\t The Amazing Spider-Man                       & 2012 & Marc Webb         & 153 & Color & Action\\textbar{}Adventure\\textbar{}Fantasy                                  & USA & A partir de 13 anos & 230000000 & 262030663 & 7.0 &  56000 & Emma Stone          & Andrew Garfield      & Chris Zylka         \\\\\n",
       "\t Robin Hood                                   & 2010 & Ridley Scott      & 156 & Color & Action\\textbar{}Adventure\\textbar{}Drama\\textbar{}History                            & USA & A partir de 13 anos & 200000000 & 105219735 & 6.7 &  17000 & Mark Addy           & William Hurt         & Scott Grimes        \\\\\n",
       "\t The Hobbit: The Desolation of Smaug          & 2013 & Peter Jackson     & 186 & Color & Adventure\\textbar{}Fantasy                                         & USA & A partir de 13 anos & 225000000 & 258355354 & 7.9 &  83000 & Aidan Turner        & Adam Brown           & James Nesbitt       \\\\\n",
       "\t The Golden Compass                           & 2007 & Chris Weitz       & 113 & Color & Adventure\\textbar{}Family\\textbar{}Fantasy                                  & USA & A partir de 13 anos & 180000000 &  70083519 & 6.1 &      0 & Christopher Lee     & Eva Green            & Kristin Scott Thomas\\\\\n",
       "\t Titanic                                      & 1997 & James Cameron     & 194 & Color & Drama\\textbar{}Romance                                             & USA & A partir de 13 anos & 200000000 & 658672302 & 7.7 &  26000 & Leonardo DiCaprio   & Kate Winslet         & Gloria Stuart       \\\\\n",
       "\t Captain America: Civil War                   & 2016 & Anthony Russo     & 147 & Color & Action\\textbar{}Adventure\\textbar{}Sci-Fi                                   & USA & A partir de 13 anos & 250000000 & 407197282 & 8.2 &  72000 & Robert Downey Jr.   & Scarlett Johansson   & Chris Evans         \\\\\n",
       "\t Battleship                                   & 2012 & Peter Berg        & 131 & Color & Action\\textbar{}Adventure\\textbar{}Sci-Fi\\textbar{}Thriller                          & USA & A partir de 13 anos & 209000000 &  65173160 & 5.9 &  44000 & Liam Neeson         & Alexander Skarsgård  & Tadanobu Asano      \\\\\n",
       "\t Jurassic World                               & 2015 & Colin Trevorrow   & 124 & Color & Action\\textbar{}Adventure\\textbar{}Sci-Fi\\textbar{}Thriller                          & USA & A partir de 13 anos & 150000000 & 652177271 & 7.0 & 150000 & Bryce Dallas Howard & Judy Greer           & Omar Sy             \\\\\n",
       "\t Spider-Man 2                                 & 2004 & Sam Raimi         & 135 & Color & Action\\textbar{}Adventure\\textbar{}Fantasy\\textbar{}Romance                          & USA & A partir de 13 anos & 200000000 & 373377893 & 7.3 &      0 & J.K. Simmons        & James Franco         & Kirsten Dunst       \\\\\n",
       "\t Iron Man 3                                   & 2013 & Shane Black       & 195 & Color & Action\\textbar{}Adventure\\textbar{}Sci-Fi                                   & USA & A partir de 13 anos & 200000000 & 408992272 & 7.2 &  95000 & Robert Downey Jr.   & Jon Favreau          & Don Cheadle         \\\\\n",
       "\t Alice in Wonderland                          & 2010 & Tim Burton        & 108 & Color & Adventure\\textbar{}Family\\textbar{}Fantasy                                  & USA & Livre               & 200000000 & 334185206 & 6.5 &  24000 & Johnny Depp         & Alan Rickman         & Anne Hathaway       \\\\\n",
       "\t Monsters University                          & 2013 & Dan Scanlon       & 104 & Color & Adventure\\textbar{}Animation\\textbar{}Comedy\\textbar{}Family\\textbar{}Fantasy                 & USA & Outros              & 200000000 & 268488329 & 7.3 &  44000 & Steve Buscemi       & Tyler Labine         & Sean Hayes          \\\\\n",
       "\t Transformers: Revenge of the Fallen          & 2009 & Michael Bay       & 150 & Color & Action\\textbar{}Adventure\\textbar{}Sci-Fi                                   & USA & A partir de 13 anos & 200000000 & 402076689 & 6.0 &      0 & Glenn Morshower     & Kevin Dunn           & Ramon Rodriguez     \\\\\n",
       "\t Transformers: Age of Extinction              & 2014 & Michael Bay       & 165 & Color & Action\\textbar{}Adventure\\textbar{}Sci-Fi                                   & USA & A partir de 13 anos & 210000000 & 245428137 & 5.7 &  56000 & Bingbing Li         & Sophia Myles         & Kelsey Grammer      \\\\\n",
       "\t ... & ... & ... & ... & ... & ... & ... & ... & ... & ... & ... & ... & ... & ... & ...\\\\\n",
       "\t The Exploding Girl                 & 2009 & Bradley Rust Gray  &  79 & Color           & Drama                               & USA & Outros              &       NA &    24705 & 6.3 &   377 & Zoe Kazan           & Mark Rendall       & Jordan Scovel     \\\\\n",
       "\t The Legend of God's Gun            & 2007 & Mike Bruce         &  78 & Color           & Western                             & USA & A partir de 18 anos &    30000 &   243768 & 4.1 &    13 & Joseph Campanella   & Kirpatrick Thomas  & Christian Anderson\\\\\n",
       "\t Mutual Appreciation                & 2005 & Andrew Bujalski    & 109 & Black and White & Comedy                              & USA & A partir de 18 anos &       NA &       NA & 6.9 &    91 & Andrew Bujalski     & Kate Dollenmayer   & Justin Rice       \\\\\n",
       "\t Her Cry: La Llorona Investigation  & 2013 & Damir Catic        &  89 & Color           & Horror                              & USA & Outros              &    60000 &       NA & 5.4 &    48 & Nichole Ceballos    & Ron Gelner         & Parker Riggs      \\\\\n",
       "\t Clerks                             & 1994 & Kevin Smith        & 102 & Black and White & Comedy                              & USA & A partir de 18 anos &   230000 &  3151130 & 7.8 &     0 & Jason Mewes         & Brian O'Halloran   & Jeff Anderson     \\\\\n",
       "\t Pink Narcissus                     & 1971 & James Bidgood      &  65 & Color           & Drama\\textbar{}Fantasy                       & USA & Outros              &    27000 &     8231 & 6.7 &    85 & Don Brooks          & Bobby Kendall      & NA                \\\\\n",
       "\t Funny Ha Ha                        & 2002 & Andrew Bujalski    &  85 & Color           & Comedy\\textbar{}Drama                        & USA & Outros              &       NA &       NA & 6.4 &   108 & Andrew Bujalski     & Kate Dollenmayer   & Justin Rice       \\\\\n",
       "\t Sabotage                           & 2014 & David Ayer         & 109 & Color           & Action\\textbar{}Crime\\textbar{}Drama\\textbar{}Thriller         & USA & A partir de 18 anos & 35000000 & 10499968 & 5.7 & 10000 & Mireille Enos       & Martin Donovan     & Maurice Compte    \\\\\n",
       "\t Manito                             & 2002 & Eric Eason         &  79 & Color           & Drama\\textbar{}Family                        & USA & Outros              &    24000 &       NA & 7.0 &    61 & Franky G            & Panchito Gómez     & Casper Martinez   \\\\\n",
       "\t Slacker                            & 1991 & Richard Linklater  & 100 & Black and White & Comedy\\textbar{}Drama                        & USA & A partir de 18 anos &    23000 &  1227508 & 7.1 &  2000 & Tommy Pallotta      & Richard Linklater  & Jean Caffeine     \\\\\n",
       "\t Dutch Kills                        & 2015 & Joseph Mazzella    &  90 & Color           & Crime\\textbar{}Drama\\textbar{}Thriller                & USA & Outros              &    25000 &       NA & 4.8 &    33 & Tjasa Ferme         & Mikaal Bates       & Damon Owlia       \\\\\n",
       "\t Dry Spell                          & 2013 & Travis Legge       &  90 & Color           & Comedy\\textbar{}Romance                      & USA & Outros              &    22000 &       NA & 3.3 &   200 & Kristen Seavey      & Suzi Lorraine      & Travis Legge      \\\\\n",
       "\t Flywheel                           & 2003 & Alex Kendrick      & 120 & Color           & Drama                               & USA & Outros              &    20000 &       NA & 6.9 &   725 & Shannen Fields      & Lisa Arnold        & Janet Lee Dapper  \\\\\n",
       "\t Exeter                             & 2015 & Marcus Nispel      &  91 & Color           & Horror\\textbar{}Mystery\\textbar{}Thriller             & USA & A partir de 18 anos &       NA &       NA & 4.6 &     0 & Ashley Tramonte     & Brittany Curran    & Lindsay MacDonald \\\\\n",
       "\t The Ridges                         & 2011 & Brandon Landers    & 143 & NA              & Drama\\textbar{}Horror\\textbar{}Thriller               & USA & Outros              &    17350 &       NA & 3.0 &    33 & Robbie Barnes       & Alana Kaniewski    & Brandon Landers   \\\\\n",
       "\t The Puffy Chair                    & 2005 & Jay Duplass        &  85 & Color           & Comedy\\textbar{}Drama\\textbar{}Romance                & USA & A partir de 18 anos &    15000 &   192467 & 6.6 &   297 & Mark Duplass        & Katie Aselton      & Bari Hyman        \\\\\n",
       "\t Breaking Upwards                   & 2009 & Daryl Wein         &  88 & Color           & Romance                             & USA & Outros              &    15000 &    76382 & 6.2 &   324 & Zoe Lister-Jones    & Heather Burns      & Ebon Moss-Bachrach\\\\\n",
       "\t All Superheroes Must Die           & 2011 & Jason Trost        &  78 & Color           & Sci-Fi\\textbar{}Thriller                     & USA & Outros              &    20000 &       NA & 4.0 &   835 & Sean Whalen         & Jason Trost        & Nick Principe     \\\\\n",
       "\t Pink Flamingos                     & 1972 & John Waters        & 108 & Color           & Comedy\\textbar{}Crime\\textbar{}Horror                 & USA & A partir de 18 anos &    10000 &   180483 & 6.1 &     0 & Divine              & Mink Stole         & Edith Massey      \\\\\n",
       "\t On the Downlow                     & 2004 & Tadeo Garcia       &  84 & Color           & Drama                               & USA & Outros              &       NA &       NA & 6.1 &    22 & Tatiana Suarez-Pico & Michael Cortez     & Eric Ambriz       \\\\\n",
       "\t Sanctuary; Quite a Conundrum       & 2012 & Thomas L. Phillips &  82 & Color           & Comedy\\textbar{}Horror\\textbar{}Thriller              & USA & Outros              &   200000 &       NA & 5.4 &   424 & Julianna Pitt       & Joe Coffey         & John Lucas        \\\\\n",
       "\t Bang                               & 1995 & Ash Baron-Cohen    &  98 & Color           & Crime\\textbar{}Drama                         & USA & Outros              &       NA &       NA & 6.4 &    20 & Peter Greene        & Stanley B. Herman  & James Noble       \\\\\n",
       "\t Primer                             & 2004 & Shane Carruth      &  77 & Color           & Drama\\textbar{}Sci-Fi\\textbar{}Thriller               & USA & A partir de 13 anos &     7000 &   424760 & 7.0 & 19000 & Shane Carruth       & David Sullivan     & Casey Gooden      \\\\\n",
       "\t El Mariachi                        & 1992 & Robert Rodriguez   &  81 & Color           & Action\\textbar{}Crime\\textbar{}Drama\\textbar{}Romance\\textbar{}Thriller & USA & A partir de 18 anos &     7000 &  2040920 & 6.9 &     0 & Carlos Gallardo     & Peter Marquardt    & Consuelo Gómez    \\\\\n",
       "\t The Mongol King                    & 2005 & Anthony Vallone    &  84 & Color           & Crime\\textbar{}Drama                         & USA & A partir de 13 anos &     3250 &       NA & 7.8 &     4 & Richard Jewell      & John Considine     & Sara Stepnicka    \\\\\n",
       "\t Newlyweds                          & 2011 & Edward Burns       &  95 & Color           & Comedy\\textbar{}Drama                        & USA & Outros              &     9000 &     4584 & 6.4 &   413 & Kerry Bishé         & Caitlin FitzGerald & Daniella Pineda   \\\\\n",
       "\t The Following                      &   NA & NA                 &  43 & Color           & Crime\\textbar{}Drama\\textbar{}Mystery\\textbar{}Thriller        & USA & Outros              &       NA &       NA & 7.5 & 32000 & Natalie Zea         & Valorie Curry      & Sam Underwood     \\\\\n",
       "\t A Plague So Pleasant               & 2013 & Benjamin Roberds   &  76 & Color           & Drama\\textbar{}Horror\\textbar{}Thriller               & USA & Outros              &     1400 &       NA & 6.3 &    16 & Eva Boehnke         & Maxwell Moody      & David Chandler    \\\\\n",
       "\t Shanghai Calling                   & 2012 & Daniel Hsia        & 100 & Color           & Comedy\\textbar{}Drama\\textbar{}Romance                & USA & A partir de 13 anos &       NA &    10443 & 6.3 &   660 & Alan Ruck           & Daniel Henney      & Eliza Coupe       \\\\\n",
       "\t My Date with Drew                  & 2004 & Jon Gunn           &  90 & Color           & Documentary                         & USA & Livre               &     1100 &    85222 & 6.6 &   456 & John August         & Brian Herzlinger   & Jon Gunn          \\\\\n",
       "\\end{tabular}\n"
      ],
      "text/markdown": [
       "\n",
       "A tibble: 3807 × 15\n",
       "\n",
       "| titulo &lt;chr&gt; | ano &lt;dbl&gt; | diretor &lt;chr&gt; | duracao &lt;dbl&gt; | cor &lt;chr&gt; | generos &lt;chr&gt; | pais &lt;chr&gt; | classificacao &lt;chr&gt; | orcamento &lt;dbl&gt; | receita &lt;dbl&gt; | nota_imdb &lt;dbl&gt; | likes_facebook &lt;dbl&gt; | ator_1 &lt;chr&gt; | ator_2 &lt;chr&gt; | ator_3 &lt;chr&gt; |\n",
       "|---|---|---|---|---|---|---|---|---|---|---|---|---|---|---|\n",
       "| Avatar                                       | 2009 | James Cameron     | 178 | Color | Action|Adventure|Fantasy|Sci-Fi                           | USA | A partir de 13 anos | 237000000 | 760505847 | 7.9 |  33000 | CCH Pounder         | Joel David Moore     | Wes Studi            |\n",
       "| Pirates of the Caribbean: At World's End     | 2007 | Gore Verbinski    | 169 | Color | Action|Adventure|Fantasy                                  | USA | A partir de 13 anos | 300000000 | 309404152 | 7.1 |      0 | Johnny Depp         | Orlando Bloom        | Jack Davenport       |\n",
       "| The Dark Knight Rises                        | 2012 | Christopher Nolan | 164 | Color | Action|Thriller                                           | USA | A partir de 13 anos | 250000000 | 448130642 | 8.5 | 164000 | Tom Hardy           | Christian Bale       | Joseph Gordon-Levitt |\n",
       "| John Carter                                  | 2012 | Andrew Stanton    | 132 | Color | Action|Adventure|Sci-Fi                                   | USA | A partir de 13 anos | 263700000 |  73058679 | 6.6 |  24000 | Daryl Sabara        | Samantha Morton      | Polly Walker         |\n",
       "| Spider-Man 3                                 | 2007 | Sam Raimi         | 156 | Color | Action|Adventure|Romance                                  | USA | A partir de 13 anos | 258000000 | 336530303 | 6.2 |      0 | J.K. Simmons        | James Franco         | Kirsten Dunst        |\n",
       "| Tangled                                      | 2010 | Nathan Greno      | 100 | Color | Adventure|Animation|Comedy|Family|Fantasy|Musical|Romance | USA | Livre               | 260000000 | 200807262 | 7.8 |  29000 | Brad Garrett        | Donna Murphy         | M.C. Gainey          |\n",
       "| Avengers: Age of Ultron                      | 2015 | Joss Whedon       | 141 | Color | Action|Adventure|Sci-Fi                                   | USA | A partir de 13 anos | 250000000 | 458991599 | 7.5 | 118000 | Chris Hemsworth     | Robert Downey Jr.    | Scarlett Johansson   |\n",
       "| Batman v Superman: Dawn of Justice           | 2016 | Zack Snyder       | 183 | Color | Action|Adventure|Sci-Fi                                   | USA | A partir de 13 anos | 250000000 | 330249062 | 6.9 | 197000 | Henry Cavill        | Lauren Cohan         | Alan D. Purwin       |\n",
       "| Superman Returns                             | 2006 | Bryan Singer      | 169 | Color | Action|Adventure|Sci-Fi                                   | USA | A partir de 13 anos | 209000000 | 200069408 | 6.1 |      0 | Kevin Spacey        | Marlon Brando        | Frank Langella       |\n",
       "| Pirates of the Caribbean: Dead Man's Chest   | 2006 | Gore Verbinski    | 151 | Color | Action|Adventure|Fantasy                                  | USA | A partir de 13 anos | 225000000 | 423032628 | 7.3 |   5000 | Johnny Depp         | Orlando Bloom        | Jack Davenport       |\n",
       "| The Lone Ranger                              | 2013 | Gore Verbinski    | 150 | Color | Action|Adventure|Western                                  | USA | A partir de 13 anos | 215000000 |  89289910 | 6.5 |  48000 | Johnny Depp         | Ruth Wilson          | Tom Wilkinson        |\n",
       "| Man of Steel                                 | 2013 | Zack Snyder       | 143 | Color | Action|Adventure|Fantasy|Sci-Fi                           | USA | A partir de 13 anos | 225000000 | 291021565 | 7.2 | 118000 | Henry Cavill        | Christopher Meloni   | Harry Lennix         |\n",
       "| The Chronicles of Narnia: Prince Caspian     | 2008 | Andrew Adamson    | 150 | Color | Action|Adventure|Family|Fantasy                           | USA | Livre               | 225000000 | 141614023 | 6.6 |      0 | Peter Dinklage      | Pierfrancesco Favino | Damián Alcázar       |\n",
       "| The Avengers                                 | 2012 | Joss Whedon       | 173 | Color | Action|Adventure|Sci-Fi                                   | USA | A partir de 13 anos | 220000000 | 623279547 | 8.1 | 123000 | Chris Hemsworth     | Robert Downey Jr.    | Scarlett Johansson   |\n",
       "| Pirates of the Caribbean: On Stranger Tides  | 2011 | Rob Marshall      | 136 | Color | Action|Adventure|Fantasy                                  | USA | A partir de 13 anos | 250000000 | 241063875 | 6.7 |  58000 | Johnny Depp         | Sam Claflin          | Stephen Graham       |\n",
       "| Men in Black 3                               | 2012 | Barry Sonnenfeld  | 106 | Color | Action|Adventure|Comedy|Family|Fantasy|Sci-Fi             | USA | A partir de 13 anos | 225000000 | 179020854 | 6.8 |  40000 | Will Smith          | Michael Stuhlbarg    | Nicole Scherzinger   |\n",
       "| The Amazing Spider-Man                       | 2012 | Marc Webb         | 153 | Color | Action|Adventure|Fantasy                                  | USA | A partir de 13 anos | 230000000 | 262030663 | 7.0 |  56000 | Emma Stone          | Andrew Garfield      | Chris Zylka          |\n",
       "| Robin Hood                                   | 2010 | Ridley Scott      | 156 | Color | Action|Adventure|Drama|History                            | USA | A partir de 13 anos | 200000000 | 105219735 | 6.7 |  17000 | Mark Addy           | William Hurt         | Scott Grimes         |\n",
       "| The Hobbit: The Desolation of Smaug          | 2013 | Peter Jackson     | 186 | Color | Adventure|Fantasy                                         | USA | A partir de 13 anos | 225000000 | 258355354 | 7.9 |  83000 | Aidan Turner        | Adam Brown           | James Nesbitt        |\n",
       "| The Golden Compass                           | 2007 | Chris Weitz       | 113 | Color | Adventure|Family|Fantasy                                  | USA | A partir de 13 anos | 180000000 |  70083519 | 6.1 |      0 | Christopher Lee     | Eva Green            | Kristin Scott Thomas |\n",
       "| Titanic                                      | 1997 | James Cameron     | 194 | Color | Drama|Romance                                             | USA | A partir de 13 anos | 200000000 | 658672302 | 7.7 |  26000 | Leonardo DiCaprio   | Kate Winslet         | Gloria Stuart        |\n",
       "| Captain America: Civil War                   | 2016 | Anthony Russo     | 147 | Color | Action|Adventure|Sci-Fi                                   | USA | A partir de 13 anos | 250000000 | 407197282 | 8.2 |  72000 | Robert Downey Jr.   | Scarlett Johansson   | Chris Evans          |\n",
       "| Battleship                                   | 2012 | Peter Berg        | 131 | Color | Action|Adventure|Sci-Fi|Thriller                          | USA | A partir de 13 anos | 209000000 |  65173160 | 5.9 |  44000 | Liam Neeson         | Alexander Skarsgård  | Tadanobu Asano       |\n",
       "| Jurassic World                               | 2015 | Colin Trevorrow   | 124 | Color | Action|Adventure|Sci-Fi|Thriller                          | USA | A partir de 13 anos | 150000000 | 652177271 | 7.0 | 150000 | Bryce Dallas Howard | Judy Greer           | Omar Sy              |\n",
       "| Spider-Man 2                                 | 2004 | Sam Raimi         | 135 | Color | Action|Adventure|Fantasy|Romance                          | USA | A partir de 13 anos | 200000000 | 373377893 | 7.3 |      0 | J.K. Simmons        | James Franco         | Kirsten Dunst        |\n",
       "| Iron Man 3                                   | 2013 | Shane Black       | 195 | Color | Action|Adventure|Sci-Fi                                   | USA | A partir de 13 anos | 200000000 | 408992272 | 7.2 |  95000 | Robert Downey Jr.   | Jon Favreau          | Don Cheadle          |\n",
       "| Alice in Wonderland                          | 2010 | Tim Burton        | 108 | Color | Adventure|Family|Fantasy                                  | USA | Livre               | 200000000 | 334185206 | 6.5 |  24000 | Johnny Depp         | Alan Rickman         | Anne Hathaway        |\n",
       "| Monsters University                          | 2013 | Dan Scanlon       | 104 | Color | Adventure|Animation|Comedy|Family|Fantasy                 | USA | Outros              | 200000000 | 268488329 | 7.3 |  44000 | Steve Buscemi       | Tyler Labine         | Sean Hayes           |\n",
       "| Transformers: Revenge of the Fallen          | 2009 | Michael Bay       | 150 | Color | Action|Adventure|Sci-Fi                                   | USA | A partir de 13 anos | 200000000 | 402076689 | 6.0 |      0 | Glenn Morshower     | Kevin Dunn           | Ramon Rodriguez      |\n",
       "| Transformers: Age of Extinction              | 2014 | Michael Bay       | 165 | Color | Action|Adventure|Sci-Fi                                   | USA | A partir de 13 anos | 210000000 | 245428137 | 5.7 |  56000 | Bingbing Li         | Sophia Myles         | Kelsey Grammer       |\n",
       "| ... | ... | ... | ... | ... | ... | ... | ... | ... | ... | ... | ... | ... | ... | ... |\n",
       "| The Exploding Girl                 | 2009 | Bradley Rust Gray  |  79 | Color           | Drama                               | USA | Outros              |       NA |    24705 | 6.3 |   377 | Zoe Kazan           | Mark Rendall       | Jordan Scovel      |\n",
       "| The Legend of God's Gun            | 2007 | Mike Bruce         |  78 | Color           | Western                             | USA | A partir de 18 anos |    30000 |   243768 | 4.1 |    13 | Joseph Campanella   | Kirpatrick Thomas  | Christian Anderson |\n",
       "| Mutual Appreciation                | 2005 | Andrew Bujalski    | 109 | Black and White | Comedy                              | USA | A partir de 18 anos |       NA |       NA | 6.9 |    91 | Andrew Bujalski     | Kate Dollenmayer   | Justin Rice        |\n",
       "| Her Cry: La Llorona Investigation  | 2013 | Damir Catic        |  89 | Color           | Horror                              | USA | Outros              |    60000 |       NA | 5.4 |    48 | Nichole Ceballos    | Ron Gelner         | Parker Riggs       |\n",
       "| Clerks                             | 1994 | Kevin Smith        | 102 | Black and White | Comedy                              | USA | A partir de 18 anos |   230000 |  3151130 | 7.8 |     0 | Jason Mewes         | Brian O'Halloran   | Jeff Anderson      |\n",
       "| Pink Narcissus                     | 1971 | James Bidgood      |  65 | Color           | Drama|Fantasy                       | USA | Outros              |    27000 |     8231 | 6.7 |    85 | Don Brooks          | Bobby Kendall      | NA                 |\n",
       "| Funny Ha Ha                        | 2002 | Andrew Bujalski    |  85 | Color           | Comedy|Drama                        | USA | Outros              |       NA |       NA | 6.4 |   108 | Andrew Bujalski     | Kate Dollenmayer   | Justin Rice        |\n",
       "| Sabotage                           | 2014 | David Ayer         | 109 | Color           | Action|Crime|Drama|Thriller         | USA | A partir de 18 anos | 35000000 | 10499968 | 5.7 | 10000 | Mireille Enos       | Martin Donovan     | Maurice Compte     |\n",
       "| Manito                             | 2002 | Eric Eason         |  79 | Color           | Drama|Family                        | USA | Outros              |    24000 |       NA | 7.0 |    61 | Franky G            | Panchito Gómez     | Casper Martinez    |\n",
       "| Slacker                            | 1991 | Richard Linklater  | 100 | Black and White | Comedy|Drama                        | USA | A partir de 18 anos |    23000 |  1227508 | 7.1 |  2000 | Tommy Pallotta      | Richard Linklater  | Jean Caffeine      |\n",
       "| Dutch Kills                        | 2015 | Joseph Mazzella    |  90 | Color           | Crime|Drama|Thriller                | USA | Outros              |    25000 |       NA | 4.8 |    33 | Tjasa Ferme         | Mikaal Bates       | Damon Owlia        |\n",
       "| Dry Spell                          | 2013 | Travis Legge       |  90 | Color           | Comedy|Romance                      | USA | Outros              |    22000 |       NA | 3.3 |   200 | Kristen Seavey      | Suzi Lorraine      | Travis Legge       |\n",
       "| Flywheel                           | 2003 | Alex Kendrick      | 120 | Color           | Drama                               | USA | Outros              |    20000 |       NA | 6.9 |   725 | Shannen Fields      | Lisa Arnold        | Janet Lee Dapper   |\n",
       "| Exeter                             | 2015 | Marcus Nispel      |  91 | Color           | Horror|Mystery|Thriller             | USA | A partir de 18 anos |       NA |       NA | 4.6 |     0 | Ashley Tramonte     | Brittany Curran    | Lindsay MacDonald  |\n",
       "| The Ridges                         | 2011 | Brandon Landers    | 143 | NA              | Drama|Horror|Thriller               | USA | Outros              |    17350 |       NA | 3.0 |    33 | Robbie Barnes       | Alana Kaniewski    | Brandon Landers    |\n",
       "| The Puffy Chair                    | 2005 | Jay Duplass        |  85 | Color           | Comedy|Drama|Romance                | USA | A partir de 18 anos |    15000 |   192467 | 6.6 |   297 | Mark Duplass        | Katie Aselton      | Bari Hyman         |\n",
       "| Breaking Upwards                   | 2009 | Daryl Wein         |  88 | Color           | Romance                             | USA | Outros              |    15000 |    76382 | 6.2 |   324 | Zoe Lister-Jones    | Heather Burns      | Ebon Moss-Bachrach |\n",
       "| All Superheroes Must Die           | 2011 | Jason Trost        |  78 | Color           | Sci-Fi|Thriller                     | USA | Outros              |    20000 |       NA | 4.0 |   835 | Sean Whalen         | Jason Trost        | Nick Principe      |\n",
       "| Pink Flamingos                     | 1972 | John Waters        | 108 | Color           | Comedy|Crime|Horror                 | USA | A partir de 18 anos |    10000 |   180483 | 6.1 |     0 | Divine              | Mink Stole         | Edith Massey       |\n",
       "| On the Downlow                     | 2004 | Tadeo Garcia       |  84 | Color           | Drama                               | USA | Outros              |       NA |       NA | 6.1 |    22 | Tatiana Suarez-Pico | Michael Cortez     | Eric Ambriz        |\n",
       "| Sanctuary; Quite a Conundrum       | 2012 | Thomas L. Phillips |  82 | Color           | Comedy|Horror|Thriller              | USA | Outros              |   200000 |       NA | 5.4 |   424 | Julianna Pitt       | Joe Coffey         | John Lucas         |\n",
       "| Bang                               | 1995 | Ash Baron-Cohen    |  98 | Color           | Crime|Drama                         | USA | Outros              |       NA |       NA | 6.4 |    20 | Peter Greene        | Stanley B. Herman  | James Noble        |\n",
       "| Primer                             | 2004 | Shane Carruth      |  77 | Color           | Drama|Sci-Fi|Thriller               | USA | A partir de 13 anos |     7000 |   424760 | 7.0 | 19000 | Shane Carruth       | David Sullivan     | Casey Gooden       |\n",
       "| El Mariachi                        | 1992 | Robert Rodriguez   |  81 | Color           | Action|Crime|Drama|Romance|Thriller | USA | A partir de 18 anos |     7000 |  2040920 | 6.9 |     0 | Carlos Gallardo     | Peter Marquardt    | Consuelo Gómez     |\n",
       "| The Mongol King                    | 2005 | Anthony Vallone    |  84 | Color           | Crime|Drama                         | USA | A partir de 13 anos |     3250 |       NA | 7.8 |     4 | Richard Jewell      | John Considine     | Sara Stepnicka     |\n",
       "| Newlyweds                          | 2011 | Edward Burns       |  95 | Color           | Comedy|Drama                        | USA | Outros              |     9000 |     4584 | 6.4 |   413 | Kerry Bishé         | Caitlin FitzGerald | Daniella Pineda    |\n",
       "| The Following                      |   NA | NA                 |  43 | Color           | Crime|Drama|Mystery|Thriller        | USA | Outros              |       NA |       NA | 7.5 | 32000 | Natalie Zea         | Valorie Curry      | Sam Underwood      |\n",
       "| A Plague So Pleasant               | 2013 | Benjamin Roberds   |  76 | Color           | Drama|Horror|Thriller               | USA | Outros              |     1400 |       NA | 6.3 |    16 | Eva Boehnke         | Maxwell Moody      | David Chandler     |\n",
       "| Shanghai Calling                   | 2012 | Daniel Hsia        | 100 | Color           | Comedy|Drama|Romance                | USA | A partir de 13 anos |       NA |    10443 | 6.3 |   660 | Alan Ruck           | Daniel Henney      | Eliza Coupe        |\n",
       "| My Date with Drew                  | 2004 | Jon Gunn           |  90 | Color           | Documentary                         | USA | Livre               |     1100 |    85222 | 6.6 |   456 | John August         | Brian Herzlinger   | Jon Gunn           |\n",
       "\n"
      ],
      "text/plain": [
       "     titulo                                       ano  diretor           \n",
       "1    Avatar                                       2009 James Cameron     \n",
       "2    Pirates of the Caribbean: At World's End     2007 Gore Verbinski    \n",
       "3    The Dark Knight Rises                        2012 Christopher Nolan \n",
       "4    John Carter                                  2012 Andrew Stanton    \n",
       "5    Spider-Man 3                                 2007 Sam Raimi         \n",
       "6    Tangled                                      2010 Nathan Greno      \n",
       "7    Avengers: Age of Ultron                      2015 Joss Whedon       \n",
       "8    Batman v Superman: Dawn of Justice           2016 Zack Snyder       \n",
       "9    Superman Returns                             2006 Bryan Singer      \n",
       "10   Pirates of the Caribbean: Dead Man's Chest   2006 Gore Verbinski    \n",
       "11   The Lone Ranger                              2013 Gore Verbinski    \n",
       "12   Man of Steel                                 2013 Zack Snyder       \n",
       "13   The Chronicles of Narnia: Prince Caspian     2008 Andrew Adamson    \n",
       "14   The Avengers                                 2012 Joss Whedon       \n",
       "15   Pirates of the Caribbean: On Stranger Tides  2011 Rob Marshall      \n",
       "16   Men in Black 3                               2012 Barry Sonnenfeld  \n",
       "17   The Amazing Spider-Man                       2012 Marc Webb         \n",
       "18   Robin Hood                                   2010 Ridley Scott      \n",
       "19   The Hobbit: The Desolation of Smaug          2013 Peter Jackson     \n",
       "20   The Golden Compass                           2007 Chris Weitz       \n",
       "21   Titanic                                      1997 James Cameron     \n",
       "22   Captain America: Civil War                   2016 Anthony Russo     \n",
       "23   Battleship                                   2012 Peter Berg        \n",
       "24   Jurassic World                               2015 Colin Trevorrow   \n",
       "25   Spider-Man 2                                 2004 Sam Raimi         \n",
       "26   Iron Man 3                                   2013 Shane Black       \n",
       "27   Alice in Wonderland                          2010 Tim Burton        \n",
       "28   Monsters University                          2013 Dan Scanlon       \n",
       "29   Transformers: Revenge of the Fallen          2009 Michael Bay       \n",
       "30   Transformers: Age of Extinction              2014 Michael Bay       \n",
       "...  ...                                          ...  ...               \n",
       "3778 The Exploding Girl                           2009 Bradley Rust Gray \n",
       "3779 The Legend of God's Gun                      2007 Mike Bruce        \n",
       "3780 Mutual Appreciation                          2005 Andrew Bujalski   \n",
       "3781 Her Cry: La Llorona Investigation            2013 Damir Catic       \n",
       "3782 Clerks                                       1994 Kevin Smith       \n",
       "3783 Pink Narcissus                               1971 James Bidgood     \n",
       "3784 Funny Ha Ha                                  2002 Andrew Bujalski   \n",
       "3785 Sabotage                                     2014 David Ayer        \n",
       "3786 Manito                                       2002 Eric Eason        \n",
       "3787 Slacker                                      1991 Richard Linklater \n",
       "3788 Dutch Kills                                  2015 Joseph Mazzella   \n",
       "3789 Dry Spell                                    2013 Travis Legge      \n",
       "3790 Flywheel                                     2003 Alex Kendrick     \n",
       "3791 Exeter                                       2015 Marcus Nispel     \n",
       "3792 The Ridges                                   2011 Brandon Landers   \n",
       "3793 The Puffy Chair                              2005 Jay Duplass       \n",
       "3794 Breaking Upwards                             2009 Daryl Wein        \n",
       "3795 All Superheroes Must Die                     2011 Jason Trost       \n",
       "3796 Pink Flamingos                               1972 John Waters       \n",
       "3797 On the Downlow                               2004 Tadeo Garcia      \n",
       "3798 Sanctuary; Quite a Conundrum                 2012 Thomas L. Phillips\n",
       "3799 Bang                                         1995 Ash Baron-Cohen   \n",
       "3800 Primer                                       2004 Shane Carruth     \n",
       "3801 El Mariachi                                  1992 Robert Rodriguez  \n",
       "3802 The Mongol King                              2005 Anthony Vallone   \n",
       "3803 Newlyweds                                    2011 Edward Burns      \n",
       "3804 The Following                                  NA NA                \n",
       "3805 A Plague So Pleasant                         2013 Benjamin Roberds  \n",
       "3806 Shanghai Calling                             2012 Daniel Hsia       \n",
       "3807 My Date with Drew                            2004 Jon Gunn          \n",
       "     duracao cor            \n",
       "1    178     Color          \n",
       "2    169     Color          \n",
       "3    164     Color          \n",
       "4    132     Color          \n",
       "5    156     Color          \n",
       "6    100     Color          \n",
       "7    141     Color          \n",
       "8    183     Color          \n",
       "9    169     Color          \n",
       "10   151     Color          \n",
       "11   150     Color          \n",
       "12   143     Color          \n",
       "13   150     Color          \n",
       "14   173     Color          \n",
       "15   136     Color          \n",
       "16   106     Color          \n",
       "17   153     Color          \n",
       "18   156     Color          \n",
       "19   186     Color          \n",
       "20   113     Color          \n",
       "21   194     Color          \n",
       "22   147     Color          \n",
       "23   131     Color          \n",
       "24   124     Color          \n",
       "25   135     Color          \n",
       "26   195     Color          \n",
       "27   108     Color          \n",
       "28   104     Color          \n",
       "29   150     Color          \n",
       "30   165     Color          \n",
       "...  ...     ...            \n",
       "3778  79     Color          \n",
       "3779  78     Color          \n",
       "3780 109     Black and White\n",
       "3781  89     Color          \n",
       "3782 102     Black and White\n",
       "3783  65     Color          \n",
       "3784  85     Color          \n",
       "3785 109     Color          \n",
       "3786  79     Color          \n",
       "3787 100     Black and White\n",
       "3788  90     Color          \n",
       "3789  90     Color          \n",
       "3790 120     Color          \n",
       "3791  91     Color          \n",
       "3792 143     NA             \n",
       "3793  85     Color          \n",
       "3794  88     Color          \n",
       "3795  78     Color          \n",
       "3796 108     Color          \n",
       "3797  84     Color          \n",
       "3798  82     Color          \n",
       "3799  98     Color          \n",
       "3800  77     Color          \n",
       "3801  81     Color          \n",
       "3802  84     Color          \n",
       "3803  95     Color          \n",
       "3804  43     Color          \n",
       "3805  76     Color          \n",
       "3806 100     Color          \n",
       "3807  90     Color          \n",
       "     generos                                                   pais\n",
       "1    Action|Adventure|Fantasy|Sci-Fi                           USA \n",
       "2    Action|Adventure|Fantasy                                  USA \n",
       "3    Action|Thriller                                           USA \n",
       "4    Action|Adventure|Sci-Fi                                   USA \n",
       "5    Action|Adventure|Romance                                  USA \n",
       "6    Adventure|Animation|Comedy|Family|Fantasy|Musical|Romance USA \n",
       "7    Action|Adventure|Sci-Fi                                   USA \n",
       "8    Action|Adventure|Sci-Fi                                   USA \n",
       "9    Action|Adventure|Sci-Fi                                   USA \n",
       "10   Action|Adventure|Fantasy                                  USA \n",
       "11   Action|Adventure|Western                                  USA \n",
       "12   Action|Adventure|Fantasy|Sci-Fi                           USA \n",
       "13   Action|Adventure|Family|Fantasy                           USA \n",
       "14   Action|Adventure|Sci-Fi                                   USA \n",
       "15   Action|Adventure|Fantasy                                  USA \n",
       "16   Action|Adventure|Comedy|Family|Fantasy|Sci-Fi             USA \n",
       "17   Action|Adventure|Fantasy                                  USA \n",
       "18   Action|Adventure|Drama|History                            USA \n",
       "19   Adventure|Fantasy                                         USA \n",
       "20   Adventure|Family|Fantasy                                  USA \n",
       "21   Drama|Romance                                             USA \n",
       "22   Action|Adventure|Sci-Fi                                   USA \n",
       "23   Action|Adventure|Sci-Fi|Thriller                          USA \n",
       "24   Action|Adventure|Sci-Fi|Thriller                          USA \n",
       "25   Action|Adventure|Fantasy|Romance                          USA \n",
       "26   Action|Adventure|Sci-Fi                                   USA \n",
       "27   Adventure|Family|Fantasy                                  USA \n",
       "28   Adventure|Animation|Comedy|Family|Fantasy                 USA \n",
       "29   Action|Adventure|Sci-Fi                                   USA \n",
       "30   Action|Adventure|Sci-Fi                                   USA \n",
       "...  ...                                                       ... \n",
       "3778 Drama                                                     USA \n",
       "3779 Western                                                   USA \n",
       "3780 Comedy                                                    USA \n",
       "3781 Horror                                                    USA \n",
       "3782 Comedy                                                    USA \n",
       "3783 Drama|Fantasy                                             USA \n",
       "3784 Comedy|Drama                                              USA \n",
       "3785 Action|Crime|Drama|Thriller                               USA \n",
       "3786 Drama|Family                                              USA \n",
       "3787 Comedy|Drama                                              USA \n",
       "3788 Crime|Drama|Thriller                                      USA \n",
       "3789 Comedy|Romance                                            USA \n",
       "3790 Drama                                                     USA \n",
       "3791 Horror|Mystery|Thriller                                   USA \n",
       "3792 Drama|Horror|Thriller                                     USA \n",
       "3793 Comedy|Drama|Romance                                      USA \n",
       "3794 Romance                                                   USA \n",
       "3795 Sci-Fi|Thriller                                           USA \n",
       "3796 Comedy|Crime|Horror                                       USA \n",
       "3797 Drama                                                     USA \n",
       "3798 Comedy|Horror|Thriller                                    USA \n",
       "3799 Crime|Drama                                               USA \n",
       "3800 Drama|Sci-Fi|Thriller                                     USA \n",
       "3801 Action|Crime|Drama|Romance|Thriller                       USA \n",
       "3802 Crime|Drama                                               USA \n",
       "3803 Comedy|Drama                                              USA \n",
       "3804 Crime|Drama|Mystery|Thriller                              USA \n",
       "3805 Drama|Horror|Thriller                                     USA \n",
       "3806 Comedy|Drama|Romance                                      USA \n",
       "3807 Documentary                                               USA \n",
       "     classificacao       orcamento receita   nota_imdb likes_facebook\n",
       "1    A partir de 13 anos 237000000 760505847 7.9        33000        \n",
       "2    A partir de 13 anos 300000000 309404152 7.1            0        \n",
       "3    A partir de 13 anos 250000000 448130642 8.5       164000        \n",
       "4    A partir de 13 anos 263700000  73058679 6.6        24000        \n",
       "5    A partir de 13 anos 258000000 336530303 6.2            0        \n",
       "6    Livre               260000000 200807262 7.8        29000        \n",
       "7    A partir de 13 anos 250000000 458991599 7.5       118000        \n",
       "8    A partir de 13 anos 250000000 330249062 6.9       197000        \n",
       "9    A partir de 13 anos 209000000 200069408 6.1            0        \n",
       "10   A partir de 13 anos 225000000 423032628 7.3         5000        \n",
       "11   A partir de 13 anos 215000000  89289910 6.5        48000        \n",
       "12   A partir de 13 anos 225000000 291021565 7.2       118000        \n",
       "13   Livre               225000000 141614023 6.6            0        \n",
       "14   A partir de 13 anos 220000000 623279547 8.1       123000        \n",
       "15   A partir de 13 anos 250000000 241063875 6.7        58000        \n",
       "16   A partir de 13 anos 225000000 179020854 6.8        40000        \n",
       "17   A partir de 13 anos 230000000 262030663 7.0        56000        \n",
       "18   A partir de 13 anos 200000000 105219735 6.7        17000        \n",
       "19   A partir de 13 anos 225000000 258355354 7.9        83000        \n",
       "20   A partir de 13 anos 180000000  70083519 6.1            0        \n",
       "21   A partir de 13 anos 200000000 658672302 7.7        26000        \n",
       "22   A partir de 13 anos 250000000 407197282 8.2        72000        \n",
       "23   A partir de 13 anos 209000000  65173160 5.9        44000        \n",
       "24   A partir de 13 anos 150000000 652177271 7.0       150000        \n",
       "25   A partir de 13 anos 200000000 373377893 7.3            0        \n",
       "26   A partir de 13 anos 200000000 408992272 7.2        95000        \n",
       "27   Livre               200000000 334185206 6.5        24000        \n",
       "28   Outros              200000000 268488329 7.3        44000        \n",
       "29   A partir de 13 anos 200000000 402076689 6.0            0        \n",
       "30   A partir de 13 anos 210000000 245428137 5.7        56000        \n",
       "...  ...                 ...       ...       ...       ...           \n",
       "3778 Outros                    NA     24705  6.3         377         \n",
       "3779 A partir de 18 anos    30000    243768  4.1          13         \n",
       "3780 A partir de 18 anos       NA        NA  6.9          91         \n",
       "3781 Outros                 60000        NA  5.4          48         \n",
       "3782 A partir de 18 anos   230000   3151130  7.8           0         \n",
       "3783 Outros                 27000      8231  6.7          85         \n",
       "3784 Outros                    NA        NA  6.4         108         \n",
       "3785 A partir de 18 anos 35000000  10499968  5.7       10000         \n",
       "3786 Outros                 24000        NA  7.0          61         \n",
       "3787 A partir de 18 anos    23000   1227508  7.1        2000         \n",
       "3788 Outros                 25000        NA  4.8          33         \n",
       "3789 Outros                 22000        NA  3.3         200         \n",
       "3790 Outros                 20000        NA  6.9         725         \n",
       "3791 A partir de 18 anos       NA        NA  4.6           0         \n",
       "3792 Outros                 17350        NA  3.0          33         \n",
       "3793 A partir de 18 anos    15000    192467  6.6         297         \n",
       "3794 Outros                 15000     76382  6.2         324         \n",
       "3795 Outros                 20000        NA  4.0         835         \n",
       "3796 A partir de 18 anos    10000    180483  6.1           0         \n",
       "3797 Outros                    NA        NA  6.1          22         \n",
       "3798 Outros                200000        NA  5.4         424         \n",
       "3799 Outros                    NA        NA  6.4          20         \n",
       "3800 A partir de 13 anos     7000    424760  7.0       19000         \n",
       "3801 A partir de 18 anos     7000   2040920  6.9           0         \n",
       "3802 A partir de 13 anos     3250        NA  7.8           4         \n",
       "3803 Outros                  9000      4584  6.4         413         \n",
       "3804 Outros                    NA        NA  7.5       32000         \n",
       "3805 Outros                  1400        NA  6.3          16         \n",
       "3806 A partir de 13 anos       NA     10443  6.3         660         \n",
       "3807 Livre                   1100     85222  6.6         456         \n",
       "     ator_1              ator_2               ator_3              \n",
       "1    CCH Pounder         Joel David Moore     Wes Studi           \n",
       "2    Johnny Depp         Orlando Bloom        Jack Davenport      \n",
       "3    Tom Hardy           Christian Bale       Joseph Gordon-Levitt\n",
       "4    Daryl Sabara        Samantha Morton      Polly Walker        \n",
       "5    J.K. Simmons        James Franco         Kirsten Dunst       \n",
       "6    Brad Garrett        Donna Murphy         M.C. Gainey         \n",
       "7    Chris Hemsworth     Robert Downey Jr.    Scarlett Johansson  \n",
       "8    Henry Cavill        Lauren Cohan         Alan D. Purwin      \n",
       "9    Kevin Spacey        Marlon Brando        Frank Langella      \n",
       "10   Johnny Depp         Orlando Bloom        Jack Davenport      \n",
       "11   Johnny Depp         Ruth Wilson          Tom Wilkinson       \n",
       "12   Henry Cavill        Christopher Meloni   Harry Lennix        \n",
       "13   Peter Dinklage      Pierfrancesco Favino Damián Alcázar      \n",
       "14   Chris Hemsworth     Robert Downey Jr.    Scarlett Johansson  \n",
       "15   Johnny Depp         Sam Claflin          Stephen Graham      \n",
       "16   Will Smith          Michael Stuhlbarg    Nicole Scherzinger  \n",
       "17   Emma Stone          Andrew Garfield      Chris Zylka         \n",
       "18   Mark Addy           William Hurt         Scott Grimes        \n",
       "19   Aidan Turner        Adam Brown           James Nesbitt       \n",
       "20   Christopher Lee     Eva Green            Kristin Scott Thomas\n",
       "21   Leonardo DiCaprio   Kate Winslet         Gloria Stuart       \n",
       "22   Robert Downey Jr.   Scarlett Johansson   Chris Evans         \n",
       "23   Liam Neeson         Alexander Skarsgård  Tadanobu Asano      \n",
       "24   Bryce Dallas Howard Judy Greer           Omar Sy             \n",
       "25   J.K. Simmons        James Franco         Kirsten Dunst       \n",
       "26   Robert Downey Jr.   Jon Favreau          Don Cheadle         \n",
       "27   Johnny Depp         Alan Rickman         Anne Hathaway       \n",
       "28   Steve Buscemi       Tyler Labine         Sean Hayes          \n",
       "29   Glenn Morshower     Kevin Dunn           Ramon Rodriguez     \n",
       "30   Bingbing Li         Sophia Myles         Kelsey Grammer      \n",
       "...  ...                 ...                  ...                 \n",
       "3778 Zoe Kazan           Mark Rendall         Jordan Scovel       \n",
       "3779 Joseph Campanella   Kirpatrick Thomas    Christian Anderson  \n",
       "3780 Andrew Bujalski     Kate Dollenmayer     Justin Rice         \n",
       "3781 Nichole Ceballos    Ron Gelner           Parker Riggs        \n",
       "3782 Jason Mewes         Brian O'Halloran     Jeff Anderson       \n",
       "3783 Don Brooks          Bobby Kendall        NA                  \n",
       "3784 Andrew Bujalski     Kate Dollenmayer     Justin Rice         \n",
       "3785 Mireille Enos       Martin Donovan       Maurice Compte      \n",
       "3786 Franky G            Panchito Gómez       Casper Martinez     \n",
       "3787 Tommy Pallotta      Richard Linklater    Jean Caffeine       \n",
       "3788 Tjasa Ferme         Mikaal Bates         Damon Owlia         \n",
       "3789 Kristen Seavey      Suzi Lorraine        Travis Legge        \n",
       "3790 Shannen Fields      Lisa Arnold          Janet Lee Dapper    \n",
       "3791 Ashley Tramonte     Brittany Curran      Lindsay MacDonald   \n",
       "3792 Robbie Barnes       Alana Kaniewski      Brandon Landers     \n",
       "3793 Mark Duplass        Katie Aselton        Bari Hyman          \n",
       "3794 Zoe Lister-Jones    Heather Burns        Ebon Moss-Bachrach  \n",
       "3795 Sean Whalen         Jason Trost          Nick Principe       \n",
       "3796 Divine              Mink Stole           Edith Massey        \n",
       "3797 Tatiana Suarez-Pico Michael Cortez       Eric Ambriz         \n",
       "3798 Julianna Pitt       Joe Coffey           John Lucas          \n",
       "3799 Peter Greene        Stanley B. Herman    James Noble         \n",
       "3800 Shane Carruth       David Sullivan       Casey Gooden        \n",
       "3801 Carlos Gallardo     Peter Marquardt      Consuelo Gómez      \n",
       "3802 Richard Jewell      John Considine       Sara Stepnicka      \n",
       "3803 Kerry Bishé         Caitlin FitzGerald   Daniella Pineda     \n",
       "3804 Natalie Zea         Valorie Curry        Sam Underwood       \n",
       "3805 Eva Boehnke         Maxwell Moody        David Chandler      \n",
       "3806 Alan Ruck           Daniel Henney        Eliza Coupe         \n",
       "3807 John August         Brian Herzlinger     Jon Gunn            "
      ]
     },
     "metadata": {},
     "output_type": "display_data"
    }
   ],
   "source": [
    "readxl::read_xlsx(path = \"imdb.xlsx\")"
   ]
  },
  {
   "cell_type": "markdown",
   "metadata": {
    "slideshow": {
     "slide_type": "slide"
    }
   },
   "source": [
    "A funçao `read_excel()` auto detecta a extensão do arquivo."
   ]
  },
  {
   "cell_type": "code",
   "execution_count": 154,
   "metadata": {
    "slideshow": {
     "slide_type": "slide"
    }
   },
   "outputs": [
    {
     "data": {
      "text/html": [
       "<table>\n",
       "<caption>A tibble: 3807 × 15</caption>\n",
       "<thead>\n",
       "\t<tr><th scope=col>titulo</th><th scope=col>ano</th><th scope=col>diretor</th><th scope=col>duracao</th><th scope=col>cor</th><th scope=col>generos</th><th scope=col>pais</th><th scope=col>classificacao</th><th scope=col>orcamento</th><th scope=col>receita</th><th scope=col>nota_imdb</th><th scope=col>likes_facebook</th><th scope=col>ator_1</th><th scope=col>ator_2</th><th scope=col>ator_3</th></tr>\n",
       "\t<tr><th scope=col>&lt;chr&gt;</th><th scope=col>&lt;dbl&gt;</th><th scope=col>&lt;chr&gt;</th><th scope=col>&lt;dbl&gt;</th><th scope=col>&lt;chr&gt;</th><th scope=col>&lt;chr&gt;</th><th scope=col>&lt;chr&gt;</th><th scope=col>&lt;chr&gt;</th><th scope=col>&lt;dbl&gt;</th><th scope=col>&lt;dbl&gt;</th><th scope=col>&lt;dbl&gt;</th><th scope=col>&lt;dbl&gt;</th><th scope=col>&lt;chr&gt;</th><th scope=col>&lt;chr&gt;</th><th scope=col>&lt;chr&gt;</th></tr>\n",
       "</thead>\n",
       "<tbody>\n",
       "\t<tr><td>Avatar                                      </td><td>2009</td><td>James Cameron    </td><td>178</td><td>Color</td><td>Action|Adventure|Fantasy|Sci-Fi                          </td><td>USA</td><td>A partir de 13 anos</td><td>237000000</td><td>760505847</td><td>7.9</td><td> 33000</td><td>CCH Pounder        </td><td>Joel David Moore    </td><td>Wes Studi           </td></tr>\n",
       "\t<tr><td>Pirates of the Caribbean: At World's End    </td><td>2007</td><td>Gore Verbinski   </td><td>169</td><td>Color</td><td>Action|Adventure|Fantasy                                 </td><td>USA</td><td>A partir de 13 anos</td><td>300000000</td><td>309404152</td><td>7.1</td><td>     0</td><td>Johnny Depp        </td><td>Orlando Bloom       </td><td>Jack Davenport      </td></tr>\n",
       "\t<tr><td>The Dark Knight Rises                       </td><td>2012</td><td>Christopher Nolan</td><td>164</td><td>Color</td><td>Action|Thriller                                          </td><td>USA</td><td>A partir de 13 anos</td><td>250000000</td><td>448130642</td><td>8.5</td><td>164000</td><td>Tom Hardy          </td><td>Christian Bale      </td><td>Joseph Gordon-Levitt</td></tr>\n",
       "\t<tr><td>John Carter                                 </td><td>2012</td><td>Andrew Stanton   </td><td>132</td><td>Color</td><td>Action|Adventure|Sci-Fi                                  </td><td>USA</td><td>A partir de 13 anos</td><td>263700000</td><td> 73058679</td><td>6.6</td><td> 24000</td><td>Daryl Sabara       </td><td>Samantha Morton     </td><td>Polly Walker        </td></tr>\n",
       "\t<tr><td>Spider-Man 3                                </td><td>2007</td><td>Sam Raimi        </td><td>156</td><td>Color</td><td>Action|Adventure|Romance                                 </td><td>USA</td><td>A partir de 13 anos</td><td>258000000</td><td>336530303</td><td>6.2</td><td>     0</td><td>J.K. Simmons       </td><td>James Franco        </td><td>Kirsten Dunst       </td></tr>\n",
       "\t<tr><td>Tangled                                     </td><td>2010</td><td>Nathan Greno     </td><td>100</td><td>Color</td><td>Adventure|Animation|Comedy|Family|Fantasy|Musical|Romance</td><td>USA</td><td>Livre              </td><td>260000000</td><td>200807262</td><td>7.8</td><td> 29000</td><td>Brad Garrett       </td><td>Donna Murphy        </td><td>M.C. Gainey         </td></tr>\n",
       "\t<tr><td>Avengers: Age of Ultron                     </td><td>2015</td><td>Joss Whedon      </td><td>141</td><td>Color</td><td>Action|Adventure|Sci-Fi                                  </td><td>USA</td><td>A partir de 13 anos</td><td>250000000</td><td>458991599</td><td>7.5</td><td>118000</td><td>Chris Hemsworth    </td><td>Robert Downey Jr.   </td><td>Scarlett Johansson  </td></tr>\n",
       "\t<tr><td>Batman v Superman: Dawn of Justice          </td><td>2016</td><td>Zack Snyder      </td><td>183</td><td>Color</td><td>Action|Adventure|Sci-Fi                                  </td><td>USA</td><td>A partir de 13 anos</td><td>250000000</td><td>330249062</td><td>6.9</td><td>197000</td><td>Henry Cavill       </td><td>Lauren Cohan        </td><td>Alan D. Purwin      </td></tr>\n",
       "\t<tr><td>Superman Returns                            </td><td>2006</td><td>Bryan Singer     </td><td>169</td><td>Color</td><td>Action|Adventure|Sci-Fi                                  </td><td>USA</td><td>A partir de 13 anos</td><td>209000000</td><td>200069408</td><td>6.1</td><td>     0</td><td>Kevin Spacey       </td><td>Marlon Brando       </td><td>Frank Langella      </td></tr>\n",
       "\t<tr><td>Pirates of the Caribbean: Dead Man's Chest  </td><td>2006</td><td>Gore Verbinski   </td><td>151</td><td>Color</td><td>Action|Adventure|Fantasy                                 </td><td>USA</td><td>A partir de 13 anos</td><td>225000000</td><td>423032628</td><td>7.3</td><td>  5000</td><td>Johnny Depp        </td><td>Orlando Bloom       </td><td>Jack Davenport      </td></tr>\n",
       "\t<tr><td>The Lone Ranger                             </td><td>2013</td><td>Gore Verbinski   </td><td>150</td><td>Color</td><td>Action|Adventure|Western                                 </td><td>USA</td><td>A partir de 13 anos</td><td>215000000</td><td> 89289910</td><td>6.5</td><td> 48000</td><td>Johnny Depp        </td><td>Ruth Wilson         </td><td>Tom Wilkinson       </td></tr>\n",
       "\t<tr><td>Man of Steel                                </td><td>2013</td><td>Zack Snyder      </td><td>143</td><td>Color</td><td>Action|Adventure|Fantasy|Sci-Fi                          </td><td>USA</td><td>A partir de 13 anos</td><td>225000000</td><td>291021565</td><td>7.2</td><td>118000</td><td>Henry Cavill       </td><td>Christopher Meloni  </td><td>Harry Lennix        </td></tr>\n",
       "\t<tr><td>The Chronicles of Narnia: Prince Caspian    </td><td>2008</td><td>Andrew Adamson   </td><td>150</td><td>Color</td><td>Action|Adventure|Family|Fantasy                          </td><td>USA</td><td>Livre              </td><td>225000000</td><td>141614023</td><td>6.6</td><td>     0</td><td>Peter Dinklage     </td><td>Pierfrancesco Favino</td><td>Damián Alcázar      </td></tr>\n",
       "\t<tr><td>The Avengers                                </td><td>2012</td><td>Joss Whedon      </td><td>173</td><td>Color</td><td>Action|Adventure|Sci-Fi                                  </td><td>USA</td><td>A partir de 13 anos</td><td>220000000</td><td>623279547</td><td>8.1</td><td>123000</td><td>Chris Hemsworth    </td><td>Robert Downey Jr.   </td><td>Scarlett Johansson  </td></tr>\n",
       "\t<tr><td>Pirates of the Caribbean: On Stranger Tides </td><td>2011</td><td>Rob Marshall     </td><td>136</td><td>Color</td><td>Action|Adventure|Fantasy                                 </td><td>USA</td><td>A partir de 13 anos</td><td>250000000</td><td>241063875</td><td>6.7</td><td> 58000</td><td>Johnny Depp        </td><td>Sam Claflin         </td><td>Stephen Graham      </td></tr>\n",
       "\t<tr><td>Men in Black 3                              </td><td>2012</td><td>Barry Sonnenfeld </td><td>106</td><td>Color</td><td>Action|Adventure|Comedy|Family|Fantasy|Sci-Fi            </td><td>USA</td><td>A partir de 13 anos</td><td>225000000</td><td>179020854</td><td>6.8</td><td> 40000</td><td>Will Smith         </td><td>Michael Stuhlbarg   </td><td>Nicole Scherzinger  </td></tr>\n",
       "\t<tr><td>The Amazing Spider-Man                      </td><td>2012</td><td>Marc Webb        </td><td>153</td><td>Color</td><td>Action|Adventure|Fantasy                                 </td><td>USA</td><td>A partir de 13 anos</td><td>230000000</td><td>262030663</td><td>7.0</td><td> 56000</td><td>Emma Stone         </td><td>Andrew Garfield     </td><td>Chris Zylka         </td></tr>\n",
       "\t<tr><td>Robin Hood                                  </td><td>2010</td><td>Ridley Scott     </td><td>156</td><td>Color</td><td>Action|Adventure|Drama|History                           </td><td>USA</td><td>A partir de 13 anos</td><td>200000000</td><td>105219735</td><td>6.7</td><td> 17000</td><td>Mark Addy          </td><td>William Hurt        </td><td>Scott Grimes        </td></tr>\n",
       "\t<tr><td>The Hobbit: The Desolation of Smaug         </td><td>2013</td><td>Peter Jackson    </td><td>186</td><td>Color</td><td>Adventure|Fantasy                                        </td><td>USA</td><td>A partir de 13 anos</td><td>225000000</td><td>258355354</td><td>7.9</td><td> 83000</td><td>Aidan Turner       </td><td>Adam Brown          </td><td>James Nesbitt       </td></tr>\n",
       "\t<tr><td>The Golden Compass                          </td><td>2007</td><td>Chris Weitz      </td><td>113</td><td>Color</td><td>Adventure|Family|Fantasy                                 </td><td>USA</td><td>A partir de 13 anos</td><td>180000000</td><td> 70083519</td><td>6.1</td><td>     0</td><td>Christopher Lee    </td><td>Eva Green           </td><td>Kristin Scott Thomas</td></tr>\n",
       "\t<tr><td>Titanic                                     </td><td>1997</td><td>James Cameron    </td><td>194</td><td>Color</td><td>Drama|Romance                                            </td><td>USA</td><td>A partir de 13 anos</td><td>200000000</td><td>658672302</td><td>7.7</td><td> 26000</td><td>Leonardo DiCaprio  </td><td>Kate Winslet        </td><td>Gloria Stuart       </td></tr>\n",
       "\t<tr><td>Captain America: Civil War                  </td><td>2016</td><td>Anthony Russo    </td><td>147</td><td>Color</td><td>Action|Adventure|Sci-Fi                                  </td><td>USA</td><td>A partir de 13 anos</td><td>250000000</td><td>407197282</td><td>8.2</td><td> 72000</td><td>Robert Downey Jr.  </td><td>Scarlett Johansson  </td><td>Chris Evans         </td></tr>\n",
       "\t<tr><td>Battleship                                  </td><td>2012</td><td>Peter Berg       </td><td>131</td><td>Color</td><td>Action|Adventure|Sci-Fi|Thriller                         </td><td>USA</td><td>A partir de 13 anos</td><td>209000000</td><td> 65173160</td><td>5.9</td><td> 44000</td><td>Liam Neeson        </td><td>Alexander Skarsgård </td><td>Tadanobu Asano      </td></tr>\n",
       "\t<tr><td>Jurassic World                              </td><td>2015</td><td>Colin Trevorrow  </td><td>124</td><td>Color</td><td>Action|Adventure|Sci-Fi|Thriller                         </td><td>USA</td><td>A partir de 13 anos</td><td>150000000</td><td>652177271</td><td>7.0</td><td>150000</td><td>Bryce Dallas Howard</td><td>Judy Greer          </td><td>Omar Sy             </td></tr>\n",
       "\t<tr><td>Spider-Man 2                                </td><td>2004</td><td>Sam Raimi        </td><td>135</td><td>Color</td><td>Action|Adventure|Fantasy|Romance                         </td><td>USA</td><td>A partir de 13 anos</td><td>200000000</td><td>373377893</td><td>7.3</td><td>     0</td><td>J.K. Simmons       </td><td>James Franco        </td><td>Kirsten Dunst       </td></tr>\n",
       "\t<tr><td>Iron Man 3                                  </td><td>2013</td><td>Shane Black      </td><td>195</td><td>Color</td><td>Action|Adventure|Sci-Fi                                  </td><td>USA</td><td>A partir de 13 anos</td><td>200000000</td><td>408992272</td><td>7.2</td><td> 95000</td><td>Robert Downey Jr.  </td><td>Jon Favreau         </td><td>Don Cheadle         </td></tr>\n",
       "\t<tr><td>Alice in Wonderland                         </td><td>2010</td><td>Tim Burton       </td><td>108</td><td>Color</td><td>Adventure|Family|Fantasy                                 </td><td>USA</td><td>Livre              </td><td>200000000</td><td>334185206</td><td>6.5</td><td> 24000</td><td>Johnny Depp        </td><td>Alan Rickman        </td><td>Anne Hathaway       </td></tr>\n",
       "\t<tr><td>Monsters University                         </td><td>2013</td><td>Dan Scanlon      </td><td>104</td><td>Color</td><td>Adventure|Animation|Comedy|Family|Fantasy                </td><td>USA</td><td>Outros             </td><td>200000000</td><td>268488329</td><td>7.3</td><td> 44000</td><td>Steve Buscemi      </td><td>Tyler Labine        </td><td>Sean Hayes          </td></tr>\n",
       "\t<tr><td>Transformers: Revenge of the Fallen         </td><td>2009</td><td>Michael Bay      </td><td>150</td><td>Color</td><td>Action|Adventure|Sci-Fi                                  </td><td>USA</td><td>A partir de 13 anos</td><td>200000000</td><td>402076689</td><td>6.0</td><td>     0</td><td>Glenn Morshower    </td><td>Kevin Dunn          </td><td>Ramon Rodriguez     </td></tr>\n",
       "\t<tr><td>Transformers: Age of Extinction             </td><td>2014</td><td>Michael Bay      </td><td>165</td><td>Color</td><td>Action|Adventure|Sci-Fi                                  </td><td>USA</td><td>A partir de 13 anos</td><td>210000000</td><td>245428137</td><td>5.7</td><td> 56000</td><td>Bingbing Li        </td><td>Sophia Myles        </td><td>Kelsey Grammer      </td></tr>\n",
       "\t<tr><td>...</td><td>...</td><td>...</td><td>...</td><td>...</td><td>...</td><td>...</td><td>...</td><td>...</td><td>...</td><td>...</td><td>...</td><td>...</td><td>...</td><td>...</td></tr>\n",
       "\t<tr><td>The Exploding Girl                </td><td>2009</td><td>Bradley Rust Gray </td><td> 79</td><td>Color          </td><td>Drama                              </td><td>USA</td><td>Outros             </td><td>      NA</td><td>   24705</td><td>6.3</td><td>  377</td><td>Zoe Kazan          </td><td>Mark Rendall      </td><td>Jordan Scovel     </td></tr>\n",
       "\t<tr><td>The Legend of God's Gun           </td><td>2007</td><td>Mike Bruce        </td><td> 78</td><td>Color          </td><td>Western                            </td><td>USA</td><td>A partir de 18 anos</td><td>   30000</td><td>  243768</td><td>4.1</td><td>   13</td><td>Joseph Campanella  </td><td>Kirpatrick Thomas </td><td>Christian Anderson</td></tr>\n",
       "\t<tr><td>Mutual Appreciation               </td><td>2005</td><td>Andrew Bujalski   </td><td>109</td><td>Black and White</td><td>Comedy                             </td><td>USA</td><td>A partir de 18 anos</td><td>      NA</td><td>      NA</td><td>6.9</td><td>   91</td><td>Andrew Bujalski    </td><td>Kate Dollenmayer  </td><td>Justin Rice       </td></tr>\n",
       "\t<tr><td>Her Cry: La Llorona Investigation </td><td>2013</td><td>Damir Catic       </td><td> 89</td><td>Color          </td><td>Horror                             </td><td>USA</td><td>Outros             </td><td>   60000</td><td>      NA</td><td>5.4</td><td>   48</td><td>Nichole Ceballos   </td><td>Ron Gelner        </td><td>Parker Riggs      </td></tr>\n",
       "\t<tr><td>Clerks                            </td><td>1994</td><td>Kevin Smith       </td><td>102</td><td>Black and White</td><td>Comedy                             </td><td>USA</td><td>A partir de 18 anos</td><td>  230000</td><td> 3151130</td><td>7.8</td><td>    0</td><td>Jason Mewes        </td><td>Brian O'Halloran  </td><td>Jeff Anderson     </td></tr>\n",
       "\t<tr><td>Pink Narcissus                    </td><td>1971</td><td>James Bidgood     </td><td> 65</td><td>Color          </td><td>Drama|Fantasy                      </td><td>USA</td><td>Outros             </td><td>   27000</td><td>    8231</td><td>6.7</td><td>   85</td><td>Don Brooks         </td><td>Bobby Kendall     </td><td>NA                </td></tr>\n",
       "\t<tr><td>Funny Ha Ha                       </td><td>2002</td><td>Andrew Bujalski   </td><td> 85</td><td>Color          </td><td>Comedy|Drama                       </td><td>USA</td><td>Outros             </td><td>      NA</td><td>      NA</td><td>6.4</td><td>  108</td><td>Andrew Bujalski    </td><td>Kate Dollenmayer  </td><td>Justin Rice       </td></tr>\n",
       "\t<tr><td>Sabotage                          </td><td>2014</td><td>David Ayer        </td><td>109</td><td>Color          </td><td>Action|Crime|Drama|Thriller        </td><td>USA</td><td>A partir de 18 anos</td><td>35000000</td><td>10499968</td><td>5.7</td><td>10000</td><td>Mireille Enos      </td><td>Martin Donovan    </td><td>Maurice Compte    </td></tr>\n",
       "\t<tr><td>Manito                            </td><td>2002</td><td>Eric Eason        </td><td> 79</td><td>Color          </td><td>Drama|Family                       </td><td>USA</td><td>Outros             </td><td>   24000</td><td>      NA</td><td>7.0</td><td>   61</td><td>Franky G           </td><td>Panchito Gómez    </td><td>Casper Martinez   </td></tr>\n",
       "\t<tr><td>Slacker                           </td><td>1991</td><td>Richard Linklater </td><td>100</td><td>Black and White</td><td>Comedy|Drama                       </td><td>USA</td><td>A partir de 18 anos</td><td>   23000</td><td> 1227508</td><td>7.1</td><td> 2000</td><td>Tommy Pallotta     </td><td>Richard Linklater </td><td>Jean Caffeine     </td></tr>\n",
       "\t<tr><td>Dutch Kills                       </td><td>2015</td><td>Joseph Mazzella   </td><td> 90</td><td>Color          </td><td>Crime|Drama|Thriller               </td><td>USA</td><td>Outros             </td><td>   25000</td><td>      NA</td><td>4.8</td><td>   33</td><td>Tjasa Ferme        </td><td>Mikaal Bates      </td><td>Damon Owlia       </td></tr>\n",
       "\t<tr><td>Dry Spell                         </td><td>2013</td><td>Travis Legge      </td><td> 90</td><td>Color          </td><td>Comedy|Romance                     </td><td>USA</td><td>Outros             </td><td>   22000</td><td>      NA</td><td>3.3</td><td>  200</td><td>Kristen Seavey     </td><td>Suzi Lorraine     </td><td>Travis Legge      </td></tr>\n",
       "\t<tr><td>Flywheel                          </td><td>2003</td><td>Alex Kendrick     </td><td>120</td><td>Color          </td><td>Drama                              </td><td>USA</td><td>Outros             </td><td>   20000</td><td>      NA</td><td>6.9</td><td>  725</td><td>Shannen Fields     </td><td>Lisa Arnold       </td><td>Janet Lee Dapper  </td></tr>\n",
       "\t<tr><td>Exeter                            </td><td>2015</td><td>Marcus Nispel     </td><td> 91</td><td>Color          </td><td>Horror|Mystery|Thriller            </td><td>USA</td><td>A partir de 18 anos</td><td>      NA</td><td>      NA</td><td>4.6</td><td>    0</td><td>Ashley Tramonte    </td><td>Brittany Curran   </td><td>Lindsay MacDonald </td></tr>\n",
       "\t<tr><td>The Ridges                        </td><td>2011</td><td>Brandon Landers   </td><td>143</td><td>NA             </td><td>Drama|Horror|Thriller              </td><td>USA</td><td>Outros             </td><td>   17350</td><td>      NA</td><td>3.0</td><td>   33</td><td>Robbie Barnes      </td><td>Alana Kaniewski   </td><td>Brandon Landers   </td></tr>\n",
       "\t<tr><td>The Puffy Chair                   </td><td>2005</td><td>Jay Duplass       </td><td> 85</td><td>Color          </td><td>Comedy|Drama|Romance               </td><td>USA</td><td>A partir de 18 anos</td><td>   15000</td><td>  192467</td><td>6.6</td><td>  297</td><td>Mark Duplass       </td><td>Katie Aselton     </td><td>Bari Hyman        </td></tr>\n",
       "\t<tr><td>Breaking Upwards                  </td><td>2009</td><td>Daryl Wein        </td><td> 88</td><td>Color          </td><td>Romance                            </td><td>USA</td><td>Outros             </td><td>   15000</td><td>   76382</td><td>6.2</td><td>  324</td><td>Zoe Lister-Jones   </td><td>Heather Burns     </td><td>Ebon Moss-Bachrach</td></tr>\n",
       "\t<tr><td>All Superheroes Must Die          </td><td>2011</td><td>Jason Trost       </td><td> 78</td><td>Color          </td><td>Sci-Fi|Thriller                    </td><td>USA</td><td>Outros             </td><td>   20000</td><td>      NA</td><td>4.0</td><td>  835</td><td>Sean Whalen        </td><td>Jason Trost       </td><td>Nick Principe     </td></tr>\n",
       "\t<tr><td>Pink Flamingos                    </td><td>1972</td><td>John Waters       </td><td>108</td><td>Color          </td><td>Comedy|Crime|Horror                </td><td>USA</td><td>A partir de 18 anos</td><td>   10000</td><td>  180483</td><td>6.1</td><td>    0</td><td>Divine             </td><td>Mink Stole        </td><td>Edith Massey      </td></tr>\n",
       "\t<tr><td>On the Downlow                    </td><td>2004</td><td>Tadeo Garcia      </td><td> 84</td><td>Color          </td><td>Drama                              </td><td>USA</td><td>Outros             </td><td>      NA</td><td>      NA</td><td>6.1</td><td>   22</td><td>Tatiana Suarez-Pico</td><td>Michael Cortez    </td><td>Eric Ambriz       </td></tr>\n",
       "\t<tr><td>Sanctuary; Quite a Conundrum      </td><td>2012</td><td>Thomas L. Phillips</td><td> 82</td><td>Color          </td><td>Comedy|Horror|Thriller             </td><td>USA</td><td>Outros             </td><td>  200000</td><td>      NA</td><td>5.4</td><td>  424</td><td>Julianna Pitt      </td><td>Joe Coffey        </td><td>John Lucas        </td></tr>\n",
       "\t<tr><td>Bang                              </td><td>1995</td><td>Ash Baron-Cohen   </td><td> 98</td><td>Color          </td><td>Crime|Drama                        </td><td>USA</td><td>Outros             </td><td>      NA</td><td>      NA</td><td>6.4</td><td>   20</td><td>Peter Greene       </td><td>Stanley B. Herman </td><td>James Noble       </td></tr>\n",
       "\t<tr><td>Primer                            </td><td>2004</td><td>Shane Carruth     </td><td> 77</td><td>Color          </td><td>Drama|Sci-Fi|Thriller              </td><td>USA</td><td>A partir de 13 anos</td><td>    7000</td><td>  424760</td><td>7.0</td><td>19000</td><td>Shane Carruth      </td><td>David Sullivan    </td><td>Casey Gooden      </td></tr>\n",
       "\t<tr><td>El Mariachi                       </td><td>1992</td><td>Robert Rodriguez  </td><td> 81</td><td>Color          </td><td>Action|Crime|Drama|Romance|Thriller</td><td>USA</td><td>A partir de 18 anos</td><td>    7000</td><td> 2040920</td><td>6.9</td><td>    0</td><td>Carlos Gallardo    </td><td>Peter Marquardt   </td><td>Consuelo Gómez    </td></tr>\n",
       "\t<tr><td>The Mongol King                   </td><td>2005</td><td>Anthony Vallone   </td><td> 84</td><td>Color          </td><td>Crime|Drama                        </td><td>USA</td><td>A partir de 13 anos</td><td>    3250</td><td>      NA</td><td>7.8</td><td>    4</td><td>Richard Jewell     </td><td>John Considine    </td><td>Sara Stepnicka    </td></tr>\n",
       "\t<tr><td>Newlyweds                         </td><td>2011</td><td>Edward Burns      </td><td> 95</td><td>Color          </td><td>Comedy|Drama                       </td><td>USA</td><td>Outros             </td><td>    9000</td><td>    4584</td><td>6.4</td><td>  413</td><td>Kerry Bishé        </td><td>Caitlin FitzGerald</td><td>Daniella Pineda   </td></tr>\n",
       "\t<tr><td>The Following                     </td><td>  NA</td><td>NA                </td><td> 43</td><td>Color          </td><td>Crime|Drama|Mystery|Thriller       </td><td>USA</td><td>Outros             </td><td>      NA</td><td>      NA</td><td>7.5</td><td>32000</td><td>Natalie Zea        </td><td>Valorie Curry     </td><td>Sam Underwood     </td></tr>\n",
       "\t<tr><td>A Plague So Pleasant              </td><td>2013</td><td>Benjamin Roberds  </td><td> 76</td><td>Color          </td><td>Drama|Horror|Thriller              </td><td>USA</td><td>Outros             </td><td>    1400</td><td>      NA</td><td>6.3</td><td>   16</td><td>Eva Boehnke        </td><td>Maxwell Moody     </td><td>David Chandler    </td></tr>\n",
       "\t<tr><td>Shanghai Calling                  </td><td>2012</td><td>Daniel Hsia       </td><td>100</td><td>Color          </td><td>Comedy|Drama|Romance               </td><td>USA</td><td>A partir de 13 anos</td><td>      NA</td><td>   10443</td><td>6.3</td><td>  660</td><td>Alan Ruck          </td><td>Daniel Henney     </td><td>Eliza Coupe       </td></tr>\n",
       "\t<tr><td>My Date with Drew                 </td><td>2004</td><td>Jon Gunn          </td><td> 90</td><td>Color          </td><td>Documentary                        </td><td>USA</td><td>Livre              </td><td>    1100</td><td>   85222</td><td>6.6</td><td>  456</td><td>John August        </td><td>Brian Herzlinger  </td><td>Jon Gunn          </td></tr>\n",
       "</tbody>\n",
       "</table>\n"
      ],
      "text/latex": [
       "A tibble: 3807 × 15\n",
       "\\begin{tabular}{lllllllllllllll}\n",
       " titulo & ano & diretor & duracao & cor & generos & pais & classificacao & orcamento & receita & nota\\_imdb & likes\\_facebook & ator\\_1 & ator\\_2 & ator\\_3\\\\\n",
       " <chr> & <dbl> & <chr> & <dbl> & <chr> & <chr> & <chr> & <chr> & <dbl> & <dbl> & <dbl> & <dbl> & <chr> & <chr> & <chr>\\\\\n",
       "\\hline\n",
       "\t Avatar                                       & 2009 & James Cameron     & 178 & Color & Action\\textbar{}Adventure\\textbar{}Fantasy\\textbar{}Sci-Fi                           & USA & A partir de 13 anos & 237000000 & 760505847 & 7.9 &  33000 & CCH Pounder         & Joel David Moore     & Wes Studi           \\\\\n",
       "\t Pirates of the Caribbean: At World's End     & 2007 & Gore Verbinski    & 169 & Color & Action\\textbar{}Adventure\\textbar{}Fantasy                                  & USA & A partir de 13 anos & 300000000 & 309404152 & 7.1 &      0 & Johnny Depp         & Orlando Bloom        & Jack Davenport      \\\\\n",
       "\t The Dark Knight Rises                        & 2012 & Christopher Nolan & 164 & Color & Action\\textbar{}Thriller                                           & USA & A partir de 13 anos & 250000000 & 448130642 & 8.5 & 164000 & Tom Hardy           & Christian Bale       & Joseph Gordon-Levitt\\\\\n",
       "\t John Carter                                  & 2012 & Andrew Stanton    & 132 & Color & Action\\textbar{}Adventure\\textbar{}Sci-Fi                                   & USA & A partir de 13 anos & 263700000 &  73058679 & 6.6 &  24000 & Daryl Sabara        & Samantha Morton      & Polly Walker        \\\\\n",
       "\t Spider-Man 3                                 & 2007 & Sam Raimi         & 156 & Color & Action\\textbar{}Adventure\\textbar{}Romance                                  & USA & A partir de 13 anos & 258000000 & 336530303 & 6.2 &      0 & J.K. Simmons        & James Franco         & Kirsten Dunst       \\\\\n",
       "\t Tangled                                      & 2010 & Nathan Greno      & 100 & Color & Adventure\\textbar{}Animation\\textbar{}Comedy\\textbar{}Family\\textbar{}Fantasy\\textbar{}Musical\\textbar{}Romance & USA & Livre               & 260000000 & 200807262 & 7.8 &  29000 & Brad Garrett        & Donna Murphy         & M.C. Gainey         \\\\\n",
       "\t Avengers: Age of Ultron                      & 2015 & Joss Whedon       & 141 & Color & Action\\textbar{}Adventure\\textbar{}Sci-Fi                                   & USA & A partir de 13 anos & 250000000 & 458991599 & 7.5 & 118000 & Chris Hemsworth     & Robert Downey Jr.    & Scarlett Johansson  \\\\\n",
       "\t Batman v Superman: Dawn of Justice           & 2016 & Zack Snyder       & 183 & Color & Action\\textbar{}Adventure\\textbar{}Sci-Fi                                   & USA & A partir de 13 anos & 250000000 & 330249062 & 6.9 & 197000 & Henry Cavill        & Lauren Cohan         & Alan D. Purwin      \\\\\n",
       "\t Superman Returns                             & 2006 & Bryan Singer      & 169 & Color & Action\\textbar{}Adventure\\textbar{}Sci-Fi                                   & USA & A partir de 13 anos & 209000000 & 200069408 & 6.1 &      0 & Kevin Spacey        & Marlon Brando        & Frank Langella      \\\\\n",
       "\t Pirates of the Caribbean: Dead Man's Chest   & 2006 & Gore Verbinski    & 151 & Color & Action\\textbar{}Adventure\\textbar{}Fantasy                                  & USA & A partir de 13 anos & 225000000 & 423032628 & 7.3 &   5000 & Johnny Depp         & Orlando Bloom        & Jack Davenport      \\\\\n",
       "\t The Lone Ranger                              & 2013 & Gore Verbinski    & 150 & Color & Action\\textbar{}Adventure\\textbar{}Western                                  & USA & A partir de 13 anos & 215000000 &  89289910 & 6.5 &  48000 & Johnny Depp         & Ruth Wilson          & Tom Wilkinson       \\\\\n",
       "\t Man of Steel                                 & 2013 & Zack Snyder       & 143 & Color & Action\\textbar{}Adventure\\textbar{}Fantasy\\textbar{}Sci-Fi                           & USA & A partir de 13 anos & 225000000 & 291021565 & 7.2 & 118000 & Henry Cavill        & Christopher Meloni   & Harry Lennix        \\\\\n",
       "\t The Chronicles of Narnia: Prince Caspian     & 2008 & Andrew Adamson    & 150 & Color & Action\\textbar{}Adventure\\textbar{}Family\\textbar{}Fantasy                           & USA & Livre               & 225000000 & 141614023 & 6.6 &      0 & Peter Dinklage      & Pierfrancesco Favino & Damián Alcázar      \\\\\n",
       "\t The Avengers                                 & 2012 & Joss Whedon       & 173 & Color & Action\\textbar{}Adventure\\textbar{}Sci-Fi                                   & USA & A partir de 13 anos & 220000000 & 623279547 & 8.1 & 123000 & Chris Hemsworth     & Robert Downey Jr.    & Scarlett Johansson  \\\\\n",
       "\t Pirates of the Caribbean: On Stranger Tides  & 2011 & Rob Marshall      & 136 & Color & Action\\textbar{}Adventure\\textbar{}Fantasy                                  & USA & A partir de 13 anos & 250000000 & 241063875 & 6.7 &  58000 & Johnny Depp         & Sam Claflin          & Stephen Graham      \\\\\n",
       "\t Men in Black 3                               & 2012 & Barry Sonnenfeld  & 106 & Color & Action\\textbar{}Adventure\\textbar{}Comedy\\textbar{}Family\\textbar{}Fantasy\\textbar{}Sci-Fi             & USA & A partir de 13 anos & 225000000 & 179020854 & 6.8 &  40000 & Will Smith          & Michael Stuhlbarg    & Nicole Scherzinger  \\\\\n",
       "\t The Amazing Spider-Man                       & 2012 & Marc Webb         & 153 & Color & Action\\textbar{}Adventure\\textbar{}Fantasy                                  & USA & A partir de 13 anos & 230000000 & 262030663 & 7.0 &  56000 & Emma Stone          & Andrew Garfield      & Chris Zylka         \\\\\n",
       "\t Robin Hood                                   & 2010 & Ridley Scott      & 156 & Color & Action\\textbar{}Adventure\\textbar{}Drama\\textbar{}History                            & USA & A partir de 13 anos & 200000000 & 105219735 & 6.7 &  17000 & Mark Addy           & William Hurt         & Scott Grimes        \\\\\n",
       "\t The Hobbit: The Desolation of Smaug          & 2013 & Peter Jackson     & 186 & Color & Adventure\\textbar{}Fantasy                                         & USA & A partir de 13 anos & 225000000 & 258355354 & 7.9 &  83000 & Aidan Turner        & Adam Brown           & James Nesbitt       \\\\\n",
       "\t The Golden Compass                           & 2007 & Chris Weitz       & 113 & Color & Adventure\\textbar{}Family\\textbar{}Fantasy                                  & USA & A partir de 13 anos & 180000000 &  70083519 & 6.1 &      0 & Christopher Lee     & Eva Green            & Kristin Scott Thomas\\\\\n",
       "\t Titanic                                      & 1997 & James Cameron     & 194 & Color & Drama\\textbar{}Romance                                             & USA & A partir de 13 anos & 200000000 & 658672302 & 7.7 &  26000 & Leonardo DiCaprio   & Kate Winslet         & Gloria Stuart       \\\\\n",
       "\t Captain America: Civil War                   & 2016 & Anthony Russo     & 147 & Color & Action\\textbar{}Adventure\\textbar{}Sci-Fi                                   & USA & A partir de 13 anos & 250000000 & 407197282 & 8.2 &  72000 & Robert Downey Jr.   & Scarlett Johansson   & Chris Evans         \\\\\n",
       "\t Battleship                                   & 2012 & Peter Berg        & 131 & Color & Action\\textbar{}Adventure\\textbar{}Sci-Fi\\textbar{}Thriller                          & USA & A partir de 13 anos & 209000000 &  65173160 & 5.9 &  44000 & Liam Neeson         & Alexander Skarsgård  & Tadanobu Asano      \\\\\n",
       "\t Jurassic World                               & 2015 & Colin Trevorrow   & 124 & Color & Action\\textbar{}Adventure\\textbar{}Sci-Fi\\textbar{}Thriller                          & USA & A partir de 13 anos & 150000000 & 652177271 & 7.0 & 150000 & Bryce Dallas Howard & Judy Greer           & Omar Sy             \\\\\n",
       "\t Spider-Man 2                                 & 2004 & Sam Raimi         & 135 & Color & Action\\textbar{}Adventure\\textbar{}Fantasy\\textbar{}Romance                          & USA & A partir de 13 anos & 200000000 & 373377893 & 7.3 &      0 & J.K. Simmons        & James Franco         & Kirsten Dunst       \\\\\n",
       "\t Iron Man 3                                   & 2013 & Shane Black       & 195 & Color & Action\\textbar{}Adventure\\textbar{}Sci-Fi                                   & USA & A partir de 13 anos & 200000000 & 408992272 & 7.2 &  95000 & Robert Downey Jr.   & Jon Favreau          & Don Cheadle         \\\\\n",
       "\t Alice in Wonderland                          & 2010 & Tim Burton        & 108 & Color & Adventure\\textbar{}Family\\textbar{}Fantasy                                  & USA & Livre               & 200000000 & 334185206 & 6.5 &  24000 & Johnny Depp         & Alan Rickman         & Anne Hathaway       \\\\\n",
       "\t Monsters University                          & 2013 & Dan Scanlon       & 104 & Color & Adventure\\textbar{}Animation\\textbar{}Comedy\\textbar{}Family\\textbar{}Fantasy                 & USA & Outros              & 200000000 & 268488329 & 7.3 &  44000 & Steve Buscemi       & Tyler Labine         & Sean Hayes          \\\\\n",
       "\t Transformers: Revenge of the Fallen          & 2009 & Michael Bay       & 150 & Color & Action\\textbar{}Adventure\\textbar{}Sci-Fi                                   & USA & A partir de 13 anos & 200000000 & 402076689 & 6.0 &      0 & Glenn Morshower     & Kevin Dunn           & Ramon Rodriguez     \\\\\n",
       "\t Transformers: Age of Extinction              & 2014 & Michael Bay       & 165 & Color & Action\\textbar{}Adventure\\textbar{}Sci-Fi                                   & USA & A partir de 13 anos & 210000000 & 245428137 & 5.7 &  56000 & Bingbing Li         & Sophia Myles         & Kelsey Grammer      \\\\\n",
       "\t ... & ... & ... & ... & ... & ... & ... & ... & ... & ... & ... & ... & ... & ... & ...\\\\\n",
       "\t The Exploding Girl                 & 2009 & Bradley Rust Gray  &  79 & Color           & Drama                               & USA & Outros              &       NA &    24705 & 6.3 &   377 & Zoe Kazan           & Mark Rendall       & Jordan Scovel     \\\\\n",
       "\t The Legend of God's Gun            & 2007 & Mike Bruce         &  78 & Color           & Western                             & USA & A partir de 18 anos &    30000 &   243768 & 4.1 &    13 & Joseph Campanella   & Kirpatrick Thomas  & Christian Anderson\\\\\n",
       "\t Mutual Appreciation                & 2005 & Andrew Bujalski    & 109 & Black and White & Comedy                              & USA & A partir de 18 anos &       NA &       NA & 6.9 &    91 & Andrew Bujalski     & Kate Dollenmayer   & Justin Rice       \\\\\n",
       "\t Her Cry: La Llorona Investigation  & 2013 & Damir Catic        &  89 & Color           & Horror                              & USA & Outros              &    60000 &       NA & 5.4 &    48 & Nichole Ceballos    & Ron Gelner         & Parker Riggs      \\\\\n",
       "\t Clerks                             & 1994 & Kevin Smith        & 102 & Black and White & Comedy                              & USA & A partir de 18 anos &   230000 &  3151130 & 7.8 &     0 & Jason Mewes         & Brian O'Halloran   & Jeff Anderson     \\\\\n",
       "\t Pink Narcissus                     & 1971 & James Bidgood      &  65 & Color           & Drama\\textbar{}Fantasy                       & USA & Outros              &    27000 &     8231 & 6.7 &    85 & Don Brooks          & Bobby Kendall      & NA                \\\\\n",
       "\t Funny Ha Ha                        & 2002 & Andrew Bujalski    &  85 & Color           & Comedy\\textbar{}Drama                        & USA & Outros              &       NA &       NA & 6.4 &   108 & Andrew Bujalski     & Kate Dollenmayer   & Justin Rice       \\\\\n",
       "\t Sabotage                           & 2014 & David Ayer         & 109 & Color           & Action\\textbar{}Crime\\textbar{}Drama\\textbar{}Thriller         & USA & A partir de 18 anos & 35000000 & 10499968 & 5.7 & 10000 & Mireille Enos       & Martin Donovan     & Maurice Compte    \\\\\n",
       "\t Manito                             & 2002 & Eric Eason         &  79 & Color           & Drama\\textbar{}Family                        & USA & Outros              &    24000 &       NA & 7.0 &    61 & Franky G            & Panchito Gómez     & Casper Martinez   \\\\\n",
       "\t Slacker                            & 1991 & Richard Linklater  & 100 & Black and White & Comedy\\textbar{}Drama                        & USA & A partir de 18 anos &    23000 &  1227508 & 7.1 &  2000 & Tommy Pallotta      & Richard Linklater  & Jean Caffeine     \\\\\n",
       "\t Dutch Kills                        & 2015 & Joseph Mazzella    &  90 & Color           & Crime\\textbar{}Drama\\textbar{}Thriller                & USA & Outros              &    25000 &       NA & 4.8 &    33 & Tjasa Ferme         & Mikaal Bates       & Damon Owlia       \\\\\n",
       "\t Dry Spell                          & 2013 & Travis Legge       &  90 & Color           & Comedy\\textbar{}Romance                      & USA & Outros              &    22000 &       NA & 3.3 &   200 & Kristen Seavey      & Suzi Lorraine      & Travis Legge      \\\\\n",
       "\t Flywheel                           & 2003 & Alex Kendrick      & 120 & Color           & Drama                               & USA & Outros              &    20000 &       NA & 6.9 &   725 & Shannen Fields      & Lisa Arnold        & Janet Lee Dapper  \\\\\n",
       "\t Exeter                             & 2015 & Marcus Nispel      &  91 & Color           & Horror\\textbar{}Mystery\\textbar{}Thriller             & USA & A partir de 18 anos &       NA &       NA & 4.6 &     0 & Ashley Tramonte     & Brittany Curran    & Lindsay MacDonald \\\\\n",
       "\t The Ridges                         & 2011 & Brandon Landers    & 143 & NA              & Drama\\textbar{}Horror\\textbar{}Thriller               & USA & Outros              &    17350 &       NA & 3.0 &    33 & Robbie Barnes       & Alana Kaniewski    & Brandon Landers   \\\\\n",
       "\t The Puffy Chair                    & 2005 & Jay Duplass        &  85 & Color           & Comedy\\textbar{}Drama\\textbar{}Romance                & USA & A partir de 18 anos &    15000 &   192467 & 6.6 &   297 & Mark Duplass        & Katie Aselton      & Bari Hyman        \\\\\n",
       "\t Breaking Upwards                   & 2009 & Daryl Wein         &  88 & Color           & Romance                             & USA & Outros              &    15000 &    76382 & 6.2 &   324 & Zoe Lister-Jones    & Heather Burns      & Ebon Moss-Bachrach\\\\\n",
       "\t All Superheroes Must Die           & 2011 & Jason Trost        &  78 & Color           & Sci-Fi\\textbar{}Thriller                     & USA & Outros              &    20000 &       NA & 4.0 &   835 & Sean Whalen         & Jason Trost        & Nick Principe     \\\\\n",
       "\t Pink Flamingos                     & 1972 & John Waters        & 108 & Color           & Comedy\\textbar{}Crime\\textbar{}Horror                 & USA & A partir de 18 anos &    10000 &   180483 & 6.1 &     0 & Divine              & Mink Stole         & Edith Massey      \\\\\n",
       "\t On the Downlow                     & 2004 & Tadeo Garcia       &  84 & Color           & Drama                               & USA & Outros              &       NA &       NA & 6.1 &    22 & Tatiana Suarez-Pico & Michael Cortez     & Eric Ambriz       \\\\\n",
       "\t Sanctuary; Quite a Conundrum       & 2012 & Thomas L. Phillips &  82 & Color           & Comedy\\textbar{}Horror\\textbar{}Thriller              & USA & Outros              &   200000 &       NA & 5.4 &   424 & Julianna Pitt       & Joe Coffey         & John Lucas        \\\\\n",
       "\t Bang                               & 1995 & Ash Baron-Cohen    &  98 & Color           & Crime\\textbar{}Drama                         & USA & Outros              &       NA &       NA & 6.4 &    20 & Peter Greene        & Stanley B. Herman  & James Noble       \\\\\n",
       "\t Primer                             & 2004 & Shane Carruth      &  77 & Color           & Drama\\textbar{}Sci-Fi\\textbar{}Thriller               & USA & A partir de 13 anos &     7000 &   424760 & 7.0 & 19000 & Shane Carruth       & David Sullivan     & Casey Gooden      \\\\\n",
       "\t El Mariachi                        & 1992 & Robert Rodriguez   &  81 & Color           & Action\\textbar{}Crime\\textbar{}Drama\\textbar{}Romance\\textbar{}Thriller & USA & A partir de 18 anos &     7000 &  2040920 & 6.9 &     0 & Carlos Gallardo     & Peter Marquardt    & Consuelo Gómez    \\\\\n",
       "\t The Mongol King                    & 2005 & Anthony Vallone    &  84 & Color           & Crime\\textbar{}Drama                         & USA & A partir de 13 anos &     3250 &       NA & 7.8 &     4 & Richard Jewell      & John Considine     & Sara Stepnicka    \\\\\n",
       "\t Newlyweds                          & 2011 & Edward Burns       &  95 & Color           & Comedy\\textbar{}Drama                        & USA & Outros              &     9000 &     4584 & 6.4 &   413 & Kerry Bishé         & Caitlin FitzGerald & Daniella Pineda   \\\\\n",
       "\t The Following                      &   NA & NA                 &  43 & Color           & Crime\\textbar{}Drama\\textbar{}Mystery\\textbar{}Thriller        & USA & Outros              &       NA &       NA & 7.5 & 32000 & Natalie Zea         & Valorie Curry      & Sam Underwood     \\\\\n",
       "\t A Plague So Pleasant               & 2013 & Benjamin Roberds   &  76 & Color           & Drama\\textbar{}Horror\\textbar{}Thriller               & USA & Outros              &     1400 &       NA & 6.3 &    16 & Eva Boehnke         & Maxwell Moody      & David Chandler    \\\\\n",
       "\t Shanghai Calling                   & 2012 & Daniel Hsia        & 100 & Color           & Comedy\\textbar{}Drama\\textbar{}Romance                & USA & A partir de 13 anos &       NA &    10443 & 6.3 &   660 & Alan Ruck           & Daniel Henney      & Eliza Coupe       \\\\\n",
       "\t My Date with Drew                  & 2004 & Jon Gunn           &  90 & Color           & Documentary                         & USA & Livre               &     1100 &    85222 & 6.6 &   456 & John August         & Brian Herzlinger   & Jon Gunn          \\\\\n",
       "\\end{tabular}\n"
      ],
      "text/markdown": [
       "\n",
       "A tibble: 3807 × 15\n",
       "\n",
       "| titulo &lt;chr&gt; | ano &lt;dbl&gt; | diretor &lt;chr&gt; | duracao &lt;dbl&gt; | cor &lt;chr&gt; | generos &lt;chr&gt; | pais &lt;chr&gt; | classificacao &lt;chr&gt; | orcamento &lt;dbl&gt; | receita &lt;dbl&gt; | nota_imdb &lt;dbl&gt; | likes_facebook &lt;dbl&gt; | ator_1 &lt;chr&gt; | ator_2 &lt;chr&gt; | ator_3 &lt;chr&gt; |\n",
       "|---|---|---|---|---|---|---|---|---|---|---|---|---|---|---|\n",
       "| Avatar                                       | 2009 | James Cameron     | 178 | Color | Action|Adventure|Fantasy|Sci-Fi                           | USA | A partir de 13 anos | 237000000 | 760505847 | 7.9 |  33000 | CCH Pounder         | Joel David Moore     | Wes Studi            |\n",
       "| Pirates of the Caribbean: At World's End     | 2007 | Gore Verbinski    | 169 | Color | Action|Adventure|Fantasy                                  | USA | A partir de 13 anos | 300000000 | 309404152 | 7.1 |      0 | Johnny Depp         | Orlando Bloom        | Jack Davenport       |\n",
       "| The Dark Knight Rises                        | 2012 | Christopher Nolan | 164 | Color | Action|Thriller                                           | USA | A partir de 13 anos | 250000000 | 448130642 | 8.5 | 164000 | Tom Hardy           | Christian Bale       | Joseph Gordon-Levitt |\n",
       "| John Carter                                  | 2012 | Andrew Stanton    | 132 | Color | Action|Adventure|Sci-Fi                                   | USA | A partir de 13 anos | 263700000 |  73058679 | 6.6 |  24000 | Daryl Sabara        | Samantha Morton      | Polly Walker         |\n",
       "| Spider-Man 3                                 | 2007 | Sam Raimi         | 156 | Color | Action|Adventure|Romance                                  | USA | A partir de 13 anos | 258000000 | 336530303 | 6.2 |      0 | J.K. Simmons        | James Franco         | Kirsten Dunst        |\n",
       "| Tangled                                      | 2010 | Nathan Greno      | 100 | Color | Adventure|Animation|Comedy|Family|Fantasy|Musical|Romance | USA | Livre               | 260000000 | 200807262 | 7.8 |  29000 | Brad Garrett        | Donna Murphy         | M.C. Gainey          |\n",
       "| Avengers: Age of Ultron                      | 2015 | Joss Whedon       | 141 | Color | Action|Adventure|Sci-Fi                                   | USA | A partir de 13 anos | 250000000 | 458991599 | 7.5 | 118000 | Chris Hemsworth     | Robert Downey Jr.    | Scarlett Johansson   |\n",
       "| Batman v Superman: Dawn of Justice           | 2016 | Zack Snyder       | 183 | Color | Action|Adventure|Sci-Fi                                   | USA | A partir de 13 anos | 250000000 | 330249062 | 6.9 | 197000 | Henry Cavill        | Lauren Cohan         | Alan D. Purwin       |\n",
       "| Superman Returns                             | 2006 | Bryan Singer      | 169 | Color | Action|Adventure|Sci-Fi                                   | USA | A partir de 13 anos | 209000000 | 200069408 | 6.1 |      0 | Kevin Spacey        | Marlon Brando        | Frank Langella       |\n",
       "| Pirates of the Caribbean: Dead Man's Chest   | 2006 | Gore Verbinski    | 151 | Color | Action|Adventure|Fantasy                                  | USA | A partir de 13 anos | 225000000 | 423032628 | 7.3 |   5000 | Johnny Depp         | Orlando Bloom        | Jack Davenport       |\n",
       "| The Lone Ranger                              | 2013 | Gore Verbinski    | 150 | Color | Action|Adventure|Western                                  | USA | A partir de 13 anos | 215000000 |  89289910 | 6.5 |  48000 | Johnny Depp         | Ruth Wilson          | Tom Wilkinson        |\n",
       "| Man of Steel                                 | 2013 | Zack Snyder       | 143 | Color | Action|Adventure|Fantasy|Sci-Fi                           | USA | A partir de 13 anos | 225000000 | 291021565 | 7.2 | 118000 | Henry Cavill        | Christopher Meloni   | Harry Lennix         |\n",
       "| The Chronicles of Narnia: Prince Caspian     | 2008 | Andrew Adamson    | 150 | Color | Action|Adventure|Family|Fantasy                           | USA | Livre               | 225000000 | 141614023 | 6.6 |      0 | Peter Dinklage      | Pierfrancesco Favino | Damián Alcázar       |\n",
       "| The Avengers                                 | 2012 | Joss Whedon       | 173 | Color | Action|Adventure|Sci-Fi                                   | USA | A partir de 13 anos | 220000000 | 623279547 | 8.1 | 123000 | Chris Hemsworth     | Robert Downey Jr.    | Scarlett Johansson   |\n",
       "| Pirates of the Caribbean: On Stranger Tides  | 2011 | Rob Marshall      | 136 | Color | Action|Adventure|Fantasy                                  | USA | A partir de 13 anos | 250000000 | 241063875 | 6.7 |  58000 | Johnny Depp         | Sam Claflin          | Stephen Graham       |\n",
       "| Men in Black 3                               | 2012 | Barry Sonnenfeld  | 106 | Color | Action|Adventure|Comedy|Family|Fantasy|Sci-Fi             | USA | A partir de 13 anos | 225000000 | 179020854 | 6.8 |  40000 | Will Smith          | Michael Stuhlbarg    | Nicole Scherzinger   |\n",
       "| The Amazing Spider-Man                       | 2012 | Marc Webb         | 153 | Color | Action|Adventure|Fantasy                                  | USA | A partir de 13 anos | 230000000 | 262030663 | 7.0 |  56000 | Emma Stone          | Andrew Garfield      | Chris Zylka          |\n",
       "| Robin Hood                                   | 2010 | Ridley Scott      | 156 | Color | Action|Adventure|Drama|History                            | USA | A partir de 13 anos | 200000000 | 105219735 | 6.7 |  17000 | Mark Addy           | William Hurt         | Scott Grimes         |\n",
       "| The Hobbit: The Desolation of Smaug          | 2013 | Peter Jackson     | 186 | Color | Adventure|Fantasy                                         | USA | A partir de 13 anos | 225000000 | 258355354 | 7.9 |  83000 | Aidan Turner        | Adam Brown           | James Nesbitt        |\n",
       "| The Golden Compass                           | 2007 | Chris Weitz       | 113 | Color | Adventure|Family|Fantasy                                  | USA | A partir de 13 anos | 180000000 |  70083519 | 6.1 |      0 | Christopher Lee     | Eva Green            | Kristin Scott Thomas |\n",
       "| Titanic                                      | 1997 | James Cameron     | 194 | Color | Drama|Romance                                             | USA | A partir de 13 anos | 200000000 | 658672302 | 7.7 |  26000 | Leonardo DiCaprio   | Kate Winslet         | Gloria Stuart        |\n",
       "| Captain America: Civil War                   | 2016 | Anthony Russo     | 147 | Color | Action|Adventure|Sci-Fi                                   | USA | A partir de 13 anos | 250000000 | 407197282 | 8.2 |  72000 | Robert Downey Jr.   | Scarlett Johansson   | Chris Evans          |\n",
       "| Battleship                                   | 2012 | Peter Berg        | 131 | Color | Action|Adventure|Sci-Fi|Thriller                          | USA | A partir de 13 anos | 209000000 |  65173160 | 5.9 |  44000 | Liam Neeson         | Alexander Skarsgård  | Tadanobu Asano       |\n",
       "| Jurassic World                               | 2015 | Colin Trevorrow   | 124 | Color | Action|Adventure|Sci-Fi|Thriller                          | USA | A partir de 13 anos | 150000000 | 652177271 | 7.0 | 150000 | Bryce Dallas Howard | Judy Greer           | Omar Sy              |\n",
       "| Spider-Man 2                                 | 2004 | Sam Raimi         | 135 | Color | Action|Adventure|Fantasy|Romance                          | USA | A partir de 13 anos | 200000000 | 373377893 | 7.3 |      0 | J.K. Simmons        | James Franco         | Kirsten Dunst        |\n",
       "| Iron Man 3                                   | 2013 | Shane Black       | 195 | Color | Action|Adventure|Sci-Fi                                   | USA | A partir de 13 anos | 200000000 | 408992272 | 7.2 |  95000 | Robert Downey Jr.   | Jon Favreau          | Don Cheadle          |\n",
       "| Alice in Wonderland                          | 2010 | Tim Burton        | 108 | Color | Adventure|Family|Fantasy                                  | USA | Livre               | 200000000 | 334185206 | 6.5 |  24000 | Johnny Depp         | Alan Rickman         | Anne Hathaway        |\n",
       "| Monsters University                          | 2013 | Dan Scanlon       | 104 | Color | Adventure|Animation|Comedy|Family|Fantasy                 | USA | Outros              | 200000000 | 268488329 | 7.3 |  44000 | Steve Buscemi       | Tyler Labine         | Sean Hayes           |\n",
       "| Transformers: Revenge of the Fallen          | 2009 | Michael Bay       | 150 | Color | Action|Adventure|Sci-Fi                                   | USA | A partir de 13 anos | 200000000 | 402076689 | 6.0 |      0 | Glenn Morshower     | Kevin Dunn           | Ramon Rodriguez      |\n",
       "| Transformers: Age of Extinction              | 2014 | Michael Bay       | 165 | Color | Action|Adventure|Sci-Fi                                   | USA | A partir de 13 anos | 210000000 | 245428137 | 5.7 |  56000 | Bingbing Li         | Sophia Myles         | Kelsey Grammer       |\n",
       "| ... | ... | ... | ... | ... | ... | ... | ... | ... | ... | ... | ... | ... | ... | ... |\n",
       "| The Exploding Girl                 | 2009 | Bradley Rust Gray  |  79 | Color           | Drama                               | USA | Outros              |       NA |    24705 | 6.3 |   377 | Zoe Kazan           | Mark Rendall       | Jordan Scovel      |\n",
       "| The Legend of God's Gun            | 2007 | Mike Bruce         |  78 | Color           | Western                             | USA | A partir de 18 anos |    30000 |   243768 | 4.1 |    13 | Joseph Campanella   | Kirpatrick Thomas  | Christian Anderson |\n",
       "| Mutual Appreciation                | 2005 | Andrew Bujalski    | 109 | Black and White | Comedy                              | USA | A partir de 18 anos |       NA |       NA | 6.9 |    91 | Andrew Bujalski     | Kate Dollenmayer   | Justin Rice        |\n",
       "| Her Cry: La Llorona Investigation  | 2013 | Damir Catic        |  89 | Color           | Horror                              | USA | Outros              |    60000 |       NA | 5.4 |    48 | Nichole Ceballos    | Ron Gelner         | Parker Riggs       |\n",
       "| Clerks                             | 1994 | Kevin Smith        | 102 | Black and White | Comedy                              | USA | A partir de 18 anos |   230000 |  3151130 | 7.8 |     0 | Jason Mewes         | Brian O'Halloran   | Jeff Anderson      |\n",
       "| Pink Narcissus                     | 1971 | James Bidgood      |  65 | Color           | Drama|Fantasy                       | USA | Outros              |    27000 |     8231 | 6.7 |    85 | Don Brooks          | Bobby Kendall      | NA                 |\n",
       "| Funny Ha Ha                        | 2002 | Andrew Bujalski    |  85 | Color           | Comedy|Drama                        | USA | Outros              |       NA |       NA | 6.4 |   108 | Andrew Bujalski     | Kate Dollenmayer   | Justin Rice        |\n",
       "| Sabotage                           | 2014 | David Ayer         | 109 | Color           | Action|Crime|Drama|Thriller         | USA | A partir de 18 anos | 35000000 | 10499968 | 5.7 | 10000 | Mireille Enos       | Martin Donovan     | Maurice Compte     |\n",
       "| Manito                             | 2002 | Eric Eason         |  79 | Color           | Drama|Family                        | USA | Outros              |    24000 |       NA | 7.0 |    61 | Franky G            | Panchito Gómez     | Casper Martinez    |\n",
       "| Slacker                            | 1991 | Richard Linklater  | 100 | Black and White | Comedy|Drama                        | USA | A partir de 18 anos |    23000 |  1227508 | 7.1 |  2000 | Tommy Pallotta      | Richard Linklater  | Jean Caffeine      |\n",
       "| Dutch Kills                        | 2015 | Joseph Mazzella    |  90 | Color           | Crime|Drama|Thriller                | USA | Outros              |    25000 |       NA | 4.8 |    33 | Tjasa Ferme         | Mikaal Bates       | Damon Owlia        |\n",
       "| Dry Spell                          | 2013 | Travis Legge       |  90 | Color           | Comedy|Romance                      | USA | Outros              |    22000 |       NA | 3.3 |   200 | Kristen Seavey      | Suzi Lorraine      | Travis Legge       |\n",
       "| Flywheel                           | 2003 | Alex Kendrick      | 120 | Color           | Drama                               | USA | Outros              |    20000 |       NA | 6.9 |   725 | Shannen Fields      | Lisa Arnold        | Janet Lee Dapper   |\n",
       "| Exeter                             | 2015 | Marcus Nispel      |  91 | Color           | Horror|Mystery|Thriller             | USA | A partir de 18 anos |       NA |       NA | 4.6 |     0 | Ashley Tramonte     | Brittany Curran    | Lindsay MacDonald  |\n",
       "| The Ridges                         | 2011 | Brandon Landers    | 143 | NA              | Drama|Horror|Thriller               | USA | Outros              |    17350 |       NA | 3.0 |    33 | Robbie Barnes       | Alana Kaniewski    | Brandon Landers    |\n",
       "| The Puffy Chair                    | 2005 | Jay Duplass        |  85 | Color           | Comedy|Drama|Romance                | USA | A partir de 18 anos |    15000 |   192467 | 6.6 |   297 | Mark Duplass        | Katie Aselton      | Bari Hyman         |\n",
       "| Breaking Upwards                   | 2009 | Daryl Wein         |  88 | Color           | Romance                             | USA | Outros              |    15000 |    76382 | 6.2 |   324 | Zoe Lister-Jones    | Heather Burns      | Ebon Moss-Bachrach |\n",
       "| All Superheroes Must Die           | 2011 | Jason Trost        |  78 | Color           | Sci-Fi|Thriller                     | USA | Outros              |    20000 |       NA | 4.0 |   835 | Sean Whalen         | Jason Trost        | Nick Principe      |\n",
       "| Pink Flamingos                     | 1972 | John Waters        | 108 | Color           | Comedy|Crime|Horror                 | USA | A partir de 18 anos |    10000 |   180483 | 6.1 |     0 | Divine              | Mink Stole         | Edith Massey       |\n",
       "| On the Downlow                     | 2004 | Tadeo Garcia       |  84 | Color           | Drama                               | USA | Outros              |       NA |       NA | 6.1 |    22 | Tatiana Suarez-Pico | Michael Cortez     | Eric Ambriz        |\n",
       "| Sanctuary; Quite a Conundrum       | 2012 | Thomas L. Phillips |  82 | Color           | Comedy|Horror|Thriller              | USA | Outros              |   200000 |       NA | 5.4 |   424 | Julianna Pitt       | Joe Coffey         | John Lucas         |\n",
       "| Bang                               | 1995 | Ash Baron-Cohen    |  98 | Color           | Crime|Drama                         | USA | Outros              |       NA |       NA | 6.4 |    20 | Peter Greene        | Stanley B. Herman  | James Noble        |\n",
       "| Primer                             | 2004 | Shane Carruth      |  77 | Color           | Drama|Sci-Fi|Thriller               | USA | A partir de 13 anos |     7000 |   424760 | 7.0 | 19000 | Shane Carruth       | David Sullivan     | Casey Gooden       |\n",
       "| El Mariachi                        | 1992 | Robert Rodriguez   |  81 | Color           | Action|Crime|Drama|Romance|Thriller | USA | A partir de 18 anos |     7000 |  2040920 | 6.9 |     0 | Carlos Gallardo     | Peter Marquardt    | Consuelo Gómez     |\n",
       "| The Mongol King                    | 2005 | Anthony Vallone    |  84 | Color           | Crime|Drama                         | USA | A partir de 13 anos |     3250 |       NA | 7.8 |     4 | Richard Jewell      | John Considine     | Sara Stepnicka     |\n",
       "| Newlyweds                          | 2011 | Edward Burns       |  95 | Color           | Comedy|Drama                        | USA | Outros              |     9000 |     4584 | 6.4 |   413 | Kerry Bishé         | Caitlin FitzGerald | Daniella Pineda    |\n",
       "| The Following                      |   NA | NA                 |  43 | Color           | Crime|Drama|Mystery|Thriller        | USA | Outros              |       NA |       NA | 7.5 | 32000 | Natalie Zea         | Valorie Curry      | Sam Underwood      |\n",
       "| A Plague So Pleasant               | 2013 | Benjamin Roberds   |  76 | Color           | Drama|Horror|Thriller               | USA | Outros              |     1400 |       NA | 6.3 |    16 | Eva Boehnke         | Maxwell Moody      | David Chandler     |\n",
       "| Shanghai Calling                   | 2012 | Daniel Hsia        | 100 | Color           | Comedy|Drama|Romance                | USA | A partir de 13 anos |       NA |    10443 | 6.3 |   660 | Alan Ruck           | Daniel Henney      | Eliza Coupe        |\n",
       "| My Date with Drew                  | 2004 | Jon Gunn           |  90 | Color           | Documentary                         | USA | Livre               |     1100 |    85222 | 6.6 |   456 | John August         | Brian Herzlinger   | Jon Gunn           |\n",
       "\n"
      ],
      "text/plain": [
       "     titulo                                       ano  diretor           \n",
       "1    Avatar                                       2009 James Cameron     \n",
       "2    Pirates of the Caribbean: At World's End     2007 Gore Verbinski    \n",
       "3    The Dark Knight Rises                        2012 Christopher Nolan \n",
       "4    John Carter                                  2012 Andrew Stanton    \n",
       "5    Spider-Man 3                                 2007 Sam Raimi         \n",
       "6    Tangled                                      2010 Nathan Greno      \n",
       "7    Avengers: Age of Ultron                      2015 Joss Whedon       \n",
       "8    Batman v Superman: Dawn of Justice           2016 Zack Snyder       \n",
       "9    Superman Returns                             2006 Bryan Singer      \n",
       "10   Pirates of the Caribbean: Dead Man's Chest   2006 Gore Verbinski    \n",
       "11   The Lone Ranger                              2013 Gore Verbinski    \n",
       "12   Man of Steel                                 2013 Zack Snyder       \n",
       "13   The Chronicles of Narnia: Prince Caspian     2008 Andrew Adamson    \n",
       "14   The Avengers                                 2012 Joss Whedon       \n",
       "15   Pirates of the Caribbean: On Stranger Tides  2011 Rob Marshall      \n",
       "16   Men in Black 3                               2012 Barry Sonnenfeld  \n",
       "17   The Amazing Spider-Man                       2012 Marc Webb         \n",
       "18   Robin Hood                                   2010 Ridley Scott      \n",
       "19   The Hobbit: The Desolation of Smaug          2013 Peter Jackson     \n",
       "20   The Golden Compass                           2007 Chris Weitz       \n",
       "21   Titanic                                      1997 James Cameron     \n",
       "22   Captain America: Civil War                   2016 Anthony Russo     \n",
       "23   Battleship                                   2012 Peter Berg        \n",
       "24   Jurassic World                               2015 Colin Trevorrow   \n",
       "25   Spider-Man 2                                 2004 Sam Raimi         \n",
       "26   Iron Man 3                                   2013 Shane Black       \n",
       "27   Alice in Wonderland                          2010 Tim Burton        \n",
       "28   Monsters University                          2013 Dan Scanlon       \n",
       "29   Transformers: Revenge of the Fallen          2009 Michael Bay       \n",
       "30   Transformers: Age of Extinction              2014 Michael Bay       \n",
       "...  ...                                          ...  ...               \n",
       "3778 The Exploding Girl                           2009 Bradley Rust Gray \n",
       "3779 The Legend of God's Gun                      2007 Mike Bruce        \n",
       "3780 Mutual Appreciation                          2005 Andrew Bujalski   \n",
       "3781 Her Cry: La Llorona Investigation            2013 Damir Catic       \n",
       "3782 Clerks                                       1994 Kevin Smith       \n",
       "3783 Pink Narcissus                               1971 James Bidgood     \n",
       "3784 Funny Ha Ha                                  2002 Andrew Bujalski   \n",
       "3785 Sabotage                                     2014 David Ayer        \n",
       "3786 Manito                                       2002 Eric Eason        \n",
       "3787 Slacker                                      1991 Richard Linklater \n",
       "3788 Dutch Kills                                  2015 Joseph Mazzella   \n",
       "3789 Dry Spell                                    2013 Travis Legge      \n",
       "3790 Flywheel                                     2003 Alex Kendrick     \n",
       "3791 Exeter                                       2015 Marcus Nispel     \n",
       "3792 The Ridges                                   2011 Brandon Landers   \n",
       "3793 The Puffy Chair                              2005 Jay Duplass       \n",
       "3794 Breaking Upwards                             2009 Daryl Wein        \n",
       "3795 All Superheroes Must Die                     2011 Jason Trost       \n",
       "3796 Pink Flamingos                               1972 John Waters       \n",
       "3797 On the Downlow                               2004 Tadeo Garcia      \n",
       "3798 Sanctuary; Quite a Conundrum                 2012 Thomas L. Phillips\n",
       "3799 Bang                                         1995 Ash Baron-Cohen   \n",
       "3800 Primer                                       2004 Shane Carruth     \n",
       "3801 El Mariachi                                  1992 Robert Rodriguez  \n",
       "3802 The Mongol King                              2005 Anthony Vallone   \n",
       "3803 Newlyweds                                    2011 Edward Burns      \n",
       "3804 The Following                                  NA NA                \n",
       "3805 A Plague So Pleasant                         2013 Benjamin Roberds  \n",
       "3806 Shanghai Calling                             2012 Daniel Hsia       \n",
       "3807 My Date with Drew                            2004 Jon Gunn          \n",
       "     duracao cor            \n",
       "1    178     Color          \n",
       "2    169     Color          \n",
       "3    164     Color          \n",
       "4    132     Color          \n",
       "5    156     Color          \n",
       "6    100     Color          \n",
       "7    141     Color          \n",
       "8    183     Color          \n",
       "9    169     Color          \n",
       "10   151     Color          \n",
       "11   150     Color          \n",
       "12   143     Color          \n",
       "13   150     Color          \n",
       "14   173     Color          \n",
       "15   136     Color          \n",
       "16   106     Color          \n",
       "17   153     Color          \n",
       "18   156     Color          \n",
       "19   186     Color          \n",
       "20   113     Color          \n",
       "21   194     Color          \n",
       "22   147     Color          \n",
       "23   131     Color          \n",
       "24   124     Color          \n",
       "25   135     Color          \n",
       "26   195     Color          \n",
       "27   108     Color          \n",
       "28   104     Color          \n",
       "29   150     Color          \n",
       "30   165     Color          \n",
       "...  ...     ...            \n",
       "3778  79     Color          \n",
       "3779  78     Color          \n",
       "3780 109     Black and White\n",
       "3781  89     Color          \n",
       "3782 102     Black and White\n",
       "3783  65     Color          \n",
       "3784  85     Color          \n",
       "3785 109     Color          \n",
       "3786  79     Color          \n",
       "3787 100     Black and White\n",
       "3788  90     Color          \n",
       "3789  90     Color          \n",
       "3790 120     Color          \n",
       "3791  91     Color          \n",
       "3792 143     NA             \n",
       "3793  85     Color          \n",
       "3794  88     Color          \n",
       "3795  78     Color          \n",
       "3796 108     Color          \n",
       "3797  84     Color          \n",
       "3798  82     Color          \n",
       "3799  98     Color          \n",
       "3800  77     Color          \n",
       "3801  81     Color          \n",
       "3802  84     Color          \n",
       "3803  95     Color          \n",
       "3804  43     Color          \n",
       "3805  76     Color          \n",
       "3806 100     Color          \n",
       "3807  90     Color          \n",
       "     generos                                                   pais\n",
       "1    Action|Adventure|Fantasy|Sci-Fi                           USA \n",
       "2    Action|Adventure|Fantasy                                  USA \n",
       "3    Action|Thriller                                           USA \n",
       "4    Action|Adventure|Sci-Fi                                   USA \n",
       "5    Action|Adventure|Romance                                  USA \n",
       "6    Adventure|Animation|Comedy|Family|Fantasy|Musical|Romance USA \n",
       "7    Action|Adventure|Sci-Fi                                   USA \n",
       "8    Action|Adventure|Sci-Fi                                   USA \n",
       "9    Action|Adventure|Sci-Fi                                   USA \n",
       "10   Action|Adventure|Fantasy                                  USA \n",
       "11   Action|Adventure|Western                                  USA \n",
       "12   Action|Adventure|Fantasy|Sci-Fi                           USA \n",
       "13   Action|Adventure|Family|Fantasy                           USA \n",
       "14   Action|Adventure|Sci-Fi                                   USA \n",
       "15   Action|Adventure|Fantasy                                  USA \n",
       "16   Action|Adventure|Comedy|Family|Fantasy|Sci-Fi             USA \n",
       "17   Action|Adventure|Fantasy                                  USA \n",
       "18   Action|Adventure|Drama|History                            USA \n",
       "19   Adventure|Fantasy                                         USA \n",
       "20   Adventure|Family|Fantasy                                  USA \n",
       "21   Drama|Romance                                             USA \n",
       "22   Action|Adventure|Sci-Fi                                   USA \n",
       "23   Action|Adventure|Sci-Fi|Thriller                          USA \n",
       "24   Action|Adventure|Sci-Fi|Thriller                          USA \n",
       "25   Action|Adventure|Fantasy|Romance                          USA \n",
       "26   Action|Adventure|Sci-Fi                                   USA \n",
       "27   Adventure|Family|Fantasy                                  USA \n",
       "28   Adventure|Animation|Comedy|Family|Fantasy                 USA \n",
       "29   Action|Adventure|Sci-Fi                                   USA \n",
       "30   Action|Adventure|Sci-Fi                                   USA \n",
       "...  ...                                                       ... \n",
       "3778 Drama                                                     USA \n",
       "3779 Western                                                   USA \n",
       "3780 Comedy                                                    USA \n",
       "3781 Horror                                                    USA \n",
       "3782 Comedy                                                    USA \n",
       "3783 Drama|Fantasy                                             USA \n",
       "3784 Comedy|Drama                                              USA \n",
       "3785 Action|Crime|Drama|Thriller                               USA \n",
       "3786 Drama|Family                                              USA \n",
       "3787 Comedy|Drama                                              USA \n",
       "3788 Crime|Drama|Thriller                                      USA \n",
       "3789 Comedy|Romance                                            USA \n",
       "3790 Drama                                                     USA \n",
       "3791 Horror|Mystery|Thriller                                   USA \n",
       "3792 Drama|Horror|Thriller                                     USA \n",
       "3793 Comedy|Drama|Romance                                      USA \n",
       "3794 Romance                                                   USA \n",
       "3795 Sci-Fi|Thriller                                           USA \n",
       "3796 Comedy|Crime|Horror                                       USA \n",
       "3797 Drama                                                     USA \n",
       "3798 Comedy|Horror|Thriller                                    USA \n",
       "3799 Crime|Drama                                               USA \n",
       "3800 Drama|Sci-Fi|Thriller                                     USA \n",
       "3801 Action|Crime|Drama|Romance|Thriller                       USA \n",
       "3802 Crime|Drama                                               USA \n",
       "3803 Comedy|Drama                                              USA \n",
       "3804 Crime|Drama|Mystery|Thriller                              USA \n",
       "3805 Drama|Horror|Thriller                                     USA \n",
       "3806 Comedy|Drama|Romance                                      USA \n",
       "3807 Documentary                                               USA \n",
       "     classificacao       orcamento receita   nota_imdb likes_facebook\n",
       "1    A partir de 13 anos 237000000 760505847 7.9        33000        \n",
       "2    A partir de 13 anos 300000000 309404152 7.1            0        \n",
       "3    A partir de 13 anos 250000000 448130642 8.5       164000        \n",
       "4    A partir de 13 anos 263700000  73058679 6.6        24000        \n",
       "5    A partir de 13 anos 258000000 336530303 6.2            0        \n",
       "6    Livre               260000000 200807262 7.8        29000        \n",
       "7    A partir de 13 anos 250000000 458991599 7.5       118000        \n",
       "8    A partir de 13 anos 250000000 330249062 6.9       197000        \n",
       "9    A partir de 13 anos 209000000 200069408 6.1            0        \n",
       "10   A partir de 13 anos 225000000 423032628 7.3         5000        \n",
       "11   A partir de 13 anos 215000000  89289910 6.5        48000        \n",
       "12   A partir de 13 anos 225000000 291021565 7.2       118000        \n",
       "13   Livre               225000000 141614023 6.6            0        \n",
       "14   A partir de 13 anos 220000000 623279547 8.1       123000        \n",
       "15   A partir de 13 anos 250000000 241063875 6.7        58000        \n",
       "16   A partir de 13 anos 225000000 179020854 6.8        40000        \n",
       "17   A partir de 13 anos 230000000 262030663 7.0        56000        \n",
       "18   A partir de 13 anos 200000000 105219735 6.7        17000        \n",
       "19   A partir de 13 anos 225000000 258355354 7.9        83000        \n",
       "20   A partir de 13 anos 180000000  70083519 6.1            0        \n",
       "21   A partir de 13 anos 200000000 658672302 7.7        26000        \n",
       "22   A partir de 13 anos 250000000 407197282 8.2        72000        \n",
       "23   A partir de 13 anos 209000000  65173160 5.9        44000        \n",
       "24   A partir de 13 anos 150000000 652177271 7.0       150000        \n",
       "25   A partir de 13 anos 200000000 373377893 7.3            0        \n",
       "26   A partir de 13 anos 200000000 408992272 7.2        95000        \n",
       "27   Livre               200000000 334185206 6.5        24000        \n",
       "28   Outros              200000000 268488329 7.3        44000        \n",
       "29   A partir de 13 anos 200000000 402076689 6.0            0        \n",
       "30   A partir de 13 anos 210000000 245428137 5.7        56000        \n",
       "...  ...                 ...       ...       ...       ...           \n",
       "3778 Outros                    NA     24705  6.3         377         \n",
       "3779 A partir de 18 anos    30000    243768  4.1          13         \n",
       "3780 A partir de 18 anos       NA        NA  6.9          91         \n",
       "3781 Outros                 60000        NA  5.4          48         \n",
       "3782 A partir de 18 anos   230000   3151130  7.8           0         \n",
       "3783 Outros                 27000      8231  6.7          85         \n",
       "3784 Outros                    NA        NA  6.4         108         \n",
       "3785 A partir de 18 anos 35000000  10499968  5.7       10000         \n",
       "3786 Outros                 24000        NA  7.0          61         \n",
       "3787 A partir de 18 anos    23000   1227508  7.1        2000         \n",
       "3788 Outros                 25000        NA  4.8          33         \n",
       "3789 Outros                 22000        NA  3.3         200         \n",
       "3790 Outros                 20000        NA  6.9         725         \n",
       "3791 A partir de 18 anos       NA        NA  4.6           0         \n",
       "3792 Outros                 17350        NA  3.0          33         \n",
       "3793 A partir de 18 anos    15000    192467  6.6         297         \n",
       "3794 Outros                 15000     76382  6.2         324         \n",
       "3795 Outros                 20000        NA  4.0         835         \n",
       "3796 A partir de 18 anos    10000    180483  6.1           0         \n",
       "3797 Outros                    NA        NA  6.1          22         \n",
       "3798 Outros                200000        NA  5.4         424         \n",
       "3799 Outros                    NA        NA  6.4          20         \n",
       "3800 A partir de 13 anos     7000    424760  7.0       19000         \n",
       "3801 A partir de 18 anos     7000   2040920  6.9           0         \n",
       "3802 A partir de 13 anos     3250        NA  7.8           4         \n",
       "3803 Outros                  9000      4584  6.4         413         \n",
       "3804 Outros                    NA        NA  7.5       32000         \n",
       "3805 Outros                  1400        NA  6.3          16         \n",
       "3806 A partir de 13 anos       NA     10443  6.3         660         \n",
       "3807 Livre                   1100     85222  6.6         456         \n",
       "     ator_1              ator_2               ator_3              \n",
       "1    CCH Pounder         Joel David Moore     Wes Studi           \n",
       "2    Johnny Depp         Orlando Bloom        Jack Davenport      \n",
       "3    Tom Hardy           Christian Bale       Joseph Gordon-Levitt\n",
       "4    Daryl Sabara        Samantha Morton      Polly Walker        \n",
       "5    J.K. Simmons        James Franco         Kirsten Dunst       \n",
       "6    Brad Garrett        Donna Murphy         M.C. Gainey         \n",
       "7    Chris Hemsworth     Robert Downey Jr.    Scarlett Johansson  \n",
       "8    Henry Cavill        Lauren Cohan         Alan D. Purwin      \n",
       "9    Kevin Spacey        Marlon Brando        Frank Langella      \n",
       "10   Johnny Depp         Orlando Bloom        Jack Davenport      \n",
       "11   Johnny Depp         Ruth Wilson          Tom Wilkinson       \n",
       "12   Henry Cavill        Christopher Meloni   Harry Lennix        \n",
       "13   Peter Dinklage      Pierfrancesco Favino Damián Alcázar      \n",
       "14   Chris Hemsworth     Robert Downey Jr.    Scarlett Johansson  \n",
       "15   Johnny Depp         Sam Claflin          Stephen Graham      \n",
       "16   Will Smith          Michael Stuhlbarg    Nicole Scherzinger  \n",
       "17   Emma Stone          Andrew Garfield      Chris Zylka         \n",
       "18   Mark Addy           William Hurt         Scott Grimes        \n",
       "19   Aidan Turner        Adam Brown           James Nesbitt       \n",
       "20   Christopher Lee     Eva Green            Kristin Scott Thomas\n",
       "21   Leonardo DiCaprio   Kate Winslet         Gloria Stuart       \n",
       "22   Robert Downey Jr.   Scarlett Johansson   Chris Evans         \n",
       "23   Liam Neeson         Alexander Skarsgård  Tadanobu Asano      \n",
       "24   Bryce Dallas Howard Judy Greer           Omar Sy             \n",
       "25   J.K. Simmons        James Franco         Kirsten Dunst       \n",
       "26   Robert Downey Jr.   Jon Favreau          Don Cheadle         \n",
       "27   Johnny Depp         Alan Rickman         Anne Hathaway       \n",
       "28   Steve Buscemi       Tyler Labine         Sean Hayes          \n",
       "29   Glenn Morshower     Kevin Dunn           Ramon Rodriguez     \n",
       "30   Bingbing Li         Sophia Myles         Kelsey Grammer      \n",
       "...  ...                 ...                  ...                 \n",
       "3778 Zoe Kazan           Mark Rendall         Jordan Scovel       \n",
       "3779 Joseph Campanella   Kirpatrick Thomas    Christian Anderson  \n",
       "3780 Andrew Bujalski     Kate Dollenmayer     Justin Rice         \n",
       "3781 Nichole Ceballos    Ron Gelner           Parker Riggs        \n",
       "3782 Jason Mewes         Brian O'Halloran     Jeff Anderson       \n",
       "3783 Don Brooks          Bobby Kendall        NA                  \n",
       "3784 Andrew Bujalski     Kate Dollenmayer     Justin Rice         \n",
       "3785 Mireille Enos       Martin Donovan       Maurice Compte      \n",
       "3786 Franky G            Panchito Gómez       Casper Martinez     \n",
       "3787 Tommy Pallotta      Richard Linklater    Jean Caffeine       \n",
       "3788 Tjasa Ferme         Mikaal Bates         Damon Owlia         \n",
       "3789 Kristen Seavey      Suzi Lorraine        Travis Legge        \n",
       "3790 Shannen Fields      Lisa Arnold          Janet Lee Dapper    \n",
       "3791 Ashley Tramonte     Brittany Curran      Lindsay MacDonald   \n",
       "3792 Robbie Barnes       Alana Kaniewski      Brandon Landers     \n",
       "3793 Mark Duplass        Katie Aselton        Bari Hyman          \n",
       "3794 Zoe Lister-Jones    Heather Burns        Ebon Moss-Bachrach  \n",
       "3795 Sean Whalen         Jason Trost          Nick Principe       \n",
       "3796 Divine              Mink Stole           Edith Massey        \n",
       "3797 Tatiana Suarez-Pico Michael Cortez       Eric Ambriz         \n",
       "3798 Julianna Pitt       Joe Coffey           John Lucas          \n",
       "3799 Peter Greene        Stanley B. Herman    James Noble         \n",
       "3800 Shane Carruth       David Sullivan       Casey Gooden        \n",
       "3801 Carlos Gallardo     Peter Marquardt      Consuelo Gómez      \n",
       "3802 Richard Jewell      John Considine       Sara Stepnicka      \n",
       "3803 Kerry Bishé         Caitlin FitzGerald   Daniella Pineda     \n",
       "3804 Natalie Zea         Valorie Curry        Sam Underwood       \n",
       "3805 Eva Boehnke         Maxwell Moody        David Chandler      \n",
       "3806 Alan Ruck           Daniel Henney        Eliza Coupe         \n",
       "3807 John August         Brian Herzlinger     Jon Gunn            "
      ]
     },
     "metadata": {},
     "output_type": "display_data"
    }
   ],
   "source": [
    "readxl::read_excel(path = \"imdb.xls\")"
   ]
  },
  {
   "cell_type": "code",
   "execution_count": 155,
   "metadata": {
    "slideshow": {
     "slide_type": ""
    }
   },
   "outputs": [
    {
     "data": {
      "text/html": [
       "<table>\n",
       "<caption>A tibble: 3807 × 15</caption>\n",
       "<thead>\n",
       "\t<tr><th scope=col>titulo</th><th scope=col>ano</th><th scope=col>diretor</th><th scope=col>duracao</th><th scope=col>cor</th><th scope=col>generos</th><th scope=col>pais</th><th scope=col>classificacao</th><th scope=col>orcamento</th><th scope=col>receita</th><th scope=col>nota_imdb</th><th scope=col>likes_facebook</th><th scope=col>ator_1</th><th scope=col>ator_2</th><th scope=col>ator_3</th></tr>\n",
       "\t<tr><th scope=col>&lt;chr&gt;</th><th scope=col>&lt;dbl&gt;</th><th scope=col>&lt;chr&gt;</th><th scope=col>&lt;dbl&gt;</th><th scope=col>&lt;chr&gt;</th><th scope=col>&lt;chr&gt;</th><th scope=col>&lt;chr&gt;</th><th scope=col>&lt;chr&gt;</th><th scope=col>&lt;dbl&gt;</th><th scope=col>&lt;dbl&gt;</th><th scope=col>&lt;dbl&gt;</th><th scope=col>&lt;dbl&gt;</th><th scope=col>&lt;chr&gt;</th><th scope=col>&lt;chr&gt;</th><th scope=col>&lt;chr&gt;</th></tr>\n",
       "</thead>\n",
       "<tbody>\n",
       "\t<tr><td>Avatar                                      </td><td>2009</td><td>James Cameron    </td><td>178</td><td>Color</td><td>Action|Adventure|Fantasy|Sci-Fi                          </td><td>USA</td><td>A partir de 13 anos</td><td>237000000</td><td>760505847</td><td>7.9</td><td> 33000</td><td>CCH Pounder        </td><td>Joel David Moore    </td><td>Wes Studi           </td></tr>\n",
       "\t<tr><td>Pirates of the Caribbean: At World's End    </td><td>2007</td><td>Gore Verbinski   </td><td>169</td><td>Color</td><td>Action|Adventure|Fantasy                                 </td><td>USA</td><td>A partir de 13 anos</td><td>300000000</td><td>309404152</td><td>7.1</td><td>     0</td><td>Johnny Depp        </td><td>Orlando Bloom       </td><td>Jack Davenport      </td></tr>\n",
       "\t<tr><td>The Dark Knight Rises                       </td><td>2012</td><td>Christopher Nolan</td><td>164</td><td>Color</td><td>Action|Thriller                                          </td><td>USA</td><td>A partir de 13 anos</td><td>250000000</td><td>448130642</td><td>8.5</td><td>164000</td><td>Tom Hardy          </td><td>Christian Bale      </td><td>Joseph Gordon-Levitt</td></tr>\n",
       "\t<tr><td>John Carter                                 </td><td>2012</td><td>Andrew Stanton   </td><td>132</td><td>Color</td><td>Action|Adventure|Sci-Fi                                  </td><td>USA</td><td>A partir de 13 anos</td><td>263700000</td><td> 73058679</td><td>6.6</td><td> 24000</td><td>Daryl Sabara       </td><td>Samantha Morton     </td><td>Polly Walker        </td></tr>\n",
       "\t<tr><td>Spider-Man 3                                </td><td>2007</td><td>Sam Raimi        </td><td>156</td><td>Color</td><td>Action|Adventure|Romance                                 </td><td>USA</td><td>A partir de 13 anos</td><td>258000000</td><td>336530303</td><td>6.2</td><td>     0</td><td>J.K. Simmons       </td><td>James Franco        </td><td>Kirsten Dunst       </td></tr>\n",
       "\t<tr><td>Tangled                                     </td><td>2010</td><td>Nathan Greno     </td><td>100</td><td>Color</td><td>Adventure|Animation|Comedy|Family|Fantasy|Musical|Romance</td><td>USA</td><td>Livre              </td><td>260000000</td><td>200807262</td><td>7.8</td><td> 29000</td><td>Brad Garrett       </td><td>Donna Murphy        </td><td>M.C. Gainey         </td></tr>\n",
       "\t<tr><td>Avengers: Age of Ultron                     </td><td>2015</td><td>Joss Whedon      </td><td>141</td><td>Color</td><td>Action|Adventure|Sci-Fi                                  </td><td>USA</td><td>A partir de 13 anos</td><td>250000000</td><td>458991599</td><td>7.5</td><td>118000</td><td>Chris Hemsworth    </td><td>Robert Downey Jr.   </td><td>Scarlett Johansson  </td></tr>\n",
       "\t<tr><td>Batman v Superman: Dawn of Justice          </td><td>2016</td><td>Zack Snyder      </td><td>183</td><td>Color</td><td>Action|Adventure|Sci-Fi                                  </td><td>USA</td><td>A partir de 13 anos</td><td>250000000</td><td>330249062</td><td>6.9</td><td>197000</td><td>Henry Cavill       </td><td>Lauren Cohan        </td><td>Alan D. Purwin      </td></tr>\n",
       "\t<tr><td>Superman Returns                            </td><td>2006</td><td>Bryan Singer     </td><td>169</td><td>Color</td><td>Action|Adventure|Sci-Fi                                  </td><td>USA</td><td>A partir de 13 anos</td><td>209000000</td><td>200069408</td><td>6.1</td><td>     0</td><td>Kevin Spacey       </td><td>Marlon Brando       </td><td>Frank Langella      </td></tr>\n",
       "\t<tr><td>Pirates of the Caribbean: Dead Man's Chest  </td><td>2006</td><td>Gore Verbinski   </td><td>151</td><td>Color</td><td>Action|Adventure|Fantasy                                 </td><td>USA</td><td>A partir de 13 anos</td><td>225000000</td><td>423032628</td><td>7.3</td><td>  5000</td><td>Johnny Depp        </td><td>Orlando Bloom       </td><td>Jack Davenport      </td></tr>\n",
       "\t<tr><td>The Lone Ranger                             </td><td>2013</td><td>Gore Verbinski   </td><td>150</td><td>Color</td><td>Action|Adventure|Western                                 </td><td>USA</td><td>A partir de 13 anos</td><td>215000000</td><td> 89289910</td><td>6.5</td><td> 48000</td><td>Johnny Depp        </td><td>Ruth Wilson         </td><td>Tom Wilkinson       </td></tr>\n",
       "\t<tr><td>Man of Steel                                </td><td>2013</td><td>Zack Snyder      </td><td>143</td><td>Color</td><td>Action|Adventure|Fantasy|Sci-Fi                          </td><td>USA</td><td>A partir de 13 anos</td><td>225000000</td><td>291021565</td><td>7.2</td><td>118000</td><td>Henry Cavill       </td><td>Christopher Meloni  </td><td>Harry Lennix        </td></tr>\n",
       "\t<tr><td>The Chronicles of Narnia: Prince Caspian    </td><td>2008</td><td>Andrew Adamson   </td><td>150</td><td>Color</td><td>Action|Adventure|Family|Fantasy                          </td><td>USA</td><td>Livre              </td><td>225000000</td><td>141614023</td><td>6.6</td><td>     0</td><td>Peter Dinklage     </td><td>Pierfrancesco Favino</td><td>Damián Alcázar      </td></tr>\n",
       "\t<tr><td>The Avengers                                </td><td>2012</td><td>Joss Whedon      </td><td>173</td><td>Color</td><td>Action|Adventure|Sci-Fi                                  </td><td>USA</td><td>A partir de 13 anos</td><td>220000000</td><td>623279547</td><td>8.1</td><td>123000</td><td>Chris Hemsworth    </td><td>Robert Downey Jr.   </td><td>Scarlett Johansson  </td></tr>\n",
       "\t<tr><td>Pirates of the Caribbean: On Stranger Tides </td><td>2011</td><td>Rob Marshall     </td><td>136</td><td>Color</td><td>Action|Adventure|Fantasy                                 </td><td>USA</td><td>A partir de 13 anos</td><td>250000000</td><td>241063875</td><td>6.7</td><td> 58000</td><td>Johnny Depp        </td><td>Sam Claflin         </td><td>Stephen Graham      </td></tr>\n",
       "\t<tr><td>Men in Black 3                              </td><td>2012</td><td>Barry Sonnenfeld </td><td>106</td><td>Color</td><td>Action|Adventure|Comedy|Family|Fantasy|Sci-Fi            </td><td>USA</td><td>A partir de 13 anos</td><td>225000000</td><td>179020854</td><td>6.8</td><td> 40000</td><td>Will Smith         </td><td>Michael Stuhlbarg   </td><td>Nicole Scherzinger  </td></tr>\n",
       "\t<tr><td>The Amazing Spider-Man                      </td><td>2012</td><td>Marc Webb        </td><td>153</td><td>Color</td><td>Action|Adventure|Fantasy                                 </td><td>USA</td><td>A partir de 13 anos</td><td>230000000</td><td>262030663</td><td>7.0</td><td> 56000</td><td>Emma Stone         </td><td>Andrew Garfield     </td><td>Chris Zylka         </td></tr>\n",
       "\t<tr><td>Robin Hood                                  </td><td>2010</td><td>Ridley Scott     </td><td>156</td><td>Color</td><td>Action|Adventure|Drama|History                           </td><td>USA</td><td>A partir de 13 anos</td><td>200000000</td><td>105219735</td><td>6.7</td><td> 17000</td><td>Mark Addy          </td><td>William Hurt        </td><td>Scott Grimes        </td></tr>\n",
       "\t<tr><td>The Hobbit: The Desolation of Smaug         </td><td>2013</td><td>Peter Jackson    </td><td>186</td><td>Color</td><td>Adventure|Fantasy                                        </td><td>USA</td><td>A partir de 13 anos</td><td>225000000</td><td>258355354</td><td>7.9</td><td> 83000</td><td>Aidan Turner       </td><td>Adam Brown          </td><td>James Nesbitt       </td></tr>\n",
       "\t<tr><td>The Golden Compass                          </td><td>2007</td><td>Chris Weitz      </td><td>113</td><td>Color</td><td>Adventure|Family|Fantasy                                 </td><td>USA</td><td>A partir de 13 anos</td><td>180000000</td><td> 70083519</td><td>6.1</td><td>     0</td><td>Christopher Lee    </td><td>Eva Green           </td><td>Kristin Scott Thomas</td></tr>\n",
       "\t<tr><td>Titanic                                     </td><td>1997</td><td>James Cameron    </td><td>194</td><td>Color</td><td>Drama|Romance                                            </td><td>USA</td><td>A partir de 13 anos</td><td>200000000</td><td>658672302</td><td>7.7</td><td> 26000</td><td>Leonardo DiCaprio  </td><td>Kate Winslet        </td><td>Gloria Stuart       </td></tr>\n",
       "\t<tr><td>Captain America: Civil War                  </td><td>2016</td><td>Anthony Russo    </td><td>147</td><td>Color</td><td>Action|Adventure|Sci-Fi                                  </td><td>USA</td><td>A partir de 13 anos</td><td>250000000</td><td>407197282</td><td>8.2</td><td> 72000</td><td>Robert Downey Jr.  </td><td>Scarlett Johansson  </td><td>Chris Evans         </td></tr>\n",
       "\t<tr><td>Battleship                                  </td><td>2012</td><td>Peter Berg       </td><td>131</td><td>Color</td><td>Action|Adventure|Sci-Fi|Thriller                         </td><td>USA</td><td>A partir de 13 anos</td><td>209000000</td><td> 65173160</td><td>5.9</td><td> 44000</td><td>Liam Neeson        </td><td>Alexander Skarsgård </td><td>Tadanobu Asano      </td></tr>\n",
       "\t<tr><td>Jurassic World                              </td><td>2015</td><td>Colin Trevorrow  </td><td>124</td><td>Color</td><td>Action|Adventure|Sci-Fi|Thriller                         </td><td>USA</td><td>A partir de 13 anos</td><td>150000000</td><td>652177271</td><td>7.0</td><td>150000</td><td>Bryce Dallas Howard</td><td>Judy Greer          </td><td>Omar Sy             </td></tr>\n",
       "\t<tr><td>Spider-Man 2                                </td><td>2004</td><td>Sam Raimi        </td><td>135</td><td>Color</td><td>Action|Adventure|Fantasy|Romance                         </td><td>USA</td><td>A partir de 13 anos</td><td>200000000</td><td>373377893</td><td>7.3</td><td>     0</td><td>J.K. Simmons       </td><td>James Franco        </td><td>Kirsten Dunst       </td></tr>\n",
       "\t<tr><td>Iron Man 3                                  </td><td>2013</td><td>Shane Black      </td><td>195</td><td>Color</td><td>Action|Adventure|Sci-Fi                                  </td><td>USA</td><td>A partir de 13 anos</td><td>200000000</td><td>408992272</td><td>7.2</td><td> 95000</td><td>Robert Downey Jr.  </td><td>Jon Favreau         </td><td>Don Cheadle         </td></tr>\n",
       "\t<tr><td>Alice in Wonderland                         </td><td>2010</td><td>Tim Burton       </td><td>108</td><td>Color</td><td>Adventure|Family|Fantasy                                 </td><td>USA</td><td>Livre              </td><td>200000000</td><td>334185206</td><td>6.5</td><td> 24000</td><td>Johnny Depp        </td><td>Alan Rickman        </td><td>Anne Hathaway       </td></tr>\n",
       "\t<tr><td>Monsters University                         </td><td>2013</td><td>Dan Scanlon      </td><td>104</td><td>Color</td><td>Adventure|Animation|Comedy|Family|Fantasy                </td><td>USA</td><td>Outros             </td><td>200000000</td><td>268488329</td><td>7.3</td><td> 44000</td><td>Steve Buscemi      </td><td>Tyler Labine        </td><td>Sean Hayes          </td></tr>\n",
       "\t<tr><td>Transformers: Revenge of the Fallen         </td><td>2009</td><td>Michael Bay      </td><td>150</td><td>Color</td><td>Action|Adventure|Sci-Fi                                  </td><td>USA</td><td>A partir de 13 anos</td><td>200000000</td><td>402076689</td><td>6.0</td><td>     0</td><td>Glenn Morshower    </td><td>Kevin Dunn          </td><td>Ramon Rodriguez     </td></tr>\n",
       "\t<tr><td>Transformers: Age of Extinction             </td><td>2014</td><td>Michael Bay      </td><td>165</td><td>Color</td><td>Action|Adventure|Sci-Fi                                  </td><td>USA</td><td>A partir de 13 anos</td><td>210000000</td><td>245428137</td><td>5.7</td><td> 56000</td><td>Bingbing Li        </td><td>Sophia Myles        </td><td>Kelsey Grammer      </td></tr>\n",
       "\t<tr><td>...</td><td>...</td><td>...</td><td>...</td><td>...</td><td>...</td><td>...</td><td>...</td><td>...</td><td>...</td><td>...</td><td>...</td><td>...</td><td>...</td><td>...</td></tr>\n",
       "\t<tr><td>The Exploding Girl                </td><td>2009</td><td>Bradley Rust Gray </td><td> 79</td><td>Color          </td><td>Drama                              </td><td>USA</td><td>Outros             </td><td>      NA</td><td>   24705</td><td>6.3</td><td>  377</td><td>Zoe Kazan          </td><td>Mark Rendall      </td><td>Jordan Scovel     </td></tr>\n",
       "\t<tr><td>The Legend of God's Gun           </td><td>2007</td><td>Mike Bruce        </td><td> 78</td><td>Color          </td><td>Western                            </td><td>USA</td><td>A partir de 18 anos</td><td>   30000</td><td>  243768</td><td>4.1</td><td>   13</td><td>Joseph Campanella  </td><td>Kirpatrick Thomas </td><td>Christian Anderson</td></tr>\n",
       "\t<tr><td>Mutual Appreciation               </td><td>2005</td><td>Andrew Bujalski   </td><td>109</td><td>Black and White</td><td>Comedy                             </td><td>USA</td><td>A partir de 18 anos</td><td>      NA</td><td>      NA</td><td>6.9</td><td>   91</td><td>Andrew Bujalski    </td><td>Kate Dollenmayer  </td><td>Justin Rice       </td></tr>\n",
       "\t<tr><td>Her Cry: La Llorona Investigation </td><td>2013</td><td>Damir Catic       </td><td> 89</td><td>Color          </td><td>Horror                             </td><td>USA</td><td>Outros             </td><td>   60000</td><td>      NA</td><td>5.4</td><td>   48</td><td>Nichole Ceballos   </td><td>Ron Gelner        </td><td>Parker Riggs      </td></tr>\n",
       "\t<tr><td>Clerks                            </td><td>1994</td><td>Kevin Smith       </td><td>102</td><td>Black and White</td><td>Comedy                             </td><td>USA</td><td>A partir de 18 anos</td><td>  230000</td><td> 3151130</td><td>7.8</td><td>    0</td><td>Jason Mewes        </td><td>Brian O'Halloran  </td><td>Jeff Anderson     </td></tr>\n",
       "\t<tr><td>Pink Narcissus                    </td><td>1971</td><td>James Bidgood     </td><td> 65</td><td>Color          </td><td>Drama|Fantasy                      </td><td>USA</td><td>Outros             </td><td>   27000</td><td>    8231</td><td>6.7</td><td>   85</td><td>Don Brooks         </td><td>Bobby Kendall     </td><td>NA                </td></tr>\n",
       "\t<tr><td>Funny Ha Ha                       </td><td>2002</td><td>Andrew Bujalski   </td><td> 85</td><td>Color          </td><td>Comedy|Drama                       </td><td>USA</td><td>Outros             </td><td>      NA</td><td>      NA</td><td>6.4</td><td>  108</td><td>Andrew Bujalski    </td><td>Kate Dollenmayer  </td><td>Justin Rice       </td></tr>\n",
       "\t<tr><td>Sabotage                          </td><td>2014</td><td>David Ayer        </td><td>109</td><td>Color          </td><td>Action|Crime|Drama|Thriller        </td><td>USA</td><td>A partir de 18 anos</td><td>35000000</td><td>10499968</td><td>5.7</td><td>10000</td><td>Mireille Enos      </td><td>Martin Donovan    </td><td>Maurice Compte    </td></tr>\n",
       "\t<tr><td>Manito                            </td><td>2002</td><td>Eric Eason        </td><td> 79</td><td>Color          </td><td>Drama|Family                       </td><td>USA</td><td>Outros             </td><td>   24000</td><td>      NA</td><td>7.0</td><td>   61</td><td>Franky G           </td><td>Panchito Gómez    </td><td>Casper Martinez   </td></tr>\n",
       "\t<tr><td>Slacker                           </td><td>1991</td><td>Richard Linklater </td><td>100</td><td>Black and White</td><td>Comedy|Drama                       </td><td>USA</td><td>A partir de 18 anos</td><td>   23000</td><td> 1227508</td><td>7.1</td><td> 2000</td><td>Tommy Pallotta     </td><td>Richard Linklater </td><td>Jean Caffeine     </td></tr>\n",
       "\t<tr><td>Dutch Kills                       </td><td>2015</td><td>Joseph Mazzella   </td><td> 90</td><td>Color          </td><td>Crime|Drama|Thriller               </td><td>USA</td><td>Outros             </td><td>   25000</td><td>      NA</td><td>4.8</td><td>   33</td><td>Tjasa Ferme        </td><td>Mikaal Bates      </td><td>Damon Owlia       </td></tr>\n",
       "\t<tr><td>Dry Spell                         </td><td>2013</td><td>Travis Legge      </td><td> 90</td><td>Color          </td><td>Comedy|Romance                     </td><td>USA</td><td>Outros             </td><td>   22000</td><td>      NA</td><td>3.3</td><td>  200</td><td>Kristen Seavey     </td><td>Suzi Lorraine     </td><td>Travis Legge      </td></tr>\n",
       "\t<tr><td>Flywheel                          </td><td>2003</td><td>Alex Kendrick     </td><td>120</td><td>Color          </td><td>Drama                              </td><td>USA</td><td>Outros             </td><td>   20000</td><td>      NA</td><td>6.9</td><td>  725</td><td>Shannen Fields     </td><td>Lisa Arnold       </td><td>Janet Lee Dapper  </td></tr>\n",
       "\t<tr><td>Exeter                            </td><td>2015</td><td>Marcus Nispel     </td><td> 91</td><td>Color          </td><td>Horror|Mystery|Thriller            </td><td>USA</td><td>A partir de 18 anos</td><td>      NA</td><td>      NA</td><td>4.6</td><td>    0</td><td>Ashley Tramonte    </td><td>Brittany Curran   </td><td>Lindsay MacDonald </td></tr>\n",
       "\t<tr><td>The Ridges                        </td><td>2011</td><td>Brandon Landers   </td><td>143</td><td>NA             </td><td>Drama|Horror|Thriller              </td><td>USA</td><td>Outros             </td><td>   17350</td><td>      NA</td><td>3.0</td><td>   33</td><td>Robbie Barnes      </td><td>Alana Kaniewski   </td><td>Brandon Landers   </td></tr>\n",
       "\t<tr><td>The Puffy Chair                   </td><td>2005</td><td>Jay Duplass       </td><td> 85</td><td>Color          </td><td>Comedy|Drama|Romance               </td><td>USA</td><td>A partir de 18 anos</td><td>   15000</td><td>  192467</td><td>6.6</td><td>  297</td><td>Mark Duplass       </td><td>Katie Aselton     </td><td>Bari Hyman        </td></tr>\n",
       "\t<tr><td>Breaking Upwards                  </td><td>2009</td><td>Daryl Wein        </td><td> 88</td><td>Color          </td><td>Romance                            </td><td>USA</td><td>Outros             </td><td>   15000</td><td>   76382</td><td>6.2</td><td>  324</td><td>Zoe Lister-Jones   </td><td>Heather Burns     </td><td>Ebon Moss-Bachrach</td></tr>\n",
       "\t<tr><td>All Superheroes Must Die          </td><td>2011</td><td>Jason Trost       </td><td> 78</td><td>Color          </td><td>Sci-Fi|Thriller                    </td><td>USA</td><td>Outros             </td><td>   20000</td><td>      NA</td><td>4.0</td><td>  835</td><td>Sean Whalen        </td><td>Jason Trost       </td><td>Nick Principe     </td></tr>\n",
       "\t<tr><td>Pink Flamingos                    </td><td>1972</td><td>John Waters       </td><td>108</td><td>Color          </td><td>Comedy|Crime|Horror                </td><td>USA</td><td>A partir de 18 anos</td><td>   10000</td><td>  180483</td><td>6.1</td><td>    0</td><td>Divine             </td><td>Mink Stole        </td><td>Edith Massey      </td></tr>\n",
       "\t<tr><td>On the Downlow                    </td><td>2004</td><td>Tadeo Garcia      </td><td> 84</td><td>Color          </td><td>Drama                              </td><td>USA</td><td>Outros             </td><td>      NA</td><td>      NA</td><td>6.1</td><td>   22</td><td>Tatiana Suarez-Pico</td><td>Michael Cortez    </td><td>Eric Ambriz       </td></tr>\n",
       "\t<tr><td>Sanctuary; Quite a Conundrum      </td><td>2012</td><td>Thomas L. Phillips</td><td> 82</td><td>Color          </td><td>Comedy|Horror|Thriller             </td><td>USA</td><td>Outros             </td><td>  200000</td><td>      NA</td><td>5.4</td><td>  424</td><td>Julianna Pitt      </td><td>Joe Coffey        </td><td>John Lucas        </td></tr>\n",
       "\t<tr><td>Bang                              </td><td>1995</td><td>Ash Baron-Cohen   </td><td> 98</td><td>Color          </td><td>Crime|Drama                        </td><td>USA</td><td>Outros             </td><td>      NA</td><td>      NA</td><td>6.4</td><td>   20</td><td>Peter Greene       </td><td>Stanley B. Herman </td><td>James Noble       </td></tr>\n",
       "\t<tr><td>Primer                            </td><td>2004</td><td>Shane Carruth     </td><td> 77</td><td>Color          </td><td>Drama|Sci-Fi|Thriller              </td><td>USA</td><td>A partir de 13 anos</td><td>    7000</td><td>  424760</td><td>7.0</td><td>19000</td><td>Shane Carruth      </td><td>David Sullivan    </td><td>Casey Gooden      </td></tr>\n",
       "\t<tr><td>El Mariachi                       </td><td>1992</td><td>Robert Rodriguez  </td><td> 81</td><td>Color          </td><td>Action|Crime|Drama|Romance|Thriller</td><td>USA</td><td>A partir de 18 anos</td><td>    7000</td><td> 2040920</td><td>6.9</td><td>    0</td><td>Carlos Gallardo    </td><td>Peter Marquardt   </td><td>Consuelo Gómez    </td></tr>\n",
       "\t<tr><td>The Mongol King                   </td><td>2005</td><td>Anthony Vallone   </td><td> 84</td><td>Color          </td><td>Crime|Drama                        </td><td>USA</td><td>A partir de 13 anos</td><td>    3250</td><td>      NA</td><td>7.8</td><td>    4</td><td>Richard Jewell     </td><td>John Considine    </td><td>Sara Stepnicka    </td></tr>\n",
       "\t<tr><td>Newlyweds                         </td><td>2011</td><td>Edward Burns      </td><td> 95</td><td>Color          </td><td>Comedy|Drama                       </td><td>USA</td><td>Outros             </td><td>    9000</td><td>    4584</td><td>6.4</td><td>  413</td><td>Kerry Bishé        </td><td>Caitlin FitzGerald</td><td>Daniella Pineda   </td></tr>\n",
       "\t<tr><td>The Following                     </td><td>  NA</td><td>NA                </td><td> 43</td><td>Color          </td><td>Crime|Drama|Mystery|Thriller       </td><td>USA</td><td>Outros             </td><td>      NA</td><td>      NA</td><td>7.5</td><td>32000</td><td>Natalie Zea        </td><td>Valorie Curry     </td><td>Sam Underwood     </td></tr>\n",
       "\t<tr><td>A Plague So Pleasant              </td><td>2013</td><td>Benjamin Roberds  </td><td> 76</td><td>Color          </td><td>Drama|Horror|Thriller              </td><td>USA</td><td>Outros             </td><td>    1400</td><td>      NA</td><td>6.3</td><td>   16</td><td>Eva Boehnke        </td><td>Maxwell Moody     </td><td>David Chandler    </td></tr>\n",
       "\t<tr><td>Shanghai Calling                  </td><td>2012</td><td>Daniel Hsia       </td><td>100</td><td>Color          </td><td>Comedy|Drama|Romance               </td><td>USA</td><td>A partir de 13 anos</td><td>      NA</td><td>   10443</td><td>6.3</td><td>  660</td><td>Alan Ruck          </td><td>Daniel Henney     </td><td>Eliza Coupe       </td></tr>\n",
       "\t<tr><td>My Date with Drew                 </td><td>2004</td><td>Jon Gunn          </td><td> 90</td><td>Color          </td><td>Documentary                        </td><td>USA</td><td>Livre              </td><td>    1100</td><td>   85222</td><td>6.6</td><td>  456</td><td>John August        </td><td>Brian Herzlinger  </td><td>Jon Gunn          </td></tr>\n",
       "</tbody>\n",
       "</table>\n"
      ],
      "text/latex": [
       "A tibble: 3807 × 15\n",
       "\\begin{tabular}{lllllllllllllll}\n",
       " titulo & ano & diretor & duracao & cor & generos & pais & classificacao & orcamento & receita & nota\\_imdb & likes\\_facebook & ator\\_1 & ator\\_2 & ator\\_3\\\\\n",
       " <chr> & <dbl> & <chr> & <dbl> & <chr> & <chr> & <chr> & <chr> & <dbl> & <dbl> & <dbl> & <dbl> & <chr> & <chr> & <chr>\\\\\n",
       "\\hline\n",
       "\t Avatar                                       & 2009 & James Cameron     & 178 & Color & Action\\textbar{}Adventure\\textbar{}Fantasy\\textbar{}Sci-Fi                           & USA & A partir de 13 anos & 237000000 & 760505847 & 7.9 &  33000 & CCH Pounder         & Joel David Moore     & Wes Studi           \\\\\n",
       "\t Pirates of the Caribbean: At World's End     & 2007 & Gore Verbinski    & 169 & Color & Action\\textbar{}Adventure\\textbar{}Fantasy                                  & USA & A partir de 13 anos & 300000000 & 309404152 & 7.1 &      0 & Johnny Depp         & Orlando Bloom        & Jack Davenport      \\\\\n",
       "\t The Dark Knight Rises                        & 2012 & Christopher Nolan & 164 & Color & Action\\textbar{}Thriller                                           & USA & A partir de 13 anos & 250000000 & 448130642 & 8.5 & 164000 & Tom Hardy           & Christian Bale       & Joseph Gordon-Levitt\\\\\n",
       "\t John Carter                                  & 2012 & Andrew Stanton    & 132 & Color & Action\\textbar{}Adventure\\textbar{}Sci-Fi                                   & USA & A partir de 13 anos & 263700000 &  73058679 & 6.6 &  24000 & Daryl Sabara        & Samantha Morton      & Polly Walker        \\\\\n",
       "\t Spider-Man 3                                 & 2007 & Sam Raimi         & 156 & Color & Action\\textbar{}Adventure\\textbar{}Romance                                  & USA & A partir de 13 anos & 258000000 & 336530303 & 6.2 &      0 & J.K. Simmons        & James Franco         & Kirsten Dunst       \\\\\n",
       "\t Tangled                                      & 2010 & Nathan Greno      & 100 & Color & Adventure\\textbar{}Animation\\textbar{}Comedy\\textbar{}Family\\textbar{}Fantasy\\textbar{}Musical\\textbar{}Romance & USA & Livre               & 260000000 & 200807262 & 7.8 &  29000 & Brad Garrett        & Donna Murphy         & M.C. Gainey         \\\\\n",
       "\t Avengers: Age of Ultron                      & 2015 & Joss Whedon       & 141 & Color & Action\\textbar{}Adventure\\textbar{}Sci-Fi                                   & USA & A partir de 13 anos & 250000000 & 458991599 & 7.5 & 118000 & Chris Hemsworth     & Robert Downey Jr.    & Scarlett Johansson  \\\\\n",
       "\t Batman v Superman: Dawn of Justice           & 2016 & Zack Snyder       & 183 & Color & Action\\textbar{}Adventure\\textbar{}Sci-Fi                                   & USA & A partir de 13 anos & 250000000 & 330249062 & 6.9 & 197000 & Henry Cavill        & Lauren Cohan         & Alan D. Purwin      \\\\\n",
       "\t Superman Returns                             & 2006 & Bryan Singer      & 169 & Color & Action\\textbar{}Adventure\\textbar{}Sci-Fi                                   & USA & A partir de 13 anos & 209000000 & 200069408 & 6.1 &      0 & Kevin Spacey        & Marlon Brando        & Frank Langella      \\\\\n",
       "\t Pirates of the Caribbean: Dead Man's Chest   & 2006 & Gore Verbinski    & 151 & Color & Action\\textbar{}Adventure\\textbar{}Fantasy                                  & USA & A partir de 13 anos & 225000000 & 423032628 & 7.3 &   5000 & Johnny Depp         & Orlando Bloom        & Jack Davenport      \\\\\n",
       "\t The Lone Ranger                              & 2013 & Gore Verbinski    & 150 & Color & Action\\textbar{}Adventure\\textbar{}Western                                  & USA & A partir de 13 anos & 215000000 &  89289910 & 6.5 &  48000 & Johnny Depp         & Ruth Wilson          & Tom Wilkinson       \\\\\n",
       "\t Man of Steel                                 & 2013 & Zack Snyder       & 143 & Color & Action\\textbar{}Adventure\\textbar{}Fantasy\\textbar{}Sci-Fi                           & USA & A partir de 13 anos & 225000000 & 291021565 & 7.2 & 118000 & Henry Cavill        & Christopher Meloni   & Harry Lennix        \\\\\n",
       "\t The Chronicles of Narnia: Prince Caspian     & 2008 & Andrew Adamson    & 150 & Color & Action\\textbar{}Adventure\\textbar{}Family\\textbar{}Fantasy                           & USA & Livre               & 225000000 & 141614023 & 6.6 &      0 & Peter Dinklage      & Pierfrancesco Favino & Damián Alcázar      \\\\\n",
       "\t The Avengers                                 & 2012 & Joss Whedon       & 173 & Color & Action\\textbar{}Adventure\\textbar{}Sci-Fi                                   & USA & A partir de 13 anos & 220000000 & 623279547 & 8.1 & 123000 & Chris Hemsworth     & Robert Downey Jr.    & Scarlett Johansson  \\\\\n",
       "\t Pirates of the Caribbean: On Stranger Tides  & 2011 & Rob Marshall      & 136 & Color & Action\\textbar{}Adventure\\textbar{}Fantasy                                  & USA & A partir de 13 anos & 250000000 & 241063875 & 6.7 &  58000 & Johnny Depp         & Sam Claflin          & Stephen Graham      \\\\\n",
       "\t Men in Black 3                               & 2012 & Barry Sonnenfeld  & 106 & Color & Action\\textbar{}Adventure\\textbar{}Comedy\\textbar{}Family\\textbar{}Fantasy\\textbar{}Sci-Fi             & USA & A partir de 13 anos & 225000000 & 179020854 & 6.8 &  40000 & Will Smith          & Michael Stuhlbarg    & Nicole Scherzinger  \\\\\n",
       "\t The Amazing Spider-Man                       & 2012 & Marc Webb         & 153 & Color & Action\\textbar{}Adventure\\textbar{}Fantasy                                  & USA & A partir de 13 anos & 230000000 & 262030663 & 7.0 &  56000 & Emma Stone          & Andrew Garfield      & Chris Zylka         \\\\\n",
       "\t Robin Hood                                   & 2010 & Ridley Scott      & 156 & Color & Action\\textbar{}Adventure\\textbar{}Drama\\textbar{}History                            & USA & A partir de 13 anos & 200000000 & 105219735 & 6.7 &  17000 & Mark Addy           & William Hurt         & Scott Grimes        \\\\\n",
       "\t The Hobbit: The Desolation of Smaug          & 2013 & Peter Jackson     & 186 & Color & Adventure\\textbar{}Fantasy                                         & USA & A partir de 13 anos & 225000000 & 258355354 & 7.9 &  83000 & Aidan Turner        & Adam Brown           & James Nesbitt       \\\\\n",
       "\t The Golden Compass                           & 2007 & Chris Weitz       & 113 & Color & Adventure\\textbar{}Family\\textbar{}Fantasy                                  & USA & A partir de 13 anos & 180000000 &  70083519 & 6.1 &      0 & Christopher Lee     & Eva Green            & Kristin Scott Thomas\\\\\n",
       "\t Titanic                                      & 1997 & James Cameron     & 194 & Color & Drama\\textbar{}Romance                                             & USA & A partir de 13 anos & 200000000 & 658672302 & 7.7 &  26000 & Leonardo DiCaprio   & Kate Winslet         & Gloria Stuart       \\\\\n",
       "\t Captain America: Civil War                   & 2016 & Anthony Russo     & 147 & Color & Action\\textbar{}Adventure\\textbar{}Sci-Fi                                   & USA & A partir de 13 anos & 250000000 & 407197282 & 8.2 &  72000 & Robert Downey Jr.   & Scarlett Johansson   & Chris Evans         \\\\\n",
       "\t Battleship                                   & 2012 & Peter Berg        & 131 & Color & Action\\textbar{}Adventure\\textbar{}Sci-Fi\\textbar{}Thriller                          & USA & A partir de 13 anos & 209000000 &  65173160 & 5.9 &  44000 & Liam Neeson         & Alexander Skarsgård  & Tadanobu Asano      \\\\\n",
       "\t Jurassic World                               & 2015 & Colin Trevorrow   & 124 & Color & Action\\textbar{}Adventure\\textbar{}Sci-Fi\\textbar{}Thriller                          & USA & A partir de 13 anos & 150000000 & 652177271 & 7.0 & 150000 & Bryce Dallas Howard & Judy Greer           & Omar Sy             \\\\\n",
       "\t Spider-Man 2                                 & 2004 & Sam Raimi         & 135 & Color & Action\\textbar{}Adventure\\textbar{}Fantasy\\textbar{}Romance                          & USA & A partir de 13 anos & 200000000 & 373377893 & 7.3 &      0 & J.K. Simmons        & James Franco         & Kirsten Dunst       \\\\\n",
       "\t Iron Man 3                                   & 2013 & Shane Black       & 195 & Color & Action\\textbar{}Adventure\\textbar{}Sci-Fi                                   & USA & A partir de 13 anos & 200000000 & 408992272 & 7.2 &  95000 & Robert Downey Jr.   & Jon Favreau          & Don Cheadle         \\\\\n",
       "\t Alice in Wonderland                          & 2010 & Tim Burton        & 108 & Color & Adventure\\textbar{}Family\\textbar{}Fantasy                                  & USA & Livre               & 200000000 & 334185206 & 6.5 &  24000 & Johnny Depp         & Alan Rickman         & Anne Hathaway       \\\\\n",
       "\t Monsters University                          & 2013 & Dan Scanlon       & 104 & Color & Adventure\\textbar{}Animation\\textbar{}Comedy\\textbar{}Family\\textbar{}Fantasy                 & USA & Outros              & 200000000 & 268488329 & 7.3 &  44000 & Steve Buscemi       & Tyler Labine         & Sean Hayes          \\\\\n",
       "\t Transformers: Revenge of the Fallen          & 2009 & Michael Bay       & 150 & Color & Action\\textbar{}Adventure\\textbar{}Sci-Fi                                   & USA & A partir de 13 anos & 200000000 & 402076689 & 6.0 &      0 & Glenn Morshower     & Kevin Dunn           & Ramon Rodriguez     \\\\\n",
       "\t Transformers: Age of Extinction              & 2014 & Michael Bay       & 165 & Color & Action\\textbar{}Adventure\\textbar{}Sci-Fi                                   & USA & A partir de 13 anos & 210000000 & 245428137 & 5.7 &  56000 & Bingbing Li         & Sophia Myles         & Kelsey Grammer      \\\\\n",
       "\t ... & ... & ... & ... & ... & ... & ... & ... & ... & ... & ... & ... & ... & ... & ...\\\\\n",
       "\t The Exploding Girl                 & 2009 & Bradley Rust Gray  &  79 & Color           & Drama                               & USA & Outros              &       NA &    24705 & 6.3 &   377 & Zoe Kazan           & Mark Rendall       & Jordan Scovel     \\\\\n",
       "\t The Legend of God's Gun            & 2007 & Mike Bruce         &  78 & Color           & Western                             & USA & A partir de 18 anos &    30000 &   243768 & 4.1 &    13 & Joseph Campanella   & Kirpatrick Thomas  & Christian Anderson\\\\\n",
       "\t Mutual Appreciation                & 2005 & Andrew Bujalski    & 109 & Black and White & Comedy                              & USA & A partir de 18 anos &       NA &       NA & 6.9 &    91 & Andrew Bujalski     & Kate Dollenmayer   & Justin Rice       \\\\\n",
       "\t Her Cry: La Llorona Investigation  & 2013 & Damir Catic        &  89 & Color           & Horror                              & USA & Outros              &    60000 &       NA & 5.4 &    48 & Nichole Ceballos    & Ron Gelner         & Parker Riggs      \\\\\n",
       "\t Clerks                             & 1994 & Kevin Smith        & 102 & Black and White & Comedy                              & USA & A partir de 18 anos &   230000 &  3151130 & 7.8 &     0 & Jason Mewes         & Brian O'Halloran   & Jeff Anderson     \\\\\n",
       "\t Pink Narcissus                     & 1971 & James Bidgood      &  65 & Color           & Drama\\textbar{}Fantasy                       & USA & Outros              &    27000 &     8231 & 6.7 &    85 & Don Brooks          & Bobby Kendall      & NA                \\\\\n",
       "\t Funny Ha Ha                        & 2002 & Andrew Bujalski    &  85 & Color           & Comedy\\textbar{}Drama                        & USA & Outros              &       NA &       NA & 6.4 &   108 & Andrew Bujalski     & Kate Dollenmayer   & Justin Rice       \\\\\n",
       "\t Sabotage                           & 2014 & David Ayer         & 109 & Color           & Action\\textbar{}Crime\\textbar{}Drama\\textbar{}Thriller         & USA & A partir de 18 anos & 35000000 & 10499968 & 5.7 & 10000 & Mireille Enos       & Martin Donovan     & Maurice Compte    \\\\\n",
       "\t Manito                             & 2002 & Eric Eason         &  79 & Color           & Drama\\textbar{}Family                        & USA & Outros              &    24000 &       NA & 7.0 &    61 & Franky G            & Panchito Gómez     & Casper Martinez   \\\\\n",
       "\t Slacker                            & 1991 & Richard Linklater  & 100 & Black and White & Comedy\\textbar{}Drama                        & USA & A partir de 18 anos &    23000 &  1227508 & 7.1 &  2000 & Tommy Pallotta      & Richard Linklater  & Jean Caffeine     \\\\\n",
       "\t Dutch Kills                        & 2015 & Joseph Mazzella    &  90 & Color           & Crime\\textbar{}Drama\\textbar{}Thriller                & USA & Outros              &    25000 &       NA & 4.8 &    33 & Tjasa Ferme         & Mikaal Bates       & Damon Owlia       \\\\\n",
       "\t Dry Spell                          & 2013 & Travis Legge       &  90 & Color           & Comedy\\textbar{}Romance                      & USA & Outros              &    22000 &       NA & 3.3 &   200 & Kristen Seavey      & Suzi Lorraine      & Travis Legge      \\\\\n",
       "\t Flywheel                           & 2003 & Alex Kendrick      & 120 & Color           & Drama                               & USA & Outros              &    20000 &       NA & 6.9 &   725 & Shannen Fields      & Lisa Arnold        & Janet Lee Dapper  \\\\\n",
       "\t Exeter                             & 2015 & Marcus Nispel      &  91 & Color           & Horror\\textbar{}Mystery\\textbar{}Thriller             & USA & A partir de 18 anos &       NA &       NA & 4.6 &     0 & Ashley Tramonte     & Brittany Curran    & Lindsay MacDonald \\\\\n",
       "\t The Ridges                         & 2011 & Brandon Landers    & 143 & NA              & Drama\\textbar{}Horror\\textbar{}Thriller               & USA & Outros              &    17350 &       NA & 3.0 &    33 & Robbie Barnes       & Alana Kaniewski    & Brandon Landers   \\\\\n",
       "\t The Puffy Chair                    & 2005 & Jay Duplass        &  85 & Color           & Comedy\\textbar{}Drama\\textbar{}Romance                & USA & A partir de 18 anos &    15000 &   192467 & 6.6 &   297 & Mark Duplass        & Katie Aselton      & Bari Hyman        \\\\\n",
       "\t Breaking Upwards                   & 2009 & Daryl Wein         &  88 & Color           & Romance                             & USA & Outros              &    15000 &    76382 & 6.2 &   324 & Zoe Lister-Jones    & Heather Burns      & Ebon Moss-Bachrach\\\\\n",
       "\t All Superheroes Must Die           & 2011 & Jason Trost        &  78 & Color           & Sci-Fi\\textbar{}Thriller                     & USA & Outros              &    20000 &       NA & 4.0 &   835 & Sean Whalen         & Jason Trost        & Nick Principe     \\\\\n",
       "\t Pink Flamingos                     & 1972 & John Waters        & 108 & Color           & Comedy\\textbar{}Crime\\textbar{}Horror                 & USA & A partir de 18 anos &    10000 &   180483 & 6.1 &     0 & Divine              & Mink Stole         & Edith Massey      \\\\\n",
       "\t On the Downlow                     & 2004 & Tadeo Garcia       &  84 & Color           & Drama                               & USA & Outros              &       NA &       NA & 6.1 &    22 & Tatiana Suarez-Pico & Michael Cortez     & Eric Ambriz       \\\\\n",
       "\t Sanctuary; Quite a Conundrum       & 2012 & Thomas L. Phillips &  82 & Color           & Comedy\\textbar{}Horror\\textbar{}Thriller              & USA & Outros              &   200000 &       NA & 5.4 &   424 & Julianna Pitt       & Joe Coffey         & John Lucas        \\\\\n",
       "\t Bang                               & 1995 & Ash Baron-Cohen    &  98 & Color           & Crime\\textbar{}Drama                         & USA & Outros              &       NA &       NA & 6.4 &    20 & Peter Greene        & Stanley B. Herman  & James Noble       \\\\\n",
       "\t Primer                             & 2004 & Shane Carruth      &  77 & Color           & Drama\\textbar{}Sci-Fi\\textbar{}Thriller               & USA & A partir de 13 anos &     7000 &   424760 & 7.0 & 19000 & Shane Carruth       & David Sullivan     & Casey Gooden      \\\\\n",
       "\t El Mariachi                        & 1992 & Robert Rodriguez   &  81 & Color           & Action\\textbar{}Crime\\textbar{}Drama\\textbar{}Romance\\textbar{}Thriller & USA & A partir de 18 anos &     7000 &  2040920 & 6.9 &     0 & Carlos Gallardo     & Peter Marquardt    & Consuelo Gómez    \\\\\n",
       "\t The Mongol King                    & 2005 & Anthony Vallone    &  84 & Color           & Crime\\textbar{}Drama                         & USA & A partir de 13 anos &     3250 &       NA & 7.8 &     4 & Richard Jewell      & John Considine     & Sara Stepnicka    \\\\\n",
       "\t Newlyweds                          & 2011 & Edward Burns       &  95 & Color           & Comedy\\textbar{}Drama                        & USA & Outros              &     9000 &     4584 & 6.4 &   413 & Kerry Bishé         & Caitlin FitzGerald & Daniella Pineda   \\\\\n",
       "\t The Following                      &   NA & NA                 &  43 & Color           & Crime\\textbar{}Drama\\textbar{}Mystery\\textbar{}Thriller        & USA & Outros              &       NA &       NA & 7.5 & 32000 & Natalie Zea         & Valorie Curry      & Sam Underwood     \\\\\n",
       "\t A Plague So Pleasant               & 2013 & Benjamin Roberds   &  76 & Color           & Drama\\textbar{}Horror\\textbar{}Thriller               & USA & Outros              &     1400 &       NA & 6.3 &    16 & Eva Boehnke         & Maxwell Moody      & David Chandler    \\\\\n",
       "\t Shanghai Calling                   & 2012 & Daniel Hsia        & 100 & Color           & Comedy\\textbar{}Drama\\textbar{}Romance                & USA & A partir de 13 anos &       NA &    10443 & 6.3 &   660 & Alan Ruck           & Daniel Henney      & Eliza Coupe       \\\\\n",
       "\t My Date with Drew                  & 2004 & Jon Gunn           &  90 & Color           & Documentary                         & USA & Livre               &     1100 &    85222 & 6.6 &   456 & John August         & Brian Herzlinger   & Jon Gunn          \\\\\n",
       "\\end{tabular}\n"
      ],
      "text/markdown": [
       "\n",
       "A tibble: 3807 × 15\n",
       "\n",
       "| titulo &lt;chr&gt; | ano &lt;dbl&gt; | diretor &lt;chr&gt; | duracao &lt;dbl&gt; | cor &lt;chr&gt; | generos &lt;chr&gt; | pais &lt;chr&gt; | classificacao &lt;chr&gt; | orcamento &lt;dbl&gt; | receita &lt;dbl&gt; | nota_imdb &lt;dbl&gt; | likes_facebook &lt;dbl&gt; | ator_1 &lt;chr&gt; | ator_2 &lt;chr&gt; | ator_3 &lt;chr&gt; |\n",
       "|---|---|---|---|---|---|---|---|---|---|---|---|---|---|---|\n",
       "| Avatar                                       | 2009 | James Cameron     | 178 | Color | Action|Adventure|Fantasy|Sci-Fi                           | USA | A partir de 13 anos | 237000000 | 760505847 | 7.9 |  33000 | CCH Pounder         | Joel David Moore     | Wes Studi            |\n",
       "| Pirates of the Caribbean: At World's End     | 2007 | Gore Verbinski    | 169 | Color | Action|Adventure|Fantasy                                  | USA | A partir de 13 anos | 300000000 | 309404152 | 7.1 |      0 | Johnny Depp         | Orlando Bloom        | Jack Davenport       |\n",
       "| The Dark Knight Rises                        | 2012 | Christopher Nolan | 164 | Color | Action|Thriller                                           | USA | A partir de 13 anos | 250000000 | 448130642 | 8.5 | 164000 | Tom Hardy           | Christian Bale       | Joseph Gordon-Levitt |\n",
       "| John Carter                                  | 2012 | Andrew Stanton    | 132 | Color | Action|Adventure|Sci-Fi                                   | USA | A partir de 13 anos | 263700000 |  73058679 | 6.6 |  24000 | Daryl Sabara        | Samantha Morton      | Polly Walker         |\n",
       "| Spider-Man 3                                 | 2007 | Sam Raimi         | 156 | Color | Action|Adventure|Romance                                  | USA | A partir de 13 anos | 258000000 | 336530303 | 6.2 |      0 | J.K. Simmons        | James Franco         | Kirsten Dunst        |\n",
       "| Tangled                                      | 2010 | Nathan Greno      | 100 | Color | Adventure|Animation|Comedy|Family|Fantasy|Musical|Romance | USA | Livre               | 260000000 | 200807262 | 7.8 |  29000 | Brad Garrett        | Donna Murphy         | M.C. Gainey          |\n",
       "| Avengers: Age of Ultron                      | 2015 | Joss Whedon       | 141 | Color | Action|Adventure|Sci-Fi                                   | USA | A partir de 13 anos | 250000000 | 458991599 | 7.5 | 118000 | Chris Hemsworth     | Robert Downey Jr.    | Scarlett Johansson   |\n",
       "| Batman v Superman: Dawn of Justice           | 2016 | Zack Snyder       | 183 | Color | Action|Adventure|Sci-Fi                                   | USA | A partir de 13 anos | 250000000 | 330249062 | 6.9 | 197000 | Henry Cavill        | Lauren Cohan         | Alan D. Purwin       |\n",
       "| Superman Returns                             | 2006 | Bryan Singer      | 169 | Color | Action|Adventure|Sci-Fi                                   | USA | A partir de 13 anos | 209000000 | 200069408 | 6.1 |      0 | Kevin Spacey        | Marlon Brando        | Frank Langella       |\n",
       "| Pirates of the Caribbean: Dead Man's Chest   | 2006 | Gore Verbinski    | 151 | Color | Action|Adventure|Fantasy                                  | USA | A partir de 13 anos | 225000000 | 423032628 | 7.3 |   5000 | Johnny Depp         | Orlando Bloom        | Jack Davenport       |\n",
       "| The Lone Ranger                              | 2013 | Gore Verbinski    | 150 | Color | Action|Adventure|Western                                  | USA | A partir de 13 anos | 215000000 |  89289910 | 6.5 |  48000 | Johnny Depp         | Ruth Wilson          | Tom Wilkinson        |\n",
       "| Man of Steel                                 | 2013 | Zack Snyder       | 143 | Color | Action|Adventure|Fantasy|Sci-Fi                           | USA | A partir de 13 anos | 225000000 | 291021565 | 7.2 | 118000 | Henry Cavill        | Christopher Meloni   | Harry Lennix         |\n",
       "| The Chronicles of Narnia: Prince Caspian     | 2008 | Andrew Adamson    | 150 | Color | Action|Adventure|Family|Fantasy                           | USA | Livre               | 225000000 | 141614023 | 6.6 |      0 | Peter Dinklage      | Pierfrancesco Favino | Damián Alcázar       |\n",
       "| The Avengers                                 | 2012 | Joss Whedon       | 173 | Color | Action|Adventure|Sci-Fi                                   | USA | A partir de 13 anos | 220000000 | 623279547 | 8.1 | 123000 | Chris Hemsworth     | Robert Downey Jr.    | Scarlett Johansson   |\n",
       "| Pirates of the Caribbean: On Stranger Tides  | 2011 | Rob Marshall      | 136 | Color | Action|Adventure|Fantasy                                  | USA | A partir de 13 anos | 250000000 | 241063875 | 6.7 |  58000 | Johnny Depp         | Sam Claflin          | Stephen Graham       |\n",
       "| Men in Black 3                               | 2012 | Barry Sonnenfeld  | 106 | Color | Action|Adventure|Comedy|Family|Fantasy|Sci-Fi             | USA | A partir de 13 anos | 225000000 | 179020854 | 6.8 |  40000 | Will Smith          | Michael Stuhlbarg    | Nicole Scherzinger   |\n",
       "| The Amazing Spider-Man                       | 2012 | Marc Webb         | 153 | Color | Action|Adventure|Fantasy                                  | USA | A partir de 13 anos | 230000000 | 262030663 | 7.0 |  56000 | Emma Stone          | Andrew Garfield      | Chris Zylka          |\n",
       "| Robin Hood                                   | 2010 | Ridley Scott      | 156 | Color | Action|Adventure|Drama|History                            | USA | A partir de 13 anos | 200000000 | 105219735 | 6.7 |  17000 | Mark Addy           | William Hurt         | Scott Grimes         |\n",
       "| The Hobbit: The Desolation of Smaug          | 2013 | Peter Jackson     | 186 | Color | Adventure|Fantasy                                         | USA | A partir de 13 anos | 225000000 | 258355354 | 7.9 |  83000 | Aidan Turner        | Adam Brown           | James Nesbitt        |\n",
       "| The Golden Compass                           | 2007 | Chris Weitz       | 113 | Color | Adventure|Family|Fantasy                                  | USA | A partir de 13 anos | 180000000 |  70083519 | 6.1 |      0 | Christopher Lee     | Eva Green            | Kristin Scott Thomas |\n",
       "| Titanic                                      | 1997 | James Cameron     | 194 | Color | Drama|Romance                                             | USA | A partir de 13 anos | 200000000 | 658672302 | 7.7 |  26000 | Leonardo DiCaprio   | Kate Winslet         | Gloria Stuart        |\n",
       "| Captain America: Civil War                   | 2016 | Anthony Russo     | 147 | Color | Action|Adventure|Sci-Fi                                   | USA | A partir de 13 anos | 250000000 | 407197282 | 8.2 |  72000 | Robert Downey Jr.   | Scarlett Johansson   | Chris Evans          |\n",
       "| Battleship                                   | 2012 | Peter Berg        | 131 | Color | Action|Adventure|Sci-Fi|Thriller                          | USA | A partir de 13 anos | 209000000 |  65173160 | 5.9 |  44000 | Liam Neeson         | Alexander Skarsgård  | Tadanobu Asano       |\n",
       "| Jurassic World                               | 2015 | Colin Trevorrow   | 124 | Color | Action|Adventure|Sci-Fi|Thriller                          | USA | A partir de 13 anos | 150000000 | 652177271 | 7.0 | 150000 | Bryce Dallas Howard | Judy Greer           | Omar Sy              |\n",
       "| Spider-Man 2                                 | 2004 | Sam Raimi         | 135 | Color | Action|Adventure|Fantasy|Romance                          | USA | A partir de 13 anos | 200000000 | 373377893 | 7.3 |      0 | J.K. Simmons        | James Franco         | Kirsten Dunst        |\n",
       "| Iron Man 3                                   | 2013 | Shane Black       | 195 | Color | Action|Adventure|Sci-Fi                                   | USA | A partir de 13 anos | 200000000 | 408992272 | 7.2 |  95000 | Robert Downey Jr.   | Jon Favreau          | Don Cheadle          |\n",
       "| Alice in Wonderland                          | 2010 | Tim Burton        | 108 | Color | Adventure|Family|Fantasy                                  | USA | Livre               | 200000000 | 334185206 | 6.5 |  24000 | Johnny Depp         | Alan Rickman         | Anne Hathaway        |\n",
       "| Monsters University                          | 2013 | Dan Scanlon       | 104 | Color | Adventure|Animation|Comedy|Family|Fantasy                 | USA | Outros              | 200000000 | 268488329 | 7.3 |  44000 | Steve Buscemi       | Tyler Labine         | Sean Hayes           |\n",
       "| Transformers: Revenge of the Fallen          | 2009 | Michael Bay       | 150 | Color | Action|Adventure|Sci-Fi                                   | USA | A partir de 13 anos | 200000000 | 402076689 | 6.0 |      0 | Glenn Morshower     | Kevin Dunn           | Ramon Rodriguez      |\n",
       "| Transformers: Age of Extinction              | 2014 | Michael Bay       | 165 | Color | Action|Adventure|Sci-Fi                                   | USA | A partir de 13 anos | 210000000 | 245428137 | 5.7 |  56000 | Bingbing Li         | Sophia Myles         | Kelsey Grammer       |\n",
       "| ... | ... | ... | ... | ... | ... | ... | ... | ... | ... | ... | ... | ... | ... | ... |\n",
       "| The Exploding Girl                 | 2009 | Bradley Rust Gray  |  79 | Color           | Drama                               | USA | Outros              |       NA |    24705 | 6.3 |   377 | Zoe Kazan           | Mark Rendall       | Jordan Scovel      |\n",
       "| The Legend of God's Gun            | 2007 | Mike Bruce         |  78 | Color           | Western                             | USA | A partir de 18 anos |    30000 |   243768 | 4.1 |    13 | Joseph Campanella   | Kirpatrick Thomas  | Christian Anderson |\n",
       "| Mutual Appreciation                | 2005 | Andrew Bujalski    | 109 | Black and White | Comedy                              | USA | A partir de 18 anos |       NA |       NA | 6.9 |    91 | Andrew Bujalski     | Kate Dollenmayer   | Justin Rice        |\n",
       "| Her Cry: La Llorona Investigation  | 2013 | Damir Catic        |  89 | Color           | Horror                              | USA | Outros              |    60000 |       NA | 5.4 |    48 | Nichole Ceballos    | Ron Gelner         | Parker Riggs       |\n",
       "| Clerks                             | 1994 | Kevin Smith        | 102 | Black and White | Comedy                              | USA | A partir de 18 anos |   230000 |  3151130 | 7.8 |     0 | Jason Mewes         | Brian O'Halloran   | Jeff Anderson      |\n",
       "| Pink Narcissus                     | 1971 | James Bidgood      |  65 | Color           | Drama|Fantasy                       | USA | Outros              |    27000 |     8231 | 6.7 |    85 | Don Brooks          | Bobby Kendall      | NA                 |\n",
       "| Funny Ha Ha                        | 2002 | Andrew Bujalski    |  85 | Color           | Comedy|Drama                        | USA | Outros              |       NA |       NA | 6.4 |   108 | Andrew Bujalski     | Kate Dollenmayer   | Justin Rice        |\n",
       "| Sabotage                           | 2014 | David Ayer         | 109 | Color           | Action|Crime|Drama|Thriller         | USA | A partir de 18 anos | 35000000 | 10499968 | 5.7 | 10000 | Mireille Enos       | Martin Donovan     | Maurice Compte     |\n",
       "| Manito                             | 2002 | Eric Eason         |  79 | Color           | Drama|Family                        | USA | Outros              |    24000 |       NA | 7.0 |    61 | Franky G            | Panchito Gómez     | Casper Martinez    |\n",
       "| Slacker                            | 1991 | Richard Linklater  | 100 | Black and White | Comedy|Drama                        | USA | A partir de 18 anos |    23000 |  1227508 | 7.1 |  2000 | Tommy Pallotta      | Richard Linklater  | Jean Caffeine      |\n",
       "| Dutch Kills                        | 2015 | Joseph Mazzella    |  90 | Color           | Crime|Drama|Thriller                | USA | Outros              |    25000 |       NA | 4.8 |    33 | Tjasa Ferme         | Mikaal Bates       | Damon Owlia        |\n",
       "| Dry Spell                          | 2013 | Travis Legge       |  90 | Color           | Comedy|Romance                      | USA | Outros              |    22000 |       NA | 3.3 |   200 | Kristen Seavey      | Suzi Lorraine      | Travis Legge       |\n",
       "| Flywheel                           | 2003 | Alex Kendrick      | 120 | Color           | Drama                               | USA | Outros              |    20000 |       NA | 6.9 |   725 | Shannen Fields      | Lisa Arnold        | Janet Lee Dapper   |\n",
       "| Exeter                             | 2015 | Marcus Nispel      |  91 | Color           | Horror|Mystery|Thriller             | USA | A partir de 18 anos |       NA |       NA | 4.6 |     0 | Ashley Tramonte     | Brittany Curran    | Lindsay MacDonald  |\n",
       "| The Ridges                         | 2011 | Brandon Landers    | 143 | NA              | Drama|Horror|Thriller               | USA | Outros              |    17350 |       NA | 3.0 |    33 | Robbie Barnes       | Alana Kaniewski    | Brandon Landers    |\n",
       "| The Puffy Chair                    | 2005 | Jay Duplass        |  85 | Color           | Comedy|Drama|Romance                | USA | A partir de 18 anos |    15000 |   192467 | 6.6 |   297 | Mark Duplass        | Katie Aselton      | Bari Hyman         |\n",
       "| Breaking Upwards                   | 2009 | Daryl Wein         |  88 | Color           | Romance                             | USA | Outros              |    15000 |    76382 | 6.2 |   324 | Zoe Lister-Jones    | Heather Burns      | Ebon Moss-Bachrach |\n",
       "| All Superheroes Must Die           | 2011 | Jason Trost        |  78 | Color           | Sci-Fi|Thriller                     | USA | Outros              |    20000 |       NA | 4.0 |   835 | Sean Whalen         | Jason Trost        | Nick Principe      |\n",
       "| Pink Flamingos                     | 1972 | John Waters        | 108 | Color           | Comedy|Crime|Horror                 | USA | A partir de 18 anos |    10000 |   180483 | 6.1 |     0 | Divine              | Mink Stole         | Edith Massey       |\n",
       "| On the Downlow                     | 2004 | Tadeo Garcia       |  84 | Color           | Drama                               | USA | Outros              |       NA |       NA | 6.1 |    22 | Tatiana Suarez-Pico | Michael Cortez     | Eric Ambriz        |\n",
       "| Sanctuary; Quite a Conundrum       | 2012 | Thomas L. Phillips |  82 | Color           | Comedy|Horror|Thriller              | USA | Outros              |   200000 |       NA | 5.4 |   424 | Julianna Pitt       | Joe Coffey         | John Lucas         |\n",
       "| Bang                               | 1995 | Ash Baron-Cohen    |  98 | Color           | Crime|Drama                         | USA | Outros              |       NA |       NA | 6.4 |    20 | Peter Greene        | Stanley B. Herman  | James Noble        |\n",
       "| Primer                             | 2004 | Shane Carruth      |  77 | Color           | Drama|Sci-Fi|Thriller               | USA | A partir de 13 anos |     7000 |   424760 | 7.0 | 19000 | Shane Carruth       | David Sullivan     | Casey Gooden       |\n",
       "| El Mariachi                        | 1992 | Robert Rodriguez   |  81 | Color           | Action|Crime|Drama|Romance|Thriller | USA | A partir de 18 anos |     7000 |  2040920 | 6.9 |     0 | Carlos Gallardo     | Peter Marquardt    | Consuelo Gómez     |\n",
       "| The Mongol King                    | 2005 | Anthony Vallone    |  84 | Color           | Crime|Drama                         | USA | A partir de 13 anos |     3250 |       NA | 7.8 |     4 | Richard Jewell      | John Considine     | Sara Stepnicka     |\n",
       "| Newlyweds                          | 2011 | Edward Burns       |  95 | Color           | Comedy|Drama                        | USA | Outros              |     9000 |     4584 | 6.4 |   413 | Kerry Bishé         | Caitlin FitzGerald | Daniella Pineda    |\n",
       "| The Following                      |   NA | NA                 |  43 | Color           | Crime|Drama|Mystery|Thriller        | USA | Outros              |       NA |       NA | 7.5 | 32000 | Natalie Zea         | Valorie Curry      | Sam Underwood      |\n",
       "| A Plague So Pleasant               | 2013 | Benjamin Roberds   |  76 | Color           | Drama|Horror|Thriller               | USA | Outros              |     1400 |       NA | 6.3 |    16 | Eva Boehnke         | Maxwell Moody      | David Chandler     |\n",
       "| Shanghai Calling                   | 2012 | Daniel Hsia        | 100 | Color           | Comedy|Drama|Romance                | USA | A partir de 13 anos |       NA |    10443 | 6.3 |   660 | Alan Ruck           | Daniel Henney      | Eliza Coupe        |\n",
       "| My Date with Drew                  | 2004 | Jon Gunn           |  90 | Color           | Documentary                         | USA | Livre               |     1100 |    85222 | 6.6 |   456 | John August         | Brian Herzlinger   | Jon Gunn           |\n",
       "\n"
      ],
      "text/plain": [
       "     titulo                                       ano  diretor           \n",
       "1    Avatar                                       2009 James Cameron     \n",
       "2    Pirates of the Caribbean: At World's End     2007 Gore Verbinski    \n",
       "3    The Dark Knight Rises                        2012 Christopher Nolan \n",
       "4    John Carter                                  2012 Andrew Stanton    \n",
       "5    Spider-Man 3                                 2007 Sam Raimi         \n",
       "6    Tangled                                      2010 Nathan Greno      \n",
       "7    Avengers: Age of Ultron                      2015 Joss Whedon       \n",
       "8    Batman v Superman: Dawn of Justice           2016 Zack Snyder       \n",
       "9    Superman Returns                             2006 Bryan Singer      \n",
       "10   Pirates of the Caribbean: Dead Man's Chest   2006 Gore Verbinski    \n",
       "11   The Lone Ranger                              2013 Gore Verbinski    \n",
       "12   Man of Steel                                 2013 Zack Snyder       \n",
       "13   The Chronicles of Narnia: Prince Caspian     2008 Andrew Adamson    \n",
       "14   The Avengers                                 2012 Joss Whedon       \n",
       "15   Pirates of the Caribbean: On Stranger Tides  2011 Rob Marshall      \n",
       "16   Men in Black 3                               2012 Barry Sonnenfeld  \n",
       "17   The Amazing Spider-Man                       2012 Marc Webb         \n",
       "18   Robin Hood                                   2010 Ridley Scott      \n",
       "19   The Hobbit: The Desolation of Smaug          2013 Peter Jackson     \n",
       "20   The Golden Compass                           2007 Chris Weitz       \n",
       "21   Titanic                                      1997 James Cameron     \n",
       "22   Captain America: Civil War                   2016 Anthony Russo     \n",
       "23   Battleship                                   2012 Peter Berg        \n",
       "24   Jurassic World                               2015 Colin Trevorrow   \n",
       "25   Spider-Man 2                                 2004 Sam Raimi         \n",
       "26   Iron Man 3                                   2013 Shane Black       \n",
       "27   Alice in Wonderland                          2010 Tim Burton        \n",
       "28   Monsters University                          2013 Dan Scanlon       \n",
       "29   Transformers: Revenge of the Fallen          2009 Michael Bay       \n",
       "30   Transformers: Age of Extinction              2014 Michael Bay       \n",
       "...  ...                                          ...  ...               \n",
       "3778 The Exploding Girl                           2009 Bradley Rust Gray \n",
       "3779 The Legend of God's Gun                      2007 Mike Bruce        \n",
       "3780 Mutual Appreciation                          2005 Andrew Bujalski   \n",
       "3781 Her Cry: La Llorona Investigation            2013 Damir Catic       \n",
       "3782 Clerks                                       1994 Kevin Smith       \n",
       "3783 Pink Narcissus                               1971 James Bidgood     \n",
       "3784 Funny Ha Ha                                  2002 Andrew Bujalski   \n",
       "3785 Sabotage                                     2014 David Ayer        \n",
       "3786 Manito                                       2002 Eric Eason        \n",
       "3787 Slacker                                      1991 Richard Linklater \n",
       "3788 Dutch Kills                                  2015 Joseph Mazzella   \n",
       "3789 Dry Spell                                    2013 Travis Legge      \n",
       "3790 Flywheel                                     2003 Alex Kendrick     \n",
       "3791 Exeter                                       2015 Marcus Nispel     \n",
       "3792 The Ridges                                   2011 Brandon Landers   \n",
       "3793 The Puffy Chair                              2005 Jay Duplass       \n",
       "3794 Breaking Upwards                             2009 Daryl Wein        \n",
       "3795 All Superheroes Must Die                     2011 Jason Trost       \n",
       "3796 Pink Flamingos                               1972 John Waters       \n",
       "3797 On the Downlow                               2004 Tadeo Garcia      \n",
       "3798 Sanctuary; Quite a Conundrum                 2012 Thomas L. Phillips\n",
       "3799 Bang                                         1995 Ash Baron-Cohen   \n",
       "3800 Primer                                       2004 Shane Carruth     \n",
       "3801 El Mariachi                                  1992 Robert Rodriguez  \n",
       "3802 The Mongol King                              2005 Anthony Vallone   \n",
       "3803 Newlyweds                                    2011 Edward Burns      \n",
       "3804 The Following                                  NA NA                \n",
       "3805 A Plague So Pleasant                         2013 Benjamin Roberds  \n",
       "3806 Shanghai Calling                             2012 Daniel Hsia       \n",
       "3807 My Date with Drew                            2004 Jon Gunn          \n",
       "     duracao cor            \n",
       "1    178     Color          \n",
       "2    169     Color          \n",
       "3    164     Color          \n",
       "4    132     Color          \n",
       "5    156     Color          \n",
       "6    100     Color          \n",
       "7    141     Color          \n",
       "8    183     Color          \n",
       "9    169     Color          \n",
       "10   151     Color          \n",
       "11   150     Color          \n",
       "12   143     Color          \n",
       "13   150     Color          \n",
       "14   173     Color          \n",
       "15   136     Color          \n",
       "16   106     Color          \n",
       "17   153     Color          \n",
       "18   156     Color          \n",
       "19   186     Color          \n",
       "20   113     Color          \n",
       "21   194     Color          \n",
       "22   147     Color          \n",
       "23   131     Color          \n",
       "24   124     Color          \n",
       "25   135     Color          \n",
       "26   195     Color          \n",
       "27   108     Color          \n",
       "28   104     Color          \n",
       "29   150     Color          \n",
       "30   165     Color          \n",
       "...  ...     ...            \n",
       "3778  79     Color          \n",
       "3779  78     Color          \n",
       "3780 109     Black and White\n",
       "3781  89     Color          \n",
       "3782 102     Black and White\n",
       "3783  65     Color          \n",
       "3784  85     Color          \n",
       "3785 109     Color          \n",
       "3786  79     Color          \n",
       "3787 100     Black and White\n",
       "3788  90     Color          \n",
       "3789  90     Color          \n",
       "3790 120     Color          \n",
       "3791  91     Color          \n",
       "3792 143     NA             \n",
       "3793  85     Color          \n",
       "3794  88     Color          \n",
       "3795  78     Color          \n",
       "3796 108     Color          \n",
       "3797  84     Color          \n",
       "3798  82     Color          \n",
       "3799  98     Color          \n",
       "3800  77     Color          \n",
       "3801  81     Color          \n",
       "3802  84     Color          \n",
       "3803  95     Color          \n",
       "3804  43     Color          \n",
       "3805  76     Color          \n",
       "3806 100     Color          \n",
       "3807  90     Color          \n",
       "     generos                                                   pais\n",
       "1    Action|Adventure|Fantasy|Sci-Fi                           USA \n",
       "2    Action|Adventure|Fantasy                                  USA \n",
       "3    Action|Thriller                                           USA \n",
       "4    Action|Adventure|Sci-Fi                                   USA \n",
       "5    Action|Adventure|Romance                                  USA \n",
       "6    Adventure|Animation|Comedy|Family|Fantasy|Musical|Romance USA \n",
       "7    Action|Adventure|Sci-Fi                                   USA \n",
       "8    Action|Adventure|Sci-Fi                                   USA \n",
       "9    Action|Adventure|Sci-Fi                                   USA \n",
       "10   Action|Adventure|Fantasy                                  USA \n",
       "11   Action|Adventure|Western                                  USA \n",
       "12   Action|Adventure|Fantasy|Sci-Fi                           USA \n",
       "13   Action|Adventure|Family|Fantasy                           USA \n",
       "14   Action|Adventure|Sci-Fi                                   USA \n",
       "15   Action|Adventure|Fantasy                                  USA \n",
       "16   Action|Adventure|Comedy|Family|Fantasy|Sci-Fi             USA \n",
       "17   Action|Adventure|Fantasy                                  USA \n",
       "18   Action|Adventure|Drama|History                            USA \n",
       "19   Adventure|Fantasy                                         USA \n",
       "20   Adventure|Family|Fantasy                                  USA \n",
       "21   Drama|Romance                                             USA \n",
       "22   Action|Adventure|Sci-Fi                                   USA \n",
       "23   Action|Adventure|Sci-Fi|Thriller                          USA \n",
       "24   Action|Adventure|Sci-Fi|Thriller                          USA \n",
       "25   Action|Adventure|Fantasy|Romance                          USA \n",
       "26   Action|Adventure|Sci-Fi                                   USA \n",
       "27   Adventure|Family|Fantasy                                  USA \n",
       "28   Adventure|Animation|Comedy|Family|Fantasy                 USA \n",
       "29   Action|Adventure|Sci-Fi                                   USA \n",
       "30   Action|Adventure|Sci-Fi                                   USA \n",
       "...  ...                                                       ... \n",
       "3778 Drama                                                     USA \n",
       "3779 Western                                                   USA \n",
       "3780 Comedy                                                    USA \n",
       "3781 Horror                                                    USA \n",
       "3782 Comedy                                                    USA \n",
       "3783 Drama|Fantasy                                             USA \n",
       "3784 Comedy|Drama                                              USA \n",
       "3785 Action|Crime|Drama|Thriller                               USA \n",
       "3786 Drama|Family                                              USA \n",
       "3787 Comedy|Drama                                              USA \n",
       "3788 Crime|Drama|Thriller                                      USA \n",
       "3789 Comedy|Romance                                            USA \n",
       "3790 Drama                                                     USA \n",
       "3791 Horror|Mystery|Thriller                                   USA \n",
       "3792 Drama|Horror|Thriller                                     USA \n",
       "3793 Comedy|Drama|Romance                                      USA \n",
       "3794 Romance                                                   USA \n",
       "3795 Sci-Fi|Thriller                                           USA \n",
       "3796 Comedy|Crime|Horror                                       USA \n",
       "3797 Drama                                                     USA \n",
       "3798 Comedy|Horror|Thriller                                    USA \n",
       "3799 Crime|Drama                                               USA \n",
       "3800 Drama|Sci-Fi|Thriller                                     USA \n",
       "3801 Action|Crime|Drama|Romance|Thriller                       USA \n",
       "3802 Crime|Drama                                               USA \n",
       "3803 Comedy|Drama                                              USA \n",
       "3804 Crime|Drama|Mystery|Thriller                              USA \n",
       "3805 Drama|Horror|Thriller                                     USA \n",
       "3806 Comedy|Drama|Romance                                      USA \n",
       "3807 Documentary                                               USA \n",
       "     classificacao       orcamento receita   nota_imdb likes_facebook\n",
       "1    A partir de 13 anos 237000000 760505847 7.9        33000        \n",
       "2    A partir de 13 anos 300000000 309404152 7.1            0        \n",
       "3    A partir de 13 anos 250000000 448130642 8.5       164000        \n",
       "4    A partir de 13 anos 263700000  73058679 6.6        24000        \n",
       "5    A partir de 13 anos 258000000 336530303 6.2            0        \n",
       "6    Livre               260000000 200807262 7.8        29000        \n",
       "7    A partir de 13 anos 250000000 458991599 7.5       118000        \n",
       "8    A partir de 13 anos 250000000 330249062 6.9       197000        \n",
       "9    A partir de 13 anos 209000000 200069408 6.1            0        \n",
       "10   A partir de 13 anos 225000000 423032628 7.3         5000        \n",
       "11   A partir de 13 anos 215000000  89289910 6.5        48000        \n",
       "12   A partir de 13 anos 225000000 291021565 7.2       118000        \n",
       "13   Livre               225000000 141614023 6.6            0        \n",
       "14   A partir de 13 anos 220000000 623279547 8.1       123000        \n",
       "15   A partir de 13 anos 250000000 241063875 6.7        58000        \n",
       "16   A partir de 13 anos 225000000 179020854 6.8        40000        \n",
       "17   A partir de 13 anos 230000000 262030663 7.0        56000        \n",
       "18   A partir de 13 anos 200000000 105219735 6.7        17000        \n",
       "19   A partir de 13 anos 225000000 258355354 7.9        83000        \n",
       "20   A partir de 13 anos 180000000  70083519 6.1            0        \n",
       "21   A partir de 13 anos 200000000 658672302 7.7        26000        \n",
       "22   A partir de 13 anos 250000000 407197282 8.2        72000        \n",
       "23   A partir de 13 anos 209000000  65173160 5.9        44000        \n",
       "24   A partir de 13 anos 150000000 652177271 7.0       150000        \n",
       "25   A partir de 13 anos 200000000 373377893 7.3            0        \n",
       "26   A partir de 13 anos 200000000 408992272 7.2        95000        \n",
       "27   Livre               200000000 334185206 6.5        24000        \n",
       "28   Outros              200000000 268488329 7.3        44000        \n",
       "29   A partir de 13 anos 200000000 402076689 6.0            0        \n",
       "30   A partir de 13 anos 210000000 245428137 5.7        56000        \n",
       "...  ...                 ...       ...       ...       ...           \n",
       "3778 Outros                    NA     24705  6.3         377         \n",
       "3779 A partir de 18 anos    30000    243768  4.1          13         \n",
       "3780 A partir de 18 anos       NA        NA  6.9          91         \n",
       "3781 Outros                 60000        NA  5.4          48         \n",
       "3782 A partir de 18 anos   230000   3151130  7.8           0         \n",
       "3783 Outros                 27000      8231  6.7          85         \n",
       "3784 Outros                    NA        NA  6.4         108         \n",
       "3785 A partir de 18 anos 35000000  10499968  5.7       10000         \n",
       "3786 Outros                 24000        NA  7.0          61         \n",
       "3787 A partir de 18 anos    23000   1227508  7.1        2000         \n",
       "3788 Outros                 25000        NA  4.8          33         \n",
       "3789 Outros                 22000        NA  3.3         200         \n",
       "3790 Outros                 20000        NA  6.9         725         \n",
       "3791 A partir de 18 anos       NA        NA  4.6           0         \n",
       "3792 Outros                 17350        NA  3.0          33         \n",
       "3793 A partir de 18 anos    15000    192467  6.6         297         \n",
       "3794 Outros                 15000     76382  6.2         324         \n",
       "3795 Outros                 20000        NA  4.0         835         \n",
       "3796 A partir de 18 anos    10000    180483  6.1           0         \n",
       "3797 Outros                    NA        NA  6.1          22         \n",
       "3798 Outros                200000        NA  5.4         424         \n",
       "3799 Outros                    NA        NA  6.4          20         \n",
       "3800 A partir de 13 anos     7000    424760  7.0       19000         \n",
       "3801 A partir de 18 anos     7000   2040920  6.9           0         \n",
       "3802 A partir de 13 anos     3250        NA  7.8           4         \n",
       "3803 Outros                  9000      4584  6.4         413         \n",
       "3804 Outros                    NA        NA  7.5       32000         \n",
       "3805 Outros                  1400        NA  6.3          16         \n",
       "3806 A partir de 13 anos       NA     10443  6.3         660         \n",
       "3807 Livre                   1100     85222  6.6         456         \n",
       "     ator_1              ator_2               ator_3              \n",
       "1    CCH Pounder         Joel David Moore     Wes Studi           \n",
       "2    Johnny Depp         Orlando Bloom        Jack Davenport      \n",
       "3    Tom Hardy           Christian Bale       Joseph Gordon-Levitt\n",
       "4    Daryl Sabara        Samantha Morton      Polly Walker        \n",
       "5    J.K. Simmons        James Franco         Kirsten Dunst       \n",
       "6    Brad Garrett        Donna Murphy         M.C. Gainey         \n",
       "7    Chris Hemsworth     Robert Downey Jr.    Scarlett Johansson  \n",
       "8    Henry Cavill        Lauren Cohan         Alan D. Purwin      \n",
       "9    Kevin Spacey        Marlon Brando        Frank Langella      \n",
       "10   Johnny Depp         Orlando Bloom        Jack Davenport      \n",
       "11   Johnny Depp         Ruth Wilson          Tom Wilkinson       \n",
       "12   Henry Cavill        Christopher Meloni   Harry Lennix        \n",
       "13   Peter Dinklage      Pierfrancesco Favino Damián Alcázar      \n",
       "14   Chris Hemsworth     Robert Downey Jr.    Scarlett Johansson  \n",
       "15   Johnny Depp         Sam Claflin          Stephen Graham      \n",
       "16   Will Smith          Michael Stuhlbarg    Nicole Scherzinger  \n",
       "17   Emma Stone          Andrew Garfield      Chris Zylka         \n",
       "18   Mark Addy           William Hurt         Scott Grimes        \n",
       "19   Aidan Turner        Adam Brown           James Nesbitt       \n",
       "20   Christopher Lee     Eva Green            Kristin Scott Thomas\n",
       "21   Leonardo DiCaprio   Kate Winslet         Gloria Stuart       \n",
       "22   Robert Downey Jr.   Scarlett Johansson   Chris Evans         \n",
       "23   Liam Neeson         Alexander Skarsgård  Tadanobu Asano      \n",
       "24   Bryce Dallas Howard Judy Greer           Omar Sy             \n",
       "25   J.K. Simmons        James Franco         Kirsten Dunst       \n",
       "26   Robert Downey Jr.   Jon Favreau          Don Cheadle         \n",
       "27   Johnny Depp         Alan Rickman         Anne Hathaway       \n",
       "28   Steve Buscemi       Tyler Labine         Sean Hayes          \n",
       "29   Glenn Morshower     Kevin Dunn           Ramon Rodriguez     \n",
       "30   Bingbing Li         Sophia Myles         Kelsey Grammer      \n",
       "...  ...                 ...                  ...                 \n",
       "3778 Zoe Kazan           Mark Rendall         Jordan Scovel       \n",
       "3779 Joseph Campanella   Kirpatrick Thomas    Christian Anderson  \n",
       "3780 Andrew Bujalski     Kate Dollenmayer     Justin Rice         \n",
       "3781 Nichole Ceballos    Ron Gelner           Parker Riggs        \n",
       "3782 Jason Mewes         Brian O'Halloran     Jeff Anderson       \n",
       "3783 Don Brooks          Bobby Kendall        NA                  \n",
       "3784 Andrew Bujalski     Kate Dollenmayer     Justin Rice         \n",
       "3785 Mireille Enos       Martin Donovan       Maurice Compte      \n",
       "3786 Franky G            Panchito Gómez       Casper Martinez     \n",
       "3787 Tommy Pallotta      Richard Linklater    Jean Caffeine       \n",
       "3788 Tjasa Ferme         Mikaal Bates         Damon Owlia         \n",
       "3789 Kristen Seavey      Suzi Lorraine        Travis Legge        \n",
       "3790 Shannen Fields      Lisa Arnold          Janet Lee Dapper    \n",
       "3791 Ashley Tramonte     Brittany Curran      Lindsay MacDonald   \n",
       "3792 Robbie Barnes       Alana Kaniewski      Brandon Landers     \n",
       "3793 Mark Duplass        Katie Aselton        Bari Hyman          \n",
       "3794 Zoe Lister-Jones    Heather Burns        Ebon Moss-Bachrach  \n",
       "3795 Sean Whalen         Jason Trost          Nick Principe       \n",
       "3796 Divine              Mink Stole           Edith Massey        \n",
       "3797 Tatiana Suarez-Pico Michael Cortez       Eric Ambriz         \n",
       "3798 Julianna Pitt       Joe Coffey           John Lucas          \n",
       "3799 Peter Greene        Stanley B. Herman    James Noble         \n",
       "3800 Shane Carruth       David Sullivan       Casey Gooden        \n",
       "3801 Carlos Gallardo     Peter Marquardt      Consuelo Gómez      \n",
       "3802 Richard Jewell      John Considine       Sara Stepnicka      \n",
       "3803 Kerry Bishé         Caitlin FitzGerald   Daniella Pineda     \n",
       "3804 Natalie Zea         Valorie Curry        Sam Underwood       \n",
       "3805 Eva Boehnke         Maxwell Moody        David Chandler      \n",
       "3806 Alan Ruck           Daniel Henney        Eliza Coupe         \n",
       "3807 John August         Brian Herzlinger     Jon Gunn            "
      ]
     },
     "metadata": {},
     "output_type": "display_data"
    }
   ],
   "source": [
    "readxl::read_excel(path = \"imdb.xlsx\")"
   ]
  },
  {
   "cell_type": "code",
   "execution_count": null,
   "metadata": {},
   "outputs": [],
   "source": []
  }
 ],
 "metadata": {
  "celltoolbar": "Slideshow",
  "kernelspec": {
   "display_name": "R",
   "language": "R",
   "name": "ir"
  },
  "language_info": {
   "codemirror_mode": "r",
   "file_extension": ".r",
   "mimetype": "text/x-r-source",
   "name": "R",
   "pygments_lexer": "r",
   "version": "4.0.2"
  }
 },
 "nbformat": 4,
 "nbformat_minor": 4
}
