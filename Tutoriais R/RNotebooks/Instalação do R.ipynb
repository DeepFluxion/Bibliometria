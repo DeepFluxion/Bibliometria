{
 "cells": [
  {
   "cell_type": "markdown",
   "metadata": {
    "slideshow": {
     "slide_type": "slide"
    }
   },
   "source": [
    "# INSTALAÇÃO DO R\n",
    "## NO WINDOWS\n",
    "\n",
    " 1. Entre [neste link](https://cran.r-project.org/bin/windows/base/) e clique em `Download 4.0.2 R for Windows`, sendo **4.0.2** o número da versão mais recente disponível.\n",
    "\n",
    " 2. Salve o arquivo em qualquer pasta do seu computador. Aqui, salvamos na pasta “Downloads”.\n",
    " "
   ]
  },
  {
   "cell_type": "markdown",
   "metadata": {
    "slideshow": {
     "slide_type": "subslide"
    }
   },
   "source": [
    "\n",
    " ![No Windows](https://d33wubrfki0l68.cloudfront.net/baa32cd11278cd2896be79e8ee0adeff83f2df37/63ae2/material/instalacao/figures/01-r-salvo.png)"
   ]
  },
  {
   "cell_type": "markdown",
   "metadata": {
    "slideshow": {
     "slide_type": "slide"
    }
   },
   "source": [
    " 3. Clique no arquivo duas vezes com o botão esquerdo. Ele pedirá para você selecionar a linguagem da instalação. Escolha um idioma e clique em “OK”.\n",
    "\n",
    " 4. Clique em “Avançar” até chegar na tela da imagem abaixo. Nessa etapa, você precisará escolher a pasta de instalação. Se você escolher um local que não está dentro da pasta do seu usuário, você precisará de acesso de administrador. Se escolher uma pasta dentro do seu usuário (como na imagem abaixo), não precisará.\n",
    " \n",
    " ![](https://d33wubrfki0l68.cloudfront.net/874ef53fc62d7faec6cfbedc2448f18dff8c3208/83e38/material/instalacao/figures/06-r-pasta.png)"
   ]
  },
  {
   "cell_type": "markdown",
   "metadata": {
    "slideshow": {
     "slide_type": "slide"
    }
   },
   "source": [
    " 5. Continue clicando em “Avançar” e, ao fim da instalação, em “Concluir”.\n",
    " \n",
    " ![](https://d33wubrfki0l68.cloudfront.net/d340a54df22f62e37566a6ff6eb6244e6d26a379/bb783/material/instalacao/figures/09-conclusao.png)"
   ]
  },
  {
   "cell_type": "markdown",
   "metadata": {
    "slideshow": {
     "slide_type": "slide"
    }
   },
   "source": [
    "### Pronto! O R está instalado no seu computador!"
   ]
  },
  {
   "cell_type": "markdown",
   "metadata": {
    "slideshow": {
     "slide_type": "slide"
    }
   },
   "source": [
    "## No Linux"
   ]
  },
  {
   "cell_type": "markdown",
   "metadata": {
    "slideshow": {
     "slide_type": "slide"
    }
   },
   "source": [
    "Como a instalação no Linux depende da distribuição utilizada e, em geral, usuário de Linux são mais experientes, vamos informar apenas as coordenadas até as instruções/arquivos de instalação para cada distribuição. Se você tiver alguma dificuldade durante o processo, procure alguma ajuda em fóruns como o Stackflow e o Github.\n",
    "\n",
    " 1. Acesse [este link](https://cran.r-project.org/) e clique em **Download R for Linux**.\n",
    "\n",
    " 2. Em seguida, clique no link referente à distribuição que você utiliza.\n",
    " \n",
    " ![](https://user-images.githubusercontent.com/8967307/45383184-db384580-b5e0-11e8-8bac-dd40a4d7e76f.png)\n",
    " \n",
    " 3. Siga as instruções contidas na página para instalar o R."
   ]
  },
  {
   "cell_type": "markdown",
   "metadata": {
    "slideshow": {
     "slide_type": "slide"
    }
   },
   "source": [
    "# INSTALAÇÃO DO RSTUDIO"
   ]
  },
  {
   "cell_type": "markdown",
   "metadata": {
    "slideshow": {
     "slide_type": "slide"
    }
   },
   "source": [
    "\n",
    "## NO WINDOWS\n",
    "Agora vamos instalar o **RStudio**, a IDE que utilizaremos para editar e executar códigos em R.\n",
    "\n",
    " 1. Entre [nesta página](https://www.rstudio.com/products/rstudio/download/).\n",
    " \n",
    " ![](https://d33wubrfki0l68.cloudfront.net/6892b7a7f8443f12c75c4c4a26a8f6f330e5c3f4/cac9e/material/instalacao/figures/rstudio-download-opt.png)"
   ]
  },
  {
   "cell_type": "markdown",
   "metadata": {
    "slideshow": {
     "slide_type": "slide"
    }
   },
   "source": [
    "# Você terá duas opções:\n",
    "\n",
    " a. Se você tiver acesso administrador, baixe a versão que está na lista de Installers for Supported Platforms. Em seguida a instalação será bem simples: fazer o download, abrir o instalador e seguir as instruções, clicando no botão “Avançar”.\n",
    "\n",
    " b. Se você não tiver acesso de administrador, faça o download da versão que está na lista Zip/Tarballs. (veja imagem acima)"
   ]
  },
  {
   "cell_type": "markdown",
   "metadata": {
    "slideshow": {
     "slide_type": "slide"
    }
   },
   "source": [
    "## INSTALANDO SE VOCÊ FOR ADMINISTRADOR\n",
    " 2a. Clique duas vezes no arquivo que você baixou da página do RStudio (ver imagem abaixo) e siga as instruções de instalação.\n",
    " \n",
    " ![](https://d33wubrfki0l68.cloudfront.net/94d5aada5f29209b06e0f11434b501bbd4a9c0d2/0a5ad/material/instalacao/figures/rstudio-instalador.png)"
   ]
  },
  {
   "cell_type": "markdown",
   "metadata": {
    "slideshow": {
     "slide_type": "slide"
    }
   },
   "source": [
    "## INSTALAÇÃO SE VOCÊ NÃO FOR ADMINISTRADOR  \n",
    "  2b. Se você não for administrador, você deve ter feito o download de um arquivo do tipo .zip, que contém o código do **RStudio**. É o arquivo selecionado na imagem abaixo.\n",
    "  \n",
    " ![](https://d33wubrfki0l68.cloudfront.net/5c2ea091b0a46ae4c600cf0e7abc7fec3df31dab/c50e1/material/instalacao/figures/rstudio-zip.png)"
   ]
  },
  {
   "cell_type": "markdown",
   "metadata": {
    "slideshow": {
     "slide_type": "slide"
    }
   },
   "source": [
    " 3. Clique com o botão direito neste arquivo e depois em Extrair Tudo conforme a imagem.\n",
    " \n",
    " ![](https://d33wubrfki0l68.cloudfront.net/ff2475b54af3451ece17d490d612a164cbd60c99/45c54/material/instalacao/figures/rstudio-extrair.png)"
   ]
  },
  {
   "cell_type": "markdown",
   "metadata": {
    "slideshow": {
     "slide_type": "slide"
    }
   },
   "source": [
    " 4. Você verá uma tela como a imagem a seguir. Não mude nada e clique em extrair. Espere o Windows completar a extração.\n",
    " \n",
    " ![](https://d33wubrfki0l68.cloudfront.net/9032639b4074c01072c7a89b8dc1a9bc75bc7b41/0404d/material/instalacao/figures/extrair-tudo-rstudio.png)"
   ]
  },
  {
   "cell_type": "markdown",
   "metadata": {
    "slideshow": {
     "slide_type": "slide"
    }
   },
   "source": [
    " 5. Agora, na pasta Downloads, a pasta que deixamos como local de extração (imagem acima), você terá uma pasta chamada: RStudio-1.0.136. Abra essa pasta e entre na subpasta com nome bin.\n",
    "\n",
    " 6. Procure pelo arquivo chamado rstudio e clique duas vezes. Isso abrirá o RStudio. Recomendo fixar o programa na barra de tarefas para não ter que ficar procurando nessa pasta sempre que quiser abri-lo.\n",
    "\n",
    "**Observação:** se você excluir a pasta que extraímos, o RStudio irá parar de funcionar.\n",
    "\n",
    "![](https://d33wubrfki0l68.cloudfront.net/cae2a2e118d30d2fbf20d43db6dbbd592a4a87ce/d88a2/material/instalacao/figures/rstudio-bin.png)"
   ]
  },
  {
   "cell_type": "markdown",
   "metadata": {
    "slideshow": {
     "slide_type": "slide"
    }
   },
   "source": [
    "# NO LINUX\n",
    "\n",
    "[Acesse este link.](https://www.rstudio.com/products/rstudio/download/#download)\n",
    "\n",
    "Clique no link referente à distribuição que você utiliza para fazer o download do arquivo de instalação.\n",
    "\n",
    "![](https://user-images.githubusercontent.com/8967307/45383704-5ea66680-b5e2-11e8-84df-35d56e7fcbaf.png)"
   ]
  },
  {
   "cell_type": "markdown",
   "metadata": {
    "slideshow": {
     "slide_type": "slide"
    }
   },
   "source": [
    "# INSTALAÇÃO DE PACOTES"
   ]
  },
  {
   "cell_type": "markdown",
   "metadata": {
    "slideshow": {
     "slide_type": "slide"
    }
   },
   "source": [
    "# INSTALAÇÃO DE PACOTES\n",
    "Um pacote é um conjunto de funções que têm como objetivo resolver um problema específico. São eles que deixam o R poderoso, capaz de enfrentar qualquer tarefa de análise de dados. Assim, fique bastante à vontade para instalar e atualizar muitos e muitos pacotes ao longo da sua experiência com o R.\n",
    "\n",
    "O legal é que qualquer pessoa pode fazer um novo pacote e disponibilizar para a comunidade, o que acelera bastante o desenvolvemento da ferramenta. Dificilmente você vai fazer uma análise apenas com as funções básicas do R e dificilmente não vai existir um pacote com as funções que você precisa.\n",
    "\n",
    "Existem três principais maneiras de instalar pacotes. Em ordem de frequência, são:\n",
    "\n",
    "Via CRAN (Comprehensive R Archive Network): `install.packages(\"nome-do-pacote\").`  \n",
    "Via Github: `devtools::install_github(\"nome-do-repo/nome-do-pacote\").`  \n",
    "Via arquivo .zip/.tar.gz: `install.packages(\"C:/caminho/nome-do-pacote.zip\", repos = NULL).`"
   ]
  },
  {
   "cell_type": "markdown",
   "metadata": {
    "slideshow": {
     "slide_type": "slide"
    }
   },
   "source": [
    "## VIA CRAN\n",
    "Instale pacotes que não estão na sua biblioteca usando a função install.packages(\"nome_do_pacote\"). Por exemplo:\n",
    "\n",
    "> `install.packages(\"magrittr\")`\n",
    "\n",
    "E, de agora em diante, não precisa mais instalar. Basta carregar o pacote com `library(magrittr)`.\n",
    "\n",
    "> Escreva nome_do_pacote::nome_da_funcao() se quiser usar apenas uma função de um determinado pacote. O operador :: serve para isso. Essa forma também é útil quando se tem duas funções com o mesmo nome e precisamos garantir que o código vá usar a função do pacote correto."
   ]
  },
  {
   "cell_type": "markdown",
   "metadata": {
    "slideshow": {
     "slide_type": "slide"
    }
   },
   "source": [
    "## VIA GITHUB\n",
    "Desenvolvedores costumam disponibilizar a última versão de seus pacotes no Github, e alguns deles sequer estão no CRAN. Mesmo assim ainda é possível utilizá-los instalando diretamente pelo github. O comando é igualmente simples:\n",
    "\n",
    "> `devtools::install_github(\"rstudio/shiny\")`\n",
    "\n",
    "Apenas será necessário o username e o nome do repositório (que geralmente tem o mesmo nome do pacote). No exemplo, o username foi “rstudio” e o repositório foi “shiny”.\n",
    "\n",
    "Se você não é familiar com o github, não se preocupe! Os pacotes disponibilizados na plataforma geralmente têm um README cuja primeira instrução é sobre a instalação. Se não tiver, provavelmente este pacote não te merece! =)"
   ]
  },
  {
   "cell_type": "markdown",
   "metadata": {
    "slideshow": {
     "slide_type": "slide"
    }
   },
   "source": [
    "## VIA ARQUIVO .ZIP OU .TAR.GZ\n",
    "Se você precisar instalar um pacote que está zipado no seu computador (ou em algum servidor), utilize o seguinte comando:\n",
    "\n",
    "> `install.packages(\"C:/caminho/para/o/arquivo/zipapo/nome-do-pacote.zip\", repos = NULL)`\n",
    "\n",
    "É semelhante a instalar pacotes via CRAN, com a diferença que agora o nome do pacote é o caminho inteiro até o arquivo. O parâmetro repos = NULL informa que estamos instalando a partir da máquina local.\n",
    "\n",
    "A aba Packages do RStudio também ajuda a administrar os seus pacotes.\n",
    "\n",
    "![](https://d33wubrfki0l68.cloudfront.net/9072417c453fc312895ff1da7d8db4ba289eaaa2/1d498/material/r-base/figures/instalar_pacote_rstudio.png)"
   ]
  },
  {
   "cell_type": "markdown",
   "metadata": {
    "slideshow": {
     "slide_type": "slide"
    }
   },
   "source": [
    "Este material foi preparado com base nos tutoriais do site [https://www.curso-r.com/material/](https://www.curso-r.com/material/) uma excelente referência tanto em material de apoio como em cursos masi avançados sobre R"
   ]
  }
 ],
 "metadata": {
  "celltoolbar": "Slideshow",
  "kernelspec": {
   "display_name": "R",
   "language": "R",
   "name": "ir"
  },
  "language_info": {
   "codemirror_mode": "r",
   "file_extension": ".r",
   "mimetype": "text/x-r-source",
   "name": "R",
   "pygments_lexer": "r",
   "version": "4.0.2"
  },
  "rise": {
   "height": "50%",
   "width": "50%"
  }
 },
 "nbformat": 4,
 "nbformat_minor": 4
}
